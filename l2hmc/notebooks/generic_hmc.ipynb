{
 "cells": [
  {
   "cell_type": "markdown",
   "metadata": {},
   "source": [
    "# Generic HMC "
   ]
  },
  {
   "cell_type": "markdown",
   "metadata": {},
   "source": [
    "### Imports"
   ]
  },
  {
   "cell_type": "code",
   "execution_count": 1,
   "metadata": {
    "ExecuteTime": {
     "end_time": "2018-11-02T23:31:08.002106Z",
     "start_time": "2018-11-02T23:30:56.757568Z"
    }
   },
   "outputs": [
    {
     "name": "stderr",
     "output_type": "stream",
     "text": [
      "Using TensorFlow backend.\n"
     ]
    }
   ],
   "source": [
    "import os\n",
    "import sys\n",
    "import numpy as np\n",
    "import tensorflow as tf\n",
    "import matplotlib.pyplot as plt\n",
    "\n",
    "module_path = os.path.abspath(os.path.join('..'))\n",
    "if module_path not in sys.path:\n",
    "    sys.path.append(module_path)\n",
    "\n",
    "from l2hmc_eager import dynamics_eager as l2hmc\n",
    "from l2hmc_eager.neural_nets import *\n",
    "from utils.distributions import Gaussian, GMM, gen_ring\n",
    "from utils.jacobian import _map, jacobian\n",
    "\n",
    "from HMC.hmc import HMC\n",
    "\n",
    "from lattice.gauge_lattice import GaugeLattice, pbc, mat_adj, u1_plaq_exact\n",
    "\n",
    "%autoreload 2\n",
    "\n",
    "tf.enable_eager_execution()\n",
    "tfe = tf.contrib.eager"
   ]
  },
  {
   "cell_type": "markdown",
   "metadata": {},
   "source": [
    "## 2D $U(1)$ Lattice Gauge Theory"
   ]
  },
  {
   "cell_type": "code",
   "execution_count": 15,
   "metadata": {
    "ExecuteTime": {
     "end_time": "2018-11-02T23:36:13.190201Z",
     "start_time": "2018-11-02T23:36:13.125479Z"
    }
   },
   "outputs": [],
   "source": [
    "time_size, space_size, dim, beta, num_samples = (8, 8, 2, 3., None)\n",
    "link_type = 'U1'\n",
    "lattice = GaugeLattice(time_size=time_size,\n",
    "                       space_size=space_size,\n",
    "                       dim=dim,\n",
    "                       beta=beta,\n",
    "                       link_type=link_type,\n",
    "                       num_samples=num_samples, rand=True)\n",
    "#samples = np.array([sample.flatten() for sample in lattice.samples])\n",
    "lattice_energy_fn = lattice.get_energy_function()"
   ]
  },
  {
   "cell_type": "code",
   "execution_count": 16,
   "metadata": {
    "ExecuteTime": {
     "end_time": "2018-11-02T23:36:21.128101Z",
     "start_time": "2018-11-02T23:36:21.066669Z"
    }
   },
   "outputs": [],
   "source": [
    "step_size = 0.05\n",
    "n_leapfrog_steps = 10\n",
    "#position_init = samples\n",
    "position_init = lattice.links_flat\n",
    "lattice_hmc = HMC(position_init=position_init,\n",
    "                  step_size=step_size,\n",
    "                  n_leapfrog_steps=n_leapfrog_steps,\n",
    "                  potential_fn=lattice_energy_fn,\n",
    "                  beta=lattice.beta)"
   ]
  },
  {
   "cell_type": "code",
   "execution_count": 17,
   "metadata": {
    "ExecuteTime": {
     "end_time": "2018-11-02T23:48:10.214141Z",
     "start_time": "2018-11-02T23:36:28.280269Z"
    },
    "code_folding": [],
    "scrolled": true
   },
   "outputs": [
    {
     "name": "stdout",
     "output_type": "stream",
     "text": [
      "step: 0     accept rate:    1      average_plaquette:  0.5095   total action:  94.176   change:  0.5934 \n",
      "step: 1     accept rate:    1      average_plaquette: 0.67886   total action:  61.659   change: 0.76276 \n",
      "step: 2     accept rate:    1      average_plaquette: 0.74462   total action:  49.033   change: 0.23512 \n",
      "step: 3     accept rate:    1      average_plaquette: 0.82394   total action:  33.804   change: 0.14508 \n",
      "step: 4     accept rate: 0.94664   average_plaquette: 0.78084   total action:  42.079   change: 0.036216\n",
      "step: 5     accept rate:    1      average_plaquette: 0.79822   total action:  38.741   change: -0.025716\n",
      "step: 6     accept rate: 0.91338   average_plaquette: 0.74676   total action:  48.622   change: -0.034077\n",
      "step: 7     accept rate:    1      average_plaquette: 0.76416   total action:  45.281   change: -0.034064\n",
      "step: 8     accept rate: 0.96401   average_plaquette: 0.74862   total action:  48.265   change: 0.0018613\n",
      "step: 9     accept rate:    1      average_plaquette: 0.79838   total action:  38.711   change: 0.034222\n",
      "step: 10    accept rate: 0.99977   average_plaquette:  0.7843   total action:  41.414   change: 0.035682\n",
      "step: 11    accept rate:    1      average_plaquette: 0.82343   total action:  33.902   change: 0.025048\n",
      "step: 12    accept rate: 0.95664   average_plaquette: 0.77616   total action:  42.978   change: -0.0081476\n",
      "step: 13    accept rate: 0.98241   average_plaquette: 0.77281   total action:  43.62    change: -0.050619\n",
      "step: 14    accept rate:    1      average_plaquette:  0.7962   total action:  39.129   change: 0.020047\n",
      "step: 15    accept rate:    1      average_plaquette: 0.84262   total action:  30.217   change: 0.069811\n",
      "step: 16    accept rate:  0.9903   average_plaquette: 0.81779   total action:  34.984   change: 0.02159 \n",
      "step: 17    accept rate: 0.99729   average_plaquette: 0.82351   total action:  33.887   change: -0.019113\n",
      "step: 18    accept rate: 0.99606   average_plaquette: 0.81103   total action:  36.282   change: -0.0067629\n",
      "step: 19    accept rate:    1      average_plaquette: 0.85625   total action:   27.6    change: 0.032743\n",
      "step: 20    accept rate: 0.97056   average_plaquette: 0.83805   total action:  31.094   change: 0.027023\n",
      "step: 21    accept rate: 0.98424   average_plaquette: 0.80483   total action:  37.473   change: -0.051424\n",
      "step: 22    accept rate:    1      average_plaquette: 0.87494   total action:  24.012   change: 0.036883\n",
      "step: 23    accept rate: 0.98824   average_plaquette: 0.85355   total action:  28.118   change: 0.048728\n",
      "step: 24    accept rate: 0.99576   average_plaquette: 0.84836   total action:  29.115   change: -0.026578\n",
      "step: 25    accept rate:    1      average_plaquette: 0.85198   total action:  28.419   change: -0.0015704\n",
      "step: 26    accept rate: 0.97113   average_plaquette: 0.80091   total action:  38.225   change: -0.047445\n",
      "step: 27    accept rate: 0.98331   average_plaquette: 0.79665   total action:  39.043   change: -0.055333\n",
      "step: 28    accept rate:    1      average_plaquette: 0.78556   total action:  41.173   change: -0.015356\n",
      "step: 29    accept rate:    1      average_plaquette: 0.81052   total action:  36.38    change: 0.013872\n",
      "step: 30    accept rate:  0.9977   average_plaquette: 0.81266   total action:  35.969   change: 0.027105\n",
      "step: 31    accept rate: 0.98655   average_plaquette: 0.78037   total action:  42.169   change: -0.030152\n",
      "step: 32    accept rate:    1      average_plaquette: 0.83377   total action:  31.916   change: 0.021108\n",
      "step: 33    accept rate:    1      average_plaquette: 0.85235   total action:  28.348   change: 0.071984\n",
      "step: 34    accept rate: 0.98237   average_plaquette: 0.80553   total action:  37.339   change: -0.028242\n",
      "step: 35    accept rate:  0.9775   average_plaquette: 0.80553   total action:  37.339   change: -0.046825\n",
      "step: 36    accept rate:    1      average_plaquette: 0.85779   total action:  27.305   change: 0.052258\n",
      "step: 37    accept rate: 0.98127   average_plaquette: 0.80693   total action:  37.068   change: 0.0014069\n",
      "step: 38    accept rate: 0.98346   average_plaquette:  0.7812   total action:  42.009   change: -0.076584\n",
      "step: 39    accept rate: 0.99782   average_plaquette:  0.7532   total action:  47.386   change: -0.053738\n",
      "step: 40    accept rate:    1      average_plaquette: 0.76732   total action:  44.674   change: -0.013881\n",
      "step: 41    accept rate:    1      average_plaquette: 0.76761   total action:  44.619   change: 0.014413\n",
      "step: 42    accept rate: 0.99896   average_plaquette: 0.78468   total action:  41.342   change: 0.017357\n",
      "step: 43    accept rate:    1      average_plaquette: 0.80828   total action:  36.809   change: 0.040674\n",
      "step: 44    accept rate: 0.99634   average_plaquette: 0.79842   total action:  38.703   change: 0.013745\n",
      "step: 45    accept rate:    1      average_plaquette: 0.80636   total action:  37.179   change: -0.001924\n",
      "step: 46    accept rate:    1      average_plaquette: 0.83006   total action:  32.629   change: 0.031633\n",
      "step: 47    accept rate:  0.9993   average_plaquette: 0.82159   total action:  34.255   change: 0.015226\n",
      "step: 48    accept rate:    1      average_plaquette: 0.83409   total action:  31.855   change: 0.0040336\n",
      "step: 49    accept rate:    1      average_plaquette: 0.85282   total action:  28.259   change: 0.031229\n",
      "step: 50    accept rate: 0.98987   average_plaquette: 0.80752   total action:  36.955   change: -0.026566\n",
      "step: 51    accept rate:    1      average_plaquette: 0.82727   total action:  33.165   change: -0.02555\n",
      "step: 52    accept rate:    1      average_plaquette: 0.83583   total action:  31.521   change: 0.028304\n",
      "step: 53    accept rate: 0.99464   average_plaquette: 0.81629   total action:  35.273   change: -0.010979\n",
      "step: 54    accept rate:    1      average_plaquette: 0.82301   total action:  33.981   change: -0.012813\n",
      "step: 55    accept rate: 0.99516   average_plaquette: 0.79687   total action:    39     change: -0.019412\n",
      "step: 56    accept rate:    1      average_plaquette: 0.82959   total action:  32.719   change: 0.0065739\n",
      "step: 57    accept rate:    1      average_plaquette: 0.83073   total action:   32.5    change: 0.033853\n",
      "step: 58    accept rate: 0.99466   average_plaquette: 0.80061   total action:  38.283   change: -0.028981\n",
      "step: 59    accept rate:    1      average_plaquette: 0.80113   total action:  38.184   change: -0.029602\n",
      "step: 60    accept rate:    1      average_plaquette: 0.83708   total action:  31.28    change: 0.036476\n",
      "step: 61    accept rate:    1      average_plaquette: 0.84119   total action:  30.491   change: 0.040065\n",
      "step: 62    accept rate:    1      average_plaquette: 0.84816   total action:  29.154   change: 0.011072\n",
      "step: 63    accept rate:    1      average_plaquette: 0.84217   total action:  30.303   change: 0.00098103\n",
      "step: 64    accept rate:    1      average_plaquette: 0.85269   total action:  28.283   change: 0.0045392\n",
      "step: 65    accept rate:    1      average_plaquette: 0.87084   total action:  24.798   change: 0.028672\n",
      "step: 66    accept rate: 0.99476   average_plaquette:  0.8305   total action:  32.543   change: -0.022192\n",
      "step: 67    accept rate:    1      average_plaquette:  0.8524   total action:  28.338   change: -0.018439\n",
      "step: 68    accept rate: 0.99772   average_plaquette: 0.83574   total action:  31.537   change: 0.0052416\n",
      "step: 69    accept rate:    1      average_plaquette: 0.86322   total action:  26.262   change: 0.010813\n",
      "step: 70    accept rate: 0.99986   average_plaquette: 0.86121   total action:  26.648   change: 0.025466\n",
      "step: 71    accept rate: 0.99989   average_plaquette: 0.85295   total action:  28.235   change: -0.010272\n",
      "step: 72    accept rate:    1      average_plaquette: 0.84738   total action:  29.303   change: -0.013829\n",
      "step: 73    accept rate:  0.9966   average_plaquette: 0.82284   total action:  34.014   change: -0.030103\n",
      "step: 74    accept rate:    1      average_plaquette: 0.82865   total action:  32.899   change: -0.018729\n",
      "step: 75    accept rate: 0.99864   average_plaquette: 0.82271   total action:  34.039   change: -0.00012797\n",
      "step: 76    accept rate: 0.99837   average_plaquette: 0.81428   total action:  35.658   change: -0.01437\n",
      "step: 77    accept rate:    1      average_plaquette: 0.83057   total action:  32.531   change: 0.0078515\n"
     ]
    },
    {
     "name": "stdout",
     "output_type": "stream",
     "text": [
      "step: 78    accept rate:    1      average_plaquette: 0.85397   total action:  28.039   change: 0.039683\n",
      "step: 79    accept rate: 0.99974   average_plaquette: 0.85655   total action:  27.543   change: 0.02598 \n",
      "step: 80    accept rate:    1      average_plaquette: 0.85667   total action:  27.52    change: 0.0027011\n",
      "step: 81    accept rate: 0.99893   average_plaquette:  0.8511   total action:  28.588   change: -0.0054435\n",
      "step: 82    accept rate:    1      average_plaquette: 0.85893   total action:  27.086   change: 0.0022611\n",
      "step: 83    accept rate:    1      average_plaquette: 0.85084   total action:  28.638   change: -0.0002591\n",
      "step: 84    accept rate:    1      average_plaquette: 0.85297   total action:  28.229   change: -0.0059552\n",
      "step: 85    accept rate:    1      average_plaquette: 0.86572   total action:  25.782   change: 0.014874\n",
      "step: 86    accept rate: 0.99981   average_plaquette: 0.85693   total action:  27.47    change: 0.0039549\n",
      "step: 87    accept rate: 0.99908   average_plaquette: 0.84058   total action:  30.609   change: -0.025138\n",
      "step: 88    accept rate:    1      average_plaquette:  0.8437   total action:  30.01    change: -0.013228\n",
      "step: 89    accept rate: 0.99983   average_plaquette: 0.84251   total action:  30.238   change: 0.0019327\n",
      "step: 90    accept rate:    1      average_plaquette: 0.84894   total action:  29.003   change: 0.0052441\n",
      "step: 91    accept rate: 0.99974   average_plaquette: 0.84781   total action:  29.221   change: 0.0052949\n",
      "step: 92    accept rate:    1      average_plaquette:  0.8671   total action:  25.517   change: 0.018154\n",
      "step: 93    accept rate: 0.99998   average_plaquette: 0.87109   total action:  24.75    change: 0.023284\n",
      "step: 94    accept rate:    1      average_plaquette: 0.87057   total action:  24.85    change: 0.0034736\n",
      "step: 95    accept rate: 0.99955   average_plaquette:  0.8643   total action:  26.054   change: -0.0067914\n",
      "step: 96    accept rate: 0.99984   average_plaquette: 0.86112   total action:  26.665   change: -0.0094503\n",
      "step: 97    accept rate:    1      average_plaquette: 0.85951   total action:  26.974   change: -0.0047875\n",
      "step: 98    accept rate: 0.99977   average_plaquette: 0.84955   total action:  28.887   change: -0.011573\n",
      "step: 99    accept rate: 0.99998   average_plaquette: 0.85487   total action:  27.866   change: -0.0046462\n",
      "step: 100   accept rate:    1      average_plaquette: 0.86023   total action:  26.837   change: 0.010677\n",
      "step: 101   accept rate:    1      average_plaquette: 0.87089   total action:  24.789   change: 0.016027\n",
      "step: 102   accept rate:    1      average_plaquette: 0.87457   total action:  24.083   change: 0.014341\n",
      "step: 103   accept rate: 0.99965   average_plaquette:  0.8622   total action:  26.458   change: -0.008694\n",
      "step: 104   accept rate:    1      average_plaquette: 0.86344   total action:  26.219   change: -0.011125\n",
      "step: 105   accept rate: 0.99966   average_plaquette:  0.853    total action:  28.223   change: -0.0091944\n",
      "step: 106   accept rate: 0.99997   average_plaquette: 0.84702   total action:  29.372   change: -0.016423\n",
      "step: 107   accept rate:    1      average_plaquette:  0.8502   total action:  28.761   change: -0.0028008\n",
      "step: 108   accept rate: 0.99979   average_plaquette: 0.84522   total action:  29.717   change: -0.0017967\n",
      "step: 109   accept rate:    1      average_plaquette: 0.85403   total action:  28.026   change: 0.0038255\n",
      "step: 110   accept rate: 0.99995   average_plaquette: 0.85351   total action:  28.127   change: 0.0082835\n",
      "step: 111   accept rate: 0.99975   average_plaquette: 0.84485   total action:  29.788   change: -0.0091758\n",
      "step: 112   accept rate: 0.99994   average_plaquette: 0.84514   total action:  29.734   change: -0.0083693\n",
      "step: 113   accept rate:    1      average_plaquette: 0.85773   total action:  27.315   change: 0.012879\n",
      "step: 114   accept rate: 0.99971   average_plaquette: 0.84028   total action:  30.666   change: -0.0048561\n",
      "step: 115   accept rate:    1      average_plaquette: 0.85134   total action:  28.542   change: -0.006391\n",
      "step: 116   accept rate: 0.99988   average_plaquette:  0.8423   total action:  30.279   change: 0.0020156\n",
      "step: 117   accept rate:    1      average_plaquette: 0.85267   total action:  28.288   change: 0.0013252\n",
      "step: 118   accept rate:    1      average_plaquette: 0.85454   total action:  27.928   change: 0.012247\n",
      "step: 119   accept rate: 0.99999   average_plaquette: 0.85389   total action:  28.054   change: 0.0012189\n",
      "step: 120   accept rate: 0.99992   average_plaquette: 0.85126   total action:  28.559   change: -0.0032879\n",
      "step: 121   accept rate:    1      average_plaquette: 0.86218   total action:  26.461   change: 0.008296\n",
      "step: 122   accept rate: 0.99987   average_plaquette: 0.85396   total action:  28.04    change: 0.0027013\n",
      "step: 123   accept rate:    1      average_plaquette: 0.85134   total action:  28.543   change: -0.010844\n",
      "step: 124   accept rate: 0.99995   average_plaquette: 0.84637   total action:  29.498   change: -0.0075912\n",
      "step: 125   accept rate:    1      average_plaquette: 0.85166   total action:  28.481   change: 0.00032383\n",
      "step: 126   accept rate: 0.99995   average_plaquette: 0.84663   total action:  29.446   change: 0.00026929\n",
      "step: 127   accept rate:    1      average_plaquette: 0.84791   total action:   29.2    change: -0.0037464\n",
      "step: 128   accept rate:    1      average_plaquette: 0.84965   total action:  28.868   change: 0.0030129\n",
      "step: 129   accept rate:    1      average_plaquette: 0.84843   total action:  29.102   change: 0.0005132\n",
      "step: 130   accept rate:  0.9999   average_plaquette: 0.84096   total action:  30.536   change: -0.008687\n",
      "step: 131   accept rate:    1      average_plaquette: 0.84725   total action:  29.327   change: -0.001174\n",
      "step: 132   accept rate: 0.99998   average_plaquette: 0.84394   total action:  29.964   change: 0.0029774\n",
      "step: 133   accept rate:    1      average_plaquette: 0.84542   total action:  29.68    change: -0.0018346\n",
      "step: 134   accept rate: 0.99995   average_plaquette: 0.83911   total action:  30.891   change: -0.0048281\n",
      "step: 135   accept rate: 0.99999   average_plaquette: 0.83858   total action:  30.992   change: -0.0068368\n",
      "step: 136   accept rate: 0.99997   average_plaquette: 0.83822   total action:  31.061   change: -0.0008865\n",
      "step: 137   accept rate:    1      average_plaquette:  0.8378   total action:  31.142   change: -0.0007779\n",
      "step: 138   accept rate:    1      average_plaquette: 0.84414   total action:  29.925   change: 0.0059198\n",
      "step: 139   accept rate: 0.99997   average_plaquette: 0.83871   total action:  30.968   change: 0.00090605\n",
      "step: 140   accept rate:    1      average_plaquette: 0.84225   total action:  30.289   change: -0.0018964\n",
      "step: 141   accept rate: 0.99994   average_plaquette: 0.83398   total action:  31.876   change: -0.0047319\n",
      "step: 142   accept rate:    1      average_plaquette: 0.83799   total action:  31.107   change: -0.0042615\n",
      "step: 143   accept rate:    1      average_plaquette:  0.8398   total action:  30.759   change: 0.0058197\n",
      "step: 144   accept rate: 0.99998   average_plaquette: 0.83567   total action:  31.552   change: -0.00232\n",
      "step: 145   accept rate:    1      average_plaquette: 0.83861   total action:  30.988   change: -0.001193\n",
      "step: 146   accept rate: 0.99999   average_plaquette: 0.83891   total action:  30.93    change: 0.0032406\n",
      "step: 147   accept rate: 0.99997   average_plaquette: 0.83637   total action:  31.418   change: -0.0022398\n",
      "step: 148   accept rate: 0.99997   average_plaquette: 0.83266   total action:  32.13    change: -0.0062494\n",
      "step: 149   accept rate:    1      average_plaquette: 0.83361   total action:  31.946   change: -0.0027519\n",
      "step: 150   accept rate: 0.99998   average_plaquette: 0.83304   total action:  32.056   change: 0.00038481\n",
      "step: 151   accept rate:    1      average_plaquette: 0.83389   total action:  31.894   change: 0.00027221\n",
      "step: 152   accept rate:    1      average_plaquette: 0.83953   total action:  30.809   change: 0.0064937\n",
      "step: 153   accept rate: 0.99998   average_plaquette: 0.83984   total action:  30.751   change: 0.0059502\n",
      "step: 154   accept rate:    1      average_plaquette: 0.83646   total action:   31.4    change: -0.0030742\n",
      "step: 155   accept rate:    1      average_plaquette: 0.84439   total action:  29.878   change: 0.0045508\n"
     ]
    },
    {
     "name": "stdout",
     "output_type": "stream",
     "text": [
      "step: 156   accept rate: 0.99998   average_plaquette: 0.84442   total action:  29.872   change: 0.0079556\n",
      "step: 157   accept rate: 0.99999   average_plaquette: 0.84201   total action:  30.335   change: -0.0023815\n",
      "step: 158   accept rate:    1      average_plaquette: 0.84024   total action:  30.675   change: -0.0041808\n",
      "step: 159   accept rate:    1      average_plaquette: 0.83968   total action:  30.781   change: -0.0023213\n",
      "step: 160   accept rate:    1      average_plaquette: 0.84065   total action:  30.595   change: 0.00041801\n",
      "step: 161   accept rate: 0.99999   average_plaquette: 0.83899   total action:  30.914   change: -0.00069523\n",
      "step: 162   accept rate:    1      average_plaquette:  0.838    total action:  31.103   change: -0.0026501\n",
      "step: 163   accept rate: 0.99998   average_plaquette:  0.8355   total action:  31.585   change: -0.0034934\n",
      "step: 164   accept rate:    1      average_plaquette:  0.8378   total action:  31.143   change: -0.00020486\n",
      "step: 165   accept rate: 0.99998   average_plaquette: 0.83899   total action:  30.915   change: 0.0034913\n",
      "step: 166   accept rate:    1      average_plaquette: 0.84093   total action:  30.542   change: 0.0031312\n",
      "step: 167   accept rate:    1      average_plaquette: 0.83946   total action:  30.824   change: 0.00047404\n",
      "step: 168   accept rate: 0.99998   average_plaquette: 0.83712   total action:  31.272   change: -0.0038067\n",
      "step: 169   accept rate: 0.99998   average_plaquette: 0.83722   total action:  31.253   change: -0.0022383\n",
      "step: 170   accept rate: 0.99999   average_plaquette: 0.83643   total action:  31.406   change: -0.00069517\n",
      "step: 171   accept rate: 0.99999   average_plaquette: 0.83646   total action:  31.399   change: -0.00076127\n",
      "step: 172   accept rate:    1      average_plaquette: 0.83844   total action:  31.019   change: 0.0020151\n",
      "step: 173   accept rate:    1      average_plaquette: 0.83846   total action:  31.015   change: 0.0020004\n",
      "step: 174   accept rate: 0.99998   average_plaquette: 0.83886   total action:  30.94    change: 0.00041348\n",
      "step: 175   accept rate:    1      average_plaquette: 0.83886   total action:  30.94    change: 0.00039369\n",
      "step: 176   accept rate: 0.99999   average_plaquette: 0.83991   total action:  30.737   change: 0.0010554\n",
      "step: 177   accept rate: 0.99999   average_plaquette: 0.84078   total action:  30.569   change: 0.0019289\n",
      "step: 178   accept rate: 0.99998   average_plaquette: 0.83875   total action:  30.96    change: -0.0011591\n",
      "step: 179   accept rate:    1      average_plaquette: 0.83982   total action:  30.754   change: -0.00095904\n",
      "step: 180   accept rate:    1      average_plaquette:  0.8388   total action:  30.95    change: 4.7266e-05\n",
      "step: 181   accept rate: 0.99998   average_plaquette: 0.84231   total action:  30.277   change: 0.0024842\n",
      "step: 182   accept rate:    1      average_plaquette: 0.83968   total action:  30.782   change: 0.00087696\n",
      "step: 183   accept rate:    1      average_plaquette: 0.84192   total action:  30.352   change: -0.00039291\n",
      "step: 184   accept rate:    1      average_plaquette: 0.84203   total action:  30.331   change: 0.0023513\n",
      "step: 185   accept rate:    1      average_plaquette: 0.84339   total action:  30.07    change: 0.0014707\n",
      "step: 186   accept rate: 0.99999   average_plaquette: 0.84236   total action:  30.267   change: 0.0003317\n",
      "step: 187   accept rate:    1      average_plaquette: 0.84027   total action:  30.669   change: -0.0031205\n",
      "step: 188   accept rate:    1      average_plaquette: 0.83864   total action:  30.982   change: -0.0037238\n",
      "step: 189   accept rate: 0.99999   average_plaquette: 0.83757   total action:  31.186   change: -0.002693\n",
      "step: 190   accept rate: 0.99998   average_plaquette: 0.83498   total action:  31.685   change: -0.0036609\n",
      "step: 191   accept rate: 0.99999   average_plaquette: 0.83362   total action:  31.944   change: -0.0039487\n",
      "step: 192   accept rate: 0.99998   average_plaquette:  0.834    total action:  31.872   change: -0.0009734\n",
      "step: 193   accept rate:    1      average_plaquette: 0.83532   total action:  31.618   change: 0.0016978\n",
      "step: 194   accept rate:    1      average_plaquette: 0.83483   total action:  31.712   change: 0.00082934\n",
      "step: 195   accept rate:    1      average_plaquette: 0.83495   total action:  31.689   change: -0.00037086\n",
      "step: 196   accept rate: 0.99998   average_plaquette: 0.83482   total action:  31.715   change: -1.1504e-05\n",
      "step: 197   accept rate:    1      average_plaquette: 0.83664   total action:  31.365   change: 0.0016912\n",
      "step: 198   accept rate:    1      average_plaquette: 0.83635   total action:  31.422   change: 0.0015258\n",
      "step: 199   accept rate: 0.99999   average_plaquette: 0.83694   total action:  31.307   change: 0.00030184\n",
      "step: 200   accept rate:    1      average_plaquette: 0.83848   total action:  31.011   change: 0.0021374\n",
      "step: 201   accept rate: 0.99999   average_plaquette: 0.83768   total action:  31.166   change: 0.00073493\n",
      "step: 202   accept rate:    1      average_plaquette: 0.83793   total action:  31.117   change: -0.00054896\n",
      "step: 203   accept rate: 0.99999   average_plaquette: 0.83662   total action:  31.369   change: -0.0010587\n",
      "step: 204   accept rate:    1      average_plaquette:  0.8361   total action:  31.468   change: -0.0018313\n",
      "step: 205   accept rate:    1      average_plaquette: 0.83806   total action:  31.092   change: 0.0014427\n",
      "step: 206   accept rate: 0.99999   average_plaquette: 0.83818   total action:  31.07    change: 0.0020766\n",
      "step: 207   accept rate:    1      average_plaquette:  0.8378   total action:  31.143   change: -0.00026655\n",
      "step: 208   accept rate:    1      average_plaquette: 0.83623   total action:  31.443   change: -0.0019444\n",
      "step: 209   accept rate:    1      average_plaquette: 0.83479   total action:  31.721   change: -0.0030091\n",
      "step: 210   accept rate: 0.99998   average_plaquette: 0.83501   total action:  31.678   change: -0.0012249\n",
      "step: 211   accept rate:    1      average_plaquette: 0.83429   total action:  31.817   change: -0.00050205\n",
      "step: 212   accept rate: 0.99999   average_plaquette: 0.83321   total action:  32.024   change: -0.0018005\n",
      "step: 213   accept rate: 0.99999   average_plaquette: 0.83341   total action:  31.986   change: -0.00088066\n",
      "step: 214   accept rate:    1      average_plaquette: 0.83588   total action:  31.512   change: 0.0026674\n",
      "step: 215   accept rate:    1      average_plaquette: 0.83542   total action:  31.599   change: 0.002016\n",
      "step: 216   accept rate:    1      average_plaquette: 0.83527   total action:  31.627   change: -0.00060219\n",
      "step: 217   accept rate:    1      average_plaquette: 0.83545   total action:  31.594   change: 2.9027e-05\n",
      "step: 218   accept rate: 0.99999   average_plaquette: 0.83541   total action:  31.602   change: 0.00013191\n",
      "step: 219   accept rate:    1      average_plaquette: 0.83557   total action:  31.57    change: 0.00012118\n",
      "step: 220   accept rate: 0.99998   average_plaquette: 0.83528   total action:  31.627   change: -0.00013071\n",
      "step: 221   accept rate: 0.99998   average_plaquette: 0.83486   total action:  31.708   change: -0.00071466\n",
      "step: 222   accept rate:    1      average_plaquette: 0.83512   total action:  31.657   change: -0.00015366\n",
      "step: 223   accept rate: 0.99999   average_plaquette:  0.8355   total action:  31.584   change: 0.00064433\n",
      "step: 224   accept rate:    1      average_plaquette: 0.83602   total action:  31.484   change: 0.00089741\n",
      "step: 225   accept rate: 0.99998   average_plaquette: 0.83711   total action:  31.275   change: 0.0016102\n",
      "step: 226   accept rate:    1      average_plaquette: 0.83717   total action:  31.263   change: 0.0011516\n",
      "step: 227   accept rate:    1      average_plaquette: 0.83761   total action:  31.179   change: 0.00049561\n",
      "step: 228   accept rate:    1      average_plaquette: 0.83791   total action:  31.121   change: 0.00073946\n",
      "step: 229   accept rate:    1      average_plaquette: 0.83797   total action:  31.111   change: 0.00035858\n",
      "step: 230   accept rate: 0.99998   average_plaquette: 0.83813   total action:  31.079   change: 0.00022233\n",
      "step: 231   accept rate:    1      average_plaquette: 0.83771   total action:  31.16    change: -0.00025433\n",
      "step: 232   accept rate:    1      average_plaquette: 0.83799   total action:  31.105   change: -0.0001384\n"
     ]
    },
    {
     "name": "stdout",
     "output_type": "stream",
     "text": [
      "step: 233   accept rate:    1      average_plaquette: 0.83759   total action:  31.182   change: -0.00011688\n",
      "step: 234   accept rate:    1      average_plaquette: 0.83762   total action:  31.177   change: -0.00037354\n",
      "step: 235   accept rate: 0.99997   average_plaquette: 0.83751   total action:  31.198   change: -8.2493e-05\n",
      "step: 236   accept rate:    1      average_plaquette: 0.83796   total action:  31.113   change: 0.00033486\n",
      "step: 237   accept rate: 0.99998   average_plaquette: 0.83809   total action:  31.087   change: 0.00057483\n",
      "step: 238   accept rate: 0.99999   average_plaquette: 0.83779   total action:  31.143   change: -0.00016087\n",
      "step: 239   accept rate:    1      average_plaquette: 0.83911   total action:  30.89    change: 0.0010271\n",
      "step: 240   accept rate:    1      average_plaquette: 0.83818   total action:  31.069   change: 0.00038683\n",
      "step: 241   accept rate: 0.99998   average_plaquette: 0.83876   total action:  30.958   change: -0.00035298\n",
      "step: 242   accept rate:    1      average_plaquette: 0.83913   total action:  30.887   change: 0.0009467\n",
      "step: 243   accept rate:    1      average_plaquette: 0.83903   total action:  30.907   change: 0.00026798\n",
      "step: 244   accept rate: 0.99997   average_plaquette: 0.83968   total action:  30.781   change: 0.00055373\n",
      "step: 245   accept rate: 0.99998   average_plaquette: 0.83995   total action:  30.729   change: 0.0009228\n",
      "step: 246   accept rate: 0.99998   average_plaquette: 0.83955   total action:  30.807   change: -0.00013411\n",
      "step: 247   accept rate:    1      average_plaquette: 0.83933   total action:  30.848   change: -0.00061971\n",
      "step: 248   accept rate:    1      average_plaquette: 0.83914   total action:  30.885   change: -0.0004096\n",
      "step: 249   accept rate: 0.99998   average_plaquette: 0.83979   total action:  30.759   change: 0.00046289\n",
      "step: 250   accept rate: 0.99999   average_plaquette: 0.83907   total action:  30.898   change: -6.6459e-05\n",
      "step: 251   accept rate:    1      average_plaquette: 0.83918   total action:  30.877   change: -0.00061423\n",
      "step: 252   accept rate: 0.99998   average_plaquette: 0.83911   total action:  30.891   change: 3.7432e-05\n",
      "step: 253   accept rate:    1      average_plaquette: 0.83856   total action:  30.996   change: -0.00061733\n",
      "step: 254   accept rate:    1      average_plaquette: 0.83855   total action:  30.999   change: -0.00056165\n",
      "step: 255   accept rate: 0.99999   average_plaquette: 0.83898   total action:  30.917   change: 0.0004127\n",
      "step: 256   accept rate:    1      average_plaquette: 0.83866   total action:  30.977   change: 0.00011474\n",
      "step: 257   accept rate:    1      average_plaquette: 0.83876   total action:  30.958   change: -0.00021464\n",
      "step: 258   accept rate:    1      average_plaquette: 0.83905   total action:  30.902   change: 0.00038713\n",
      "step: 259   accept rate: 0.99998   average_plaquette: 0.83926   total action:  30.861   change: 0.00050318\n",
      "step: 260   accept rate:    1      average_plaquette: 0.83916   total action:  30.882   change: 0.00010586\n",
      "step: 261   accept rate:    1      average_plaquette: 0.83911   total action:  30.89    change: -0.00015217\n",
      "step: 262   accept rate: 0.99999   average_plaquette: 0.83925   total action:  30.863   change: 9.9182e-05\n",
      "step: 263   accept rate: 0.99999   average_plaquette: 0.83927   total action:  30.859   change: 0.0001623\n",
      "step: 264   accept rate:    1      average_plaquette: 0.83909   total action:  30.895   change: -0.00016737\n",
      "step: 265   accept rate:    1      average_plaquette: 0.83941   total action:  30.834   change: 0.0001325\n",
      "step: 266   accept rate:    1      average_plaquette: 0.83968   total action:  30.781   change: 0.0005942\n",
      "step: 267   accept rate:    1      average_plaquette:  0.8397   total action:  30.777   change: 0.00029677\n",
      "step: 268   accept rate: 0.99998   average_plaquette: 0.83945   total action:  30.825   change: -0.00022709\n",
      "step: 269   accept rate:    1      average_plaquette: 0.83966   total action:  30.786   change: -4.6313e-05\n",
      "step: 270   accept rate: 0.99998   average_plaquette: 0.83955   total action:  30.807   change: 9.2328e-05\n",
      "step: 271   accept rate:    1      average_plaquette: 0.83975   total action:  30.768   change: 9.1851e-05\n",
      "step: 272   accept rate:    1      average_plaquette: 0.83995   total action:  30.729   change: 0.0004065\n",
      "step: 273   accept rate:    1      average_plaquette: 0.83981   total action:  30.756   change: 6.5148e-05\n",
      "step: 274   accept rate:    1      average_plaquette: 0.83976   total action:  30.767   change: -0.00019711\n",
      "step: 275   accept rate:    1      average_plaquette: 0.83961   total action:  30.795   change: -0.0002045\n",
      "step: 276   accept rate: 0.99998   average_plaquette: 0.84009   total action:  30.703   change: 0.00033098\n",
      "step: 277   accept rate:    1      average_plaquette: 0.84036   total action:  30.652   change: 0.00074595\n",
      "step: 278   accept rate: 0.99998   average_plaquette: 0.84007   total action:  30.707   change: -1.7405e-05\n",
      "step: 279   accept rate: 0.99998   average_plaquette: 0.83969   total action:  30.779   change: -0.0006609\n",
      "step: 280   accept rate:    1      average_plaquette: 0.83982   total action:  30.754   change: -0.00024742\n",
      "step: 281   accept rate: 0.99999   average_plaquette: 0.83992   total action:  30.735   change: 0.00022823\n",
      "step: 282   accept rate:    1      average_plaquette: 0.83945   total action:  30.825   change: -0.00036871\n",
      "step: 283   accept rate:    1      average_plaquette: 0.83962   total action:  30.793   change: -0.00030446\n",
      "step: 284   accept rate: 0.99999   average_plaquette: 0.84036   total action:  30.652   change: 0.00090271\n",
      "step: 285   accept rate: 0.99999   average_plaquette: 0.84037   total action:  30.65    change: 0.0007475\n",
      "step: 286   accept rate:    1      average_plaquette: 0.84034   total action:  30.655   change: -1.502e-05\n",
      "step: 287   accept rate: 0.99998   average_plaquette: 0.84067   total action:  30.591   change: 0.00030416\n",
      "step: 288   accept rate:    1      average_plaquette: 0.84053   total action:  30.617   change: 0.00019318\n",
      "step: 289   accept rate:    1      average_plaquette: 0.84043   total action:  30.637   change: -0.0002383\n",
      "step: 290   accept rate:    1      average_plaquette: 0.84046   total action:  30.632   change: -7.3671e-05\n",
      "step: 291   accept rate:    1      average_plaquette: 0.84037   total action:  30.648   change: -5.8472e-05\n",
      "step: 292   accept rate:    1      average_plaquette: 0.84021   total action:  30.68    change: -0.00025171\n",
      "step: 293   accept rate:    1      average_plaquette: 0.84013   total action:  30.695   change: -0.00024319\n",
      "step: 294   accept rate:    1      average_plaquette: 0.84011   total action:  30.699   change: -9.6917e-05\n",
      "step: 295   accept rate:    1      average_plaquette: 0.84001   total action:  30.719   change: -0.00012463\n",
      "step: 296   accept rate: 0.99999   average_plaquette: 0.84001   total action:  30.717   change: -9.7036e-05\n",
      "step: 297   accept rate:    1      average_plaquette: 0.84021   total action:  30.681   change: 0.0001992\n",
      "step: 298   accept rate:    1      average_plaquette: 0.84032   total action:  30.658   change: 0.00030768\n",
      "step: 299   accept rate:    1      average_plaquette: 0.84008   total action:  30.704   change: -0.00012374\n",
      "step: 300   accept rate: 0.99999   average_plaquette: 0.84015   total action:  30.691   change: -0.00017184\n",
      "step: 301   accept rate:    1      average_plaquette: 0.84042   total action:  30.64    change: 0.00033754\n",
      "step: 302   accept rate:    1      average_plaquette: 0.84058   total action:  30.609   change: 0.00042558\n",
      "step: 303   accept rate: 0.99999   average_plaquette: 0.84034   total action:  30.656   change: -8.3745e-05\n",
      "step: 304   accept rate: 0.99999   average_plaquette: 0.84065   total action:  30.595   change: 7.2479e-05\n",
      "step: 305   accept rate:    1      average_plaquette: 0.84062   total action:  30.601   change: 0.00028276\n",
      "step: 306   accept rate: 0.99999   average_plaquette: 0.84065   total action:  30.595   change: 6.5565e-07\n",
      "step: 307   accept rate:    1      average_plaquette: 0.84047   total action:  30.63    change: -0.00015163\n",
      "step: 308   accept rate:    1      average_plaquette: 0.84015   total action:  30.691   change: -0.00049955\n",
      "step: 309   accept rate:    1      average_plaquette: 0.83984   total action:  30.751   change: -0.00062764\n"
     ]
    },
    {
     "name": "stdout",
     "output_type": "stream",
     "text": [
      "step: 310   accept rate: 0.99998   average_plaquette:  0.8399   total action:  30.74    change: -0.00025272\n",
      "step: 311   accept rate: 0.99999   average_plaquette: 0.84018   total action:  30.684   change: 0.00034642\n",
      "step: 312   accept rate: 0.99999   average_plaquette: 0.84011   total action:  30.699   change: 0.00021052\n",
      "step: 313   accept rate:    1      average_plaquette: 0.84033   total action:  30.657   change: 0.00014532\n",
      "step: 314   accept rate: 0.99999   average_plaquette:  0.8405   total action:  30.625   change: 0.00038868\n",
      "step: 315   accept rate:    1      average_plaquette: 0.84048   total action:  30.627   change: 0.00015301\n",
      "step: 316   accept rate: 0.99997   average_plaquette: 0.84049   total action:  30.627   change: -9.5963e-06\n",
      "step: 317   accept rate: 0.99999   average_plaquette: 0.84048   total action:  30.627   change: 1.6689e-06\n",
      "step: 318   accept rate:    1      average_plaquette:  0.8405   total action:  30.624   change: 1.5676e-05\n",
      "step: 319   accept rate: 0.99999   average_plaquette: 0.84058   total action:  30.608   change: 9.656e-05\n",
      "step: 320   accept rate: 0.99998   average_plaquette: 0.84048   total action:  30.628   change: -2.3961e-05\n",
      "step: 321   accept rate:    1      average_plaquette: 0.84043   total action:  30.637   change: -0.00015074\n",
      "step: 322   accept rate:    1      average_plaquette: 0.84041   total action:  30.641   change: -6.6161e-05\n",
      "step: 323   accept rate: 0.99998   average_plaquette:  0.8404   total action:  30.643   change: -3.1173e-05\n",
      "step: 324   accept rate: 0.99998   average_plaquette: 0.84056   total action:  30.612   change: 0.00014865\n",
      "step: 325   accept rate:    1      average_plaquette: 0.84032   total action:  30.659   change: -8.3387e-05\n",
      "step: 326   accept rate:    1      average_plaquette: 0.84038   total action:  30.647   change: -0.00018227\n",
      "step: 327   accept rate:    1      average_plaquette: 0.84032   total action:  30.658   change: 5.6624e-06\n",
      "step: 328   accept rate: 0.99996   average_plaquette: 0.84043   total action:  30.638   change: 4.9412e-05\n",
      "step: 329   accept rate: 0.99998   average_plaquette: 0.84041   total action:  30.641   change: 9.0778e-05\n",
      "step: 330   accept rate:    1      average_plaquette: 0.84043   total action:  30.638   change: -1.1921e-07\n",
      "step: 331   accept rate: 0.99998   average_plaquette: 0.84045   total action:  30.633   change: 3.8564e-05\n",
      "step: 332   accept rate: 0.99997   average_plaquette: 0.84043   total action:  30.637   change: 4.5896e-06\n",
      "step: 333   accept rate:    1      average_plaquette: 0.84048   total action:  30.627   change: 3.0935e-05\n",
      "step: 334   accept rate:    1      average_plaquette: 0.84056   total action:  30.613   change: 0.00012422\n",
      "step: 335   accept rate: 0.99998   average_plaquette: 0.84067   total action:  30.592   change: 0.00018352\n",
      "step: 336   accept rate:    1      average_plaquette: 0.84066   total action:  30.593   change: 0.00010377\n",
      "step: 337   accept rate:    1      average_plaquette: 0.84068   total action:  30.589   change: 1.6689e-05\n",
      "step: 338   accept rate:    1      average_plaquette: 0.84065   total action:  30.596   change: -1.4722e-05\n",
      "step: 339   accept rate:    1      average_plaquette: 0.84057   total action:  30.611   change: -0.00011307\n",
      "step: 340   accept rate:    1      average_plaquette: 0.84056   total action:  30.612   change: -8.3268e-05\n",
      "step: 341   accept rate: 0.99999   average_plaquette: 0.84048   total action:  30.627   change: -8.7142e-05\n",
      "step: 342   accept rate: 0.99999   average_plaquette: 0.84043   total action:  30.637   change: -0.00013041\n",
      "step: 343   accept rate: 0.99998   average_plaquette: 0.84048   total action:  30.629   change: -6.7949e-06\n",
      "step: 344   accept rate: 0.99997   average_plaquette: 0.84049   total action:  30.626   change: 5.728e-05\n",
      "step: 345   accept rate:    1      average_plaquette: 0.84042   total action:  30.639   change: -5.3644e-05\n",
      "step: 346   accept rate:    1      average_plaquette: 0.84041   total action:  30.642   change: -8.1182e-05\n",
      "step: 347   accept rate:    1      average_plaquette: 0.84042   total action:  30.64    change: -2.563e-06\n",
      "step: 348   accept rate:    1      average_plaquette: 0.84047   total action:  30.63    change: 6.1691e-05\n",
      "step: 349   accept rate: 0.99999   average_plaquette:  0.8405   total action:  30.623   change: 8.4639e-05\n",
      "step: 350   accept rate:    1      average_plaquette: 0.84049   total action:  30.625   change: 2.4617e-05\n",
      "step: 351   accept rate:    1      average_plaquette: 0.84056   total action:  30.613   change: 5.1856e-05\n",
      "step: 352   accept rate:    1      average_plaquette: 0.84054   total action:  30.616   change: 4.524e-05\n",
      "step: 353   accept rate: 0.99998   average_plaquette: 0.84055   total action:  30.615   change: -1.0133e-05\n",
      "step: 354   accept rate:    1      average_plaquette: 0.84056   total action:  30.612   change: 2.4378e-05\n",
      "step: 355   accept rate:    1      average_plaquette: 0.84061   total action:  30.603   change: 6.485e-05\n",
      "step: 356   accept rate:    1      average_plaquette: 0.84064   total action:  30.598   change: 7.1526e-05\n",
      "step: 357   accept rate:    1      average_plaquette:  0.8407   total action:  30.586   change: 8.4996e-05\n",
      "step: 358   accept rate:    1      average_plaquette: 0.84074   total action:  30.578   change: 0.00010306\n",
      "step: 359   accept rate: 0.99996   average_plaquette: 0.84085   total action:  30.558   change: 0.00015104\n",
      "step: 360   accept rate: 0.99997   average_plaquette: 0.84072   total action:  30.583   change: -2.3127e-05\n",
      "step: 361   accept rate: 0.99998   average_plaquette: 0.84078   total action:  30.571   change: -7.0155e-05\n",
      "step: 362   accept rate:    1      average_plaquette: 0.84082   total action:  30.563   change: 0.00010228\n",
      "step: 363   accept rate:    1      average_plaquette: 0.84076   total action:  30.574   change: -1.7166e-05\n",
      "step: 364   accept rate: 0.99996   average_plaquette: 0.84083   total action:  30.56    change: 1.5736e-05\n",
      "step: 365   accept rate:    1      average_plaquette: 0.84081   total action:  30.565   change: 4.9591e-05\n",
      "step: 366   accept rate:    1      average_plaquette: 0.84081   total action:  30.565   change: -2.7716e-05\n",
      "step: 367   accept rate:    1      average_plaquette:  0.8408   total action:  30.566   change: -4.2915e-06\n",
      "step: 368   accept rate: 0.99999   average_plaquette: 0.84083   total action:  30.561   change: 2.4617e-05\n",
      "step: 369   accept rate:    1      average_plaquette: 0.84083   total action:  30.561   change: 2.3663e-05\n",
      "step: 370   accept rate:    1      average_plaquette: 0.84089   total action:  30.55    change: 5.6744e-05\n",
      "step: 371   accept rate:    1      average_plaquette: 0.84085   total action:  30.556   change: 2.5988e-05\n",
      "step: 372   accept rate:    1      average_plaquette: 0.84083   total action:  30.56    change: -5.3346e-05\n",
      "step: 373   accept rate:    1      average_plaquette: 0.84079   total action:  30.569   change: -6.5088e-05\n",
      "step: 374   accept rate: 0.99998   average_plaquette: 0.84076   total action:  30.574   change: -7.3612e-05\n",
      "step: 375   accept rate:    1      average_plaquette: 0.84076   total action:  30.574   change: -3.0398e-05\n",
      "step: 376   accept rate: 0.99998   average_plaquette: 0.84071   total action:  30.583   change: -4.7326e-05\n",
      "step: 377   accept rate:    1      average_plaquette: 0.84076   total action:  30.574   change: 2.6226e-06\n",
      "step: 378   accept rate:    1      average_plaquette: 0.84074   total action:  30.578   change: 2.4557e-05\n",
      "step: 379   accept rate:    1      average_plaquette: 0.84076   total action:  30.575   change: -4.1127e-06\n",
      "step: 380   accept rate:    1      average_plaquette: 0.84081   total action:  30.565   change: 7.1347e-05\n",
      "step: 381   accept rate:    1      average_plaquette: 0.84081   total action:  30.565   change: 4.822e-05\n",
      "step: 382   accept rate:    1      average_plaquette: 0.84082   total action:  30.562   change: 1.2934e-05\n",
      "step: 383   accept rate:    1      average_plaquette: 0.84081   total action:  30.564   change: 7.2122e-06\n",
      "step: 384   accept rate: 0.99995   average_plaquette: 0.84078   total action:  30.57    change: -4.1962e-05\n",
      "step: 385   accept rate: 0.99998   average_plaquette: 0.84072   total action:  30.582   change: -9.2447e-05\n",
      "step: 386   accept rate: 0.99995   average_plaquette: 0.84071   total action:  30.584   change: -7.1108e-05\n"
     ]
    },
    {
     "name": "stdout",
     "output_type": "stream",
     "text": [
      "step: 387   accept rate: 0.99999   average_plaquette: 0.84071   total action:  30.583   change: -8.1062e-06\n",
      "step: 388   accept rate: 0.99996   average_plaquette: 0.84075   total action:  30.577   change: 3.6299e-05\n",
      "step: 389   accept rate:    1      average_plaquette: 0.84076   total action:  30.575   change: 4.5478e-05\n",
      "step: 390   accept rate:    1      average_plaquette: 0.84076   total action:  30.575   change: 1.0371e-05\n",
      "step: 391   accept rate:    1      average_plaquette: 0.84074   total action:  30.578   change: -1.7345e-05\n",
      "step: 392   accept rate:    1      average_plaquette: 0.84075   total action:  30.575   change: -2.6822e-06\n",
      "step: 393   accept rate:    1      average_plaquette: 0.84072   total action:  30.581   change: -1.5318e-05\n",
      "step: 394   accept rate: 0.99995   average_plaquette: 0.84076   total action:  30.573   change: 1.0669e-05\n",
      "step: 395   accept rate: 0.99999   average_plaquette: 0.84082   total action:  30.563   change: 9.2745e-05\n",
      "step: 396   accept rate: 0.99998   average_plaquette: 0.84081   total action:  30.564   change: 4.7982e-05\n",
      "step: 397   accept rate:    1      average_plaquette:  0.8408   total action:  30.567   change: -2.1636e-05\n",
      "step: 398   accept rate: 0.99998   average_plaquette: 0.84078   total action:  30.569   change: -2.6941e-05\n",
      "step: 399   accept rate:    1      average_plaquette: 0.84077   total action:  30.572   change: -2.718e-05\n",
      "step: 400   accept rate:    1      average_plaquette: 0.84078   total action:  30.571   change: -8.2254e-06\n",
      "step: 401   accept rate:    1      average_plaquette: 0.84078   total action:  30.57    change: 1.049e-05\n",
      "step: 402   accept rate: 0.99999   average_plaquette: 0.84074   total action:  30.579   change: -4.0352e-05\n",
      "step: 403   accept rate:    1      average_plaquette: 0.84074   total action:  30.578   change: -3.8564e-05\n",
      "step: 404   accept rate: 0.99994   average_plaquette: 0.84077   total action:  30.573   change: 3.0577e-05\n",
      "step: 405   accept rate:    1      average_plaquette: 0.84076   total action:  30.574   change: 2.1815e-05\n",
      "step: 406   accept rate: 0.99997   average_plaquette: 0.84075   total action:  30.575   change: -1.1981e-05\n",
      "step: 407   accept rate:    1      average_plaquette: 0.84079   total action:  30.569   change: 2.3067e-05\n",
      "step: 408   accept rate:    1      average_plaquette:  0.8408   total action:  30.566   change: 4.4763e-05\n",
      "step: 409   accept rate:    1      average_plaquette: 0.84079   total action:  30.568   change: 3.8147e-06\n",
      "step: 410   accept rate:    1      average_plaquette: 0.84079   total action:  30.569   change: -1.3709e-05\n",
      "step: 411   accept rate: 0.99994   average_plaquette: 0.84079   total action:  30.569   change: -2.2054e-06\n",
      "step: 412   accept rate: 0.99999   average_plaquette: 0.84082   total action:  30.563   change: 3.4153e-05\n",
      "step: 413   accept rate:    1      average_plaquette:  0.8408   total action:  30.566   change: 1.7524e-05\n",
      "step: 414   accept rate:    1      average_plaquette: 0.84078   total action:  30.57    change: -3.6895e-05\n",
      "step: 415   accept rate:    1      average_plaquette: 0.84078   total action:  30.571   change: -2.8729e-05\n",
      "step: 416   accept rate:    1      average_plaquette:  0.8408   total action:  30.565   change: 2.1994e-05\n",
      "step: 417   accept rate: 0.99995   average_plaquette:  0.8408   total action:  30.566   change: 2.8789e-05\n",
      "step: 418   accept rate: 0.99999   average_plaquette: 0.84081   total action:  30.564   change: 8.8215e-06\n",
      "step: 419   accept rate:    1      average_plaquette: 0.84084   total action:  30.558   change: 3.7551e-05\n",
      "step: 420   accept rate:    1      average_plaquette: 0.84085   total action:  30.556   change: 3.8922e-05\n",
      "step: 421   accept rate:    1      average_plaquette: 0.84085   total action:  30.557   change: 8.7023e-06\n",
      "step: 422   accept rate: 0.99998   average_plaquette: 0.84088   total action:  30.552   change: 2.4378e-05\n",
      "step: 423   accept rate: 0.99998   average_plaquette:  0.8409   total action:  30.548   change: 4.7088e-05\n",
      "step: 424   accept rate:    1      average_plaquette: 0.84088   total action:  30.551   change: 4.53e-06\n",
      "step: 425   accept rate:    1      average_plaquette: 0.84088   total action:  30.552   change: -2.3007e-05\n",
      "step: 426   accept rate:    1      average_plaquette: 0.84087   total action:  30.553   change: -1.3888e-05\n",
      "step: 427   accept rate:    1      average_plaquette: 0.84086   total action:  30.555   change: -1.6809e-05\n",
      "step: 428   accept rate:    1      average_plaquette: 0.84087   total action:  30.553   change: 4.0531e-06\n",
      "step: 429   accept rate:    1      average_plaquette: 0.84088   total action:  30.551   change: 2.4319e-05\n",
      "step: 430   accept rate:    1      average_plaquette: 0.84088   total action:  30.551   change: 9.8944e-06\n",
      "step: 431   accept rate: 0.99998   average_plaquette: 0.84089   total action:  30.549   change: 6.7353e-06\n",
      "step: 432   accept rate: 0.99997   average_plaquette: 0.84088   total action:  30.551   change: 1.1921e-07\n",
      "step: 433   accept rate: 0.99995   average_plaquette: 0.84089   total action:  30.55    change: -3.9339e-06\n",
      "step: 434   accept rate:    1      average_plaquette: 0.84088   total action:  30.551   change: -1.7881e-07\n",
      "step: 435   accept rate:    1      average_plaquette: 0.84088   total action:  30.55    change: -1.0729e-06\n",
      "step: 436   accept rate: 0.99998   average_plaquette: 0.84088   total action:  30.551   change: -2.3842e-06\n",
      "step: 437   accept rate:    1      average_plaquette: 0.84087   total action:  30.552   change: -1.0908e-05\n",
      "step: 438   accept rate: 0.99996   average_plaquette: 0.84089   total action:  30.55    change: 6.4969e-06\n",
      "step: 439   accept rate: 0.99997   average_plaquette: 0.84089   total action:  30.55    change: 1.2279e-05\n",
      "step: 440   accept rate:    1      average_plaquette: 0.84085   total action:  30.556   change: -3.1292e-05\n",
      "step: 441   accept rate: 0.99998   average_plaquette: 0.84086   total action:  30.555   change: -2.7597e-05\n",
      "step: 442   accept rate: 0.99993   average_plaquette: 0.84087   total action:  30.552   change: 1.9133e-05\n",
      "step: 443   accept rate:    1      average_plaquette: 0.84089   total action:  30.55    change: 2.7478e-05\n",
      "step: 444   accept rate:    1      average_plaquette:  0.8409   total action:  30.548   change: 2.3305e-05\n",
      "step: 445   accept rate:    1      average_plaquette:  0.8409   total action:  30.548   change: 1.1325e-05\n",
      "step: 446   accept rate:    1      average_plaquette: 0.84091   total action:  30.544   change: 1.7285e-05\n",
      "step: 447   accept rate:    1      average_plaquette: 0.84092   total action:  30.543   change: 2.2471e-05\n",
      "step: 448   accept rate:    1      average_plaquette: 0.84092   total action:  30.543   change: 6.8545e-06\n",
      "step: 449   accept rate:    1      average_plaquette: 0.84092   total action:  30.544   change: -2.265e-06\n",
      "step: 450   accept rate: 0.99998   average_plaquette:  0.8409   total action:  30.547   change: -1.967e-05\n",
      "step: 451   accept rate:    1      average_plaquette:  0.8409   total action:  30.547   change: -1.6034e-05\n",
      "step: 452   accept rate:    1      average_plaquette: 0.84091   total action:  30.545   change: 9.1791e-06\n",
      "step: 453   accept rate:    1      average_plaquette: 0.84091   total action:  30.545   change: 9.0599e-06\n",
      "step: 454   accept rate: 0.99997   average_plaquette:  0.8409   total action:  30.548   change: -1.353e-05\n",
      "step: 455   accept rate: 0.99995   average_plaquette:  0.8409   total action:  30.548   change: -1.3232e-05\n",
      "step: 456   accept rate: 0.99995   average_plaquette: 0.84088   total action:  30.55    change: -1.2517e-05\n",
      "step: 457   accept rate:    1      average_plaquette: 0.84089   total action:  30.549   change: -4.7684e-06\n",
      "step: 458   accept rate:    1      average_plaquette: 0.84088   total action:  30.55    change: 5.9605e-07\n",
      "step: 459   accept rate:    1      average_plaquette: 0.84088   total action:  30.551   change: -9.8944e-06\n",
      "step: 460   accept rate:    1      average_plaquette: 0.84089   total action:  30.549   change: 5.126e-06\n",
      "step: 461   accept rate:    1      average_plaquette: 0.84089   total action:  30.549   change: 9.0003e-06\n",
      "step: 462   accept rate:    1      average_plaquette: 0.84089   total action:  30.549   change: 1.7881e-06\n",
      "step: 463   accept rate:    1      average_plaquette: 0.84088   total action:  30.55    change: -6.9737e-06\n"
     ]
    },
    {
     "name": "stdout",
     "output_type": "stream",
     "text": [
      "step: 464   accept rate: 0.99999   average_plaquette: 0.84088   total action:  30.551   change: -1.1683e-05\n",
      "step: 465   accept rate: 0.99995   average_plaquette: 0.84089   total action:  30.55    change: 8.3447e-07\n",
      "step: 466   accept rate:    1      average_plaquette: 0.84088   total action:  30.551   change: -2.3246e-06\n",
      "step: 467   accept rate: 0.99999   average_plaquette: 0.84088   total action:  30.551   change: -6.3777e-06\n",
      "step: 468   accept rate: 0.99998   average_plaquette: 0.84088   total action:  30.55    change: 5.7817e-06\n",
      "step: 469   accept rate: 0.99995   average_plaquette: 0.84088   total action:  30.55    change: 5.2452e-06\n",
      "step: 470   accept rate: 0.99998   average_plaquette: 0.84089   total action:  30.549   change: 9.5367e-06\n",
      "step: 471   accept rate:    1      average_plaquette:  0.8409   total action:  30.547   change: 1.4901e-05\n",
      "step: 472   accept rate:    1      average_plaquette: 0.84089   total action:  30.549   change: -8.3447e-07\n",
      "step: 473   accept rate:    1      average_plaquette: 0.84089   total action:  30.55    change: -1.3471e-05\n",
      "step: 474   accept rate: 0.99998   average_plaquette: 0.84089   total action:  30.549   change: -3.9935e-06\n",
      "step: 475   accept rate:    1      average_plaquette: 0.84089   total action:  30.549   change: 5.722e-06\n",
      "step: 476   accept rate:    1      average_plaquette:  0.8409   total action:  30.548   change: 9.4175e-06\n",
      "step: 477   accept rate:    1      average_plaquette:  0.8409   total action:  30.546   change: 1.2755e-05\n",
      "step: 478   accept rate: 0.99998   average_plaquette: 0.84092   total action:  30.544   change: 1.9968e-05\n",
      "step: 479   accept rate: 0.99995   average_plaquette: 0.84092   total action:  30.544   change: 1.4186e-05\n",
      "step: 480   accept rate: 0.99999   average_plaquette: 0.84092   total action:  30.544   change: -8.9407e-07\n",
      "step: 481   accept rate:    1      average_plaquette: 0.84092   total action:  30.544   change: -1.1325e-06\n",
      "step: 482   accept rate:    1      average_plaquette: 0.84092   total action:  30.543   change: 3.2783e-06\n",
      "step: 483   accept rate:    1      average_plaquette: 0.84092   total action:  30.543   change: 2.8014e-06\n",
      "step: 484   accept rate:    1      average_plaquette: 0.84092   total action:  30.542   change: 4.7088e-06\n",
      "step: 485   accept rate:    1      average_plaquette: 0.84093   total action:  30.542   change: 9.3579e-06\n",
      "step: 486   accept rate:    1      average_plaquette: 0.84093   total action:  30.541   change: 8.9407e-06\n",
      "step: 487   accept rate: 0.99997   average_plaquette: 0.84093   total action:  30.541   change: 1.1325e-06\n",
      "step: 488   accept rate: 0.99995   average_plaquette: 0.84093   total action:  30.541   change: -3.7551e-06\n",
      "step: 489   accept rate: 0.99998   average_plaquette: 0.84093   total action:  30.541   change: 5.9605e-08\n",
      "step: 490   accept rate:    1      average_plaquette: 0.84093   total action:  30.542   change: -3.3379e-06\n",
      "step: 491   accept rate:    1      average_plaquette: 0.84094   total action:  30.54    change: 5.722e-06\n",
      "step: 492   accept rate: 0.99995   average_plaquette: 0.84093   total action:  30.541   change: 6.9141e-06\n",
      "step: 493   accept rate:    1      average_plaquette: 0.84094   total action:  30.54    change: 1.3709e-06\n",
      "step: 494   accept rate:    1      average_plaquette: 0.84094   total action:  30.54    change: 4.9472e-06\n",
      "step: 495   accept rate:    1      average_plaquette: 0.84094   total action:  30.539   change: 4.7684e-06\n",
      "step: 496   accept rate:    1      average_plaquette: 0.84094   total action:  30.539   change: 4.9472e-06\n",
      "step: 497   accept rate:    1      average_plaquette: 0.84093   total action:  30.541   change: -7.2122e-06\n",
      "step: 498   accept rate:    1      average_plaquette: 0.84094   total action:  30.539   change: 5.3644e-07\n",
      "step: 499   accept rate: 0.99999   average_plaquette: 0.84094   total action:  30.54    change: 4.7088e-06\n"
     ]
    }
   ],
   "source": [
    "momentum0 = np.random.randn(*lattice.links_flat.shape)\n",
    "links0 = lattice.links_flat\n",
    "#momentum0 = np.random.randn(*position_init.shape)\n",
    "links0 = position_init\n",
    "links_arr = [links0]\n",
    "vel_arr = []\n",
    "probs_arr = []\n",
    "avg_plaq_arr = [lattice._average_plaquette(links0)]\n",
    "total_action_arr = [lattice._total_action(links0)]\n",
    "links1 = links0\n",
    "num_steps = 500\n",
    "for i in range(num_steps):\n",
    "    links1, vel1, probs1 = lattice_hmc.apply_transition(links1)\n",
    "    total_action = lattice._total_action(links1)\n",
    "    avg_plaq = lattice._average_plaquette(links1)\n",
    "    print(f'step: {i:<5g} accept rate: {np.mean(probs1):^8.5g}  '\n",
    "          f'average_plaquette: {avg_plaq:^8.5g}  '\n",
    "          f'total action: {total_action:^8.5g}  '\n",
    "          f'change: {avg_plaq - avg_plaq_arr[i-1]:^8.5g}')\n",
    "    avg_plaq_arr.append(avg_plaq)\n",
    "    total_action_arr.append(total_action)\n",
    "    if i % 50 == 0:\n",
    "        links_arr.append(links1)\n",
    "        vel_arr.append(vel1)\n",
    "        probs_arr.append(probs1)\n",
    "    if i % (num_steps // 10):\n",
    "        lattice_hmc.step_size *= 0.98"
   ]
  },
  {
   "cell_type": "code",
   "execution_count": 106,
   "metadata": {
    "ExecuteTime": {
     "end_time": "2018-11-01T23:17:32.922578Z",
     "start_time": "2018-11-01T23:17:32.834918Z"
    }
   },
   "outputs": [
    {
     "data": {
      "text/plain": [
       "0.8173924"
      ]
     },
     "execution_count": 106,
     "metadata": {},
     "output_type": "execute_result"
    }
   ],
   "source": [
    "np.mean(avg_plaq_arr)"
   ]
  },
  {
   "cell_type": "code",
   "execution_count": 107,
   "metadata": {
    "ExecuteTime": {
     "end_time": "2018-11-01T23:17:45.917825Z",
     "start_time": "2018-11-01T23:17:44.361667Z"
    }
   },
   "outputs": [],
   "source": [
    "avg_plaquettes = [lattice._average_plaquette(config) for config in links_arr]"
   ]
  },
  {
   "cell_type": "code",
   "execution_count": 111,
   "metadata": {
    "ExecuteTime": {
     "end_time": "2018-11-01T23:18:05.904043Z",
     "start_time": "2018-11-01T23:18:05.832670Z"
    }
   },
   "outputs": [
    {
     "data": {
      "text/plain": [
       "0.8431919"
      ]
     },
     "execution_count": 111,
     "metadata": {},
     "output_type": "execute_result"
    }
   ],
   "source": [
    "np.mean(avg_plaquettes)"
   ]
  },
  {
   "cell_type": "code",
   "execution_count": 110,
   "metadata": {
    "ExecuteTime": {
     "end_time": "2018-11-01T23:17:56.011836Z",
     "start_time": "2018-11-01T23:17:55.938551Z"
    }
   },
   "outputs": [
    {
     "data": {
      "text/plain": [
       "0.8099852939565045"
      ]
     },
     "execution_count": 110,
     "metadata": {},
     "output_type": "execute_result"
    }
   ],
   "source": [
    "u1_plaq_exact(beta)"
   ]
  },
  {
   "cell_type": "code",
   "execution_count": null,
   "metadata": {},
   "outputs": [],
   "source": []
  },
  {
   "cell_type": "code",
   "execution_count": null,
   "metadata": {},
   "outputs": [],
   "source": []
  },
  {
   "cell_type": "code",
   "execution_count": null,
   "metadata": {},
   "outputs": [],
   "source": []
  },
  {
   "cell_type": "code",
   "execution_count": null,
   "metadata": {},
   "outputs": [],
   "source": []
  },
  {
   "cell_type": "code",
   "execution_count": null,
   "metadata": {},
   "outputs": [],
   "source": []
  },
  {
   "cell_type": "code",
   "execution_count": null,
   "metadata": {},
   "outputs": [],
   "source": []
  },
  {
   "cell_type": "markdown",
   "metadata": {
    "heading_collapsed": true
   },
   "source": [
    "## Strongly Correlated Gaussian target distribution (for testing HMC implementation)"
   ]
  },
  {
   "cell_type": "markdown",
   "metadata": {
    "heading_collapsed": true,
    "hidden": true
   },
   "source": [
    "### Define log density function of target distribution (potential energy function) $S(x)$\n",
    "\n",
    "$$ S(\\mathbf{x}) = \\frac{-\\frac{1}{2} (\\mathbf{x} - \\mathbf{\\mu})^{T} \\mathbf{\\Sigma}^{-1}(\\mathbf{x} - \\mathbf{\\mu})}{\\sqrt{|\\Sigma|}} $$ \n"
   ]
  },
  {
   "cell_type": "code",
   "execution_count": 16,
   "metadata": {
    "ExecuteTime": {
     "end_time": "2018-10-24T05:05:25.661962Z",
     "start_time": "2018-10-24T05:05:25.592019Z"
    },
    "hidden": true
   },
   "outputs": [],
   "source": [
    "mu = np.zeros(2)\n",
    "cov = np.array([[1., 0.95], [0.95, 1.]], dtype=np.float32)\n",
    "cov_inv = np.linalg.inv(np.copy(cov))\n",
    "def quadratic_gaussian(x):\n",
    "    x_mu = x - mu\n",
    "    return 0.5 * tf.reduce_sum(tf.transpose(x_mu) * cov_inv * x_mu)\n",
    "\n",
    "def quadratic_gaussian_grad(x):\n",
    "    return x"
   ]
  },
  {
   "cell_type": "markdown",
   "metadata": {
    "hidden": true
   },
   "source": [
    "### Exact target distribution"
   ]
  },
  {
   "cell_type": "code",
   "execution_count": 18,
   "metadata": {
    "ExecuteTime": {
     "end_time": "2018-10-24T05:20:41.801881Z",
     "start_time": "2018-10-24T05:20:41.487505Z"
    },
    "hidden": true
   },
   "outputs": [],
   "source": [
    "mean = [0, 0]\n",
    "cov = [[1., 0.95], [0.95, 1.]]\n",
    "samples_x, samples_y = np.random.multivariate_normal(mean, cov, 1000).T"
   ]
  },
  {
   "cell_type": "markdown",
   "metadata": {
    "hidden": true
   },
   "source": [
    "### Instantiate HMC object for sampling"
   ]
  },
  {
   "cell_type": "code",
   "execution_count": 19,
   "metadata": {
    "ExecuteTime": {
     "end_time": "2018-10-24T05:20:55.116071Z",
     "start_time": "2018-10-24T05:20:55.032927Z"
    },
    "hidden": true
   },
   "outputs": [],
   "source": [
    "step_size = 0.1\n",
    "n_leapfrog_steps = 15\n",
    "hmc = HMC(position_init=np.random.randn(2), \n",
    "          step_size=step_size,\n",
    "          n_leapfrog_steps=n_leapfrog_steps,\n",
    "          potential_fn=quadratic_gaussian,\n",
    "          grad_potential_fn=grad_quad_gaussian)\n",
    "          #grad_potential_fn=grad_quad_gaussian)"
   ]
  },
  {
   "cell_type": "code",
   "execution_count": 11,
   "metadata": {
    "ExecuteTime": {
     "end_time": "2018-10-24T05:03:30.730373Z",
     "start_time": "2018-10-24T05:03:30.143537Z"
    },
    "hidden": true
   },
   "outputs": [],
   "source": [
    "pos0 = [[-1., 1.]]\n",
    "pos = [pos0]\n",
    "vel = []\n",
    "probs = []\n",
    "pos1 = pos0\n",
    "\n",
    "for i in range(500):\n",
    "    #pos0 = pos[i-1]\n",
    "    pos1, vel1, probs1 = hmc.apply_transition(pos1)\n",
    "    pos.append(pos1)\n",
    "    vel.append(vel1)\n",
    "    probs.append(probs1)\n",
    "pos = np.array(pos).reshape(len(pos), -1)\n",
    "vel = np.array(vel)\n",
    "probs = np.array(probs)"
   ]
  },
  {
   "cell_type": "code",
   "execution_count": 15,
   "metadata": {
    "ExecuteTime": {
     "end_time": "2018-10-24T05:03:52.287961Z",
     "start_time": "2018-10-24T05:03:51.751937Z"
    },
    "hidden": true
   },
   "outputs": [
    {
     "data": {
      "image/png": "[encoded data removed]",
      "text/plain": [
       "<Figure size 432x288 with 1 Axes>"
      ]
     },
     "metadata": {},
     "output_type": "display_data"
    }
   ],
   "source": [
    "fig, ax = plt.subplots()\n",
    "_ = ax.plot(samples_x, samples_y, marker='o', ls='', alpha=0.45)\n",
    "_ = ax.plot(pos[:,0], pos[:,1], marker='o', ls='', alpha=0.6)\n",
    "_ = ax.set_title('500 transitions, numerical gradient')\n",
    "plt.show()"
   ]
  },
  {
   "cell_type": "markdown",
   "metadata": {
    "heading_collapsed": true,
    "hidden": true
   },
   "source": [
    "### Look at the leapfrog integrator to tune hyperparameters"
   ]
  },
  {
   "cell_type": "code",
   "execution_count": 12,
   "metadata": {
    "ExecuteTime": {
     "end_time": "2018-10-24T05:03:35.465585Z",
     "start_time": "2018-10-24T05:03:35.380420Z"
    },
    "hidden": true
   },
   "outputs": [],
   "source": [
    "x0 = np.array([-1., 1.])\n",
    "p0 = np.random.randn(*np.array(x0).shape)\n",
    "x, p = x0, p0\n",
    "x_arr = []\n",
    "p_arr = []\n",
    "for i in range(n_leapfrog_steps):\n",
    "    lf_out = hmc._leapfrog_fn(x, p, i)\n",
    "    x, p = lf_out\n",
    "    x_arr.append(x)\n",
    "    p_arr.append(p)\n",
    "x_arr = np.array(x_arr)\n",
    "p_arr = np.array(p_arr)"
   ]
  },
  {
   "cell_type": "code",
   "execution_count": 14,
   "metadata": {
    "ExecuteTime": {
     "end_time": "2018-10-24T05:03:44.723110Z",
     "start_time": "2018-10-24T05:03:44.174202Z"
    },
    "hidden": true
   },
   "outputs": [
    {
     "data": {
      "image/png": "[encoded data removed]",
      "text/plain": [
       "<Figure size 432x288 with 1 Axes>"
      ]
     },
     "metadata": {},
     "output_type": "display_data"
    }
   ],
   "source": [
    "fig, ax = plt.subplots()\n",
    "_ = ax.plot(samples_x, samples_y, marker='o', ls='', alpha=0.45)\n",
    "_ = ax.plot(x_arr[:,0], x_arr[:,1], marker='.', ls='-', alpha=0.6)\n",
    "plt.show()"
   ]
  },
  {
   "cell_type": "code",
   "execution_count": null,
   "metadata": {
    "hidden": true
   },
   "outputs": [],
   "source": []
  },
  {
   "cell_type": "code",
   "execution_count": 15,
   "metadata": {
    "ExecuteTime": {
     "end_time": "2018-10-24T05:03:52.287961Z",
     "start_time": "2018-10-24T05:03:51.751937Z"
    },
    "hidden": true
   },
   "outputs": [
    {
     "data": {
      "image/png": "[encoded data removed]",
      "text/plain": [
       "<Figure size 432x288 with 1 Axes>"
      ]
     },
     "metadata": {},
     "output_type": "display_data"
    }
   ],
   "source": [
    "fig, ax = plt.subplots()\n",
    "_ = ax.plot(samples_x, samples_y, marker='o', ls='', alpha=0.45)\n",
    "_ = ax.plot(pos[:,0], pos[:,1], marker='o', ls='', alpha=0.6)\n",
    "_ = ax.set_title('500 transitions, numerical gradient')\n",
    "plt.show()"
   ]
  }
 ],
 "metadata": {
  "hide_input": false,
  "kernelspec": {
   "display_name": "Python 3",
   "language": "python",
   "name": "python3"
  },
  "language_info": {
   "codemirror_mode": {
    "name": "ipython",
    "version": 3
   },
   "file_extension": ".py",
   "mimetype": "text/x-python",
   "name": "python",
   "nbconvert_exporter": "python",
   "pygments_lexer": "ipython3",
   "version": "3.6.5"
  },
  "latex_envs": {
   "LaTeX_envs_menu_present": true,
   "autoclose": false,
   "autocomplete": false,
   "bibliofile": "biblio.bib",
   "cite_by": "apalike",
   "current_citInitial": 1,
   "eqLabelWithNumbers": true,
   "eqNumInitial": 1,
   "hotkeys": {
    "equation": "Ctrl-E",
    "itemize": "Ctrl-I"
   },
   "labels_anchors": false,
   "latex_user_defs": false,
   "report_style_numbering": false,
   "user_envs_cfg": false
  },
  "varInspector": {
   "cols": {
    "lenName": 16,
    "lenType": 16,
    "lenVar": 40
   },
   "kernels_config": {
    "python": {
     "delete_cmd_postfix": "",
     "delete_cmd_prefix": "del ",
     "library": "var_list.py",
     "varRefreshCmd": "print(var_dic_list())"
    },
    "r": {
     "delete_cmd_postfix": ") ",
     "delete_cmd_prefix": "rm(",
     "library": "var_list.r",
     "varRefreshCmd": "cat(var_dic_list()) "
    }
   },
   "types_to_exclude": [
    "module",
    "function",
    "builtin_function_or_method",
    "instance",
    "_Feature"
   ],
   "window_display": false
  }
 },
 "nbformat": 4,
 "nbformat_minor": 2
}
