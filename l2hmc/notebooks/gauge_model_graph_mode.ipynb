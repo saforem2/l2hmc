{
 "cells": [
  {
   "cell_type": "markdown",
   "metadata": {},
   "source": [
    "# $U(1)$ Gauge Model using L2HMC in graph mode"
   ]
  },
  {
   "cell_type": "code",
   "execution_count": 1,
   "metadata": {
    "ExecuteTime": {
     "end_time": "2018-12-28T03:22:03.467425Z",
     "start_time": "2018-12-28T03:21:52.792864Z"
    }
   },
   "outputs": [
    {
     "name": "stderr",
     "output_type": "stream",
     "text": [
      "Using TensorFlow backend.\n"
     ]
    }
   ],
   "source": [
    "import os\n",
    "import sys\n",
    "import time\n",
    "import numpy as np\n",
    "import tensorflow as tf\n",
    "import matplotlib.pyplot as plt\n",
    "from scipy.special import i0, i1\n",
    "\n",
    "module_path = os.path.abspath(os.path.join('..'))\n",
    "if module_path not in sys.path:\n",
    "    sys.path.append(module_path)\n",
    "\n",
    "from utils.data_utils import (\n",
    "    calc_avg_vals_errors, block_resampling, jackknife_err\n",
    ")\n",
    "\n",
    "%autoreload 2\n",
    "%matplotlib notebook\n",
    "\n",
    "from l2hmc_eager import gauge_dynamics_eager as gde"
   ]
  },
  {
   "cell_type": "code",
   "execution_count": 2,
   "metadata": {
    "ExecuteTime": {
     "end_time": "2018-12-28T03:25:02.979939Z",
     "start_time": "2018-12-28T03:25:02.783331Z"
    }
   },
   "outputs": [],
   "source": [
    "#tf.enable_eager_execution()\n",
    "tfe = tf.contrib.eager\n",
    "\n",
    "from u1_model_eager import GaugeModelEager, train_one_iter\n",
    "from gauge_model import GaugeModel\n",
    "\n",
    "import utils.gauge_model_helpers as helpers"
   ]
  },
  {
   "cell_type": "code",
   "execution_count": 3,
   "metadata": {
    "ExecuteTime": {
     "end_time": "2018-12-28T03:25:03.633261Z",
     "start_time": "2018-12-28T03:25:03.585541Z"
    }
   },
   "outputs": [],
   "source": [
    "def autocorr(x):\n",
    "    result = np.correlate(x, x, mode='full')\n",
    "    result /= result[result.argmax()]\n",
    "    return result[result.size//2:]"
   ]
  },
  {
   "cell_type": "markdown",
   "metadata": {},
   "source": [
    "## Define parameters"
   ]
  },
  {
   "cell_type": "code",
   "execution_count": 5,
   "metadata": {
    "ExecuteTime": {
     "end_time": "2018-12-28T03:25:52.199087Z",
     "start_time": "2018-12-28T03:25:52.121713Z"
    },
    "code_folding": []
   },
   "outputs": [],
   "source": [
    "params = {\n",
    "    'time_size': 16,\n",
    "    'space_size': 16,\n",
    "    'link_type': 'U1',\n",
    "    'dim': 2,\n",
    "    'beta': 8.,\n",
    "    'num_samples': 2,\n",
    "    'num_steps': 10,\n",
    "    'eps': 0.1,\n",
    "    'loss_scale': 0.1,\n",
    "    'loss_eps': 1e-4,\n",
    "    'learning_rate_init': 1e-4,\n",
    "    'learning_rate_decay_steps': 100,\n",
    "    'learning_rate_decay_rate': 0.96,\n",
    "    'train_steps': 1000,\n",
    "    'record_loss_every': 50,\n",
    "    'data_steps': 100,\n",
    "    'save_steps': 500,\n",
    "    'print_steps': 5,\n",
    "    'logging_steps': 100,\n",
    "    'clip_value': 50,\n",
    "    'rand': False,\n",
    "    'metric': 'l2',\n",
    "}\n",
    "tf.reset_default_graph()"
   ]
  },
  {
   "cell_type": "code",
   "execution_count": null,
   "metadata": {},
   "outputs": [],
   "source": []
  },
  {
   "cell_type": "markdown",
   "metadata": {},
   "source": [
    "## Create model"
   ]
  },
  {
   "cell_type": "code",
   "execution_count": 13,
   "metadata": {
    "ExecuteTime": {
     "end_time": "2018-12-28T00:59:06.223734Z",
     "start_time": "2018-12-28T00:59:06.151948Z"
    }
   },
   "outputs": [],
   "source": [
    "del model"
   ]
  },
  {
   "cell_type": "code",
   "execution_count": 6,
   "metadata": {
    "ExecuteTime": {
     "end_time": "2018-12-28T03:25:54.565656Z",
     "start_time": "2018-12-28T03:25:54.501703Z"
    }
   },
   "outputs": [],
   "source": [
    "config = tf.ConfigProto()\n",
    "tf.reset_default_graph()"
   ]
  },
  {
   "cell_type": "code",
   "execution_count": 15,
   "metadata": {
    "ExecuteTime": {
     "end_time": "2018-12-28T00:59:08.057984Z",
     "start_time": "2018-12-28T00:59:08.000180Z"
    }
   },
   "outputs": [],
   "source": [
    "tf.reset_default_graph()"
   ]
  },
  {
   "cell_type": "code",
   "execution_count": null,
   "metadata": {
    "ExecuteTime": {
     "end_time": "2018-12-28T04:04:11.631482Z",
     "start_time": "2018-12-28T03:25:56.214374Z"
    },
    "code_folding": []
   },
   "outputs": [],
   "source": [
    "model = GaugeModel(params=params,\n",
    "                   config=config,\n",
    "                   sess=None,\n",
    "                   conv_net=True,\n",
    "                   hmc=False,\n",
    "                   log_dir=None,\n",
    "                   restore=False,\n",
    "                   eps_trainable=True)"
   ]
  },
  {
   "cell_type": "code",
   "execution_count": null,
   "metadata": {},
   "outputs": [],
   "source": []
  },
  {
   "cell_type": "code",
   "execution_count": null,
   "metadata": {
    "ExecuteTime": {
     "start_time": "2018-12-28T04:07:40.203Z"
    }
   },
   "outputs": [
    {
     "name": "stdout",
     "output_type": "stream",
     "text": [
      "--------------------------------------------------------------------------\n",
      "    STEP         LOSS     TIME/STEP    ACCEPT %      EPS          LR     \n",
      "--------------------------------------------------------------------------\n"
     ]
    }
   ],
   "source": [
    "model.train(1000, kill_sess=False)"
   ]
  },
  {
   "cell_type": "code",
   "execution_count": 8,
   "metadata": {
    "ExecuteTime": {
     "end_time": "2018-12-28T03:00:49.943839Z",
     "start_time": "2018-12-28T02:56:13.247668Z"
    }
   },
   "outputs": [
    {
     "name": "stdout",
     "output_type": "stream",
     "text": [
      "Running (trained) L2HMC sampler for 500 steps...\n",
      "step:   0     model invariant time / step: 166.1 \n",
      "step:   1     model invariant time / step: 0.1795\n",
      "step:   2     model invariant time / step: 0.219 \n",
      "step:   3     model invariant time / step: 0.1925\n",
      "step:   4     model invariant time / step: 0.1951\n",
      "step:   5     model invariant time / step: 0.1738\n",
      "step:   6     model invariant time / step: 0.2084\n",
      "step:   7     model invariant time / step: 0.2007\n",
      "step:   8     model invariant time / step: 0.211 \n",
      "step:   9     model invariant time / step: 0.1934\n",
      "step:   10    model invariant time / step: 0.2049\n",
      "step:   11    model invariant time / step: 0.2117\n",
      "step:   12    model invariant time / step: 0.2033\n",
      "step:   13    model invariant time / step: 0.1854\n",
      "step:   14    model invariant time / step: 0.2134\n",
      "step:   15    model invariant time / step: 0.1905\n",
      "step:   16    model invariant time / step: 0.185 \n",
      "step:   17    model invariant time / step:  0.17 \n",
      "step:   18    model invariant time / step: 0.1804\n",
      "step:   19    model invariant time / step: 0.174 \n",
      "step:   20    model invariant time / step: 0.2022\n",
      "step:   21    model invariant time / step: 0.1807\n",
      "step:   22    model invariant time / step: 0.1886\n",
      "step:   23    model invariant time / step: 0.1899\n",
      "step:   24    model invariant time / step: 0.208 \n",
      "step:   25    model invariant time / step: 0.194 \n",
      "step:   26    model invariant time / step: 0.2011\n",
      "step:   27    model invariant time / step: 0.1952\n",
      "step:   28    model invariant time / step: 0.2142\n",
      "step:   29    model invariant time / step: 0.1914\n",
      "step:   30    model invariant time / step: 0.1894\n",
      "step:   31    model invariant time / step: 0.182 \n",
      "step:   32    model invariant time / step: 0.2193\n",
      "step:   33    model invariant time / step: 0.2149\n",
      "step:   34    model invariant time / step: 0.221 \n",
      "step:   35    model invariant time / step: 0.2173\n",
      "step:   36    model invariant time / step: 0.2253\n",
      "step:   37    model invariant time / step: 0.2616\n",
      "step:   38    model invariant time / step: 0.2754\n",
      "step:   39    model invariant time / step: 0.1988\n",
      "step:   40    model invariant time / step: 0.2128\n",
      "step:   41    model invariant time / step: 0.208 \n",
      "step:   42    model invariant time / step: 0.2053\n",
      "step:   43    model invariant time / step: 0.1935\n",
      "step:   44    model invariant time / step: 0.2055\n",
      "step:   45    model invariant time / step: 0.1961\n",
      "step:   46    model invariant time / step: 0.2024\n",
      "step:   47    model invariant time / step: 0.2017\n",
      "step:   48    model invariant time / step: 0.2108\n",
      "step:   49    model invariant time / step: 0.196 \n",
      "step:   50    model invariant time / step: 0.2155\n",
      "step:   51    model invariant time / step: 0.2155\n",
      "step:   52    model invariant time / step: 0.2197\n",
      "step:   53    model invariant time / step: 0.2171\n",
      "step:   54    model invariant time / step: 0.2012\n",
      "step:   55    model invariant time / step: 0.2106\n",
      "step:   56    model invariant time / step: 0.2127\n",
      "step:   57    model invariant time / step: 0.2076\n",
      "step:   58    model invariant time / step: 0.1895\n",
      "step:   59    model invariant time / step: 0.2007\n",
      "step:   60    model invariant time / step: 0.2003\n",
      "step:   61    model invariant time / step: 0.2232\n",
      "step:   62    model invariant time / step: 0.2112\n",
      "step:   63    model invariant time / step: 0.2003\n",
      "step:   64    model invariant time / step:  0.2  \n",
      "step:   65    model invariant time / step: 0.2004\n",
      "step:   66    model invariant time / step: 0.1988\n",
      "step:   67    model invariant time / step: 0.1921\n",
      "step:   68    model invariant time / step: 0.2094\n",
      "step:   69    model invariant time / step: 0.2095\n",
      "step:   70    model invariant time / step: 0.2066\n",
      "step:   71    model invariant time / step: 0.2089\n",
      "step:   72    model invariant time / step: 0.2149\n",
      "step:   73    model invariant time / step: 0.2069\n",
      "step:   74    model invariant time / step: 0.211 \n",
      "step:   75    model invariant time / step: 0.2532\n",
      "step:   76    model invariant time / step: 0.2074\n",
      "step:   77    model invariant time / step: 0.2043\n",
      "step:   78    model invariant time / step: 0.2245\n",
      "step:   79    model invariant time / step: 0.2151\n",
      "step:   80    model invariant time / step: 0.2279\n",
      "step:   81    model invariant time / step: 0.2111\n",
      "step:   82    model invariant time / step: 0.2009\n",
      "step:   83    model invariant time / step: 0.214 \n",
      "step:   84    model invariant time / step: 0.203 \n",
      "step:   85    model invariant time / step: 0.2167\n",
      "step:   86    model invariant time / step: 0.2271\n",
      "step:   87    model invariant time / step: 0.1973\n",
      "step:   88    model invariant time / step: 0.2028\n",
      "step:   89    model invariant time / step: 0.1987\n",
      "step:   90    model invariant time / step: 0.2123\n",
      "step:   91    model invariant time / step: 0.2003\n",
      "step:   92    model invariant time / step: 0.2021\n",
      "step:   93    model invariant time / step: 0.2048\n",
      "step:   94    model invariant time / step: 0.2065\n",
      "step:   95    model invariant time / step: 0.2104\n",
      "step:   96    model invariant time / step: 0.2151\n",
      "step:   97    model invariant time / step: 0.2122\n",
      "step:   98    model invariant time / step: 0.2064\n",
      "step:   99    model invariant time / step: 0.2148\n",
      "step:  100    model invariant time / step: 0.2139\n",
      "step:  101    model invariant time / step: 0.2018\n",
      "step:  102    model invariant time / step: 0.1937\n",
      "step:  103    model invariant time / step: 0.1886\n",
      "step:  104    model invariant time / step: 0.2224\n",
      "step:  105    model invariant time / step: 0.2127\n",
      "step:  106    model invariant time / step: 0.1948\n",
      "step:  107    model invariant time / step: 0.201 \n",
      "step:  108    model invariant time / step: 0.1967\n",
      "step:  109    model invariant time / step: 0.2056\n",
      "step:  110    model invariant time / step: 0.2053\n",
      "step:  111    model invariant time / step: 0.2039\n",
      "step:  112    model invariant time / step: 0.2121\n",
      "step:  113    model invariant time / step: 0.1967\n",
      "step:  114    model invariant time / step: 0.2049\n",
      "step:  115    model invariant time / step: 0.223 \n",
      "step:  116    model invariant time / step: 0.1953\n",
      "step:  117    model invariant time / step: 0.2137\n",
      "step:  118    model invariant time / step: 0.1986\n",
      "step:  119    model invariant time / step: 0.2354\n",
      "step:  120    model invariant time / step: 0.2242\n",
      "step:  121    model invariant time / step: 0.2207\n",
      "step:  122    model invariant time / step: 0.2119\n",
      "step:  123    model invariant time / step: 0.2545\n",
      "step:  124    model invariant time / step: 0.2072\n",
      "step:  125    model invariant time / step: 0.1975\n",
      "step:  126    model invariant time / step: 0.2082\n",
      "step:  127    model invariant time / step: 0.2137\n",
      "step:  128    model invariant time / step: 0.2447\n",
      "step:  129    model invariant time / step: 0.2215\n",
      "step:  130    model invariant time / step: 0.1985\n",
      "step:  131    model invariant time / step: 0.209 \n",
      "step:  132    model invariant time / step: 0.2888\n",
      "step:  133    model invariant time / step: 0.2153\n",
      "step:  134    model invariant time / step: 0.2005\n",
      "step:  135    model invariant time / step: 0.1971\n",
      "step:  136    model invariant time / step: 0.217 \n",
      "step:  137    model invariant time / step: 0.2229\n",
      "step:  138    model invariant time / step: 0.2337\n",
      "step:  139    model invariant time / step: 0.2086\n",
      "step:  140    model invariant time / step: 0.2057\n",
      "step:  141    model invariant time / step: 0.2151\n",
      "step:  142    model invariant time / step: 0.2142\n",
      "step:  143    model invariant time / step: 0.2122\n",
      "step:  144    model invariant time / step: 0.2052\n",
      "step:  145    model invariant time / step: 0.2083\n",
      "step:  146    model invariant time / step: 0.2489\n",
      "step:  147    model invariant time / step: 0.329 \n",
      "step:  148    model invariant time / step: 0.2028\n",
      "step:  149    model invariant time / step: 0.2226\n",
      "step:  150    model invariant time / step: 0.2222\n",
      "step:  151    model invariant time / step: 0.2348\n",
      "step:  152    model invariant time / step: 0.2141\n",
      "step:  153    model invariant time / step: 0.3324\n",
      "step:  154    model invariant time / step: 0.2763\n",
      "step:  155    model invariant time / step: 0.2275\n",
      "step:  156    model invariant time / step: 0.2552\n",
      "step:  157    model invariant time / step: 0.251 \n",
      "step:  158    model invariant time / step: 0.2407\n",
      "step:  159    model invariant time / step: 0.2204\n",
      "step:  160    model invariant time / step: 0.2124\n",
      "step:  161    model invariant time / step: 0.2096\n",
      "step:  162    model invariant time / step: 0.374 \n"
     ]
    },
    {
     "name": "stdout",
     "output_type": "stream",
     "text": [
      "step:  163    model invariant time / step: 0.392 \n",
      "step:  164    model invariant time / step: 0.4771\n",
      "step:  165    model invariant time / step: 0.2769\n",
      "step:  166    model invariant time / step: 0.2896\n",
      "step:  167    model invariant time / step: 0.2908\n",
      "step:  168    model invariant time / step: 0.3737\n",
      "step:  169    model invariant time / step: 0.3132\n",
      "step:  170    model invariant time / step: 0.2379\n",
      "step:  171    model invariant time / step: 0.3232\n",
      "step:  172    model invariant time / step: 0.3206\n",
      "step:  173    model invariant time / step: 0.2062\n",
      "step:  174    model invariant time / step: 0.2188\n",
      "step:  175    model invariant time / step: 0.1972\n",
      "step:  176    model invariant time / step: 0.2066\n",
      "step:  177    model invariant time / step: 0.1928\n",
      "step:  178    model invariant time / step: 0.2006\n",
      "step:  179    model invariant time / step: 0.1952\n",
      "step:  180    model invariant time / step: 0.2077\n",
      "step:  181    model invariant time / step: 0.3187\n",
      "step:  182    model invariant time / step: 0.2013\n",
      "step:  183    model invariant time / step: 0.2466\n",
      "step:  184    model invariant time / step: 0.2824\n",
      "step:  185    model invariant time / step: 0.2131\n",
      "step:  186    model invariant time / step: 0.217 \n",
      "step:  187    model invariant time / step: 0.2083\n",
      "step:  188    model invariant time / step: 0.2646\n",
      "step:  189    model invariant time / step: 0.2249\n",
      "step:  190    model invariant time / step:  0.24 \n",
      "step:  191    model invariant time / step: 0.3105\n",
      "step:  192    model invariant time / step: 0.2363\n",
      "step:  193    model invariant time / step: 0.2213\n",
      "step:  194    model invariant time / step: 0.2692\n",
      "step:  195    model invariant time / step: 0.2777\n",
      "step:  196    model invariant time / step: 0.2979\n",
      "step:  197    model invariant time / step: 0.2115\n",
      "step:  198    model invariant time / step: 0.2071\n",
      "step:  199    model invariant time / step: 0.1937\n",
      "step:  200    model invariant time / step: 0.1843\n",
      "step:  201    model invariant time / step: 0.3641\n",
      "step:  202    model invariant time / step: 0.332 \n",
      "step:  203    model invariant time / step: 0.3122\n",
      "step:  204    model invariant time / step: 0.2205\n",
      "step:  205    model invariant time / step: 0.2126\n",
      "step:  206    model invariant time / step: 0.2066\n",
      "step:  207    model invariant time / step: 0.208 \n",
      "step:  208    model invariant time / step: 0.2184\n",
      "step:  209    model invariant time / step: 0.2308\n",
      "step:  210    model invariant time / step: 0.2076\n",
      "step:  211    model invariant time / step: 0.2323\n",
      "step:  212    model invariant time / step: 0.213 \n",
      "step:  213    model invariant time / step: 0.195 \n",
      "step:  214    model invariant time / step: 0.1893\n",
      "step:  215    model invariant time / step: 0.1669\n",
      "step:  216    model invariant time / step: 0.1614\n",
      "step:  217    model invariant time / step: 0.1598\n",
      "step:  218    model invariant time / step: 0.1695\n",
      "step:  219    model invariant time / step: 0.179 \n",
      "step:  220    model invariant time / step: 0.1897\n",
      "step:  221    model invariant time / step: 0.2032\n",
      "step:  222    model invariant time / step: 0.2087\n",
      "step:  223    model invariant time / step: 0.1903\n",
      "step:  224    model invariant time / step: 0.179 \n",
      "step:  225    model invariant time / step: 0.1876\n",
      "step:  226    model invariant time / step: 0.1985\n",
      "step:  227    model invariant time / step: 0.1659\n",
      "step:  228    model invariant time / step: 0.2159\n",
      "step:  229    model invariant time / step: 0.1973\n",
      "step:  230    model invariant time / step: 0.191 \n",
      "step:  231    model invariant time / step: 0.1845\n",
      "step:  232    model invariant time / step: 0.1898\n",
      "step:  233    model invariant time / step: 0.1806\n",
      "step:  234    model invariant time / step: 0.1899\n",
      "step:  235    model invariant time / step: 0.1818\n",
      "step:  236    model invariant time / step: 0.2046\n",
      "step:  237    model invariant time / step: 0.1764\n",
      "step:  238    model invariant time / step: 0.1736\n",
      "step:  239    model invariant time / step: 0.1681\n",
      "step:  240    model invariant time / step: 0.2044\n",
      "step:  241    model invariant time / step: 0.1713\n",
      "step:  242    model invariant time / step: 0.2017\n",
      "step:  243    model invariant time / step: 0.1693\n",
      "step:  244    model invariant time / step:  0.19 \n",
      "step:  245    model invariant time / step: 0.1644\n",
      "step:  246    model invariant time / step: 0.2092\n",
      "step:  247    model invariant time / step: 0.1793\n",
      "step:  248    model invariant time / step: 0.1682\n",
      "step:  249    model invariant time / step: 0.1608\n",
      "step:  250    model invariant time / step: 0.1683\n",
      "step:  251    model invariant time / step: 0.1625\n",
      "step:  252    model invariant time / step: 0.1775\n",
      "step:  253    model invariant time / step: 0.1704\n",
      "step:  254    model invariant time / step: 0.1769\n",
      "step:  255    model invariant time / step: 0.1723\n",
      "step:  256    model invariant time / step: 0.1857\n",
      "step:  257    model invariant time / step: 0.2113\n",
      "step:  258    model invariant time / step: 0.1999\n",
      "step:  259    model invariant time / step: 0.1827\n",
      "step:  260    model invariant time / step: 0.1689\n",
      "step:  261    model invariant time / step: 0.1694\n",
      "step:  262    model invariant time / step: 0.1604\n",
      "step:  263    model invariant time / step: 0.199 \n",
      "step:  264    model invariant time / step: 0.1669\n",
      "step:  265    model invariant time / step: 0.1701\n",
      "step:  266    model invariant time / step: 0.1749\n",
      "step:  267    model invariant time / step: 0.1791\n",
      "step:  268    model invariant time / step: 0.1812\n",
      "step:  269    model invariant time / step: 0.1791\n",
      "step:  270    model invariant time / step: 0.1637\n",
      "step:  271    model invariant time / step: 0.1602\n",
      "step:  272    model invariant time / step: 0.1657\n",
      "step:  273    model invariant time / step: 0.1893\n",
      "step:  274    model invariant time / step: 0.1906\n",
      "step:  275    model invariant time / step: 0.1841\n",
      "step:  276    model invariant time / step: 0.1783\n",
      "step:  277    model invariant time / step: 0.247 \n",
      "step:  278    model invariant time / step: 0.1714\n",
      "step:  279    model invariant time / step: 0.2006\n",
      "step:  280    model invariant time / step: 0.1896\n",
      "step:  281    model invariant time / step: 0.1876\n",
      "step:  282    model invariant time / step: 0.1626\n",
      "step:  283    model invariant time / step: 0.1693\n",
      "step:  284    model invariant time / step: 0.1673\n",
      "step:  285    model invariant time / step: 0.2075\n",
      "step:  286    model invariant time / step: 0.1731\n",
      "step:  287    model invariant time / step: 0.1713\n",
      "step:  288    model invariant time / step: 0.2133\n",
      "step:  289    model invariant time / step: 0.1957\n",
      "step:  290    model invariant time / step: 0.1954\n",
      "step:  291    model invariant time / step: 0.1964\n",
      "step:  292    model invariant time / step: 0.2038\n",
      "step:  293    model invariant time / step: 0.1777\n",
      "step:  294    model invariant time / step: 0.1876\n",
      "step:  295    model invariant time / step: 0.1772\n",
      "step:  296    model invariant time / step: 0.1985\n",
      "step:  297    model invariant time / step: 0.2122\n",
      "step:  298    model invariant time / step: 0.1951\n",
      "step:  299    model invariant time / step: 0.1921\n",
      "step:  300    model invariant time / step: 0.1799\n",
      "step:  301    model invariant time / step: 0.191 \n",
      "step:  302    model invariant time / step: 0.1761\n",
      "step:  303    model invariant time / step: 0.1694\n",
      "step:  304    model invariant time / step: 0.1762\n",
      "step:  305    model invariant time / step: 0.1827\n",
      "step:  306    model invariant time / step: 0.1796\n",
      "step:  307    model invariant time / step: 0.1999\n",
      "step:  308    model invariant time / step: 0.1718\n",
      "step:  309    model invariant time / step: 0.2039\n",
      "step:  310    model invariant time / step: 0.1775\n",
      "step:  311    model invariant time / step: 0.2102\n",
      "step:  312    model invariant time / step: 0.1857\n",
      "step:  313    model invariant time / step: 0.1918\n",
      "step:  314    model invariant time / step: 0.1713\n",
      "step:  315    model invariant time / step: 0.2136\n",
      "step:  316    model invariant time / step: 0.1891\n",
      "step:  317    model invariant time / step: 0.1993\n",
      "step:  318    model invariant time / step: 0.1943\n",
      "step:  319    model invariant time / step: 0.1859\n",
      "step:  320    model invariant time / step: 0.2071\n",
      "step:  321    model invariant time / step: 0.1868\n",
      "step:  322    model invariant time / step: 0.1937\n",
      "step:  323    model invariant time / step: 0.1819\n",
      "step:  324    model invariant time / step: 0.2054\n",
      "step:  325    model invariant time / step: 0.1873\n",
      "step:  326    model invariant time / step: 0.2163\n",
      "step:  327    model invariant time / step: 0.202 \n"
     ]
    },
    {
     "name": "stdout",
     "output_type": "stream",
     "text": [
      "step:  328    model invariant time / step: 0.4345\n",
      "step:  329    model invariant time / step: 0.2934\n",
      "step:  330    model invariant time / step: 0.2899\n",
      "step:  331    model invariant time / step: 0.1804\n",
      "step:  332    model invariant time / step: 0.1788\n",
      "step:  333    model invariant time / step: 0.1789\n",
      "step:  334    model invariant time / step: 0.1824\n",
      "step:  335    model invariant time / step: 0.2142\n",
      "step:  336    model invariant time / step: 0.341 \n",
      "step:  337    model invariant time / step: 0.2545\n",
      "step:  338    model invariant time / step: 0.2831\n",
      "step:  339    model invariant time / step: 0.2398\n",
      "step:  340    model invariant time / step: 0.2022\n",
      "step:  341    model invariant time / step: 0.2001\n",
      "step:  342    model invariant time / step: 0.2136\n",
      "step:  343    model invariant time / step: 0.199 \n",
      "step:  344    model invariant time / step: 0.2385\n",
      "step:  345    model invariant time / step: 0.1842\n",
      "step:  346    model invariant time / step: 0.198 \n",
      "step:  347    model invariant time / step: 0.1963\n",
      "step:  348    model invariant time / step: 0.2849\n",
      "step:  349    model invariant time / step: 0.2951\n",
      "step:  350    model invariant time / step: 0.1959\n",
      "step:  351    model invariant time / step: 0.2698\n",
      "step:  352    model invariant time / step: 0.2282\n",
      "step:  353    model invariant time / step: 0.2282\n",
      "step:  354    model invariant time / step: 0.3395\n",
      "step:  355    model invariant time / step: 0.279 \n",
      "step:  356    model invariant time / step: 0.5207\n",
      "step:  357    model invariant time / step: 0.3732\n",
      "step:  358    model invariant time / step: 0.4497\n",
      "step:  359    model invariant time / step: 0.307 \n",
      "step:  360    model invariant time / step: 0.4174\n",
      "step:  361    model invariant time / step: 0.2506\n",
      "step:  362    model invariant time / step: 0.2961\n",
      "step:  363    model invariant time / step: 0.257 \n",
      "step:  364    model invariant time / step: 0.2186\n",
      "step:  365    model invariant time / step: 0.2669\n",
      "step:  366    model invariant time / step: 0.2355\n",
      "step:  367    model invariant time / step: 0.216 \n",
      "step:  368    model invariant time / step: 0.1882\n",
      "step:  369    model invariant time / step: 0.2203\n",
      "step:  370    model invariant time / step: 0.2315\n",
      "step:  371    model invariant time / step: 0.2301\n",
      "step:  372    model invariant time / step: 0.3069\n",
      "step:  373    model invariant time / step: 0.3372\n",
      "step:  374    model invariant time / step: 0.3029\n",
      "step:  375    model invariant time / step: 0.2513\n",
      "step:  376    model invariant time / step: 0.2097\n",
      "step:  377    model invariant time / step: 0.2244\n",
      "step:  378    model invariant time / step: 0.1933\n",
      "step:  379    model invariant time / step: 0.2006\n",
      "step:  380    model invariant time / step: 0.2148\n",
      "step:  381    model invariant time / step: 0.2385\n",
      "step:  382    model invariant time / step: 0.3051\n",
      "step:  383    model invariant time / step: 0.3463\n",
      "step:  384    model invariant time / step: 0.2477\n",
      "step:  385    model invariant time / step: 0.2796\n",
      "step:  386    model invariant time / step: 0.2681\n",
      "step:  387    model invariant time / step: 0.2651\n",
      "step:  388    model invariant time / step: 0.3317\n",
      "step:  389    model invariant time / step: 0.3153\n",
      "step:  390    model invariant time / step: 0.3096\n",
      "step:  391    model invariant time / step: 0.3461\n",
      "step:  392    model invariant time / step: 0.277 \n",
      "step:  393    model invariant time / step: 0.2432\n",
      "step:  394    model invariant time / step: 0.328 \n",
      "step:  395    model invariant time / step: 0.5247\n",
      "step:  396    model invariant time / step: 0.2666\n",
      "step:  397    model invariant time / step: 0.3485\n",
      "step:  398    model invariant time / step: 0.2438\n",
      "step:  399    model invariant time / step: 0.2131\n",
      "step:  400    model invariant time / step: 0.1891\n",
      "step:  401    model invariant time / step: 0.1886\n",
      "step:  402    model invariant time / step: 0.1915\n",
      "step:  403    model invariant time / step: 0.2031\n",
      "step:  404    model invariant time / step: 0.1822\n",
      "step:  405    model invariant time / step: 0.1941\n",
      "step:  406    model invariant time / step: 0.186 \n",
      "step:  407    model invariant time / step: 0.2016\n",
      "step:  408    model invariant time / step:  0.19 \n",
      "step:  409    model invariant time / step: 0.1878\n",
      "step:  410    model invariant time / step: 0.238 \n",
      "step:  411    model invariant time / step:  0.32 \n",
      "step:  412    model invariant time / step: 0.2286\n",
      "step:  413    model invariant time / step: 0.2049\n",
      "step:  414    model invariant time / step: 0.2425\n",
      "step:  415    model invariant time / step: 0.2208\n",
      "step:  416    model invariant time / step:  0.28 \n",
      "step:  417    model invariant time / step: 0.1733\n",
      "step:  418    model invariant time / step: 0.2147\n",
      "step:  419    model invariant time / step: 0.2242\n",
      "step:  420    model invariant time / step: 0.2893\n",
      "step:  421    model invariant time / step: 0.2356\n",
      "step:  422    model invariant time / step: 0.2095\n",
      "step:  423    model invariant time / step: 0.2362\n",
      "step:  424    model invariant time / step: 0.3913\n",
      "step:  425    model invariant time / step: 0.2646\n",
      "step:  426    model invariant time / step: 0.2358\n",
      "step:  427    model invariant time / step: 0.2509\n",
      "step:  428    model invariant time / step: 0.2378\n",
      "step:  429    model invariant time / step: 0.248 \n",
      "step:  430    model invariant time / step: 0.2533\n",
      "step:  431    model invariant time / step: 0.3137\n",
      "step:  432    model invariant time / step: 0.2555\n",
      "step:  433    model invariant time / step: 0.1998\n",
      "step:  434    model invariant time / step: 0.2491\n",
      "step:  435    model invariant time / step: 0.2972\n",
      "step:  436    model invariant time / step: 0.2278\n",
      "step:  437    model invariant time / step: 0.1967\n",
      "step:  438    model invariant time / step: 0.189 \n",
      "step:  439    model invariant time / step: 0.1778\n",
      "step:  440    model invariant time / step: 0.1899\n",
      "step:  441    model invariant time / step: 0.1936\n",
      "step:  442    model invariant time / step: 0.1948\n",
      "step:  443    model invariant time / step: 0.1765\n",
      "step:  444    model invariant time / step: 0.1994\n",
      "step:  445    model invariant time / step: 0.1908\n",
      "step:  446    model invariant time / step: 0.2169\n",
      "step:  447    model invariant time / step: 0.2265\n",
      "step:  448    model invariant time / step: 0.1947\n",
      "step:  449    model invariant time / step: 0.2397\n",
      "step:  450    model invariant time / step: 0.3001\n",
      "step:  451    model invariant time / step: 0.2281\n",
      "step:  452    model invariant time / step: 0.1846\n",
      "step:  453    model invariant time / step: 0.1971\n",
      "step:  454    model invariant time / step: 0.2006\n",
      "step:  455    model invariant time / step: 0.2168\n",
      "step:  456    model invariant time / step: 0.1966\n",
      "step:  457    model invariant time / step: 0.1913\n",
      "step:  458    model invariant time / step: 0.2039\n",
      "step:  459    model invariant time / step: 0.1915\n",
      "step:  460    model invariant time / step: 0.2041\n",
      "step:  461    model invariant time / step: 0.1864\n",
      "step:  462    model invariant time / step: 0.1857\n",
      "step:  463    model invariant time / step: 0.241 \n",
      "step:  464    model invariant time / step: 0.2579\n",
      "step:  465    model invariant time / step: 0.1999\n",
      "step:  466    model invariant time / step: 0.2048\n",
      "step:  467    model invariant time / step: 0.183 \n",
      "step:  468    model invariant time / step: 0.1902\n",
      "step:  469    model invariant time / step: 0.179 \n",
      "step:  470    model invariant time / step: 0.2092\n",
      "step:  471    model invariant time / step: 0.185 \n",
      "step:  472    model invariant time / step: 0.1942\n",
      "step:  473    model invariant time / step: 0.1895\n",
      "step:  474    model invariant time / step: 0.1944\n",
      "step:  475    model invariant time / step: 0.1918\n",
      "step:  476    model invariant time / step: 0.2036\n",
      "step:  477    model invariant time / step: 0.1876\n",
      "step:  478    model invariant time / step: 0.1938\n",
      "step:  479    model invariant time / step: 0.245 \n",
      "step:  480    model invariant time / step: 0.2053\n",
      "step:  481    model invariant time / step: 0.2302\n",
      "step:  482    model invariant time / step: 0.2622\n",
      "step:  483    model invariant time / step: 0.1961\n",
      "step:  484    model invariant time / step: 0.2193\n",
      "step:  485    model invariant time / step: 0.2606\n",
      "step:  486    model invariant time / step: 0.2904\n",
      "step:  487    model invariant time / step: 0.277 \n",
      "step:  488    model invariant time / step: 0.3136\n",
      "step:  489    model invariant time / step: 0.2589\n",
      "step:  490    model invariant time / step: 0.2838\n",
      "step:  491    model invariant time / step: 0.2807\n"
     ]
    },
    {
     "name": "stdout",
     "output_type": "stream",
     "text": [
      "step:  492    model invariant time / step: 0.2814\n",
      "step:  493    model invariant time / step: 0.274 \n",
      "step:  494    model invariant time / step: 0.237 \n",
      "step:  495    model invariant time / step: 0.261 \n",
      "step:  496    model invariant time / step: 0.2162\n",
      "step:  497    model invariant time / step: 0.1792\n",
      "step:  498    model invariant time / step: 0.1974\n",
      "step:  499    model invariant time / step: 0.1811\n",
      "done. Samples saved to: /Users/saforem2/ANL/l2hmc/gauge_logs_graph/run_60/run_info/samples_history.pkl.\n"
     ]
    }
   ],
   "source": [
    "samples_history = model.run(500)"
   ]
  },
  {
   "cell_type": "code",
   "execution_count": 18,
   "metadata": {
    "ExecuteTime": {
     "end_time": "2018-12-27T23:52:43.644163Z",
     "start_time": "2018-12-27T23:52:43.521373Z"
    },
    "collapsed": true
   },
   "outputs": [
    {
     "name": "stdout",
     "output_type": "stream",
     "text": [
      "_________________________________________________________________\n",
      "Layer (type)                 Output Shape              Param #   \n",
      "=================================================================\n",
      "conv_x1 (Conv2D)             multiple                  608       \n",
      "_________________________________________________________________\n",
      "conv_v1 (Conv2D)             multiple                  608       \n",
      "_________________________________________________________________\n",
      "max_pool_x1 (MaxPooling2D)   multiple                  0         \n",
      "_________________________________________________________________\n",
      "max_pool_v1 (MaxPooling2D)   multiple                  0         \n",
      "_________________________________________________________________\n",
      "conv_x2 (Conv2D)             multiple                  8256      \n",
      "_________________________________________________________________\n",
      "conv_v2 (Conv2D)             multiple                  8256      \n",
      "_________________________________________________________________\n",
      "max_pool_x2 (MaxPooling2D)   multiple                  0         \n",
      "_________________________________________________________________\n",
      "max_pool_v2 (MaxPooling2D)   multiple                  0         \n",
      "_________________________________________________________________\n",
      "flat_x (Flatten)             multiple                  0         \n",
      "_________________________________________________________________\n",
      "flat_v (Flatten)             multiple                  0         \n",
      "_________________________________________________________________\n",
      "v_layer (Dense)              multiple                  590848    \n",
      "_________________________________________________________________\n",
      "x_layer (Dense)              multiple                  590848    \n",
      "_________________________________________________________________\n",
      "t_layer (Dense)              multiple                  3072      \n",
      "_________________________________________________________________\n",
      "h_layer (Dense)              multiple                  1049600   \n",
      "_________________________________________________________________\n",
      "scale_layer (Dense)          multiple                  524800    \n",
      "_________________________________________________________________\n",
      "translation_layer (Dense)    multiple                  524800    \n",
      "_________________________________________________________________\n",
      "transformation_layer (Dense) multiple                  524800    \n",
      "=================================================================\n",
      "Total params: 3,827,520\n",
      "Trainable params: 3,827,520\n",
      "Non-trainable params: 0\n",
      "_________________________________________________________________\n"
     ]
    }
   ],
   "source": [
    "model.dynamics.position_fn.summary()"
   ]
  },
  {
   "cell_type": "code",
   "execution_count": null,
   "metadata": {},
   "outputs": [],
   "source": [
    "# Iterate over samples history and calculate observables for each sample.\n",
    "# `lattice.calc_plaq_observables(samples)` calculates observables for each of\n",
    "# the samples in the mini-batch.\n",
    "actions_history = []\n",
    "avg_plaquettes_history = []\n",
    "top_charges_history = []\n",
    "for idx, samples in enumerate(samples_history):\n",
    "    t0 = time.time()\n",
    "    observables = np.array(model.lattice.calc_plaq_observables(samples))\n",
    "    actions, plaqs, charges = observables\n",
    "    \n",
    "    actions_history.append(actions)\n",
    "    avg_plaquettes_history.append(plaqs)\n",
    "    top_charges_history.append(charges)\n",
    "    \n",
    "    print(f'step: {idx}  '\n",
    "          f'time / step: {time.time() - t0:^6.4g}  '\n",
    "          f'avg action: {np.mean(actions):^6.4g}  '\n",
    "          f'avg plaquette: {np.mean(plaqs):^6.4g} '\n",
    "          f'top charge: {np.mean(charges):^6.4g}')"
   ]
  },
  {
   "cell_type": "code",
   "execution_count": null,
   "metadata": {
    "ExecuteTime": {
     "end_time": "2018-12-23T07:27:14.617518Z",
     "start_time": "2018-12-23T07:27:10.814102Z"
    }
   },
   "outputs": [],
   "source": [
    "_ = helpers.plot_run_data(model.data, \n",
    "                          model.params, \n",
    "                          model.steps_arr, \n",
    "                          model.figs_dir, \n",
    "                          skip_steps=1)"
   ]
  },
  {
   "cell_type": "code",
   "execution_count": null,
   "metadata": {
    "ExecuteTime": {
     "end_time": "2018-12-23T08:15:46.037934Z",
     "start_time": "2018-12-23T08:15:45.833638Z"
    },
    "code_folding": [
     0
    ]
   },
   "outputs": [],
   "source": [
    "#tf.reset_default_graph()\n",
    "#model = GaugeModel(params=params,\n",
    "#                   config=None,\n",
    "#                   sess=None,\n",
    "#                   conv_net=False,\n",
    "#                   hmc=False,\n",
    "#                   log_dir='../../gauge_logs_graph/run_25',\n",
    "#                   restore=True)"
   ]
  },
  {
   "cell_type": "code",
   "execution_count": null,
   "metadata": {
    "ExecuteTime": {
     "end_time": "2018-12-24T04:37:52.672123Z",
     "start_time": "2018-12-24T04:37:52.594856Z"
    }
   },
   "outputs": [],
   "source": [
    "samples = np.random.randn(*model.samples.shape)\n",
    "samples_history = []"
   ]
  },
  {
   "cell_type": "code",
   "execution_count": null,
   "metadata": {
    "ExecuteTime": {
     "end_time": "2018-12-24T01:12:15.116857Z",
     "start_time": "2018-12-24T01:05:47.837592Z"
    },
    "code_folding": []
   },
   "outputs": [],
   "source": [
    "for i in range(500):\n",
    "    t0 = time.time()\n",
    "    samples = model.sess.run(model.x_out, feed_dict={model.x: samples})\n",
    "    samples_history.append(samples)\n",
    "    print(f'step: {i:^6.4g} time/step: {time.time() - t0:^6.4g}')"
   ]
  },
  {
   "cell_type": "code",
   "execution_count": null,
   "metadata": {
    "ExecuteTime": {
     "end_time": "2018-12-24T01:27:43.364615Z",
     "start_time": "2018-12-24T01:27:43.288550Z"
    }
   },
   "outputs": [],
   "source": [
    "samples_history_conv = np.array(samples_history_conv)\n",
    "print(samples_history_conv.shape)"
   ]
  },
  {
   "cell_type": "code",
   "execution_count": null,
   "metadata": {
    "ExecuteTime": {
     "end_time": "2018-12-24T01:27:54.695644Z",
     "start_time": "2018-12-24T01:27:54.608370Z"
    }
   },
   "outputs": [],
   "source": [
    "import pickle\n",
    "samples_history_file = os.path.join(model.info_dir, 'samples_history.pkl')\n",
    "with open(samples_history_file, 'wb') as f:\n",
    "    pickle.dump(samples_history_conv, f)"
   ]
  }
 ],
 "metadata": {
  "hide_input": false,
  "kernelspec": {
   "display_name": "Python 3",
   "language": "python",
   "name": "python3"
  },
  "varInspector": {
   "cols": {
    "lenName": 16,
    "lenType": 16,
    "lenVar": 40
   },
   "kernels_config": {
    "python": {
     "delete_cmd_postfix": "",
     "delete_cmd_prefix": "del ",
     "library": "var_list.py",
     "varRefreshCmd": "print(var_dic_list())"
    },
    "r": {
     "delete_cmd_postfix": ") ",
     "delete_cmd_prefix": "rm(",
     "library": "var_list.r",
     "varRefreshCmd": "cat(var_dic_list()) "
    }
   },
   "types_to_exclude": [
    "module",
    "function",
    "builtin_function_or_method",
    "instance",
    "_Feature"
   ],
   "window_display": false
  }
 },
 "nbformat": 4,
 "nbformat_minor": 2
}
