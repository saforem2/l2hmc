{
 "cells": [
  {
   "cell_type": "markdown",
   "metadata": {},
   "source": [
    "# $U(1)$ Gauge Model using L2HMC in graph mode"
   ]
  },
  {
   "cell_type": "markdown",
   "metadata": {},
   "source": [
    "--------------------------------------------------------------------\n",
    "### TODO:\n",
    "* [ ] Look at performance on Cooley (longer training runs).\n",
    "* [ ] Fit observables to Eq. \\ref{eq:therm_time} to determine the thermalization time $\\tau$.\n",
    "\n",
    "\\begin{equation} \n",
    "f(t) \\equiv A \\exp^{-t / \\tau}+ \\,\\, B\n",
    "\\label{eq:therm_time}\n",
    "\\end{equation}\n",
    "* [ ] Look at defining a distance metric as the difference in topological charge between two samples and see what effect adding this as an additional term to the loss function has on the models' ability to tunnel between topological sectors.\n",
    "\n",
    "--------------------------------------------------------------------"
   ]
  },
  {
   "cell_type": "code",
   "execution_count": 1,
   "metadata": {
    "ExecuteTime": {
     "end_time": "2019-01-26T06:21:00.528016Z",
     "start_time": "2019-01-26T06:20:57.656208Z"
    }
   },
   "outputs": [],
   "source": [
    "import os\n",
    "import sys\n",
    "import time\n",
    "import numpy as np\n",
    "import tensorflow as tf\n",
    "import matplotlib.pyplot as plt\n",
    "from scipy.special import i0, i1\n",
    "module_path = os.path.abspath(os.path.join('..'))\n",
    "if module_path not in sys.path:\n",
    "    sys.path.append(module_path)\n",
    "\n",
    "from utils.data_utils import (\n",
    "    calc_avg_vals_errors, block_resampling, jackknife_err\n",
    ")\n",
    "\n",
    "%autoreload 2\n",
    "%matplotlib notebook\n",
    "\n",
    "#from l2hmc_eager import gauge_dynamics_eager as gde"
   ]
  },
  {
   "cell_type": "code",
   "execution_count": 2,
   "metadata": {
    "ExecuteTime": {
     "end_time": "2019-01-26T06:21:12.891360Z",
     "start_time": "2019-01-26T06:21:07.412317Z"
    }
   },
   "outputs": [],
   "source": [
    "#tf.enable_eager_execution()\n",
    "tfe = tf.contrib.eager\n",
    "\n",
    "#from u1_model_eager import GaugeModelEager, train_one_iter\n",
    "from gauge_model import GaugeModel\n",
    "\n",
    "import utils.gauge_model_helpers as helpers"
   ]
  },
  {
   "cell_type": "code",
   "execution_count": 3,
   "metadata": {
    "ExecuteTime": {
     "end_time": "2019-01-26T06:21:14.225713Z",
     "start_time": "2019-01-26T06:21:14.158418Z"
    }
   },
   "outputs": [],
   "source": [
    "def autocorr(x):\n",
    "    result = np.correlate(x, x, mode='full')\n",
    "    result /= result[result.argmax()]\n",
    "    return result[result.size//2:]"
   ]
  },
  {
   "cell_type": "markdown",
   "metadata": {},
   "source": [
    "## Define parameters"
   ]
  },
  {
   "cell_type": "code",
   "execution_count": 18,
   "metadata": {
    "ExecuteTime": {
     "end_time": "2019-01-26T21:41:37.303077Z",
     "start_time": "2019-01-26T21:40:51.741734Z"
    }
   },
   "outputs": [],
   "source": [
    "del model"
   ]
  },
  {
   "cell_type": "code",
   "execution_count": 23,
   "metadata": {
    "ExecuteTime": {
     "end_time": "2019-01-26T23:26:44.259681Z",
     "start_time": "2019-01-26T23:26:43.990414Z"
    }
   },
   "outputs": [],
   "source": [
    "params = {\n",
    "    'time_size': 8,\n",
    "    'space_size': 8,\n",
    "    'link_type': 'U1',\n",
    "    'dim': 2,\n",
    "    'beta': 1.,\n",
    "    'beta_init': 1.,\n",
    "    'beta_final': 8.,\n",
    "    'num_samples': 5,\n",
    "    'num_steps': 10,\n",
    "    'eps': 0.1,\n",
    "    'loss_scale': 0.1,\n",
    "    'loss_eps': 1e-4,\n",
    "    'learning_rate_init': 1e-4,\n",
    "    'learning_rate_decay_steps': 1000,\n",
    "    'learning_rate_decay_rate': 0.98,\n",
    "    'train_steps': 10000,\n",
    "    'save_steps': 1000,\n",
    "    'logging_steps': 50,\n",
    "    'annealing_steps': 100,\n",
    "    'annealing_factor': 0.97,\n",
    "    'clip_value': 10.,\n",
    "    'rand': False,\n",
    "    'metric': 'l2',\n",
    "    'training_samples_steps': 500,\n",
    "    'training_samples_length': 100\n",
    "}"
   ]
  },
  {
   "cell_type": "markdown",
   "metadata": {},
   "source": [
    "## Create model"
   ]
  },
  {
   "cell_type": "code",
   "execution_count": 24,
   "metadata": {
    "ExecuteTime": {
     "end_time": "2019-01-26T23:26:46.099163Z",
     "start_time": "2019-01-26T23:26:46.038397Z"
    },
    "run_control": {
     "marked": true
    }
   },
   "outputs": [],
   "source": [
    "config = tf.ConfigProto()\n",
    "tf.reset_default_graph()"
   ]
  },
  {
   "cell_type": "code",
   "execution_count": 25,
   "metadata": {
    "ExecuteTime": {
     "end_time": "2019-01-27T00:21:47.644859Z",
     "start_time": "2019-01-26T23:26:47.160158Z"
    }
   },
   "outputs": [
    {
     "name": "stdout",
     "output_type": "stream",
     "text": [
      "Creating directory for new run: /Users/saforem2/ANL/l2hmc/gauge_logs_graph/run_65/\n",
      "Saving params to: /Users/saforem2/ANL/l2hmc/gauge_logs_graph/run_65/run_info/parameters.pkl.\n",
      "Creating directory: /Users/saforem2/ANL/l2hmc/gauge_logs_graph/run_65/samples_history.\n",
      "Creating directory: /Users/saforem2/ANL/l2hmc/gauge_logs_graph/run_65/samples_history/training.\n",
      "Creating directory: /Users/saforem2/ANL/l2hmc/gauge_logs_graph/run_65/train_samples.\n",
      "time_size: 8\n",
      "space_size: 8\n",
      "link_type: U1\n",
      "dim: 2\n",
      "beta: 1.0\n",
      "beta_init: 1.0\n",
      "beta_final: 8.0\n",
      "num_samples: 5\n",
      "num_steps: 10\n",
      "eps: 0.1\n",
      "loss_scale: 0.1\n",
      "loss_eps: 0.0001\n",
      "learning_rate_init: 0.0001\n",
      "learning_rate_decay_steps: 1000\n",
      "learning_rate_decay_rate: 0.98\n",
      "train_steps: 10000\n",
      "save_steps: 1000\n",
      "logging_steps: 50\n",
      "annealing_steps: 100\n",
      "annealing_factor: 0.97\n",
      "clip_value: 10.0\n",
      "rand: False\n",
      "metric: l2\n",
      "training_samples_steps: 500\n",
      "training_samples_length: 100\n",
      "conv_net: True\n",
      "hmc: False\n",
      "aux: True\n",
      "eps_trainable: True\n",
      "clip_grads: False\n",
      "annealing: True\n",
      "--------------------------------------------------------------------------------\n",
      "\n",
      "Building graph... (started at: Sat Jan 26 17:26:47 2019)\n",
      "\n",
      "  Creating loss...\n",
      "\n",
      "    took: 1764.400463104248 seconds.\n",
      "  Creating optimizer...\n",
      "\n",
      "    took: 1530.2332842350006 seconds.\n",
      "  Creating summaries...\n",
      "\n",
      "    took: 5.272794723510742 seconds.\n",
      "Time to build graph: 3299.907633304596.\n",
      "\n"
     ]
    }
   ],
   "source": [
    "model = GaugeModel(params=params, \n",
    "                   config=config,\n",
    "                   sess=None,\n",
    "                   conv_net=True,\n",
    "                   hmc=False,\n",
    "                   log_dir=None,\n",
    "                   restore=False,\n",
    "                   eps_trainable=True,\n",
    "                   aux=True,\n",
    "                   annealing=True,\n",
    "                   clip_grads=False)"
   ]
  },
  {
   "cell_type": "code",
   "execution_count": null,
   "metadata": {
    "ExecuteTime": {
     "start_time": "2019-01-26T23:26:47.697Z"
    }
   },
   "outputs": [
    {
     "name": "stdout",
     "output_type": "stream",
     "text": [
      "----------------------------------------------------------------------------------------------------\n",
      "     STEP           LOSS       NORM. TIME     ACCEPT %        EPS           BETA           LR      \n",
      "----------------------------------------------------------------------------------------------------\n",
      "     0/10000       -8325         0.304        0.0909          0.1            1          0.0001    \n"
     ]
    }
   ],
   "source": [
    "model.train(model.train_steps, kill_sess=False)"
   ]
  },
  {
   "cell_type": "code",
   "execution_count": null,
   "metadata": {
    "ExecuteTime": {
     "end_time": "2019-01-26T23:22:43.536251Z",
     "start_time": "2019-01-26T21:41:18.494Z"
    }
   },
   "outputs": [],
   "source": [
    "run_steps = [100, 200, 500, 1000, 5000]#, 10000]"
   ]
  },
  {
   "cell_type": "code",
   "execution_count": null,
   "metadata": {
    "ExecuteTime": {
     "end_time": "2019-01-26T23:22:43.683289Z",
     "start_time": "2019-01-26T21:41:19.078Z"
    }
   },
   "outputs": [],
   "source": [
    "model.beta_final"
   ]
  },
  {
   "cell_type": "code",
   "execution_count": null,
   "metadata": {
    "ExecuteTime": {
     "end_time": "2019-01-26T23:22:43.934240Z",
     "start_time": "2019-01-26T21:41:19.670Z"
    }
   },
   "outputs": [],
   "source": [
    "for steps in run_steps:\n",
    "    _ = model.run(steps)"
   ]
  },
  {
   "cell_type": "code",
   "execution_count": 39,
   "metadata": {
    "ExecuteTime": {
     "end_time": "2019-01-19T04:56:23.827714Z",
     "start_time": "2019-01-19T04:56:23.789926Z"
    }
   },
   "outputs": [],
   "source": [
    "import pickle\n",
    "\n",
    "with open(model.files['parameters_pkl_file'], 'wb') as f:\n",
    "    pickle.dump(model.params, f)"
   ]
  },
  {
   "cell_type": "code",
   "execution_count": null,
   "metadata": {},
   "outputs": [],
   "source": []
  },
  {
   "cell_type": "code",
   "execution_count": null,
   "metadata": {
    "ExecuteTime": {
     "end_time": "2018-12-28T07:12:16.636348Z",
     "start_time": "2018-12-28T07:12:16.178153Z"
    }
   },
   "outputs": [],
   "source": [
    "model.sess.graph.collections"
   ]
  },
  {
   "cell_type": "code",
   "execution_count": null,
   "metadata": {},
   "outputs": [],
   "source": [
    "model.sess.graph.get_collection"
   ]
  },
  {
   "cell_type": "code",
   "execution_count": null,
   "metadata": {
    "ExecuteTime": {
     "end_time": "2018-12-27T23:52:43.644163Z",
     "start_time": "2018-12-27T23:52:43.521373Z"
    }
   },
   "outputs": [],
   "source": [
    "model.dynamics.position_fn.summary()"
   ]
  },
  {
   "cell_type": "code",
   "execution_count": null,
   "metadata": {},
   "outputs": [],
   "source": [
    "# Iterate over samples history and calculate observables for each sample.\n",
    "# `lattice.calc_plaq_observables(samples)` calculates observables for each of\n",
    "# the samples in the mini-batch.\n",
    "actions_history = []\n",
    "avg_plaquettes_history = []\n",
    "top_charges_history = []\n",
    "for idx, samples in enumerate(samples_history):\n",
    "    t0 = time.time()\n",
    "    observables = np.array(model.lattice.calc_plaq_observables(samples))\n",
    "    actions, plaqs, charges = observables\n",
    "    \n",
    "    actions_history.append(actions)\n",
    "    avg_plaquettes_history.append(plaqs)\n",
    "    top_charges_history.append(charges)\n",
    "    \n",
    "    print(f'step: {idx}  '\n",
    "          f'time / step: {time.time() - t0:^6.4g}  '\n",
    "          f'avg action: {np.mean(actions):^6.4g}  '\n",
    "          f'avg plaquette: {np.mean(plaqs):^6.4g} '\n",
    "          f'top charge: {np.mean(charges):^6.4g}')"
   ]
  },
  {
   "cell_type": "code",
   "execution_count": null,
   "metadata": {
    "ExecuteTime": {
     "end_time": "2018-12-23T07:27:14.617518Z",
     "start_time": "2018-12-23T07:27:10.814102Z"
    }
   },
   "outputs": [],
   "source": [
    "_ = helpers.plot_run_data(model.data, \n",
    "                          model.params, \n",
    "                          model.steps_arr, \n",
    "                          model.figs_dir, \n",
    "                          skip_steps=1)"
   ]
  },
  {
   "cell_type": "code",
   "execution_count": null,
   "metadata": {
    "ExecuteTime": {
     "end_time": "2018-12-23T08:15:46.037934Z",
     "start_time": "2018-12-23T08:15:45.833638Z"
    },
    "code_folding": [
     0
    ]
   },
   "outputs": [],
   "source": [
    "#tf.reset_default_graph()\n",
    "#model = GaugeModel(params=params,\n",
    "#                   config=None,\n",
    "#                   sess=None,\n",
    "#                   conv_net=False,\n",
    "#                   hmc=False,\n",
    "#                   log_dir='../../gauge_logs_graph/run_25',\n",
    "#                   restore=True)"
   ]
  },
  {
   "cell_type": "code",
   "execution_count": null,
   "metadata": {
    "ExecuteTime": {
     "end_time": "2018-12-24T04:37:52.672123Z",
     "start_time": "2018-12-24T04:37:52.594856Z"
    }
   },
   "outputs": [],
   "source": [
    "samples = np.random.randn(*model.samples.shape)\n",
    "samples_history = []"
   ]
  },
  {
   "cell_type": "code",
   "execution_count": null,
   "metadata": {
    "ExecuteTime": {
     "end_time": "2018-12-24T01:12:15.116857Z",
     "start_time": "2018-12-24T01:05:47.837592Z"
    },
    "code_folding": []
   },
   "outputs": [],
   "source": [
    "for i in range(500):\n",
    "    t0 = time.time()\n",
    "    samples = model.sess.run(model.x_out, feed_dict={model.x: samples})\n",
    "    samples_history.append(samples)\n",
    "    print(f'step: {i:^6.4g} time/step: {time.time() - t0:^6.4g}')"
   ]
  },
  {
   "cell_type": "code",
   "execution_count": null,
   "metadata": {
    "ExecuteTime": {
     "end_time": "2018-12-24T01:27:43.364615Z",
     "start_time": "2018-12-24T01:27:43.288550Z"
    }
   },
   "outputs": [],
   "source": [
    "samples_history_conv = np.array(samples_history_conv)\n",
    "print(samples_history_conv.shape)"
   ]
  },
  {
   "cell_type": "code",
   "execution_count": null,
   "metadata": {
    "ExecuteTime": {
     "end_time": "2018-12-24T01:27:54.695644Z",
     "start_time": "2018-12-24T01:27:54.608370Z"
    }
   },
   "outputs": [],
   "source": [
    "import pickle\n",
    "samples_history_file = os.path.join(model.info_dir, 'samples_history.pkl')\n",
    "with open(samples_history_file, 'wb') as f:\n",
    "    pickle.dump(samples_history_conv, f)"
   ]
  }
 ],
 "metadata": {
  "hide_input": false,
  "kernelspec": {
   "display_name": "Python 3",
   "language": "python",
   "name": "python3"
  },
  "language_info": {
   "codemirror_mode": {
    "name": "ipython",
    "version": 3
   },
   "file_extension": ".py",
   "mimetype": "text/x-python",
   "name": "python",
   "nbconvert_exporter": "python",
   "pygments_lexer": "ipython3",
   "version": "3.6.5"
  },
  "notify_time": "5",
  "varInspector": {
   "cols": {
    "lenName": 16,
    "lenType": 16,
    "lenVar": 40
   },
   "kernels_config": {
    "python": {
     "delete_cmd_postfix": "",
     "delete_cmd_prefix": "del ",
     "library": "var_list.py",
     "varRefreshCmd": "print(var_dic_list())"
    },
    "r": {
     "delete_cmd_postfix": ") ",
     "delete_cmd_prefix": "rm(",
     "library": "var_list.r",
     "varRefreshCmd": "cat(var_dic_list()) "
    }
   },
   "types_to_exclude": [
    "module",
    "function",
    "builtin_function_or_method",
    "instance",
    "_Feature"
   ],
   "window_display": false
  }
 },
 "nbformat": 4,
 "nbformat_minor": 2
}
