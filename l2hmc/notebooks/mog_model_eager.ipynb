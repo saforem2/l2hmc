{
 "cells": [
  {
   "cell_type": "markdown",
   "metadata": {},
   "source": [
    "# L2HMC with MOG target distrubtion using eager execution in tensorflow"
   ]
  },
  {
   "cell_type": "markdown",
   "metadata": {},
   "source": [
    "### Imports"
   ]
  },
  {
   "cell_type": "code",
   "execution_count": 1,
   "metadata": {
    "ExecuteTime": {
     "end_time": "2018-12-14T07:01:48.343834Z",
     "start_time": "2018-12-14T07:01:37.233826Z"
    }
   },
   "outputs": [
    {
     "name": "stderr",
     "output_type": "stream",
     "text": [
      "Using TensorFlow backend.\n"
     ]
    }
   ],
   "source": [
    "import os\n",
    "import sys\n",
    "import numpy as np\n",
    "import tensorflow as tf\n",
    "import matplotlib.pyplot as plt\n",
    "\n",
    "module_path = os.path.abspath(os.path.join('..'))\n",
    "if module_path not in sys.path:\n",
    "    sys.path.append(module_path)\n",
    "\n",
    "from l2hmc_eager import dynamics_eager as l2hmc\n",
    "from l2hmc_eager.neural_nets import *\n",
    "from utils.distributions import GMM, gen_ring\n",
    "from utils.jacobian import _map, jacobian\n",
    "\n",
    "%autoreload 2"
   ]
  },
  {
   "cell_type": "code",
   "execution_count": 2,
   "metadata": {
    "ExecuteTime": {
     "end_time": "2018-12-14T07:01:48.542237Z",
     "start_time": "2018-12-14T07:01:48.455937Z"
    }
   },
   "outputs": [],
   "source": [
    "tf.enable_eager_execution()\n",
    "tfe = tf.contrib.eager"
   ]
  },
  {
   "cell_type": "code",
   "execution_count": 3,
   "metadata": {
    "ExecuteTime": {
     "end_time": "2018-10-18T06:46:15.294522Z",
     "start_time": "2018-10-18T06:46:15.177885Z"
    }
   },
   "outputs": [],
   "source": [
    "tfe = tf.contrib.eager"
   ]
  },
  {
   "cell_type": "code",
   "execution_count": 3,
   "metadata": {
    "ExecuteTime": {
     "end_time": "2018-12-14T07:01:48.757435Z",
     "start_time": "2018-12-14T07:01:48.635553Z"
    }
   },
   "outputs": [],
   "source": [
    "def train_one_iter(dynamics, x, optimizer, \n",
    "                   loss_fn=l2hmc.compute_loss, global_step=None):\n",
    "    loss, grads, out, accept_prob = l2hmc.loss_and_grads(\n",
    "        dynamics, x, loss_fn=loss_fn\n",
    "    )\n",
    "    optimizer.apply_gradients(\n",
    "        zip(grads, dynamics.trainable_variables), global_step=global_step\n",
    "    )\n",
    "    return loss, out, accept_prob"
   ]
  },
  {
   "cell_type": "code",
   "execution_count": 4,
   "metadata": {
    "ExecuteTime": {
     "end_time": "2018-12-14T07:01:48.959364Z",
     "start_time": "2018-12-14T07:01:48.866542Z"
    }
   },
   "outputs": [],
   "source": [
    "def distribution_arr(x_dim, n_distributions):\n",
    "    \"\"\"Create array describing likelihood of drawing from distributions.\"\"\"\n",
    "    if n_distributions > x_dim:\n",
    "        pis = [1. / n_distributions] * n_distributions\n",
    "        pis[0] += 1 - sum(pis)\n",
    "        return np.array(pis)\n",
    "    if x_dim == n_distributions:\n",
    "        big_pi = round(1.0 / n_distributions, x_dim)\n",
    "        pis = n_distributions * [big_pi]\n",
    "        return np.array(pis)\n",
    "    else:\n",
    "        big_pi = (1.0 / n_distributions) - x_dim * 1E-16\n",
    "        pis = n_distributions * [big_pi]\n",
    "        small_pi = (1. - sum(pis)) / (x_dim - n_distributions)\n",
    "        pis.extend((x_dim - n_distributions) * [small_pi])\n",
    "        return np.array(pis)"
   ]
  },
  {
   "cell_type": "markdown",
   "metadata": {},
   "source": [
    "### MoG Model"
   ]
  },
  {
   "cell_type": "code",
   "execution_count": 5,
   "metadata": {
    "ExecuteTime": {
     "end_time": "2018-12-14T07:02:11.669356Z",
     "start_time": "2018-12-14T07:02:11.346449Z"
    }
   },
   "outputs": [],
   "source": [
    "x_dim = 2 \n",
    "num_distributions = 2\n",
    "sigma = 0.05\n",
    "axis = 0\n",
    "centers = 1\n",
    "\n",
    "means = np.zeros((x_dim, x_dim))\n",
    "means[::2, axis] = centers\n",
    "means[1::2, axis] = - centers\n",
    "\n",
    "cov_mtx = sigma * np.eye(x_dim)\n",
    "sigmas = np.array([cov_mtx] * x_dim)\n",
    "\n",
    "pis = distribution_arr(x_dim, num_distributions)\n",
    "mog_distribution = GMM(means, sigmas, pis)"
   ]
  },
  {
   "cell_type": "code",
   "execution_count": 6,
   "metadata": {
    "ExecuteTime": {
     "end_time": "2018-12-14T07:02:28.201587Z",
     "start_time": "2018-12-14T07:02:28.073339Z"
    }
   },
   "outputs": [],
   "source": [
    "mog_potential_fn = mog_distribution.get_energy_function()\n",
    "\n",
    "mog_dynamics = l2hmc.Dynamics(x_dim=2, \n",
    "                              minus_loglikelihood_fn=mog_potential_fn,\n",
    "                              n_steps=2,\n",
    "                              eps=0.5,\n",
    "                              np_seed=1)"
   ]
  },
  {
   "cell_type": "code",
   "execution_count": 25,
   "metadata": {
    "ExecuteTime": {
     "end_time": "2018-10-18T07:19:37.790632Z",
     "start_time": "2018-10-18T07:12:42.269279Z"
    },
    "scrolled": true
   },
   "outputs": [
    {
     "data": {
      "text/plain": [
       "<tf.Variable 'UnreadVariable' shape=() dtype=int64, numpy=1>"
      ]
     },
     "execution_count": 25,
     "metadata": {},
     "output_type": "execute_result"
    },
    {
     "name": "stdout",
     "output_type": "stream",
     "text": [
      "Iteration 10, loss -47.2614, x_accept_prob 0.7577\n",
      "INFO:tensorflow:Summary name Training loss is illegal; using Training_loss instead.\n"
     ]
    },
    {
     "data": {
      "text/plain": [
       "<tf.Tensor: id=4559641, shape=(), dtype=bool, numpy=True>"
      ]
     },
     "execution_count": 25,
     "metadata": {},
     "output_type": "execute_result"
    },
    {
     "name": "stdout",
     "output_type": "stream",
     "text": [
      "Iteration 20, loss -30.4775, x_accept_prob 0.7110\n",
      "INFO:tensorflow:Summary name Training loss is illegal; using Training_loss instead.\n"
     ]
    },
    {
     "data": {
      "text/plain": [
       "<tf.Tensor: id=4559641, shape=(), dtype=bool, numpy=True>"
      ]
     },
     "execution_count": 25,
     "metadata": {},
     "output_type": "execute_result"
    },
    {
     "name": "stdout",
     "output_type": "stream",
     "text": [
      "Iteration 30, loss -35.3669, x_accept_prob 0.6844\n",
      "INFO:tensorflow:Summary name Training loss is illegal; using Training_loss instead.\n"
     ]
    },
    {
     "data": {
      "text/plain": [
       "<tf.Tensor: id=4559641, shape=(), dtype=bool, numpy=True>"
      ]
     },
     "execution_count": 25,
     "metadata": {},
     "output_type": "execute_result"
    },
    {
     "name": "stdout",
     "output_type": "stream",
     "text": [
      "Iteration 40, loss -34.1057, x_accept_prob 0.7051\n",
      "INFO:tensorflow:Summary name Training loss is illegal; using Training_loss instead.\n"
     ]
    },
    {
     "data": {
      "text/plain": [
       "<tf.Tensor: id=4559641, shape=(), dtype=bool, numpy=True>"
      ]
     },
     "execution_count": 25,
     "metadata": {},
     "output_type": "execute_result"
    },
    {
     "name": "stdout",
     "output_type": "stream",
     "text": [
      "Iteration 50, loss -43.2409, x_accept_prob 0.7326\n",
      "INFO:tensorflow:Summary name Training loss is illegal; using Training_loss instead.\n"
     ]
    },
    {
     "data": {
      "text/plain": [
       "<tf.Tensor: id=4559641, shape=(), dtype=bool, numpy=True>"
      ]
     },
     "execution_count": 25,
     "metadata": {},
     "output_type": "execute_result"
    },
    {
     "name": "stdout",
     "output_type": "stream",
     "text": [
      "Iteration 60, loss -42.7054, x_accept_prob 0.7475\n",
      "INFO:tensorflow:Summary name Training loss is illegal; using Training_loss instead.\n"
     ]
    },
    {
     "data": {
      "text/plain": [
       "<tf.Tensor: id=4559641, shape=(), dtype=bool, numpy=True>"
      ]
     },
     "execution_count": 25,
     "metadata": {},
     "output_type": "execute_result"
    },
    {
     "name": "stdout",
     "output_type": "stream",
     "text": [
      "Iteration 70, loss -40.2206, x_accept_prob 0.7454\n",
      "INFO:tensorflow:Summary name Training loss is illegal; using Training_loss instead.\n"
     ]
    },
    {
     "data": {
      "text/plain": [
       "<tf.Tensor: id=4559641, shape=(), dtype=bool, numpy=True>"
      ]
     },
     "execution_count": 25,
     "metadata": {},
     "output_type": "execute_result"
    },
    {
     "name": "stdout",
     "output_type": "stream",
     "text": [
      "Iteration 80, loss -38.5606, x_accept_prob 0.7302\n",
      "INFO:tensorflow:Summary name Training loss is illegal; using Training_loss instead.\n"
     ]
    },
    {
     "data": {
      "text/plain": [
       "<tf.Tensor: id=4559641, shape=(), dtype=bool, numpy=True>"
      ]
     },
     "execution_count": 25,
     "metadata": {},
     "output_type": "execute_result"
    },
    {
     "name": "stdout",
     "output_type": "stream",
     "text": [
      "Iteration 90, loss -32.3944, x_accept_prob 0.7163\n",
      "INFO:tensorflow:Summary name Training loss is illegal; using Training_loss instead.\n"
     ]
    },
    {
     "data": {
      "text/plain": [
       "<tf.Tensor: id=4559641, shape=(), dtype=bool, numpy=True>"
      ]
     },
     "execution_count": 25,
     "metadata": {},
     "output_type": "execute_result"
    },
    {
     "name": "stdout",
     "output_type": "stream",
     "text": [
      "Iteration 100, loss -37.5129, x_accept_prob 0.7309\n",
      "INFO:tensorflow:Summary name Training loss is illegal; using Training_loss instead.\n"
     ]
    },
    {
     "data": {
      "text/plain": [
       "<tf.Tensor: id=4559641, shape=(), dtype=bool, numpy=True>"
      ]
     },
     "execution_count": 25,
     "metadata": {},
     "output_type": "execute_result"
    },
    {
     "name": "stdout",
     "output_type": "stream",
     "text": [
      "Iteration 110, loss -37.5030, x_accept_prob 0.7504\n",
      "INFO:tensorflow:Summary name Training loss is illegal; using Training_loss instead.\n"
     ]
    },
    {
     "data": {
      "text/plain": [
       "<tf.Tensor: id=4559641, shape=(), dtype=bool, numpy=True>"
      ]
     },
     "execution_count": 25,
     "metadata": {},
     "output_type": "execute_result"
    },
    {
     "name": "stdout",
     "output_type": "stream",
     "text": [
      "Iteration 120, loss -49.5894, x_accept_prob 0.7333\n",
      "INFO:tensorflow:Summary name Training loss is illegal; using Training_loss instead.\n"
     ]
    },
    {
     "data": {
      "text/plain": [
       "<tf.Tensor: id=4559641, shape=(), dtype=bool, numpy=True>"
      ]
     },
     "execution_count": 25,
     "metadata": {},
     "output_type": "execute_result"
    },
    {
     "name": "stdout",
     "output_type": "stream",
     "text": [
      "Iteration 130, loss -43.3390, x_accept_prob 0.6920\n",
      "INFO:tensorflow:Summary name Training loss is illegal; using Training_loss instead.\n"
     ]
    },
    {
     "data": {
      "text/plain": [
       "<tf.Tensor: id=4559641, shape=(), dtype=bool, numpy=True>"
      ]
     },
     "execution_count": 25,
     "metadata": {},
     "output_type": "execute_result"
    },
    {
     "name": "stdout",
     "output_type": "stream",
     "text": [
      "Iteration 140, loss -35.3204, x_accept_prob 0.7165\n",
      "INFO:tensorflow:Summary name Training loss is illegal; using Training_loss instead.\n"
     ]
    },
    {
     "data": {
      "text/plain": [
       "<tf.Tensor: id=4559641, shape=(), dtype=bool, numpy=True>"
      ]
     },
     "execution_count": 25,
     "metadata": {},
     "output_type": "execute_result"
    },
    {
     "name": "stdout",
     "output_type": "stream",
     "text": [
      "Iteration 150, loss -41.7768, x_accept_prob 0.6851\n",
      "INFO:tensorflow:Summary name Training loss is illegal; using Training_loss instead.\n"
     ]
    },
    {
     "data": {
      "text/plain": [
       "<tf.Tensor: id=4559641, shape=(), dtype=bool, numpy=True>"
      ]
     },
     "execution_count": 25,
     "metadata": {},
     "output_type": "execute_result"
    },
    {
     "name": "stdout",
     "output_type": "stream",
     "text": [
      "Iteration 160, loss -41.8420, x_accept_prob 0.7232\n",
      "INFO:tensorflow:Summary name Training loss is illegal; using Training_loss instead.\n"
     ]
    },
    {
     "data": {
      "text/plain": [
       "<tf.Tensor: id=4559641, shape=(), dtype=bool, numpy=True>"
      ]
     },
     "execution_count": 25,
     "metadata": {},
     "output_type": "execute_result"
    },
    {
     "name": "stdout",
     "output_type": "stream",
     "text": [
      "Iteration 170, loss -36.1308, x_accept_prob 0.6592\n",
      "INFO:tensorflow:Summary name Training loss is illegal; using Training_loss instead.\n"
     ]
    },
    {
     "data": {
      "text/plain": [
       "<tf.Tensor: id=4559641, shape=(), dtype=bool, numpy=True>"
      ]
     },
     "execution_count": 25,
     "metadata": {},
     "output_type": "execute_result"
    },
    {
     "name": "stdout",
     "output_type": "stream",
     "text": [
      "Iteration 180, loss -36.4720, x_accept_prob 0.6539\n",
      "INFO:tensorflow:Summary name Training loss is illegal; using Training_loss instead.\n"
     ]
    },
    {
     "data": {
      "text/plain": [
       "<tf.Tensor: id=4559641, shape=(), dtype=bool, numpy=True>"
      ]
     },
     "execution_count": 25,
     "metadata": {},
     "output_type": "execute_result"
    },
    {
     "name": "stdout",
     "output_type": "stream",
     "text": [
      "Iteration 190, loss -45.1031, x_accept_prob 0.7126\n",
      "INFO:tensorflow:Summary name Training loss is illegal; using Training_loss instead.\n"
     ]
    },
    {
     "data": {
      "text/plain": [
       "<tf.Tensor: id=4559641, shape=(), dtype=bool, numpy=True>"
      ]
     },
     "execution_count": 25,
     "metadata": {},
     "output_type": "execute_result"
    },
    {
     "name": "stdout",
     "output_type": "stream",
     "text": [
      "Iteration 200, loss -50.0267, x_accept_prob 0.7562\n",
      "INFO:tensorflow:Summary name Training loss is illegal; using Training_loss instead.\n"
     ]
    },
    {
     "data": {
      "text/plain": [
       "<tf.Tensor: id=4559641, shape=(), dtype=bool, numpy=True>"
      ]
     },
     "execution_count": 25,
     "metadata": {},
     "output_type": "execute_result"
    },
    {
     "name": "stdout",
     "output_type": "stream",
     "text": [
      "Iteration 210, loss -46.4964, x_accept_prob 0.7672\n",
      "INFO:tensorflow:Summary name Training loss is illegal; using Training_loss instead.\n"
     ]
    },
    {
     "data": {
      "text/plain": [
       "<tf.Tensor: id=4559641, shape=(), dtype=bool, numpy=True>"
      ]
     },
     "execution_count": 25,
     "metadata": {},
     "output_type": "execute_result"
    },
    {
     "name": "stdout",
     "output_type": "stream",
     "text": [
      "Iteration 220, loss -45.0975, x_accept_prob 0.7623\n",
      "INFO:tensorflow:Summary name Training loss is illegal; using Training_loss instead.\n"
     ]
    },
    {
     "data": {
      "text/plain": [
       "<tf.Tensor: id=4559641, shape=(), dtype=bool, numpy=True>"
      ]
     },
     "execution_count": 25,
     "metadata": {},
     "output_type": "execute_result"
    },
    {
     "name": "stdout",
     "output_type": "stream",
     "text": [
      "Iteration 230, loss -45.4271, x_accept_prob 0.7933\n",
      "INFO:tensorflow:Summary name Training loss is illegal; using Training_loss instead.\n"
     ]
    },
    {
     "data": {
      "text/plain": [
       "<tf.Tensor: id=4559641, shape=(), dtype=bool, numpy=True>"
      ]
     },
     "execution_count": 25,
     "metadata": {},
     "output_type": "execute_result"
    },
    {
     "name": "stdout",
     "output_type": "stream",
     "text": [
      "Iteration 240, loss -34.3553, x_accept_prob 0.7453\n",
      "INFO:tensorflow:Summary name Training loss is illegal; using Training_loss instead.\n"
     ]
    },
    {
     "data": {
      "text/plain": [
       "<tf.Tensor: id=4559641, shape=(), dtype=bool, numpy=True>"
      ]
     },
     "execution_count": 25,
     "metadata": {},
     "output_type": "execute_result"
    },
    {
     "name": "stdout",
     "output_type": "stream",
     "text": [
      "Iteration 250, loss -47.2870, x_accept_prob 0.7297\n",
      "INFO:tensorflow:Summary name Training loss is illegal; using Training_loss instead.\n"
     ]
    },
    {
     "data": {
      "text/plain": [
       "<tf.Tensor: id=4559641, shape=(), dtype=bool, numpy=True>"
      ]
     },
     "execution_count": 25,
     "metadata": {},
     "output_type": "execute_result"
    },
    {
     "name": "stdout",
     "output_type": "stream",
     "text": [
      "Iteration 260, loss -40.9772, x_accept_prob 0.7299\n",
      "INFO:tensorflow:Summary name Training loss is illegal; using Training_loss instead.\n"
     ]
    },
    {
     "data": {
      "text/plain": [
       "<tf.Tensor: id=4559641, shape=(), dtype=bool, numpy=True>"
      ]
     },
     "execution_count": 25,
     "metadata": {},
     "output_type": "execute_result"
    },
    {
     "name": "stdout",
     "output_type": "stream",
     "text": [
      "Iteration 270, loss -47.9160, x_accept_prob 0.7190\n",
      "INFO:tensorflow:Summary name Training loss is illegal; using Training_loss instead.\n"
     ]
    },
    {
     "data": {
      "text/plain": [
       "<tf.Tensor: id=4559641, shape=(), dtype=bool, numpy=True>"
      ]
     },
     "execution_count": 25,
     "metadata": {},
     "output_type": "execute_result"
    },
    {
     "name": "stdout",
     "output_type": "stream",
     "text": [
      "Iteration 280, loss -45.0080, x_accept_prob 0.7298\n",
      "INFO:tensorflow:Summary name Training loss is illegal; using Training_loss instead.\n"
     ]
    },
    {
     "data": {
      "text/plain": [
       "<tf.Tensor: id=4559641, shape=(), dtype=bool, numpy=True>"
      ]
     },
     "execution_count": 25,
     "metadata": {},
     "output_type": "execute_result"
    },
    {
     "name": "stdout",
     "output_type": "stream",
     "text": [
      "Iteration 290, loss -43.6011, x_accept_prob 0.7392\n",
      "INFO:tensorflow:Summary name Training loss is illegal; using Training_loss instead.\n"
     ]
    },
    {
     "data": {
      "text/plain": [
       "<tf.Tensor: id=4559641, shape=(), dtype=bool, numpy=True>"
      ]
     },
     "execution_count": 25,
     "metadata": {},
     "output_type": "execute_result"
    },
    {
     "name": "stdout",
     "output_type": "stream",
     "text": [
      "Iteration 300, loss -46.9600, x_accept_prob 0.7389\n",
      "INFO:tensorflow:Summary name Training loss is illegal; using Training_loss instead.\n"
     ]
    },
    {
     "data": {
      "text/plain": [
       "<tf.Tensor: id=4559641, shape=(), dtype=bool, numpy=True>"
      ]
     },
     "execution_count": 25,
     "metadata": {},
     "output_type": "execute_result"
    },
    {
     "name": "stdout",
     "output_type": "stream",
     "text": [
      "Iteration 310, loss -43.1433, x_accept_prob 0.7526\n",
      "INFO:tensorflow:Summary name Training loss is illegal; using Training_loss instead.\n"
     ]
    },
    {
     "data": {
      "text/plain": [
       "<tf.Tensor: id=4559641, shape=(), dtype=bool, numpy=True>"
      ]
     },
     "execution_count": 25,
     "metadata": {},
     "output_type": "execute_result"
    },
    {
     "name": "stdout",
     "output_type": "stream",
     "text": [
      "Iteration 320, loss -39.2730, x_accept_prob 0.7868\n",
      "INFO:tensorflow:Summary name Training loss is illegal; using Training_loss instead.\n"
     ]
    },
    {
     "data": {
      "text/plain": [
       "<tf.Tensor: id=4559641, shape=(), dtype=bool, numpy=True>"
      ]
     },
     "execution_count": 25,
     "metadata": {},
     "output_type": "execute_result"
    },
    {
     "name": "stdout",
     "output_type": "stream",
     "text": [
      "Iteration 330, loss -44.1910, x_accept_prob 0.7630\n",
      "INFO:tensorflow:Summary name Training loss is illegal; using Training_loss instead.\n"
     ]
    },
    {
     "data": {
      "text/plain": [
       "<tf.Tensor: id=4559641, shape=(), dtype=bool, numpy=True>"
      ]
     },
     "execution_count": 25,
     "metadata": {},
     "output_type": "execute_result"
    },
    {
     "name": "stdout",
     "output_type": "stream",
     "text": [
      "Iteration 340, loss -39.9064, x_accept_prob 0.7374\n",
      "INFO:tensorflow:Summary name Training loss is illegal; using Training_loss instead.\n"
     ]
    },
    {
     "data": {
      "text/plain": [
       "<tf.Tensor: id=4559641, shape=(), dtype=bool, numpy=True>"
      ]
     },
     "execution_count": 25,
     "metadata": {},
     "output_type": "execute_result"
    },
    {
     "name": "stdout",
     "output_type": "stream",
     "text": [
      "Iteration 350, loss -35.9237, x_accept_prob 0.7209\n",
      "INFO:tensorflow:Summary name Training loss is illegal; using Training_loss instead.\n"
     ]
    },
    {
     "data": {
      "text/plain": [
       "<tf.Tensor: id=4559641, shape=(), dtype=bool, numpy=True>"
      ]
     },
     "execution_count": 25,
     "metadata": {},
     "output_type": "execute_result"
    },
    {
     "name": "stdout",
     "output_type": "stream",
     "text": [
      "Iteration 360, loss -38.6184, x_accept_prob 0.7562\n",
      "INFO:tensorflow:Summary name Training loss is illegal; using Training_loss instead.\n"
     ]
    },
    {
     "data": {
      "text/plain": [
       "<tf.Tensor: id=4559641, shape=(), dtype=bool, numpy=True>"
      ]
     },
     "execution_count": 25,
     "metadata": {},
     "output_type": "execute_result"
    },
    {
     "name": "stdout",
     "output_type": "stream",
     "text": [
      "Iteration 370, loss -37.6100, x_accept_prob 0.7431\n",
      "INFO:tensorflow:Summary name Training loss is illegal; using Training_loss instead.\n"
     ]
    },
    {
     "data": {
      "text/plain": [
       "<tf.Tensor: id=4559641, shape=(), dtype=bool, numpy=True>"
      ]
     },
     "execution_count": 25,
     "metadata": {},
     "output_type": "execute_result"
    },
    {
     "name": "stdout",
     "output_type": "stream",
     "text": [
      "Iteration 380, loss -39.7404, x_accept_prob 0.7605\n",
      "INFO:tensorflow:Summary name Training loss is illegal; using Training_loss instead.\n"
     ]
    },
    {
     "data": {
      "text/plain": [
       "<tf.Tensor: id=4559641, shape=(), dtype=bool, numpy=True>"
      ]
     },
     "execution_count": 25,
     "metadata": {},
     "output_type": "execute_result"
    },
    {
     "name": "stdout",
     "output_type": "stream",
     "text": [
      "Iteration 390, loss -45.8837, x_accept_prob 0.7629\n",
      "INFO:tensorflow:Summary name Training loss is illegal; using Training_loss instead.\n"
     ]
    },
    {
     "data": {
      "text/plain": [
       "<tf.Tensor: id=4559641, shape=(), dtype=bool, numpy=True>"
      ]
     },
     "execution_count": 25,
     "metadata": {},
     "output_type": "execute_result"
    },
    {
     "name": "stdout",
     "output_type": "stream",
     "text": [
      "Iteration 400, loss -45.6134, x_accept_prob 0.7934\n",
      "INFO:tensorflow:Summary name Training loss is illegal; using Training_loss instead.\n"
     ]
    },
    {
     "data": {
      "text/plain": [
       "<tf.Tensor: id=4559641, shape=(), dtype=bool, numpy=True>"
      ]
     },
     "execution_count": 25,
     "metadata": {},
     "output_type": "execute_result"
    },
    {
     "name": "stdout",
     "output_type": "stream",
     "text": [
      "Iteration 410, loss -38.6547, x_accept_prob 0.7784\n",
      "INFO:tensorflow:Summary name Training loss is illegal; using Training_loss instead.\n"
     ]
    },
    {
     "data": {
      "text/plain": [
       "<tf.Tensor: id=4559641, shape=(), dtype=bool, numpy=True>"
      ]
     },
     "execution_count": 25,
     "metadata": {},
     "output_type": "execute_result"
    },
    {
     "name": "stdout",
     "output_type": "stream",
     "text": [
      "Iteration 420, loss -42.4311, x_accept_prob 0.7258\n",
      "INFO:tensorflow:Summary name Training loss is illegal; using Training_loss instead.\n"
     ]
    },
    {
     "data": {
      "text/plain": [
       "<tf.Tensor: id=4559641, shape=(), dtype=bool, numpy=True>"
      ]
     },
     "execution_count": 25,
     "metadata": {},
     "output_type": "execute_result"
    },
    {
     "name": "stdout",
     "output_type": "stream",
     "text": [
      "Iteration 430, loss -41.9248, x_accept_prob 0.7494\n",
      "INFO:tensorflow:Summary name Training loss is illegal; using Training_loss instead.\n"
     ]
    },
    {
     "data": {
      "text/plain": [
       "<tf.Tensor: id=4559641, shape=(), dtype=bool, numpy=True>"
      ]
     },
     "execution_count": 25,
     "metadata": {},
     "output_type": "execute_result"
    },
    {
     "name": "stdout",
     "output_type": "stream",
     "text": [
      "Iteration 440, loss -47.0396, x_accept_prob 0.7999\n",
      "INFO:tensorflow:Summary name Training loss is illegal; using Training_loss instead.\n"
     ]
    },
    {
     "data": {
      "text/plain": [
       "<tf.Tensor: id=4559641, shape=(), dtype=bool, numpy=True>"
      ]
     },
     "execution_count": 25,
     "metadata": {},
     "output_type": "execute_result"
    },
    {
     "name": "stdout",
     "output_type": "stream",
     "text": [
      "Iteration 450, loss -40.7162, x_accept_prob 0.7428\n",
      "INFO:tensorflow:Summary name Training loss is illegal; using Training_loss instead.\n"
     ]
    },
    {
     "data": {
      "text/plain": [
       "<tf.Tensor: id=4559641, shape=(), dtype=bool, numpy=True>"
      ]
     },
     "execution_count": 25,
     "metadata": {},
     "output_type": "execute_result"
    },
    {
     "name": "stdout",
     "output_type": "stream",
     "text": [
      "Iteration 460, loss -44.0749, x_accept_prob 0.7625\n",
      "INFO:tensorflow:Summary name Training loss is illegal; using Training_loss instead.\n"
     ]
    },
    {
     "data": {
      "text/plain": [
       "<tf.Tensor: id=4559641, shape=(), dtype=bool, numpy=True>"
      ]
     },
     "execution_count": 25,
     "metadata": {},
     "output_type": "execute_result"
    },
    {
     "name": "stdout",
     "output_type": "stream",
     "text": [
      "Iteration 470, loss -48.0625, x_accept_prob 0.7675\n",
      "INFO:tensorflow:Summary name Training loss is illegal; using Training_loss instead.\n"
     ]
    },
    {
     "data": {
      "text/plain": [
       "<tf.Tensor: id=4559641, shape=(), dtype=bool, numpy=True>"
      ]
     },
     "execution_count": 25,
     "metadata": {},
     "output_type": "execute_result"
    },
    {
     "name": "stdout",
     "output_type": "stream",
     "text": [
      "Iteration 480, loss -46.3806, x_accept_prob 0.7791\n",
      "INFO:tensorflow:Summary name Training loss is illegal; using Training_loss instead.\n"
     ]
    },
    {
     "data": {
      "text/plain": [
       "<tf.Tensor: id=4559641, shape=(), dtype=bool, numpy=True>"
      ]
     },
     "execution_count": 25,
     "metadata": {},
     "output_type": "execute_result"
    },
    {
     "name": "stdout",
     "output_type": "stream",
     "text": [
      "Iteration 490, loss -48.7545, x_accept_prob 0.7470\n",
      "INFO:tensorflow:Summary name Training loss is illegal; using Training_loss instead.\n"
     ]
    },
    {
     "data": {
      "text/plain": [
       "<tf.Tensor: id=4559641, shape=(), dtype=bool, numpy=True>"
      ]
     },
     "execution_count": 25,
     "metadata": {},
     "output_type": "execute_result"
    },
    {
     "name": "stdout",
     "output_type": "stream",
     "text": [
      "Iteration 500, loss -52.5057, x_accept_prob 0.7798\n",
      "INFO:tensorflow:Summary name Training loss is illegal; using Training_loss instead.\n"
     ]
    },
    {
     "data": {
      "text/plain": [
       "<tf.Tensor: id=4559641, shape=(), dtype=bool, numpy=True>"
      ]
     },
     "execution_count": 25,
     "metadata": {},
     "output_type": "execute_result"
    },
    {
     "name": "stdout",
     "output_type": "stream",
     "text": [
      "Saved checkpoint to: ../../tf_eager_log/mog_model/run_2/ckpt-1\n",
      "Iteration 510, loss -39.5860, x_accept_prob 0.7323\n",
      "INFO:tensorflow:Summary name Training loss is illegal; using Training_loss instead.\n"
     ]
    },
    {
     "data": {
      "text/plain": [
       "<tf.Tensor: id=4559641, shape=(), dtype=bool, numpy=True>"
      ]
     },
     "execution_count": 25,
     "metadata": {},
     "output_type": "execute_result"
    },
    {
     "name": "stdout",
     "output_type": "stream",
     "text": [
      "Iteration 520, loss -43.6680, x_accept_prob 0.7716\n",
      "INFO:tensorflow:Summary name Training loss is illegal; using Training_loss instead.\n"
     ]
    },
    {
     "data": {
      "text/plain": [
       "<tf.Tensor: id=4559641, shape=(), dtype=bool, numpy=True>"
      ]
     },
     "execution_count": 25,
     "metadata": {},
     "output_type": "execute_result"
    },
    {
     "name": "stdout",
     "output_type": "stream",
     "text": [
      "Iteration 530, loss -42.4036, x_accept_prob 0.7752\n",
      "INFO:tensorflow:Summary name Training loss is illegal; using Training_loss instead.\n"
     ]
    },
    {
     "data": {
      "text/plain": [
       "<tf.Tensor: id=4559641, shape=(), dtype=bool, numpy=True>"
      ]
     },
     "execution_count": 25,
     "metadata": {},
     "output_type": "execute_result"
    },
    {
     "name": "stdout",
     "output_type": "stream",
     "text": [
      "Iteration 540, loss -53.9451, x_accept_prob 0.7918\n",
      "INFO:tensorflow:Summary name Training loss is illegal; using Training_loss instead.\n"
     ]
    },
    {
     "data": {
      "text/plain": [
       "<tf.Tensor: id=4559641, shape=(), dtype=bool, numpy=True>"
      ]
     },
     "execution_count": 25,
     "metadata": {},
     "output_type": "execute_result"
    },
    {
     "name": "stdout",
     "output_type": "stream",
     "text": [
      "Iteration 550, loss -40.8895, x_accept_prob 0.7877\n",
      "INFO:tensorflow:Summary name Training loss is illegal; using Training_loss instead.\n"
     ]
    },
    {
     "data": {
      "text/plain": [
       "<tf.Tensor: id=4559641, shape=(), dtype=bool, numpy=True>"
      ]
     },
     "execution_count": 25,
     "metadata": {},
     "output_type": "execute_result"
    },
    {
     "name": "stdout",
     "output_type": "stream",
     "text": [
      "Iteration 560, loss -44.8358, x_accept_prob 0.8119\n",
      "INFO:tensorflow:Summary name Training loss is illegal; using Training_loss instead.\n"
     ]
    },
    {
     "data": {
      "text/plain": [
       "<tf.Tensor: id=4559641, shape=(), dtype=bool, numpy=True>"
      ]
     },
     "execution_count": 25,
     "metadata": {},
     "output_type": "execute_result"
    },
    {
     "name": "stdout",
     "output_type": "stream",
     "text": [
      "Iteration 570, loss -49.0909, x_accept_prob 0.8160\n",
      "INFO:tensorflow:Summary name Training loss is illegal; using Training_loss instead.\n"
     ]
    },
    {
     "data": {
      "text/plain": [
       "<tf.Tensor: id=4559641, shape=(), dtype=bool, numpy=True>"
      ]
     },
     "execution_count": 25,
     "metadata": {},
     "output_type": "execute_result"
    },
    {
     "name": "stdout",
     "output_type": "stream",
     "text": [
      "Iteration 580, loss -46.7551, x_accept_prob 0.7681\n",
      "INFO:tensorflow:Summary name Training loss is illegal; using Training_loss instead.\n"
     ]
    },
    {
     "data": {
      "text/plain": [
       "<tf.Tensor: id=4559641, shape=(), dtype=bool, numpy=True>"
      ]
     },
     "execution_count": 25,
     "metadata": {},
     "output_type": "execute_result"
    },
    {
     "name": "stdout",
     "output_type": "stream",
     "text": [
      "Iteration 590, loss -46.8780, x_accept_prob 0.8080\n",
      "INFO:tensorflow:Summary name Training loss is illegal; using Training_loss instead.\n"
     ]
    },
    {
     "data": {
      "text/plain": [
       "<tf.Tensor: id=4559641, shape=(), dtype=bool, numpy=True>"
      ]
     },
     "execution_count": 25,
     "metadata": {},
     "output_type": "execute_result"
    },
    {
     "name": "stdout",
     "output_type": "stream",
     "text": [
      "Iteration 600, loss -41.5492, x_accept_prob 0.7925\n",
      "INFO:tensorflow:Summary name Training loss is illegal; using Training_loss instead.\n"
     ]
    },
    {
     "data": {
      "text/plain": [
       "<tf.Tensor: id=4559641, shape=(), dtype=bool, numpy=True>"
      ]
     },
     "execution_count": 25,
     "metadata": {},
     "output_type": "execute_result"
    },
    {
     "name": "stdout",
     "output_type": "stream",
     "text": [
      "Iteration 610, loss -43.6870, x_accept_prob 0.7642\n",
      "INFO:tensorflow:Summary name Training loss is illegal; using Training_loss instead.\n"
     ]
    },
    {
     "data": {
      "text/plain": [
       "<tf.Tensor: id=4559641, shape=(), dtype=bool, numpy=True>"
      ]
     },
     "execution_count": 25,
     "metadata": {},
     "output_type": "execute_result"
    },
    {
     "name": "stdout",
     "output_type": "stream",
     "text": [
      "Iteration 620, loss -40.6354, x_accept_prob 0.7884\n",
      "INFO:tensorflow:Summary name Training loss is illegal; using Training_loss instead.\n"
     ]
    },
    {
     "data": {
      "text/plain": [
       "<tf.Tensor: id=4559641, shape=(), dtype=bool, numpy=True>"
      ]
     },
     "execution_count": 25,
     "metadata": {},
     "output_type": "execute_result"
    },
    {
     "name": "stdout",
     "output_type": "stream",
     "text": [
      "Iteration 630, loss -45.5121, x_accept_prob 0.7651\n",
      "INFO:tensorflow:Summary name Training loss is illegal; using Training_loss instead.\n"
     ]
    },
    {
     "data": {
      "text/plain": [
       "<tf.Tensor: id=4559641, shape=(), dtype=bool, numpy=True>"
      ]
     },
     "execution_count": 25,
     "metadata": {},
     "output_type": "execute_result"
    },
    {
     "name": "stdout",
     "output_type": "stream",
     "text": [
      "Iteration 640, loss -45.2031, x_accept_prob 0.8036\n",
      "INFO:tensorflow:Summary name Training loss is illegal; using Training_loss instead.\n"
     ]
    },
    {
     "data": {
      "text/plain": [
       "<tf.Tensor: id=4559641, shape=(), dtype=bool, numpy=True>"
      ]
     },
     "execution_count": 25,
     "metadata": {},
     "output_type": "execute_result"
    },
    {
     "name": "stdout",
     "output_type": "stream",
     "text": [
      "Iteration 650, loss -42.8566, x_accept_prob 0.7483\n",
      "INFO:tensorflow:Summary name Training loss is illegal; using Training_loss instead.\n"
     ]
    },
    {
     "data": {
      "text/plain": [
       "<tf.Tensor: id=4559641, shape=(), dtype=bool, numpy=True>"
      ]
     },
     "execution_count": 25,
     "metadata": {},
     "output_type": "execute_result"
    },
    {
     "name": "stdout",
     "output_type": "stream",
     "text": [
      "Iteration 660, loss -48.8829, x_accept_prob 0.7826\n",
      "INFO:tensorflow:Summary name Training loss is illegal; using Training_loss instead.\n"
     ]
    },
    {
     "data": {
      "text/plain": [
       "<tf.Tensor: id=4559641, shape=(), dtype=bool, numpy=True>"
      ]
     },
     "execution_count": 25,
     "metadata": {},
     "output_type": "execute_result"
    },
    {
     "name": "stdout",
     "output_type": "stream",
     "text": [
      "Iteration 670, loss -45.5735, x_accept_prob 0.8140\n",
      "INFO:tensorflow:Summary name Training loss is illegal; using Training_loss instead.\n"
     ]
    },
    {
     "data": {
      "text/plain": [
       "<tf.Tensor: id=4559641, shape=(), dtype=bool, numpy=True>"
      ]
     },
     "execution_count": 25,
     "metadata": {},
     "output_type": "execute_result"
    },
    {
     "name": "stdout",
     "output_type": "stream",
     "text": [
      "Iteration 680, loss -46.3693, x_accept_prob 0.7845\n",
      "INFO:tensorflow:Summary name Training loss is illegal; using Training_loss instead.\n"
     ]
    },
    {
     "data": {
      "text/plain": [
       "<tf.Tensor: id=4559641, shape=(), dtype=bool, numpy=True>"
      ]
     },
     "execution_count": 25,
     "metadata": {},
     "output_type": "execute_result"
    },
    {
     "name": "stdout",
     "output_type": "stream",
     "text": [
      "Iteration 690, loss -48.7234, x_accept_prob 0.8029\n",
      "INFO:tensorflow:Summary name Training loss is illegal; using Training_loss instead.\n"
     ]
    },
    {
     "data": {
      "text/plain": [
       "<tf.Tensor: id=4559641, shape=(), dtype=bool, numpy=True>"
      ]
     },
     "execution_count": 25,
     "metadata": {},
     "output_type": "execute_result"
    },
    {
     "name": "stdout",
     "output_type": "stream",
     "text": [
      "Iteration 700, loss -49.3126, x_accept_prob 0.8242\n",
      "INFO:tensorflow:Summary name Training loss is illegal; using Training_loss instead.\n"
     ]
    },
    {
     "data": {
      "text/plain": [
       "<tf.Tensor: id=4559641, shape=(), dtype=bool, numpy=True>"
      ]
     },
     "execution_count": 25,
     "metadata": {},
     "output_type": "execute_result"
    },
    {
     "name": "stdout",
     "output_type": "stream",
     "text": [
      "Iteration 710, loss -52.5303, x_accept_prob 0.8114\n",
      "INFO:tensorflow:Summary name Training loss is illegal; using Training_loss instead.\n"
     ]
    },
    {
     "data": {
      "text/plain": [
       "<tf.Tensor: id=4559641, shape=(), dtype=bool, numpy=True>"
      ]
     },
     "execution_count": 25,
     "metadata": {},
     "output_type": "execute_result"
    },
    {
     "name": "stdout",
     "output_type": "stream",
     "text": [
      "Iteration 720, loss -45.3288, x_accept_prob 0.7944\n",
      "INFO:tensorflow:Summary name Training loss is illegal; using Training_loss instead.\n"
     ]
    },
    {
     "data": {
      "text/plain": [
       "<tf.Tensor: id=4559641, shape=(), dtype=bool, numpy=True>"
      ]
     },
     "execution_count": 25,
     "metadata": {},
     "output_type": "execute_result"
    },
    {
     "name": "stdout",
     "output_type": "stream",
     "text": [
      "Iteration 730, loss -49.3423, x_accept_prob 0.7473\n",
      "INFO:tensorflow:Summary name Training loss is illegal; using Training_loss instead.\n"
     ]
    },
    {
     "data": {
      "text/plain": [
       "<tf.Tensor: id=4559641, shape=(), dtype=bool, numpy=True>"
      ]
     },
     "execution_count": 25,
     "metadata": {},
     "output_type": "execute_result"
    },
    {
     "name": "stdout",
     "output_type": "stream",
     "text": [
      "Iteration 740, loss -44.3362, x_accept_prob 0.7935\n",
      "INFO:tensorflow:Summary name Training loss is illegal; using Training_loss instead.\n"
     ]
    },
    {
     "data": {
      "text/plain": [
       "<tf.Tensor: id=4559641, shape=(), dtype=bool, numpy=True>"
      ]
     },
     "execution_count": 25,
     "metadata": {},
     "output_type": "execute_result"
    },
    {
     "name": "stdout",
     "output_type": "stream",
     "text": [
      "Iteration 750, loss -52.3376, x_accept_prob 0.7834\n",
      "INFO:tensorflow:Summary name Training loss is illegal; using Training_loss instead.\n"
     ]
    },
    {
     "data": {
      "text/plain": [
       "<tf.Tensor: id=4559641, shape=(), dtype=bool, numpy=True>"
      ]
     },
     "execution_count": 25,
     "metadata": {},
     "output_type": "execute_result"
    },
    {
     "name": "stdout",
     "output_type": "stream",
     "text": [
      "Iteration 760, loss -47.0273, x_accept_prob 0.7744\n",
      "INFO:tensorflow:Summary name Training loss is illegal; using Training_loss instead.\n"
     ]
    },
    {
     "data": {
      "text/plain": [
       "<tf.Tensor: id=4559641, shape=(), dtype=bool, numpy=True>"
      ]
     },
     "execution_count": 25,
     "metadata": {},
     "output_type": "execute_result"
    },
    {
     "name": "stdout",
     "output_type": "stream",
     "text": [
      "Iteration 770, loss -49.3517, x_accept_prob 0.8058\n",
      "INFO:tensorflow:Summary name Training loss is illegal; using Training_loss instead.\n"
     ]
    },
    {
     "data": {
      "text/plain": [
       "<tf.Tensor: id=4559641, shape=(), dtype=bool, numpy=True>"
      ]
     },
     "execution_count": 25,
     "metadata": {},
     "output_type": "execute_result"
    },
    {
     "name": "stdout",
     "output_type": "stream",
     "text": [
      "Iteration 780, loss -41.5394, x_accept_prob 0.7810\n",
      "INFO:tensorflow:Summary name Training loss is illegal; using Training_loss instead.\n"
     ]
    },
    {
     "data": {
      "text/plain": [
       "<tf.Tensor: id=4559641, shape=(), dtype=bool, numpy=True>"
      ]
     },
     "execution_count": 25,
     "metadata": {},
     "output_type": "execute_result"
    },
    {
     "name": "stdout",
     "output_type": "stream",
     "text": [
      "Iteration 790, loss -50.7021, x_accept_prob 0.7815\n",
      "INFO:tensorflow:Summary name Training loss is illegal; using Training_loss instead.\n"
     ]
    },
    {
     "data": {
      "text/plain": [
       "<tf.Tensor: id=4559641, shape=(), dtype=bool, numpy=True>"
      ]
     },
     "execution_count": 25,
     "metadata": {},
     "output_type": "execute_result"
    },
    {
     "name": "stdout",
     "output_type": "stream",
     "text": [
      "Iteration 800, loss -42.1356, x_accept_prob 0.7700\n",
      "INFO:tensorflow:Summary name Training loss is illegal; using Training_loss instead.\n"
     ]
    },
    {
     "data": {
      "text/plain": [
       "<tf.Tensor: id=4559641, shape=(), dtype=bool, numpy=True>"
      ]
     },
     "execution_count": 25,
     "metadata": {},
     "output_type": "execute_result"
    },
    {
     "name": "stdout",
     "output_type": "stream",
     "text": [
      "Iteration 810, loss -47.6812, x_accept_prob 0.7659\n",
      "INFO:tensorflow:Summary name Training loss is illegal; using Training_loss instead.\n"
     ]
    },
    {
     "data": {
      "text/plain": [
       "<tf.Tensor: id=4559641, shape=(), dtype=bool, numpy=True>"
      ]
     },
     "execution_count": 25,
     "metadata": {},
     "output_type": "execute_result"
    },
    {
     "name": "stdout",
     "output_type": "stream",
     "text": [
      "Iteration 820, loss -50.0707, x_accept_prob 0.7949\n",
      "INFO:tensorflow:Summary name Training loss is illegal; using Training_loss instead.\n"
     ]
    },
    {
     "data": {
      "text/plain": [
       "<tf.Tensor: id=4559641, shape=(), dtype=bool, numpy=True>"
      ]
     },
     "execution_count": 25,
     "metadata": {},
     "output_type": "execute_result"
    },
    {
     "name": "stdout",
     "output_type": "stream",
     "text": [
      "Iteration 830, loss -48.0332, x_accept_prob 0.7768\n",
      "INFO:tensorflow:Summary name Training loss is illegal; using Training_loss instead.\n"
     ]
    },
    {
     "data": {
      "text/plain": [
       "<tf.Tensor: id=4559641, shape=(), dtype=bool, numpy=True>"
      ]
     },
     "execution_count": 25,
     "metadata": {},
     "output_type": "execute_result"
    },
    {
     "name": "stdout",
     "output_type": "stream",
     "text": [
      "Iteration 840, loss -47.5684, x_accept_prob 0.7606\n",
      "INFO:tensorflow:Summary name Training loss is illegal; using Training_loss instead.\n"
     ]
    },
    {
     "data": {
      "text/plain": [
       "<tf.Tensor: id=4559641, shape=(), dtype=bool, numpy=True>"
      ]
     },
     "execution_count": 25,
     "metadata": {},
     "output_type": "execute_result"
    },
    {
     "name": "stdout",
     "output_type": "stream",
     "text": [
      "Iteration 850, loss -33.7760, x_accept_prob 0.8011\n",
      "INFO:tensorflow:Summary name Training loss is illegal; using Training_loss instead.\n"
     ]
    },
    {
     "data": {
      "text/plain": [
       "<tf.Tensor: id=4559641, shape=(), dtype=bool, numpy=True>"
      ]
     },
     "execution_count": 25,
     "metadata": {},
     "output_type": "execute_result"
    },
    {
     "name": "stdout",
     "output_type": "stream",
     "text": [
      "Iteration 860, loss -44.3587, x_accept_prob 0.8133\n",
      "INFO:tensorflow:Summary name Training loss is illegal; using Training_loss instead.\n"
     ]
    },
    {
     "data": {
      "text/plain": [
       "<tf.Tensor: id=4559641, shape=(), dtype=bool, numpy=True>"
      ]
     },
     "execution_count": 25,
     "metadata": {},
     "output_type": "execute_result"
    },
    {
     "name": "stdout",
     "output_type": "stream",
     "text": [
      "Iteration 870, loss -42.3892, x_accept_prob 0.8087\n",
      "INFO:tensorflow:Summary name Training loss is illegal; using Training_loss instead.\n"
     ]
    },
    {
     "data": {
      "text/plain": [
       "<tf.Tensor: id=4559641, shape=(), dtype=bool, numpy=True>"
      ]
     },
     "execution_count": 25,
     "metadata": {},
     "output_type": "execute_result"
    },
    {
     "name": "stdout",
     "output_type": "stream",
     "text": [
      "Iteration 880, loss -41.9609, x_accept_prob 0.8151\n",
      "INFO:tensorflow:Summary name Training loss is illegal; using Training_loss instead.\n"
     ]
    },
    {
     "data": {
      "text/plain": [
       "<tf.Tensor: id=4559641, shape=(), dtype=bool, numpy=True>"
      ]
     },
     "execution_count": 25,
     "metadata": {},
     "output_type": "execute_result"
    },
    {
     "name": "stdout",
     "output_type": "stream",
     "text": [
      "Iteration 890, loss -45.5040, x_accept_prob 0.8093\n",
      "INFO:tensorflow:Summary name Training loss is illegal; using Training_loss instead.\n"
     ]
    },
    {
     "data": {
      "text/plain": [
       "<tf.Tensor: id=4559641, shape=(), dtype=bool, numpy=True>"
      ]
     },
     "execution_count": 25,
     "metadata": {},
     "output_type": "execute_result"
    },
    {
     "name": "stdout",
     "output_type": "stream",
     "text": [
      "Iteration 900, loss -43.2053, x_accept_prob 0.7729\n",
      "INFO:tensorflow:Summary name Training loss is illegal; using Training_loss instead.\n"
     ]
    },
    {
     "data": {
      "text/plain": [
       "<tf.Tensor: id=4559641, shape=(), dtype=bool, numpy=True>"
      ]
     },
     "execution_count": 25,
     "metadata": {},
     "output_type": "execute_result"
    },
    {
     "name": "stdout",
     "output_type": "stream",
     "text": [
      "Iteration 910, loss -38.3361, x_accept_prob 0.7714\n",
      "INFO:tensorflow:Summary name Training loss is illegal; using Training_loss instead.\n"
     ]
    },
    {
     "data": {
      "text/plain": [
       "<tf.Tensor: id=4559641, shape=(), dtype=bool, numpy=True>"
      ]
     },
     "execution_count": 25,
     "metadata": {},
     "output_type": "execute_result"
    },
    {
     "name": "stdout",
     "output_type": "stream",
     "text": [
      "Iteration 920, loss -40.0306, x_accept_prob 0.7839\n",
      "INFO:tensorflow:Summary name Training loss is illegal; using Training_loss instead.\n"
     ]
    },
    {
     "data": {
      "text/plain": [
       "<tf.Tensor: id=4559641, shape=(), dtype=bool, numpy=True>"
      ]
     },
     "execution_count": 25,
     "metadata": {},
     "output_type": "execute_result"
    },
    {
     "name": "stdout",
     "output_type": "stream",
     "text": [
      "Iteration 930, loss -48.3043, x_accept_prob 0.7768\n",
      "INFO:tensorflow:Summary name Training loss is illegal; using Training_loss instead.\n"
     ]
    },
    {
     "data": {
      "text/plain": [
       "<tf.Tensor: id=4559641, shape=(), dtype=bool, numpy=True>"
      ]
     },
     "execution_count": 25,
     "metadata": {},
     "output_type": "execute_result"
    },
    {
     "name": "stdout",
     "output_type": "stream",
     "text": [
      "Iteration 940, loss -38.5376, x_accept_prob 0.7755\n",
      "INFO:tensorflow:Summary name Training loss is illegal; using Training_loss instead.\n"
     ]
    },
    {
     "data": {
      "text/plain": [
       "<tf.Tensor: id=4559641, shape=(), dtype=bool, numpy=True>"
      ]
     },
     "execution_count": 25,
     "metadata": {},
     "output_type": "execute_result"
    },
    {
     "name": "stdout",
     "output_type": "stream",
     "text": [
      "Iteration 950, loss -38.1938, x_accept_prob 0.7580\n",
      "INFO:tensorflow:Summary name Training loss is illegal; using Training_loss instead.\n"
     ]
    },
    {
     "data": {
      "text/plain": [
       "<tf.Tensor: id=4559641, shape=(), dtype=bool, numpy=True>"
      ]
     },
     "execution_count": 25,
     "metadata": {},
     "output_type": "execute_result"
    },
    {
     "name": "stdout",
     "output_type": "stream",
     "text": [
      "Iteration 960, loss -58.2166, x_accept_prob 0.7688\n",
      "INFO:tensorflow:Summary name Training loss is illegal; using Training_loss instead.\n"
     ]
    },
    {
     "data": {
      "text/plain": [
       "<tf.Tensor: id=4559641, shape=(), dtype=bool, numpy=True>"
      ]
     },
     "execution_count": 25,
     "metadata": {},
     "output_type": "execute_result"
    },
    {
     "name": "stdout",
     "output_type": "stream",
     "text": [
      "Iteration 970, loss -39.7796, x_accept_prob 0.7676\n",
      "INFO:tensorflow:Summary name Training loss is illegal; using Training_loss instead.\n"
     ]
    },
    {
     "data": {
      "text/plain": [
       "<tf.Tensor: id=4559641, shape=(), dtype=bool, numpy=True>"
      ]
     },
     "execution_count": 25,
     "metadata": {},
     "output_type": "execute_result"
    },
    {
     "name": "stdout",
     "output_type": "stream",
     "text": [
      "Iteration 980, loss -42.3282, x_accept_prob 0.7366\n",
      "INFO:tensorflow:Summary name Training loss is illegal; using Training_loss instead.\n"
     ]
    },
    {
     "data": {
      "text/plain": [
       "<tf.Tensor: id=4559641, shape=(), dtype=bool, numpy=True>"
      ]
     },
     "execution_count": 25,
     "metadata": {},
     "output_type": "execute_result"
    },
    {
     "name": "stdout",
     "output_type": "stream",
     "text": [
      "Iteration 990, loss -47.3547, x_accept_prob 0.7606\n",
      "INFO:tensorflow:Summary name Training loss is illegal; using Training_loss instead.\n"
     ]
    },
    {
     "data": {
      "text/plain": [
       "<tf.Tensor: id=4559641, shape=(), dtype=bool, numpy=True>"
      ]
     },
     "execution_count": 25,
     "metadata": {},
     "output_type": "execute_result"
    },
    {
     "name": "stdout",
     "output_type": "stream",
     "text": [
      "Iteration 1000, loss -48.6920, x_accept_prob 0.7751\n",
      "INFO:tensorflow:Summary name Training loss is illegal; using Training_loss instead.\n"
     ]
    },
    {
     "data": {
      "text/plain": [
       "<tf.Tensor: id=4559641, shape=(), dtype=bool, numpy=True>"
      ]
     },
     "execution_count": 25,
     "metadata": {},
     "output_type": "execute_result"
    },
    {
     "name": "stdout",
     "output_type": "stream",
     "text": [
      "Saved checkpoint to: ../../tf_eager_log/mog_model/run_2/ckpt-2\n",
      "Training complete.\n"
     ]
    }
   ],
   "source": [
    "train_iters = 1000\n",
    "eval_iters = 20 \n",
    "n_samples = 200\n",
    "record_loss_every = 10 \n",
    "save_steps = 100 \n",
    "\n",
    "global_step = tf.train.get_or_create_global_step()\n",
    "global_step.assign(1)\n",
    "learning_rate = tf.train.exponential_decay(1e-3, global_step, \n",
    "                                           1000, 0.96, staircase=True)\n",
    "optimizer = tf.train.AdamOptimizer(learning_rate)\n",
    "checkpointer = tf.train.Checkpoint(optimizer=optimizer,\n",
    "                                   dynamics=mog_dynamics,\n",
    "                                   global_step=global_step)\n",
    "\n",
    "log_dir = '../../tf_eager_log/mog_model/run_3/'\n",
    "summary_writer = tf.contrib.summary.create_file_writer(log_dir)\n",
    "# if restore:\n",
    "#     latest_path = tf.train.latest_checkpoint(train_dir)\n",
    "#     checkpointer.restore(latest_path)\n",
    "#     print(\"Restored latest checkpoint at path:\\\"{}\\\"\".format(latest_path))\n",
    "#     sys.stdout.flush()\n",
    "# if not restore:\n",
    "#     if use_defun:\n",
    "#         loss_fn = tfe.function(l2hmc.compute_loss)\n",
    "#     else:\n",
    "loss_fn = tfe.defun(l2hmc.compute_loss)\n",
    "samples = tf.random_normal(shape=[n_samples, x_dim])\n",
    "for i in range(1, train_iters + 1):\n",
    "    loss, samples, accept_prob = train_one_iter(\n",
    "        mog_dynamics,\n",
    "        samples,\n",
    "        optimizer,\n",
    "        loss_fn=loss_fn,\n",
    "        global_step=global_step\n",
    "    )\n",
    "    \n",
    "    if i % record_loss_every == 0:\n",
    "        print(\"Iteration {}, loss {:.4f}, x_accept_prob {:.4f}\".format(\n",
    "            i, loss.numpy(), accept_prob.numpy().mean()\n",
    "        ))\n",
    "        with summary_writer.as_default():\n",
    "            with tf.contrib.summary.always_record_summaries():\n",
    "                _ = tf.contrib.summary.scalar(\"Training loss\", \n",
    "                                              loss, \n",
    "                                              step=global_step)\n",
    "                \n",
    "    if i % save_steps == 0:\n",
    "        saved_path = checkpointer.save(file_prefix=os.path.join(log_dir,\n",
    "                                                                \"ckpt\"))\n",
    "        print(f\"Saved checkpoint to: {saved_path}\")\n",
    "        \n",
    "print(\"Training complete.\")\n",
    "sys.stdout.flush()"
   ]
  },
  {
   "cell_type": "code",
   "execution_count": 32,
   "metadata": {
    "ExecuteTime": {
     "end_time": "2018-10-18T07:26:24.422424Z",
     "start_time": "2018-10-18T07:26:19.080725Z"
    }
   },
   "outputs": [],
   "source": [
    "_samples = tf.random_normal(shape=[n_samples, x_dim])\n",
    "samples_history = []\n",
    "for i in range(100):\n",
    "    samples_history.append(_samples.numpy())\n",
    "    _, _, _, _samples = mog_dynamics.apply_transition(_samples)\n",
    "samples_history = np.array(samples_history)"
   ]
  },
  {
   "cell_type": "code",
   "execution_count": 33,
   "metadata": {
    "ExecuteTime": {
     "end_time": "2018-10-18T07:26:30.503217Z",
     "start_time": "2018-10-18T07:26:30.425974Z"
    }
   },
   "outputs": [
    {
     "data": {
      "text/plain": [
       "(100, 200, 2)"
      ]
     },
     "execution_count": 33,
     "metadata": {},
     "output_type": "execute_result"
    }
   ],
   "source": [
    "samples_history.shape"
   ]
  },
  {
   "cell_type": "code",
   "execution_count": 37,
   "metadata": {
    "ExecuteTime": {
     "end_time": "2018-10-18T07:27:26.759980Z",
     "start_time": "2018-10-18T07:27:26.666280Z"
    },
    "scrolled": true
   },
   "outputs": [
    {
     "data": {
      "text/plain": [
       "array([[-9.34409537e-01,  6.77086193e-02],\n",
       "       [-1.33721625e+00, -6.14493006e-02],\n",
       "       [ 1.16848279e+00,  1.77252185e-01],\n",
       "       [ 9.84313456e-01, -3.61864328e-02],\n",
       "       [ 9.73416075e-01, -3.80562308e-01],\n",
       "       [-5.18297827e-01, -2.44713976e-01],\n",
       "       [ 4.77247693e-01, -8.77689350e-02],\n",
       "       [ 7.74380509e-01,  3.99639495e-02],\n",
       "       [-8.22231500e-01, -1.53768545e-01],\n",
       "       [ 1.38401779e+00, -1.19056258e-01],\n",
       "       [-8.48990934e-01, -1.31103921e-01],\n",
       "       [-1.14306018e+00,  1.53626380e-01],\n",
       "       [ 1.21602837e+00,  3.89105809e-01],\n",
       "       [-9.59662833e-01,  5.83784887e-03],\n",
       "       [-1.04197418e+00, -1.87062047e-01],\n",
       "       [ 8.43334600e-01, -3.55953149e-01],\n",
       "       [ 1.00692753e+00,  2.05514506e-01],\n",
       "       [ 1.19058155e+00, -5.04949551e-01],\n",
       "       [-1.17915120e+00,  2.80578293e-01],\n",
       "       [ 1.13758580e+00, -2.33053579e-01],\n",
       "       [ 7.87667115e-01, -1.94596995e-01],\n",
       "       [ 1.76169709e+00, -3.36935350e-01],\n",
       "       [-7.68604225e-01,  1.62959244e-01],\n",
       "       [-6.78861132e-01,  1.08601705e-01],\n",
       "       [ 1.11004896e+00,  1.92792732e-01],\n",
       "       [ 1.13130481e+00,  1.61063658e-01],\n",
       "       [ 1.14715492e+00, -1.22854675e-01],\n",
       "       [ 1.37945939e+00,  2.21355709e-01],\n",
       "       [ 7.56963985e-01,  2.52019114e-01],\n",
       "       [-8.71728702e-01, -1.26468083e-01],\n",
       "       [ 9.51619877e-01,  6.23687720e-02],\n",
       "       [ 1.15374490e+00,  1.33503782e-01],\n",
       "       [-6.59842683e-01,  2.91736165e-01],\n",
       "       [-1.29987354e+00,  2.42921606e-01],\n",
       "       [ 1.33226915e+00, -8.66507086e-02],\n",
       "       [ 8.55391401e-01, -2.24779126e-01],\n",
       "       [ 9.87967607e-01,  1.57438422e-01],\n",
       "       [ 1.08346928e+00, -8.60198647e-02],\n",
       "       [ 1.03847798e+00,  1.37671884e-01],\n",
       "       [ 1.12948821e+00,  3.32540441e-01],\n",
       "       [-1.29441853e+00,  3.91828977e-01],\n",
       "       [-1.27231701e+00,  2.89784691e-01],\n",
       "       [ 1.32407518e+00, -7.71040766e-02],\n",
       "       [ 9.79945153e-01,  1.92279034e-01],\n",
       "       [ 1.12454202e+00, -5.79863635e-02],\n",
       "       [ 1.47288976e+00,  4.08604418e-01],\n",
       "       [-1.00247671e+00, -5.52789443e-02],\n",
       "       [-1.23121597e+00,  1.36425815e-01],\n",
       "       [ 1.23073013e+00,  1.47997142e-01],\n",
       "       [-1.21533366e+00,  5.78992353e-03],\n",
       "       [-8.05375703e-01, -4.24654193e-02],\n",
       "       [-1.03998092e+00,  3.26015742e-01],\n",
       "       [-1.19161916e+00, -2.90121113e-03],\n",
       "       [ 1.22883256e+00,  3.83417504e-02],\n",
       "       [ 8.52585419e-01,  4.61587888e-03],\n",
       "       [-8.20022395e-01,  2.31142871e-01],\n",
       "       [-1.00170439e+00,  1.98962883e-01],\n",
       "       [-1.06005167e+00,  2.85631364e-01],\n",
       "       [-1.04645134e+00, -1.66227133e-01],\n",
       "       [-1.53393027e+00, -1.79623077e-01],\n",
       "       [-6.51177018e-01, -6.94822815e-02],\n",
       "       [-9.52907672e-01,  1.15349701e-01],\n",
       "       [-1.06087642e+00,  1.25550103e-01],\n",
       "       [ 5.82814185e-01, -3.97000181e-01],\n",
       "       [-1.16709528e+00, -3.53522474e-01],\n",
       "       [ 1.15872250e+00,  6.64567232e-02],\n",
       "       [-1.48898690e+00,  6.57761273e-02],\n",
       "       [ 4.92248931e-01,  2.39562728e-01],\n",
       "       [ 9.27208792e-01,  2.74528785e-01],\n",
       "       [-6.46291572e-01,  2.62339269e-01],\n",
       "       [ 1.01069962e+00, -2.65945235e-01],\n",
       "       [ 1.32638954e+00,  5.97381727e-02],\n",
       "       [ 1.09447897e+00,  1.15482358e-02],\n",
       "       [ 1.19492290e+00,  7.54054264e-02],\n",
       "       [ 1.05192252e+00, -3.25192053e-02],\n",
       "       [ 1.02918568e+00, -2.46389751e-01],\n",
       "       [ 1.34605566e+00, -5.74547945e-01],\n",
       "       [-1.06136937e+00, -2.44637531e-01],\n",
       "       [ 1.09994474e+00, -7.86211310e-02],\n",
       "       [-1.08449117e+00, -3.82124614e-02],\n",
       "       [-9.10796430e-01, -1.02777373e-01],\n",
       "       [-9.48133862e-01, -3.71026767e-03],\n",
       "       [-8.71842341e-01,  4.13306906e-02],\n",
       "       [ 1.26501803e+00,  1.76204393e-02],\n",
       "       [ 1.52102348e+00, -2.09383095e-01],\n",
       "       [ 1.31092816e+00, -2.68781900e-01],\n",
       "       [ 9.99067756e-01, -2.39299577e-02],\n",
       "       [ 1.40190026e+00, -2.66835906e-01],\n",
       "       [-9.86934365e-01,  3.52872798e-01],\n",
       "       [-9.22333686e-01, -2.05955219e-01],\n",
       "       [-9.12024821e-01, -1.86413291e-01],\n",
       "       [-9.21099087e-01,  8.51057302e-02],\n",
       "       [-8.24179788e-01,  2.20959693e-01],\n",
       "       [ 8.30712033e-01, -3.40497283e-01],\n",
       "       [-1.17841729e+00, -2.42001060e-03],\n",
       "       [-1.15535802e+00, -3.60761110e-02],\n",
       "       [ 1.13622434e+00,  9.06812748e-02],\n",
       "       [-1.08589226e+00, -1.27034176e-01],\n",
       "       [-1.07775570e+00,  2.54780304e-01],\n",
       "       [-9.70279278e-01, -1.67523421e-01],\n",
       "       [-9.83259716e-01, -1.56470190e-02],\n",
       "       [ 1.05620727e+00, -1.65710979e-01],\n",
       "       [ 7.52469198e-01,  2.37048890e-01],\n",
       "       [-6.77099363e-01, -2.26031337e-01],\n",
       "       [ 1.22955442e+00,  1.42911545e-01],\n",
       "       [-1.10746896e+00,  8.61525995e-02],\n",
       "       [ 1.04436015e+00, -1.55782854e-01],\n",
       "       [-9.26172150e-01,  6.72602615e-02],\n",
       "       [ 1.04214164e+00, -2.59620272e-01],\n",
       "       [ 1.04973616e+00,  2.85036134e-01],\n",
       "       [-1.11382200e+00,  3.16158796e-01],\n",
       "       [ 1.06122135e+00,  6.37531498e-03],\n",
       "       [ 1.34271571e+00,  4.45307669e-02],\n",
       "       [-1.11043324e+00, -3.47086231e-01],\n",
       "       [-9.82502563e-01, -1.37649041e-01],\n",
       "       [-8.93429285e-01, -7.47557523e-02],\n",
       "       [-1.16873285e+00, -1.89653934e-01],\n",
       "       [ 1.27936336e+00,  1.30612441e-02],\n",
       "       [ 9.64002753e-01,  1.29411670e-03],\n",
       "       [-1.20238655e+00,  1.03501302e-02],\n",
       "       [ 1.13666647e+00,  6.46450864e-02],\n",
       "       [ 1.02281882e+00,  2.66154316e-01],\n",
       "       [ 9.63983222e-01,  4.54443390e-03],\n",
       "       [ 8.53700996e-01,  3.09371465e-01],\n",
       "       [ 9.46919154e-01,  3.51304080e-01],\n",
       "       [ 1.04427854e+00,  2.54834238e-01],\n",
       "       [ 1.00723769e+00, -7.13108798e-01],\n",
       "       [ 1.24024500e+00,  1.48695390e-01],\n",
       "       [ 1.14133191e+00, -1.29202499e-01],\n",
       "       [ 6.99484623e-01, -1.47945490e-01],\n",
       "       [ 1.08256782e+00,  1.97796547e-01],\n",
       "       [ 1.35587391e+00, -1.02391226e-01],\n",
       "       [ 6.76181908e-01,  1.02750081e-01],\n",
       "       [ 8.49459590e-01, -1.52653050e-01],\n",
       "       [-9.45045849e-01, -6.23976152e-01],\n",
       "       [ 1.33179358e+00, -3.72450412e-02],\n",
       "       [ 1.36322040e+00,  1.76385899e-02],\n",
       "       [ 9.96053355e-01,  4.67046084e-01],\n",
       "       [-9.96897116e-01, -3.33778705e-01],\n",
       "       [ 1.22085850e+00,  9.46505696e-02],\n",
       "       [-7.25571884e-01, -2.71009187e-01],\n",
       "       [ 9.91220250e-01, -3.90989428e-02],\n",
       "       [ 6.31113821e-01, -9.81798023e-02],\n",
       "       [-1.07341000e+00, -2.24594810e-01],\n",
       "       [ 7.68409453e-01,  9.28968263e-02],\n",
       "       [-9.24958419e-01,  2.97991770e-01],\n",
       "       [ 7.20789314e-01, -3.14890489e-02],\n",
       "       [-1.02042496e+00,  4.29050940e-01],\n",
       "       [ 1.06936614e+00, -2.79108108e-01],\n",
       "       [-8.80000700e-01, -1.72546403e-01],\n",
       "       [ 9.84801853e-01, -2.40061474e-02],\n",
       "       [-1.27633663e+00,  1.58792717e-01],\n",
       "       [-6.22062243e-01,  2.94380672e-01],\n",
       "       [ 6.87484870e-01, -7.53581650e-02],\n",
       "       [ 9.04389997e-01,  1.00222902e-02],\n",
       "       [ 1.03163911e+00, -4.63656874e-01],\n",
       "       [ 9.68626521e-01, -1.61694187e-01],\n",
       "       [ 1.05634994e+00, -2.58546137e-01],\n",
       "       [-3.44813476e-01,  4.96352561e-02],\n",
       "       [-1.43059626e+00,  9.43797354e-02],\n",
       "       [-9.46900900e-01,  5.99623311e-02],\n",
       "       [-1.04509118e+00,  2.53454765e-01],\n",
       "       [ 1.16947940e+00,  5.63293718e-01],\n",
       "       [ 8.66481259e-01,  2.40699035e-01],\n",
       "       [ 7.59797487e-01, -2.07345175e-01],\n",
       "       [-1.34084685e+00,  3.42200866e-01],\n",
       "       [-8.19976851e-01, -2.43478795e-01],\n",
       "       [ 1.00254639e+00, -8.11124085e-02],\n",
       "       [-7.72262994e-01,  1.98256461e-01],\n",
       "       [ 1.04090144e+00, -1.12014868e-01],\n",
       "       [-7.00781651e-01,  1.83414996e-01],\n",
       "       [ 1.06454447e+00, -2.95539865e-01],\n",
       "       [-9.98949062e-01,  2.95367750e-01],\n",
       "       [ 8.13833204e-01, -1.83038349e-02],\n",
       "       [ 6.17692839e-01,  2.34946936e-01],\n",
       "       [-9.53404555e-01, -2.14415363e-01],\n",
       "       [ 1.39955226e+00, -1.82393254e-01],\n",
       "       [-1.15039239e+00,  1.15493093e-02],\n",
       "       [ 1.26629342e+00, -7.42002790e-02],\n",
       "       [-9.44774058e-01,  1.22704721e-01],\n",
       "       [-1.24455145e+00,  1.68630153e-02],\n",
       "       [-1.32990212e+00,  2.94235906e-01],\n",
       "       [-1.24584142e+00,  2.83805762e-01],\n",
       "       [-1.23185119e+00,  2.37813912e-01],\n",
       "       [ 1.20595964e+00,  7.15043001e-02],\n",
       "       [-8.33089937e-01,  3.88028161e-03],\n",
       "       [ 1.30942923e+00,  4.08787916e-02],\n",
       "       [ 1.10815781e+00,  3.59501409e-02],\n",
       "       [ 1.31847915e+00, -2.53729659e-01],\n",
       "       [ 1.02506404e+00,  1.94895613e-01],\n",
       "       [-1.20987537e+00,  2.48613964e-01],\n",
       "       [-1.13032537e+00, -9.96498657e-02],\n",
       "       [-9.79562287e-01,  1.52798247e-01],\n",
       "       [-1.18608349e+00, -6.78926703e-02],\n",
       "       [-1.27262730e+00, -1.03382729e-01],\n",
       "       [-9.18622299e-01,  4.32793260e-01],\n",
       "       [ 7.33472788e-01,  4.15730741e-01],\n",
       "       [-9.64163039e-01,  7.89206102e-02],\n",
       "       [ 8.00332669e-01,  1.15251230e-01],\n",
       "       [ 9.84875557e-01,  1.43184522e-01],\n",
       "       [-8.69993402e-01,  1.32139483e-01],\n",
       "       [-1.02782668e+00,  1.94009979e-01],\n",
       "       [ 1.13815230e+00,  1.42834493e-01],\n",
       "       [-7.26263111e-01,  1.20476798e-02],\n",
       "       [-1.34862010e+00,  2.10149691e-02],\n",
       "       [ 9.65404076e-01,  1.42238820e-01],\n",
       "       [ 1.10515029e+00,  3.92014957e-01],\n",
       "       [-1.25007413e+00,  3.92096409e-02],\n",
       "       [-1.09906157e+00,  3.14886968e-02],\n",
       "       [-8.98055318e-01,  3.63685841e-01],\n",
       "       [-7.11866427e-01,  2.32425401e-01],\n",
       "       [ 9.21424673e-01, -9.07814146e-02],\n",
       "       [ 6.39615709e-01,  7.20485346e-02],\n",
       "       [ 9.28887070e-01,  4.48933933e-02],\n",
       "       [ 9.62858559e-01, -6.58009037e-01],\n",
       "       [-1.19021209e+00,  1.49401565e-01],\n",
       "       [-1.29513398e+00, -4.06731533e-01],\n",
       "       [-5.61059544e-01,  1.05946395e-01],\n",
       "       [-5.36832533e-01, -2.76408225e-01],\n",
       "       [-1.01600857e+00,  1.08247597e-02],\n",
       "       [ 5.85673625e-01,  1.46710086e-01],\n",
       "       [-9.26376425e-01, -7.82597643e-02],\n",
       "       [-9.92173642e-01,  5.73695278e-02],\n",
       "       [-8.72591836e-01,  6.56557893e-02],\n",
       "       [ 9.70950874e-01, -2.28283892e-01],\n",
       "       [ 9.22757107e-01,  6.58358183e-02],\n",
       "       [ 1.22844595e+00,  5.63673892e-02],\n",
       "       [ 1.45305148e+00, -3.23706583e-01],\n",
       "       [-1.01792986e+00,  2.07731558e-01],\n",
       "       [ 9.66426307e-01,  3.54191336e-01],\n",
       "       [ 1.07740143e+00, -3.41898903e-01],\n",
       "       [-7.65296786e-01, -2.98108716e-01],\n",
       "       [ 8.01030647e-01, -2.11892102e-01],\n",
       "       [-1.09796106e+00,  1.32848703e-01],\n",
       "       [ 1.38555743e+00,  6.30330333e-02],\n",
       "       [ 7.63771877e-01,  1.48071444e-01],\n",
       "       [ 1.22795452e+00,  2.03690521e-02],\n",
       "       [ 1.06693070e+00, -1.10893809e-02],\n",
       "       [ 1.14217799e+00, -2.50922561e-01],\n",
       "       [-7.38882342e-01, -1.63363785e-01],\n",
       "       [-1.07611894e+00,  4.22998140e-02],\n",
       "       [ 1.07355888e+00,  3.95999176e-01],\n",
       "       [-8.46250717e-01, -2.13176170e-01],\n",
       "       [ 1.35132014e+00, -4.56292065e-02],\n",
       "       [-6.40338184e-01, -1.44772206e-01],\n",
       "       [-1.32041736e+00,  3.64864630e-01],\n",
       "       [-1.06127611e+00, -2.90213810e-01],\n",
       "       [ 1.29574876e+00, -2.19473832e-01],\n",
       "       [-1.00835132e+00, -1.33764894e-01],\n",
       "       [ 1.46983031e+00,  1.80248194e-01],\n",
       "       [ 1.11944778e+00,  2.05295186e-02],\n",
       "       [ 1.21384624e+00,  1.07596084e-01],\n",
       "       [-1.08944392e+00,  1.15921816e-01],\n",
       "       [-1.15021695e+00,  2.40417445e-01],\n",
       "       [-9.60041582e-01,  3.03503909e-01],\n",
       "       [-9.25384047e-01, -4.34241081e-01],\n",
       "       [ 1.34097031e+00, -6.32553753e-02],\n",
       "       [-8.05767133e-01,  5.17017953e-01],\n",
       "       [ 1.26476515e+00,  3.23659072e-01],\n",
       "       [ 5.90527847e-01,  1.17926875e-02],\n",
       "       [ 1.28664577e+00,  8.49881965e-02],\n",
       "       [-7.78168517e-01, -2.69076716e-03],\n",
       "       [ 8.91980283e-01, -1.39603381e-01],\n",
       "       [ 8.81558321e-01,  1.11578794e-01],\n",
       "       [ 7.38167376e-01,  1.78678632e-01],\n",
       "       [-1.00038416e+00,  4.35349330e-02],\n",
       "       [-8.45900016e-01, -2.58553108e-01],\n",
       "       [ 1.15826902e+00,  7.16054943e-03],\n",
       "       [-8.58800529e-01, -1.72134128e-01],\n",
       "       [-1.24391162e+00,  3.82806600e-01],\n",
       "       [ 8.70132743e-01, -6.78858373e-02],\n",
       "       [ 1.12048387e+00,  1.02179851e-01],\n",
       "       [ 8.48310966e-01, -2.32000579e-01],\n",
       "       [ 1.11719549e+00, -2.72936377e-02],\n",
       "       [ 1.02967824e+00, -3.56798396e-02],\n",
       "       [ 1.07533782e+00, -5.75053420e-02],\n",
       "       [-1.12743061e+00,  1.71330517e-02],\n",
       "       [ 8.11535527e-01, -7.52790874e-02],\n",
       "       [-7.24893819e-01, -1.32479641e-01],\n",
       "       [-9.07224080e-01, -2.66586909e-01],\n",
       "       [-7.21336507e-01,  4.12283590e-01],\n",
       "       [ 7.48397598e-01, -7.84886245e-02],\n",
       "       [ 9.48419827e-01, -2.35483460e-01],\n",
       "       [-8.27598977e-01,  2.85314868e-02],\n",
       "       [ 1.47159077e+00, -1.15567941e-01],\n",
       "       [-9.66904784e-01, -4.05691753e-01],\n",
       "       [ 9.37148118e-01,  2.91358955e-01],\n",
       "       [-1.22033835e+00,  3.36125836e-01],\n",
       "       [-9.86202249e-01,  7.30451486e-02],\n",
       "       [ 8.72596790e-01, -1.62160997e-01],\n",
       "       [-9.14174268e-01,  1.13248010e-01],\n",
       "       [-1.25536208e+00,  2.44511239e-02],\n",
       "       [ 8.47186637e-01, -1.51075279e-01],\n",
       "       [-1.12515963e+00,  3.12380946e-02],\n",
       "       [-9.16957263e-01,  5.51234272e-02],\n",
       "       [ 1.14605074e+00,  2.13502750e-01],\n",
       "       [-1.01221640e+00,  4.48695694e-01],\n",
       "       [-1.13909243e+00,  2.27084564e-01],\n",
       "       [ 7.04687132e-01,  2.14502512e-02],\n",
       "       [-1.22747775e+00, -8.39825244e-02],\n",
       "       [ 1.10093966e+00,  1.16028211e-01],\n",
       "       [ 1.24825432e+00,  1.15685030e-01],\n",
       "       [-1.59309017e+00, -9.75927191e-03],\n",
       "       [ 5.48218107e-01,  3.64737358e-02],\n",
       "       [ 1.54050476e+00, -3.23773037e-01],\n",
       "       [ 1.25236818e+00,  3.96420922e-01],\n",
       "       [ 9.74925649e-01, -1.83859335e-01],\n",
       "       [ 9.39820565e-01, -1.81374905e-02],\n",
       "       [-6.84017267e-01,  4.71077514e-01],\n",
       "       [ 9.99644233e-01, -2.59502347e-01],\n",
       "       [ 9.29934403e-01,  2.50951980e-01],\n",
       "       [-8.59259178e-01,  1.96821167e-01],\n",
       "       [-7.37558943e-01,  5.32108961e-01],\n",
       "       [ 1.07280444e+00, -6.66329594e-02],\n",
       "       [-1.46814031e+00, -2.64657625e-01],\n",
       "       [ 1.31755578e+00,  5.23329855e-02],\n",
       "       [-1.02513416e+00, -9.34535521e-03],\n",
       "       [ 7.53693135e-01,  2.09781107e-02],\n",
       "       [-8.51419938e-01,  1.43545611e-01],\n",
       "       [-8.47950476e-01,  2.21570727e-02],\n",
       "       [ 1.07866268e+00,  1.29394036e-01],\n",
       "       [ 1.11632673e+00,  2.30784194e-01],\n",
       "       [-1.25187802e+00, -3.15924144e-01],\n",
       "       [-1.09358916e+00,  1.57208684e-01],\n",
       "       [-7.87649558e-01, -2.71347938e-01],\n",
       "       [ 9.80609747e-01, -2.24139729e-01],\n",
       "       [ 7.58664988e-01, -2.89647717e-01],\n",
       "       [ 9.84122804e-01, -2.51529955e-01],\n",
       "       [ 1.20458122e+00,  4.82600601e-01],\n",
       "       [-9.68224429e-01, -2.86399630e-04],\n",
       "       [-1.23468115e+00,  7.63475679e-02],\n",
       "       [ 8.17841756e-01, -4.39835372e-02],\n",
       "       [-8.10973587e-01, -4.03251672e-01],\n",
       "       [-9.90894451e-01, -1.18757789e-01],\n",
       "       [-9.93528187e-01,  1.05015844e-01],\n",
       "       [-1.04292415e+00, -1.40943103e-01],\n",
       "       [ 1.16811969e+00, -1.47212831e-01],\n",
       "       [ 1.18451565e+00,  3.51115392e-02],\n",
       "       [ 6.33645227e-01, -1.67379167e-01],\n",
       "       [-1.01798439e+00,  4.68532376e-04],\n",
       "       [-1.13181647e+00, -2.41492388e-01],\n",
       "       [ 9.18079666e-01,  3.58069763e-02],\n",
       "       [ 1.16170614e+00, -1.90981336e-01],\n",
       "       [ 1.07311998e+00,  1.57114149e-01],\n",
       "       [-1.04200577e+00,  2.01571723e-01],\n",
       "       [ 2.52141344e-01, -5.79079172e-03],\n",
       "       [ 9.11198537e-01, -3.09854174e-01],\n",
       "       [ 1.17283605e+00,  1.82580392e-01],\n",
       "       [ 1.26053608e+00, -5.49362251e-01],\n",
       "       [ 8.46683308e-01, -8.80099215e-02],\n",
       "       [-8.46842901e-01,  2.09984821e-01],\n",
       "       [ 1.13498312e+00, -3.91822071e-01],\n",
       "       [ 1.15063864e+00, -3.99593177e-01],\n",
       "       [-1.25963897e+00,  1.30675210e-01],\n",
       "       [-7.65360050e-01,  2.63008118e-01],\n",
       "       [ 1.28951419e+00, -2.66094953e-01],\n",
       "       [-1.19237715e+00, -1.94240341e-01],\n",
       "       [-1.01455088e+00, -1.39185720e-01],\n",
       "       [-8.56341236e-01,  1.24166276e-02],\n",
       "       [-8.21919127e-01, -3.40564234e-01],\n",
       "       [ 7.40394117e-01, -1.57297707e-01],\n",
       "       [-9.23430025e-01,  1.34790191e-01],\n",
       "       [-6.21419006e-01, -1.26457260e-01],\n",
       "       [ 7.82826939e-01,  1.08729215e-01],\n",
       "       [-1.40991162e+00, -3.48763638e-01],\n",
       "       [-7.40269055e-01,  8.23618483e-02],\n",
       "       [-1.37525824e+00, -1.95005973e-01],\n",
       "       [-1.20413003e+00, -6.63506372e-02],\n",
       "       [ 9.68963129e-01, -2.07735058e-01],\n",
       "       [ 6.80493635e-01,  6.13892735e-02],\n",
       "       [-1.00892405e+00, -8.31752449e-02],\n",
       "       [ 1.17706228e+00, -3.77032136e-01],\n",
       "       [ 1.12627067e+00,  3.58014522e-01],\n",
       "       [-1.67408320e+00,  1.50181674e-01],\n",
       "       [-1.09444113e+00, -3.21151816e-01],\n",
       "       [-7.69083684e-01,  1.46978806e-01],\n",
       "       [ 5.27001554e-01, -1.72009450e-01],\n",
       "       [-1.25151219e+00, -1.28479891e-01],\n",
       "       [ 9.88894790e-01, -3.90504864e-01],\n",
       "       [ 1.09722667e+00,  1.43828817e-01],\n",
       "       [ 1.05801809e+00, -3.24203511e-01],\n",
       "       [ 1.10485617e+00, -9.26257957e-02],\n",
       "       [-1.31384835e+00,  4.66111483e-02],\n",
       "       [ 1.03742734e+00,  3.10835421e-02],\n",
       "       [ 1.30636998e+00, -3.13225368e-01],\n",
       "       [-1.28992592e+00,  2.70687652e-01],\n",
       "       [ 1.50112094e+00, -1.27160083e-01],\n",
       "       [-1.19929632e+00,  2.38966968e-01],\n",
       "       [ 9.85216638e-01, -2.08940547e-01],\n",
       "       [-8.18229560e-01, -2.53894595e-01],\n",
       "       [-7.25701666e-01, -2.11093970e-02],\n",
       "       [-1.01473219e+00,  2.47549252e-01],\n",
       "       [-1.16643649e+00,  1.80561141e-01],\n",
       "       [ 1.06227069e+00,  3.57645623e-01],\n",
       "       [ 1.13823710e+00,  3.78942382e-02],\n",
       "       [ 9.39663684e-01,  1.93038287e-01],\n",
       "       [ 6.46762701e-01,  1.17287857e-01],\n",
       "       [-1.32914131e+00, -1.88411958e-01],\n",
       "       [ 9.92212660e-01, -8.36710287e-02],\n",
       "       [ 1.15458158e+00,  2.47934864e-01],\n",
       "       [-9.31596502e-01, -3.11684835e-01],\n",
       "       [-4.06932402e-01,  6.24175238e-03],\n",
       "       [ 9.62520252e-01, -7.45510583e-02],\n",
       "       [-8.33307843e-01, -7.67519733e-02],\n",
       "       [-8.46247800e-01,  1.58410674e-01],\n",
       "       [ 1.25307412e+00, -1.15092830e-02],\n",
       "       [ 5.91382993e-01,  5.84192926e-01],\n",
       "       [ 1.08598112e+00, -2.37855281e-01],\n",
       "       [-1.09531054e+00, -3.54996590e-01],\n",
       "       [ 1.33450184e+00,  2.61395232e-01],\n",
       "       [ 5.88940051e-01,  5.47367445e-02],\n",
       "       [-1.06870333e+00, -4.08708870e-02],\n",
       "       [ 9.45444426e-01, -1.55700786e-01],\n",
       "       [ 1.36293332e+00,  2.19250050e-01],\n",
       "       [ 9.20303784e-01, -1.99756825e-02],\n",
       "       [-6.79613911e-01,  5.05994321e-01],\n",
       "       [ 9.46954856e-01, -3.40094432e-01],\n",
       "       [-9.94631520e-01,  1.69510318e-01],\n",
       "       [ 8.22377690e-01, -8.69945613e-02],\n",
       "       [ 1.19455632e+00,  1.56130562e-01],\n",
       "       [-9.64500477e-01,  3.41364021e-01],\n",
       "       [ 6.81671641e-01,  2.07280457e-02],\n",
       "       [ 9.93884727e-01,  6.02907264e-02],\n",
       "       [-7.95371355e-01,  2.21474971e-02],\n",
       "       [-5.56347537e-01,  1.01775011e-01],\n",
       "       [-1.32435470e+00,  3.02316054e-02],\n",
       "       [ 7.31267849e-01,  2.98984933e-01],\n",
       "       [ 9.11892246e-01,  6.15665573e-01],\n",
       "       [-1.32423133e+00,  1.92443289e-01],\n",
       "       [ 1.06727252e+00, -1.22280895e-01],\n",
       "       [-9.32468178e-01,  3.86949669e-01],\n",
       "       [ 4.85936949e-01,  4.31237261e-02],\n",
       "       [-1.01058276e+00, -3.86491694e-02],\n",
       "       [ 1.07040453e+00, -2.88023973e-01],\n",
       "       [-9.70304978e-01,  1.60507949e-01],\n",
       "       [ 1.00336849e+00, -1.47097723e-01],\n",
       "       [-1.31963632e+00,  4.59899090e-01],\n",
       "       [ 1.30394335e+00,  2.66228620e-01],\n",
       "       [-1.10934822e+00, -2.75417550e-02],\n",
       "       [-8.06778217e-01, -1.00517608e-01],\n",
       "       [ 8.19025119e-01, -1.97988708e-01],\n",
       "       [ 1.02812854e+00, -2.75822347e-01],\n",
       "       [ 1.16329352e+00, -3.25912067e-02],\n",
       "       [ 1.33789552e+00,  1.21602389e-02],\n",
       "       [-1.04798248e+00, -9.18826905e-02],\n",
       "       [-1.63805708e+00, -5.20228133e-01],\n",
       "       [ 1.02046597e+00,  1.82756580e-01],\n",
       "       [ 8.46063402e-01, -2.84554425e-01],\n",
       "       [ 1.03337231e+00,  1.12725729e-01],\n",
       "       [ 1.03756171e+00,  3.18143149e-01],\n",
       "       [-1.37654078e+00, -6.33791251e-01],\n",
       "       [-1.37068753e+00, -3.42382768e-01],\n",
       "       [-1.08089670e+00,  5.05154594e-03],\n",
       "       [-8.08152875e-01,  1.58094485e-01],\n",
       "       [ 5.31924950e-01,  3.66689427e-01],\n",
       "       [-7.31319659e-01,  3.56874584e-02],\n",
       "       [ 1.46019351e+00,  4.36507606e-02],\n",
       "       [ 1.46292481e+00,  2.59147906e-01],\n",
       "       [-1.32594742e+00, -4.45465394e-02],\n",
       "       [-1.08643615e+00, -1.77805991e-02],\n",
       "       [ 9.58897055e-01,  9.99048890e-02],\n",
       "       [ 5.95999999e-01, -1.33165717e-01],\n",
       "       [-1.18735773e+00,  2.14972635e-01],\n",
       "       [ 1.08443265e+00,  1.70447423e-02],\n",
       "       [-8.16956240e-01,  2.13990494e-01],\n",
       "       [-1.06946618e+00, -1.47499903e-01],\n",
       "       [ 8.84817135e-01,  1.04484516e-01],\n",
       "       [ 1.06414329e+00, -1.79450702e-01],\n",
       "       [ 1.27015073e+00, -4.88471673e-02],\n",
       "       [-1.28933044e+00,  6.24463035e-02],\n",
       "       [ 1.08735043e+00,  3.72630286e-01],\n",
       "       [-8.60506678e-01, -1.02861474e-01],\n",
       "       [ 1.14482544e+00, -1.56340324e-01],\n",
       "       [ 1.00908747e+00, -2.61237439e-01],\n",
       "       [-9.65612064e-01, -2.16943732e-01],\n",
       "       [-1.12362555e+00, -2.79734175e-01],\n",
       "       [-8.72145401e-01, -1.51614422e-01],\n",
       "       [-1.09638808e+00,  2.31675843e-01],\n",
       "       [ 8.83882998e-01,  1.05915107e-01],\n",
       "       [-1.15471105e+00, -3.74287498e-01],\n",
       "       [ 1.25653689e+00,  9.89307672e-02],\n",
       "       [ 1.31801569e+00,  1.73675396e-01],\n",
       "       [-8.88560861e-01, -1.62546188e-01],\n",
       "       [-1.04269460e+00,  8.63191765e-03],\n",
       "       [ 1.05125356e+00,  3.44730512e-01],\n",
       "       [ 1.31749390e+00, -1.33975163e-01],\n",
       "       [-1.23483730e+00, -3.80977919e-01],\n",
       "       [ 9.74497333e-01,  2.45328291e-01],\n",
       "       [-6.55714165e-01,  4.13264917e-02],\n",
       "       [-9.83540713e-01,  2.82577826e-01],\n",
       "       [ 1.16460643e+00,  4.36289077e-02],\n",
       "       [-9.68226233e-01, -1.35050200e-01],\n",
       "       [-7.81285997e-01,  2.53907173e-02],\n",
       "       [ 8.68528221e-01,  4.72977892e-01],\n",
       "       [ 1.24060365e+00,  9.94535374e-02],\n",
       "       [-1.07933053e+00, -1.20583546e-01],\n",
       "       [-8.83855688e-01, -2.06496237e-01],\n",
       "       [ 4.78196450e-01, -8.21540321e-02],\n",
       "       [ 8.10636840e-01, -1.20249154e-01],\n",
       "       [-9.90271989e-01, -5.50731013e-02]])"
      ]
     },
     "execution_count": 37,
     "metadata": {},
     "output_type": "execute_result"
    }
   ],
   "source": [
    "target_samples"
   ]
  },
  {
   "cell_type": "code",
   "execution_count": 44,
   "metadata": {
    "ExecuteTime": {
     "end_time": "2018-10-18T07:29:04.061288Z",
     "start_time": "2018-10-18T07:29:03.622121Z"
    }
   },
   "outputs": [
    {
     "data": {
      "text/plain": [
       "[<matplotlib.lines.Line2D at 0x1316e55f8>]"
      ]
     },
     "execution_count": 44,
     "metadata": {},
     "output_type": "execute_result"
    },
    {
     "data": {
      "text/plain": [
       "[<matplotlib.lines.Line2D at 0x131738eb8>]"
      ]
     },
     "execution_count": 44,
     "metadata": {},
     "output_type": "execute_result"
    },
    {
     "data": {
      "image/png": "[encoded data removed]",
      "text/plain": [
       "<Figure size 432x288 with 1 Axes>"
      ]
     },
     "metadata": {},
     "output_type": "display_data"
    }
   ],
   "source": [
    "target_samples = mog_distribution.get_samples(500)\n",
    "fig, ax = plt.subplots()\n",
    "ax.plot(target_samples[:,0], target_samples[:,1], color='C0', alpha=0.5, marker='o', ls='')\n",
    "ax.plot(samples_history[:, 0, 0], samples_history[:, 0, 1], color='C1', alpha=0.75, ls='-')\n",
    "plt.show()"
   ]
  },
  {
   "cell_type": "code",
   "execution_count": 39,
   "metadata": {
    "ExecuteTime": {
     "end_time": "2018-10-18T07:28:06.268044Z",
     "start_time": "2018-10-18T07:28:06.196259Z"
    }
   },
   "outputs": [],
   "source": [
    "samples = mog_distribution.get_samples(10)"
   ]
  },
  {
   "cell_type": "code",
   "execution_count": 40,
   "metadata": {
    "ExecuteTime": {
     "end_time": "2018-10-18T07:28:08.278881Z",
     "start_time": "2018-10-18T07:28:08.213699Z"
    }
   },
   "outputs": [
    {
     "data": {
      "text/plain": [
       "array([[ 0.86471544, -0.18884224],\n",
       "       [ 1.03654265, -0.10297914],\n",
       "       [ 1.31844875, -0.47156506],\n",
       "       [ 1.28749496, -0.1832259 ],\n",
       "       [-1.04547853,  0.25851346],\n",
       "       [ 0.86063111, -0.00427468],\n",
       "       [-1.08666203, -0.07659531],\n",
       "       [-0.99183325,  0.23395349],\n",
       "       [-1.01144655, -0.24049997],\n",
       "       [ 1.03724224, -0.10171292]])"
      ]
     },
     "execution_count": 40,
     "metadata": {},
     "output_type": "execute_result"
    }
   ],
   "source": [
    "samples"
   ]
  },
  {
   "cell_type": "code",
   "execution_count": 43,
   "metadata": {
    "ExecuteTime": {
     "end_time": "2018-10-18T07:28:52.344584Z",
     "start_time": "2018-10-18T07:28:51.930473Z"
    }
   },
   "outputs": [
    {
     "data": {
      "text/plain": [
       "[<matplotlib.lines.Line2D at 0x131ea3400>]"
      ]
     },
     "execution_count": 43,
     "metadata": {},
     "output_type": "execute_result"
    },
    {
     "data": {
      "image/png": "[encoded data removed]",
      "text/plain": [
       "<Figure size 432x288 with 1 Axes>"
      ]
     },
     "metadata": {},
     "output_type": "display_data"
    }
   ],
   "source": [
    "fig, ax = plt.subplots()\n",
    "ax.plot(samples[:,0], samples[:,1], color='C0', marker='o', ls='')\n",
    "#ax.plot(samples_history[:, 0, 0], samples_history[:, 0, 1], color='C1', alpha=0.75, ls='-')\n",
    "plt.show()"
   ]
  },
  {
   "cell_type": "code",
   "execution_count": null,
   "metadata": {},
   "outputs": [],
   "source": []
  }
 ],
 "metadata": {
  "hide_input": false,
  "kernelspec": {
   "display_name": "Python 3",
   "language": "python",
   "name": "python3"
  },
  "language_info": {
   "codemirror_mode": {
    "name": "ipython",
    "version": 3
   },
   "file_extension": ".py",
   "mimetype": "text/x-python",
   "name": "python",
   "nbconvert_exporter": "python",
   "pygments_lexer": "ipython3",
   "version": "3.6.5"
  },
  "latex_envs": {
   "LaTeX_envs_menu_present": true,
   "autoclose": false,
   "autocomplete": true,
   "bibliofile": "biblio.bib",
   "cite_by": "apalike",
   "current_citInitial": 1,
   "eqLabelWithNumbers": true,
   "eqNumInitial": 1,
   "hotkeys": {
    "equation": "Ctrl-E",
    "itemize": "Ctrl-I"
   },
   "labels_anchors": false,
   "latex_user_defs": false,
   "report_style_numbering": false,
   "user_envs_cfg": false
  },
  "varInspector": {
   "cols": {
    "lenName": 16,
    "lenType": 16,
    "lenVar": 40
   },
   "kernels_config": {
    "python": {
     "delete_cmd_postfix": "",
     "delete_cmd_prefix": "del ",
     "library": "var_list.py",
     "varRefreshCmd": "print(var_dic_list())"
    },
    "r": {
     "delete_cmd_postfix": ") ",
     "delete_cmd_prefix": "rm(",
     "library": "var_list.r",
     "varRefreshCmd": "cat(var_dic_list()) "
    }
   },
   "types_to_exclude": [
    "module",
    "function",
    "builtin_function_or_method",
    "instance",
    "_Feature"
   ],
   "window_display": false
  }
 },
 "nbformat": 4,
 "nbformat_minor": 2
}
