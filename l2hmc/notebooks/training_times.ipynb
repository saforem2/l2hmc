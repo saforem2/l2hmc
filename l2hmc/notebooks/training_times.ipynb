{
 "cells": [
  {
   "cell_type": "markdown",
   "metadata": {},
   "source": [
    "# Analysis of training time vs. dimensionality of target distribution"
   ]
  },
  {
   "cell_type": "code",
   "execution_count": null,
   "metadata": {},
   "outputs": [],
   "source": [
    "import os\n",
    "import sys\n",
    "import pickle\n",
    "import time\n",
    "import numpy as np\n",
    "import tensorflow as tf\n",
    "import matplotlib.pyplot as plt\n",
    "\n",
    "from collections import OrderedDict\n",
    "\n",
    "from utils.data_utils import calc_avg_vals_errors, block_resampling\n",
    "\n",
    "module_path = os.path.abspath(os.path.join('..'))\n",
    "if module_path not in sys.path:\n",
    "    sys.path.append(module_path)\n",
    "    \n",
    "from utils.distributions import GMM\n",
    "from mog_model import *\n",
    "    \n",
    "%autoreload 2"
   ]
  },
  {
   "cell_type": "code",
   "execution_count": null,
   "metadata": {},
   "outputs": [],
   "source": [
    "#colors = ['C0', 'C1', 'C2', 'C3', 'C4', 'C5', 'C6', 'C7', 'C8', 'C9']\n",
    "#markers = ['o', 's', 'x', 'v', 'h', '^', 'p', '<', 'd', '>', 'o']\n",
    "#linestyles = ['-', '--', ':', '-.', '-', '--', ':', '-.', '-', '--']\n",
    "plt.style.use('/Users/saforem2/.config/matplotlib/'\n",
    "               + 'stylelib/ggplot_sam.mplstyle')\n",
    "plt.rcParams['xtick.direction'] = 'in'\n",
    "plt.rcParams['ytick.direction'] = 'in'\n",
    "plt.rcParams['xtick.major.pad'] = 3.5\n",
    "plt.rcParams['xtick.major.size'] = 3.5\n",
    "plt.rcParams['xtick.major.width'] = 0.8\n",
    "plt.rcParams['xtick.minor.pad'] = 3.4\n",
    "plt.rcParams['xtick.minor.size'] = 2.0\n",
    "plt.rcParams['xtick.minor.width'] = 0.6\n",
    "\n",
    "%matplotlib notebook"
   ]
  },
  {
   "cell_type": "code",
   "execution_count": null,
   "metadata": {},
   "outputs": [],
   "source": [
    "def load_train_times(log_dir):\n",
    "    info_dir = os.path.join(log_dir, 'run_info')\n",
    "    train_times_file = os.path.join(info_dir, 'train_time.pkl')\n",
    "    if os.path.isfile(train_times_file):\n",
    "        with open(train_times_file, 'rb') as f:\n",
    "            train_times_dict = pickle.load(f)\n",
    "        return train_times_dict else:\n",
    "        print(f\"Unable to locate {train_times_file}, file does not exist.\")"
   ]
  },
  {
   "cell_type": "code",
   "execution_count": null,
   "metadata": {},
   "outputs": [],
   "source": [
    "def split_dict(d):\n",
    "    keys_arr = np.array(list(d.keys()))\n",
    "    vals_arr = np.array(list(d.values()))\n",
    "    return keys_arr, vals_arr"
   ]
  },
  {
   "cell_type": "code",
   "execution_count": null,
   "metadata": {},
   "outputs": [],
   "source": [
    "def average_duplicates(arr):\n",
    "    _dict = {}\n",
    "    for row in arr:\n",
    "        key = int(row[0])\n",
    "        avg = row[1]\n",
    "        err = row[2]\n",
    "        if key not in list(_dict.keys()):\n",
    "            _dict[key] = [avg, err]\n",
    "        else:  # dictionary already had a value assigned to this key\n",
    "            avg1, err1 = _dict[key]\n",
    "            new_avg = np.mean([avg, avg1])\n",
    "            new_err = np.mean([err, err1])\n",
    "            _dict[key] = [new_avg, new_err]\n",
    "    new_arr = []\n",
    "    for key, val in _dict.items():\n",
    "        new_arr.append([int(key), *val])\n",
    "    return np.array(new_arr)"
   ]
  },
  {
   "cell_type": "markdown",
   "metadata": {},
   "source": [
    "## Load training time data from log dirs"
   ]
  },
  {
   "cell_type": "code",
   "execution_count": null,
   "metadata": {
    "code_folding": [
     1,
     7,
     15,
     26,
     31,
     33
    ]
   },
   "outputs": [],
   "source": [
    "log_dir = '../../timing_logs/'\n",
    "log_dirs = [os.path.join(log_dir, i) \n",
    "            for i in os.listdir(log_dir) \n",
    "            if os.path.isdir(os.path.join(log_dir, i))\n",
    "            and i != 'bad_logs']\n",
    "\n",
    "tt_dict = {}\n",
    "for d in log_dirs:\n",
    "    name = d.split('/')[-1]\n",
    "    name = name.split('_')\n",
    "    name = f'tt_dim{name[2]}_{name[3]}'  # tt = train_times\n",
    "    tt_dict[name] = load_train_times(d)\n",
    "\n",
    "tt_diffs_dict = {}\n",
    "tt_per_step_dict = {}\n",
    "for key, val in tt_dict.items():\n",
    "    tt_diffs_dict[key] = {}\n",
    "    steps = np.array(list(val.keys()))\n",
    "    dsteps = np.array(list(val.keys())[1:])\n",
    "    times = np.array(list(val.values()))\n",
    "    step_diffs = steps[1:] - steps[:-1]\n",
    "    time_diffs = times[1:] - times[:-1]\n",
    "    time_diffs_per_step = time_diffs / step_diffs\n",
    "    tt_diffs_dict[key] = dict(zip(dsteps, diffs))\n",
    "    tt_per_step_dict[key] = time_diffs_per_step\n",
    "    \n",
    "def split_key(key):\n",
    "    s = key.split('_')\n",
    "    dim = s[1].lstrip('dim')\n",
    "    return dim\n",
    "\n",
    "tt_diffs_dict = OrderedDict(sorted(tt_diffs_dict.items(), \n",
    "                                   key=lambda k: int(split_key(k[0]))))\n",
    "tt_per_step_dict = OrderedDict(sorted(tt_per_step_dict.items(),\n",
    "                                      key=lambda k: int(split_key(k[0]))))"
   ]
  },
  {
   "cell_type": "code",
   "execution_count": null,
   "metadata": {},
   "outputs": [],
   "source": [
    "tt_diffs_dict.keys()"
   ]
  },
  {
   "cell_type": "code",
   "execution_count": null,
   "metadata": {},
   "outputs": [],
   "source": [
    "(tt_diffs_dict['tt_dim15_379'][120000] - tt_diffs_dict['tt_dim15_379'][1000])/(60*60)"
   ]
  },
  {
   "cell_type": "code",
   "execution_count": null,
   "metadata": {
    "code_folding": []
   },
   "outputs": [],
   "source": [
    "tt_per_step_arr = []\n",
    "bad_dirs = []\n",
    "for key, val in tt_per_step_dict.items():\n",
    "    dimension = int(key.split('_')[1].lstrip('dim'))\n",
    "    try:\n",
    "        avg, err = calc_avg_vals_errors(val[10:], num_blocks=20)\n",
    "    except ValueError:\n",
    "        bad_dirs.append(key)\n",
    "    tt_per_step_arr.append([dimension, avg, err])\n",
    "tt_per_step_arr = average_duplicates(np.array(tt_per_step_arr))"
   ]
  },
  {
   "cell_type": "code",
   "execution_count": null,
   "metadata": {},
   "outputs": [],
   "source": [
    "for key, val in tt_per_step_dict.items():\n",
    "    print(f\"{key:<14s} dim: {key.split('_')[1].lstrip('dim'):<5s} num_entries: {len(val):<4g} mean: {np.mean(val[1:]):<10.4g} std: {np.std(val[1:]):<10.4g}\")"
   ]
  },
  {
   "cell_type": "code",
   "execution_count": null,
   "metadata": {
    "code_folding": []
   },
   "outputs": [],
   "source": [
    "t = np.arange(0, 82, 0.1)\n",
    "label_str = r'$y = $' + f'({a:.2e}) ' + r'$ x^{{{:.3g}}}$'.format(b)# + f' {c:.2g}'\n",
    "\n",
    "fig, ax = plt.subplots()\n",
    "i = 0\n",
    "_ = ax.plot(t, func(t, *popt), ls='-', marker='', color='C1', label=label_str)\n",
    "_ = ax.errorbar(tt_per_step_arr[:, 0], tt_per_step_arr[:, 1], \n",
    "                yerr=tt_per_step_arr[:, 2],\n",
    "                color='C0', marker='o', ls='')#, fillstyle='')\n",
    "#_ = ax.plot(t, 1.83E-03*t**2, color='C2', ls='-')\n",
    "_ = ax.set_xlabel('Dimension', fontsize=14)\n",
    "_ = ax.set_ylabel('Average training time / step (s)',fontsize=14)\n",
    "_ = ax.legend(loc='best', fontsize=14)\n",
    "_ = ax.set_xlim((0, 82))\n",
    "_ = ax.set_ylim((0, 4.2))\n",
    "fig.savefig('../../figures/training_time_vs_dimension_2dMOG.pdf', dpi=400, \n",
    "            bbox_inches='tight')\n",
    "_ = plt.show()"
   ]
  },
  {
   "cell_type": "code",
   "execution_count": null,
   "metadata": {},
   "outputs": [],
   "source": [
    "# for y = A + B log(x)\n",
    "B, A = np.polyfit(np.log(tt_per_step_arr[:,0]),\n",
    "                  np.log(tt_per_step_arr[:,1]), 1)"
   ]
  },
  {
   "cell_type": "code",
   "execution_count": null,
   "metadata": {},
   "outputs": [],
   "source": [
    "from scipy.optimize import curve_fit\n",
    "\n",
    "def func(x, a, b):#, c):\n",
    "    return  a * (x ** b)# + c\n",
    "    #return a * np.exp(-b * x) + c\n",
    "\n",
    "x = tt_per_step_arr[:,0]\n",
    "y = tt_per_step_arr[:,1]\n",
    "popt, pcov = curve_fit(func, x, y)\n",
    "a, b = popt\n",
    "#a, b, c = popt\n",
    "#yn = y + 0.2*np.random.normal(size=len(x))"
   ]
  },
  {
   "cell_type": "code",
   "execution_count": null,
   "metadata": {},
   "outputs": [],
   "source": [
    "popt"
   ]
  },
  {
   "cell_type": "markdown",
   "metadata": {
    "heading_collapsed": true
   },
   "source": [
    "# OLD"
   ]
  },
  {
   "cell_type": "code",
   "execution_count": null,
   "metadata": {
    "hidden": true
   },
   "outputs": [],
   "source": [
    "A, B"
   ]
  },
  {
   "cell_type": "code",
   "execution_count": null,
   "metadata": {
    "hidden": true
   },
   "outputs": [],
   "source": []
  },
  {
   "cell_type": "code",
   "execution_count": null,
   "metadata": {
    "hidden": true
   },
   "outputs": [],
   "source": [
    "x = np.arange(0, 82, 0.1)\n",
    "y = np.exp(A/B) * (x ** B)"
   ]
  },
  {
   "cell_type": "code",
   "execution_count": null,
   "metadata": {
    "code_folding": [],
    "hidden": true
   },
   "outputs": [],
   "source": [
    "%matplotlib notebook\n",
    "fig, ax = plt.subplots()\n",
    "i = 0\n",
    "_ = ax.errorbar(tt_per_step_arr[:, 0], tt_per_step_arr[:, 1], \n",
    "                yerr=tt_per_step_arr[:, 2],\n",
    "                color='C0', marker='o', ls='')#, fillstyle='')\n",
    "\n",
    "_ = ax.set_xlabel('Dimension')\n",
    "_ = ax.set_ylabel('Average training time / step (s)')\n",
    "ax.set_xscale(\"log\", nonposx='clip')\n",
    "ax.set_yscale(\"log\", nonposy='clip')\n",
    "_ = plt.show()"
   ]
  },
  {
   "cell_type": "code",
   "execution_count": null,
   "metadata": {
    "hidden": true
   },
   "outputs": [],
   "source": [
    "fig, ax = plt.subplots()\n",
    "i = 0\n",
    "for key, val in tt_diffs_dict.items():\n",
    "    leg_label = 'dimension ' + key.split('_')[-1].lstrip('dim')\n",
    "    _ = ax.plot(steps_arr[::5], t_diffs_arr[::5], \n",
    "            label=leg_label)\n",
    "            #color=colors[i], marker=markers[i],\n",
    "            #ls=linestyles[i], label=leg_label)\n",
    "    i += 1\n",
    "_ = ax.set_xlabel('Training step')\n",
    "_ = ax.set_ylabel('Cumulative training time')\n",
    "#ax.legend(loc='best')\n",
    "plt.show()"
   ]
  },
  {
   "cell_type": "code",
   "execution_count": null,
   "metadata": {
    "hidden": true
   },
   "outputs": [],
   "source": [
    "tt_diffs_dict.keys()"
   ]
  },
  {
   "cell_type": "code",
   "execution_count": null,
   "metadata": {
    "hidden": true
   },
   "outputs": [],
   "source": [
    "fig, ax = plt.subplots()\n",
    "i = 0\n",
    "for key, val in tt_diffs_dict.items():\n",
    "    leg_label = 'dimension ' + key.split('_')[1].lstrip('dim')\n",
    "    steps_arr, t_diffs_arr = split_dict(val)\n",
    "    _ = ax.plot(steps_arr[::5], t_diffs_arr[::5], \n",
    "            label=leg_label)\n",
    "            #color=colors[i], marker=markers[i],\n",
    "            #ls=linestyles[i], label=leg_label)\n",
    "    i += 1\n",
    "_ = ax.set_xlabel('Training step')\n",
    "_ = ax.set_ylabel('Cumulative training time')\n",
    "ax.legend(loc='best')\n",
    "plt.show()"
   ]
  },
  {
   "cell_type": "code",
   "execution_count": null,
   "metadata": {
    "hidden": true
   },
   "outputs": [],
   "source": [
    "fig, ax = plt.subplots()\n",
    "i = 0\n",
    "for key, val in tt_diffs_dict.items():\n",
    "    leg_label = 'dimension ' + key.split('_')[-1].lstrip('dim')\n",
    "    steps_arr, t_diffs_arr = split_dict(val)\n",
    "    ax.plot(steps_arr[::5], t_diffs_arr[::5], \n",
    "            color=colors[i], marker=markers[i],\n",
    "            ls=linestyles[i], label=leg_label)\n",
    "    i += 1\n",
    "ax.set_xlabel('Training step')\n",
    "ax.set_ylabel('Cumulative training time')\n",
    "ax.legend(loc='best')\n",
    "plt.show()"
   ]
  },
  {
   "cell_type": "code",
   "execution_count": null,
   "metadata": {
    "hidden": true
   },
   "outputs": [],
   "source": [
    "steps_dict = {}\n",
    "for key, val in tt_diffs_dict.items():\n",
    "    #leg_label = 'dimension ' + key.split('_')[-1].lstrip('dim')\n",
    "    #steps_arr, t_diffs_arr = split_dict(val)\n",
    "    steps_dict[key], _ = split_dict(val)"
   ]
  },
  {
   "cell_type": "code",
   "execution_count": null,
   "metadata": {
    "hidden": true
   },
   "outputs": [],
   "source": [
    "steps_dict"
   ]
  },
  {
   "cell_type": "markdown",
   "metadata": {
    "heading_collapsed": true,
    "hidden": true
   },
   "source": [
    "## IGNORE"
   ]
  },
  {
   "cell_type": "code",
   "execution_count": null,
   "metadata": {
    "hidden": true
   },
   "outputs": [],
   "source": [
    "centers = 5\n",
    "sigma = 1.\n",
    "means = np.zeros((2,2))\n",
    "means[::2, 0] = centers\n",
    "means[1::2, 0] = - centers\n",
    "cov_mtx = sigma * np.eye(2)\n",
    "covs = np.array([cov_mtx] * 2)\n",
    "pis = distribution_arr(2, 2)\n",
    "distribution = GMM(means, covs, pis)"
   ]
  },
  {
   "cell_type": "code",
   "execution_count": null,
   "metadata": {
    "hidden": true
   },
   "outputs": [],
   "source": [
    "centers1 = 1\n",
    "sigma1 = 0.05\n",
    "means1 = np.zeros((2,2))\n",
    "means1[::2, 0] = centers1\n",
    "means1[1::2, 0] = - centers1\n",
    "cov_mtx1 = sigma1 * np.eye(2)\n",
    "covs1 = np.array([cov_mtx1] * 2)\n",
    "pis1 = distribution_arr(2, 2)\n",
    "distribution1 = GMM(means1, covs1, pis1)"
   ]
  },
  {
   "cell_type": "code",
   "execution_count": null,
   "metadata": {
    "hidden": true
   },
   "outputs": [],
   "source": [
    "samples = distribution.get_samples(200)\n",
    "samples1 = distribution1.get_samples(200)"
   ]
  },
  {
   "cell_type": "code",
   "execution_count": null,
   "metadata": {
    "hidden": true
   },
   "outputs": [],
   "source": [
    "fig, ax = plt.subplots()\n",
    "ax.plot(samples[:,0], samples[:,1], marker='o', ls='', alpha=0.6)\n",
    "ax.plot(samples1[:,0], samples1[:,1], marker='o', ls='', alpha=0.6)\n",
    "plt.show()"
   ]
  },
  {
   "cell_type": "code",
   "execution_count": null,
   "metadata": {
    "hidden": true
   },
   "outputs": [],
   "source": []
  }
 ],
 "metadata": {
  "hide_input": false,
  "kernelspec": {
   "display_name": "Python 3",
   "language": "python",
   "name": "python3"
  },
  "language_info": {
   "codemirror_mode": {
    "name": "ipython",
    "version": 3
   },
   "file_extension": ".py",
   "mimetype": "text/x-python",
   "name": "python",
   "nbconvert_exporter": "python",
   "pygments_lexer": "ipython3",
   "version": "3.6.5"
  },
  "latex_envs": {
   "LaTeX_envs_menu_present": true,
   "autoclose": false,
   "autocomplete": false,
   "bibliofile": "biblio.bib",
   "cite_by": "apalike",
   "current_citInitial": 1,
   "eqLabelWithNumbers": true,
   "eqNumInitial": 1,
   "hotkeys": {
    "equation": "Ctrl-E",
    "itemize": "Ctrl-I"
   },
   "labels_anchors": false,
   "latex_user_defs": false,
   "report_style_numbering": false,
   "user_envs_cfg": false
  },
  "varInspector": {
   "cols": {
    "lenName": 16,
    "lenType": 16,
    "lenVar": 40
   },
   "kernels_config": {
    "python": {
     "delete_cmd_postfix": "",
     "delete_cmd_prefix": "del ",
     "library": "var_list.py",
     "varRefreshCmd": "print(var_dic_list())"
    },
    "r": {
     "delete_cmd_postfix": ") ",
     "delete_cmd_prefix": "rm(",
     "library": "var_list.r",
     "varRefreshCmd": "cat(var_dic_list()) "
    }
   },
   "types_to_exclude": [
    "module",
    "function",
    "builtin_function_or_method",
    "instance",
    "_Feature"
   ],
   "window_display": false
  }
 },
 "nbformat": 4,
 "nbformat_minor": 2
}
