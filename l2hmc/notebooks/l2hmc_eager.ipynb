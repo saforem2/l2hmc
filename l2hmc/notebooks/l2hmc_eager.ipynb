{
 "cells": [
  {
   "cell_type": "markdown",
   "metadata": {},
   "source": [
    "# L2HMC using eager execution in tensorflow"
   ]
  },
  {
   "cell_type": "markdown",
   "metadata": {},
   "source": [
    "### Imports"
   ]
  },
  {
   "cell_type": "code",
   "execution_count": 33,
   "metadata": {
    "ExecuteTime": {
     "end_time": "2018-10-11T21:06:33.506334Z",
     "start_time": "2018-10-11T21:06:33.435882Z"
    }
   },
   "outputs": [],
   "source": [
    "import os\n",
    "import sys\n",
    "import numpy as np\n",
    "import tensorflow as tf\n",
    "import matplotlib.pyplot as plt\n",
    "\n",
    "module_path = os.path.abspath(os.path.join('..'))\n",
    "if module_path not in sys.path:\n",
    "    sys.path.append(module_path)\n",
    "\n",
    "from l2hmc_eager import dynamics_eager as _l2hmc\n",
    "from l2hmc_eager import gauge_dynamics_eager as l2hmc\n",
    "from l2hmc_eager.neural_nets import *\n",
    "from utils.distributions import GMM, gen_ring\n",
    "from utils.jacobian import _map, jacobian\n",
    "\n",
    "%autoreload 2"
   ]
  },
  {
   "cell_type": "code",
   "execution_count": 34,
   "metadata": {
    "ExecuteTime": {
     "end_time": "2018-10-11T21:06:36.219760Z",
     "start_time": "2018-10-11T21:06:36.156557Z"
    }
   },
   "outputs": [],
   "source": [
    "from lattice.ising_lattice import IsingLattice\n",
    "from lattice.gauge_lattice import GaugeLattice"
   ]
  },
  {
   "cell_type": "code",
   "execution_count": 3,
   "metadata": {
    "ExecuteTime": {
     "end_time": "2018-10-11T18:47:15.194346Z",
     "start_time": "2018-10-11T18:47:15.120435Z"
    }
   },
   "outputs": [],
   "source": [
    "tf.enable_eager_execution()\n",
    "tfe = tf.contrib.eager"
   ]
  },
  {
   "cell_type": "code",
   "execution_count": 4,
   "metadata": {
    "ExecuteTime": {
     "end_time": "2018-10-11T18:47:16.318096Z",
     "start_time": "2018-10-11T18:47:16.219817Z"
    }
   },
   "outputs": [],
   "source": [
    "tfe = tf.contrib.eager"
   ]
  },
  {
   "cell_type": "code",
   "execution_count": 5,
   "metadata": {
    "ExecuteTime": {
     "end_time": "2018-10-11T18:47:17.221286Z",
     "start_time": "2018-10-11T18:47:17.135997Z"
    }
   },
   "outputs": [],
   "source": [
    "def train_one_iter(dynamics, beta, x, optimizer, \n",
    "                   loss_fn=l2hmc.compute_loss, global_step=None):\n",
    "    loss, grads, out, accept_prob = l2hmc.loss_and_grads(\n",
    "        dynamics, x, loss_fn=loss_fn\n",
    "    )\n",
    "    optimizer.apply_gradients(\n",
    "        zip(grads, dynamics.trainable_variables), global_step=global_step\n",
    "    )\n",
    "    return loss, out, accept_prob"
   ]
  },
  {
   "cell_type": "markdown",
   "metadata": {},
   "source": [
    "### Construct GaugeLattice with $U(1)$ gauge group\n",
    "\n",
    "$$ U_{\\mu\\nu} = \\frac{\\beta}{3}\\sum_{\\nu \\neq \\mu} \\mathrm{Re}\\left\\{\\mathrm{Tr}\\left[U_{\\mu}(x)U_{\\nu}(x+\\hat\\mu)U_{\\mu}^{\\dagger}(x+\\hat\\nu)U_{\\nu}^{\\dagger}(x)\\right]\\right\\}$$"
   ]
  },
  {
   "cell_type": "code",
   "execution_count": 111,
   "metadata": {
    "ExecuteTime": {
     "end_time": "2018-10-11T21:51:12.810267Z",
     "start_time": "2018-10-11T21:51:12.715897Z"
    }
   },
   "outputs": [],
   "source": [
    "time_size, space_size, dim, beta, num_samples = (8, 8, 2, 2., 5)\n",
    "u1_lattice = GaugeLattice(time_size, space_size, dim, beta,\n",
    "                          link_type='U1', num_samples=num_samples)\n",
    "#u1_samples = u1_lattice.get_links_samples(batch_size, link_type='U1')\n",
    "#u1_samples_flat = [i.flatten() for i in u1_samples]\n",
    "u1_samples = [sample.flatten() for sample in u1_lattice.samples]\n",
    "u1_samples_tensor = tf.constant(np.stack(u1_samples), dtype=tf.float32)"
   ]
  },
  {
   "cell_type": "code",
   "execution_count": 112,
   "metadata": {
    "ExecuteTime": {
     "end_time": "2018-10-11T21:51:14.530100Z",
     "start_time": "2018-10-11T21:51:14.417183Z"
    }
   },
   "outputs": [],
   "source": [
    "u1_energy_fn = u1_lattice.get_energy_function()\n",
    "u1_dynamics = l2hmc.GaugeDynamics(u1_lattice, \n",
    "                                  minus_loglikelihood_fn=u1_energy_fn, \n",
    "                                  n_steps=5, eps=0.1)"
   ]
  },
  {
   "cell_type": "code",
   "execution_count": 113,
   "metadata": {
    "ExecuteTime": {
     "end_time": "2018-10-11T21:51:15.780102Z",
     "start_time": "2018-10-11T21:51:15.535326Z"
    }
   },
   "outputs": [
    {
     "data": {
      "text/plain": [
       "[0.0, 0.0, 0.0, 0.0, 0.0]"
      ]
     },
     "execution_count": 113,
     "metadata": {},
     "output_type": "execute_result"
    }
   ],
   "source": [
    "[u1_lattice._total_action(sample) for sample in u1_samples]"
   ]
  },
  {
   "cell_type": "code",
   "execution_count": 114,
   "metadata": {
    "ExecuteTime": {
     "end_time": "2018-10-11T21:51:19.359119Z",
     "start_time": "2018-10-11T21:51:18.859796Z"
    }
   },
   "outputs": [
    {
     "name": "stdout",
     "output_type": "stream",
     "text": [
      "[0. 0. 0. 0. 0.]\n",
      "\n",
      "\n",
      "tf.Tensor([70.33361  74.60285  71.023346 54.76835  65.8804  ], shape=(5,), dtype=float32)\n",
      "\n",
      "\n",
      "tf.Tensor(\n",
      "[[-0.24027282  1.2854897   0.86479557 -2.042479   -1.072858    1.5767564\n",
      "  -1.392227    2.6517372   3.8235795  -2.7269847  -3.850769    3.7472358\n",
      "   3.2949734  -1.9772063  -1.4272215  -0.9507253  -0.37073377  0.42497745\n",
      "  -0.75851077  2.0482838  -0.0248848   1.0003105   2.114161   -2.5060775\n",
      "   0.9431299   0.37437215 -3.1158872  -0.3605098   2.740976    0.19348739\n",
      "  -1.5282506   0.2945165   0.9515834  -2.7758794  -0.30784613 -3.2265441\n",
      "  -0.8428939  -2.408535    0.9131788  -1.2075528   0.24325158 -0.5076744\n",
      "  -1.4716977  -2.1518638  -2.1026158   2.691728    2.6170397  -1.4535623\n",
      "   0.47495794  2.5088103   1.383845    0.8171191  -0.37514764  0.34937286\n",
      "  -1.8594716   3.1220233  -0.07655159  3.4418263   3.215173   -1.2450441\n",
      "  -1.8014154  -1.5462445  -0.9613895   2.0321848  -0.6626574   1.1027702\n",
      "  -0.3245958   2.811211    3.92447    -1.4884065  -2.3648474  -0.98303074\n",
      "  -1.50176     0.44217765  0.32160002  3.3357506  -0.41468072  1.9490157\n",
      "   1.0224713  -0.03484506  0.98246634 -0.937098    0.45297012 -1.7146639\n",
      "   2.1609945   0.04881153 -0.3911216  -1.9249144  -0.7110854  -2.7155888\n",
      "   1.0373449  -3.4313338  -2.228069   -1.6179456  -1.3034998   0.7080257\n",
      "  -2.359661    1.0142112   2.762579   -1.2953976  -1.2514386   2.1170354\n",
      "   0.7190148   1.006899   -2.5042675   2.800081    2.8073463   1.0300796\n",
      "   1.1646831  -2.3626726  -1.338256   -2.3279164   1.9959421  -2.6232812\n",
      "  -2.4631732   2.6024706   2.5463774  -1.1953453  -0.31724626 -0.15908413\n",
      "  -1.5551424  -1.1082093   2.6234515  -0.9243144  -2.4294689   2.6698375\n",
      "  -0.40074053  1.7323221 ]\n",
      " [-0.24027282  1.2854897   0.86479557 -2.042479   -1.072858    1.5767564\n",
      "  -1.392227    2.6517372   3.8235795  -2.7269847  -3.850769    3.7472358\n",
      "   3.2949734  -1.9772063  -1.4272215  -0.9507253  -0.37073377  0.42497745\n",
      "  -0.75851077  2.0482838  -0.0248848   1.0003105   2.114161   -2.5060775\n",
      "   0.9431299   0.37437215 -3.1158872  -0.3605098   2.740976    0.19348739\n",
      "  -1.5282506   0.2945165   0.9515834  -2.7758794  -0.30784613 -3.2265441\n",
      "  -0.8428939  -2.408535    0.9131788  -1.2075528   0.24325158 -0.5076744\n",
      "  -1.4716977  -2.1518638  -2.1026158   2.691728    2.6170397  -1.4535623\n",
      "   0.47495794  2.5088103   1.383845    0.8171191  -0.37514764  0.34937286\n",
      "  -1.8594716   3.1220233  -0.07655159  3.4418263   3.215173   -1.2450441\n",
      "  -1.8014154  -1.5462445  -0.9613895   2.0321848  -0.6626574   1.1027702\n",
      "  -0.3245958   2.811211    3.92447    -1.4884065  -2.3648474  -0.98303074\n",
      "  -1.50176     0.44217765  0.32160002  3.3357506  -0.41468072  1.9490157\n",
      "   1.0224713  -0.03484506  0.98246634 -0.937098    0.45297012 -1.7146639\n",
      "   2.1609945   0.04881153 -0.3911216  -1.9249144  -0.7110854  -2.7155888\n",
      "   1.0373449  -3.4313338  -2.228069   -1.6179456  -1.3034998   0.7080257\n",
      "  -2.359661    1.0142112   2.762579   -1.2953976  -1.2514386   2.1170354\n",
      "   0.7190148   1.006899   -2.5042675   2.800081    2.8073463   1.0300796\n",
      "   1.1646831  -2.3626726  -1.338256   -2.3279164   1.9959421  -2.6232812\n",
      "  -2.4631732   2.6024706   2.5463774  -1.1953453  -0.31724626 -0.15908413\n",
      "  -1.5551424  -1.1082093   2.6234515  -0.9243144  -2.4294689   2.6698375\n",
      "  -0.40074053  1.7323221 ]\n",
      " [-0.24027282  1.2854897   0.86479557 -2.042479   -1.072858    1.5767564\n",
      "  -1.392227    2.6517372   3.8235795  -2.7269847  -3.850769    3.7472358\n",
      "   3.2949734  -1.9772063  -1.4272215  -0.9507253  -0.37073377  0.42497745\n",
      "  -0.75851077  2.0482838  -0.0248848   1.0003105   2.114161   -2.5060775\n",
      "   0.9431299   0.37437215 -3.1158872  -0.3605098   2.740976    0.19348739\n",
      "  -1.5282506   0.2945165   0.9515834  -2.7758794  -0.30784613 -3.2265441\n",
      "  -0.8428939  -2.408535    0.9131788  -1.2075528   0.24325158 -0.5076744\n",
      "  -1.4716977  -2.1518638  -2.1026158   2.691728    2.6170397  -1.4535623\n",
      "   0.47495794  2.5088103   1.383845    0.8171191  -0.37514764  0.34937286\n",
      "  -1.8594716   3.1220233  -0.07655159  3.4418263   3.215173   -1.2450441\n",
      "  -1.8014154  -1.5462445  -0.9613895   2.0321848  -0.6626574   1.1027702\n",
      "  -0.3245958   2.811211    3.92447    -1.4884065  -2.3648474  -0.98303074\n",
      "  -1.50176     0.44217765  0.32160002  3.3357506  -0.41468072  1.9490157\n",
      "   1.0224713  -0.03484506  0.98246634 -0.937098    0.45297012 -1.7146639\n",
      "   2.1609945   0.04881153 -0.3911216  -1.9249144  -0.7110854  -2.7155888\n",
      "   1.0373449  -3.4313338  -2.228069   -1.6179456  -1.3034998   0.7080257\n",
      "  -2.359661    1.0142112   2.762579   -1.2953976  -1.2514386   2.1170354\n",
      "   0.7190148   1.006899   -2.5042675   2.800081    2.8073463   1.0300796\n",
      "   1.1646831  -2.3626726  -1.338256   -2.3279164   1.9959421  -2.6232812\n",
      "  -2.4631732   2.6024706   2.5463774  -1.1953453  -0.31724626 -0.15908413\n",
      "  -1.5551424  -1.1082093   2.6234515  -0.9243144  -2.4294689   2.6698375\n",
      "  -0.40074053  1.7323221 ]\n",
      " [-0.24027282  1.2854897   0.86479557 -2.042479   -1.072858    1.5767564\n",
      "  -1.392227    2.6517372   3.8235795  -2.7269847  -3.850769    3.7472358\n",
      "   3.2949734  -1.9772063  -1.4272215  -0.9507253  -0.37073377  0.42497745\n",
      "  -0.75851077  2.0482838  -0.0248848   1.0003105   2.114161   -2.5060775\n",
      "   0.9431299   0.37437215 -3.1158872  -0.3605098   2.740976    0.19348739\n",
      "  -1.5282506   0.2945165   0.9515834  -2.7758794  -0.30784613 -3.2265441\n",
      "  -0.8428939  -2.408535    0.9131788  -1.2075528   0.24325158 -0.5076744\n",
      "  -1.4716977  -2.1518638  -2.1026158   2.691728    2.6170397  -1.4535623\n",
      "   0.47495794  2.5088103   1.383845    0.8171191  -0.37514764  0.34937286\n",
      "  -1.8594716   3.1220233  -0.07655159  3.4418263   3.215173   -1.2450441\n",
      "  -1.8014154  -1.5462445  -0.9613895   2.0321848  -0.6626574   1.1027702\n",
      "  -0.3245958   2.811211    3.92447    -1.4884065  -2.3648474  -0.98303074\n",
      "  -1.50176     0.44217765  0.32160002  3.3357506  -0.41468072  1.9490157\n",
      "   1.0224713  -0.03484506  0.98246634 -0.937098    0.45297012 -1.7146639\n",
      "   2.1609945   0.04881153 -0.3911216  -1.9249144  -0.7110854  -2.7155888\n",
      "   1.0373449  -3.4313338  -2.228069   -1.6179456  -1.3034998   0.7080257\n",
      "  -2.359661    1.0142112   2.762579   -1.2953976  -1.2514386   2.1170354\n",
      "   0.7190148   1.006899   -2.5042675   2.800081    2.8073463   1.0300796\n",
      "   1.1646831  -2.3626726  -1.338256   -2.3279164   1.9959421  -2.6232812\n",
      "  -2.4631732   2.6024706   2.5463774  -1.1953453  -0.31724626 -0.15908413\n",
      "  -1.5551424  -1.1082093   2.6234515  -0.9243144  -2.4294689   2.6698375\n",
      "  -0.40074053  1.7323221 ]\n",
      " [-0.24027282  1.2854897   0.86479557 -2.042479   -1.072858    1.5767564\n",
      "  -1.392227    2.6517372   3.8235795  -2.7269847  -3.850769    3.7472358\n",
      "   3.2949734  -1.9772063  -1.4272215  -0.9507253  -0.37073377  0.42497745\n",
      "  -0.75851077  2.0482838  -0.0248848   1.0003105   2.114161   -2.5060775\n",
      "   0.9431299   0.37437215 -3.1158872  -0.3605098   2.740976    0.19348739\n",
      "  -1.5282506   0.2945165   0.9515834  -2.7758794  -0.30784613 -3.2265441\n",
      "  -0.8428939  -2.408535    0.9131788  -1.2075528   0.24325158 -0.5076744\n",
      "  -1.4716977  -2.1518638  -2.1026158   2.691728    2.6170397  -1.4535623\n",
      "   0.47495794  2.5088103   1.383845    0.8171191  -0.37514764  0.34937286\n",
      "  -1.8594716   3.1220233  -0.07655159  3.4418263   3.215173   -1.2450441\n",
      "  -1.8014154  -1.5462445  -0.9613895   2.0321848  -0.6626574   1.1027702\n",
      "  -0.3245958   2.811211    3.92447    -1.4884065  -2.3648474  -0.98303074\n",
      "  -1.50176     0.44217765  0.32160002  3.3357506  -0.41468072  1.9490157\n",
      "   1.0224713  -0.03484506  0.98246634 -0.937098    0.45297012 -1.7146639\n",
      "   2.1609945   0.04881153 -0.3911216  -1.9249144  -0.7110854  -2.7155888\n",
      "   1.0373449  -3.4313338  -2.228069   -1.6179456  -1.3034998   0.7080257\n",
      "  -2.359661    1.0142112   2.762579   -1.2953976  -1.2514386   2.1170354\n",
      "   0.7190148   1.006899   -2.5042675   2.800081    2.8073463   1.0300796\n",
      "   1.1646831  -2.3626726  -1.338256   -2.3279164   1.9959421  -2.6232812\n",
      "  -2.4631732   2.6024706   2.5463774  -1.1953453  -0.31724626 -0.15908413\n",
      "  -1.5551424  -1.1082093   2.6234515  -0.9243144  -2.4294689   2.6698375\n",
      "  -0.40074053  1.7323221 ]], shape=(5, 128), dtype=float32)\n"
     ]
    }
   ],
   "source": [
    "_momentum = tf.random_normal(tf.shape(u1_samples))\n",
    "_potential = np.array(u1_dynamics.potential(u1_samples_tensor))\n",
    "_kinetic = u1_dynamics.kinetic(_momentum)\n",
    "_grad_potential = u1_dynamics.grad_potential(u1_samples_tensor)\n",
    "print(_potential); print('\\n')\n",
    "print(_kinetic); print('\\n')\n",
    "print(_grad_potential)\n",
    "#print(_kinetic.numpy()); print('\\n')\n",
    "#print(_hamiltonian.numpy()); print('\\n')\n",
    "#print(_grad_potential[0][:10])"
   ]
  },
  {
   "cell_type": "markdown",
   "metadata": {},
   "source": [
    "#### Run L2HMC for $U(1)$ gauge model"
   ]
  },
  {
   "cell_type": "code",
   "execution_count": 115,
   "metadata": {
    "ExecuteTime": {
     "end_time": "2018-10-11T21:51:24.536832Z",
     "start_time": "2018-10-11T21:51:24.473445Z"
    }
   },
   "outputs": [
    {
     "name": "stdout",
     "output_type": "stream",
     "text": [
      "../../U1_logs/run_15\n"
     ]
    }
   ],
   "source": [
    "log_dirs = os.listdir('../../U1_logs/')\n",
    "run_nums = [int(i.split('_')[-1]) for i in log_dirs if i.startswith('run')]\n",
    "run_num = max(run_nums) + 1\n",
    "log_dir = f'../../U1_logs/run_{run_num}'\n",
    "if not os.path.exists(log_dir):\n",
    "    os.makedirs(log_dir)\n",
    "print(log_dir)"
   ]
  },
  {
   "cell_type": "code",
   "execution_count": 116,
   "metadata": {
    "ExecuteTime": {
     "end_time": "2018-10-11T21:51:25.554202Z",
     "start_time": "2018-10-11T21:51:25.480500Z"
    }
   },
   "outputs": [],
   "source": [
    "#train_dir = f'../../U1_logs/run_{run_num}'\n",
    "#train_dir = '../U1_logs/run_7/'\n",
    "global_step = tf.train.get_or_create_global_step()\n",
    "_ = global_step.assign(1)\n",
    "train_iters = 50\n",
    "record_loss_every = 10\n",
    "save_steps = 10\n",
    "\n",
    "learning_rate = tf.train.exponential_decay(1e-3, global_step, 1000, \n",
    "                                           0.96, staircase=True)\n",
    "optimizer = tf.train.AdamOptimizer(learning_rate)\n",
    "checkpointer = tf.train.Checkpoint(\n",
    "    optimizer=optimizer, dynamics=u1_dynamics, global_step=global_step\n",
    ")\n",
    "summary_writer = tf.contrib.summary.create_file_writer(log_dir)\n",
    "loss_fn = l2hmc.compute_loss\n",
    "samples = u1_samples_tensor"
   ]
  },
  {
   "cell_type": "code",
   "execution_count": 119,
   "metadata": {
    "ExecuteTime": {
     "end_time": "2018-10-11T22:31:13.754879Z",
     "start_time": "2018-10-11T22:28:09.433741Z"
    }
   },
   "outputs": [
    {
     "name": "stdout",
     "output_type": "stream",
     "text": [
      "[2.146813798462972, 2.0248913092073053, 1.8782520571839996, 2.3844029866158962, 1.8010301511967555]\n",
      "Iteration 1, loss -32492.0508, x_accept 1.0000, eps 0.1250, avg_S 2.0471\n",
      "\n",
      "\n",
      "[1.5395472639975196, 2.406833275977988, 1.7151629656309524, 1.903425661032088, 2.0217914065578952]\n",
      "Iteration 2, loss -31504.9316, x_accept 1.0000, eps 0.1262, avg_S 1.9174\n",
      "\n",
      "\n",
      "[2.069585886178629, 1.9744905153056607, 2.012265456978639, 1.9272990712488536, 2.1341814679763047]\n",
      "Iteration 3, loss -28861.8496, x_accept 1.0000, eps 0.1274, avg_S 2.0236\n",
      "\n",
      "\n",
      "[1.797601819387637, 2.1482476484961808, 2.1473147825163323, 1.8901303023631044, 2.0379433766938746]\n",
      "Iteration 4, loss -33267.3477, x_accept 0.9763, eps 0.1281, avg_S 2.0042\n",
      "\n",
      "\n",
      "[1.7148091907729395, 1.7565187802538276, 1.8573893667708035, 2.182746935635805, 2.3433464415138587]\n",
      "Iteration 5, loss -30345.0000, x_accept 1.0000, eps 0.1288, avg_S 1.9710\n",
      "\n",
      "\n",
      "[1.9407270342344418, 2.052834769245237, 1.6536658731056377, 1.635629173453708, 1.8104464931238908]\n",
      "Iteration 6, loss -32765.5156, x_accept 1.0000, eps 0.1298, avg_S 1.8187\n",
      "\n",
      "\n",
      "[2.0531209961045533, 2.046759383752942, 2.0870521209581057, 1.6722955533768982, 2.0254770805186126]\n",
      "Iteration 7, loss -33349.6094, x_accept 1.0000, eps 0.1308, avg_S 1.9769\n",
      "\n",
      "\n",
      "[1.906622737296857, 1.7925898088142276, 2.0682022382097784, 2.13160048390273, 1.8798523440491408]\n",
      "Iteration 8, loss -33530.0000, x_accept 1.0000, eps 0.1322, avg_S 1.9558\n",
      "\n",
      "\n",
      "[1.8641818319447339, 1.675349845434539, 2.133260497939773, 1.8146844573275303, 2.2426119733136147]\n",
      "Iteration 9, loss -33334.6953, x_accept 1.0000, eps 0.1337, avg_S 1.9460\n",
      "\n",
      "\n",
      "[2.0041789463721216, 2.0669262300943956, 2.125713204673957, 1.5905112389227725, 2.0471051056229044]\n",
      "Iteration 10, loss -35190.6133, x_accept 1.0000, eps 0.1353, avg_S 1.9669\n",
      "\n",
      "\n",
      "INFO:tensorflow:Summary name Training loss is illegal; using Training_loss instead.\n"
     ]
    },
    {
     "data": {
      "text/plain": [
       "<tf.Tensor: id=234992, shape=(), dtype=bool, numpy=True>"
      ]
     },
     "execution_count": 119,
     "metadata": {},
     "output_type": "execute_result"
    },
    {
     "name": "stdout",
     "output_type": "stream",
     "text": [
      "Saved checkpoint to: ../../U1_logs/run_15/ckpt-11\n",
      "[2.0135042689507827, 1.9263893789266149, 2.0847050026986835, 1.9016635752559523, 0.0]\n",
      "Iteration 11, loss -31882.1504, x_accept 0.8009, eps 0.1371, avg_S 1.5853\n",
      "\n",
      "\n",
      "[2.129803404561244, 1.8150079378392547, 2.035539251053706, 2.034189268364571, 2.1213513921757112]\n",
      "Iteration 12, loss -31709.3320, x_accept 1.0000, eps 0.1390, avg_S 2.0272\n",
      "\n",
      "\n",
      "[2.0070910481736064, 1.9207998503698036, 2.0061461140867323, 0.0, 2.0341035445817397]\n",
      "Iteration 13, loss -31128.3477, x_accept 0.8001, eps 0.1410, avg_S 1.5936\n",
      "\n",
      "\n",
      "[1.9963229957193107, 2.1613079470407683, 2.0464832006364304, 2.0286029565613717, 0.0]\n",
      "Iteration 14, loss -29141.9160, x_accept 0.8242, eps 0.1429, avg_S 1.6465\n",
      "\n",
      "\n",
      "[0.0, 2.06673389027128, 1.7142248819582164, 0.0, 0.0]\n",
      "Iteration 15, loss -14668.3486, x_accept 0.4000, eps 0.1448, avg_S 0.7562\n",
      "\n",
      "\n",
      "[0.0, 2.052151211530145, 2.030876693490427, 1.9526942702941597, 0.0]\n",
      "Iteration 16, loss -19407.4648, x_accept 0.4454, eps 0.1468, avg_S 1.2071\n",
      "\n",
      "\n",
      "[0.0, 0.0, 0.0, 2.257179205189459, 0.0]\n",
      "Iteration 17, loss -10542.0215, x_accept 0.2005, eps 0.1485, avg_S 0.4514\n",
      "\n",
      "\n",
      "[0.0, 0.0, 0.0, 0.0, 0.0]\n",
      "Iteration 18, loss 1965.1276, x_accept 0.0000, eps 0.1501, avg_S 0.0000\n",
      "\n",
      "\n",
      "[0.0, 0.0, 0.0, 0.0, 0.0]\n",
      "Iteration 19, loss 913.4316, x_accept 0.0053, eps 0.1515, avg_S 0.0000\n",
      "\n",
      "\n",
      "[0.0, 0.0, 0.0, 0.0, 0.0]\n",
      "Iteration 20, loss -1553.8243, x_accept 0.0000, eps 0.1530, avg_S 0.0000\n",
      "\n",
      "\n",
      "INFO:tensorflow:Summary name Training loss is illegal; using Training_loss instead.\n"
     ]
    },
    {
     "data": {
      "text/plain": [
       "<tf.Tensor: id=234992, shape=(), dtype=bool, numpy=True>"
      ]
     },
     "execution_count": 119,
     "metadata": {},
     "output_type": "execute_result"
    },
    {
     "name": "stdout",
     "output_type": "stream",
     "text": [
      "Saved checkpoint to: ../../U1_logs/run_15/ckpt-12\n",
      "[0.0, 0.0, 0.0, 0.0, 0.0]\n",
      "Iteration 21, loss 1999.9980, x_accept 0.0000, eps 0.1544, avg_S 0.0000\n",
      "\n",
      "\n",
      "[0.0, 0.0, 0.0, 0.0, 0.0]\n",
      "Iteration 22, loss 1999.9980, x_accept 0.0000, eps 0.1556, avg_S 0.0000\n",
      "\n",
      "\n",
      "[0.0, 0.0, 0.0, 0.0, 0.0]\n",
      "Iteration 23, loss 1999.9980, x_accept 0.0000, eps 0.1567, avg_S 0.0000\n",
      "\n",
      "\n",
      "[0.0, 0.0, 0.0, 0.0, 0.0]\n",
      "Iteration 24, loss 1999.9980, x_accept 0.0000, eps 0.1577, avg_S 0.0000\n",
      "\n",
      "\n",
      "[0.0, 0.0, 0.0, 0.0, 0.0]\n",
      "Iteration 25, loss 1999.9980, x_accept 0.0000, eps 0.1587, avg_S 0.0000\n",
      "\n",
      "\n",
      "[0.0, 0.0, 0.0, 0.0, 0.0]\n",
      "Iteration 26, loss 1999.9980, x_accept 0.0000, eps 0.1595, avg_S 0.0000\n",
      "\n",
      "\n"
     ]
    },
    {
     "ename": "KeyboardInterrupt",
     "evalue": "",
     "output_type": "error",
     "traceback": [
      "\u001b[1;31m---------------------------------------------------------------------------\u001b[0m",
      "\u001b[1;31mKeyboardInterrupt\u001b[0m                         Traceback (most recent call last)",
      "\u001b[1;32m<ipython-input-119-8b1cde3a9a13>\u001b[0m in \u001b[0;36m<module>\u001b[1;34m()\u001b[0m\n\u001b[0;32m      9\u001b[0m         \u001b[0moptimizer\u001b[0m\u001b[1;33m,\u001b[0m\u001b[1;33m\u001b[0m\u001b[0m\n\u001b[0;32m     10\u001b[0m         \u001b[0mloss_fn\u001b[0m\u001b[1;33m=\u001b[0m\u001b[0mloss_fn\u001b[0m\u001b[1;33m,\u001b[0m\u001b[1;33m\u001b[0m\u001b[0m\n\u001b[1;32m---> 11\u001b[1;33m         \u001b[0mglobal_step\u001b[0m\u001b[1;33m=\u001b[0m\u001b[0mglobal_step\u001b[0m\u001b[1;33m\u001b[0m\u001b[0m\n\u001b[0m\u001b[0;32m     12\u001b[0m     )\n\u001b[0;32m     13\u001b[0m     \u001b[0m_total_actions\u001b[0m \u001b[1;33m=\u001b[0m \u001b[0mu1_lattice\u001b[0m\u001b[1;33m.\u001b[0m\u001b[0mtotal_action\u001b[0m\u001b[1;33m(\u001b[0m\u001b[0msamples\u001b[0m\u001b[1;33m)\u001b[0m\u001b[1;33m\u001b[0m\u001b[0m\n",
      "\u001b[1;32m<ipython-input-5-01166caf77e0>\u001b[0m in \u001b[0;36mtrain_one_iter\u001b[1;34m(dynamics, beta, x, optimizer, loss_fn, global_step)\u001b[0m\n\u001b[0;32m      2\u001b[0m                    loss_fn=l2hmc.compute_loss, global_step=None):\n\u001b[0;32m      3\u001b[0m     loss, grads, out, accept_prob = l2hmc.loss_and_grads(\n\u001b[1;32m----> 4\u001b[1;33m         \u001b[0mdynamics\u001b[0m\u001b[1;33m,\u001b[0m \u001b[0mx\u001b[0m\u001b[1;33m,\u001b[0m \u001b[0mloss_fn\u001b[0m\u001b[1;33m=\u001b[0m\u001b[0mloss_fn\u001b[0m\u001b[1;33m\u001b[0m\u001b[0m\n\u001b[0m\u001b[0;32m      5\u001b[0m     )\n\u001b[0;32m      6\u001b[0m     optimizer.apply_gradients(\n",
      "\u001b[1;32m~/ANL/l2hmc/l2hmc/l2hmc_eager/gauge_dynamics_eager.py\u001b[0m in \u001b[0;36mloss_and_grads\u001b[1;34m(dynamics, x, loss_fn)\u001b[0m\n\u001b[0;32m    371\u001b[0m     \u001b[1;34m\"\"\"Obtain loss value and gradients.\"\"\"\u001b[0m\u001b[1;33m\u001b[0m\u001b[0m\n\u001b[0;32m    372\u001b[0m     \u001b[1;32mwith\u001b[0m \u001b[0mtf\u001b[0m\u001b[1;33m.\u001b[0m\u001b[0mGradientTape\u001b[0m\u001b[1;33m(\u001b[0m\u001b[1;33m)\u001b[0m \u001b[1;32mas\u001b[0m \u001b[0mtape\u001b[0m\u001b[1;33m:\u001b[0m\u001b[1;33m\u001b[0m\u001b[0m\n\u001b[1;32m--> 373\u001b[1;33m         \u001b[0mloss_val\u001b[0m\u001b[1;33m,\u001b[0m \u001b[0mout\u001b[0m\u001b[1;33m,\u001b[0m \u001b[0maccept_prob\u001b[0m \u001b[1;33m=\u001b[0m \u001b[0mloss_fn\u001b[0m\u001b[1;33m(\u001b[0m\u001b[0mdynamics\u001b[0m\u001b[1;33m,\u001b[0m \u001b[0mx\u001b[0m\u001b[1;33m)\u001b[0m\u001b[1;33m\u001b[0m\u001b[0m\n\u001b[0m\u001b[0;32m    374\u001b[0m     \u001b[0mgrads\u001b[0m \u001b[1;33m=\u001b[0m \u001b[0mtape\u001b[0m\u001b[1;33m.\u001b[0m\u001b[0mgradient\u001b[0m\u001b[1;33m(\u001b[0m\u001b[0mloss_val\u001b[0m\u001b[1;33m,\u001b[0m \u001b[0mdynamics\u001b[0m\u001b[1;33m.\u001b[0m\u001b[0mtrainable_variables\u001b[0m\u001b[1;33m)\u001b[0m\u001b[1;33m\u001b[0m\u001b[0m\n\u001b[0;32m    375\u001b[0m \u001b[1;33m\u001b[0m\u001b[0m\n",
      "\u001b[1;32m~/ANL/l2hmc/l2hmc/l2hmc_eager/gauge_dynamics_eager.py\u001b[0m in \u001b[0;36mcompute_loss\u001b[1;34m(dynamics, x, scale, eps)\u001b[0m\n\u001b[0;32m    354\u001b[0m     \u001b[0mz\u001b[0m \u001b[1;33m=\u001b[0m \u001b[0mtf\u001b[0m\u001b[1;33m.\u001b[0m\u001b[0mrandom_normal\u001b[0m\u001b[1;33m(\u001b[0m\u001b[0mtf\u001b[0m\u001b[1;33m.\u001b[0m\u001b[0mshape\u001b[0m\u001b[1;33m(\u001b[0m\u001b[0mx\u001b[0m\u001b[1;33m)\u001b[0m\u001b[1;33m)\u001b[0m  \u001b[1;31m# Auxiliary variable\u001b[0m\u001b[1;33m\u001b[0m\u001b[0m\n\u001b[0;32m    355\u001b[0m     \u001b[0mx_\u001b[0m\u001b[1;33m,\u001b[0m \u001b[0m_\u001b[0m\u001b[1;33m,\u001b[0m \u001b[0mx_accept_prob\u001b[0m\u001b[1;33m,\u001b[0m \u001b[0mx_out\u001b[0m \u001b[1;33m=\u001b[0m \u001b[0mdynamics\u001b[0m\u001b[1;33m.\u001b[0m\u001b[0mapply_transition\u001b[0m\u001b[1;33m(\u001b[0m\u001b[0mx\u001b[0m\u001b[1;33m)\u001b[0m\u001b[1;33m\u001b[0m\u001b[0m\n\u001b[1;32m--> 356\u001b[1;33m     \u001b[0mz_\u001b[0m\u001b[1;33m,\u001b[0m \u001b[0m_\u001b[0m\u001b[1;33m,\u001b[0m \u001b[0mz_accept_prob\u001b[0m\u001b[1;33m,\u001b[0m \u001b[0m_\u001b[0m \u001b[1;33m=\u001b[0m \u001b[0mdynamics\u001b[0m\u001b[1;33m.\u001b[0m\u001b[0mapply_transition\u001b[0m\u001b[1;33m(\u001b[0m\u001b[0mz\u001b[0m\u001b[1;33m)\u001b[0m\u001b[1;33m\u001b[0m\u001b[0m\n\u001b[0m\u001b[0;32m    357\u001b[0m \u001b[1;33m\u001b[0m\u001b[0m\n\u001b[0;32m    358\u001b[0m     \u001b[1;31m# Add eps for numerical stability; following released implx\u001b[0m\u001b[1;33m\u001b[0m\u001b[1;33m\u001b[0m\u001b[0m\n",
      "\u001b[1;32m~/ANL/l2hmc/l2hmc/l2hmc_eager/gauge_dynamics_eager.py\u001b[0m in \u001b[0;36mapply_transition\u001b[1;34m(self, position)\u001b[0m\n\u001b[0;32m     78\u001b[0m         )\n\u001b[0;32m     79\u001b[0m         position_b, momentum_b, accept_prob_b = self.transition_kernel(\n\u001b[1;32m---> 80\u001b[1;33m             \u001b[0mposition\u001b[0m\u001b[1;33m,\u001b[0m \u001b[0mforward\u001b[0m\u001b[1;33m=\u001b[0m\u001b[1;32mFalse\u001b[0m\u001b[1;33m\u001b[0m\u001b[0m\n\u001b[0m\u001b[0;32m     81\u001b[0m         )\n\u001b[0;32m     82\u001b[0m \u001b[1;33m\u001b[0m\u001b[0m\n",
      "\u001b[1;32m~/ANL/l2hmc/l2hmc/l2hmc_eager/gauge_dynamics_eager.py\u001b[0m in \u001b[0;36mtransition_kernel\u001b[1;34m(self, position, forward)\u001b[0m\n\u001b[0;32m    133\u001b[0m         accept_prob = self._compute_accept_prob(position, momentum,\n\u001b[0;32m    134\u001b[0m                                                 \u001b[0mposition_post\u001b[0m\u001b[1;33m,\u001b[0m \u001b[0mmomentum_post\u001b[0m\u001b[1;33m,\u001b[0m\u001b[1;33m\u001b[0m\u001b[0m\n\u001b[1;32m--> 135\u001b[1;33m                                                 sumlogdet)\n\u001b[0m\u001b[0;32m    136\u001b[0m \u001b[1;33m\u001b[0m\u001b[0m\n\u001b[0;32m    137\u001b[0m         \u001b[1;32mreturn\u001b[0m \u001b[0mposition_post\u001b[0m\u001b[1;33m,\u001b[0m \u001b[0mmomentum_post\u001b[0m\u001b[1;33m,\u001b[0m \u001b[0maccept_prob\u001b[0m\u001b[1;33m\u001b[0m\u001b[0m\n",
      "\u001b[1;32m~/ANL/l2hmc/l2hmc/l2hmc_eager/gauge_dynamics_eager.py\u001b[0m in \u001b[0;36m_compute_accept_prob\u001b[1;34m(self, position, momentum, position_post, momentum_post, sumlogdet)\u001b[0m\n\u001b[0;32m    261\u001b[0m \u001b[1;33m\u001b[0m\u001b[0m\n\u001b[0;32m    262\u001b[0m         \u001b[1;31m#  beta = self.lattice.beta\u001b[0m\u001b[1;33m\u001b[0m\u001b[1;33m\u001b[0m\u001b[0m\n\u001b[1;32m--> 263\u001b[1;33m         \u001b[0mold_hamil\u001b[0m \u001b[1;33m=\u001b[0m \u001b[0mself\u001b[0m\u001b[1;33m.\u001b[0m\u001b[0mhamiltonian\u001b[0m\u001b[1;33m(\u001b[0m\u001b[0mposition\u001b[0m\u001b[1;33m,\u001b[0m \u001b[0mmomentum\u001b[0m\u001b[1;33m)\u001b[0m\u001b[1;33m\u001b[0m\u001b[0m\n\u001b[0m\u001b[0;32m    264\u001b[0m         \u001b[0mnew_hamil\u001b[0m \u001b[1;33m=\u001b[0m \u001b[0mself\u001b[0m\u001b[1;33m.\u001b[0m\u001b[0mhamiltonian\u001b[0m\u001b[1;33m(\u001b[0m\u001b[0mposition_post\u001b[0m\u001b[1;33m,\u001b[0m \u001b[0mmomentum_post\u001b[0m\u001b[1;33m)\u001b[0m\u001b[1;33m\u001b[0m\u001b[0m\n\u001b[0;32m    265\u001b[0m         \u001b[0mprob\u001b[0m \u001b[1;33m=\u001b[0m \u001b[0mtf\u001b[0m\u001b[1;33m.\u001b[0m\u001b[0mexp\u001b[0m\u001b[1;33m(\u001b[0m\u001b[0mtf\u001b[0m\u001b[1;33m.\u001b[0m\u001b[0mminimum\u001b[0m\u001b[1;33m(\u001b[0m\u001b[0mold_hamil\u001b[0m \u001b[1;33m-\u001b[0m \u001b[0mnew_hamil\u001b[0m \u001b[1;33m+\u001b[0m \u001b[0msumlogdet\u001b[0m\u001b[1;33m,\u001b[0m \u001b[1;36m0.\u001b[0m\u001b[1;33m)\u001b[0m\u001b[1;33m)\u001b[0m\u001b[1;33m\u001b[0m\u001b[0m\n",
      "\u001b[1;32m~/ANL/l2hmc/l2hmc/l2hmc_eager/gauge_dynamics_eager.py\u001b[0m in \u001b[0;36mhamiltonian\u001b[1;34m(self, position, momentum)\u001b[0m\n\u001b[0;32m    330\u001b[0m     \u001b[1;32mdef\u001b[0m \u001b[0mhamiltonian\u001b[0m\u001b[1;33m(\u001b[0m\u001b[0mself\u001b[0m\u001b[1;33m,\u001b[0m \u001b[0mposition\u001b[0m\u001b[1;33m,\u001b[0m \u001b[0mmomentum\u001b[0m\u001b[1;33m)\u001b[0m\u001b[1;33m:\u001b[0m\u001b[1;33m\u001b[0m\u001b[0m\n\u001b[0;32m    331\u001b[0m         \u001b[1;34m\"\"\"Compute the overall Hamiltonian.\"\"\"\u001b[0m\u001b[1;33m\u001b[0m\u001b[0m\n\u001b[1;32m--> 332\u001b[1;33m         \u001b[1;32mreturn\u001b[0m \u001b[1;33m(\u001b[0m\u001b[0mself\u001b[0m\u001b[1;33m.\u001b[0m\u001b[0mpotential\u001b[0m\u001b[1;33m(\u001b[0m\u001b[0mposition\u001b[0m\u001b[1;33m)\u001b[0m \u001b[1;33m+\u001b[0m \u001b[0mself\u001b[0m\u001b[1;33m.\u001b[0m\u001b[0mkinetic\u001b[0m\u001b[1;33m(\u001b[0m\u001b[0mmomentum\u001b[0m\u001b[1;33m)\u001b[0m\u001b[1;33m)\u001b[0m\u001b[1;33m\u001b[0m\u001b[0m\n\u001b[0m\u001b[0;32m    333\u001b[0m \u001b[1;33m\u001b[0m\u001b[0m\n\u001b[0;32m    334\u001b[0m     \u001b[1;32mdef\u001b[0m \u001b[0mgrad_potential\u001b[0m\u001b[1;33m(\u001b[0m\u001b[0mself\u001b[0m\u001b[1;33m,\u001b[0m \u001b[0mposition\u001b[0m\u001b[1;33m,\u001b[0m \u001b[0mcheck_numerics\u001b[0m\u001b[1;33m=\u001b[0m\u001b[1;32mTrue\u001b[0m\u001b[1;33m)\u001b[0m\u001b[1;33m:\u001b[0m\u001b[1;33m\u001b[0m\u001b[0m\n",
      "\u001b[1;32m~/ANL/l2hmc/l2hmc/lattice/gauge_lattice.py\u001b[0m in \u001b[0;36mfn\u001b[1;34m(samples)\u001b[0m\n\u001b[0;32m    194\u001b[0m         \u001b[1;34m\"\"\"Return function object used for calculating the energy (action).\"\"\"\u001b[0m\u001b[1;33m\u001b[0m\u001b[0m\n\u001b[0;32m    195\u001b[0m         \u001b[1;32mdef\u001b[0m \u001b[0mfn\u001b[0m\u001b[1;33m(\u001b[0m\u001b[0msamples\u001b[0m\u001b[1;33m)\u001b[0m\u001b[1;33m:\u001b[0m\u001b[1;33m\u001b[0m\u001b[0m\n\u001b[1;32m--> 196\u001b[1;33m             \u001b[1;32mreturn\u001b[0m \u001b[0mself\u001b[0m\u001b[1;33m.\u001b[0m\u001b[0mtotal_action\u001b[0m\u001b[1;33m(\u001b[0m\u001b[0msamples\u001b[0m\u001b[1;33m)\u001b[0m\u001b[1;33m\u001b[0m\u001b[0m\n\u001b[0m\u001b[0;32m    197\u001b[0m         \u001b[1;32mreturn\u001b[0m \u001b[0mfn\u001b[0m\u001b[1;33m\u001b[0m\u001b[0m\n\u001b[0;32m    198\u001b[0m \u001b[1;33m\u001b[0m\u001b[0m\n",
      "\u001b[1;32m~/ANL/l2hmc/l2hmc/lattice/gauge_lattice.py\u001b[0m in \u001b[0;36mtotal_action\u001b[1;34m(self, samples)\u001b[0m\n\u001b[0;32m    340\u001b[0m \u001b[1;33m\u001b[0m\u001b[0m\n\u001b[0;32m    341\u001b[0m         return [\n\u001b[1;32m--> 342\u001b[1;33m             \u001b[0mself\u001b[0m\u001b[1;33m.\u001b[0m\u001b[0m_total_action\u001b[0m\u001b[1;33m(\u001b[0m\u001b[0msample\u001b[0m\u001b[1;33m)\u001b[0m \u001b[1;32mfor\u001b[0m \u001b[0msample\u001b[0m \u001b[1;32min\u001b[0m \u001b[0msamples\u001b[0m\u001b[1;33m\u001b[0m\u001b[0m\n\u001b[0m\u001b[0;32m    343\u001b[0m         ]\n\u001b[0;32m    344\u001b[0m \u001b[1;33m\u001b[0m\u001b[0m\n",
      "\u001b[1;32m~/ANL/l2hmc/l2hmc/lattice/gauge_lattice.py\u001b[0m in \u001b[0;36m<listcomp>\u001b[1;34m(.0)\u001b[0m\n\u001b[0;32m    340\u001b[0m \u001b[1;33m\u001b[0m\u001b[0m\n\u001b[0;32m    341\u001b[0m         return [\n\u001b[1;32m--> 342\u001b[1;33m             \u001b[0mself\u001b[0m\u001b[1;33m.\u001b[0m\u001b[0m_total_action\u001b[0m\u001b[1;33m(\u001b[0m\u001b[0msample\u001b[0m\u001b[1;33m)\u001b[0m \u001b[1;32mfor\u001b[0m \u001b[0msample\u001b[0m \u001b[1;32min\u001b[0m \u001b[0msamples\u001b[0m\u001b[1;33m\u001b[0m\u001b[0m\n\u001b[0m\u001b[0;32m    343\u001b[0m         ]\n\u001b[0;32m    344\u001b[0m \u001b[1;33m\u001b[0m\u001b[0m\n",
      "\u001b[1;32m~/ANL/l2hmc/l2hmc/lattice/gauge_lattice.py\u001b[0m in \u001b[0;36m_total_action\u001b[1;34m(self, links)\u001b[0m\n\u001b[0;32m    312\u001b[0m                 \u001b[1;32mfor\u001b[0m \u001b[0mnu\u001b[0m \u001b[1;32min\u001b[0m \u001b[0mrange\u001b[0m\u001b[1;33m(\u001b[0m\u001b[0mself\u001b[0m\u001b[1;33m.\u001b[0m\u001b[0mdim\u001b[0m\u001b[1;33m)\u001b[0m\u001b[1;33m:\u001b[0m\u001b[1;33m\u001b[0m\u001b[0m\n\u001b[0;32m    313\u001b[0m                     \u001b[1;32mif\u001b[0m \u001b[0mnu\u001b[0m \u001b[1;33m>\u001b[0m \u001b[0mmu\u001b[0m\u001b[1;33m:\u001b[0m\u001b[1;33m\u001b[0m\u001b[0m\n\u001b[1;32m--> 314\u001b[1;33m                         \u001b[0mplaq\u001b[0m \u001b[1;33m=\u001b[0m \u001b[0mself\u001b[0m\u001b[1;33m.\u001b[0m\u001b[0mplaquette_operator\u001b[0m\u001b[1;33m(\u001b[0m\u001b[0msite\u001b[0m\u001b[1;33m,\u001b[0m \u001b[0mmu\u001b[0m\u001b[1;33m,\u001b[0m \u001b[0mnu\u001b[0m\u001b[1;33m,\u001b[0m \u001b[0mlinks\u001b[0m\u001b[1;33m)\u001b[0m\u001b[1;33m\u001b[0m\u001b[0m\n\u001b[0m\u001b[0;32m    315\u001b[0m                         \u001b[0maction\u001b[0m \u001b[1;33m+=\u001b[0m \u001b[1;36m1\u001b[0m \u001b[1;33m-\u001b[0m \u001b[0mconst\u001b[0m \u001b[1;33m*\u001b[0m \u001b[0mself\u001b[0m\u001b[1;33m.\u001b[0m\u001b[0m_action_op\u001b[0m\u001b[1;33m(\u001b[0m\u001b[0mplaq\u001b[0m\u001b[1;33m)\u001b[0m\u001b[1;33m\u001b[0m\u001b[0m\n\u001b[0;32m    316\u001b[0m                         \u001b[1;31m#  S += 1 - const * plaq\u001b[0m\u001b[1;33m\u001b[0m\u001b[1;33m\u001b[0m\u001b[0m\n",
      "\u001b[1;32m~/ANL/l2hmc/l2hmc/lattice/gauge_lattice.py\u001b[0m in \u001b[0;36mplaquette_operator\u001b[1;34m(self, site, mu, nu, links)\u001b[0m\n\u001b[0;32m    433\u001b[0m \u001b[1;33m\u001b[0m\u001b[0m\n\u001b[0;32m    434\u001b[0m         \u001b[1;32mif\u001b[0m \u001b[0mself\u001b[0m\u001b[1;33m.\u001b[0m\u001b[0mlink_type\u001b[0m \u001b[1;33m==\u001b[0m \u001b[1;34m'U1'\u001b[0m\u001b[1;33m:\u001b[0m\u001b[1;33m\u001b[0m\u001b[0m\n\u001b[1;32m--> 435\u001b[1;33m             \u001b[1;32mreturn\u001b[0m \u001b[0mlinks\u001b[0m\u001b[1;33m[\u001b[0m\u001b[0ml1\u001b[0m\u001b[1;33m]\u001b[0m \u001b[1;33m+\u001b[0m \u001b[0mlinks\u001b[0m\u001b[1;33m[\u001b[0m\u001b[0ml2\u001b[0m\u001b[1;33m]\u001b[0m \u001b[1;33m-\u001b[0m \u001b[0mlinks\u001b[0m\u001b[1;33m[\u001b[0m\u001b[0ml3\u001b[0m\u001b[1;33m]\u001b[0m \u001b[1;33m-\u001b[0m \u001b[0mlinks\u001b[0m\u001b[1;33m[\u001b[0m\u001b[0ml4\u001b[0m\u001b[1;33m]\u001b[0m\u001b[1;33m\u001b[0m\u001b[0m\n\u001b[0m\u001b[0;32m    436\u001b[0m         \u001b[1;32melif\u001b[0m \u001b[0mself\u001b[0m\u001b[1;33m.\u001b[0m\u001b[0mlink_type\u001b[0m \u001b[1;32min\u001b[0m \u001b[1;33m[\u001b[0m\u001b[1;34m'SU2'\u001b[0m\u001b[1;33m,\u001b[0m \u001b[1;34m'SU3'\u001b[0m\u001b[1;33m]\u001b[0m\u001b[1;33m:\u001b[0m\u001b[1;33m\u001b[0m\u001b[0m\n\u001b[0;32m    437\u001b[0m             \u001b[0mprod\u001b[0m \u001b[1;33m=\u001b[0m \u001b[0mtf\u001b[0m\u001b[1;33m.\u001b[0m\u001b[0mmatmul\u001b[0m\u001b[1;33m(\u001b[0m\u001b[0mlinks\u001b[0m\u001b[1;33m[\u001b[0m\u001b[0ml1\u001b[0m\u001b[1;33m]\u001b[0m\u001b[1;33m,\u001b[0m \u001b[0mlinks\u001b[0m\u001b[1;33m[\u001b[0m\u001b[0ml2\u001b[0m\u001b[1;33m]\u001b[0m\u001b[1;33m)\u001b[0m\u001b[1;33m\u001b[0m\u001b[0m\n",
      "\u001b[1;32m~/miniconda3/envs/tensorflow_cpu/lib/python3.6/site-packages/tensorflow/python/ops/array_ops.py\u001b[0m in \u001b[0;36m_slice_helper\u001b[1;34m(tensor, slice_spec, var)\u001b[0m\n\u001b[0;32m    498\u001b[0m     \u001b[1;32mif\u001b[0m \u001b[0mbegin\u001b[0m\u001b[1;33m:\u001b[0m\u001b[1;33m\u001b[0m\u001b[0m\n\u001b[0;32m    499\u001b[0m       packed_begin, packed_end, packed_strides = (stack(begin), stack(end),\n\u001b[1;32m--> 500\u001b[1;33m                                                   stack(strides))\n\u001b[0m\u001b[0;32m    501\u001b[0m       if (packed_begin.dtype == dtypes.int64 or\n\u001b[0;32m    502\u001b[0m           \u001b[0mpacked_end\u001b[0m\u001b[1;33m.\u001b[0m\u001b[0mdtype\u001b[0m \u001b[1;33m==\u001b[0m \u001b[0mdtypes\u001b[0m\u001b[1;33m.\u001b[0m\u001b[0mint64\u001b[0m \u001b[1;32mor\u001b[0m\u001b[1;33m\u001b[0m\u001b[0m\n",
      "\u001b[1;32m~/miniconda3/envs/tensorflow_cpu/lib/python3.6/site-packages/tensorflow/python/ops/array_ops.py\u001b[0m in \u001b[0;36mstack\u001b[1;34m(values, axis, name)\u001b[0m\n\u001b[0;32m    862\u001b[0m     \u001b[1;32mtry\u001b[0m\u001b[1;33m:\u001b[0m\u001b[1;33m\u001b[0m\u001b[0m\n\u001b[0;32m    863\u001b[0m       \u001b[1;31m# If the input is a constant list, it can be converted to a constant op\u001b[0m\u001b[1;33m\u001b[0m\u001b[1;33m\u001b[0m\u001b[0m\n\u001b[1;32m--> 864\u001b[1;33m       \u001b[1;32mreturn\u001b[0m \u001b[0mops\u001b[0m\u001b[1;33m.\u001b[0m\u001b[0mconvert_to_tensor\u001b[0m\u001b[1;33m(\u001b[0m\u001b[0mvalues\u001b[0m\u001b[1;33m,\u001b[0m \u001b[0mname\u001b[0m\u001b[1;33m=\u001b[0m\u001b[0mname\u001b[0m\u001b[1;33m)\u001b[0m\u001b[1;33m\u001b[0m\u001b[0m\n\u001b[0m\u001b[0;32m    865\u001b[0m     \u001b[1;32mexcept\u001b[0m \u001b[1;33m(\u001b[0m\u001b[0mTypeError\u001b[0m\u001b[1;33m,\u001b[0m \u001b[0mValueError\u001b[0m\u001b[1;33m)\u001b[0m\u001b[1;33m:\u001b[0m\u001b[1;33m\u001b[0m\u001b[0m\n\u001b[0;32m    866\u001b[0m       \u001b[1;32mpass\u001b[0m  \u001b[1;31m# Input list contains non-constant tensors\u001b[0m\u001b[1;33m\u001b[0m\u001b[0m\n",
      "\u001b[1;32m~/miniconda3/envs/tensorflow_cpu/lib/python3.6/site-packages/tensorflow/python/framework/ops.py\u001b[0m in \u001b[0;36mconvert_to_tensor\u001b[1;34m(value, dtype, name, preferred_dtype)\u001b[0m\n\u001b[0;32m    996\u001b[0m       \u001b[0mname\u001b[0m\u001b[1;33m=\u001b[0m\u001b[0mname\u001b[0m\u001b[1;33m,\u001b[0m\u001b[1;33m\u001b[0m\u001b[0m\n\u001b[0;32m    997\u001b[0m       \u001b[0mpreferred_dtype\u001b[0m\u001b[1;33m=\u001b[0m\u001b[0mpreferred_dtype\u001b[0m\u001b[1;33m,\u001b[0m\u001b[1;33m\u001b[0m\u001b[0m\n\u001b[1;32m--> 998\u001b[1;33m       as_ref=False)\n\u001b[0m\u001b[0;32m    999\u001b[0m \u001b[1;33m\u001b[0m\u001b[0m\n\u001b[0;32m   1000\u001b[0m \u001b[1;33m\u001b[0m\u001b[0m\n",
      "\u001b[1;32m~/miniconda3/envs/tensorflow_cpu/lib/python3.6/site-packages/tensorflow/python/framework/ops.py\u001b[0m in \u001b[0;36minternal_convert_to_tensor\u001b[1;34m(value, dtype, name, as_ref, preferred_dtype, ctx)\u001b[0m\n\u001b[0;32m   1092\u001b[0m \u001b[1;33m\u001b[0m\u001b[0m\n\u001b[0;32m   1093\u001b[0m     \u001b[1;32mif\u001b[0m \u001b[0mret\u001b[0m \u001b[1;32mis\u001b[0m \u001b[1;32mNone\u001b[0m\u001b[1;33m:\u001b[0m\u001b[1;33m\u001b[0m\u001b[0m\n\u001b[1;32m-> 1094\u001b[1;33m       \u001b[0mret\u001b[0m \u001b[1;33m=\u001b[0m \u001b[0mconversion_func\u001b[0m\u001b[1;33m(\u001b[0m\u001b[0mvalue\u001b[0m\u001b[1;33m,\u001b[0m \u001b[0mdtype\u001b[0m\u001b[1;33m=\u001b[0m\u001b[0mdtype\u001b[0m\u001b[1;33m,\u001b[0m \u001b[0mname\u001b[0m\u001b[1;33m=\u001b[0m\u001b[0mname\u001b[0m\u001b[1;33m,\u001b[0m \u001b[0mas_ref\u001b[0m\u001b[1;33m=\u001b[0m\u001b[0mas_ref\u001b[0m\u001b[1;33m)\u001b[0m\u001b[1;33m\u001b[0m\u001b[0m\n\u001b[0m\u001b[0;32m   1095\u001b[0m \u001b[1;33m\u001b[0m\u001b[0m\n\u001b[0;32m   1096\u001b[0m     \u001b[1;32mif\u001b[0m \u001b[0mret\u001b[0m \u001b[1;32mis\u001b[0m \u001b[0mNotImplemented\u001b[0m\u001b[1;33m:\u001b[0m\u001b[1;33m\u001b[0m\u001b[0m\n",
      "\u001b[1;32m~/miniconda3/envs/tensorflow_cpu/lib/python3.6/site-packages/tensorflow/python/ops/array_ops.py\u001b[0m in \u001b[0;36m_autopacking_conversion_function\u001b[1;34m(v, dtype, name, as_ref)\u001b[0m\n\u001b[0;32m    952\u001b[0m   \u001b[1;32mif\u001b[0m \u001b[0mas_ref\u001b[0m\u001b[1;33m:\u001b[0m\u001b[1;33m\u001b[0m\u001b[0m\n\u001b[0;32m    953\u001b[0m     \u001b[1;32mreturn\u001b[0m \u001b[0mNotImplemented\u001b[0m\u001b[1;33m\u001b[0m\u001b[0m\n\u001b[1;32m--> 954\u001b[1;33m   \u001b[0minferred_dtype\u001b[0m \u001b[1;33m=\u001b[0m \u001b[0m_get_dtype_from_nested_lists\u001b[0m\u001b[1;33m(\u001b[0m\u001b[0mv\u001b[0m\u001b[1;33m)\u001b[0m\u001b[1;33m\u001b[0m\u001b[0m\n\u001b[0m\u001b[0;32m    955\u001b[0m   \u001b[1;32mif\u001b[0m \u001b[0minferred_dtype\u001b[0m \u001b[1;32mis\u001b[0m \u001b[1;32mNone\u001b[0m\u001b[1;33m:\u001b[0m\u001b[1;33m\u001b[0m\u001b[0m\n\u001b[0;32m    956\u001b[0m     \u001b[1;31m# We did not find any tensor-like objects in the nested lists, so defer to\u001b[0m\u001b[1;33m\u001b[0m\u001b[1;33m\u001b[0m\u001b[0m\n",
      "\u001b[1;32m~/miniconda3/envs/tensorflow_cpu/lib/python3.6/site-packages/tensorflow/python/ops/array_ops.py\u001b[0m in \u001b[0;36m_get_dtype_from_nested_lists\u001b[1;34m(list_or_tuple)\u001b[0m\n\u001b[0;32m    941\u001b[0m     \u001b[1;32mif\u001b[0m \u001b[0mops\u001b[0m\u001b[1;33m.\u001b[0m\u001b[0mis_dense_tensor_like\u001b[0m\u001b[1;33m(\u001b[0m\u001b[0melem\u001b[0m\u001b[1;33m)\u001b[0m\u001b[1;33m:\u001b[0m\u001b[1;33m\u001b[0m\u001b[0m\n\u001b[0;32m    942\u001b[0m       \u001b[1;32mreturn\u001b[0m \u001b[0melem\u001b[0m\u001b[1;33m.\u001b[0m\u001b[0mdtype\u001b[0m\u001b[1;33m.\u001b[0m\u001b[0mbase_dtype\u001b[0m\u001b[1;33m\u001b[0m\u001b[0m\n\u001b[1;32m--> 943\u001b[1;33m     \u001b[1;32melif\u001b[0m \u001b[0misinstance\u001b[0m\u001b[1;33m(\u001b[0m\u001b[0melem\u001b[0m\u001b[1;33m,\u001b[0m \u001b[1;33m(\u001b[0m\u001b[0mlist\u001b[0m\u001b[1;33m,\u001b[0m \u001b[0mtuple\u001b[0m\u001b[1;33m)\u001b[0m\u001b[1;33m)\u001b[0m\u001b[1;33m:\u001b[0m\u001b[1;33m\u001b[0m\u001b[0m\n\u001b[0m\u001b[0;32m    944\u001b[0m       \u001b[0mmaybe_dtype\u001b[0m \u001b[1;33m=\u001b[0m \u001b[0m_get_dtype_from_nested_lists\u001b[0m\u001b[1;33m(\u001b[0m\u001b[0melem\u001b[0m\u001b[1;33m)\u001b[0m\u001b[1;33m\u001b[0m\u001b[0m\n\u001b[0;32m    945\u001b[0m       \u001b[1;32mif\u001b[0m \u001b[0mmaybe_dtype\u001b[0m \u001b[1;32mis\u001b[0m \u001b[1;32mnot\u001b[0m \u001b[1;32mNone\u001b[0m\u001b[1;33m:\u001b[0m\u001b[1;33m\u001b[0m\u001b[0m\n",
      "\u001b[1;31mKeyboardInterrupt\u001b[0m: "
     ]
    }
   ],
   "source": [
    "# 7m13s for 64 links with shape (2, 2, 2, 2, 4), batch_size = 2\n",
    "# 19m53s for 64 links with shape (2, 2, 2, 2, 4), batch_size = 5\n",
    "total_actions = []\n",
    "for i in range(1, 101):\n",
    "    loss, samples, accept_prob = train_one_iter(\n",
    "        u1_dynamics,\n",
    "        u1_lattice.beta,\n",
    "        u1_samples_tensor,\n",
    "        optimizer,\n",
    "        loss_fn=loss_fn,\n",
    "        global_step=global_step\n",
    "    )\n",
    "    _total_actions = u1_lattice.total_action(samples)\n",
    "    total_actions.extend(_total_actions)\n",
    "\n",
    "    print(_total_actions)\n",
    "    print(\"Iteration {}, loss {:.4f}, x_accept {:.4f},\"\n",
    "          \" eps {:.4f}, avg_S {:.4f}\".format(i, loss.numpy(),\n",
    "                                             accept_prob.numpy().mean(),\n",
    "                                             u1_dynamics.eps.numpy(),\n",
    "                                             np.mean(_total_actions)))\n",
    "    print('\\n')\n",
    "\n",
    "    if i % record_loss_every == 0:\n",
    "        with summary_writer.as_default():\n",
    "            with tf.contrib.summary.always_record_summaries():\n",
    "                tf.contrib.summary.scalar(\"Training loss\", loss,\n",
    "                                          step=global_step)\n",
    "\n",
    "    if i % save_steps == 0:\n",
    "        saved_path = checkpointer.save(file_prefix=os.path.join(log_dir,\n",
    "                                                                \"ckpt\"))\n",
    "        print(f\"Saved checkpoint to: {saved_path}\")"
   ]
  },
  {
   "cell_type": "code",
   "execution_count": null,
   "metadata": {
    "ExecuteTime": {
     "end_time": "2018-10-02T12:22:49.799356Z",
     "start_time": "2018-10-02T12:22:49.738361Z"
    }
   },
   "outputs": [],
   "source": [
    "plaqs = []\n",
    "S = []\n",
    "S_approx = []\n",
    "for site in _latt.iter_sites():\n",
    "    for mu in range(_latt.dim):\n",
    "        for nu in range(_latt.dim):\n",
    "            if nu > mu:\n",
    "                plaq =  _latt.plaquette_operator(_latt.links, site, mu, nu)\n",
    "                _S = 1 - np.cos(plaq)\n",
    "                S_approx.append(0.5 * plaq ** 2)\n",
    "                plaqs.append(plaq)\n",
    "                S.append(_S)"
   ]
  },
  {
   "cell_type": "code",
   "execution_count": null,
   "metadata": {
    "ExecuteTime": {
     "end_time": "2018-10-02T12:23:02.407136Z",
     "start_time": "2018-10-02T12:23:02.349460Z"
    }
   },
   "outputs": [],
   "source": [
    "np.mean(S_approx)"
   ]
  },
  {
   "cell_type": "code",
   "execution_count": null,
   "metadata": {
    "ExecuteTime": {
     "end_time": "2018-10-02T12:18:30.921803Z",
     "start_time": "2018-10-02T12:18:30.825818Z"
    }
   },
   "outputs": [],
   "source": [
    "_latt._total_action(_latt.links, beta)"
   ]
  },
  {
   "cell_type": "code",
   "execution_count": null,
   "metadata": {
    "ExecuteTime": {
     "end_time": "2018-10-02T12:17:21.591133Z",
     "start_time": "2018-10-02T12:17:21.532159Z"
    }
   },
   "outputs": [],
   "source": [
    "len(S)"
   ]
  },
  {
   "cell_type": "code",
   "execution_count": null,
   "metadata": {
    "ExecuteTime": {
     "end_time": "2018-10-02T12:18:08.149270Z",
     "start_time": "2018-10-02T12:18:08.089099Z"
    }
   },
   "outputs": [],
   "source": [
    "sum(S) / len(S)"
   ]
  },
  {
   "cell_type": "code",
   "execution_count": null,
   "metadata": {
    "ExecuteTime": {
     "end_time": "2018-10-02T12:18:36.132322Z",
     "start_time": "2018-10-02T12:18:36.074003Z"
    }
   },
   "outputs": [],
   "source": [
    "np.mean(beta*np.array(S))"
   ]
  },
  {
   "cell_type": "code",
   "execution_count": null,
   "metadata": {
    "ExecuteTime": {
     "end_time": "2018-10-02T12:18:14.078842Z",
     "start_time": "2018-10-02T12:18:14.018652Z"
    }
   },
   "outputs": [],
   "source": [
    "(_latt._total_action(_latt.links, beta) * _latt.num_sites / (-beta)) / _latt.num_links"
   ]
  },
  {
   "cell_type": "code",
   "execution_count": null,
   "metadata": {},
   "outputs": [],
   "source": []
  },
  {
   "cell_type": "code",
   "execution_count": null,
   "metadata": {},
   "outputs": [],
   "source": []
  },
  {
   "cell_type": "code",
   "execution_count": null,
   "metadata": {},
   "outputs": [],
   "source": []
  },
  {
   "cell_type": "code",
   "execution_count": null,
   "metadata": {
    "ExecuteTime": {
     "end_time": "2018-10-02T11:26:08.318630Z",
     "start_time": "2018-10-02T11:26:08.259588Z"
    }
   },
   "outputs": [],
   "source": [
    "total_actions = np.array(total_actions).reshape(train_iters, batch_size)"
   ]
  },
  {
   "cell_type": "code",
   "execution_count": null,
   "metadata": {
    "ExecuteTime": {
     "end_time": "2018-09-28T05:14:24.610542Z",
     "start_time": "2018-09-28T05:14:24.556864Z"
    }
   },
   "outputs": [],
   "source": [
    "print(samples[0].numpy().reshape(u1_lattice.links.shape))"
   ]
  },
  {
   "cell_type": "code",
   "execution_count": null,
   "metadata": {
    "ExecuteTime": {
     "end_time": "2018-09-28T06:34:14.362360Z",
     "start_time": "2018-09-28T06:34:14.277103Z"
    }
   },
   "outputs": [],
   "source": [
    "saved_path = checkpointer.save(file_prefix=os.path.join(train_dir, \n",
    "                                                        \"ckpt\"))\n",
    "print(f\"Saved checkpoint to: {saved_path}\")"
   ]
  },
  {
   "cell_type": "code",
   "execution_count": null,
   "metadata": {
    "ExecuteTime": {
     "end_time": "2018-09-28T04:35:51.082699Z",
     "start_time": "2018-09-28T04:35:51.033735Z"
    }
   },
   "outputs": [],
   "source": []
  },
  {
   "cell_type": "code",
   "execution_count": null,
   "metadata": {
    "ExecuteTime": {
     "end_time": "2018-09-28T04:30:33.080263Z",
     "start_time": "2018-09-28T04:30:33.036014Z"
    }
   },
   "outputs": [],
   "source": [
    "import sys\n",
    "help(sys.stdout.flush)"
   ]
  },
  {
   "cell_type": "code",
   "execution_count": null,
   "metadata": {
    "ExecuteTime": {
     "end_time": "2018-09-28T04:25:31.415414Z",
     "start_time": "2018-09-28T04:25:31.353734Z"
    }
   },
   "outputs": [],
   "source": [
    "loss, samples, accept_prob"
   ]
  },
  {
   "cell_type": "markdown",
   "metadata": {},
   "source": [
    "### Construct GaugeLattice with SU(3) gauge group"
   ]
  },
  {
   "cell_type": "code",
   "execution_count": null,
   "metadata": {},
   "outputs": [],
   "source": []
  },
  {
   "cell_type": "code",
   "execution_count": null,
   "metadata": {
    "ExecuteTime": {
     "end_time": "2018-09-26T15:12:32.733478Z",
     "start_time": "2018-09-26T15:12:32.504656Z"
    }
   },
   "outputs": [],
   "source": [
    "time_size = 2\n",
    "space_size = 4\n",
    "dim = 4\n",
    "beta = 1.\n",
    "link_type = 'SU3' \n",
    "batch_size = 3\n",
    "gauge_lattice = GaugeLattice(time_size, space_size, dim, beta, link_type)\n",
    "# create `num_samples` random samples of GaugeLattice.links\n",
    "links_samples = gauge_lattice.get_links_samples(batch_size, link_type=link_type)"
   ]
  },
  {
   "cell_type": "code",
   "execution_count": null,
   "metadata": {},
   "outputs": [],
   "source": []
  },
  {
   "cell_type": "code",
   "execution_count": null,
   "metadata": {
    "ExecuteTime": {
     "end_time": "2018-09-26T15:12:40.607989Z",
     "start_time": "2018-09-26T15:12:40.489217Z"
    }
   },
   "outputs": [],
   "source": [
    "gauge_energy_fn = gauge_lattice.get_energy_function()\n",
    "gauge_dynamics = l2hmc.GaugeDynamics(gauge_lattice, \n",
    "                                     minus_loglikelihood_fn=gauge_energy_fn, \n",
    "                                     batch_size=3, n_steps=5, eps=0.1)"
   ]
  },
  {
   "cell_type": "code",
   "execution_count": null,
   "metadata": {
    "ExecuteTime": {
     "end_time": "2018-09-26T15:14:28.743723Z",
     "start_time": "2018-09-26T15:14:28.662992Z"
    }
   },
   "outputs": [],
   "source": [
    "gauge_lattice.links.shape"
   ]
  },
  {
   "cell_type": "code",
   "execution_count": null,
   "metadata": {
    "ExecuteTime": {
     "end_time": "2018-09-26T15:12:45.079360Z",
     "start_time": "2018-09-26T15:12:43.109499Z"
    }
   },
   "outputs": [],
   "source": [
    "potential_arr = gauge_dynamics.potential(links_samples, batch_size)\n",
    "\n",
    "[i.numpy() for i in potential_arr]"
   ]
  },
  {
   "cell_type": "code",
   "execution_count": null,
   "metadata": {
    "ExecuteTime": {
     "end_time": "2018-09-26T15:13:16.255416Z",
     "start_time": "2018-09-26T15:13:16.157588Z"
    }
   },
   "outputs": [],
   "source": [
    "_momentum = tf.random_normal(tf.shape(links_samples))"
   ]
  },
  {
   "cell_type": "code",
   "execution_count": null,
   "metadata": {
    "ExecuteTime": {
     "end_time": "2018-09-26T15:13:23.283119Z",
     "start_time": "2018-09-26T15:13:23.204441Z"
    }
   },
   "outputs": [],
   "source": [
    "gauge_dynamics.kinetic(_momentum).numpy()"
   ]
  },
  {
   "cell_type": "code",
   "execution_count": null,
   "metadata": {
    "ExecuteTime": {
     "end_time": "2018-09-26T15:13:37.712836Z",
     "start_time": "2018-09-26T15:13:35.821847Z"
    }
   },
   "outputs": [],
   "source": [
    "_x = links_samples\n",
    "#_momentum = tf.random_normal(tf.shape(_x))\n",
    "_hamiltonian = gauge_dynamics.hamiltonian(_x, _momentum)\n",
    "_hamiltonian"
   ]
  },
  {
   "cell_type": "markdown",
   "metadata": {
    "heading_collapsed": true
   },
   "source": [
    "### Construct IsingLattice"
   ]
  },
  {
   "cell_type": "code",
   "execution_count": null,
   "metadata": {
    "ExecuteTime": {
     "end_time": "2018-09-26T06:37:22.328501Z",
     "start_time": "2018-09-26T06:37:22.220884Z"
    },
    "hidden": true
   },
   "outputs": [],
   "source": [
    "ising_batch_size = 10\n",
    "ising_lattice = IsingLattice(3, 4)\n",
    "ising_samples = [ising_lattice._randomize() for _ in range(ising_batch_size)]"
   ]
  },
  {
   "cell_type": "code",
   "execution_count": null,
   "metadata": {
    "ExecuteTime": {
     "end_time": "2018-09-26T06:37:51.184935Z",
     "start_time": "2018-09-26T06:37:51.073172Z"
    },
    "hidden": true
   },
   "outputs": [],
   "source": [
    "ising_energy_fn = ising_lattice.get_energy_function()\n",
    "ising_dynamics = l2hmc.LatticeDynamics(ising_lattice, \n",
    "                                       minus_loglikelihood_fn=ising_energy_fn,\n",
    "                                       batch_size=ising_batch_size, \n",
    "                                       n_steps=10, eps=0.1)\n",
    "#dynamics = l2hmc.LDynamics(latt.sites.shape, minus_loglikelihood_fn=energy_fn, n_steps=10, eps=0.1)"
   ]
  },
  {
   "cell_type": "code",
   "execution_count": null,
   "metadata": {
    "ExecuteTime": {
     "end_time": "2018-09-26T06:37:54.524077Z",
     "start_time": "2018-09-26T06:37:54.435783Z"
    },
    "hidden": true
   },
   "outputs": [],
   "source": [
    "ising_dynamics.potential(samples, batch_size)"
   ]
  },
  {
   "cell_type": "code",
   "execution_count": null,
   "metadata": {
    "ExecuteTime": {
     "end_time": "2018-09-26T06:38:19.182664Z",
     "start_time": "2018-09-26T06:38:19.078701Z"
    },
    "hidden": true
   },
   "outputs": [],
   "source": [
    "_iposition = ising_samples\n",
    "_imomentum = tf.random_normal(tf.shape(_iposition))\n",
    "_ihamiltonian = dynamics.hamiltonian(_iposition, _imomentum)\n",
    "_ihamiltonian"
   ]
  },
  {
   "cell_type": "code",
   "execution_count": null,
   "metadata": {
    "ExecuteTime": {
     "end_time": "2018-09-26T06:38:30.265961Z",
     "start_time": "2018-09-26T06:38:30.174827Z"
    },
    "hidden": true
   },
   "outputs": [],
   "source": [
    "_isample = _iposition[0].reshape(ising_lattice.num_sites)\n",
    "#dynamics.grad_potential(np.array(_position).reshape(-1, lattice.num_sites))"
   ]
  },
  {
   "cell_type": "code",
   "execution_count": null,
   "metadata": {
    "ExecuteTime": {
     "end_time": "2018-09-26T06:50:33.496377Z",
     "start_time": "2018-09-26T06:50:32.749093Z"
    },
    "hidden": true
   },
   "outputs": [],
   "source": [
    "grad_pot = dynamics.grad_potential(ising_samples)"
   ]
  },
  {
   "cell_type": "code",
   "execution_count": null,
   "metadata": {
    "ExecuteTime": {
     "end_time": "2018-09-26T06:39:02.161470Z",
     "start_time": "2018-09-26T06:39:02.082906Z"
    },
    "hidden": true
   },
   "outputs": [],
   "source": [
    "grad_pot"
   ]
  },
  {
   "cell_type": "code",
   "execution_count": null,
   "metadata": {
    "ExecuteTime": {
     "end_time": "2018-09-26T06:50:55.836732Z",
     "start_time": "2018-09-26T06:50:55.711166Z"
    },
    "hidden": true
   },
   "outputs": [],
   "source": [
    "ising_jacobian = jacobian(dynamics.potential, ising_samples)"
   ]
  },
  {
   "cell_type": "code",
   "execution_count": null,
   "metadata": {
    "ExecuteTime": {
     "end_time": "2018-09-26T06:53:41.426408Z",
     "start_time": "2018-09-26T06:50:59.930638Z"
    },
    "hidden": true
   },
   "outputs": [],
   "source": [
    "%debug"
   ]
  },
  {
   "cell_type": "code",
   "execution_count": null,
   "metadata": {
    "ExecuteTime": {
     "end_time": "2018-09-26T05:56:57.584436Z",
     "start_time": "2018-09-26T05:56:57.504478Z"
    },
    "hidden": true
   },
   "outputs": [],
   "source": [
    "grad_fn = tfe.gradients_function(lattice._calc_energy, params=[0])"
   ]
  },
  {
   "cell_type": "code",
   "execution_count": null,
   "metadata": {
    "ExecuteTime": {
     "end_time": "2018-09-26T06:36:03.157629Z",
     "start_time": "2018-09-26T06:36:03.059724Z"
    },
    "hidden": true
   },
   "outputs": [],
   "source": [
    "_jacobian = jacobian(dynamics.potential, _position)"
   ]
  },
  {
   "cell_type": "code",
   "execution_count": null,
   "metadata": {
    "ExecuteTime": {
     "end_time": "2018-09-26T06:36:46.511568Z",
     "start_time": "2018-09-26T06:36:11.984420Z"
    },
    "hidden": true
   },
   "outputs": [],
   "source": [
    "%debug"
   ]
  },
  {
   "cell_type": "code",
   "execution_count": null,
   "metadata": {
    "ExecuteTime": {
     "end_time": "2018-09-26T05:56:58.246252Z",
     "start_time": "2018-09-26T05:56:58.161898Z"
    },
    "hidden": true
   },
   "outputs": [],
   "source": [
    "lattice.calc_energy(_position, batch_size)"
   ]
  },
  {
   "cell_type": "code",
   "execution_count": null,
   "metadata": {
    "ExecuteTime": {
     "end_time": "2018-09-26T05:57:00.976505Z",
     "start_time": "2018-09-26T05:57:00.753293Z"
    },
    "hidden": true
   },
   "outputs": [],
   "source": [
    "#dynamics.position_fn(momentum, latt.sites.flatten()[:], dynamics)\n",
    "#dynamics._forward_lf(latt.sites.flatten()[:], momentum, 0)\n",
    "dynamics._forward_lf(np.array(_position).reshape(-1, lattice.num_sites),\n",
    "                     np.array(_momentum).reshape(-1, lattice.num_sites), 1)"
   ]
  },
  {
   "cell_type": "markdown",
   "metadata": {},
   "source": [
    "### GMM Model"
   ]
  },
  {
   "cell_type": "code",
   "execution_count": null,
   "metadata": {
    "ExecuteTime": {
     "end_time": "2018-09-26T06:10:50.447543Z",
     "start_time": "2018-09-26T06:10:50.313103Z"
    }
   },
   "outputs": [],
   "source": [
    "sigmas, distribution = gen_ring(1., var=0.02, nb_mixtures=4)\n",
    "\n",
    "gmm_potential = distribution.get_energy_function()\n",
    "gmm_dynamics = _l2hmc.Dynamics(x_dim=2, minus_loglikelihood_fn=gmm_potential,\n",
    "                               n_steps=25, eps=0.1)"
   ]
  },
  {
   "cell_type": "code",
   "execution_count": null,
   "metadata": {
    "ExecuteTime": {
     "end_time": "2018-09-26T06:10:15.922579Z",
     "start_time": "2018-09-26T06:10:15.848574Z"
    }
   },
   "outputs": [],
   "source": [
    "samples = distribution.get_samples(200)"
   ]
  },
  {
   "cell_type": "code",
   "execution_count": null,
   "metadata": {
    "ExecuteTime": {
     "end_time": "2018-09-26T06:15:33.266695Z",
     "start_time": "2018-09-26T06:15:33.179469Z"
    }
   },
   "outputs": [],
   "source": [
    "_position = samples\n",
    "_momentum = tf.random_normal(tf.shape(_position))\n",
    "_hamiltonian = gmm_dynamics.hamiltonian(_position, _momentum)"
   ]
  },
  {
   "cell_type": "code",
   "execution_count": null,
   "metadata": {
    "ExecuteTime": {
     "end_time": "2018-09-26T06:16:02.640952Z",
     "start_time": "2018-09-26T06:16:02.549991Z"
    }
   },
   "outputs": [],
   "source": [
    "grad_pot = gmm_dynamics.grad_potential(_position, _momentum)"
   ]
  },
  {
   "cell_type": "code",
   "execution_count": null,
   "metadata": {
    "ExecuteTime": {
     "end_time": "2018-09-26T06:16:23.336890Z",
     "start_time": "2018-09-26T06:16:23.257397Z"
    }
   },
   "outputs": [],
   "source": [
    "grad_pot.shape"
   ]
  },
  {
   "cell_type": "code",
   "execution_count": null,
   "metadata": {},
   "outputs": [],
   "source": []
  }
 ],
 "metadata": {
  "hide_input": false,
  "kernelspec": {
   "display_name": "Python 3",
   "language": "python",
   "name": "python3"
  },
  "language_info": {
   "codemirror_mode": {
    "name": "ipython",
    "version": 3
   },
   "file_extension": ".py",
   "mimetype": "text/x-python",
   "name": "python",
   "nbconvert_exporter": "python",
   "pygments_lexer": "ipython3",
   "version": "3.6.5"
  },
  "latex_envs": {
   "LaTeX_envs_menu_present": true,
   "autoclose": false,
   "autocomplete": true,
   "bibliofile": "biblio.bib",
   "cite_by": "apalike",
   "current_citInitial": 1,
   "eqLabelWithNumbers": true,
   "eqNumInitial": 1,
   "hotkeys": {
    "equation": "Ctrl-E",
    "itemize": "Ctrl-I"
   },
   "labels_anchors": false,
   "latex_user_defs": false,
   "report_style_numbering": false,
   "user_envs_cfg": false
  },
  "varInspector": {
   "cols": {
    "lenName": 16,
    "lenType": 16,
    "lenVar": 40
   },
   "kernels_config": {
    "python": {
     "delete_cmd_postfix": "",
     "delete_cmd_prefix": "del ",
     "library": "var_list.py",
     "varRefreshCmd": "print(var_dic_list())"
    },
    "r": {
     "delete_cmd_postfix": ") ",
     "delete_cmd_prefix": "rm(",
     "library": "var_list.r",
     "varRefreshCmd": "cat(var_dic_list()) "
    }
   },
   "types_to_exclude": [
    "module",
    "function",
    "builtin_function_or_method",
    "instance",
    "_Feature"
   ],
   "window_display": false
  }
 },
 "nbformat": 4,
 "nbformat_minor": 2
}
