{
 "cells": [
  {
   "cell_type": "markdown",
   "metadata": {},
   "source": [
    "# Gauge Observables"
   ]
  },
  {
   "cell_type": "markdown",
   "metadata": {},
   "source": [
    "--------------------------------------------------------------------\n",
    "### TODO:\n",
    "* [x] Generate multiple chain lengths and deal with loading in from multiple `samples_history` files.\n",
    "* [x] Implement the same logic for `observables` as for `samples_history`.\n",
    "* [x] Modify remainder of code below to deal with case where `samples` and `observables` are dictionaries with keys specifying the length of the MCMC chain.\n",
    "* [x] Re-run the cells below for the remainder of `HMC` directory to get ESS values for comparing against ESS from L2HMC.\n",
    "* [x] Try training sampler for >> 1000 steps and running the trained sampler for a variety of different chain lengths to see what the integrated autocorrelation time approaches as  $N_{steps} \\longrightarrow \\infty$.\n",
    "--------------------------------------------------------------------"
   ]
  },
  {
   "cell_type": "code",
   "execution_count": 1,
   "metadata": {
    "ExecuteTime": {
     "end_time": "2019-03-09T17:52:29.610321Z",
     "start_time": "2019-03-09T17:51:56.036624Z"
    }
   },
   "outputs": [],
   "source": [
    "import os\n",
    "import sys\n",
    "import time\n",
    "import pickle\n",
    "import numpy as np\n",
    "import tensorflow as tf\n",
    "import matplotlib.pyplot as plt\n",
    "import pandas as pd\n",
    "\n",
    "from pandas.plotting import autocorrelation_plot\n",
    "from scipy.special import i0, i1\n",
    "\n",
    "module_path = os.path.abspath(os.path.join('..'))\n",
    "if module_path not in sys.path:\n",
    "    sys.path.append(module_path)\n",
    "    \n",
    "COLORS = 5 * ['C0', 'C1', 'C2', 'C3', 'C4', 'C5', 'C6', 'C7', 'C8', 'C9']\n",
    "MARKERS = 5 * ['o', 's', 'x', 'v', 'h', '^', 'p', '<', 'd', '>', 'P', 'D']\n",
    "LINESTYLES = ['-', '--', ':', '-.', '-', '--', ':', '-.', '-', '--']\n",
    "\n",
    "tf.enable_eager_execution()\n",
    "tfe = tf.contrib.eager"
   ]
  },
  {
   "cell_type": "code",
   "execution_count": 10,
   "metadata": {
    "ExecuteTime": {
     "end_time": "2019-03-09T17:52:32.039402Z",
     "start_time": "2019-03-09T17:52:29.807002Z"
    }
   },
   "outputs": [],
   "source": [
    "from lattice.lattice import GaugeLattice, u1_plaq_exact\n",
    "#from l2hmc_eager import gauge_dynamics_eager as gde\n",
    "from gauge_model import GaugeModel\n",
    "from utils.file_io import save_params_to_pkl_file\n",
    "from utils.observables import Observables\n",
    "\n",
    "import utils.gauge_model_helpers as helpers\n",
    "from utils.autocorr import *\n",
    "from utils.gauge_observables import *\n",
    "from utils.data_utils import (\n",
    "    calc_avg_vals_errors, block_resampling, jackknife_err\n",
    ")\n",
    "\n",
    "%autoreload 2\n",
    "%matplotlib inline"
   ]
  },
  {
   "cell_type": "markdown",
   "metadata": {},
   "source": [
    "## Helper functions"
   ]
  },
  {
   "cell_type": "code",
   "execution_count": 11,
   "metadata": {
    "ExecuteTime": {
     "end_time": "2019-03-09T17:52:32.437003Z",
     "start_time": "2019-03-09T17:52:32.244330Z"
    }
   },
   "outputs": [],
   "source": [
    "def check_else_make_dir(d):\n",
    "    if not os.path.isdir(d):\n",
    "        print(f\"Making directory: {d}\")\n",
    "        os.makedirs(d)\n",
    "        \n",
    "def plot_individual_observables(figs_dir, observables, top_charges_autocorr):\n",
    "    multiple_lines_figs_axes = make_multiple_lines_plots(\n",
    "        figs_dir,\n",
    "        params['beta_final'],\n",
    "        observables,\n",
    "        top_charges_autocorr,\n",
    "        legend=False\n",
    "    )\n",
    "    return multiple_lines_figs_axes\n",
    "\n",
    "def plot_individual_acf_iat(acf_arr, iat_arr, ess_arr, figs_dir):\n",
    "    out_file = os.path.join(\n",
    "        figs_dir, \n",
    "        'integrated_autocorrelation_time_plot.pdf'\n",
    "    )\n",
    "    kwargs = {\n",
    "        'x_label': 'Lag',\n",
    "        'y_label': 'Autocorrelation (top. charge)',\n",
    "        'legend': True,\n",
    "        'out_file': out_file\n",
    "    }\n",
    "    fig, ax = plot_autocorr_with_iat(acf_arr, iat_arr, ess_arr, **kwargs)\n",
    "    \n",
    "    return fig, ax\n",
    "        "
   ]
  },
  {
   "cell_type": "markdown",
   "metadata": {},
   "source": [
    "## Observables analysis"
   ]
  },
  {
   "cell_type": "markdown",
   "metadata": {},
   "source": [
    "### Helper functions"
   ]
  },
  {
   "cell_type": "code",
   "execution_count": 12,
   "metadata": {
    "ExecuteTime": {
     "end_time": "2019-03-09T18:05:00.134421Z",
     "start_time": "2019-03-09T18:05:00.077702Z"
    }
   },
   "outputs": [],
   "source": [
    "def load_stats_and_observables(d):\n",
    "    \"\"\"Load actions, plaqs. and top. charges from `.pkl` files in dir `d`.\"\"\"\n",
    "    actions_file = [\n",
    "        os.path.join(d, i) for i in os.listdir(d) \n",
    "        if i.startswith('actions_steps') and i.endswith('.pkl')\n",
    "    ]\n",
    "    plaqs_file = [\n",
    "        os.path.join(d, i) for i in os.listdir(d) \n",
    "        if i.startswith('plaqs_steps') and i.endswith('.pkl')\n",
    "    ]\n",
    "    charges_file = [\n",
    "        os.path.join(d, i) for i in os.listdir(d) \n",
    "        if i.startswith('charges_steps') and i.endswith('.pkl')\n",
    "    ]\n",
    "    tun_events_file = [\n",
    "        os.path.join(d, i) for i in os.listdir(d)\n",
    "        if i.startswith('tunn_events') and i.endswith('.pkl')\n",
    "    ]\n",
    "    with open(actions_file[0], 'rb') as f:\n",
    "        actions_dict = pickle.load(f)\n",
    "    with open(plaqs_file[0], 'rb') as f:\n",
    "        plaqs_dict = pickle.load(f)\n",
    "    with open(charges_file[0], 'rb') as f:\n",
    "        charges_dict = pickle.load(f)\n",
    "    with open(tun_events_file[0], 'rb') as f:\n",
    "        tun_events = pickle.load(f)\n",
    "        \n",
    "    return actions_dict, plaqs_dict, charges_dict, tun_events"
   ]
  },
  {
   "cell_type": "code",
   "execution_count": null,
   "metadata": {},
   "outputs": [],
   "source": [
    "def plot_observables(observables, current_step=None):\n",
    "    \"\"\"Plot observables stored in `observables`.\n",
    "    \n",
    "    Args:\n",
    "        observables: Tuple of (actions_dict, plaqs_dict, charges_dict).\n",
    "    \"\"\"\n",
    "    actions_dict = observables[0]\n",
    "    plaqs_dict = observables[1]\n",
    "    charges_dict = observables[2]\n",
    "    \n",
    "    actions_arr = np.array(list(actions_dict.values()))\n",
    "    plaqs_arr = np.array(list(plaqs_dict.values()))\n",
    "    charges_arr = np.array(list(charges_dict.values()))\n",
    "    \n",
    "    keys_arr = np.array(list(actions_dict.keys()))\n",
    "    steps_arr = keys_arr[:, 0]\n",
    "    beta = keys_arr[0, 1]\n",
    "    \n",
    "    if current_step is None:\n",
    "        title_str = (r\"$\\beta = $\"\n",
    "                     f\"{beta}\") # \", {len(steps)} eval steps\")\n",
    "    else:\n",
    "        title_str = (r\"$\\beta = $\"\n",
    "                     f\"{beta}, after {current_step} training steps\")\n",
    "        \n",
    "    ######################\n",
    "    # Total actions plots\n",
    "    ######################\n",
    "    kwargs = {\n",
    "        'out_file': None,\n",
    "        'markers': False,\n",
    "        'lines': True,\n",
    "        'alpha': 0.6,\n",
    "        'title': title_str,\n",
    "        'legend': False,\n",
    "        'ret': False,\n",
    "    }\n",
    "    plot_multiple_lines(steps_arr, actions_arr.T, x_label='Step',\n",
    "                        y_label='Total action', **kwargs)\n",
    "\n",
    "    ###########################\n",
    "    # Average plaquettes plots\n",
    "    ###########################\n",
    "    kwargs['ret'] = True\n",
    "    _, ax = plot_multiple_lines(steps_arr, plaqs_arr.T, x_label='Step',\n",
    "                                y_label='Avg. plaquette', **kwargs)\n",
    "\n",
    "    _ = ax.axhline(y=u1_plaq_exact(beta),\n",
    "                   color='#CC0033', ls='-', lw=2.5, label='exact')\n",
    "\n",
    "    _ = ax.plot(steps_arr, plaqs_arr.T.mean(axis=0),\n",
    "                color='k', label='average', alpha=0.75)\n",
    "\n",
    "    #plt.savefig(plaqs_plt_file, dpi=400, bbox_inches='tight')\n",
    "\n",
    "    ############################\n",
    "    # Topological charge plots\n",
    "    ############################\n",
    "    kwargs['markers'] = True\n",
    "    kwargs['lines'] = False\n",
    "    kwargs['alpha'] = 1.\n",
    "    kwargs['ret'] = False\n",
    "    plot_multiple_lines(steps_arr, charges_arr.T, x_label='Step',\n",
    "                        y_label='Topological charge', **kwargs)"
   ]
  },
  {
   "cell_type": "code",
   "execution_count": 13,
   "metadata": {
    "ExecuteTime": {
     "end_time": "2019-03-09T18:05:01.530508Z",
     "start_time": "2019-03-09T18:05:01.438568Z"
    }
   },
   "outputs": [],
   "source": [
    "def _plot_observables(self, observables, beta, current_step=None):\n",
    "    \"\"\"Plot observables stored in `observables`.\"\"\"\n",
    "    if not HAS_MATPLOTLIB:\n",
    "        return\n",
    "\n",
    "    io.log(\"Plotting observables...\")\n",
    "    #  samples_history = observables[0]\n",
    "    actions_dict = observables[0]\n",
    "    plaqs_dict = observables[1]\n",
    "    charges_dict = observables[2]\n",
    "    tun_events_dict = observables[3]\n",
    "\n",
    "    actions_arr = np.array(list(actions_dict.values()))\n",
    "    plaqs_arr = np.array(list(plaqs_dict.values()))\n",
    "    charges_arr = np.array(list(charges_dict.values()))\n",
    "    tun_events_arr = np.array(list(tun_events_dict.values()))\n",
    "\n",
    "    num_steps = actions_arr.shape[0]\n",
    "    steps_arr = np.arange(num_steps)\n",
    "\n",
    "    #out_dir, key = get_plot_dir(charges_arr, beta, current_step)\n",
    "\n",
    "    title_str = (r\"$\\beta = $\"\n",
    "                 f\"{beta}, {num_steps} {key} steps, \"\n",
    "                 f\"{self.num_samples} samples\")\n",
    "    #actions_plt_file = os.path.join(out_dir, 'total_actions_vs_step.png')\n",
    "    #plaqs_plt_file = os.path.join(out_dir, 'avg_plaquettes_vs_step.png')\n",
    "    #charges_plt_file = os.path.join(out_dir, 'top_charges_vs_step.png')\n",
    "    #tun_events_plt_file = os.path.join(out_dir, 'tun_events_vs_step.png')\n",
    "\n",
    "    ######################################################################\n",
    "    # Total actions plots\n",
    "    ######################################################################\n",
    "    kwargs = {\n",
    "        'out_file': actions_plt_file,\n",
    "        'markers': False,\n",
    "        'lines': True,\n",
    "        'alpha': 0.6,\n",
    "        'title': title_str,\n",
    "        'legend': False,\n",
    "        'ret': False,\n",
    "    }\n",
    "    plot_multiple_lines(steps_arr, actions_arr.T, x_label='Step',\n",
    "                        y_label='Total action', **kwargs)\n",
    "\n",
    "    ######################################################################\n",
    "    # Average plaquettes plots\n",
    "    ######################################################################\n",
    "    kwargs['out_file'] = None\n",
    "    kwargs['ret'] = True\n",
    "    _, ax = plot_multiple_lines(steps_arr, plaqs_arr.T, x_label='Step',\n",
    "                                y_label='Avg. plaquette', **kwargs)\n",
    "\n",
    "    _ = ax.axhline(y=u1_plaq_exact(beta),\n",
    "                   color='#CC0033', ls='-', lw=2.5, label='exact')\n",
    "\n",
    "    _ = ax.plot(steps_arr, plaqs_arr.T.mean(axis=0),\n",
    "                color='k', label='average', alpha=0.75)\n",
    "\n",
    "    #plt.savefig(plaqs_plt_file, dpi=400, bbox_inches='tight')\n",
    "\n",
    "    ######################################################################\n",
    "    # Topological charge plots\n",
    "    ######################################################################\n",
    "    kwargs['out_file'] = charges_plt_file\n",
    "    kwargs['markers'] = True\n",
    "    kwargs['lines'] = False\n",
    "    kwargs['alpha'] = 1.\n",
    "    kwargs['ret'] = False\n",
    "    plot_multiple_lines(steps_arr, charges_arr.T, x_label='Step',\n",
    "                        y_label='Topological charge', **kwargs)\n",
    "\n",
    "    ######################################################################\n",
    "    # Tunneling events plots\n",
    "    ######################################################################\n",
    "    _, ax = plt.subplots()\n",
    "    ax.plot(steps_arr, tun_events_arr,\n",
    "            marker='.', ls='', fillstyle='none', color='C0')\n",
    "    ax.set_xlabel('Steps', fontsize=14)\n",
    "    ax.set_ylabel('Number of tunneling events', fontsize=14)\n",
    "    ax.set_title(title_str, fontsize=16)\n",
    "    io.log(f\"Saving figure to: {tun_events_plt_file}\")\n",
    "    plt.savefig(tun_events_plt_file, dpi=400, bbox_inches='tight')\n",
    "    io.log('done.')\n",
    "\n",
    "    return 1\n",
    "\n"
   ]
  },
  {
   "cell_type": "code",
   "execution_count": null,
   "metadata": {},
   "outputs": [],
   "source": [
    "def _plot_tun_events(tun_events_dict):\n",
    "    \"\"\"Plot num. of tunneling events vs. training step after training.\"\"\"\n",
    "    if not HAS_MATPLOTLIB:\n",
    "        return\n",
    "    #  tun_events_keys = np.array(list(self.tunn_events_dict.keys()))\n",
    "    tun_events_vals = np.array(list(tunn_events_dict.values()))\n",
    "    _, ax = plt.subplots()\n",
    "    ax.plot(tun_events_vals, marker='o', ls='', alpha=0.6,\n",
    "            label=f'total across {num_samples} samples')\n",
    "    ax.set_xlabel('Training step', fontsize=14)\n",
    "    ax.set_ylabel(r\"$\\delta Q_{\\mathrm{top}}$\", fontsize=14)\n",
    "    ax.set_title(f\"{num_samples} samples / batch\", fontsize=16)\n",
    "    #  title_str = (f'Number of tunneling events vs. '\n",
    "    #               f'training step for {self.num_samples} samples')\n",
    "    #  ax.set_title(title_str, fontsize=16)\n",
    "    out_file = os.path.join(figs_dir,\n",
    "                            'tunneling_events_vs_training_step.png')\n",
    "    print(f\"Saving figure to: {out_file}.\")\n",
    "    plt.savefig(out_file, dpi=400, bbox_inches='tight')\n",
    "\n",
    "def _plot_top_charges(charges, beta, current_step=None):\n",
    "    \"\"\"Plot top. charge history using samples generated from `self.run`.\"\"\"\n",
    "    if not HAS_MATPLOTLIB:\n",
    "        return\n",
    "\n",
    "    io.log(\"Plotting topological charge vs. step for each sample...\")\n",
    "\n",
    "    out_dir, key = _get_plot_dir(charges, beta, current_step)\n",
    "    io.check_else_make_dir(out_dir)\n",
    "    out_dir = os.path.join(out_dir, 'top_charge_plots')\n",
    "    io.check_else_make_dir(out_dir)\n",
    "\n",
    "    run_steps = charges.shape[0]\n",
    "    title_str = (r\"$\\beta = $\"\n",
    "                 f\"{beta}, {run_steps} {key} steps\")\n",
    "\n",
    "    t0 = time.time()\n",
    "    # if we have more than 10 samples per batch, only plot first 10\n",
    "    for idx in range(min(num_samples, 5)):\n",
    "        _, ax = plt.subplots()\n",
    "        _ = ax.plot(charges[:, idx],\n",
    "                    marker=MARKERS[idx],\n",
    "                    color=COLORS[idx],\n",
    "                    ls='',\n",
    "                    #  fillstyle='none',\n",
    "                    alpha=0.6,\n",
    "                    label=f'sample {idx}')\n",
    "        _ = ax.legend(loc='best')\n",
    "        _ = ax.set_xlabel('Step', fontsize=14)\n",
    "        _ = ax.set_ylabel('Topological charge', fontsize=14)\n",
    "        _ = ax.set_title(title_str, fontsize=16)\n",
    "        out_file = os.path.join(out_dir, f'top_charge_vs_step_{idx}.png')\n",
    "        io.log(f\"  Saving top. charge plot to {out_file}.\")\n",
    "        plt.savefig(out_file, dpi=400, bbox_inches='tight')\n",
    "    io.log(f'done. took: {time.time() - t0:.4g}')\n",
    "    plt.close('all')\n",
    "\n",
    "def _plot_top_charge_probs(charges, beta, current_step=None):\n",
    "    \"\"\"Create scatter plot of frequency of topological charge values.\"\"\"\n",
    "    io.log(\"Plotting top. charge probability vs. value\")\n",
    "    out_dir, key = _get_plot_dir(charges, beta, current_step)\n",
    "    io.check_else_make_dir(out_dir)\n",
    "    out_dir = os.path.join(out_dir, 'top_charge_probs')\n",
    "    io.check_else_make_dir(out_dir)\n",
    "\n",
    "    run_steps = charges.shape[0]\n",
    "    title_str = (r\"$\\beta = $\"\n",
    "                 f\"{beta}, {run_steps} {key} steps\")\n",
    "\n",
    "    # if we have more than 10 samples per batch, only plot first 10\n",
    "    for idx in range(min(num_samples, 10)):\n",
    "        counts = Counter(charges[:, idx])\n",
    "        total_counts = np.sum(list(counts.values()))\n",
    "        _, ax = plt.subplots()\n",
    "        ax.plot(list(counts.keys()),\n",
    "                np.array(list(counts.values()) / total_counts),\n",
    "                marker=MARKERS[idx],\n",
    "                color=COLORS[idx],\n",
    "                ls='',\n",
    "                label=f'sample {idx}')\n",
    "        _ = ax.legend(loc='best')\n",
    "        _ = ax.set_xlabel('Topological charge', fontsize=14)\n",
    "        _ = ax.set_ylabel('Probability', fontsize=14)\n",
    "        _ = ax.set_title(title_str, fontsize=16)\n",
    "        out_file = os.path.join(out_dir,\n",
    "                                f'top_charge_prob_vs_val_{idx}.png')\n",
    "        io.log(f'Saving figure to: {out_file}.')\n",
    "        _ = plt.savefig(out_file, dpi=400, bbox_inches='tight')\n",
    "        plt.close('all')\n",
    "\n",
    "    all_counts = Counter(list(charges.flatten()))\n",
    "    total_counts = np.sum(list(counts.values()))\n",
    "    _, ax = plt.subplots()\n",
    "    ax.plot(list(all_counts.keys()),\n",
    "            np.array(list(all_counts.values()) / (total_counts *\n",
    "                                                  num_samples)),\n",
    "            marker='o',\n",
    "            color='C0',\n",
    "            ls='',\n",
    "            alpha=0.6,\n",
    "            label=f'total across {num_samples} samples')\n",
    "    _ = ax.legend(loc='best')\n",
    "    _ = ax.set_xlabel('Topological charge', fontsize=14)\n",
    "    _ = ax.set_ylabel('Probability', fontsize=14)\n",
    "    #  _ = ax.set_title(title_str, fontsize=16)\n",
    "    out_file = os.path.join(out_dir,\n",
    "                            f'TOP_CHARGE_FREQUENCY_VS_VAL_TOTAL.png')\n",
    "    io.log(f'Saving figure to: {out_file}.')\n",
    "    _ = plt.savefig(out_file, dpi=400, bbox_inches='tight')\n",
    "    plt.close('all')"
   ]
  },
  {
   "cell_type": "code",
   "execution_count": 14,
   "metadata": {
    "ExecuteTime": {
     "end_time": "2019-03-09T18:05:02.353260Z",
     "start_time": "2019-03-09T18:05:02.276743Z"
    }
   },
   "outputs": [],
   "source": [
    "def _plot_tun_events(tun_events_dict):\n",
    "    \"\"\"Plot num. of tunneling events vs. training step after training.\"\"\"\n",
    "    if not HAS_MATPLOTLIB:\n",
    "        return\n",
    "    #  tun_events_keys = np.array(list(self.tunn_events_dict.keys()))\n",
    "    tun_events_vals = np.array(list(tun_events_dict.values()))\n",
    "    _, ax = plt.subplots()\n",
    "    ax.plot(tun_events_vals, marker='o', ls='', alpha=0.6,\n",
    "            label=f'total across {self.num_samples} samples')\n",
    "    ax.set_xlabel('Training step', fontsize=14)\n",
    "    ax.set_ylabel(r\"$\\delta Q_{\\mathrm{top}}$\", fontsize=14)\n",
    "    ax.set_title(f\"{self.num_samples} samples / batch\", fontsize=16)\n",
    "    #  title_str = (f'Number of tunneling events vs. '\n",
    "    #               f'training step for {self.num_samples} samples')\n",
    "    #  ax.set_title(title_str, fontsize=16)\n",
    "    #out_file = os.path.join(self.figs_dir,\n",
    "    #                        'tunneling_events_vs_training_step.png')\n",
    "    #print(f\"Saving figure to: {out_file}.\")\n",
    "    #plt.savefig(out_file, dpi=400, bbox_inches='tight')\n",
    "\n",
    "def plot_top_charges(charges, beta, current_step=None):\n",
    "    \"\"\"Plot top. charge history using samples generated from `self.run`.\"\"\"\n",
    "    if not HAS_MATPLOTLIB:\n",
    "        return\n",
    "\n",
    "    io.log(\"Plotting topological charge vs. step for each sample...\")\n",
    "\n",
    "    #out_dir, key = get_plot_dir(charges, beta, current_step)\n",
    "    #io.check_else_make_dir(out_dir)\n",
    "    #out_dir = os.path.join(out_dir, 'top_charge_plots')\n",
    "    #io.check_else_make_dir(out_dir)\n",
    "\n",
    "    run_steps = charges.shape[0]\n",
    "    title_str = (r\"$\\beta = $\"\n",
    "                 f\"{beta}, {run_steps} {key} steps\")\n",
    "\n",
    "    t0 = time.time()\n",
    "    # if we have more than 10 samples per batch, only plot first 10\n",
    "    for idx in range(min(num_samples, 5)):\n",
    "        _, ax = plt.subplots()\n",
    "        _ = ax.plot(charges[:, idx],\n",
    "                    marker=MARKERS[idx],\n",
    "                    color=COLORS[idx],\n",
    "                    ls='',\n",
    "                    #  fillstyle='none',\n",
    "                    alpha=0.6,\n",
    "                    label=f'sample {idx}')\n",
    "        _ = ax.legend(loc='best')\n",
    "        _ = ax.set_xlabel('Step', fontsize=14)\n",
    "        _ = ax.set_ylabel('Topological charge', fontsize=14)\n",
    "        _ = ax.set_title(title_str, fontsize=16)\n",
    "        out_file = os.path.join(out_dir, f'top_charge_vs_step_{idx}.png')\n",
    "        io.log(f\"  Saving top. charge plot to {out_file}.\")\n",
    "        plt.savefig(out_file, dpi=400, bbox_inches='tight')\n",
    "    io.log(f'done. took: {time.time() - t0:.4g}')\n",
    "    plt.close('all')\n",
    "\n",
    "def plot_top_charge_probs(charges, beta, current_step=None):\n",
    "    \"\"\"Create scatter plot of frequency of topological charge values.\"\"\"\n",
    "    io.log(\"Plotting top. charge probability vs. value\")\n",
    "    #out_dir, key = get_plot_dir(charges, beta, current_step)\n",
    "    #io.check_else_make_dir(out_dir)\n",
    "    #out_dir = os.path.join(out_dir, 'top_charge_probs')\n",
    "    #io.check_else_make_dir(out_dir)\n",
    "\n",
    "    run_steps = charges.shape[0]\n",
    "    title_str = (r\"$\\beta = $\"\n",
    "                 f\"{beta}, {run_steps} {key} steps\")\n",
    "\n",
    "    # if we have more than 10 samples per batch, only plot first 10\n",
    "    for idx in range(min(num_samples, 10)):\n",
    "        counts = Counter(charges[:, idx])\n",
    "        total_counts = np.sum(list(counts.values()))\n",
    "        _, ax = plt.subplots()\n",
    "        ax.plot(list(counts.keys()),\n",
    "                np.array(list(counts.values()) / total_counts),\n",
    "                marker=MARKERS[idx],\n",
    "                color=COLORS[idx],\n",
    "                ls='',\n",
    "                label=f'sample {idx}')\n",
    "        _ = ax.legend(loc='best')\n",
    "        _ = ax.set_xlabel('Topological charge', fontsize=14)\n",
    "        _ = ax.set_ylabel('Probability', fontsize=14)\n",
    "        _ = ax.set_title(title_str, fontsize=16)\n",
    "        out_file = os.path.join(out_dir,\n",
    "                                f'top_charge_prob_vs_val_{idx}.png')\n",
    "        io.log(f'Saving figure to: {out_file}.')\n",
    "        _ = plt.savefig(out_file, dpi=400, bbox_inches='tight')\n",
    "        plt.close('all')\n",
    "\n",
    "    all_counts = Counter(list(charges.flatten()))\n",
    "    total_counts = np.sum(list(counts.values()))\n",
    "    _, ax = plt.subplots()\n",
    "    ax.plot(list(all_counts.keys()),\n",
    "            np.array(list(all_counts.values()) / (total_counts * num_samples)),\n",
    "            marker='o',\n",
    "            color='C0',\n",
    "            ls='',\n",
    "            alpha=0.6,\n",
    "            label=f'total across {self.num_samples} samples')\n",
    "    _ = ax.legend(loc='best')\n",
    "    _ = ax.set_xlabel('Topological charge', fontsize=14)\n",
    "    _ = ax.set_ylabel('Probability', fontsize=14)\n",
    "    #  _ = ax.set_title(title_str, fontsize=16)\n",
    "    #out_file = os.path.join(out_dir,\n",
    "    #                        f'TOP_CHARGE_FREQUENCY_VS_VAL_TOTAL.png')\n",
    "    #io.log(f'Saving figure to: {out_file}.')\n",
    "    #_ = plt.savefig(out_file, dpi=400, bbox_inches='tight')\n",
    "    #plt.close('all')\n"
   ]
  },
  {
   "cell_type": "markdown",
   "metadata": {},
   "source": [
    "### Define log_dir and traverse directory structure"
   ]
  },
  {
   "cell_type": "code",
   "execution_count": 15,
   "metadata": {
    "ExecuteTime": {
     "end_time": "2019-03-09T18:05:03.970421Z",
     "start_time": "2019-03-09T18:05:03.916022Z"
    }
   },
   "outputs": [],
   "source": [
    "log_dir = os.path.join('..', '..', 'gauge_logs_graph', 'run_381')\n",
    "info_dir = os.path.join(log_dir, 'run_info')\n",
    "figs_dir = os.path.join(log_dir, 'figures')\n",
    "eval_dir = os.path.join(log_dir, 'eval_info')\n",
    "obs_dir = os.path.join(eval_dir, 'observables')\n",
    "training_obs_dir = os.path.join(obs_dir, 'training')"
   ]
  },
  {
   "cell_type": "code",
   "execution_count": 16,
   "metadata": {
    "ExecuteTime": {
     "end_time": "2019-03-09T18:05:04.833192Z",
     "start_time": "2019-03-09T18:05:04.773343Z"
    }
   },
   "outputs": [
    {
     "data": {
      "text/plain": [
       "['../../gauge_logs_graph/run_381/eval_info/observables/steps_20000_beta_3.0',\n",
       " '../../gauge_logs_graph/run_381/eval_info/observables/steps_20000_beta_4.0',\n",
       " '../../gauge_logs_graph/run_381/eval_info/observables/steps_50000_beta_3.0',\n",
       " '../../gauge_logs_graph/run_381/eval_info/observables/steps_50000_beta_4.0']"
      ]
     },
     "execution_count": 16,
     "metadata": {},
     "output_type": "execute_result"
    },
    {
     "data": {
      "text/plain": [
       "['../../gauge_logs_graph/run_381/eval_info/observables/training/1000_TRAIN_steps_500_beta_4.0',\n",
       " '../../gauge_logs_graph/run_381/eval_info/observables/training/2000_TRAIN_steps_500_beta_4.0',\n",
       " '../../gauge_logs_graph/run_381/eval_info/observables/training/3000_TRAIN_steps_500_beta_4.0',\n",
       " '../../gauge_logs_graph/run_381/eval_info/observables/training/4000_TRAIN_steps_500_beta_4.0',\n",
       " '../../gauge_logs_graph/run_381/eval_info/observables/training/5000_TRAIN_steps_500_beta_4.0']"
      ]
     },
     "execution_count": 16,
     "metadata": {},
     "output_type": "execute_result"
    }
   ],
   "source": [
    "obs_dirs = [\n",
    "    os.path.join(obs_dir, i) for i in os.listdir(obs_dir) if 'steps' in i\n",
    "]\n",
    "training_obs_dirs = [\n",
    "    os.path.join(training_obs_dir, i) for i in os.listdir(training_obs_dir)\n",
    "]\n",
    "obs_dirs\n",
    "training_obs_dirs"
   ]
  },
  {
   "cell_type": "code",
   "execution_count": 17,
   "metadata": {
    "ExecuteTime": {
     "end_time": "2019-03-09T18:05:05.506459Z",
     "start_time": "2019-03-09T18:05:05.461781Z"
    }
   },
   "outputs": [],
   "source": [
    "#obs = Observables(log_dir, data_dir=obs_dirs[-1])\n",
    "#obs.plot_observables(obs._observables, beta=4.)"
   ]
  },
  {
   "cell_type": "code",
   "execution_count": 18,
   "metadata": {
    "ExecuteTime": {
     "end_time": "2019-03-09T18:05:06.195220Z",
     "start_time": "2019-03-09T18:05:06.141497Z"
    }
   },
   "outputs": [],
   "source": [
    "run_steps = [int(i.split('/')[-1].split('_')[1]) for i in obs_dirs]\n",
    "betas = [float(i.split('/')[-1].split('_')[-1]) for i in obs_dirs]\n",
    "\n",
    "training_steps = [\n",
    "    int(i.split('/')[-1].split('_')[0]) for i in training_obs_dirs\n",
    "]\n",
    "training_run_steps = [\n",
    "    int(i.split('/')[-1].split('_')[3]) for i in training_obs_dirs\n",
    "]\n",
    "training_betas = [\n",
    "    float(i.split('/')[-1].split('_')[-1]) for i in training_obs_dirs\n",
    "]"
   ]
  },
  {
   "cell_type": "code",
   "execution_count": 19,
   "metadata": {
    "ExecuteTime": {
     "end_time": "2019-03-09T18:05:07.206312Z",
     "start_time": "2019-03-09T18:05:06.694409Z"
    }
   },
   "outputs": [],
   "source": [
    "output =  load_stats_and_observables(obs_dirs[0])\n",
    "actions_dict, plaqs_dict, charges_dict, tun_events = output"
   ]
  },
  {
   "cell_type": "code",
   "execution_count": 20,
   "metadata": {},
   "outputs": [],
   "source": [
    "actions_arr = np.array(list(actions_dict.values()))\n",
    "plaqs_arr = np.array(list(plaqs_dict.values()))\n",
    "charges_arr = np.array(list(charges_dict.values()))\n",
    "\n",
    "keys_arr = np.array(list(actions_dict.keys()))\n",
    "steps_arr = keys_arr[:, 0]\n",
    "beta = keys_arr[0, 1]"
   ]
  },
  {
   "cell_type": "code",
   "execution_count": 21,
   "metadata": {},
   "outputs": [],
   "source": [
    "from utils.plot_helper import plot_multiple_lines"
   ]
  },
  {
   "cell_type": "code",
   "execution_count": 22,
   "metadata": {},
   "outputs": [
    {
     "data": {
      "text/plain": [
       "1"
      ]
     },
     "execution_count": 22,
     "metadata": {},
     "output_type": "execute_result"
    },
    {
     "data": {
      "image/png": "[encoded data removed]",
      "text/plain": [
       "<Figure size 432x288 with 1 Axes>"
      ]
     },
     "metadata": {
      "needs_background": "light"
     },
     "output_type": "display_data"
    }
   ],
   "source": []
  },
  {
   "cell_type": "code",
   "execution_count": 25,
   "metadata": {},
   "outputs": [
    {
     "data": {
      "text/plain": [
       "1"
      ]
     },
     "execution_count": 25,
     "metadata": {},
     "output_type": "execute_result"
    },
    {
     "data": {
      "text/plain": [
       "1"
      ]
     },
     "execution_count": 25,
     "metadata": {},
     "output_type": "execute_result"
    },
    {
     "data": {
      "image/png": "[encoded data removed]",
      "text/plain": [
       "<Figure size 432x288 with 1 Axes>"
      ]
     },
     "metadata": {
      "needs_background": "light"
     },
     "output_type": "display_data"
    },
    {
     "data": {
      "image/png": "[encoded data removed]",
      "text/plain": [
       "<Figure size 432x288 with 1 Axes>"
      ]
     },
     "metadata": {
      "needs_background": "light"
     },
     "output_type": "display_data"
    },
    {
     "data": {
      "image/png": "[encoded data removed]",
      "text/plain": [
       "<Figure size 432x288 with 1 Axes>"
      ]
     },
     "metadata": {
      "needs_background": "light"
     },
     "output_type": "display_data"
    }
   ],
   "source": [
    "######################\n",
    "# Total actions plots\n",
    "######################\n",
    "title_str = (r\"$\\beta = $\"\n",
    "             f\"{beta}\") # \", {len(steps)} eval steps\")\n",
    "kwargs = {\n",
    "    'out_file': None,\n",
    "    'markers': False,\n",
    "    'lines': True,\n",
    "    'alpha': 0.6,\n",
    "    'title': title_str,\n",
    "    'legend': False,\n",
    "    'ret': False,\n",
    "}\n",
    "plot_multiple_lines(steps_arr, actions_arr.T, x_label='Step', y_label='Total action', **kwargs)\n",
    "\n",
    "###########################\n",
    "# Average plaquettes plots\n",
    "###########################\n",
    "kwargs['ret'] = True\n",
    "_, ax = plot_multiple_lines(steps_arr, plaqs_arr.T, x_label='Step',\n",
    "                            y_label='Avg. plaquette', **kwargs)\n",
    "\n",
    "_ = ax.axhline(y=u1_plaq_exact(beta),\n",
    "               color='#CC0033', ls='-', lw=2.5, label='exact')\n",
    "\n",
    "_ = ax.plot(steps_arr, plaqs_arr.T.mean(axis=0),\n",
    "            color='k', label='average', alpha=0.75)\n",
    "\n",
    "\n",
    "############################\n",
    "# Topological charge plots\n",
    "############################\n",
    "kwargs['markers'] = True\n",
    "kwargs['lines'] = False\n",
    "kwargs['alpha'] = 1.\n",
    "kwargs['ret'] = False\n",
    "plot_multiple_lines(steps_arr, charges_arr.T, x_label='Step',\n",
    "                    y_label='Topological charge', **kwargs)"
   ]
  },
  {
   "cell_type": "code",
   "execution_count": 23,
   "metadata": {},
   "outputs": [],
   "source": []
  },
  {
   "cell_type": "code",
   "execution_count": null,
   "metadata": {},
   "outputs": [],
   "source": []
  },
  {
   "cell_type": "code",
   "execution_count": null,
   "metadata": {},
   "outputs": [],
   "source": []
  },
  {
   "cell_type": "code",
   "execution_count": null,
   "metadata": {},
   "outputs": [],
   "source": []
  },
  {
   "cell_type": "markdown",
   "metadata": {
    "heading_collapsed": true
   },
   "source": [
    "# OLD"
   ]
  },
  {
   "cell_type": "markdown",
   "metadata": {
    "hidden": true
   },
   "source": [
    "## Calculate and plot observables..."
   ]
  },
  {
   "cell_type": "markdown",
   "metadata": {
    "hidden": true
   },
   "source": [
    "### Calculate observables for samples generated **_during_** training:\n",
    "- Every $\\approx 500$ steps or so during training procedure, we run the sampler at $\\beta \\equiv \\beta_{\\mathrm{final}}$. \n",
    "- By calculating observables (``total action``, ``average plaquette``, and ``topological charge``) for these samples and looking at the ``thermalization time``, we can get an idea of how well the sampler is performing.\n",
    "- We expect that as the training procedure continues, the ``thermalization time`` should decrease as the sampler improves."
   ]
  },
  {
   "cell_type": "code",
   "execution_count": null,
   "metadata": {
    "hidden": true
   },
   "outputs": [],
   "source": [
    "# 53.3s\n",
    "plt.close('all')\n",
    "log_dir = os.path.join('..', '..', 'gauge_logs_graph', 'run_233')\n",
    "train_observables_dicts = calc_observables(log_dir,\n",
    "                                           observables_dicts=None,\n",
    "                                           training=True,\n",
    "                                           frac=None)"
   ]
  },
  {
   "cell_type": "code",
   "execution_count": null,
   "metadata": {
    "hidden": true
   },
   "outputs": [],
   "source": [
    "x = np.array([1., 1., 1., -1., -1., -1., 2., -2., 0., 0., 0., -2.])\n",
    "y = np.array([0., 2., -1., -2., 0., 1., 0., 2., -2., 2., 1., -2.])"
   ]
  },
  {
   "cell_type": "code",
   "execution_count": null,
   "metadata": {
    "hidden": true
   },
   "outputs": [],
   "source": [
    "len(x)"
   ]
  },
  {
   "cell_type": "code",
   "execution_count": null,
   "metadata": {
    "hidden": true
   },
   "outputs": [],
   "source": [
    "c1 = np.sqrt(np.sum((x - y))**2)\n",
    "c1"
   ]
  },
  {
   "cell_type": "code",
   "execution_count": null,
   "metadata": {
    "hidden": true
   },
   "outputs": [],
   "source": [
    "c2 = np.sum(np.abs(x-y))\n",
    "c2"
   ]
  },
  {
   "cell_type": "code",
   "execution_count": null,
   "metadata": {
    "hidden": true
   },
   "outputs": [],
   "source": [
    "np.where(x != y)[0]"
   ]
  },
  {
   "cell_type": "code",
   "execution_count": null,
   "metadata": {
    "hidden": true
   },
   "outputs": [],
   "source": [
    "len(np.where(x != y)[0])"
   ]
  },
  {
   "cell_type": "code",
   "execution_count": null,
   "metadata": {
    "hidden": true
   },
   "outputs": [],
   "source": [
    "def tot_diff(x, y):\n",
    "    z = np.where(x != y)[0]\n",
    "    return np.sum([x[i] - y[i] if x[i] > y[i] else y[i] - x[i] for i in z])"
   ]
  },
  {
   "cell_type": "code",
   "execution_count": null,
   "metadata": {
    "hidden": true
   },
   "outputs": [],
   "source": [
    "def tot_diff1(x, y):\n",
    "    return np.sum(np.abs(x-y))"
   ]
  },
  {
   "cell_type": "code",
   "execution_count": null,
   "metadata": {
    "hidden": true
   },
   "outputs": [],
   "source": [
    "xx = np.random.randint(-2, 2, size=1000)\n",
    "yy = np.random.randint(-2, 2, size=1000)"
   ]
  },
  {
   "cell_type": "code",
   "execution_count": null,
   "metadata": {
    "hidden": true
   },
   "outputs": [],
   "source": [
    "i = np.random.randint(-2, 2, size=10)\n",
    "j = np.random.randint(-2, 2, size=10)"
   ]
  },
  {
   "cell_type": "code",
   "execution_count": null,
   "metadata": {
    "hidden": true
   },
   "outputs": [],
   "source": [
    "def tot_diff2(x, y):\n",
    "    return len(np.where(x != y)[0])"
   ]
  },
  {
   "cell_type": "code",
   "execution_count": null,
   "metadata": {
    "hidden": true
   },
   "outputs": [],
   "source": [
    "tf.reduce_sum(i - j)"
   ]
  },
  {
   "cell_type": "code",
   "execution_count": null,
   "metadata": {
    "hidden": true
   },
   "outputs": [],
   "source": [
    "tot_diff1(xx, yy)"
   ]
  },
  {
   "cell_type": "code",
   "execution_count": null,
   "metadata": {
    "hidden": true
   },
   "outputs": [],
   "source": [
    "samples2 = tf.random_normal(samples.shape, dtype=tf.float32)"
   ]
  },
  {
   "cell_type": "code",
   "execution_count": null,
   "metadata": {
    "hidden": true
   },
   "outputs": [],
   "source": [
    "samples = tf.cast(samples, dtype=tf.float32)"
   ]
  },
  {
   "cell_type": "code",
   "execution_count": null,
   "metadata": {
    "hidden": true
   },
   "outputs": [],
   "source": [
    "samples = tf.reshape(samples, shape=(5, -1))\n",
    "samples2 = tf.reshape(samples2, shape=(5, -1))\n",
    "samples.shape, samples2.shape"
   ]
  },
  {
   "cell_type": "code",
   "execution_count": null,
   "metadata": {
    "hidden": true
   },
   "outputs": [],
   "source": [
    "diff = tf.cast(i - j, dtype=tf.float32)"
   ]
  },
  {
   "cell_type": "code",
   "execution_count": null,
   "metadata": {
    "hidden": true
   },
   "outputs": [],
   "source": [
    "loss_ = (tf.reduce_sum(1. - tf.cos(samples - samples2), axis=1)\n",
    "          + tf.reduce_sum(diff))"
   ]
  },
  {
   "cell_type": "code",
   "execution_count": null,
   "metadata": {
    "hidden": true
   },
   "outputs": [],
   "source": [
    "loss_"
   ]
  },
  {
   "cell_type": "code",
   "execution_count": null,
   "metadata": {
    "hidden": true
   },
   "outputs": [],
   "source": [
    "loss_.shape"
   ]
  },
  {
   "cell_type": "code",
   "execution_count": null,
   "metadata": {
    "hidden": true
   },
   "outputs": [],
   "source": [
    "u1_plaq_exact(4.)"
   ]
  },
  {
   "cell_type": "code",
   "execution_count": null,
   "metadata": {
    "hidden": true
   },
   "outputs": [],
   "source": [
    "(i - j).shape"
   ]
  },
  {
   "cell_type": "code",
   "execution_count": null,
   "metadata": {
    "hidden": true
   },
   "outputs": [],
   "source": [
    "ca = []\n",
    "ca.append(i)\n",
    "ca.append(j)\n",
    "tot_diff1(ca[-1], ca[-2])\n",
    "tot_diff2(ca[-1], ca[-2])"
   ]
  },
  {
   "cell_type": "code",
   "execution_count": null,
   "metadata": {
    "hidden": true
   },
   "outputs": [],
   "source": [
    "charges_arr.extend(xx)"
   ]
  },
  {
   "cell_type": "code",
   "execution_count": null,
   "metadata": {
    "hidden": true
   },
   "outputs": [],
   "source": [
    "u1_plaq_exact(2.05)"
   ]
  },
  {
   "cell_type": "code",
   "execution_count": null,
   "metadata": {
    "hidden": true
   },
   "outputs": [],
   "source": [
    "char"
   ]
  },
  {
   "cell_type": "code",
   "execution_count": null,
   "metadata": {
    "hidden": true
   },
   "outputs": [],
   "source": [
    "%timeit d = tot_diff(xx, yy)"
   ]
  },
  {
   "cell_type": "code",
   "execution_count": null,
   "metadata": {
    "hidden": true
   },
   "outputs": [],
   "source": [
    "%timeit d1 = tot_diff1(xx, yy)"
   ]
  },
  {
   "cell_type": "code",
   "execution_count": null,
   "metadata": {
    "hidden": true
   },
   "outputs": [],
   "source": [
    "tot_diff(xx, yy)"
   ]
  },
  {
   "cell_type": "code",
   "execution_count": null,
   "metadata": {
    "hidden": true
   },
   "outputs": [],
   "source": [
    "tot_diff1(xx, yy)"
   ]
  },
  {
   "cell_type": "code",
   "execution_count": null,
   "metadata": {
    "hidden": true
   },
   "outputs": [],
   "source": []
  },
  {
   "cell_type": "code",
   "execution_count": null,
   "metadata": {
    "hidden": true
   },
   "outputs": [],
   "source": []
  },
  {
   "cell_type": "markdown",
   "metadata": {
    "heading_collapsed": true,
    "hidden": true
   },
   "source": [
    "####  Update train_observables_dicts:  \n",
    " * If `observables_dicts` argument of `calc_training_observables` is not `None`, only calculate observables that haven't been previously calculated.  "
   ]
  },
  {
   "cell_type": "code",
   "execution_count": null,
   "metadata": {
    "hidden": true
   },
   "outputs": [],
   "source": [
    "train_observables_dicts = calc_observables(\n",
    "    log_dir, \n",
    "    observables_dicts=train_observables_dicts,\n",
    "    training=True,\n",
    ")"
   ]
  },
  {
   "cell_type": "markdown",
   "metadata": {
    "hidden": true
   },
   "source": [
    "#### Plot observables for samples generated **_during_** training:\n",
    "- In addition, for each batch of samples generated during, plot the topological charge history of each individual chain in the batch."
   ]
  },
  {
   "cell_type": "code",
   "execution_count": null,
   "metadata": {
    "hidden": true
   },
   "outputs": [],
   "source": [
    "figs_axes = plot_observables(log_dir, train_observables_dicts, training=True)"
   ]
  },
  {
   "cell_type": "code",
   "execution_count": null,
   "metadata": {
    "hidden": true
   },
   "outputs": [],
   "source": [
    "plot_top_charges(log_dir, train_observables_dicts[2], training=True)"
   ]
  },
  {
   "cell_type": "code",
   "execution_count": null,
   "metadata": {
    "hidden": true
   },
   "outputs": [],
   "source": [
    "plot_top_charges_counts(log_dir,  train_observables_dicts[2],  training=True)"
   ]
  },
  {
   "cell_type": "markdown",
   "metadata": {
    "hidden": true
   },
   "source": [
    "##### Plot top charges counts totaled over all samples"
   ]
  },
  {
   "cell_type": "code",
   "execution_count": null,
   "metadata": {
    "code_folding": [],
    "hidden": true
   },
   "outputs": [],
   "source": [
    "train_charges_dict = train_observables_dicts[2]\n",
    "params, _, _, _, figs_dir_dict = find_samples(log_dir, training=True)\n",
    "title_str_key = 'training'\n",
    "count_dict = {}\n",
    "idx = 0\n",
    "for key, val in train_charges_dict.items():\n",
    "    step, beta = key\n",
    "    counts = Counter(list(val.flatten()))\n",
    "    count_dict[key] = counts\n",
    "    fig, ax = plt.subplots()\n",
    "    _ = ax.plot(list(counts.keys()), list(counts.values()), \n",
    "                color=COLORS[idx], marker=MARKERS[idx], ls='')\n",
    "                #fillstyle='none')#, label=f'{key} training steps')\n",
    "    idx += 1\n",
    "    _ = ax.set_xlabel('Topological charge', fontsize=14)\n",
    "    _ = ax.set_ylabel('Number of occurrences', fontsize=14)\n",
    "    title_str = (r\"$\\beta = $\"\n",
    "                 + f\"{beta}, \"\n",
    "                 + f\"{step} {title_str_key} steps; \"\n",
    "                 + f\"total across {params['num_samples']} samples\")\n",
    "    _ = ax.set_title(title_str, fontsize=14)\n",
    "    out_dir = os.path.join(\n",
    "        figs_dir_dict[key], 'topological_charges_counts'\n",
    "    )\n",
    "    check_else_make_dir(out_dir)\n",
    "    out_file = os.path.join(\n",
    "        out_dir,\n",
    "        f'topological_charge_counts_total_{step}_steps_beta_{beta}.pdf'\n",
    "    )\n",
    "    #if not os.path.isfile(out_file):\n",
    "    print(f\"Saving figure to {out_file}.\")\n",
    "    _ = fig.savefig(out_file, dpi=400, bbox_inches='tight')"
   ]
  },
  {
   "cell_type": "markdown",
   "metadata": {
    "hidden": true
   },
   "source": [
    "### Calculate observables for samples generated **_after_** training.\n",
    " - Again, samples are generated at $\\beta = \\beta_{\\mathrm{final}}$.\n",
    " - In contrast to the samples generated **_during_** training (which are all ran for $\\sim 100$ steps), we now look at generating longer chains (i.e. longer runs)."
   ]
  },
  {
   "cell_type": "code",
   "execution_count": null,
   "metadata": {
    "code_folding": [
     2
    ],
    "hidden": true
   },
   "outputs": [],
   "source": [
    "plt.close('all')\n",
    "log_dir = os.path.join('..', '..', 'gauge_logs_graph', 'run_227')\n",
    "observables_dicts = calc_observables(log_dir, \n",
    "                                     observables_dicts=None, \n",
    "                                     training=False,\n",
    "                                     frac=4)"
   ]
  },
  {
   "cell_type": "code",
   "execution_count": null,
   "metadata": {
    "code_folding": [
     0
    ],
    "hidden": true
   },
   "outputs": [],
   "source": [
    "observables_dicts = calc_observables(log_dir, \n",
    "                                     observables_dicts=observables_dicts, \n",
    "                                     training=False,\n",
    "                                     frac=4)"
   ]
  },
  {
   "cell_type": "markdown",
   "metadata": {
    "heading_collapsed": true,
    "hidden": true
   },
   "source": [
    "#### Plot observables for samples generated **_after_** training:\n",
    "- In addition, for each batch of samples generated during, plot the topological charge history of each individual chain in the batch."
   ]
  },
  {
   "cell_type": "code",
   "execution_count": null,
   "metadata": {
    "hidden": true
   },
   "outputs": [],
   "source": [
    "figs_axes = plot_observables(log_dir, train_observables_dicts, training=False)"
   ]
  },
  {
   "cell_type": "code",
   "execution_count": null,
   "metadata": {
    "hidden": true
   },
   "outputs": [],
   "source": [
    "plot_top_charges(log_dir, train_observables_dicts[2], training=False)"
   ]
  },
  {
   "cell_type": "code",
   "execution_count": null,
   "metadata": {
    "hidden": true
   },
   "outputs": [],
   "source": [
    "plot_top_charges_counts(log_dir,  train_observables_dicts[2],  training=False)"
   ]
  },
  {
   "cell_type": "markdown",
   "metadata": {
    "heading_collapsed": true,
    "hidden": true
   },
   "source": [
    "##### Plot top charges counts totaled over all samples\n"
   ]
  },
  {
   "cell_type": "code",
   "execution_count": null,
   "metadata": {
    "code_folding": [
     8
    ],
    "hidden": true
   },
   "outputs": [],
   "source": [
    "plt.close('all')\n",
    "COLORS *= 10\n",
    "MARKERS *= 10\n",
    "params, _, _, _, figs_dir_dict = find_samples(log_dir)\n",
    "charges_dict = observables_dicts[2]\n",
    "title_str_key = 'evaluation'\n",
    "count_dict = {}\n",
    "idx = 0\n",
    "for key, val in charges_dict.items():\n",
    "    step, beta = key \n",
    "    counts = Counter(list(val.flatten()))\n",
    "    count_dict[key] = counts\n",
    "    fig, ax = plt.subplots()\n",
    "    _ = ax.plot(list(counts.keys()), list(counts.values()), \n",
    "                color=COLORS[idx], marker=MARKERS[idx], ls='',\n",
    "                fillstyle='full')#, label=f'{key} training steps')\n",
    "    idx += 1\n",
    "    _ = ax.set_xlabel('Topological charge', fontsize=14)\n",
    "    _ = ax.set_ylabel('Number of occurrences', fontsize=14)\n",
    "    title_str = (r\"$\\beta = $\"\n",
    "                 + f\"{beta}, \"\n",
    "                 + f\"{step} steps; \"\n",
    "                 + f\"total across {params['num_samples']} samples\")\n",
    "    _ = ax.set_title(title_str, fontsize=16)\n",
    "    #out_dir = os.path.join(\n",
    "    #    figs_dir_dict[key], 'topological_charges_counts'\n",
    "    #)\n",
    "    #check_else_make_dir(out_dir)\n",
    "    out_file = os.path.join(\n",
    "       figs_dir_dict[key],\n",
    "        f'topological_charge_counts_total_{step}_steps_beta_{beta}.pdf'\n",
    "    )\n",
    "    #if not os.path.isfile(out_file):\n",
    "    print(f\"Saving figure to {out_file}.\")\n",
    "    _ = fig.savefig(out_file, dpi=400, bbox_inches='tight')\n",
    "    plt.show()\n",
    "    plt.close('all')"
   ]
  },
  {
   "cell_type": "code",
   "execution_count": null,
   "metadata": {
    "hidden": true
   },
   "outputs": [],
   "source": []
  }
 ],
 "metadata": {
  "hide_input": false,
  "kernelspec": {
   "display_name": "Python 3",
   "language": "python",
   "name": "python3"
  },
  "language_info": {
   "codemirror_mode": {
    "name": "ipython",
    "version": 3
   },
   "file_extension": ".py",
   "mimetype": "text/x-python",
   "name": "python",
   "nbconvert_exporter": "python",
   "pygments_lexer": "ipython3",
   "version": "3.6.5"
  },
  "varInspector": {
   "cols": {
    "lenName": 16,
    "lenType": 16,
    "lenVar": 40
   },
   "kernels_config": {
    "python": {
     "delete_cmd_postfix": "",
     "delete_cmd_prefix": "del ",
     "library": "var_list.py",
     "varRefreshCmd": "print(var_dic_list())"
    },
    "r": {
     "delete_cmd_postfix": ") ",
     "delete_cmd_prefix": "rm(",
     "library": "var_list.r",
     "varRefreshCmd": "cat(var_dic_list()) "
    }
   },
   "types_to_exclude": [
    "module",
    "function",
    "builtin_function_or_method",
    "instance",
    "_Feature"
   ],
   "window_display": false
  }
 },
 "nbformat": 4,
 "nbformat_minor": 2
}
