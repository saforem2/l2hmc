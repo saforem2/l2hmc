{
 "cells": [
  {
   "cell_type": "markdown",
   "metadata": {},
   "source": [
    "## Imports"
   ]
  },
  {
   "cell_type": "code",
   "execution_count": null,
   "metadata": {},
   "outputs": [],
   "source": [
    "import os\n",
    "import pickle\n",
    "import numpy as np\n",
    "import matplotlib.pyplot as plt\n",
    "from mog_model import *\n",
    "from utils.distributions import *\n",
    "from lattice.ising_lattice import IsingLattice\n",
    "from lattice.gauge_lattice import GaugeLattice\n",
    "from lattice.fields import SU2, SU3\n",
    "from utils.dynamics import *\n",
    "from utils.lattice_dynamics import *\n",
    "from utils.func_utils import accept, jacobian, autocovariance, get_log_likelihood, binarize, normal_kl, acl_spectrum, ESS\n",
    "from utils.network import network, Linear, Sequential, Zip, Parallel, ScaleTanh\n",
    "from utils.sampler import propose\n",
    "from utils.notebook_utils import get_hmc_samples\n",
    "from utils.data_utils import calc_avg_vals_errors, block_resampling, jackknife_err\n",
    "from matplotlib import gridspec\n",
    "from utils.plot_helper import errorbar_plot\n",
    "plt.style.use('/Users/saforem2/.config/matplotlib/stylelib/dark_jupyter.mplstyle')\n",
    "\n",
    "plt.rc('text', usetex=False)\n",
    "plt.rcParams['errorbar.capsize'] = 0\n",
    "%matplotlib notebook\n",
    "%autoreload 2"
   ]
  },
  {
   "cell_type": "code",
   "execution_count": null,
   "metadata": {},
   "outputs": [],
   "source": [
    "sess = tf.InteractiveSession()"
   ]
  },
  {
   "cell_type": "code",
   "execution_count": null,
   "metadata": {},
   "outputs": [],
   "source": [
    "def restart_sess(sess):\n",
    "    tf.reset_default_graph()\n",
    "    sess.close()\n",
    "    return tf.InteractiveSession()"
   ]
  },
  {
   "cell_type": "markdown",
   "metadata": {},
   "source": [
    "## Create IsingLattice"
   ]
  },
  {
   "cell_type": "code",
   "execution_count": null,
   "metadata": {},
   "outputs": [],
   "source": [
    "sess = restart_sess(sess)"
   ]
  },
  {
   "cell_type": "code",
   "execution_count": null,
   "metadata": {},
   "outputs": [],
   "source": [
    "lattice = IsingLattice(3, 4)"
   ]
  },
  {
   "cell_type": "code",
   "execution_count": null,
   "metadata": {},
   "outputs": [],
   "source": [
    "samples = [lattice._randomize() for _ in range(10)]"
   ]
  },
  {
   "cell_type": "code",
   "execution_count": null,
   "metadata": {},
   "outputs": [],
   "source": [
    "batch_size = len(samples)\n",
    "energy_fn = lattice.get_energy_function()\n",
    "dynamics = Dynamics(x_dim=lattice.num_sites, energy_function=energy_fn, \n",
    "                    trajectory_length=2, eps=0.1, hmc=False, \n",
    "                    net_factory=network, eps_trainable=True,\n",
    "                    use_temperature=True)"
   ]
  },
  {
   "cell_type": "code",
   "execution_count": null,
   "metadata": {},
   "outputs": [],
   "source": [
    "energies = lattice.calc_energy(samples, batch_size=len(samples))"
   ]
  },
  {
   "cell_type": "code",
   "execution_count": null,
   "metadata": {},
   "outputs": [],
   "source": [
    "energies"
   ]
  },
  {
   "cell_type": "code",
   "execution_count": null,
   "metadata": {},
   "outputs": [],
   "source": [
    "x_shape = tuple([len(samples)] + list(lattice.sites.shape))\n",
    "x = tf.placeholder(tf.float32, shape=x_shape, name='x')\n",
    "z = tf.random_normal(tf.shape(x), name='z')"
   ]
  },
  {
   "cell_type": "code",
   "execution_count": null,
   "metadata": {},
   "outputs": [],
   "source": [
    "energy_fn = dynamics.energy(x, batch_size)"
   ]
  },
  {
   "cell_type": "code",
   "execution_count": null,
   "metadata": {},
   "outputs": [],
   "source": [
    "print(sess.run(energy_fn, feed_dict={x: samples, dynamics.temperature: 1.}))"
   ]
  },
  {
   "cell_type": "code",
   "execution_count": null,
   "metadata": {},
   "outputs": [],
   "source": [
    "kinetic = dynamics.kinetic(z)\n",
    "_kinetic = sess.run(kinetic)"
   ]
  },
  {
   "cell_type": "code",
   "execution_count": null,
   "metadata": {},
   "outputs": [],
   "source": [
    "lattice.sites.shape"
   ]
  },
  {
   "cell_type": "code",
   "execution_count": null,
   "metadata": {},
   "outputs": [],
   "source": [
    "_kinetic.shape"
   ]
  },
  {
   "cell_type": "code",
   "execution_count": null,
   "metadata": {},
   "outputs": [],
   "source": [
    "z2 = sess.run(tf.square(z))"
   ]
  },
  {
   "cell_type": "code",
   "execution_count": null,
   "metadata": {},
   "outputs": [],
   "source": [
    "print(sess.run(tf.reduce_sum(tf.square(z), axis=z.shape)))"
   ]
  },
  {
   "cell_type": "code",
   "execution_count": null,
   "metadata": {},
   "outputs": [],
   "source": [
    "tf.reduce_sum(tf.square(z), axis=)"
   ]
  },
  {
   "cell_type": "code",
   "execution_count": null,
   "metadata": {},
   "outputs": [],
   "source": [
    "kinetic_ = tf.reduce_sum(tf.square(z), axis"
   ]
  },
  {
   "cell_type": "code",
   "execution_count": null,
   "metadata": {},
   "outputs": [],
   "source": [
    "H = dynamics.hamiltonian(x, z, batch_size)"
   ]
  },
  {
   "cell_type": "code",
   "execution_count": null,
   "metadata": {},
   "outputs": [],
   "source": [
    "print(sess.run(H, feed_dict={x: samples, dynamics.temperature: 1.}))"
   ]
  },
  {
   "cell_type": "code",
   "execution_count": null,
   "metadata": {
    "code_folding": [
     0
    ]
   },
   "outputs": [],
   "source": [
    "def eager_execution():\n",
    "    dataset = tf.data.Dataset.from_tensor_slices(x)\n",
    "    iterator = dataset.make_initializable_iterator()\n",
    "\n",
    "    next_element = iterator.get_next()\n",
    "\n",
    "    #dynamics_energy = dynamics.energy(, aux=None)\n",
    "    sess.run(iterator.initializer, feed_dict={x: samples})\n",
    "    for i in range(len(samples)):\n",
    "        value = sess.run(next_element)\n",
    "        energy = sess.run(dynamics.energy(value), \n",
    "                          feed_dict={dynamics.temperature: 1.})\n",
    "        print(energy)\n",
    "        #print(value.shape)\n",
    "        #_energy = sess.run(dynamics.energy(, aux=None))\n",
    "        #print(_energy)\n",
    "\n",
    "    sess.run(iterator.initializer, feed_dict={x: samples})\n",
    "    for i in range(len(samples)):\n",
    "        next_elt = sess.run(next_element)\n",
    "        _step = sess.run(dynamics._forward_step(next_elt, z, i, aux=None),\n",
    "                         feed_dict={dynamics.temperature: 1.})\n",
    "        print(_step)"
   ]
  },
  {
   "cell_type": "code",
   "execution_count": null,
   "metadata": {},
   "outputs": [],
   "source": [
    "\n",
    "hamiltonian = dynamics.hamiltonian(x, z, aux=None)"
   ]
  },
  {
   "cell_type": "code",
   "execution_count": null,
   "metadata": {},
   "outputs": [],
   "source": [
    "hamiltonian_out = sess.run(hamiltonian, feed_dict={x: samples, dynamics.temperature: 1.})"
   ]
  },
  {
   "cell_type": "code",
   "execution_count": null,
   "metadata": {},
   "outputs": [],
   "source": [
    "hamiltonian_out[0]"
   ]
  },
  {
   "cell_type": "code",
   "execution_count": null,
   "metadata": {},
   "outputs": [],
   "source": [
    "step1 = dynamics._forward_step(x, z, 1, aux=None)"
   ]
  },
  {
   "cell_type": "code",
   "execution_count": null,
   "metadata": {},
   "outputs": [],
   "source": []
  },
  {
   "cell_type": "code",
   "execution_count": null,
   "metadata": {},
   "outputs": [],
   "source": [
    "Lx, _, px, output = propose(x, dynamics, do_mh_step=True)\n",
    "Lz, _, pz, _ = propose(z, ldynamics, do_mh_step=True)\n",
    "\n",
    "loss = tf.Variable(0., trainable=False, name='loss')\n",
    "v1 = ((tf.reduce_sum(tf.square(x - Lx), axis=1) * px) + 1e-4)\n",
    "v2 = ((tf.reduce_sum(tf.square(z - Lz), axis=1) * pz) + 1e-4)\n",
    "scale = 0.1\n",
    "loss = loss + scale * (tf.reduce_mean(1.0 / v1) + tf.reduce_mean(1.0 / v2))\n",
    "loss = loss + ((-tf.reduce_mean(v1, name='v1')\n",
    "                - tf.reduce_mean(v2, name='v2')) / scale)"
   ]
  },
  {
   "cell_type": "code",
   "execution_count": null,
   "metadata": {},
   "outputs": [],
   "source": [
    "%debug"
   ]
  },
  {
   "cell_type": "code",
   "execution_count": null,
   "metadata": {},
   "outputs": [],
   "source": [
    "step1 = ldynamics._forward_step(x, z, 1, aux=None)"
   ]
  },
  {
   "cell_type": "code",
   "execution_count": null,
   "metadata": {},
   "outputs": [],
   "source": [
    "with tf.Session() as sess:\n",
    "    print(sess.run(lattice.total_action(lattice.links)))"
   ]
  },
  {
   "cell_type": "code",
   "execution_count": null,
   "metadata": {},
   "outputs": [],
   "source": [
    "energy = ldynamics.energy(x)\n",
    "with tf.Session() as sess:\n",
    "    print(sess.run(energy, feed_dict={x: links_samples, dynamics.temperature:1.}))"
   ]
  },
  {
   "cell_type": "markdown",
   "metadata": {
    "heading_collapsed": true
   },
   "source": [
    "## LatticeDynamics testing"
   ]
  },
  {
   "cell_type": "markdown",
   "metadata": {
    "heading_collapsed": true,
    "hidden": true
   },
   "source": [
    "### Init tf.Session()"
   ]
  },
  {
   "cell_type": "code",
   "execution_count": null,
   "metadata": {
    "hidden": true
   },
   "outputs": [],
   "source": [
    "sess = tf.Session()\n",
    "sess.run(tf.global_variables_initializer())\n",
    "sess.close()"
   ]
  },
  {
   "cell_type": "code",
   "execution_count": null,
   "metadata": {
    "hidden": true
   },
   "outputs": [],
   "source": [
    "sess = tf.InteractiveSession()"
   ]
  },
  {
   "cell_type": "code",
   "execution_count": null,
   "metadata": {
    "hidden": true
   },
   "outputs": [],
   "source": [
    "init = tf.global_variables_initializer()"
   ]
  },
  {
   "cell_type": "code",
   "execution_count": null,
   "metadata": {
    "hidden": true
   },
   "outputs": [],
   "source": [
    "sess.run(tf.global_variables_initializer())"
   ]
  },
  {
   "cell_type": "markdown",
   "metadata": {
    "hidden": true
   },
   "source": [
    "### Create LatticeDynamics object"
   ]
  },
  {
   "cell_type": "code",
   "execution_count": null,
   "metadata": {
    "hidden": true
   },
   "outputs": [],
   "source": []
  },
  {
   "cell_type": "code",
   "execution_count": null,
   "metadata": {
    "hidden": true
   },
   "outputs": [],
   "source": [
    "_x_shape = tuple([None] + list(lattice.links.shape) + list(lattice.link_shape))\n",
    "_x = tf.placeholder(dtype=tf.complex64, shape=_x_shape)\n",
    "\n",
    "_links_samples = []\n",
    "for _ in range(10):\n",
    "    _links_sample = np.zeros(_x_shape[1:], dtype=np.complex64)\n",
    "    for link in lattice.iter_links():\n",
    "        _links_sample[link] = lattice.link_type.get_random_element()\n",
    "    _links_samples.append(_links_sample)"
   ]
  },
  {
   "cell_type": "code",
   "execution_count": null,
   "metadata": {
    "hidden": true
   },
   "outputs": [],
   "source": [
    "lattice.num_links"
   ]
  },
  {
   "cell_type": "code",
   "execution_count": null,
   "metadata": {
    "hidden": true
   },
   "outputs": [],
   "source": [
    "_mask = sess.run(ldynamics.mask)"
   ]
  },
  {
   "cell_type": "code",
   "execution_count": null,
   "metadata": {
    "hidden": true
   },
   "outputs": [],
   "source": [
    "_mask.reshape(tuple([-1] + list(lattice.links.shape)))"
   ]
  },
  {
   "cell_type": "code",
   "execution_count": null,
   "metadata": {
    "hidden": true
   },
   "outputs": [],
   "source": [
    "m, _m = ldynamics._get_mask(0)"
   ]
  },
  {
   "cell_type": "code",
   "execution_count": null,
   "metadata": {
    "hidden": true
   },
   "outputs": [],
   "source": [
    "np.array(links_samples).astype(np.complex64)"
   ]
  },
  {
   "cell_type": "code",
   "execution_count": null,
   "metadata": {
    "hidden": true
   },
   "outputs": [],
   "source": [
    "links_samples = np.array(np.array(links_samples), dtype=np.complex64)"
   ]
  },
  {
   "cell_type": "code",
   "execution_count": null,
   "metadata": {
    "hidden": true
   },
   "outputs": [],
   "source": [
    "kinetic = ldynamics.kinetic(z)\n",
    "print(sess.run(kinetic), feed_dict={x: np.array(links_samples), dynamics.temperature: 1.})"
   ]
  },
  {
   "cell_type": "code",
   "execution_count": null,
   "metadata": {
    "hidden": true
   },
   "outputs": [],
   "source": [
    "hamiltonian = ldynamics.hamiltonian(x, z)\n",
    "sess.run(hamiltonian, feed_dict{x:})"
   ]
  },
  {
   "cell_type": "code",
   "execution_count": null,
   "metadata": {
    "hidden": true
   },
   "outputs": [],
   "source": [
    "temp = np.array([1.0], dtype=np.float32)[0]\n",
    "energy = ldynamics.energy(x)\n",
    "print(sess.run(energy, feed_dict={x: links_samples, ldynamics.temperature: temp}))"
   ]
  },
  {
   "cell_type": "code",
   "execution_count": null,
   "metadata": {
    "hidden": true
   },
   "outputs": [],
   "source": [
    "print(sess.run(energy, feed_dict={x: links_samples, ldynamics.temperature: temp}))"
   ]
  },
  {
   "cell_type": "code",
   "execution_count": null,
   "metadata": {
    "hidden": true
   },
   "outputs": [],
   "source": [
    "print(sess.run(ldynamics.lattice.total_action()))\n",
    "#ldynamics.lattice.total_action()"
   ]
  },
  {
   "cell_type": "code",
   "execution_count": null,
   "metadata": {
    "hidden": true
   },
   "outputs": [],
   "source": [
    "forward_step = ldynamics._forward_step(x, z, 1, aux=None)"
   ]
  },
  {
   "cell_type": "code",
   "execution_count": null,
   "metadata": {
    "hidden": true
   },
   "outputs": [],
   "source": [
    "%debug"
   ]
  },
  {
   "cell_type": "code",
   "execution_count": null,
   "metadata": {
    "hidden": true
   },
   "outputs": [],
   "source": [
    "step1 = sess.run(forward_step, feed_dict={x: samples, ldynamics.temperature: 2.})"
   ]
  },
  {
   "cell_type": "code",
   "execution_count": null,
   "metadata": {
    "hidden": true
   },
   "outputs": [],
   "source": [
    "x1, v1, log_jac_contrib1 = step1"
   ]
  },
  {
   "cell_type": "code",
   "execution_count": null,
   "metadata": {
    "hidden": true
   },
   "outputs": [],
   "source": [
    "energy = dynamics.energy(x)\n",
    "print(sess.run(energy, feed_dict={x: samples, dynamics.temperature:2.}))\n",
    "print(sess.run(energy, feed_dict={x: x1, dynamics.temperature:2.}))"
   ]
  },
  {
   "cell_type": "code",
   "execution_count": null,
   "metadata": {
    "hidden": true
   },
   "outputs": [],
   "source": [
    "hamiltonian = dynamics.hamiltonian(x, z)\n",
    "print(sess.run(hamiltonian, feed_dict={x: samples, dynamics.temperature:2.}))\n",
    "print('\\n')\n",
    "print(sess.run(hamiltonian, feed_dict={x: x1, dynamics.temperature:2.}))"
   ]
  },
  {
   "cell_type": "code",
   "execution_count": null,
   "metadata": {
    "hidden": true
   },
   "outputs": [],
   "source": [
    "grad_energy = dynamics.grad_energy(x)\n",
    "print(sess.run(grad_energy, feed_dict={x: samples, dynamics.temperature:2.}))\n",
    "print('\\n')\n",
    "print(sess.run(grad_energy, feed_dict={x: x1, dynamics.temperature:2.}))"
   ]
  },
  {
   "cell_type": "code",
   "execution_count": null,
   "metadata": {
    "hidden": true
   },
   "outputs": [],
   "source": [
    "X, V, p_accept = dynamics.forward(x)"
   ]
  },
  {
   "cell_type": "code",
   "execution_count": null,
   "metadata": {
    "hidden": true
   },
   "outputs": [],
   "source": [
    "_X = sess.run(X, feed_dict={x: samples, dynamics.temperature:2.})\n",
    "print(_X.shape)"
   ]
  },
  {
   "cell_type": "code",
   "execution_count": null,
   "metadata": {
    "hidden": true
   },
   "outputs": [],
   "source": [
    "_V = sess.run(V, feed_dict={x: samples, dynamics.temperature:2.})\n",
    "print(_V.shape)"
   ]
  },
  {
   "cell_type": "code",
   "execution_count": null,
   "metadata": {
    "hidden": true
   },
   "outputs": [],
   "source": [
    "_p_accept = sess.run(p_accept, feed_dict={x: samples, dynamics.temperature:2.})\n",
    "print(_p_accept.shape)\n",
    "print(_p_accept)"
   ]
  }
 ],
 "metadata": {
  "hide_input": false,
  "kernelspec": {
   "display_name": "Python 3",
   "language": "python",
   "name": "python3"
  },
  "language_info": {
   "codemirror_mode": {
    "name": "ipython",
    "version": 3
   },
   "file_extension": ".py",
   "mimetype": "text/x-python",
   "name": "python",
   "nbconvert_exporter": "python",
   "pygments_lexer": "ipython3",
   "version": "3.6.5"
  },
  "latex_envs": {
   "LaTeX_envs_menu_present": true,
   "autoclose": false,
   "autocomplete": true,
   "bibliofile": "biblio.bib",
   "cite_by": "apalike",
   "current_citInitial": 1,
   "eqLabelWithNumbers": true,
   "eqNumInitial": 1,
   "hotkeys": {
    "equation": "Ctrl-E",
    "itemize": "Ctrl-I"
   },
   "labels_anchors": false,
   "latex_user_defs": false,
   "report_style_numbering": false,
   "user_envs_cfg": false
  },
  "varInspector": {
   "cols": {
    "lenName": 16,
    "lenType": 16,
    "lenVar": 40
   },
   "kernels_config": {
    "python": {
     "delete_cmd_postfix": "",
     "delete_cmd_prefix": "del ",
     "library": "var_list.py",
     "varRefreshCmd": "print(var_dic_list())"
    },
    "r": {
     "delete_cmd_postfix": ") ",
     "delete_cmd_prefix": "rm(",
     "library": "var_list.r",
     "varRefreshCmd": "cat(var_dic_list()) "
    }
   },
   "types_to_exclude": [
    "module",
    "function",
    "builtin_function_or_method",
    "instance",
    "_Feature"
   ],
   "window_display": false
  }
 },
 "nbformat": 4,
 "nbformat_minor": 2
}
