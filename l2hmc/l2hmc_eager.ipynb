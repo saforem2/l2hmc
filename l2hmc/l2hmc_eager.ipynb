{
 "cells": [
  {
   "cell_type": "markdown",
   "metadata": {},
   "source": [
    "# L2HMC using eager execution in tensorflow"
   ]
  },
  {
   "cell_type": "markdown",
   "metadata": {},
   "source": [
    "### Imports"
   ]
  },
  {
   "cell_type": "code",
   "execution_count": 1,
   "metadata": {
    "ExecuteTime": {
     "end_time": "2018-09-28T17:42:45.776554Z",
     "start_time": "2018-09-28T17:42:37.639205Z"
    }
   },
   "outputs": [],
   "source": [
    "import os\n",
    "import sys\n",
    "import numpy as np\n",
    "import tensorflow as tf\n",
    "\n",
    "import tf_eager.dynamics_eager as _l2hmc\n",
    "import tf_eager.gauge_dynamics_eager as l2hmc\n",
    "from tf_eager.neural_nets import *\n",
    "from utils.distributions import GMM, gen_ring\n",
    "from utils.jacobian import _map, jacobian"
   ]
  },
  {
   "cell_type": "code",
   "execution_count": 2,
   "metadata": {
    "ExecuteTime": {
     "end_time": "2018-09-28T17:43:14.289811Z",
     "start_time": "2018-09-28T17:43:14.214394Z"
    }
   },
   "outputs": [],
   "source": [
    "from lattice.ising_lattice import IsingLattice\n",
    "from lattice.gauge_lattice import GaugeLattice"
   ]
  },
  {
   "cell_type": "code",
   "execution_count": 3,
   "metadata": {
    "ExecuteTime": {
     "end_time": "2018-09-28T17:43:14.578416Z",
     "start_time": "2018-09-28T17:43:14.504331Z"
    }
   },
   "outputs": [],
   "source": [
    "tf.enable_eager_execution()\n",
    "tfe = tf.contrib.eager"
   ]
  },
  {
   "cell_type": "code",
   "execution_count": 4,
   "metadata": {
    "ExecuteTime": {
     "end_time": "2018-09-28T17:43:14.861652Z",
     "start_time": "2018-09-28T17:43:14.785470Z"
    }
   },
   "outputs": [],
   "source": [
    "tfe = tf.contrib.eager"
   ]
  },
  {
   "cell_type": "code",
   "execution_count": 5,
   "metadata": {
    "ExecuteTime": {
     "end_time": "2018-09-28T17:43:16.315031Z",
     "start_time": "2018-09-28T17:43:16.244571Z"
    }
   },
   "outputs": [],
   "source": [
    "def train_one_iter(dynamics, x, optimizer, \n",
    "                   loss_fn=l2hmc.compute_loss, global_step=None):\n",
    "    loss, grads, out, accept_prob = l2hmc.loss_and_grads(\n",
    "        dynamics, x, loss_fn=loss_fn\n",
    "    )\n",
    "    optimizer.apply_gradients(\n",
    "        zip(grads, dynamics.trainable_variables), global_step=global_step\n",
    "    )\n",
    "    return loss, out, accept_prob"
   ]
  },
  {
   "cell_type": "markdown",
   "metadata": {},
   "source": [
    "### Construct GaugeLattice with $U(1)$ gauge group"
   ]
  },
  {
   "cell_type": "code",
   "execution_count": 6,
   "metadata": {
    "ExecuteTime": {
     "end_time": "2018-09-28T17:43:19.277173Z",
     "start_time": "2018-09-28T17:43:19.210991Z"
    }
   },
   "outputs": [],
   "source": [
    "time_size, space_size, dim, beta, batch_size = (8, 8, 2, 10, 5)\n",
    "u1_lattice = GaugeLattice(time_size, space_size, dim, beta, link_type='U1')\n",
    "u1_samples = u1_lattice.get_links_samples(batch_size, link_type='U1')\n",
    "u1_samples_flat = [i.flatten() for i in u1_samples]\n",
    "u1_samples_tensor = tf.constant(np.stack(u1_samples_flat), dtype=tf.float32)"
   ]
  },
  {
   "cell_type": "code",
   "execution_count": 7,
   "metadata": {
    "ExecuteTime": {
     "end_time": "2018-09-28T17:43:19.941790Z",
     "start_time": "2018-09-28T17:43:19.840752Z"
    }
   },
   "outputs": [],
   "source": [
    "u1_energy_fn = u1_lattice.get_energy_function()\n",
    "u1_dynamics = l2hmc.GaugeDynamics(u1_lattice, \n",
    "                                  minus_loglikelihood_fn=u1_energy_fn, \n",
    "                                  batch_size=batch_size, n_steps=5, eps=0.1)"
   ]
  },
  {
   "cell_type": "code",
   "execution_count": 8,
   "metadata": {
    "ExecuteTime": {
     "end_time": "2018-09-28T17:43:21.518639Z",
     "start_time": "2018-09-28T17:43:20.519053Z"
    }
   },
   "outputs": [
    {
     "name": "stdout",
     "output_type": "stream",
     "text": [
      "[8.8475424  9.03759327 8.7656859  8.96741004 8.74220645]\n",
      "[71.624146 60.374023 75.64526  79.23539  70.17695 ]\n",
      "[80.47169 69.41161 84.41095 88.2028  78.91916]\n",
      "[-0.8253179   0.27775407 -0.26843998  0.21609522  0.1919355  -0.78935415\n",
      "  0.3210893  -0.835102    0.16938058 -0.1477234 ]\n"
     ]
    }
   ],
   "source": [
    "_momentum = tf.random_normal(tf.shape(u1_samples))\n",
    "_potential = np.array(u1_dynamics.potential(u1_samples_tensor, batch_size))\n",
    "_kinetic = u1_dynamics.kinetic(_momentum)\n",
    "_hamiltonian = u1_dynamics.hamiltonian(u1_samples_tensor, _momentum)\n",
    "_grad_potential = np.array(u1_dynamics.grad_potential(u1_samples_tensor))\n",
    "grad_potential = tf.convert_to_tensor(_grad_potential, dtype=tf.float32)\n",
    "print(_potential)\n",
    "print(_kinetic.numpy())\n",
    "print(_hamiltonian.numpy())\n",
    "print(_grad_potential[0][:10])"
   ]
  },
  {
   "cell_type": "code",
   "execution_count": 11,
   "metadata": {
    "ExecuteTime": {
     "end_time": "2018-09-28T17:44:58.430722Z",
     "start_time": "2018-09-28T17:44:58.369972Z"
    }
   },
   "outputs": [],
   "source": [
    "site = u1_lattice.get_random_site()\n",
    "mu = np.random.randint(u1_lattice.dim)\n",
    "nu = np.random.randint(u1_lattice.dim)\n",
    "links = u1_lattice.links\n",
    "plaq_op, _sum = u1_lattice.plaquette_operator(links, site, mu, nu)"
   ]
  },
  {
   "cell_type": "code",
   "execution_count": 14,
   "metadata": {
    "ExecuteTime": {
     "end_time": "2018-09-28T17:46:22.249410Z",
     "start_time": "2018-09-28T17:46:22.190286Z"
    }
   },
   "outputs": [],
   "source": [
    "shape = u1_lattice.site_idxs\n",
    "l1 = tuple(list(np.mod(site, shape)) + [mu])\n",
    "l2 = tuple(list(np.mod((site + u1_lattice.bases[mu]), shape)) + [nu])\n",
    "l3 = tuple(list(np.mod((site + u1_lattice.bases[nu]), shape)) + [mu])\n",
    "l4 = tuple(list(np.mod(site, shape)) + [nu])"
   ]
  },
  {
   "cell_type": "code",
   "execution_count": 17,
   "metadata": {
    "ExecuteTime": {
     "end_time": "2018-09-28T17:47:08.624041Z",
     "start_time": "2018-09-28T17:47:08.557837Z"
    }
   },
   "outputs": [],
   "source": [
    "links1 = np.exp(1j * links[l1])\n",
    "links2 = np.exp(1j * links[l2])\n",
    "links3 = np.exp(1j * links[l3])\n",
    "links4 = np.exp(1j * links[l4])"
   ]
  },
  {
   "cell_type": "code",
   "execution_count": 23,
   "metadata": {
    "ExecuteTime": {
     "end_time": "2018-09-28T17:52:12.242829Z",
     "start_time": "2018-09-28T17:52:12.181321Z"
    }
   },
   "outputs": [],
   "source": [
    "def links_mtx(links, idx): \n",
    "    return tf.constant(\n",
    "        [[np.cos(links[idx]), -np.sin(links[idx])],\n",
    "         [np.sin(links[idx]), np.cos(links[idx])]],  dtype=tf.float32\n",
    "    )"
   ]
  },
  {
   "cell_type": "code",
   "execution_count": 24,
   "metadata": {
    "ExecuteTime": {
     "end_time": "2018-09-28T17:52:37.937289Z",
     "start_time": "2018-09-28T17:52:37.876497Z"
    }
   },
   "outputs": [],
   "source": [
    "links_mtx1 = links_mtx(links, l1)\n",
    "links_mtx2 = links_mtx(links, l2)\n",
    "links_mtx3 = links_mtx(links, l3)\n",
    "links_mtx4 = links_mtx(links, l4)"
   ]
  },
  {
   "cell_type": "code",
   "execution_count": 28,
   "metadata": {
    "ExecuteTime": {
     "end_time": "2018-09-28T18:01:43.293175Z",
     "start_time": "2018-09-28T18:01:43.241694Z"
    }
   },
   "outputs": [
    {
     "data": {
      "text/plain": [
       "<tf.Tensor: id=40062, shape=(2, 2), dtype=float32, numpy=\n",
       "array([[1., 0.],\n",
       "       [0., 1.]], dtype=float32)>"
      ]
     },
     "execution_count": 28,
     "metadata": {},
     "output_type": "execute_result"
    }
   ],
   "source": [
    "prod12 = tf.matmul(links_mtx1, links_mtx2)\n",
    "prod34 = tf.matmul(tf.transpose(tf.conj(links_mtx3)),\n",
    "                   tf.transpose(tf.conj(links_mtx4)))\n",
    "prod1234 = tf.matmul(prod12, prod34)\n",
    "prod1234"
   ]
  },
  {
   "cell_type": "code",
   "execution_count": 29,
   "metadata": {
    "ExecuteTime": {
     "end_time": "2018-09-28T18:01:52.067293Z",
     "start_time": "2018-09-28T18:01:51.989777Z"
    }
   },
   "outputs": [
    {
     "data": {
      "text/plain": [
       "<tf.Tensor: id=40061, shape=(2, 2), dtype=float32, numpy=\n",
       "array([[ 0.81110305,  0.58490324],\n",
       "       [-0.58490324,  0.81110305]], dtype=float32)>"
      ]
     },
     "execution_count": 29,
     "metadata": {},
     "output_type": "execute_result"
    }
   ],
   "source": []
  },
  {
   "cell_type": "markdown",
   "metadata": {},
   "source": [
    "#### Run L2HMC for $U(1)$ gauge model"
   ]
  },
  {
   "cell_type": "code",
   "execution_count": 72,
   "metadata": {
    "ExecuteTime": {
     "end_time": "2018-09-28T06:01:49.853282Z",
     "start_time": "2018-09-28T06:01:49.796067Z"
    }
   },
   "outputs": [],
   "source": [
    "train_dir = '../U1_logs/run_6/'\n",
    "global_step = tf.train.get_or_create_global_step()\n",
    "_ = global_step.assign(1)\n",
    "train_iters = 50\n",
    "record_loss_every = 10\n",
    "save_steps = 10\n",
    "\n",
    "learning_rate = tf.train.exponential_decay(1e-3, global_step, 1000, \n",
    "                                           0.96, staircase=True)\n",
    "optimizer = tf.train.AdamOptimizer(learning_rate)\n",
    "checkpointer = tf.train.Checkpoint(\n",
    "    optimizer=optimizer, dynamics=u1_dynamics, global_step=global_step\n",
    ")\n",
    "summary_writer = tf.contrib.summary.create_file_writer(train_dir)\n",
    "loss_fn = l2hmc.compute_loss\n",
    "samples = u1_samples_tensor"
   ]
  },
  {
   "cell_type": "code",
   "execution_count": 75,
   "metadata": {
    "ExecuteTime": {
     "end_time": "2018-09-28T06:03:44.609384Z",
     "start_time": "2018-09-28T06:03:44.555233Z"
    }
   },
   "outputs": [
    {
     "data": {
      "text/plain": [
       "<tf.Variable 'eps:0' shape=() dtype=float32, numpy=0.1>"
      ]
     },
     "execution_count": 75,
     "metadata": {},
     "output_type": "execute_result"
    }
   ],
   "source": [
    "u1_dynamics.eps.numpy()"
   ]
  },
  {
   "cell_type": "code",
   "execution_count": 77,
   "metadata": {
    "ExecuteTime": {
     "end_time": "2018-09-28T06:34:08.706187Z",
     "start_time": "2018-09-28T06:06:33.249128Z"
    }
   },
   "outputs": [
    {
     "name": "stdout",
     "output_type": "stream",
     "text": [
      "[8.787382543087007, 9.20905767381191, 9.192772043248016, 8.989190890143316, 8.68016199891766]\n",
      "Iteration 1, loss 904.0479, x_accept 0.0000, eps 0.0980, avg_S 8.9717\n",
      "\n",
      "\n",
      "[8.787382543087007, 9.20905767381191, 9.192772043248016, 8.989190890143316, 8.68016199891766]\n",
      "Iteration 2, loss -13370.0830, x_accept 0.0000, eps 0.0973, avg_S 8.9717\n",
      "\n",
      "\n",
      "[8.787382543087007, 9.20905767381191, 9.192772043248016, 8.989190890143316, 8.68016199891766]\n",
      "Iteration 3, loss -6530.7075, x_accept 0.0000, eps 0.0965, avg_S 8.9717\n",
      "\n",
      "\n",
      "[8.787382543087007, 9.20905767381191, 9.192772043248016, 8.989190890143316, 8.68016199891766]\n",
      "Iteration 4, loss -10856.3574, x_accept 0.0000, eps 0.0957, avg_S 8.9717\n",
      "\n",
      "\n",
      "[8.787382543087007, 9.20905767381191, 9.192772043248016, 8.989190890143316, 8.68016199891766]\n",
      "Iteration 5, loss -13664.5410, x_accept 0.0000, eps 0.0949, avg_S 8.9717\n",
      "\n",
      "\n",
      "[8.787382543087007, 9.20905767381191, 9.192772043248016, 8.989190890143316, 8.68016199891766]\n",
      "Iteration 6, loss -15779.7217, x_accept 0.0002, eps 0.0941, avg_S 8.9717\n",
      "\n",
      "\n",
      "[8.787382543087007, 9.20905767381191, 5.741696401188772, 8.989190890143316, 8.68016199891766]\n",
      "Iteration 7, loss -13211.4482, x_accept 0.1457, eps 0.0933, avg_S 8.2815\n",
      "\n",
      "\n",
      "[8.787382543087007, 9.20905767381191, 2.3811377004409833, 8.989190890143316, 8.68016199891766]\n",
      "Iteration 8, loss -15301.5283, x_accept 0.2320, eps 0.0926, avg_S 7.6094\n",
      "\n",
      "\n",
      "[8.787382543087007, 9.20905767381191, -0.7215440869331359, 4.571090070841213, 8.68016199891766]\n",
      "Iteration 9, loss -14420.6816, x_accept 0.3927, eps 0.0920, avg_S 6.1052\n",
      "\n",
      "\n",
      "[4.938939641394728, 9.20905767381191, -1.7799284722035136, 1.2020105582972365, 8.68016199891766]\n",
      "Iteration 10, loss -17223.4570, x_accept 0.6083, eps 0.0914, avg_S 4.4500\n",
      "\n",
      "\n",
      "INFO:tensorflow:Summary name Training loss is illegal; using Training_loss instead.\n"
     ]
    },
    {
     "data": {
      "text/plain": [
       "<tf.Tensor: id=3279333, shape=(), dtype=bool, numpy=True>"
      ]
     },
     "execution_count": 77,
     "metadata": {},
     "output_type": "execute_result"
    },
    {
     "name": "stdout",
     "output_type": "stream",
     "text": [
      "Saved checkpoint to: ../U1_logs/run_6/ckpt-1\n",
      "[1.8681197795085607, 9.20905767381191, -3.0754725849255924, -2.0075448577602715, 5.438775953720322]\n",
      "Iteration 11, loss -16668.3066, x_accept 0.8002, eps 0.0909, avg_S 2.2866\n",
      "\n",
      "\n",
      "[-1.523618264434238, 9.20905767381191, -2.980269870293948, -0.8585512718806663, 2.8531240535279117]\n",
      "Iteration 12, loss -14362.8486, x_accept 0.8019, eps 0.0904, avg_S 1.3399\n",
      "\n",
      "\n",
      "[-1.8606484302630024, 5.883154237720494, -2.0803541851540412, 0.3140361029654741, 0.38035262624422717]\n",
      "Iteration 13, loss -15356.8672, x_accept 1.0000, eps 0.0901, avg_S 0.5273\n",
      "\n",
      "\n",
      "[-2.660862479669352, 3.565150518901646, -0.12456402419290205, -0.27006821955243754, -1.5449004704132678]\n",
      "Iteration 14, loss -16888.3555, x_accept 1.0000, eps 0.0897, avg_S -0.2070\n",
      "\n",
      "\n",
      "[-3.142997766534488, -1.4058924672814703, -0.6437085804063827, -0.6761342013875643, -1.5174639569595456]\n",
      "Iteration 15, loss -15642.3779, x_accept 1.0000, eps 0.0895, avg_S -1.4772\n",
      "\n",
      "\n",
      "[-2.3529570333970096, -2.661715400715669, -0.8675833897044262, -1.6628358345478775, -1.7758272467181082]\n",
      "Iteration 16, loss -15948.5908, x_accept 1.0000, eps 0.0892, avg_S -1.8642\n",
      "\n",
      "\n",
      "[-2.951035400231679, -1.6393137456228335, -1.6421328050394846, -1.4932898894573254, -2.3809101022779946]\n",
      "Iteration 17, loss -13601.9170, x_accept 1.0000, eps 0.0890, avg_S -2.0213\n",
      "\n",
      "\n",
      "[-0.985254206384222, -1.175060316299399, -2.353326341719366, -2.0224566812782236, -0.24153003717462193]\n",
      "Iteration 18, loss -16064.4844, x_accept 1.0000, eps 0.0889, avg_S -1.3555\n",
      "\n",
      "\n",
      "[0.9215410578375064, -1.8763580371936164, -0.8465662164380777, -1.234172004585464, -1.736320990137756]\n",
      "Iteration 19, loss -16545.5801, x_accept 1.0000, eps 0.0888, avg_S -0.9544\n",
      "\n",
      "\n",
      "[0.9248508978635073, -1.2383240833878522, 0.034293750611444296, -0.5623148291682204, -1.423954047107448]\n",
      "Iteration 20, loss -14924.6191, x_accept 1.0000, eps 0.0887, avg_S -0.4531\n",
      "\n",
      "\n",
      "INFO:tensorflow:Summary name Training loss is illegal; using Training_loss instead.\n"
     ]
    },
    {
     "data": {
      "text/plain": [
       "<tf.Tensor: id=3279333, shape=(), dtype=bool, numpy=True>"
      ]
     },
     "execution_count": 77,
     "metadata": {},
     "output_type": "execute_result"
    },
    {
     "name": "stdout",
     "output_type": "stream",
     "text": [
      "Saved checkpoint to: ../U1_logs/run_6/ckpt-2\n",
      "[-0.25163980979899236, -0.4698568374539419, -1.6202226988195132, -1.7380979487982888, -1.617988980181205]\n",
      "Iteration 21, loss -13340.0215, x_accept 1.0000, eps 0.0886, avg_S -1.1396\n",
      "\n",
      "\n",
      "[-1.7537542032077915, -0.29858951612065177, -1.3898562958153582, -0.5958444187417626, -3.293625856439273]\n",
      "Iteration 22, loss -13975.4248, x_accept 1.0000, eps 0.0886, avg_S -1.4663\n",
      "\n",
      "\n",
      "[-2.9923299842824544, 0.8597504807015259, -0.5035185748711228, -0.7953720511868594, -0.8811628995463253]\n",
      "Iteration 23, loss -14241.9951, x_accept 1.0000, eps 0.0886, avg_S -0.8625\n",
      "\n",
      "\n",
      "[-2.5770919996624193, -0.16267499389747797, -1.0399942472577095, 0.21611385322952018, -0.2884341586225974]\n",
      "Iteration 24, loss -16609.0938, x_accept 1.0000, eps 0.0886, avg_S -0.7704\n",
      "\n",
      "\n",
      "[-1.2351860726096977, -0.10214334664245445, -1.70933996560052, -0.6224145263642338, -0.4383389310290413]\n",
      "Iteration 25, loss -14465.7422, x_accept 1.0000, eps 0.0886, avg_S -0.8215\n",
      "\n",
      "\n",
      "[-0.6848683964053635, -0.02123290284847247, -2.745581699991211, -0.7849493846297266, -1.405140896172573]\n",
      "Iteration 26, loss -13664.1660, x_accept 1.0000, eps 0.0886, avg_S -1.1284\n",
      "\n",
      "\n",
      "[-1.5499042770825324, -0.5391837569574516, -1.070724881147422, -1.416922969122728, -2.6562643162906174]\n",
      "Iteration 27, loss -14428.4785, x_accept 1.0000, eps 0.0887, avg_S -1.4466\n",
      "\n",
      "\n"
     ]
    },
    {
     "ename": "KeyboardInterrupt",
     "evalue": "",
     "output_type": "error",
     "traceback": [
      "\u001b[0;31m---------------------------------------------------------------------------\u001b[0m",
      "\u001b[0;31mKeyboardInterrupt\u001b[0m                         Traceback (most recent call last)",
      "\u001b[0;32m<ipython-input-77-0daaf5a287f7>\u001b[0m in \u001b[0;36m<module>\u001b[0;34m()\u001b[0m\n\u001b[1;32m      8\u001b[0m         \u001b[0moptimizer\u001b[0m\u001b[0;34m,\u001b[0m\u001b[0;34m\u001b[0m\u001b[0m\n\u001b[1;32m      9\u001b[0m         \u001b[0mloss_fn\u001b[0m \u001b[0;34m=\u001b[0m \u001b[0mloss_fn\u001b[0m\u001b[0;34m,\u001b[0m\u001b[0;34m\u001b[0m\u001b[0m\n\u001b[0;32m---> 10\u001b[0;31m         \u001b[0mglobal_step\u001b[0m\u001b[0;34m=\u001b[0m\u001b[0mglobal_step\u001b[0m\u001b[0;34m\u001b[0m\u001b[0m\n\u001b[0m\u001b[1;32m     11\u001b[0m     )\n\u001b[1;32m     12\u001b[0m     \u001b[0m_total_actions\u001b[0m \u001b[0;34m=\u001b[0m \u001b[0mu1_lattice\u001b[0m\u001b[0;34m.\u001b[0m\u001b[0mtotal_action\u001b[0m\u001b[0;34m(\u001b[0m\u001b[0msamples\u001b[0m\u001b[0;34m,\u001b[0m \u001b[0mbatch_size\u001b[0m\u001b[0;34m)\u001b[0m\u001b[0;34m\u001b[0m\u001b[0m\n",
      "\u001b[0;32m<ipython-input-8-04d9d802a0bc>\u001b[0m in \u001b[0;36mtrain_one_iter\u001b[0;34m(dynamics, x, optimizer, loss_fn, global_step)\u001b[0m\n\u001b[1;32m      2\u001b[0m                    loss_fn=l2hmc.compute_loss, global_step=None):\n\u001b[1;32m      3\u001b[0m     loss, grads, out, accept_prob = l2hmc.loss_and_grads(\n\u001b[0;32m----> 4\u001b[0;31m         \u001b[0mdynamics\u001b[0m\u001b[0;34m,\u001b[0m \u001b[0mx\u001b[0m\u001b[0;34m,\u001b[0m \u001b[0mloss_fn\u001b[0m\u001b[0;34m=\u001b[0m\u001b[0mloss_fn\u001b[0m\u001b[0;34m\u001b[0m\u001b[0m\n\u001b[0m\u001b[1;32m      5\u001b[0m     )\n\u001b[1;32m      6\u001b[0m     optimizer.apply_gradients(\n",
      "\u001b[0;32m~/ANL/l2hmc/l2hmc/tf_eager/gauge_dynamics_eager.py\u001b[0m in \u001b[0;36mloss_and_grads\u001b[0;34m(dynamics, x, loss_fn)\u001b[0m\n\u001b[1;32m    364\u001b[0m     \u001b[0;34m\"\"\"Obtain loss value and gradients.\"\"\"\u001b[0m\u001b[0;34m\u001b[0m\u001b[0m\n\u001b[1;32m    365\u001b[0m     \u001b[0;32mwith\u001b[0m \u001b[0mtf\u001b[0m\u001b[0;34m.\u001b[0m\u001b[0mGradientTape\u001b[0m\u001b[0;34m(\u001b[0m\u001b[0;34m)\u001b[0m \u001b[0;32mas\u001b[0m \u001b[0mtape\u001b[0m\u001b[0;34m:\u001b[0m\u001b[0;34m\u001b[0m\u001b[0m\n\u001b[0;32m--> 366\u001b[0;31m         \u001b[0mloss_val\u001b[0m\u001b[0;34m,\u001b[0m \u001b[0mout\u001b[0m\u001b[0;34m,\u001b[0m \u001b[0maccept_prob\u001b[0m \u001b[0;34m=\u001b[0m \u001b[0mloss_fn\u001b[0m\u001b[0;34m(\u001b[0m\u001b[0mdynamics\u001b[0m\u001b[0;34m,\u001b[0m \u001b[0mx\u001b[0m\u001b[0;34m)\u001b[0m\u001b[0;34m\u001b[0m\u001b[0m\n\u001b[0m\u001b[1;32m    367\u001b[0m     \u001b[0mgrads\u001b[0m \u001b[0;34m=\u001b[0m \u001b[0mtape\u001b[0m\u001b[0;34m.\u001b[0m\u001b[0mgradient\u001b[0m\u001b[0;34m(\u001b[0m\u001b[0mloss_val\u001b[0m\u001b[0;34m,\u001b[0m \u001b[0mdynamics\u001b[0m\u001b[0;34m.\u001b[0m\u001b[0mtrainable_variables\u001b[0m\u001b[0;34m)\u001b[0m\u001b[0;34m\u001b[0m\u001b[0m\n\u001b[1;32m    368\u001b[0m \u001b[0;34m\u001b[0m\u001b[0m\n",
      "\u001b[0;32m~/ANL/l2hmc/l2hmc/tf_eager/gauge_dynamics_eager.py\u001b[0m in \u001b[0;36mcompute_loss\u001b[0;34m(dynamics, x, scale, eps)\u001b[0m\n\u001b[1;32m    347\u001b[0m     \u001b[0mz\u001b[0m \u001b[0;34m=\u001b[0m \u001b[0mtf\u001b[0m\u001b[0;34m.\u001b[0m\u001b[0mrandom_normal\u001b[0m\u001b[0;34m(\u001b[0m\u001b[0mtf\u001b[0m\u001b[0;34m.\u001b[0m\u001b[0mshape\u001b[0m\u001b[0;34m(\u001b[0m\u001b[0mx\u001b[0m\u001b[0;34m)\u001b[0m\u001b[0;34m)\u001b[0m  \u001b[0;31m# Auxiliary variable\u001b[0m\u001b[0;34m\u001b[0m\u001b[0m\n\u001b[1;32m    348\u001b[0m     \u001b[0mx_\u001b[0m\u001b[0;34m,\u001b[0m \u001b[0m_\u001b[0m\u001b[0;34m,\u001b[0m \u001b[0mx_accept_prob\u001b[0m\u001b[0;34m,\u001b[0m \u001b[0mx_out\u001b[0m \u001b[0;34m=\u001b[0m \u001b[0mdynamics\u001b[0m\u001b[0;34m.\u001b[0m\u001b[0mapply_transition\u001b[0m\u001b[0;34m(\u001b[0m\u001b[0mx\u001b[0m\u001b[0;34m)\u001b[0m\u001b[0;34m\u001b[0m\u001b[0m\n\u001b[0;32m--> 349\u001b[0;31m     \u001b[0mz_\u001b[0m\u001b[0;34m,\u001b[0m \u001b[0m_\u001b[0m\u001b[0;34m,\u001b[0m \u001b[0mz_accept_prob\u001b[0m\u001b[0;34m,\u001b[0m \u001b[0m_\u001b[0m \u001b[0;34m=\u001b[0m \u001b[0mdynamics\u001b[0m\u001b[0;34m.\u001b[0m\u001b[0mapply_transition\u001b[0m\u001b[0;34m(\u001b[0m\u001b[0mz\u001b[0m\u001b[0;34m)\u001b[0m\u001b[0;34m\u001b[0m\u001b[0m\n\u001b[0m\u001b[1;32m    350\u001b[0m \u001b[0;34m\u001b[0m\u001b[0m\n\u001b[1;32m    351\u001b[0m     \u001b[0;31m# Add eps for numerical stability; following released implx\u001b[0m\u001b[0;34m\u001b[0m\u001b[0;34m\u001b[0m\u001b[0m\n",
      "\u001b[0;32m~/ANL/l2hmc/l2hmc/tf_eager/gauge_dynamics_eager.py\u001b[0m in \u001b[0;36mapply_transition\u001b[0;34m(self, position)\u001b[0m\n\u001b[1;32m     70\u001b[0m         \u001b[0;31m# Use sampled  masks to compute the actual solutions\u001b[0m\u001b[0;34m\u001b[0m\u001b[0;34m\u001b[0m\u001b[0m\n\u001b[1;32m     71\u001b[0m         position_f, momentum_f, accept_prob_f = self.transition_kernel(\n\u001b[0;32m---> 72\u001b[0;31m             \u001b[0mposition\u001b[0m\u001b[0;34m,\u001b[0m \u001b[0mforward\u001b[0m\u001b[0;34m=\u001b[0m\u001b[0;32mTrue\u001b[0m\u001b[0;34m\u001b[0m\u001b[0m\n\u001b[0m\u001b[1;32m     73\u001b[0m         )\n\u001b[1;32m     74\u001b[0m         position_b, momentum_b, accept_prob_b = self.transition_kernel(\n",
      "\u001b[0;32m~/ANL/l2hmc/l2hmc/tf_eager/gauge_dynamics_eager.py\u001b[0m in \u001b[0;36mtransition_kernel\u001b[0;34m(self, position, forward)\u001b[0m\n\u001b[1;32m    124\u001b[0m             position_post, momentum_post, logdet = lf_fn(position_post,\n\u001b[1;32m    125\u001b[0m                                                          \u001b[0mmomentum_post\u001b[0m\u001b[0;34m,\u001b[0m\u001b[0;34m\u001b[0m\u001b[0m\n\u001b[0;32m--> 126\u001b[0;31m                                                          i)\n\u001b[0m\u001b[1;32m    127\u001b[0m             \u001b[0msumlogdet\u001b[0m \u001b[0;34m+=\u001b[0m \u001b[0mlogdet\u001b[0m\u001b[0;34m\u001b[0m\u001b[0m\n\u001b[1;32m    128\u001b[0m         accept_prob = self._compute_accept_prob(position, momentum,\n",
      "\u001b[0;32m~/ANL/l2hmc/l2hmc/tf_eager/gauge_dynamics_eager.py\u001b[0m in \u001b[0;36m_forward_lf\u001b[0;34m(self, position, momentum, i)\u001b[0m\n\u001b[1;32m    149\u001b[0m         \u001b[0msumlogdet\u001b[0m \u001b[0;34m+=\u001b[0m \u001b[0mlogdet\u001b[0m\u001b[0;34m\u001b[0m\u001b[0m\n\u001b[1;32m    150\u001b[0m \u001b[0;34m\u001b[0m\u001b[0m\n\u001b[0;32m--> 151\u001b[0;31m         \u001b[0mmomentum\u001b[0m\u001b[0;34m,\u001b[0m \u001b[0mlogdet\u001b[0m \u001b[0;34m=\u001b[0m \u001b[0mself\u001b[0m\u001b[0;34m.\u001b[0m\u001b[0m_update_momentum_forward\u001b[0m\u001b[0;34m(\u001b[0m\u001b[0mposition\u001b[0m\u001b[0;34m,\u001b[0m \u001b[0mmomentum\u001b[0m\u001b[0;34m,\u001b[0m \u001b[0mt\u001b[0m\u001b[0;34m)\u001b[0m\u001b[0;34m\u001b[0m\u001b[0m\n\u001b[0m\u001b[1;32m    152\u001b[0m         \u001b[0msumlogdet\u001b[0m \u001b[0;34m+=\u001b[0m \u001b[0mlogdet\u001b[0m\u001b[0;34m\u001b[0m\u001b[0m\n\u001b[1;32m    153\u001b[0m \u001b[0;34m\u001b[0m\u001b[0m\n",
      "\u001b[0;32m~/ANL/l2hmc/l2hmc/tf_eager/gauge_dynamics_eager.py\u001b[0m in \u001b[0;36m_update_momentum_forward\u001b[0;34m(self, position, momentum, t)\u001b[0m\n\u001b[1;32m    185\u001b[0m         \u001b[0;34m\"\"\"Update v in the forward leapfrog step.\"\"\"\u001b[0m\u001b[0;34m\u001b[0m\u001b[0m\n\u001b[1;32m    186\u001b[0m \u001b[0;34m\u001b[0m\u001b[0m\n\u001b[0;32m--> 187\u001b[0;31m         \u001b[0mgrad\u001b[0m \u001b[0;34m=\u001b[0m \u001b[0mself\u001b[0m\u001b[0;34m.\u001b[0m\u001b[0mgrad_potential\u001b[0m\u001b[0;34m(\u001b[0m\u001b[0mposition\u001b[0m\u001b[0;34m)\u001b[0m\u001b[0;34m\u001b[0m\u001b[0m\n\u001b[0m\u001b[1;32m    188\u001b[0m         \u001b[0mscale\u001b[0m\u001b[0;34m,\u001b[0m \u001b[0mtranslation\u001b[0m\u001b[0;34m,\u001b[0m \u001b[0mtransformed\u001b[0m \u001b[0;34m=\u001b[0m \u001b[0mself\u001b[0m\u001b[0;34m.\u001b[0m\u001b[0mmomentum_fn\u001b[0m\u001b[0;34m(\u001b[0m\u001b[0;34m[\u001b[0m\u001b[0mposition\u001b[0m\u001b[0;34m,\u001b[0m \u001b[0mgrad\u001b[0m\u001b[0;34m,\u001b[0m \u001b[0mt\u001b[0m\u001b[0;34m]\u001b[0m\u001b[0;34m)\u001b[0m\u001b[0;34m\u001b[0m\u001b[0m\n\u001b[1;32m    189\u001b[0m         \u001b[0mscale\u001b[0m \u001b[0;34m*=\u001b[0m \u001b[0;36m0.5\u001b[0m \u001b[0;34m*\u001b[0m \u001b[0mself\u001b[0m\u001b[0;34m.\u001b[0m\u001b[0meps\u001b[0m\u001b[0;34m\u001b[0m\u001b[0m\n",
      "\u001b[0;32m~/ANL/l2hmc/l2hmc/tf_eager/gauge_dynamics_eager.py\u001b[0m in \u001b[0;36mgrad_potential\u001b[0;34m(self, position, check_numerics)\u001b[0m\n\u001b[1;32m    327\u001b[0m     \u001b[0;32mdef\u001b[0m \u001b[0mgrad_potential\u001b[0m\u001b[0;34m(\u001b[0m\u001b[0mself\u001b[0m\u001b[0;34m,\u001b[0m \u001b[0mposition\u001b[0m\u001b[0;34m,\u001b[0m \u001b[0mcheck_numerics\u001b[0m\u001b[0;34m=\u001b[0m\u001b[0;32mTrue\u001b[0m\u001b[0;34m)\u001b[0m\u001b[0;34m:\u001b[0m\u001b[0;34m\u001b[0m\u001b[0m\n\u001b[1;32m    328\u001b[0m         \u001b[0;34m\"\"\"Get gradient of potential function at current location.\"\"\"\u001b[0m\u001b[0;34m\u001b[0m\u001b[0m\n\u001b[0;32m--> 329\u001b[0;31m         \u001b[0mgrad_arr\u001b[0m \u001b[0;34m=\u001b[0m \u001b[0mself\u001b[0m\u001b[0;34m.\u001b[0m\u001b[0mlattice\u001b[0m\u001b[0;34m.\u001b[0m\u001b[0mgrad_action\u001b[0m\u001b[0;34m(\u001b[0m\u001b[0mposition\u001b[0m\u001b[0;34m,\u001b[0m \u001b[0mself\u001b[0m\u001b[0;34m.\u001b[0m\u001b[0mbatch_size\u001b[0m\u001b[0;34m)\u001b[0m\u001b[0;34m\u001b[0m\u001b[0m\n\u001b[0m\u001b[1;32m    330\u001b[0m \u001b[0;34m\u001b[0m\u001b[0m\n\u001b[1;32m    331\u001b[0m         \u001b[0;31m#  if tf.executing_eagerly():\u001b[0m\u001b[0;34m\u001b[0m\u001b[0;34m\u001b[0m\u001b[0m\n",
      "\u001b[0;32m~/ANL/l2hmc/l2hmc/lattice/gauge_lattice.py\u001b[0m in \u001b[0;36mgrad_action\u001b[0;34m(self, batch, batch_size)\u001b[0m\n\u001b[1;32m    255\u001b[0m         \u001b[0mgrad_arr\u001b[0m \u001b[0;34m=\u001b[0m \u001b[0;34m[\u001b[0m\u001b[0;34m]\u001b[0m\u001b[0;34m\u001b[0m\u001b[0m\n\u001b[1;32m    256\u001b[0m         \u001b[0;32mfor\u001b[0m \u001b[0midx\u001b[0m \u001b[0;32min\u001b[0m \u001b[0mrange\u001b[0m\u001b[0;34m(\u001b[0m\u001b[0mbatch_size\u001b[0m\u001b[0;34m)\u001b[0m\u001b[0;34m:\u001b[0m\u001b[0;34m\u001b[0m\u001b[0m\n\u001b[0;32m--> 257\u001b[0;31m             \u001b[0m_grad_action\u001b[0m \u001b[0;34m=\u001b[0m \u001b[0mself\u001b[0m\u001b[0;34m.\u001b[0m\u001b[0m_grad_action\u001b[0m\u001b[0;34m(\u001b[0m\u001b[0mbatch\u001b[0m\u001b[0;34m[\u001b[0m\u001b[0midx\u001b[0m\u001b[0;34m]\u001b[0m\u001b[0;34m)\u001b[0m\u001b[0;34m\u001b[0m\u001b[0m\n\u001b[0m\u001b[1;32m    258\u001b[0m             \u001b[0mgrad_arr\u001b[0m\u001b[0;34m.\u001b[0m\u001b[0mappend\u001b[0m\u001b[0;34m(\u001b[0m\u001b[0m_grad_action\u001b[0m\u001b[0;34m.\u001b[0m\u001b[0mflatten\u001b[0m\u001b[0;34m(\u001b[0m\u001b[0;34m)\u001b[0m\u001b[0;34m)\u001b[0m\u001b[0;34m\u001b[0m\u001b[0m\n\u001b[1;32m    259\u001b[0m         \u001b[0;32mreturn\u001b[0m \u001b[0mgrad_arr\u001b[0m\u001b[0;34m\u001b[0m\u001b[0m\n",
      "\u001b[0;32m~/ANL/l2hmc/l2hmc/lattice/gauge_lattice.py\u001b[0m in \u001b[0;36m_grad_action\u001b[0;34m(self, links)\u001b[0m\n\u001b[1;32m    249\u001b[0m         \u001b[0;32mfor\u001b[0m \u001b[0msite\u001b[0m \u001b[0;32min\u001b[0m \u001b[0mself\u001b[0m\u001b[0;34m.\u001b[0m\u001b[0miter_sites\u001b[0m\u001b[0;34m(\u001b[0m\u001b[0;34m)\u001b[0m\u001b[0;34m:\u001b[0m\u001b[0;34m\u001b[0m\u001b[0m\n\u001b[1;32m    250\u001b[0m             \u001b[0;32mfor\u001b[0m \u001b[0mmu\u001b[0m \u001b[0;32min\u001b[0m \u001b[0mrange\u001b[0m\u001b[0;34m(\u001b[0m\u001b[0mself\u001b[0m\u001b[0;34m.\u001b[0m\u001b[0mdim\u001b[0m\u001b[0;34m)\u001b[0m\u001b[0;34m:\u001b[0m\u001b[0;34m\u001b[0m\u001b[0m\n\u001b[0;32m--> 251\u001b[0;31m                 \u001b[0mgrad_arr\u001b[0m\u001b[0;34m[\u001b[0m\u001b[0msite\u001b[0m\u001b[0;34m]\u001b[0m\u001b[0;34m[\u001b[0m\u001b[0mmu\u001b[0m\u001b[0;34m]\u001b[0m \u001b[0;34m=\u001b[0m \u001b[0mself\u001b[0m\u001b[0;34m.\u001b[0m\u001b[0m_local_grad_action\u001b[0m\u001b[0;34m(\u001b[0m\u001b[0mlinks\u001b[0m\u001b[0;34m,\u001b[0m \u001b[0msite\u001b[0m\u001b[0;34m,\u001b[0m \u001b[0mmu\u001b[0m\u001b[0;34m)\u001b[0m\u001b[0;34m\u001b[0m\u001b[0m\n\u001b[0m\u001b[1;32m    252\u001b[0m         \u001b[0;32mreturn\u001b[0m \u001b[0mgrad_arr\u001b[0m\u001b[0;34m\u001b[0m\u001b[0m\n\u001b[1;32m    253\u001b[0m \u001b[0;34m\u001b[0m\u001b[0m\n",
      "\u001b[0;32m~/ANL/l2hmc/l2hmc/lattice/gauge_lattice.py\u001b[0m in \u001b[0;36m_local_grad_action\u001b[0;34m(self, links, site, mu)\u001b[0m\n\u001b[1;32m    235\u001b[0m                                                           \u001b[0mshifted_site\u001b[0m\u001b[0;34m,\u001b[0m\u001b[0;34m\u001b[0m\u001b[0m\n\u001b[1;32m    236\u001b[0m                                                           mu, nu)\n\u001b[0;32m--> 237\u001b[0;31m                 \u001b[0m_\u001b[0m\u001b[0;34m,\u001b[0m \u001b[0mplaq\u001b[0m \u001b[0;34m=\u001b[0m \u001b[0mself\u001b[0m\u001b[0;34m.\u001b[0m\u001b[0mplaquette_operator\u001b[0m\u001b[0;34m(\u001b[0m\u001b[0mlinks\u001b[0m\u001b[0;34m,\u001b[0m \u001b[0msite\u001b[0m\u001b[0;34m,\u001b[0m \u001b[0mmu\u001b[0m\u001b[0;34m,\u001b[0m \u001b[0mnu\u001b[0m\u001b[0;34m)\u001b[0m\u001b[0;34m\u001b[0m\u001b[0m\n\u001b[0m\u001b[1;32m    238\u001b[0m                 \u001b[0mforce\u001b[0m \u001b[0;34m+=\u001b[0m \u001b[0mnp\u001b[0m\u001b[0;34m.\u001b[0m\u001b[0msin\u001b[0m\u001b[0;34m(\u001b[0m\u001b[0mplaq_shifted\u001b[0m\u001b[0;34m)\u001b[0m \u001b[0;34m-\u001b[0m \u001b[0mnp\u001b[0m\u001b[0;34m.\u001b[0m\u001b[0msin\u001b[0m\u001b[0;34m(\u001b[0m\u001b[0mplaq\u001b[0m\u001b[0;34m)\u001b[0m\u001b[0;34m\u001b[0m\u001b[0m\n\u001b[1;32m    239\u001b[0m         \u001b[0;32mreturn\u001b[0m \u001b[0mforce\u001b[0m\u001b[0;34m\u001b[0m\u001b[0m\n",
      "\u001b[0;32m~/ANL/l2hmc/l2hmc/lattice/gauge_lattice.py\u001b[0m in \u001b[0;36mplaquette_operator\u001b[0;34m(self, links, site, mu, nu)\u001b[0m\n\u001b[1;32m    288\u001b[0m \u001b[0;34m\u001b[0m\u001b[0m\n\u001b[1;32m    289\u001b[0m         \u001b[0;32melse\u001b[0m\u001b[0;34m:\u001b[0m\u001b[0;34m\u001b[0m\u001b[0m\n\u001b[0;32m--> 290\u001b[0;31m             \u001b[0m_sum\u001b[0m \u001b[0;34m=\u001b[0m \u001b[0mlinks\u001b[0m\u001b[0;34m[\u001b[0m\u001b[0ml1\u001b[0m\u001b[0;34m]\u001b[0m \u001b[0;34m+\u001b[0m \u001b[0mlinks\u001b[0m\u001b[0;34m[\u001b[0m\u001b[0ml2\u001b[0m\u001b[0;34m]\u001b[0m \u001b[0;34m-\u001b[0m \u001b[0mlinks\u001b[0m\u001b[0;34m[\u001b[0m\u001b[0ml3\u001b[0m\u001b[0;34m]\u001b[0m \u001b[0;34m-\u001b[0m \u001b[0mlinks\u001b[0m\u001b[0;34m[\u001b[0m\u001b[0ml4\u001b[0m\u001b[0;34m]\u001b[0m\u001b[0;34m\u001b[0m\u001b[0m\n\u001b[0m\u001b[1;32m    291\u001b[0m             \u001b[0;32mreturn\u001b[0m \u001b[0mnp\u001b[0m\u001b[0;34m.\u001b[0m\u001b[0mcos\u001b[0m\u001b[0;34m(\u001b[0m\u001b[0m_sum\u001b[0m\u001b[0;34m)\u001b[0m \u001b[0;34m/\u001b[0m \u001b[0;36m6.\u001b[0m\u001b[0;34m,\u001b[0m \u001b[0m_sum\u001b[0m  \u001b[0;31m# each site has 6 plaquettes\u001b[0m\u001b[0;34m\u001b[0m\u001b[0m\n\u001b[1;32m    292\u001b[0m \u001b[0;34m\u001b[0m\u001b[0m\n",
      "\u001b[0;32m~/Library/Python/3.6/lib/python/site-packages/tensorflow/python/ops/array_ops.py\u001b[0m in \u001b[0;36m_slice_helper\u001b[0;34m(tensor, slice_spec, var)\u001b[0m\n\u001b[1;32m    522\u001b[0m         \u001b[0mellipsis_mask\u001b[0m\u001b[0;34m=\u001b[0m\u001b[0mellipsis_mask\u001b[0m\u001b[0;34m,\u001b[0m\u001b[0;34m\u001b[0m\u001b[0m\n\u001b[1;32m    523\u001b[0m         \u001b[0mvar\u001b[0m\u001b[0;34m=\u001b[0m\u001b[0mvar\u001b[0m\u001b[0;34m,\u001b[0m\u001b[0;34m\u001b[0m\u001b[0m\n\u001b[0;32m--> 524\u001b[0;31m         name=name)\n\u001b[0m\u001b[1;32m    525\u001b[0m \u001b[0;34m\u001b[0m\u001b[0m\n\u001b[1;32m    526\u001b[0m \u001b[0;34m\u001b[0m\u001b[0m\n",
      "\u001b[0;32m~/Library/Python/3.6/lib/python/site-packages/tensorflow/python/ops/array_ops.py\u001b[0m in \u001b[0;36mstrided_slice\u001b[0;34m(input_, begin, end, strides, begin_mask, end_mask, ellipsis_mask, new_axis_mask, shrink_axis_mask, var, name)\u001b[0m\n\u001b[1;32m    688\u001b[0m       \u001b[0mellipsis_mask\u001b[0m\u001b[0;34m=\u001b[0m\u001b[0mellipsis_mask\u001b[0m\u001b[0;34m,\u001b[0m\u001b[0;34m\u001b[0m\u001b[0m\n\u001b[1;32m    689\u001b[0m       \u001b[0mnew_axis_mask\u001b[0m\u001b[0;34m=\u001b[0m\u001b[0mnew_axis_mask\u001b[0m\u001b[0;34m,\u001b[0m\u001b[0;34m\u001b[0m\u001b[0m\n\u001b[0;32m--> 690\u001b[0;31m       shrink_axis_mask=shrink_axis_mask)\n\u001b[0m\u001b[1;32m    691\u001b[0m \u001b[0;34m\u001b[0m\u001b[0m\n\u001b[1;32m    692\u001b[0m   \u001b[0mparent_name\u001b[0m \u001b[0;34m=\u001b[0m \u001b[0mname\u001b[0m\u001b[0;34m\u001b[0m\u001b[0m\n",
      "\u001b[0;32m~/Library/Python/3.6/lib/python/site-packages/tensorflow/python/ops/gen_array_ops.py\u001b[0m in \u001b[0;36mstrided_slice\u001b[0;34m(input, begin, end, strides, begin_mask, end_mask, ellipsis_mask, new_axis_mask, shrink_axis_mask, name)\u001b[0m\n\u001b[1;32m   8251\u001b[0m         \u001b[0;34m\"begin_mask\"\u001b[0m\u001b[0;34m,\u001b[0m \u001b[0mbegin_mask\u001b[0m\u001b[0;34m,\u001b[0m \u001b[0;34m\"end_mask\"\u001b[0m\u001b[0;34m,\u001b[0m \u001b[0mend_mask\u001b[0m\u001b[0;34m,\u001b[0m \u001b[0;34m\"ellipsis_mask\"\u001b[0m\u001b[0;34m,\u001b[0m\u001b[0;34m\u001b[0m\u001b[0m\n\u001b[1;32m   8252\u001b[0m         \u001b[0mellipsis_mask\u001b[0m\u001b[0;34m,\u001b[0m \u001b[0;34m\"new_axis_mask\"\u001b[0m\u001b[0;34m,\u001b[0m \u001b[0mnew_axis_mask\u001b[0m\u001b[0;34m,\u001b[0m \u001b[0;34m\"shrink_axis_mask\"\u001b[0m\u001b[0;34m,\u001b[0m\u001b[0;34m\u001b[0m\u001b[0m\n\u001b[0;32m-> 8253\u001b[0;31m         shrink_axis_mask)\n\u001b[0m\u001b[1;32m   8254\u001b[0m       \u001b[0;32mreturn\u001b[0m \u001b[0m_result\u001b[0m\u001b[0;34m\u001b[0m\u001b[0m\n\u001b[1;32m   8255\u001b[0m     \u001b[0;32mexcept\u001b[0m \u001b[0m_core\u001b[0m\u001b[0;34m.\u001b[0m\u001b[0m_FallbackException\u001b[0m\u001b[0;34m:\u001b[0m\u001b[0;34m\u001b[0m\u001b[0m\n",
      "\u001b[0;31mKeyboardInterrupt\u001b[0m: "
     ]
    }
   ],
   "source": [
    "# 7m13s for 64 links with shape (2, 2, 2, 2, 4), batch_size = 2\n",
    "# 19m53s for 64 links with shape (2, 2, 2, 2, 4), batch_size = 5\n",
    "total_actions = []\n",
    "for i in range(1, train_iters + 1):\n",
    "    loss, samples, accept_prob = train_one_iter(\n",
    "        u1_dynamics, \n",
    "        samples, \n",
    "        optimizer,\n",
    "        loss_fn = loss_fn,\n",
    "        global_step=global_step\n",
    "    )\n",
    "    _total_actions = u1_lattice.total_action(samples, batch_size)\n",
    "    total_actions.extend(_total_actions)\n",
    "    \n",
    "    print(_total_actions)\n",
    "    print(\"Iteration {}, loss {:.4f}, x_accept {:.4f}, eps {:.4f}, avg_S {:.4f}\".format(\n",
    "        i, loss.numpy(), accept_prob.numpy().mean(), u1_dynamics.eps.numpy(), np.mean(_total_actions)\n",
    "    ))\n",
    "    print('\\n')\n",
    "    \n",
    "    if i % record_loss_every == 0:\n",
    "        with summary_writer.as_default():\n",
    "            with tf.contrib.summary.always_record_summaries():\n",
    "                tf.contrib.summary.scalar(\"Training loss\", loss, \n",
    "                                          step=global_step)\n",
    "    \n",
    "    if i % save_steps == 0:\n",
    "        saved_path = checkpointer.save(file_prefix=os.path.join(train_dir, \n",
    "                                                                \"ckpt\"))\n",
    "        print(f\"Saved checkpoint to: {saved_path}\")"
   ]
  },
  {
   "cell_type": "code",
   "execution_count": 46,
   "metadata": {
    "ExecuteTime": {
     "end_time": "2018-09-28T05:13:29.455009Z",
     "start_time": "2018-09-28T05:13:29.403132Z"
    }
   },
   "outputs": [],
   "source": [
    "total_actions = np.array(total_actions).reshape(train_iters, batch_size)"
   ]
  },
  {
   "cell_type": "code",
   "execution_count": 47,
   "metadata": {
    "ExecuteTime": {
     "end_time": "2018-09-28T05:13:40.210163Z",
     "start_time": "2018-09-28T05:13:40.158668Z"
    }
   },
   "outputs": [
    {
     "data": {
      "text/plain": [
       "array([13.27659808, 13.07365309, 13.07365309, 13.07365309, 13.07365309,\n",
       "       13.07365309, 12.56995857, 12.56995857, 11.6948818 , 11.6948818 ,\n",
       "       11.04025663, 10.1116315 ,  8.30393781,  6.02170212,  4.37457255,\n",
       "        1.97069106,  0.77623208, -0.28165939, -1.24480359, -1.09183565,\n",
       "       -0.99144835, -0.9755141 , -1.21855816, -0.88553424, -0.35959427,\n",
       "       -0.6124662 , -0.31900744, -0.29786256, -0.41500096, -1.08966561,\n",
       "       -1.11395323, -0.83870639, -0.75677254, -0.11470314, -0.26520809,\n",
       "       -0.85103595, -1.325062  , -1.2029996 , -0.83623051, -1.10287612,\n",
       "       -0.95760358, -0.57170075, -0.23748234, -0.99011732, -1.72738515,\n",
       "       -1.44816752, -1.36281338, -1.10624829, -0.5324351 ,  0.32979044])"
      ]
     },
     "execution_count": 47,
     "metadata": {},
     "output_type": "execute_result"
    }
   ],
   "source": [
    "np.mean(total_actions, axis=1)"
   ]
  },
  {
   "cell_type": "code",
   "execution_count": 50,
   "metadata": {
    "ExecuteTime": {
     "end_time": "2018-09-28T05:14:24.610542Z",
     "start_time": "2018-09-28T05:14:24.556864Z"
    }
   },
   "outputs": [
    {
     "name": "stdout",
     "output_type": "stream",
     "text": [
      "[[[[[0.6059793  2.174656   0.39121056 2.8758416 ]\n",
      "    [3.8716912  0.56082726 1.6411109  1.596311  ]]\n",
      "\n",
      "   [[0.4104136  0.428376   3.8064911  0.7468725 ]\n",
      "    [1.0877397  1.220398   4.857299   0.93723595]]]\n",
      "\n",
      "\n",
      "  [[[2.854507   0.50058836 0.09032671 0.7565119 ]\n",
      "    [2.4704466  1.2997208  0.85661435 0.40303546]]\n",
      "\n",
      "   [[1.8294978  0.46194318 1.125256   3.1045437 ]\n",
      "    [4.346581   3.46119    1.291667   0.77315813]]]]\n",
      "\n",
      "\n",
      "\n",
      " [[[[1.9028021  0.756763   0.24777377 6.0015783 ]\n",
      "    [0.3051336  0.7273674  1.0695355  0.44132656]]\n",
      "\n",
      "   [[0.7852452  3.6366775  0.47717005 3.5577178 ]\n",
      "    [6.1400743  1.7912223  4.0611787  1.991279  ]]]\n",
      "\n",
      "\n",
      "  [[[1.437264   4.3467774  0.8976823  4.8767915 ]\n",
      "    [1.3664039  3.1249125  4.8176794  4.905148  ]]\n",
      "\n",
      "   [[0.28135774 2.4260843  1.3426757  1.7272958 ]\n",
      "    [0.69482154 0.47839203 0.50907886 4.6306844 ]]]]]\n"
     ]
    }
   ],
   "source": [
    "print(samples[0].numpy().reshape(u1_lattice.links.shape))"
   ]
  },
  {
   "cell_type": "code",
   "execution_count": 78,
   "metadata": {
    "ExecuteTime": {
     "end_time": "2018-09-28T06:34:14.362360Z",
     "start_time": "2018-09-28T06:34:14.277103Z"
    }
   },
   "outputs": [
    {
     "name": "stdout",
     "output_type": "stream",
     "text": [
      "Saved checkpoint to: ../U1_logs/run_6/ckpt-3\n"
     ]
    }
   ],
   "source": [
    "saved_path = checkpointer.save(file_prefix=os.path.join(train_dir, \n",
    "                                                        \"ckpt\"))\n",
    "print(f\"Saved checkpoint to: {saved_path}\")"
   ]
  },
  {
   "cell_type": "code",
   "execution_count": 21,
   "metadata": {
    "ExecuteTime": {
     "end_time": "2018-09-28T04:35:51.082699Z",
     "start_time": "2018-09-28T04:35:51.033735Z"
    }
   },
   "outputs": [],
   "source": []
  },
  {
   "cell_type": "code",
   "execution_count": 16,
   "metadata": {
    "ExecuteTime": {
     "end_time": "2018-09-28T04:30:33.080263Z",
     "start_time": "2018-09-28T04:30:33.036014Z"
    }
   },
   "outputs": [
    {
     "name": "stdout",
     "output_type": "stream",
     "text": [
      "Help on method flush in module ipykernel.iostream:\n",
      "\n",
      "flush() method of ipykernel.iostream.OutStream instance\n",
      "    trigger actual zmq send\n",
      "    \n",
      "    send will happen in the background thread\n",
      "\n"
     ]
    }
   ],
   "source": [
    "import sys\n",
    "help(sys.stdout.flush)"
   ]
  },
  {
   "cell_type": "code",
   "execution_count": 11,
   "metadata": {
    "ExecuteTime": {
     "end_time": "2018-09-28T04:25:31.415414Z",
     "start_time": "2018-09-28T04:25:31.353734Z"
    }
   },
   "outputs": [
    {
     "data": {
      "text/plain": [
       "(<tf.Tensor: id=315487, shape=(), dtype=float32, numpy=435.77283>,\n",
       " <tf.Tensor: id=169879, shape=(2, 64), dtype=float32, numpy=\n",
       " array([[0.3880173 , 0.5899346 , 0.7016848 , 0.5990745 , 0.5219401 ,\n",
       "         0.9196011 , 0.9525441 , 0.9359869 , 0.25037813, 0.61384606,\n",
       "         0.8853723 , 0.7008663 , 0.46281803, 0.8451578 , 0.6307719 ,\n",
       "         0.7388011 , 0.8698082 , 0.25262702, 0.7657299 , 0.7845003 ,\n",
       "         0.41359487, 0.15271497, 0.9564786 , 0.9552279 , 0.8520697 ,\n",
       "         0.5839676 , 0.8863903 , 0.80490005, 0.09511092, 0.21265566,\n",
       "         0.5685413 , 0.18593708, 0.2397108 , 0.8676617 , 0.27230152,\n",
       "         0.8837739 , 0.01008116, 0.4798919 , 0.7584469 , 0.63647527,\n",
       "         0.46477962, 0.71595037, 0.91022605, 0.6463619 , 0.52518564,\n",
       "         0.48763356, 0.21342352, 0.4212268 , 0.289053  , 0.23400478,\n",
       "         0.7312603 , 0.48150775, 0.398928  , 0.8025431 , 0.9205895 ,\n",
       "         0.27285406, 0.85092205, 0.81339276, 0.21941423, 0.44695216,\n",
       "         0.4644379 , 0.5926884 , 0.5382971 , 0.7866983 ],\n",
       "        [0.04767391, 0.687253  , 0.8619028 , 0.47892368, 0.60919446,\n",
       "         0.49985844, 0.474929  , 0.14553648, 0.9966882 , 0.6234469 ,\n",
       "         0.53849274, 0.73050535, 0.55880594, 0.42182517, 0.18639436,\n",
       "         0.55685115, 0.21942046, 0.48593262, 0.05989448, 0.17928329,\n",
       "         0.21815182, 0.46405882, 0.28941053, 0.9426329 , 0.92553896,\n",
       "         0.6135122 , 0.31924838, 0.6774802 , 0.37968263, 0.14223911,\n",
       "         0.8922917 , 0.9324678 , 0.84039485, 0.5235741 , 0.907842  ,\n",
       "         0.9637814 , 0.93283355, 0.23154959, 0.9589418 , 0.82241166,\n",
       "         0.74602973, 0.95947486, 0.47976983, 0.9091563 , 0.96241754,\n",
       "         0.5233524 , 0.45335463, 0.32273984, 0.7401711 , 0.8178213 ,\n",
       "         0.36928225, 0.85606414, 0.5344553 , 0.9876474 , 0.61598474,\n",
       "         0.9963986 , 0.06314632, 0.5247247 , 0.81062895, 0.11584939,\n",
       "         0.5315806 , 0.9852594 , 0.8209814 , 0.1376278 ]], dtype=float32)>,\n",
       " <tf.Tensor: id=169860, shape=(2,), dtype=float32, numpy=array([4.3224391e-05, 4.9611197e-05], dtype=float32)>)"
      ]
     },
     "execution_count": 11,
     "metadata": {},
     "output_type": "execute_result"
    }
   ],
   "source": [
    "loss, samples, accept_prob"
   ]
  },
  {
   "cell_type": "markdown",
   "metadata": {},
   "source": [
    "### Construct GaugeLattice with SU(3) gauge group"
   ]
  },
  {
   "cell_type": "code",
   "execution_count": null,
   "metadata": {},
   "outputs": [],
   "source": []
  },
  {
   "cell_type": "code",
   "execution_count": 6,
   "metadata": {
    "ExecuteTime": {
     "end_time": "2018-09-26T15:12:32.733478Z",
     "start_time": "2018-09-26T15:12:32.504656Z"
    }
   },
   "outputs": [],
   "source": [
    "time_size = 2\n",
    "space_size = 4\n",
    "dim = 4\n",
    "beta = 1.\n",
    "link_type = 'SU3' \n",
    "batch_size = 3\n",
    "gauge_lattice = GaugeLattice(time_size, space_size, dim, beta, link_type)\n",
    "# create `num_samples` random samples of GaugeLattice.links\n",
    "links_samples = gauge_lattice.get_links_samples(batch_size, link_type=link_type)"
   ]
  },
  {
   "cell_type": "code",
   "execution_count": null,
   "metadata": {},
   "outputs": [],
   "source": []
  },
  {
   "cell_type": "code",
   "execution_count": 8,
   "metadata": {
    "ExecuteTime": {
     "end_time": "2018-09-26T15:12:40.607989Z",
     "start_time": "2018-09-26T15:12:40.489217Z"
    }
   },
   "outputs": [],
   "source": [
    "gauge_energy_fn = gauge_lattice.get_energy_function()\n",
    "gauge_dynamics = l2hmc.GaugeDynamics(gauge_lattice, \n",
    "                                     minus_loglikelihood_fn=gauge_energy_fn, \n",
    "                                     batch_size=3, n_steps=5, eps=0.1)"
   ]
  },
  {
   "cell_type": "code",
   "execution_count": 15,
   "metadata": {
    "ExecuteTime": {
     "end_time": "2018-09-26T15:14:28.743723Z",
     "start_time": "2018-09-26T15:14:28.662992Z"
    }
   },
   "outputs": [
    {
     "data": {
      "text/plain": [
       "(2, 4, 4, 4, 4, 3, 3)"
      ]
     },
     "execution_count": 15,
     "metadata": {},
     "output_type": "execute_result"
    }
   ],
   "source": [
    "gauge_lattice.links.shape"
   ]
  },
  {
   "cell_type": "code",
   "execution_count": 9,
   "metadata": {
    "ExecuteTime": {
     "end_time": "2018-09-26T15:12:45.079360Z",
     "start_time": "2018-09-26T15:12:43.109499Z"
    }
   },
   "outputs": [
    {
     "data": {
      "text/plain": [
       "[1268.4961, 1267.7504, 1267.6804]"
      ]
     },
     "execution_count": 9,
     "metadata": {},
     "output_type": "execute_result"
    }
   ],
   "source": [
    "potential_arr = gauge_dynamics.potential(links_samples, batch_size)\n",
    "\n",
    "[i.numpy() for i in potential_arr]"
   ]
  },
  {
   "cell_type": "code",
   "execution_count": 11,
   "metadata": {
    "ExecuteTime": {
     "end_time": "2018-09-26T15:13:16.255416Z",
     "start_time": "2018-09-26T15:13:16.157588Z"
    }
   },
   "outputs": [],
   "source": [
    "_momentum = tf.random_normal(tf.shape(links_samples))"
   ]
  },
  {
   "cell_type": "code",
   "execution_count": 13,
   "metadata": {
    "ExecuteTime": {
     "end_time": "2018-09-26T15:13:23.283119Z",
     "start_time": "2018-09-26T15:13:23.204441Z"
    }
   },
   "outputs": [
    {
     "data": {
      "text/plain": [
       "array([2295.3035, 2392.9976, 2327.1277], dtype=float32)"
      ]
     },
     "execution_count": 13,
     "metadata": {},
     "output_type": "execute_result"
    }
   ],
   "source": [
    "gauge_dynamics.kinetic(_momentum).numpy()"
   ]
  },
  {
   "cell_type": "code",
   "execution_count": 14,
   "metadata": {
    "ExecuteTime": {
     "end_time": "2018-09-26T15:13:37.712836Z",
     "start_time": "2018-09-26T15:13:35.821847Z"
    }
   },
   "outputs": [
    {
     "data": {
      "text/plain": [
       "<tf.Tensor: id=143019, shape=(3,), dtype=float32, numpy=array([3563.7996, 3660.748 , 3594.808 ], dtype=float32)>"
      ]
     },
     "execution_count": 14,
     "metadata": {},
     "output_type": "execute_result"
    }
   ],
   "source": [
    "_x = links_samples\n",
    "#_momentum = tf.random_normal(tf.shape(_x))\n",
    "_hamiltonian = gauge_dynamics.hamiltonian(_x, _momentum)\n",
    "_hamiltonian"
   ]
  },
  {
   "cell_type": "markdown",
   "metadata": {
    "heading_collapsed": true
   },
   "source": [
    "### Construct IsingLattice"
   ]
  },
  {
   "cell_type": "code",
   "execution_count": 88,
   "metadata": {
    "ExecuteTime": {
     "end_time": "2018-09-26T06:37:22.328501Z",
     "start_time": "2018-09-26T06:37:22.220884Z"
    },
    "hidden": true
   },
   "outputs": [],
   "source": [
    "ising_batch_size = 10\n",
    "ising_lattice = IsingLattice(3, 4)\n",
    "ising_samples = [ising_lattice._randomize() for _ in range(ising_batch_size)]"
   ]
  },
  {
   "cell_type": "code",
   "execution_count": 89,
   "metadata": {
    "ExecuteTime": {
     "end_time": "2018-09-26T06:37:51.184935Z",
     "start_time": "2018-09-26T06:37:51.073172Z"
    },
    "hidden": true
   },
   "outputs": [],
   "source": [
    "ising_energy_fn = ising_lattice.get_energy_function()\n",
    "ising_dynamics = l2hmc.LatticeDynamics(ising_lattice, \n",
    "                                       minus_loglikelihood_fn=ising_energy_fn,\n",
    "                                       batch_size=ising_batch_size, \n",
    "                                       n_steps=10, eps=0.1)\n",
    "#dynamics = l2hmc.LDynamics(latt.sites.shape, minus_loglikelihood_fn=energy_fn, n_steps=10, eps=0.1)"
   ]
  },
  {
   "cell_type": "code",
   "execution_count": 90,
   "metadata": {
    "ExecuteTime": {
     "end_time": "2018-09-26T06:37:54.524077Z",
     "start_time": "2018-09-26T06:37:54.435783Z"
    },
    "hidden": true
   },
   "outputs": [
    {
     "data": {
      "text/plain": [
       "[0, 24, 0, 24, -16, -8, 0, -8, -32, 24]"
      ]
     },
     "execution_count": 90,
     "metadata": {},
     "output_type": "execute_result"
    }
   ],
   "source": [
    "ising_dynamics.potential(samples, batch_size)"
   ]
  },
  {
   "cell_type": "code",
   "execution_count": 91,
   "metadata": {
    "ExecuteTime": {
     "end_time": "2018-09-26T06:38:19.182664Z",
     "start_time": "2018-09-26T06:38:19.078701Z"
    },
    "hidden": true
   },
   "outputs": [
    {
     "data": {
      "text/plain": [
       "<tf.Tensor: id=458093, shape=(10,), dtype=float32, numpy=\n",
       "array([22.397621, 50.170174, 55.35661 , 28.805382, 52.04349 , 32.253098,\n",
       "       45.301197, 75.20062 , 23.465696, 17.285112], dtype=float32)>"
      ]
     },
     "execution_count": 91,
     "metadata": {},
     "output_type": "execute_result"
    }
   ],
   "source": [
    "_iposition = ising_samples\n",
    "_imomentum = tf.random_normal(tf.shape(_iposition))\n",
    "_ihamiltonian = dynamics.hamiltonian(_iposition, _imomentum)\n",
    "_ihamiltonian"
   ]
  },
  {
   "cell_type": "code",
   "execution_count": 92,
   "metadata": {
    "ExecuteTime": {
     "end_time": "2018-09-26T06:38:30.265961Z",
     "start_time": "2018-09-26T06:38:30.174827Z"
    },
    "hidden": true
   },
   "outputs": [],
   "source": [
    "_isample = _iposition[0].reshape(ising_lattice.num_sites)\n",
    "#dynamics.grad_potential(np.array(_position).reshape(-1, lattice.num_sites))"
   ]
  },
  {
   "cell_type": "code",
   "execution_count": 107,
   "metadata": {
    "ExecuteTime": {
     "end_time": "2018-09-26T06:50:33.496377Z",
     "start_time": "2018-09-26T06:50:32.749093Z"
    },
    "hidden": true
   },
   "outputs": [],
   "source": [
    "grad_pot = dynamics.grad_potential(ising_samples)"
   ]
  },
  {
   "cell_type": "code",
   "execution_count": 97,
   "metadata": {
    "ExecuteTime": {
     "end_time": "2018-09-26T06:39:02.161470Z",
     "start_time": "2018-09-26T06:39:02.082906Z"
    },
    "hidden": true
   },
   "outputs": [],
   "source": [
    "grad_pot"
   ]
  },
  {
   "cell_type": "code",
   "execution_count": 109,
   "metadata": {
    "ExecuteTime": {
     "end_time": "2018-09-26T06:50:55.836732Z",
     "start_time": "2018-09-26T06:50:55.711166Z"
    },
    "hidden": true
   },
   "outputs": [
    {
     "ename": "IndexError",
     "evalue": "list index out of range",
     "output_type": "error",
     "traceback": [
      "\u001b[0;31m---------------------------------------------------------------------------\u001b[0m",
      "\u001b[0;31mIndexError\u001b[0m                                Traceback (most recent call last)",
      "\u001b[0;32m<ipython-input-109-718fbbeb9bbe>\u001b[0m in \u001b[0;36m<module>\u001b[0;34m()\u001b[0m\n\u001b[0;32m----> 1\u001b[0;31m \u001b[0mising_jacobian\u001b[0m \u001b[0;34m=\u001b[0m \u001b[0mjacobian\u001b[0m\u001b[0;34m(\u001b[0m\u001b[0mdynamics\u001b[0m\u001b[0;34m.\u001b[0m\u001b[0mpotential\u001b[0m\u001b[0;34m,\u001b[0m \u001b[0mising_samples\u001b[0m\u001b[0;34m)\u001b[0m\u001b[0;34m\u001b[0m\u001b[0m\n\u001b[0m",
      "\u001b[0;32m~/ANL/l2hmc/l2hmc/utils/jacobian.py\u001b[0m in \u001b[0;36mjacobian\u001b[0;34m(fx, x, parallel_iterations)\u001b[0m\n\u001b[1;32m     58\u001b[0m         \u001b[0;32mreturn\u001b[0m \u001b[0mgrad\u001b[0m\u001b[0;34m\u001b[0m\u001b[0m\n\u001b[1;32m     59\u001b[0m \u001b[0;34m\u001b[0m\u001b[0m\n\u001b[0;32m---> 60\u001b[0;31m     return _map(_grads(fx, x),\n\u001b[0m\u001b[1;32m     61\u001b[0m                \u001b[0;31m#  lambda fxi: tf.gradients(fxi, x)[0],\u001b[0m\u001b[0;34m\u001b[0m\u001b[0;34m\u001b[0m\u001b[0m\n\u001b[1;32m     62\u001b[0m                \u001b[0mtf\u001b[0m\u001b[0;34m.\u001b[0m\u001b[0mreshape\u001b[0m\u001b[0;34m(\u001b[0m\u001b[0mfx\u001b[0m\u001b[0;34m,\u001b[0m \u001b[0;34m[\u001b[0m\u001b[0;34m-\u001b[0m\u001b[0;36m1\u001b[0m\u001b[0;34m]\u001b[0m\u001b[0;34m)\u001b[0m\u001b[0;34m,\u001b[0m\u001b[0;34m\u001b[0m\u001b[0m\n",
      "\u001b[0;32m~/ANL/l2hmc/l2hmc/utils/jacobian.py\u001b[0m in \u001b[0;36m_grads\u001b[0;34m(fxi, x)\u001b[0m\n\u001b[1;32m     52\u001b[0m         \u001b[0;32mif\u001b[0m \u001b[0mtf\u001b[0m\u001b[0;34m.\u001b[0m\u001b[0mexecuting_eagerly\u001b[0m\u001b[0;34m(\u001b[0m\u001b[0;34m)\u001b[0m\u001b[0;34m:\u001b[0m\u001b[0;34m\u001b[0m\u001b[0m\n\u001b[1;32m     53\u001b[0m             \u001b[0mgrad_fn\u001b[0m \u001b[0;34m=\u001b[0m \u001b[0mtfe\u001b[0m\u001b[0;34m.\u001b[0m\u001b[0mgradients_function\u001b[0m\u001b[0;34m(\u001b[0m\u001b[0mfxi\u001b[0m\u001b[0;34m)\u001b[0m\u001b[0;34m\u001b[0m\u001b[0m\n\u001b[0;32m---> 54\u001b[0;31m             \u001b[0mgrad\u001b[0m \u001b[0;34m=\u001b[0m \u001b[0mgrad_fn\u001b[0m\u001b[0;34m(\u001b[0m\u001b[0mx\u001b[0m\u001b[0;34m[\u001b[0m\u001b[0;36m0\u001b[0m\u001b[0;34m]\u001b[0m\u001b[0;34m)\u001b[0m\u001b[0;34m[\u001b[0m\u001b[0;36m0\u001b[0m\u001b[0;34m]\u001b[0m\u001b[0;34m\u001b[0m\u001b[0m\n\u001b[0m\u001b[1;32m     55\u001b[0m         \u001b[0;32melse\u001b[0m\u001b[0;34m:\u001b[0m\u001b[0;34m\u001b[0m\u001b[0m\n\u001b[1;32m     56\u001b[0m             \u001b[0mgrad_fn\u001b[0m \u001b[0;34m=\u001b[0m \u001b[0mtf\u001b[0m\u001b[0;34m.\u001b[0m\u001b[0mgradients\u001b[0m\u001b[0;34m(\u001b[0m\u001b[0mfxi\u001b[0m\u001b[0;34m,\u001b[0m \u001b[0mx\u001b[0m\u001b[0;34m)\u001b[0m\u001b[0;34m\u001b[0m\u001b[0m\n",
      "\u001b[0;32m~/miniconda3/envs/tensorflow_cpu/lib/python3.6/site-packages/tensorflow/python/eager/backprop.py\u001b[0m in \u001b[0;36mdecorated\u001b[0;34m(*args, **kwds)\u001b[0m\n\u001b[1;32m    367\u001b[0m     \u001b[0;34m\"\"\"Computes the gradient of the decorated function.\"\"\"\u001b[0m\u001b[0;34m\u001b[0m\u001b[0m\n\u001b[1;32m    368\u001b[0m \u001b[0;34m\u001b[0m\u001b[0m\n\u001b[0;32m--> 369\u001b[0;31m     \u001b[0m_\u001b[0m\u001b[0;34m,\u001b[0m \u001b[0mgrad\u001b[0m \u001b[0;34m=\u001b[0m \u001b[0mval_and_grad_function\u001b[0m\u001b[0;34m(\u001b[0m\u001b[0mf\u001b[0m\u001b[0;34m,\u001b[0m \u001b[0mparams\u001b[0m\u001b[0;34m=\u001b[0m\u001b[0mparams\u001b[0m\u001b[0;34m)\u001b[0m\u001b[0;34m(\u001b[0m\u001b[0;34m*\u001b[0m\u001b[0margs\u001b[0m\u001b[0;34m,\u001b[0m \u001b[0;34m**\u001b[0m\u001b[0mkwds\u001b[0m\u001b[0;34m)\u001b[0m\u001b[0;34m\u001b[0m\u001b[0m\n\u001b[0m\u001b[1;32m    370\u001b[0m     \u001b[0;32mreturn\u001b[0m \u001b[0mgrad\u001b[0m\u001b[0;34m\u001b[0m\u001b[0m\n\u001b[1;32m    371\u001b[0m \u001b[0;34m\u001b[0m\u001b[0m\n",
      "\u001b[0;32m~/miniconda3/envs/tensorflow_cpu/lib/python3.6/site-packages/tensorflow/python/eager/backprop.py\u001b[0m in \u001b[0;36mdecorated\u001b[0;34m(*args, **kwds)\u001b[0m\n\u001b[1;32m    466\u001b[0m       raise ValueError(\"Functions to be differentiated cannot \"\n\u001b[1;32m    467\u001b[0m                        \"receive keyword arguments.\")\n\u001b[0;32m--> 468\u001b[0;31m     \u001b[0mval\u001b[0m\u001b[0;34m,\u001b[0m \u001b[0mvjp\u001b[0m \u001b[0;34m=\u001b[0m \u001b[0mmake_vjp\u001b[0m\u001b[0;34m(\u001b[0m\u001b[0mf\u001b[0m\u001b[0;34m,\u001b[0m \u001b[0mparams\u001b[0m\u001b[0;34m)\u001b[0m\u001b[0;34m(\u001b[0m\u001b[0;34m*\u001b[0m\u001b[0margs\u001b[0m\u001b[0;34m,\u001b[0m \u001b[0;34m**\u001b[0m\u001b[0mkwds\u001b[0m\u001b[0;34m)\u001b[0m\u001b[0;34m\u001b[0m\u001b[0m\n\u001b[0m\u001b[1;32m    469\u001b[0m     \u001b[0;32mreturn\u001b[0m \u001b[0mval\u001b[0m\u001b[0;34m,\u001b[0m \u001b[0mvjp\u001b[0m\u001b[0;34m(\u001b[0m\u001b[0mdy\u001b[0m\u001b[0;34m=\u001b[0m\u001b[0mdy\u001b[0m\u001b[0;34m)\u001b[0m\u001b[0;34m\u001b[0m\u001b[0m\n\u001b[1;32m    470\u001b[0m \u001b[0;34m\u001b[0m\u001b[0m\n",
      "\u001b[0;32m~/miniconda3/envs/tensorflow_cpu/lib/python3.6/site-packages/tensorflow/python/eager/backprop.py\u001b[0m in \u001b[0;36mdecorated\u001b[0;34m(*args, **kwds)\u001b[0m\n\u001b[1;32m    520\u001b[0m       \u001b[0margs\u001b[0m \u001b[0;34m=\u001b[0m \u001b[0m_ensure_unique_tensor_objects\u001b[0m\u001b[0;34m(\u001b[0m\u001b[0mparameter_positions\u001b[0m\u001b[0;34m,\u001b[0m \u001b[0margs\u001b[0m\u001b[0;34m)\u001b[0m\u001b[0;34m\u001b[0m\u001b[0m\n\u001b[1;32m    521\u001b[0m       \u001b[0;32mfor\u001b[0m \u001b[0mi\u001b[0m \u001b[0;32min\u001b[0m \u001b[0mparameter_positions\u001b[0m\u001b[0;34m:\u001b[0m\u001b[0;34m\u001b[0m\u001b[0m\n\u001b[0;32m--> 522\u001b[0;31m         \u001b[0msources\u001b[0m\u001b[0;34m.\u001b[0m\u001b[0mappend\u001b[0m\u001b[0;34m(\u001b[0m\u001b[0margs\u001b[0m\u001b[0;34m[\u001b[0m\u001b[0mi\u001b[0m\u001b[0;34m]\u001b[0m\u001b[0;34m)\u001b[0m\u001b[0;34m\u001b[0m\u001b[0m\n\u001b[0m\u001b[1;32m    523\u001b[0m         \u001b[0mtape\u001b[0m\u001b[0;34m.\u001b[0m\u001b[0mwatch\u001b[0m\u001b[0;34m(\u001b[0m\u001b[0margs\u001b[0m\u001b[0;34m[\u001b[0m\u001b[0mi\u001b[0m\u001b[0;34m]\u001b[0m\u001b[0;34m)\u001b[0m\u001b[0;34m\u001b[0m\u001b[0m\n\u001b[1;32m    524\u001b[0m       \u001b[0mresult\u001b[0m \u001b[0;34m=\u001b[0m \u001b[0mf\u001b[0m\u001b[0;34m(\u001b[0m\u001b[0;34m*\u001b[0m\u001b[0margs\u001b[0m\u001b[0;34m)\u001b[0m\u001b[0;34m\u001b[0m\u001b[0m\n",
      "\u001b[0;31mIndexError\u001b[0m: list index out of range"
     ]
    }
   ],
   "source": [
    "ising_jacobian = jacobian(dynamics.potential, ising_samples)"
   ]
  },
  {
   "cell_type": "code",
   "execution_count": 110,
   "metadata": {
    "ExecuteTime": {
     "end_time": "2018-09-26T06:53:41.426408Z",
     "start_time": "2018-09-26T06:50:59.930638Z"
    },
    "hidden": true
   },
   "outputs": [
    {
     "name": "stdout",
     "output_type": "stream",
     "text": [
      "> \u001b[0;32m/Users/saforem2/miniconda3/envs/tensorflow_cpu/lib/python3.6/site-packages/tensorflow/python/eager/backprop.py\u001b[0m(533)\u001b[0;36mdecorated\u001b[0;34m()\u001b[0m\n",
      "\u001b[0;32m    531 \u001b[0;31m      \u001b[0mresult\u001b[0m \u001b[0;34m=\u001b[0m \u001b[0mnest\u001b[0m\u001b[0;34m.\u001b[0m\u001b[0mpack_sequence_as\u001b[0m\u001b[0;34m(\u001b[0m\u001b[0mresult\u001b[0m\u001b[0;34m,\u001b[0m \u001b[0mflat_result\u001b[0m\u001b[0;34m)\u001b[0m\u001b[0;34m\u001b[0m\u001b[0m\n",
      "\u001b[0m\u001b[0;32m    532 \u001b[0;31m    \u001b[0;32mfinally\u001b[0m\u001b[0;34m:\u001b[0m\u001b[0;34m\u001b[0m\u001b[0m\n",
      "\u001b[0m\u001b[0;32m--> 533 \u001b[0;31m      \u001b[0mtape\u001b[0m\u001b[0;34m.\u001b[0m\u001b[0mpop_tape\u001b[0m\u001b[0;34m(\u001b[0m\u001b[0mthis_tape\u001b[0m\u001b[0;34m)\u001b[0m\u001b[0;34m\u001b[0m\u001b[0m\n",
      "\u001b[0m\u001b[0;32m    534 \u001b[0;31m    \u001b[0;32mdef\u001b[0m \u001b[0mvjp\u001b[0m\u001b[0;34m(\u001b[0m\u001b[0mdy\u001b[0m\u001b[0;34m=\u001b[0m\u001b[0;32mNone\u001b[0m\u001b[0;34m)\u001b[0m\u001b[0;34m:\u001b[0m\u001b[0;34m\u001b[0m\u001b[0m\n",
      "\u001b[0m\u001b[0;32m    535 \u001b[0;31m      \u001b[0;32mif\u001b[0m \u001b[0mdy\u001b[0m \u001b[0;32mis\u001b[0m \u001b[0;32mnot\u001b[0m \u001b[0;32mNone\u001b[0m\u001b[0;34m:\u001b[0m\u001b[0;34m\u001b[0m\u001b[0m\n",
      "\u001b[0m\n",
      "ipdb> ll\n",
      "\u001b[1;32m    508 \u001b[0m  \u001b[0;32mdef\u001b[0m \u001b[0mdecorated\u001b[0m\u001b[0;34m(\u001b[0m\u001b[0;34m*\u001b[0m\u001b[0margs\u001b[0m\u001b[0;34m,\u001b[0m \u001b[0;34m**\u001b[0m\u001b[0mkwds\u001b[0m\u001b[0;34m)\u001b[0m\u001b[0;34m:\u001b[0m\u001b[0;34m\u001b[0m\u001b[0m\n",
      "\u001b[1;32m    509 \u001b[0m    \u001b[0;34m\"\"\"Computes the value and gradient of the decorated function.\"\"\"\u001b[0m\u001b[0;34m\u001b[0m\u001b[0m\n",
      "\u001b[1;32m    510 \u001b[0m    \u001b[0mparameter_positions\u001b[0m \u001b[0;34m=\u001b[0m \u001b[0m_get_arg_spec\u001b[0m\u001b[0;34m(\u001b[0m\u001b[0mf\u001b[0m\u001b[0;34m,\u001b[0m \u001b[0mparams\u001b[0m\u001b[0;34m,\u001b[0m \u001b[0margs\u001b[0m\u001b[0;34m)\u001b[0m\u001b[0;34m\u001b[0m\u001b[0m\n",
      "\u001b[1;32m    511 \u001b[0m    \u001b[0;32massert\u001b[0m \u001b[0;32mnot\u001b[0m \u001b[0mkwds\u001b[0m\u001b[0;34m,\u001b[0m \u001b[0;34m\"The gradient function can't take keyword arguments.\"\u001b[0m\u001b[0;34m\u001b[0m\u001b[0m\n",
      "\u001b[1;32m    512 \u001b[0m    \u001b[0mthis_tape\u001b[0m \u001b[0;34m=\u001b[0m \u001b[0mtape\u001b[0m\u001b[0;34m.\u001b[0m\u001b[0mpush_new_tape\u001b[0m\u001b[0;34m(\u001b[0m\u001b[0mpersistent\u001b[0m\u001b[0;34m=\u001b[0m\u001b[0mpersistent\u001b[0m\u001b[0;34m)\u001b[0m\u001b[0;34m\u001b[0m\u001b[0m\n",
      "\u001b[1;32m    513 \u001b[0m    \u001b[0;32mtry\u001b[0m\u001b[0;34m:\u001b[0m\u001b[0;34m\u001b[0m\u001b[0m\n",
      "\u001b[1;32m    514 \u001b[0m      \u001b[0msources\u001b[0m \u001b[0;34m=\u001b[0m \u001b[0;34m[\u001b[0m\u001b[0;34m]\u001b[0m\u001b[0;34m\u001b[0m\u001b[0m\n",
      "\u001b[1;32m    515 \u001b[0m      args = [\n",
      "\u001b[1;32m    516 \u001b[0m          \u001b[0mops\u001b[0m\u001b[0;34m.\u001b[0m\u001b[0mconvert_to_tensor\u001b[0m\u001b[0;34m(\u001b[0m\u001b[0margs\u001b[0m\u001b[0;34m[\u001b[0m\u001b[0mi\u001b[0m\u001b[0;34m]\u001b[0m\u001b[0;34m)\u001b[0m\u001b[0;34m\u001b[0m\u001b[0m\n",
      "\u001b[1;32m    517 \u001b[0m          \u001b[0;32mif\u001b[0m \u001b[0mi\u001b[0m \u001b[0;32min\u001b[0m \u001b[0mparameter_positions\u001b[0m \u001b[0;32melse\u001b[0m \u001b[0margs\u001b[0m\u001b[0;34m[\u001b[0m\u001b[0mi\u001b[0m\u001b[0;34m]\u001b[0m\u001b[0;34m\u001b[0m\u001b[0m\n",
      "\u001b[1;32m    518 \u001b[0m          \u001b[0;32mfor\u001b[0m \u001b[0mi\u001b[0m \u001b[0;32min\u001b[0m \u001b[0mrange\u001b[0m\u001b[0;34m(\u001b[0m\u001b[0mlen\u001b[0m\u001b[0;34m(\u001b[0m\u001b[0margs\u001b[0m\u001b[0;34m)\u001b[0m\u001b[0;34m)\u001b[0m\u001b[0;34m\u001b[0m\u001b[0m\n",
      "\u001b[1;32m    519 \u001b[0m      ]\n",
      "\u001b[1;32m    520 \u001b[0m      \u001b[0margs\u001b[0m \u001b[0;34m=\u001b[0m \u001b[0m_ensure_unique_tensor_objects\u001b[0m\u001b[0;34m(\u001b[0m\u001b[0mparameter_positions\u001b[0m\u001b[0;34m,\u001b[0m \u001b[0margs\u001b[0m\u001b[0;34m)\u001b[0m\u001b[0;34m\u001b[0m\u001b[0m\n",
      "\u001b[1;32m    521 \u001b[0m      \u001b[0;32mfor\u001b[0m \u001b[0mi\u001b[0m \u001b[0;32min\u001b[0m \u001b[0mparameter_positions\u001b[0m\u001b[0;34m:\u001b[0m\u001b[0;34m\u001b[0m\u001b[0m\n",
      "\u001b[1;32m    522 \u001b[0m        \u001b[0msources\u001b[0m\u001b[0;34m.\u001b[0m\u001b[0mappend\u001b[0m\u001b[0;34m(\u001b[0m\u001b[0margs\u001b[0m\u001b[0;34m[\u001b[0m\u001b[0mi\u001b[0m\u001b[0;34m]\u001b[0m\u001b[0;34m)\u001b[0m\u001b[0;34m\u001b[0m\u001b[0m\n",
      "\u001b[1;32m    523 \u001b[0m        \u001b[0mtape\u001b[0m\u001b[0;34m.\u001b[0m\u001b[0mwatch\u001b[0m\u001b[0;34m(\u001b[0m\u001b[0margs\u001b[0m\u001b[0;34m[\u001b[0m\u001b[0mi\u001b[0m\u001b[0;34m]\u001b[0m\u001b[0;34m)\u001b[0m\u001b[0;34m\u001b[0m\u001b[0m\n",
      "\u001b[1;32m    524 \u001b[0m      \u001b[0mresult\u001b[0m \u001b[0;34m=\u001b[0m \u001b[0mf\u001b[0m\u001b[0;34m(\u001b[0m\u001b[0;34m*\u001b[0m\u001b[0margs\u001b[0m\u001b[0;34m)\u001b[0m\u001b[0;34m\u001b[0m\u001b[0m\n",
      "\u001b[1;32m    525 \u001b[0m      \u001b[0;32mif\u001b[0m \u001b[0mresult\u001b[0m \u001b[0;32mis\u001b[0m \u001b[0;32mNone\u001b[0m\u001b[0;34m:\u001b[0m\u001b[0;34m\u001b[0m\u001b[0m\n",
      "\u001b[1;32m    526 \u001b[0m        raise ValueError(\"Cannot differentiate a function that returns None; \"\n",
      "\u001b[1;32m    527 \u001b[0m                         \"did you forget to return a value from {}?\".format(\n",
      "\u001b[1;32m    528 \u001b[0m                             f.__name__))\n",
      "\u001b[1;32m    529 \u001b[0m      \u001b[0mflat_result\u001b[0m \u001b[0;34m=\u001b[0m \u001b[0mnest\u001b[0m\u001b[0;34m.\u001b[0m\u001b[0mflatten\u001b[0m\u001b[0;34m(\u001b[0m\u001b[0mresult\u001b[0m\u001b[0;34m)\u001b[0m\u001b[0;34m\u001b[0m\u001b[0m\n",
      "\u001b[1;32m    530 \u001b[0m      \u001b[0mflat_result\u001b[0m \u001b[0;34m=\u001b[0m \u001b[0;34m[\u001b[0m\u001b[0mgen_array_ops\u001b[0m\u001b[0;34m.\u001b[0m\u001b[0midentity\u001b[0m\u001b[0;34m(\u001b[0m\u001b[0mx\u001b[0m\u001b[0;34m)\u001b[0m \u001b[0;32mfor\u001b[0m \u001b[0mx\u001b[0m \u001b[0;32min\u001b[0m \u001b[0mflat_result\u001b[0m\u001b[0;34m]\u001b[0m\u001b[0;34m\u001b[0m\u001b[0m\n",
      "\u001b[1;32m    531 \u001b[0m      \u001b[0mresult\u001b[0m \u001b[0;34m=\u001b[0m \u001b[0mnest\u001b[0m\u001b[0;34m.\u001b[0m\u001b[0mpack_sequence_as\u001b[0m\u001b[0;34m(\u001b[0m\u001b[0mresult\u001b[0m\u001b[0;34m,\u001b[0m \u001b[0mflat_result\u001b[0m\u001b[0;34m)\u001b[0m\u001b[0;34m\u001b[0m\u001b[0m\n",
      "\u001b[1;32m    532 \u001b[0m    \u001b[0;32mfinally\u001b[0m\u001b[0;34m:\u001b[0m\u001b[0;34m\u001b[0m\u001b[0m\n",
      "\u001b[0;32m--> 533 \u001b[0;31m      \u001b[0mtape\u001b[0m\u001b[0;34m.\u001b[0m\u001b[0mpop_tape\u001b[0m\u001b[0;34m(\u001b[0m\u001b[0mthis_tape\u001b[0m\u001b[0;34m)\u001b[0m\u001b[0;34m\u001b[0m\u001b[0m\n",
      "\u001b[0m\u001b[1;32m    534 \u001b[0m    \u001b[0;32mdef\u001b[0m \u001b[0mvjp\u001b[0m\u001b[0;34m(\u001b[0m\u001b[0mdy\u001b[0m\u001b[0;34m=\u001b[0m\u001b[0;32mNone\u001b[0m\u001b[0;34m)\u001b[0m\u001b[0;34m:\u001b[0m\u001b[0;34m\u001b[0m\u001b[0m\n",
      "\u001b[1;32m    535 \u001b[0m      \u001b[0;32mif\u001b[0m \u001b[0mdy\u001b[0m \u001b[0;32mis\u001b[0m \u001b[0;32mnot\u001b[0m \u001b[0;32mNone\u001b[0m\u001b[0;34m:\u001b[0m\u001b[0;34m\u001b[0m\u001b[0m\n",
      "\u001b[1;32m    536 \u001b[0m        \u001b[0mdy\u001b[0m \u001b[0;34m=\u001b[0m \u001b[0;34m[\u001b[0m\u001b[0mops\u001b[0m\u001b[0;34m.\u001b[0m\u001b[0mconvert_to_tensor\u001b[0m\u001b[0;34m(\u001b[0m\u001b[0mx\u001b[0m\u001b[0;34m)\u001b[0m \u001b[0;32mfor\u001b[0m \u001b[0mx\u001b[0m \u001b[0;32min\u001b[0m \u001b[0mnest\u001b[0m\u001b[0;34m.\u001b[0m\u001b[0mflatten\u001b[0m\u001b[0;34m(\u001b[0m\u001b[0mdy\u001b[0m\u001b[0;34m)\u001b[0m\u001b[0;34m]\u001b[0m\u001b[0;34m\u001b[0m\u001b[0m\n",
      "\u001b[1;32m    537 \u001b[0m      return imperative_grad.imperative_grad(\n",
      "\u001b[1;32m    538 \u001b[0m          \u001b[0m_default_vspace\u001b[0m\u001b[0;34m,\u001b[0m \u001b[0mthis_tape\u001b[0m\u001b[0;34m,\u001b[0m \u001b[0mnest\u001b[0m\u001b[0;34m.\u001b[0m\u001b[0mflatten\u001b[0m\u001b[0;34m(\u001b[0m\u001b[0mresult\u001b[0m\u001b[0;34m)\u001b[0m\u001b[0;34m,\u001b[0m \u001b[0msources\u001b[0m\u001b[0;34m,\u001b[0m\u001b[0;34m\u001b[0m\u001b[0m\n",
      "\u001b[1;32m    539 \u001b[0m          output_gradients=dy)\n",
      "\u001b[1;32m    540 \u001b[0m    \u001b[0;32mreturn\u001b[0m \u001b[0mresult\u001b[0m\u001b[0;34m,\u001b[0m \u001b[0mvjp\u001b[0m\u001b[0;34m\u001b[0m\u001b[0m\n",
      "\u001b[1;32m    541 \u001b[0m\u001b[0;34m\u001b[0m\u001b[0m\n",
      "\n",
      "ipdb> result\n",
      "*** NameError: name 'result' is not defined\n",
      "ipdb> ll\n",
      "\u001b[1;32m    508 \u001b[0m  \u001b[0;32mdef\u001b[0m \u001b[0mdecorated\u001b[0m\u001b[0;34m(\u001b[0m\u001b[0;34m*\u001b[0m\u001b[0margs\u001b[0m\u001b[0;34m,\u001b[0m \u001b[0;34m**\u001b[0m\u001b[0mkwds\u001b[0m\u001b[0;34m)\u001b[0m\u001b[0;34m:\u001b[0m\u001b[0;34m\u001b[0m\u001b[0m\n",
      "\u001b[1;32m    509 \u001b[0m    \u001b[0;34m\"\"\"Computes the value and gradient of the decorated function.\"\"\"\u001b[0m\u001b[0;34m\u001b[0m\u001b[0m\n",
      "\u001b[1;32m    510 \u001b[0m    \u001b[0mparameter_positions\u001b[0m \u001b[0;34m=\u001b[0m \u001b[0m_get_arg_spec\u001b[0m\u001b[0;34m(\u001b[0m\u001b[0mf\u001b[0m\u001b[0;34m,\u001b[0m \u001b[0mparams\u001b[0m\u001b[0;34m,\u001b[0m \u001b[0margs\u001b[0m\u001b[0;34m)\u001b[0m\u001b[0;34m\u001b[0m\u001b[0m\n",
      "\u001b[1;32m    511 \u001b[0m    \u001b[0;32massert\u001b[0m \u001b[0;32mnot\u001b[0m \u001b[0mkwds\u001b[0m\u001b[0;34m,\u001b[0m \u001b[0;34m\"The gradient function can't take keyword arguments.\"\u001b[0m\u001b[0;34m\u001b[0m\u001b[0m\n",
      "\u001b[1;32m    512 \u001b[0m    \u001b[0mthis_tape\u001b[0m \u001b[0;34m=\u001b[0m \u001b[0mtape\u001b[0m\u001b[0;34m.\u001b[0m\u001b[0mpush_new_tape\u001b[0m\u001b[0;34m(\u001b[0m\u001b[0mpersistent\u001b[0m\u001b[0;34m=\u001b[0m\u001b[0mpersistent\u001b[0m\u001b[0;34m)\u001b[0m\u001b[0;34m\u001b[0m\u001b[0m\n",
      "\u001b[1;32m    513 \u001b[0m    \u001b[0;32mtry\u001b[0m\u001b[0;34m:\u001b[0m\u001b[0;34m\u001b[0m\u001b[0m\n",
      "\u001b[1;32m    514 \u001b[0m      \u001b[0msources\u001b[0m \u001b[0;34m=\u001b[0m \u001b[0;34m[\u001b[0m\u001b[0;34m]\u001b[0m\u001b[0;34m\u001b[0m\u001b[0m\n",
      "\u001b[1;32m    515 \u001b[0m      args = [\n",
      "\u001b[1;32m    516 \u001b[0m          \u001b[0mops\u001b[0m\u001b[0;34m.\u001b[0m\u001b[0mconvert_to_tensor\u001b[0m\u001b[0;34m(\u001b[0m\u001b[0margs\u001b[0m\u001b[0;34m[\u001b[0m\u001b[0mi\u001b[0m\u001b[0;34m]\u001b[0m\u001b[0;34m)\u001b[0m\u001b[0;34m\u001b[0m\u001b[0m\n",
      "\u001b[1;32m    517 \u001b[0m          \u001b[0;32mif\u001b[0m \u001b[0mi\u001b[0m \u001b[0;32min\u001b[0m \u001b[0mparameter_positions\u001b[0m \u001b[0;32melse\u001b[0m \u001b[0margs\u001b[0m\u001b[0;34m[\u001b[0m\u001b[0mi\u001b[0m\u001b[0;34m]\u001b[0m\u001b[0;34m\u001b[0m\u001b[0m\n",
      "\u001b[1;32m    518 \u001b[0m          \u001b[0;32mfor\u001b[0m \u001b[0mi\u001b[0m \u001b[0;32min\u001b[0m \u001b[0mrange\u001b[0m\u001b[0;34m(\u001b[0m\u001b[0mlen\u001b[0m\u001b[0;34m(\u001b[0m\u001b[0margs\u001b[0m\u001b[0;34m)\u001b[0m\u001b[0;34m)\u001b[0m\u001b[0;34m\u001b[0m\u001b[0m\n",
      "\u001b[1;32m    519 \u001b[0m      ]\n",
      "\u001b[1;32m    520 \u001b[0m      \u001b[0margs\u001b[0m \u001b[0;34m=\u001b[0m \u001b[0m_ensure_unique_tensor_objects\u001b[0m\u001b[0;34m(\u001b[0m\u001b[0mparameter_positions\u001b[0m\u001b[0;34m,\u001b[0m \u001b[0margs\u001b[0m\u001b[0;34m)\u001b[0m\u001b[0;34m\u001b[0m\u001b[0m\n",
      "\u001b[1;32m    521 \u001b[0m      \u001b[0;32mfor\u001b[0m \u001b[0mi\u001b[0m \u001b[0;32min\u001b[0m \u001b[0mparameter_positions\u001b[0m\u001b[0;34m:\u001b[0m\u001b[0;34m\u001b[0m\u001b[0m\n",
      "\u001b[1;32m    522 \u001b[0m        \u001b[0msources\u001b[0m\u001b[0;34m.\u001b[0m\u001b[0mappend\u001b[0m\u001b[0;34m(\u001b[0m\u001b[0margs\u001b[0m\u001b[0;34m[\u001b[0m\u001b[0mi\u001b[0m\u001b[0;34m]\u001b[0m\u001b[0;34m)\u001b[0m\u001b[0;34m\u001b[0m\u001b[0m\n",
      "\u001b[1;32m    523 \u001b[0m        \u001b[0mtape\u001b[0m\u001b[0;34m.\u001b[0m\u001b[0mwatch\u001b[0m\u001b[0;34m(\u001b[0m\u001b[0margs\u001b[0m\u001b[0;34m[\u001b[0m\u001b[0mi\u001b[0m\u001b[0;34m]\u001b[0m\u001b[0;34m)\u001b[0m\u001b[0;34m\u001b[0m\u001b[0m\n",
      "\u001b[1;32m    524 \u001b[0m      \u001b[0mresult\u001b[0m \u001b[0;34m=\u001b[0m \u001b[0mf\u001b[0m\u001b[0;34m(\u001b[0m\u001b[0;34m*\u001b[0m\u001b[0margs\u001b[0m\u001b[0;34m)\u001b[0m\u001b[0;34m\u001b[0m\u001b[0m\n",
      "\u001b[1;32m    525 \u001b[0m      \u001b[0;32mif\u001b[0m \u001b[0mresult\u001b[0m \u001b[0;32mis\u001b[0m \u001b[0;32mNone\u001b[0m\u001b[0;34m:\u001b[0m\u001b[0;34m\u001b[0m\u001b[0m\n",
      "\u001b[1;32m    526 \u001b[0m        raise ValueError(\"Cannot differentiate a function that returns None; \"\n",
      "\u001b[1;32m    527 \u001b[0m                         \"did you forget to return a value from {}?\".format(\n",
      "\u001b[1;32m    528 \u001b[0m                             f.__name__))\n",
      "\u001b[1;32m    529 \u001b[0m      \u001b[0mflat_result\u001b[0m \u001b[0;34m=\u001b[0m \u001b[0mnest\u001b[0m\u001b[0;34m.\u001b[0m\u001b[0mflatten\u001b[0m\u001b[0;34m(\u001b[0m\u001b[0mresult\u001b[0m\u001b[0;34m)\u001b[0m\u001b[0;34m\u001b[0m\u001b[0m\n",
      "\u001b[1;32m    530 \u001b[0m      \u001b[0mflat_result\u001b[0m \u001b[0;34m=\u001b[0m \u001b[0;34m[\u001b[0m\u001b[0mgen_array_ops\u001b[0m\u001b[0;34m.\u001b[0m\u001b[0midentity\u001b[0m\u001b[0;34m(\u001b[0m\u001b[0mx\u001b[0m\u001b[0;34m)\u001b[0m \u001b[0;32mfor\u001b[0m \u001b[0mx\u001b[0m \u001b[0;32min\u001b[0m \u001b[0mflat_result\u001b[0m\u001b[0;34m]\u001b[0m\u001b[0;34m\u001b[0m\u001b[0m\n",
      "\u001b[1;32m    531 \u001b[0m      \u001b[0mresult\u001b[0m \u001b[0;34m=\u001b[0m \u001b[0mnest\u001b[0m\u001b[0;34m.\u001b[0m\u001b[0mpack_sequence_as\u001b[0m\u001b[0;34m(\u001b[0m\u001b[0mresult\u001b[0m\u001b[0;34m,\u001b[0m \u001b[0mflat_result\u001b[0m\u001b[0;34m)\u001b[0m\u001b[0;34m\u001b[0m\u001b[0m\n",
      "\u001b[1;32m    532 \u001b[0m    \u001b[0;32mfinally\u001b[0m\u001b[0;34m:\u001b[0m\u001b[0;34m\u001b[0m\u001b[0m\n",
      "\u001b[0;32m--> 533 \u001b[0;31m      \u001b[0mtape\u001b[0m\u001b[0;34m.\u001b[0m\u001b[0mpop_tape\u001b[0m\u001b[0;34m(\u001b[0m\u001b[0mthis_tape\u001b[0m\u001b[0;34m)\u001b[0m\u001b[0;34m\u001b[0m\u001b[0m\n",
      "\u001b[0m\u001b[1;32m    534 \u001b[0m    \u001b[0;32mdef\u001b[0m \u001b[0mvjp\u001b[0m\u001b[0;34m(\u001b[0m\u001b[0mdy\u001b[0m\u001b[0;34m=\u001b[0m\u001b[0;32mNone\u001b[0m\u001b[0;34m)\u001b[0m\u001b[0;34m:\u001b[0m\u001b[0;34m\u001b[0m\u001b[0m\n",
      "\u001b[1;32m    535 \u001b[0m      \u001b[0;32mif\u001b[0m \u001b[0mdy\u001b[0m \u001b[0;32mis\u001b[0m \u001b[0;32mnot\u001b[0m \u001b[0;32mNone\u001b[0m\u001b[0;34m:\u001b[0m\u001b[0;34m\u001b[0m\u001b[0m\n",
      "\u001b[1;32m    536 \u001b[0m        \u001b[0mdy\u001b[0m \u001b[0;34m=\u001b[0m \u001b[0;34m[\u001b[0m\u001b[0mops\u001b[0m\u001b[0;34m.\u001b[0m\u001b[0mconvert_to_tensor\u001b[0m\u001b[0;34m(\u001b[0m\u001b[0mx\u001b[0m\u001b[0;34m)\u001b[0m \u001b[0;32mfor\u001b[0m \u001b[0mx\u001b[0m \u001b[0;32min\u001b[0m \u001b[0mnest\u001b[0m\u001b[0;34m.\u001b[0m\u001b[0mflatten\u001b[0m\u001b[0;34m(\u001b[0m\u001b[0mdy\u001b[0m\u001b[0;34m)\u001b[0m\u001b[0;34m]\u001b[0m\u001b[0;34m\u001b[0m\u001b[0m\n",
      "\u001b[1;32m    537 \u001b[0m      return imperative_grad.imperative_grad(\n",
      "\u001b[1;32m    538 \u001b[0m          \u001b[0m_default_vspace\u001b[0m\u001b[0;34m,\u001b[0m \u001b[0mthis_tape\u001b[0m\u001b[0;34m,\u001b[0m \u001b[0mnest\u001b[0m\u001b[0;34m.\u001b[0m\u001b[0mflatten\u001b[0m\u001b[0;34m(\u001b[0m\u001b[0mresult\u001b[0m\u001b[0;34m)\u001b[0m\u001b[0;34m,\u001b[0m \u001b[0msources\u001b[0m\u001b[0;34m,\u001b[0m\u001b[0;34m\u001b[0m\u001b[0m\n",
      "\u001b[1;32m    539 \u001b[0m          output_gradients=dy)\n",
      "\u001b[1;32m    540 \u001b[0m    \u001b[0;32mreturn\u001b[0m \u001b[0mresult\u001b[0m\u001b[0;34m,\u001b[0m \u001b[0mvjp\u001b[0m\u001b[0;34m\u001b[0m\u001b[0m\n",
      "\u001b[1;32m    541 \u001b[0m\u001b[0;34m\u001b[0m\u001b[0m\n",
      "\n"
     ]
    },
    {
     "name": "stdout",
     "output_type": "stream",
     "text": [
      "ipdb> arr = args\n",
      "ipdb> arr\n",
      "[<tf.Tensor: id=589788, shape=(4, 4, 4), dtype=int64, numpy=\n",
      "array([[[-1,  1,  1,  1],\n",
      "        [ 1,  1, -1,  1],\n",
      "        [ 1, -1, -1,  1],\n",
      "        [-1,  1, -1, -1]],\n",
      "\n",
      "       [[-1, -1,  1,  1],\n",
      "        [-1,  1,  1,  1],\n",
      "        [ 1, -1, -1,  1],\n",
      "        [ 1, -1, -1, -1]],\n",
      "\n",
      "       [[ 1,  1, -1, -1],\n",
      "        [ 1, -1, -1,  1],\n",
      "        [-1,  1, -1, -1],\n",
      "        [ 1,  1,  1,  1]],\n",
      "\n",
      "       [[-1,  1, -1, -1],\n",
      "        [-1,  1,  1, -1],\n",
      "        [ 1, -1,  1,  1],\n",
      "        [ 1,  1,  1, -1]]])>]\n",
      "ipdb> ll\n",
      "\u001b[1;32m    508 \u001b[0m  \u001b[0;32mdef\u001b[0m \u001b[0mdecorated\u001b[0m\u001b[0;34m(\u001b[0m\u001b[0;34m*\u001b[0m\u001b[0margs\u001b[0m\u001b[0;34m,\u001b[0m \u001b[0;34m**\u001b[0m\u001b[0mkwds\u001b[0m\u001b[0;34m)\u001b[0m\u001b[0;34m:\u001b[0m\u001b[0;34m\u001b[0m\u001b[0m\n",
      "\u001b[1;32m    509 \u001b[0m    \u001b[0;34m\"\"\"Computes the value and gradient of the decorated function.\"\"\"\u001b[0m\u001b[0;34m\u001b[0m\u001b[0m\n",
      "\u001b[1;32m    510 \u001b[0m    \u001b[0mparameter_positions\u001b[0m \u001b[0;34m=\u001b[0m \u001b[0m_get_arg_spec\u001b[0m\u001b[0;34m(\u001b[0m\u001b[0mf\u001b[0m\u001b[0;34m,\u001b[0m \u001b[0mparams\u001b[0m\u001b[0;34m,\u001b[0m \u001b[0margs\u001b[0m\u001b[0;34m)\u001b[0m\u001b[0;34m\u001b[0m\u001b[0m\n",
      "\u001b[1;32m    511 \u001b[0m    \u001b[0;32massert\u001b[0m \u001b[0;32mnot\u001b[0m \u001b[0mkwds\u001b[0m\u001b[0;34m,\u001b[0m \u001b[0;34m\"The gradient function can't take keyword arguments.\"\u001b[0m\u001b[0;34m\u001b[0m\u001b[0m\n",
      "\u001b[1;32m    512 \u001b[0m    \u001b[0mthis_tape\u001b[0m \u001b[0;34m=\u001b[0m \u001b[0mtape\u001b[0m\u001b[0;34m.\u001b[0m\u001b[0mpush_new_tape\u001b[0m\u001b[0;34m(\u001b[0m\u001b[0mpersistent\u001b[0m\u001b[0;34m=\u001b[0m\u001b[0mpersistent\u001b[0m\u001b[0;34m)\u001b[0m\u001b[0;34m\u001b[0m\u001b[0m\n",
      "\u001b[1;32m    513 \u001b[0m    \u001b[0;32mtry\u001b[0m\u001b[0;34m:\u001b[0m\u001b[0;34m\u001b[0m\u001b[0m\n",
      "\u001b[1;32m    514 \u001b[0m      \u001b[0msources\u001b[0m \u001b[0;34m=\u001b[0m \u001b[0;34m[\u001b[0m\u001b[0;34m]\u001b[0m\u001b[0;34m\u001b[0m\u001b[0m\n",
      "\u001b[1;32m    515 \u001b[0m      args = [\n",
      "\u001b[1;32m    516 \u001b[0m          \u001b[0mops\u001b[0m\u001b[0;34m.\u001b[0m\u001b[0mconvert_to_tensor\u001b[0m\u001b[0;34m(\u001b[0m\u001b[0margs\u001b[0m\u001b[0;34m[\u001b[0m\u001b[0mi\u001b[0m\u001b[0;34m]\u001b[0m\u001b[0;34m)\u001b[0m\u001b[0;34m\u001b[0m\u001b[0m\n",
      "\u001b[1;32m    517 \u001b[0m          \u001b[0;32mif\u001b[0m \u001b[0mi\u001b[0m \u001b[0;32min\u001b[0m \u001b[0mparameter_positions\u001b[0m \u001b[0;32melse\u001b[0m \u001b[0margs\u001b[0m\u001b[0;34m[\u001b[0m\u001b[0mi\u001b[0m\u001b[0;34m]\u001b[0m\u001b[0;34m\u001b[0m\u001b[0m\n",
      "\u001b[1;32m    518 \u001b[0m          \u001b[0;32mfor\u001b[0m \u001b[0mi\u001b[0m \u001b[0;32min\u001b[0m \u001b[0mrange\u001b[0m\u001b[0;34m(\u001b[0m\u001b[0mlen\u001b[0m\u001b[0;34m(\u001b[0m\u001b[0margs\u001b[0m\u001b[0;34m)\u001b[0m\u001b[0;34m)\u001b[0m\u001b[0;34m\u001b[0m\u001b[0m\n",
      "\u001b[1;32m    519 \u001b[0m      ]\n",
      "\u001b[1;32m    520 \u001b[0m      \u001b[0margs\u001b[0m \u001b[0;34m=\u001b[0m \u001b[0m_ensure_unique_tensor_objects\u001b[0m\u001b[0;34m(\u001b[0m\u001b[0mparameter_positions\u001b[0m\u001b[0;34m,\u001b[0m \u001b[0margs\u001b[0m\u001b[0;34m)\u001b[0m\u001b[0;34m\u001b[0m\u001b[0m\n",
      "\u001b[1;32m    521 \u001b[0m      \u001b[0;32mfor\u001b[0m \u001b[0mi\u001b[0m \u001b[0;32min\u001b[0m \u001b[0mparameter_positions\u001b[0m\u001b[0;34m:\u001b[0m\u001b[0;34m\u001b[0m\u001b[0m\n",
      "\u001b[1;32m    522 \u001b[0m        \u001b[0msources\u001b[0m\u001b[0;34m.\u001b[0m\u001b[0mappend\u001b[0m\u001b[0;34m(\u001b[0m\u001b[0margs\u001b[0m\u001b[0;34m[\u001b[0m\u001b[0mi\u001b[0m\u001b[0;34m]\u001b[0m\u001b[0;34m)\u001b[0m\u001b[0;34m\u001b[0m\u001b[0m\n",
      "\u001b[1;32m    523 \u001b[0m        \u001b[0mtape\u001b[0m\u001b[0;34m.\u001b[0m\u001b[0mwatch\u001b[0m\u001b[0;34m(\u001b[0m\u001b[0margs\u001b[0m\u001b[0;34m[\u001b[0m\u001b[0mi\u001b[0m\u001b[0;34m]\u001b[0m\u001b[0;34m)\u001b[0m\u001b[0;34m\u001b[0m\u001b[0m\n",
      "\u001b[1;32m    524 \u001b[0m      \u001b[0mresult\u001b[0m \u001b[0;34m=\u001b[0m \u001b[0mf\u001b[0m\u001b[0;34m(\u001b[0m\u001b[0;34m*\u001b[0m\u001b[0margs\u001b[0m\u001b[0;34m)\u001b[0m\u001b[0;34m\u001b[0m\u001b[0m\n",
      "\u001b[1;32m    525 \u001b[0m      \u001b[0;32mif\u001b[0m \u001b[0mresult\u001b[0m \u001b[0;32mis\u001b[0m \u001b[0;32mNone\u001b[0m\u001b[0;34m:\u001b[0m\u001b[0;34m\u001b[0m\u001b[0m\n",
      "\u001b[1;32m    526 \u001b[0m        raise ValueError(\"Cannot differentiate a function that returns None; \"\n",
      "\u001b[1;32m    527 \u001b[0m                         \"did you forget to return a value from {}?\".format(\n",
      "\u001b[1;32m    528 \u001b[0m                             f.__name__))\n",
      "\u001b[1;32m    529 \u001b[0m      \u001b[0mflat_result\u001b[0m \u001b[0;34m=\u001b[0m \u001b[0mnest\u001b[0m\u001b[0;34m.\u001b[0m\u001b[0mflatten\u001b[0m\u001b[0;34m(\u001b[0m\u001b[0mresult\u001b[0m\u001b[0;34m)\u001b[0m\u001b[0;34m\u001b[0m\u001b[0m\n",
      "\u001b[1;32m    530 \u001b[0m      \u001b[0mflat_result\u001b[0m \u001b[0;34m=\u001b[0m \u001b[0;34m[\u001b[0m\u001b[0mgen_array_ops\u001b[0m\u001b[0;34m.\u001b[0m\u001b[0midentity\u001b[0m\u001b[0;34m(\u001b[0m\u001b[0mx\u001b[0m\u001b[0;34m)\u001b[0m \u001b[0;32mfor\u001b[0m \u001b[0mx\u001b[0m \u001b[0;32min\u001b[0m \u001b[0mflat_result\u001b[0m\u001b[0;34m]\u001b[0m\u001b[0;34m\u001b[0m\u001b[0m\n",
      "\u001b[1;32m    531 \u001b[0m      \u001b[0mresult\u001b[0m \u001b[0;34m=\u001b[0m \u001b[0mnest\u001b[0m\u001b[0;34m.\u001b[0m\u001b[0mpack_sequence_as\u001b[0m\u001b[0;34m(\u001b[0m\u001b[0mresult\u001b[0m\u001b[0;34m,\u001b[0m \u001b[0mflat_result\u001b[0m\u001b[0;34m)\u001b[0m\u001b[0;34m\u001b[0m\u001b[0m\n",
      "\u001b[1;32m    532 \u001b[0m    \u001b[0;32mfinally\u001b[0m\u001b[0;34m:\u001b[0m\u001b[0;34m\u001b[0m\u001b[0m\n",
      "\u001b[0;32m--> 533 \u001b[0;31m      \u001b[0mtape\u001b[0m\u001b[0;34m.\u001b[0m\u001b[0mpop_tape\u001b[0m\u001b[0;34m(\u001b[0m\u001b[0mthis_tape\u001b[0m\u001b[0;34m)\u001b[0m\u001b[0;34m\u001b[0m\u001b[0m\n",
      "\u001b[0m\u001b[1;32m    534 \u001b[0m    \u001b[0;32mdef\u001b[0m \u001b[0mvjp\u001b[0m\u001b[0;34m(\u001b[0m\u001b[0mdy\u001b[0m\u001b[0;34m=\u001b[0m\u001b[0;32mNone\u001b[0m\u001b[0;34m)\u001b[0m\u001b[0;34m:\u001b[0m\u001b[0;34m\u001b[0m\u001b[0m\n",
      "\u001b[1;32m    535 \u001b[0m      \u001b[0;32mif\u001b[0m \u001b[0mdy\u001b[0m \u001b[0;32mis\u001b[0m \u001b[0;32mnot\u001b[0m \u001b[0;32mNone\u001b[0m\u001b[0;34m:\u001b[0m\u001b[0;34m\u001b[0m\u001b[0m\n",
      "\u001b[1;32m    536 \u001b[0m        \u001b[0mdy\u001b[0m \u001b[0;34m=\u001b[0m \u001b[0;34m[\u001b[0m\u001b[0mops\u001b[0m\u001b[0;34m.\u001b[0m\u001b[0mconvert_to_tensor\u001b[0m\u001b[0;34m(\u001b[0m\u001b[0mx\u001b[0m\u001b[0;34m)\u001b[0m \u001b[0;32mfor\u001b[0m \u001b[0mx\u001b[0m \u001b[0;32min\u001b[0m \u001b[0mnest\u001b[0m\u001b[0;34m.\u001b[0m\u001b[0mflatten\u001b[0m\u001b[0;34m(\u001b[0m\u001b[0mdy\u001b[0m\u001b[0;34m)\u001b[0m\u001b[0;34m]\u001b[0m\u001b[0;34m\u001b[0m\u001b[0m\n",
      "\u001b[1;32m    537 \u001b[0m      return imperative_grad.imperative_grad(\n",
      "\u001b[1;32m    538 \u001b[0m          \u001b[0m_default_vspace\u001b[0m\u001b[0;34m,\u001b[0m \u001b[0mthis_tape\u001b[0m\u001b[0;34m,\u001b[0m \u001b[0mnest\u001b[0m\u001b[0;34m.\u001b[0m\u001b[0mflatten\u001b[0m\u001b[0;34m(\u001b[0m\u001b[0mresult\u001b[0m\u001b[0;34m)\u001b[0m\u001b[0;34m,\u001b[0m \u001b[0msources\u001b[0m\u001b[0;34m,\u001b[0m\u001b[0;34m\u001b[0m\u001b[0m\n",
      "\u001b[1;32m    539 \u001b[0m          output_gradients=dy)\n",
      "\u001b[1;32m    540 \u001b[0m    \u001b[0;32mreturn\u001b[0m \u001b[0mresult\u001b[0m\u001b[0;34m,\u001b[0m \u001b[0mvjp\u001b[0m\u001b[0;34m\u001b[0m\u001b[0m\n",
      "\u001b[1;32m    541 \u001b[0m\u001b[0;34m\u001b[0m\u001b[0m\n",
      "\n",
      "ipdb> sources\n",
      "[<tf.Tensor: id=589788, shape=(4, 4, 4), dtype=int64, numpy=\n",
      "array([[[-1,  1,  1,  1],\n",
      "        [ 1,  1, -1,  1],\n",
      "        [ 1, -1, -1,  1],\n",
      "        [-1,  1, -1, -1]],\n",
      "\n",
      "       [[-1, -1,  1,  1],\n",
      "        [-1,  1,  1,  1],\n",
      "        [ 1, -1, -1,  1],\n",
      "        [ 1, -1, -1, -1]],\n",
      "\n",
      "       [[ 1,  1, -1, -1],\n",
      "        [ 1, -1, -1,  1],\n",
      "        [-1,  1, -1, -1],\n",
      "        [ 1,  1,  1,  1]],\n",
      "\n",
      "       [[-1,  1, -1, -1],\n",
      "        [-1,  1,  1, -1],\n",
      "        [ 1, -1,  1,  1],\n",
      "        [ 1,  1,  1, -1]]])>]\n",
      "ipdb> ll\n",
      "\u001b[1;32m    508 \u001b[0m  \u001b[0;32mdef\u001b[0m \u001b[0mdecorated\u001b[0m\u001b[0;34m(\u001b[0m\u001b[0;34m*\u001b[0m\u001b[0margs\u001b[0m\u001b[0;34m,\u001b[0m \u001b[0;34m**\u001b[0m\u001b[0mkwds\u001b[0m\u001b[0;34m)\u001b[0m\u001b[0;34m:\u001b[0m\u001b[0;34m\u001b[0m\u001b[0m\n",
      "\u001b[1;32m    509 \u001b[0m    \u001b[0;34m\"\"\"Computes the value and gradient of the decorated function.\"\"\"\u001b[0m\u001b[0;34m\u001b[0m\u001b[0m\n",
      "\u001b[1;32m    510 \u001b[0m    \u001b[0mparameter_positions\u001b[0m \u001b[0;34m=\u001b[0m \u001b[0m_get_arg_spec\u001b[0m\u001b[0;34m(\u001b[0m\u001b[0mf\u001b[0m\u001b[0;34m,\u001b[0m \u001b[0mparams\u001b[0m\u001b[0;34m,\u001b[0m \u001b[0margs\u001b[0m\u001b[0;34m)\u001b[0m\u001b[0;34m\u001b[0m\u001b[0m\n",
      "\u001b[1;32m    511 \u001b[0m    \u001b[0;32massert\u001b[0m \u001b[0;32mnot\u001b[0m \u001b[0mkwds\u001b[0m\u001b[0;34m,\u001b[0m \u001b[0;34m\"The gradient function can't take keyword arguments.\"\u001b[0m\u001b[0;34m\u001b[0m\u001b[0m\n",
      "\u001b[1;32m    512 \u001b[0m    \u001b[0mthis_tape\u001b[0m \u001b[0;34m=\u001b[0m \u001b[0mtape\u001b[0m\u001b[0;34m.\u001b[0m\u001b[0mpush_new_tape\u001b[0m\u001b[0;34m(\u001b[0m\u001b[0mpersistent\u001b[0m\u001b[0;34m=\u001b[0m\u001b[0mpersistent\u001b[0m\u001b[0;34m)\u001b[0m\u001b[0;34m\u001b[0m\u001b[0m\n",
      "\u001b[1;32m    513 \u001b[0m    \u001b[0;32mtry\u001b[0m\u001b[0;34m:\u001b[0m\u001b[0;34m\u001b[0m\u001b[0m\n",
      "\u001b[1;32m    514 \u001b[0m      \u001b[0msources\u001b[0m \u001b[0;34m=\u001b[0m \u001b[0;34m[\u001b[0m\u001b[0;34m]\u001b[0m\u001b[0;34m\u001b[0m\u001b[0m\n",
      "\u001b[1;32m    515 \u001b[0m      args = [\n",
      "\u001b[1;32m    516 \u001b[0m          \u001b[0mops\u001b[0m\u001b[0;34m.\u001b[0m\u001b[0mconvert_to_tensor\u001b[0m\u001b[0;34m(\u001b[0m\u001b[0margs\u001b[0m\u001b[0;34m[\u001b[0m\u001b[0mi\u001b[0m\u001b[0;34m]\u001b[0m\u001b[0;34m)\u001b[0m\u001b[0;34m\u001b[0m\u001b[0m\n",
      "\u001b[1;32m    517 \u001b[0m          \u001b[0;32mif\u001b[0m \u001b[0mi\u001b[0m \u001b[0;32min\u001b[0m \u001b[0mparameter_positions\u001b[0m \u001b[0;32melse\u001b[0m \u001b[0margs\u001b[0m\u001b[0;34m[\u001b[0m\u001b[0mi\u001b[0m\u001b[0;34m]\u001b[0m\u001b[0;34m\u001b[0m\u001b[0m\n",
      "\u001b[1;32m    518 \u001b[0m          \u001b[0;32mfor\u001b[0m \u001b[0mi\u001b[0m \u001b[0;32min\u001b[0m \u001b[0mrange\u001b[0m\u001b[0;34m(\u001b[0m\u001b[0mlen\u001b[0m\u001b[0;34m(\u001b[0m\u001b[0margs\u001b[0m\u001b[0;34m)\u001b[0m\u001b[0;34m)\u001b[0m\u001b[0;34m\u001b[0m\u001b[0m\n",
      "\u001b[1;32m    519 \u001b[0m      ]\n",
      "\u001b[1;32m    520 \u001b[0m      \u001b[0margs\u001b[0m \u001b[0;34m=\u001b[0m \u001b[0m_ensure_unique_tensor_objects\u001b[0m\u001b[0;34m(\u001b[0m\u001b[0mparameter_positions\u001b[0m\u001b[0;34m,\u001b[0m \u001b[0margs\u001b[0m\u001b[0;34m)\u001b[0m\u001b[0;34m\u001b[0m\u001b[0m\n",
      "\u001b[1;32m    521 \u001b[0m      \u001b[0;32mfor\u001b[0m \u001b[0mi\u001b[0m \u001b[0;32min\u001b[0m \u001b[0mparameter_positions\u001b[0m\u001b[0;34m:\u001b[0m\u001b[0;34m\u001b[0m\u001b[0m\n",
      "\u001b[1;32m    522 \u001b[0m        \u001b[0msources\u001b[0m\u001b[0;34m.\u001b[0m\u001b[0mappend\u001b[0m\u001b[0;34m(\u001b[0m\u001b[0margs\u001b[0m\u001b[0;34m[\u001b[0m\u001b[0mi\u001b[0m\u001b[0;34m]\u001b[0m\u001b[0;34m)\u001b[0m\u001b[0;34m\u001b[0m\u001b[0m\n",
      "\u001b[1;32m    523 \u001b[0m        \u001b[0mtape\u001b[0m\u001b[0;34m.\u001b[0m\u001b[0mwatch\u001b[0m\u001b[0;34m(\u001b[0m\u001b[0margs\u001b[0m\u001b[0;34m[\u001b[0m\u001b[0mi\u001b[0m\u001b[0;34m]\u001b[0m\u001b[0;34m)\u001b[0m\u001b[0;34m\u001b[0m\u001b[0m\n",
      "\u001b[1;32m    524 \u001b[0m      \u001b[0mresult\u001b[0m \u001b[0;34m=\u001b[0m \u001b[0mf\u001b[0m\u001b[0;34m(\u001b[0m\u001b[0;34m*\u001b[0m\u001b[0margs\u001b[0m\u001b[0;34m)\u001b[0m\u001b[0;34m\u001b[0m\u001b[0m\n",
      "\u001b[1;32m    525 \u001b[0m      \u001b[0;32mif\u001b[0m \u001b[0mresult\u001b[0m \u001b[0;32mis\u001b[0m \u001b[0;32mNone\u001b[0m\u001b[0;34m:\u001b[0m\u001b[0;34m\u001b[0m\u001b[0m\n",
      "\u001b[1;32m    526 \u001b[0m        raise ValueError(\"Cannot differentiate a function that returns None; \"\n",
      "\u001b[1;32m    527 \u001b[0m                         \"did you forget to return a value from {}?\".format(\n",
      "\u001b[1;32m    528 \u001b[0m                             f.__name__))\n",
      "\u001b[1;32m    529 \u001b[0m      \u001b[0mflat_result\u001b[0m \u001b[0;34m=\u001b[0m \u001b[0mnest\u001b[0m\u001b[0;34m.\u001b[0m\u001b[0mflatten\u001b[0m\u001b[0;34m(\u001b[0m\u001b[0mresult\u001b[0m\u001b[0;34m)\u001b[0m\u001b[0;34m\u001b[0m\u001b[0m\n",
      "\u001b[1;32m    530 \u001b[0m      \u001b[0mflat_result\u001b[0m \u001b[0;34m=\u001b[0m \u001b[0;34m[\u001b[0m\u001b[0mgen_array_ops\u001b[0m\u001b[0;34m.\u001b[0m\u001b[0midentity\u001b[0m\u001b[0;34m(\u001b[0m\u001b[0mx\u001b[0m\u001b[0;34m)\u001b[0m \u001b[0;32mfor\u001b[0m \u001b[0mx\u001b[0m \u001b[0;32min\u001b[0m \u001b[0mflat_result\u001b[0m\u001b[0;34m]\u001b[0m\u001b[0;34m\u001b[0m\u001b[0m\n",
      "\u001b[1;32m    531 \u001b[0m      \u001b[0mresult\u001b[0m \u001b[0;34m=\u001b[0m \u001b[0mnest\u001b[0m\u001b[0;34m.\u001b[0m\u001b[0mpack_sequence_as\u001b[0m\u001b[0;34m(\u001b[0m\u001b[0mresult\u001b[0m\u001b[0;34m,\u001b[0m \u001b[0mflat_result\u001b[0m\u001b[0;34m)\u001b[0m\u001b[0;34m\u001b[0m\u001b[0m\n",
      "\u001b[1;32m    532 \u001b[0m    \u001b[0;32mfinally\u001b[0m\u001b[0;34m:\u001b[0m\u001b[0;34m\u001b[0m\u001b[0m\n",
      "\u001b[0;32m--> 533 \u001b[0;31m      \u001b[0mtape\u001b[0m\u001b[0;34m.\u001b[0m\u001b[0mpop_tape\u001b[0m\u001b[0;34m(\u001b[0m\u001b[0mthis_tape\u001b[0m\u001b[0;34m)\u001b[0m\u001b[0;34m\u001b[0m\u001b[0m\n",
      "\u001b[0m\u001b[1;32m    534 \u001b[0m    \u001b[0;32mdef\u001b[0m \u001b[0mvjp\u001b[0m\u001b[0;34m(\u001b[0m\u001b[0mdy\u001b[0m\u001b[0;34m=\u001b[0m\u001b[0;32mNone\u001b[0m\u001b[0;34m)\u001b[0m\u001b[0;34m:\u001b[0m\u001b[0;34m\u001b[0m\u001b[0m\n",
      "\u001b[1;32m    535 \u001b[0m      \u001b[0;32mif\u001b[0m \u001b[0mdy\u001b[0m \u001b[0;32mis\u001b[0m \u001b[0;32mnot\u001b[0m \u001b[0;32mNone\u001b[0m\u001b[0;34m:\u001b[0m\u001b[0;34m\u001b[0m\u001b[0m\n",
      "\u001b[1;32m    536 \u001b[0m        \u001b[0mdy\u001b[0m \u001b[0;34m=\u001b[0m \u001b[0;34m[\u001b[0m\u001b[0mops\u001b[0m\u001b[0;34m.\u001b[0m\u001b[0mconvert_to_tensor\u001b[0m\u001b[0;34m(\u001b[0m\u001b[0mx\u001b[0m\u001b[0;34m)\u001b[0m \u001b[0;32mfor\u001b[0m \u001b[0mx\u001b[0m \u001b[0;32min\u001b[0m \u001b[0mnest\u001b[0m\u001b[0;34m.\u001b[0m\u001b[0mflatten\u001b[0m\u001b[0;34m(\u001b[0m\u001b[0mdy\u001b[0m\u001b[0;34m)\u001b[0m\u001b[0;34m]\u001b[0m\u001b[0;34m\u001b[0m\u001b[0m\n",
      "\u001b[1;32m    537 \u001b[0m      return imperative_grad.imperative_grad(\n",
      "\u001b[1;32m    538 \u001b[0m          \u001b[0m_default_vspace\u001b[0m\u001b[0;34m,\u001b[0m \u001b[0mthis_tape\u001b[0m\u001b[0;34m,\u001b[0m \u001b[0mnest\u001b[0m\u001b[0;34m.\u001b[0m\u001b[0mflatten\u001b[0m\u001b[0;34m(\u001b[0m\u001b[0mresult\u001b[0m\u001b[0;34m)\u001b[0m\u001b[0;34m,\u001b[0m \u001b[0msources\u001b[0m\u001b[0;34m,\u001b[0m\u001b[0;34m\u001b[0m\u001b[0m\n",
      "\u001b[1;32m    539 \u001b[0m          output_gradients=dy)\n",
      "\u001b[1;32m    540 \u001b[0m    \u001b[0;32mreturn\u001b[0m \u001b[0mresult\u001b[0m\u001b[0;34m,\u001b[0m \u001b[0mvjp\u001b[0m\u001b[0;34m\u001b[0m\u001b[0m\n",
      "\u001b[1;32m    541 \u001b[0m\u001b[0;34m\u001b[0m\u001b[0m\n",
      "\n"
     ]
    },
    {
     "name": "stdout",
     "output_type": "stream",
     "text": [
      "ipdb> i\n",
      "1\n",
      "ipdb> parameter_positions\n",
      "range(0, 2)\n",
      "ipdb> sources\n",
      "[<tf.Tensor: id=589788, shape=(4, 4, 4), dtype=int64, numpy=\n",
      "array([[[-1,  1,  1,  1],\n",
      "        [ 1,  1, -1,  1],\n",
      "        [ 1, -1, -1,  1],\n",
      "        [-1,  1, -1, -1]],\n",
      "\n",
      "       [[-1, -1,  1,  1],\n",
      "        [-1,  1,  1,  1],\n",
      "        [ 1, -1, -1,  1],\n",
      "        [ 1, -1, -1, -1]],\n",
      "\n",
      "       [[ 1,  1, -1, -1],\n",
      "        [ 1, -1, -1,  1],\n",
      "        [-1,  1, -1, -1],\n",
      "        [ 1,  1,  1,  1]],\n",
      "\n",
      "       [[-1,  1, -1, -1],\n",
      "        [-1,  1,  1, -1],\n",
      "        [ 1, -1,  1,  1],\n",
      "        [ 1,  1,  1, -1]]])>]\n",
      "ipdb> arr[i]\n",
      "*** IndexError: list index out of range\n",
      "ipdb> len(arr)\n",
      "1\n",
      "ipdb> arr[0]\n",
      "<tf.Tensor: id=589788, shape=(4, 4, 4), dtype=int64, numpy=\n",
      "array([[[-1,  1,  1,  1],\n",
      "        [ 1,  1, -1,  1],\n",
      "        [ 1, -1, -1,  1],\n",
      "        [-1,  1, -1, -1]],\n",
      "\n",
      "       [[-1, -1,  1,  1],\n",
      "        [-1,  1,  1,  1],\n",
      "        [ 1, -1, -1,  1],\n",
      "        [ 1, -1, -1, -1]],\n",
      "\n",
      "       [[ 1,  1, -1, -1],\n",
      "        [ 1, -1, -1,  1],\n",
      "        [-1,  1, -1, -1],\n",
      "        [ 1,  1,  1,  1]],\n",
      "\n",
      "       [[-1,  1, -1, -1],\n",
      "        [-1,  1,  1, -1],\n",
      "        [ 1, -1,  1,  1],\n",
      "        [ 1,  1,  1, -1]]])>\n",
      "ipdb> arr[1]\n",
      "*** IndexError: list index out of range\n",
      "ipdb> arr[0][i]\n",
      "<tf.Tensor: id=589799, shape=(4, 4), dtype=int64, numpy=\n",
      "array([[-1, -1,  1,  1],\n",
      "       [-1,  1,  1,  1],\n",
      "       [ 1, -1, -1,  1],\n",
      "       [ 1, -1, -1, -1]])>\n",
      "ipdb> ll\n",
      "\u001b[1;32m    508 \u001b[0m  \u001b[0;32mdef\u001b[0m \u001b[0mdecorated\u001b[0m\u001b[0;34m(\u001b[0m\u001b[0;34m*\u001b[0m\u001b[0margs\u001b[0m\u001b[0;34m,\u001b[0m \u001b[0;34m**\u001b[0m\u001b[0mkwds\u001b[0m\u001b[0;34m)\u001b[0m\u001b[0;34m:\u001b[0m\u001b[0;34m\u001b[0m\u001b[0m\n",
      "\u001b[1;32m    509 \u001b[0m    \u001b[0;34m\"\"\"Computes the value and gradient of the decorated function.\"\"\"\u001b[0m\u001b[0;34m\u001b[0m\u001b[0m\n",
      "\u001b[1;32m    510 \u001b[0m    \u001b[0mparameter_positions\u001b[0m \u001b[0;34m=\u001b[0m \u001b[0m_get_arg_spec\u001b[0m\u001b[0;34m(\u001b[0m\u001b[0mf\u001b[0m\u001b[0;34m,\u001b[0m \u001b[0mparams\u001b[0m\u001b[0;34m,\u001b[0m \u001b[0margs\u001b[0m\u001b[0;34m)\u001b[0m\u001b[0;34m\u001b[0m\u001b[0m\n",
      "\u001b[1;32m    511 \u001b[0m    \u001b[0;32massert\u001b[0m \u001b[0;32mnot\u001b[0m \u001b[0mkwds\u001b[0m\u001b[0;34m,\u001b[0m \u001b[0;34m\"The gradient function can't take keyword arguments.\"\u001b[0m\u001b[0;34m\u001b[0m\u001b[0m\n",
      "\u001b[1;32m    512 \u001b[0m    \u001b[0mthis_tape\u001b[0m \u001b[0;34m=\u001b[0m \u001b[0mtape\u001b[0m\u001b[0;34m.\u001b[0m\u001b[0mpush_new_tape\u001b[0m\u001b[0;34m(\u001b[0m\u001b[0mpersistent\u001b[0m\u001b[0;34m=\u001b[0m\u001b[0mpersistent\u001b[0m\u001b[0;34m)\u001b[0m\u001b[0;34m\u001b[0m\u001b[0m\n",
      "\u001b[1;32m    513 \u001b[0m    \u001b[0;32mtry\u001b[0m\u001b[0;34m:\u001b[0m\u001b[0;34m\u001b[0m\u001b[0m\n",
      "\u001b[1;32m    514 \u001b[0m      \u001b[0msources\u001b[0m \u001b[0;34m=\u001b[0m \u001b[0;34m[\u001b[0m\u001b[0;34m]\u001b[0m\u001b[0;34m\u001b[0m\u001b[0m\n",
      "\u001b[1;32m    515 \u001b[0m      args = [\n",
      "\u001b[1;32m    516 \u001b[0m          \u001b[0mops\u001b[0m\u001b[0;34m.\u001b[0m\u001b[0mconvert_to_tensor\u001b[0m\u001b[0;34m(\u001b[0m\u001b[0margs\u001b[0m\u001b[0;34m[\u001b[0m\u001b[0mi\u001b[0m\u001b[0;34m]\u001b[0m\u001b[0;34m)\u001b[0m\u001b[0;34m\u001b[0m\u001b[0m\n",
      "\u001b[1;32m    517 \u001b[0m          \u001b[0;32mif\u001b[0m \u001b[0mi\u001b[0m \u001b[0;32min\u001b[0m \u001b[0mparameter_positions\u001b[0m \u001b[0;32melse\u001b[0m \u001b[0margs\u001b[0m\u001b[0;34m[\u001b[0m\u001b[0mi\u001b[0m\u001b[0;34m]\u001b[0m\u001b[0;34m\u001b[0m\u001b[0m\n",
      "\u001b[1;32m    518 \u001b[0m          \u001b[0;32mfor\u001b[0m \u001b[0mi\u001b[0m \u001b[0;32min\u001b[0m \u001b[0mrange\u001b[0m\u001b[0;34m(\u001b[0m\u001b[0mlen\u001b[0m\u001b[0;34m(\u001b[0m\u001b[0margs\u001b[0m\u001b[0;34m)\u001b[0m\u001b[0;34m)\u001b[0m\u001b[0;34m\u001b[0m\u001b[0m\n",
      "\u001b[1;32m    519 \u001b[0m      ]\n",
      "\u001b[1;32m    520 \u001b[0m      \u001b[0margs\u001b[0m \u001b[0;34m=\u001b[0m \u001b[0m_ensure_unique_tensor_objects\u001b[0m\u001b[0;34m(\u001b[0m\u001b[0mparameter_positions\u001b[0m\u001b[0;34m,\u001b[0m \u001b[0margs\u001b[0m\u001b[0;34m)\u001b[0m\u001b[0;34m\u001b[0m\u001b[0m\n",
      "\u001b[1;32m    521 \u001b[0m      \u001b[0;32mfor\u001b[0m \u001b[0mi\u001b[0m \u001b[0;32min\u001b[0m \u001b[0mparameter_positions\u001b[0m\u001b[0;34m:\u001b[0m\u001b[0;34m\u001b[0m\u001b[0m\n",
      "\u001b[1;32m    522 \u001b[0m        \u001b[0msources\u001b[0m\u001b[0;34m.\u001b[0m\u001b[0mappend\u001b[0m\u001b[0;34m(\u001b[0m\u001b[0margs\u001b[0m\u001b[0;34m[\u001b[0m\u001b[0mi\u001b[0m\u001b[0;34m]\u001b[0m\u001b[0;34m)\u001b[0m\u001b[0;34m\u001b[0m\u001b[0m\n",
      "\u001b[1;32m    523 \u001b[0m        \u001b[0mtape\u001b[0m\u001b[0;34m.\u001b[0m\u001b[0mwatch\u001b[0m\u001b[0;34m(\u001b[0m\u001b[0margs\u001b[0m\u001b[0;34m[\u001b[0m\u001b[0mi\u001b[0m\u001b[0;34m]\u001b[0m\u001b[0;34m)\u001b[0m\u001b[0;34m\u001b[0m\u001b[0m\n",
      "\u001b[1;32m    524 \u001b[0m      \u001b[0mresult\u001b[0m \u001b[0;34m=\u001b[0m \u001b[0mf\u001b[0m\u001b[0;34m(\u001b[0m\u001b[0;34m*\u001b[0m\u001b[0margs\u001b[0m\u001b[0;34m)\u001b[0m\u001b[0;34m\u001b[0m\u001b[0m\n",
      "\u001b[1;32m    525 \u001b[0m      \u001b[0;32mif\u001b[0m \u001b[0mresult\u001b[0m \u001b[0;32mis\u001b[0m \u001b[0;32mNone\u001b[0m\u001b[0;34m:\u001b[0m\u001b[0;34m\u001b[0m\u001b[0m\n",
      "\u001b[1;32m    526 \u001b[0m        raise ValueError(\"Cannot differentiate a function that returns None; \"\n",
      "\u001b[1;32m    527 \u001b[0m                         \"did you forget to return a value from {}?\".format(\n",
      "\u001b[1;32m    528 \u001b[0m                             f.__name__))\n",
      "\u001b[1;32m    529 \u001b[0m      \u001b[0mflat_result\u001b[0m \u001b[0;34m=\u001b[0m \u001b[0mnest\u001b[0m\u001b[0;34m.\u001b[0m\u001b[0mflatten\u001b[0m\u001b[0;34m(\u001b[0m\u001b[0mresult\u001b[0m\u001b[0;34m)\u001b[0m\u001b[0;34m\u001b[0m\u001b[0m\n",
      "\u001b[1;32m    530 \u001b[0m      \u001b[0mflat_result\u001b[0m \u001b[0;34m=\u001b[0m \u001b[0;34m[\u001b[0m\u001b[0mgen_array_ops\u001b[0m\u001b[0;34m.\u001b[0m\u001b[0midentity\u001b[0m\u001b[0;34m(\u001b[0m\u001b[0mx\u001b[0m\u001b[0;34m)\u001b[0m \u001b[0;32mfor\u001b[0m \u001b[0mx\u001b[0m \u001b[0;32min\u001b[0m \u001b[0mflat_result\u001b[0m\u001b[0;34m]\u001b[0m\u001b[0;34m\u001b[0m\u001b[0m\n",
      "\u001b[1;32m    531 \u001b[0m      \u001b[0mresult\u001b[0m \u001b[0;34m=\u001b[0m \u001b[0mnest\u001b[0m\u001b[0;34m.\u001b[0m\u001b[0mpack_sequence_as\u001b[0m\u001b[0;34m(\u001b[0m\u001b[0mresult\u001b[0m\u001b[0;34m,\u001b[0m \u001b[0mflat_result\u001b[0m\u001b[0;34m)\u001b[0m\u001b[0;34m\u001b[0m\u001b[0m\n",
      "\u001b[1;32m    532 \u001b[0m    \u001b[0;32mfinally\u001b[0m\u001b[0;34m:\u001b[0m\u001b[0;34m\u001b[0m\u001b[0m\n",
      "\u001b[0;32m--> 533 \u001b[0;31m      \u001b[0mtape\u001b[0m\u001b[0;34m.\u001b[0m\u001b[0mpop_tape\u001b[0m\u001b[0;34m(\u001b[0m\u001b[0mthis_tape\u001b[0m\u001b[0;34m)\u001b[0m\u001b[0;34m\u001b[0m\u001b[0m\n",
      "\u001b[0m\u001b[1;32m    534 \u001b[0m    \u001b[0;32mdef\u001b[0m \u001b[0mvjp\u001b[0m\u001b[0;34m(\u001b[0m\u001b[0mdy\u001b[0m\u001b[0;34m=\u001b[0m\u001b[0;32mNone\u001b[0m\u001b[0;34m)\u001b[0m\u001b[0;34m:\u001b[0m\u001b[0;34m\u001b[0m\u001b[0m\n",
      "\u001b[1;32m    535 \u001b[0m      \u001b[0;32mif\u001b[0m \u001b[0mdy\u001b[0m \u001b[0;32mis\u001b[0m \u001b[0;32mnot\u001b[0m \u001b[0;32mNone\u001b[0m\u001b[0;34m:\u001b[0m\u001b[0;34m\u001b[0m\u001b[0m\n",
      "\u001b[1;32m    536 \u001b[0m        \u001b[0mdy\u001b[0m \u001b[0;34m=\u001b[0m \u001b[0;34m[\u001b[0m\u001b[0mops\u001b[0m\u001b[0;34m.\u001b[0m\u001b[0mconvert_to_tensor\u001b[0m\u001b[0;34m(\u001b[0m\u001b[0mx\u001b[0m\u001b[0;34m)\u001b[0m \u001b[0;32mfor\u001b[0m \u001b[0mx\u001b[0m \u001b[0;32min\u001b[0m \u001b[0mnest\u001b[0m\u001b[0;34m.\u001b[0m\u001b[0mflatten\u001b[0m\u001b[0;34m(\u001b[0m\u001b[0mdy\u001b[0m\u001b[0;34m)\u001b[0m\u001b[0;34m]\u001b[0m\u001b[0;34m\u001b[0m\u001b[0m\n",
      "\u001b[1;32m    537 \u001b[0m      return imperative_grad.imperative_grad(\n",
      "\u001b[1;32m    538 \u001b[0m          \u001b[0m_default_vspace\u001b[0m\u001b[0;34m,\u001b[0m \u001b[0mthis_tape\u001b[0m\u001b[0;34m,\u001b[0m \u001b[0mnest\u001b[0m\u001b[0;34m.\u001b[0m\u001b[0mflatten\u001b[0m\u001b[0;34m(\u001b[0m\u001b[0mresult\u001b[0m\u001b[0;34m)\u001b[0m\u001b[0;34m,\u001b[0m \u001b[0msources\u001b[0m\u001b[0;34m,\u001b[0m\u001b[0;34m\u001b[0m\u001b[0m\n",
      "\u001b[1;32m    539 \u001b[0m          output_gradients=dy)\n",
      "\u001b[1;32m    540 \u001b[0m    \u001b[0;32mreturn\u001b[0m \u001b[0mresult\u001b[0m\u001b[0;34m,\u001b[0m \u001b[0mvjp\u001b[0m\u001b[0;34m\u001b[0m\u001b[0m\n",
      "\u001b[1;32m    541 \u001b[0m\u001b[0;34m\u001b[0m\u001b[0m\n",
      "\n",
      "ipdb> f(arr[i])\n",
      "*** IndexError: list index out of range\n",
      "ipdb> f(*arr[i])\n",
      "*** IndexError: list index out of range\n",
      "ipdb> q\n"
     ]
    }
   ],
   "source": [
    "%debug"
   ]
  },
  {
   "cell_type": "code",
   "execution_count": 11,
   "metadata": {
    "ExecuteTime": {
     "end_time": "2018-09-26T05:56:57.584436Z",
     "start_time": "2018-09-26T05:56:57.504478Z"
    },
    "hidden": true
   },
   "outputs": [],
   "source": [
    "grad_fn = tfe.gradients_function(lattice._calc_energy, params=[0])"
   ]
  },
  {
   "cell_type": "code",
   "execution_count": 83,
   "metadata": {
    "ExecuteTime": {
     "end_time": "2018-09-26T06:36:03.157629Z",
     "start_time": "2018-09-26T06:36:03.059724Z"
    },
    "hidden": true
   },
   "outputs": [
    {
     "ename": "IndexError",
     "evalue": "list index out of range",
     "output_type": "error",
     "traceback": [
      "\u001b[0;31m---------------------------------------------------------------------------\u001b[0m",
      "\u001b[0;31mIndexError\u001b[0m                                Traceback (most recent call last)",
      "\u001b[0;32m<ipython-input-83-8f0bb240580e>\u001b[0m in \u001b[0;36m<module>\u001b[0;34m()\u001b[0m\n\u001b[0;32m----> 1\u001b[0;31m \u001b[0m_jacobian\u001b[0m \u001b[0;34m=\u001b[0m \u001b[0mjacobian\u001b[0m\u001b[0;34m(\u001b[0m\u001b[0mdynamics\u001b[0m\u001b[0;34m.\u001b[0m\u001b[0mpotential\u001b[0m\u001b[0;34m,\u001b[0m \u001b[0m_position\u001b[0m\u001b[0;34m)\u001b[0m\u001b[0;34m\u001b[0m\u001b[0m\n\u001b[0m",
      "\u001b[0;32m~/ANL/l2hmc/l2hmc/utils/jacobian.py\u001b[0m in \u001b[0;36mjacobian\u001b[0;34m(fx, x, parallel_iterations)\u001b[0m\n\u001b[1;32m     57\u001b[0m         \u001b[0;32mreturn\u001b[0m \u001b[0mgrad\u001b[0m\u001b[0;34m\u001b[0m\u001b[0m\n\u001b[1;32m     58\u001b[0m \u001b[0;34m\u001b[0m\u001b[0m\n\u001b[0;32m---> 59\u001b[0;31m     return _map(_grads(fx, x),\n\u001b[0m\u001b[1;32m     60\u001b[0m                \u001b[0;31m#  lambda fxi: tf.gradients(fxi, x)[0],\u001b[0m\u001b[0;34m\u001b[0m\u001b[0;34m\u001b[0m\u001b[0m\n\u001b[1;32m     61\u001b[0m                \u001b[0mtf\u001b[0m\u001b[0;34m.\u001b[0m\u001b[0mreshape\u001b[0m\u001b[0;34m(\u001b[0m\u001b[0mfx\u001b[0m\u001b[0;34m,\u001b[0m \u001b[0;34m[\u001b[0m\u001b[0;34m-\u001b[0m\u001b[0;36m1\u001b[0m\u001b[0;34m]\u001b[0m\u001b[0;34m)\u001b[0m\u001b[0;34m,\u001b[0m\u001b[0;34m\u001b[0m\u001b[0m\n",
      "\u001b[0;32m~/ANL/l2hmc/l2hmc/utils/jacobian.py\u001b[0m in \u001b[0;36m_grads\u001b[0;34m(fxi, x)\u001b[0m\n\u001b[1;32m     51\u001b[0m         \u001b[0;32mif\u001b[0m \u001b[0mtf\u001b[0m\u001b[0;34m.\u001b[0m\u001b[0mexecuting_eagerly\u001b[0m\u001b[0;34m(\u001b[0m\u001b[0;34m)\u001b[0m\u001b[0;34m:\u001b[0m\u001b[0;34m\u001b[0m\u001b[0m\n\u001b[1;32m     52\u001b[0m             \u001b[0mgrad_fn\u001b[0m \u001b[0;34m=\u001b[0m \u001b[0mtfe\u001b[0m\u001b[0;34m.\u001b[0m\u001b[0mgradients_function\u001b[0m\u001b[0;34m(\u001b[0m\u001b[0mfxi\u001b[0m\u001b[0;34m)\u001b[0m\u001b[0;34m\u001b[0m\u001b[0m\n\u001b[0;32m---> 53\u001b[0;31m             \u001b[0mgrad\u001b[0m \u001b[0;34m=\u001b[0m \u001b[0mgrad_fn\u001b[0m\u001b[0;34m(\u001b[0m\u001b[0mx\u001b[0m\u001b[0;34m)\u001b[0m\u001b[0;34m[\u001b[0m\u001b[0;36m0\u001b[0m\u001b[0;34m]\u001b[0m\u001b[0;34m\u001b[0m\u001b[0m\n\u001b[0m\u001b[1;32m     54\u001b[0m         \u001b[0;32melse\u001b[0m\u001b[0;34m:\u001b[0m\u001b[0;34m\u001b[0m\u001b[0m\n\u001b[1;32m     55\u001b[0m             \u001b[0mgrad_fn\u001b[0m \u001b[0;34m=\u001b[0m \u001b[0mtf\u001b[0m\u001b[0;34m.\u001b[0m\u001b[0mgradients\u001b[0m\u001b[0;34m(\u001b[0m\u001b[0mfxi\u001b[0m\u001b[0;34m,\u001b[0m \u001b[0mx\u001b[0m\u001b[0;34m)\u001b[0m\u001b[0;34m\u001b[0m\u001b[0m\n",
      "\u001b[0;32m~/miniconda3/envs/tensorflow_cpu/lib/python3.6/site-packages/tensorflow/python/eager/backprop.py\u001b[0m in \u001b[0;36mdecorated\u001b[0;34m(*args, **kwds)\u001b[0m\n\u001b[1;32m    367\u001b[0m     \u001b[0;34m\"\"\"Computes the gradient of the decorated function.\"\"\"\u001b[0m\u001b[0;34m\u001b[0m\u001b[0m\n\u001b[1;32m    368\u001b[0m \u001b[0;34m\u001b[0m\u001b[0m\n\u001b[0;32m--> 369\u001b[0;31m     \u001b[0m_\u001b[0m\u001b[0;34m,\u001b[0m \u001b[0mgrad\u001b[0m \u001b[0;34m=\u001b[0m \u001b[0mval_and_grad_function\u001b[0m\u001b[0;34m(\u001b[0m\u001b[0mf\u001b[0m\u001b[0;34m,\u001b[0m \u001b[0mparams\u001b[0m\u001b[0;34m=\u001b[0m\u001b[0mparams\u001b[0m\u001b[0;34m)\u001b[0m\u001b[0;34m(\u001b[0m\u001b[0;34m*\u001b[0m\u001b[0margs\u001b[0m\u001b[0;34m,\u001b[0m \u001b[0;34m**\u001b[0m\u001b[0mkwds\u001b[0m\u001b[0;34m)\u001b[0m\u001b[0;34m\u001b[0m\u001b[0m\n\u001b[0m\u001b[1;32m    370\u001b[0m     \u001b[0;32mreturn\u001b[0m \u001b[0mgrad\u001b[0m\u001b[0;34m\u001b[0m\u001b[0m\n\u001b[1;32m    371\u001b[0m \u001b[0;34m\u001b[0m\u001b[0m\n",
      "\u001b[0;32m~/miniconda3/envs/tensorflow_cpu/lib/python3.6/site-packages/tensorflow/python/eager/backprop.py\u001b[0m in \u001b[0;36mdecorated\u001b[0;34m(*args, **kwds)\u001b[0m\n\u001b[1;32m    466\u001b[0m       raise ValueError(\"Functions to be differentiated cannot \"\n\u001b[1;32m    467\u001b[0m                        \"receive keyword arguments.\")\n\u001b[0;32m--> 468\u001b[0;31m     \u001b[0mval\u001b[0m\u001b[0;34m,\u001b[0m \u001b[0mvjp\u001b[0m \u001b[0;34m=\u001b[0m \u001b[0mmake_vjp\u001b[0m\u001b[0;34m(\u001b[0m\u001b[0mf\u001b[0m\u001b[0;34m,\u001b[0m \u001b[0mparams\u001b[0m\u001b[0;34m)\u001b[0m\u001b[0;34m(\u001b[0m\u001b[0;34m*\u001b[0m\u001b[0margs\u001b[0m\u001b[0;34m,\u001b[0m \u001b[0;34m**\u001b[0m\u001b[0mkwds\u001b[0m\u001b[0;34m)\u001b[0m\u001b[0;34m\u001b[0m\u001b[0m\n\u001b[0m\u001b[1;32m    469\u001b[0m     \u001b[0;32mreturn\u001b[0m \u001b[0mval\u001b[0m\u001b[0;34m,\u001b[0m \u001b[0mvjp\u001b[0m\u001b[0;34m(\u001b[0m\u001b[0mdy\u001b[0m\u001b[0;34m=\u001b[0m\u001b[0mdy\u001b[0m\u001b[0;34m)\u001b[0m\u001b[0;34m\u001b[0m\u001b[0m\n\u001b[1;32m    470\u001b[0m \u001b[0;34m\u001b[0m\u001b[0m\n",
      "\u001b[0;32m~/miniconda3/envs/tensorflow_cpu/lib/python3.6/site-packages/tensorflow/python/eager/backprop.py\u001b[0m in \u001b[0;36mdecorated\u001b[0;34m(*args, **kwds)\u001b[0m\n\u001b[1;32m    520\u001b[0m       \u001b[0margs\u001b[0m \u001b[0;34m=\u001b[0m \u001b[0m_ensure_unique_tensor_objects\u001b[0m\u001b[0;34m(\u001b[0m\u001b[0mparameter_positions\u001b[0m\u001b[0;34m,\u001b[0m \u001b[0margs\u001b[0m\u001b[0;34m)\u001b[0m\u001b[0;34m\u001b[0m\u001b[0m\n\u001b[1;32m    521\u001b[0m       \u001b[0;32mfor\u001b[0m \u001b[0mi\u001b[0m \u001b[0;32min\u001b[0m \u001b[0mparameter_positions\u001b[0m\u001b[0;34m:\u001b[0m\u001b[0;34m\u001b[0m\u001b[0m\n\u001b[0;32m--> 522\u001b[0;31m         \u001b[0msources\u001b[0m\u001b[0;34m.\u001b[0m\u001b[0mappend\u001b[0m\u001b[0;34m(\u001b[0m\u001b[0margs\u001b[0m\u001b[0;34m[\u001b[0m\u001b[0mi\u001b[0m\u001b[0;34m]\u001b[0m\u001b[0;34m)\u001b[0m\u001b[0;34m\u001b[0m\u001b[0m\n\u001b[0m\u001b[1;32m    523\u001b[0m         \u001b[0mtape\u001b[0m\u001b[0;34m.\u001b[0m\u001b[0mwatch\u001b[0m\u001b[0;34m(\u001b[0m\u001b[0margs\u001b[0m\u001b[0;34m[\u001b[0m\u001b[0mi\u001b[0m\u001b[0;34m]\u001b[0m\u001b[0;34m)\u001b[0m\u001b[0;34m\u001b[0m\u001b[0m\n\u001b[1;32m    524\u001b[0m       \u001b[0mresult\u001b[0m \u001b[0;34m=\u001b[0m \u001b[0mf\u001b[0m\u001b[0;34m(\u001b[0m\u001b[0;34m*\u001b[0m\u001b[0margs\u001b[0m\u001b[0;34m)\u001b[0m\u001b[0;34m\u001b[0m\u001b[0m\n",
      "\u001b[0;31mIndexError\u001b[0m: list index out of range"
     ]
    }
   ],
   "source": [
    "_jacobian = jacobian(dynamics.potential, _position)"
   ]
  },
  {
   "cell_type": "code",
   "execution_count": 84,
   "metadata": {
    "ExecuteTime": {
     "end_time": "2018-09-26T06:36:46.511568Z",
     "start_time": "2018-09-26T06:36:11.984420Z"
    },
    "hidden": true
   },
   "outputs": [
    {
     "name": "stdout",
     "output_type": "stream",
     "text": [
      "> \u001b[0;32m/Users/saforem2/miniconda3/envs/tensorflow_cpu/lib/python3.6/site-packages/tensorflow/python/eager/backprop.py\u001b[0m(533)\u001b[0;36mdecorated\u001b[0;34m()\u001b[0m\n",
      "\u001b[0;32m    531 \u001b[0;31m      \u001b[0mresult\u001b[0m \u001b[0;34m=\u001b[0m \u001b[0mnest\u001b[0m\u001b[0;34m.\u001b[0m\u001b[0mpack_sequence_as\u001b[0m\u001b[0;34m(\u001b[0m\u001b[0mresult\u001b[0m\u001b[0;34m,\u001b[0m \u001b[0mflat_result\u001b[0m\u001b[0;34m)\u001b[0m\u001b[0;34m\u001b[0m\u001b[0m\n",
      "\u001b[0m\u001b[0;32m    532 \u001b[0;31m    \u001b[0;32mfinally\u001b[0m\u001b[0;34m:\u001b[0m\u001b[0;34m\u001b[0m\u001b[0m\n",
      "\u001b[0m\u001b[0;32m--> 533 \u001b[0;31m      \u001b[0mtape\u001b[0m\u001b[0;34m.\u001b[0m\u001b[0mpop_tape\u001b[0m\u001b[0;34m(\u001b[0m\u001b[0mthis_tape\u001b[0m\u001b[0;34m)\u001b[0m\u001b[0;34m\u001b[0m\u001b[0m\n",
      "\u001b[0m\u001b[0;32m    534 \u001b[0;31m    \u001b[0;32mdef\u001b[0m \u001b[0mvjp\u001b[0m\u001b[0;34m(\u001b[0m\u001b[0mdy\u001b[0m\u001b[0;34m=\u001b[0m\u001b[0;32mNone\u001b[0m\u001b[0;34m)\u001b[0m\u001b[0;34m:\u001b[0m\u001b[0;34m\u001b[0m\u001b[0m\n",
      "\u001b[0m\u001b[0;32m    535 \u001b[0;31m      \u001b[0;32mif\u001b[0m \u001b[0mdy\u001b[0m \u001b[0;32mis\u001b[0m \u001b[0;32mnot\u001b[0m \u001b[0;32mNone\u001b[0m\u001b[0;34m:\u001b[0m\u001b[0;34m\u001b[0m\u001b[0m\n",
      "\u001b[0m\n",
      "ipdb> ll\n",
      "\u001b[1;32m    508 \u001b[0m  \u001b[0;32mdef\u001b[0m \u001b[0mdecorated\u001b[0m\u001b[0;34m(\u001b[0m\u001b[0;34m*\u001b[0m\u001b[0margs\u001b[0m\u001b[0;34m,\u001b[0m \u001b[0;34m**\u001b[0m\u001b[0mkwds\u001b[0m\u001b[0;34m)\u001b[0m\u001b[0;34m:\u001b[0m\u001b[0;34m\u001b[0m\u001b[0m\n",
      "\u001b[1;32m    509 \u001b[0m    \u001b[0;34m\"\"\"Computes the value and gradient of the decorated function.\"\"\"\u001b[0m\u001b[0;34m\u001b[0m\u001b[0m\n",
      "\u001b[1;32m    510 \u001b[0m    \u001b[0mparameter_positions\u001b[0m \u001b[0;34m=\u001b[0m \u001b[0m_get_arg_spec\u001b[0m\u001b[0;34m(\u001b[0m\u001b[0mf\u001b[0m\u001b[0;34m,\u001b[0m \u001b[0mparams\u001b[0m\u001b[0;34m,\u001b[0m \u001b[0margs\u001b[0m\u001b[0;34m)\u001b[0m\u001b[0;34m\u001b[0m\u001b[0m\n",
      "\u001b[1;32m    511 \u001b[0m    \u001b[0;32massert\u001b[0m \u001b[0;32mnot\u001b[0m \u001b[0mkwds\u001b[0m\u001b[0;34m,\u001b[0m \u001b[0;34m\"The gradient function can't take keyword arguments.\"\u001b[0m\u001b[0;34m\u001b[0m\u001b[0m\n",
      "\u001b[1;32m    512 \u001b[0m    \u001b[0mthis_tape\u001b[0m \u001b[0;34m=\u001b[0m \u001b[0mtape\u001b[0m\u001b[0;34m.\u001b[0m\u001b[0mpush_new_tape\u001b[0m\u001b[0;34m(\u001b[0m\u001b[0mpersistent\u001b[0m\u001b[0;34m=\u001b[0m\u001b[0mpersistent\u001b[0m\u001b[0;34m)\u001b[0m\u001b[0;34m\u001b[0m\u001b[0m\n",
      "\u001b[1;32m    513 \u001b[0m    \u001b[0;32mtry\u001b[0m\u001b[0;34m:\u001b[0m\u001b[0;34m\u001b[0m\u001b[0m\n",
      "\u001b[1;32m    514 \u001b[0m      \u001b[0msources\u001b[0m \u001b[0;34m=\u001b[0m \u001b[0;34m[\u001b[0m\u001b[0;34m]\u001b[0m\u001b[0;34m\u001b[0m\u001b[0m\n",
      "\u001b[1;32m    515 \u001b[0m      args = [\n",
      "\u001b[1;32m    516 \u001b[0m          \u001b[0mops\u001b[0m\u001b[0;34m.\u001b[0m\u001b[0mconvert_to_tensor\u001b[0m\u001b[0;34m(\u001b[0m\u001b[0margs\u001b[0m\u001b[0;34m[\u001b[0m\u001b[0mi\u001b[0m\u001b[0;34m]\u001b[0m\u001b[0;34m)\u001b[0m\u001b[0;34m\u001b[0m\u001b[0m\n",
      "\u001b[1;32m    517 \u001b[0m          \u001b[0;32mif\u001b[0m \u001b[0mi\u001b[0m \u001b[0;32min\u001b[0m \u001b[0mparameter_positions\u001b[0m \u001b[0;32melse\u001b[0m \u001b[0margs\u001b[0m\u001b[0;34m[\u001b[0m\u001b[0mi\u001b[0m\u001b[0;34m]\u001b[0m\u001b[0;34m\u001b[0m\u001b[0m\n",
      "\u001b[1;32m    518 \u001b[0m          \u001b[0;32mfor\u001b[0m \u001b[0mi\u001b[0m \u001b[0;32min\u001b[0m \u001b[0mrange\u001b[0m\u001b[0;34m(\u001b[0m\u001b[0mlen\u001b[0m\u001b[0;34m(\u001b[0m\u001b[0margs\u001b[0m\u001b[0;34m)\u001b[0m\u001b[0;34m)\u001b[0m\u001b[0;34m\u001b[0m\u001b[0m\n",
      "\u001b[1;32m    519 \u001b[0m      ]\n",
      "\u001b[1;32m    520 \u001b[0m      \u001b[0margs\u001b[0m \u001b[0;34m=\u001b[0m \u001b[0m_ensure_unique_tensor_objects\u001b[0m\u001b[0;34m(\u001b[0m\u001b[0mparameter_positions\u001b[0m\u001b[0;34m,\u001b[0m \u001b[0margs\u001b[0m\u001b[0;34m)\u001b[0m\u001b[0;34m\u001b[0m\u001b[0m\n",
      "\u001b[1;32m    521 \u001b[0m      \u001b[0;32mfor\u001b[0m \u001b[0mi\u001b[0m \u001b[0;32min\u001b[0m \u001b[0mparameter_positions\u001b[0m\u001b[0;34m:\u001b[0m\u001b[0;34m\u001b[0m\u001b[0m\n",
      "\u001b[1;32m    522 \u001b[0m        \u001b[0msources\u001b[0m\u001b[0;34m.\u001b[0m\u001b[0mappend\u001b[0m\u001b[0;34m(\u001b[0m\u001b[0margs\u001b[0m\u001b[0;34m[\u001b[0m\u001b[0mi\u001b[0m\u001b[0;34m]\u001b[0m\u001b[0;34m)\u001b[0m\u001b[0;34m\u001b[0m\u001b[0m\n",
      "\u001b[1;32m    523 \u001b[0m        \u001b[0mtape\u001b[0m\u001b[0;34m.\u001b[0m\u001b[0mwatch\u001b[0m\u001b[0;34m(\u001b[0m\u001b[0margs\u001b[0m\u001b[0;34m[\u001b[0m\u001b[0mi\u001b[0m\u001b[0;34m]\u001b[0m\u001b[0;34m)\u001b[0m\u001b[0;34m\u001b[0m\u001b[0m\n",
      "\u001b[1;32m    524 \u001b[0m      \u001b[0mresult\u001b[0m \u001b[0;34m=\u001b[0m \u001b[0mf\u001b[0m\u001b[0;34m(\u001b[0m\u001b[0;34m*\u001b[0m\u001b[0margs\u001b[0m\u001b[0;34m)\u001b[0m\u001b[0;34m\u001b[0m\u001b[0m\n",
      "\u001b[1;32m    525 \u001b[0m      \u001b[0;32mif\u001b[0m \u001b[0mresult\u001b[0m \u001b[0;32mis\u001b[0m \u001b[0;32mNone\u001b[0m\u001b[0;34m:\u001b[0m\u001b[0;34m\u001b[0m\u001b[0m\n",
      "\u001b[1;32m    526 \u001b[0m        raise ValueError(\"Cannot differentiate a function that returns None; \"\n",
      "\u001b[1;32m    527 \u001b[0m                         \"did you forget to return a value from {}?\".format(\n",
      "\u001b[1;32m    528 \u001b[0m                             f.__name__))\n",
      "\u001b[1;32m    529 \u001b[0m      \u001b[0mflat_result\u001b[0m \u001b[0;34m=\u001b[0m \u001b[0mnest\u001b[0m\u001b[0;34m.\u001b[0m\u001b[0mflatten\u001b[0m\u001b[0;34m(\u001b[0m\u001b[0mresult\u001b[0m\u001b[0;34m)\u001b[0m\u001b[0;34m\u001b[0m\u001b[0m\n",
      "\u001b[1;32m    530 \u001b[0m      \u001b[0mflat_result\u001b[0m \u001b[0;34m=\u001b[0m \u001b[0;34m[\u001b[0m\u001b[0mgen_array_ops\u001b[0m\u001b[0;34m.\u001b[0m\u001b[0midentity\u001b[0m\u001b[0;34m(\u001b[0m\u001b[0mx\u001b[0m\u001b[0;34m)\u001b[0m \u001b[0;32mfor\u001b[0m \u001b[0mx\u001b[0m \u001b[0;32min\u001b[0m \u001b[0mflat_result\u001b[0m\u001b[0;34m]\u001b[0m\u001b[0;34m\u001b[0m\u001b[0m\n",
      "\u001b[1;32m    531 \u001b[0m      \u001b[0mresult\u001b[0m \u001b[0;34m=\u001b[0m \u001b[0mnest\u001b[0m\u001b[0;34m.\u001b[0m\u001b[0mpack_sequence_as\u001b[0m\u001b[0;34m(\u001b[0m\u001b[0mresult\u001b[0m\u001b[0;34m,\u001b[0m \u001b[0mflat_result\u001b[0m\u001b[0;34m)\u001b[0m\u001b[0;34m\u001b[0m\u001b[0m\n",
      "\u001b[1;32m    532 \u001b[0m    \u001b[0;32mfinally\u001b[0m\u001b[0;34m:\u001b[0m\u001b[0;34m\u001b[0m\u001b[0m\n",
      "\u001b[0;32m--> 533 \u001b[0;31m      \u001b[0mtape\u001b[0m\u001b[0;34m.\u001b[0m\u001b[0mpop_tape\u001b[0m\u001b[0;34m(\u001b[0m\u001b[0mthis_tape\u001b[0m\u001b[0;34m)\u001b[0m\u001b[0;34m\u001b[0m\u001b[0m\n",
      "\u001b[0m\u001b[1;32m    534 \u001b[0m    \u001b[0;32mdef\u001b[0m \u001b[0mvjp\u001b[0m\u001b[0;34m(\u001b[0m\u001b[0mdy\u001b[0m\u001b[0;34m=\u001b[0m\u001b[0;32mNone\u001b[0m\u001b[0;34m)\u001b[0m\u001b[0;34m:\u001b[0m\u001b[0;34m\u001b[0m\u001b[0m\n",
      "\u001b[1;32m    535 \u001b[0m      \u001b[0;32mif\u001b[0m \u001b[0mdy\u001b[0m \u001b[0;32mis\u001b[0m \u001b[0;32mnot\u001b[0m \u001b[0;32mNone\u001b[0m\u001b[0;34m:\u001b[0m\u001b[0;34m\u001b[0m\u001b[0m\n",
      "\u001b[1;32m    536 \u001b[0m        \u001b[0mdy\u001b[0m \u001b[0;34m=\u001b[0m \u001b[0;34m[\u001b[0m\u001b[0mops\u001b[0m\u001b[0;34m.\u001b[0m\u001b[0mconvert_to_tensor\u001b[0m\u001b[0;34m(\u001b[0m\u001b[0mx\u001b[0m\u001b[0;34m)\u001b[0m \u001b[0;32mfor\u001b[0m \u001b[0mx\u001b[0m \u001b[0;32min\u001b[0m \u001b[0mnest\u001b[0m\u001b[0;34m.\u001b[0m\u001b[0mflatten\u001b[0m\u001b[0;34m(\u001b[0m\u001b[0mdy\u001b[0m\u001b[0;34m)\u001b[0m\u001b[0;34m]\u001b[0m\u001b[0;34m\u001b[0m\u001b[0m\n",
      "\u001b[1;32m    537 \u001b[0m      return imperative_grad.imperative_grad(\n",
      "\u001b[1;32m    538 \u001b[0m          \u001b[0m_default_vspace\u001b[0m\u001b[0;34m,\u001b[0m \u001b[0mthis_tape\u001b[0m\u001b[0;34m,\u001b[0m \u001b[0mnest\u001b[0m\u001b[0;34m.\u001b[0m\u001b[0mflatten\u001b[0m\u001b[0;34m(\u001b[0m\u001b[0mresult\u001b[0m\u001b[0;34m)\u001b[0m\u001b[0;34m,\u001b[0m \u001b[0msources\u001b[0m\u001b[0;34m,\u001b[0m\u001b[0;34m\u001b[0m\u001b[0m\n",
      "\u001b[1;32m    539 \u001b[0m          output_gradients=dy)\n",
      "\u001b[1;32m    540 \u001b[0m    \u001b[0;32mreturn\u001b[0m \u001b[0mresult\u001b[0m\u001b[0;34m,\u001b[0m \u001b[0mvjp\u001b[0m\u001b[0;34m\u001b[0m\u001b[0m\n",
      "\u001b[1;32m    541 \u001b[0m\u001b[0;34m\u001b[0m\u001b[0m\n",
      "\n",
      "ipdb> _a = args\n",
      "ipdb> _a\n",
      "[<tf.Tensor: id=457719, shape=(200, 2), dtype=float64, numpy=\n",
      "array([[-1.18493387e+00, -5.12083440e-02],\n",
      "       [-5.07364717e-02,  9.94068867e-01],\n",
      "       [-1.25786833e-01,  8.10973510e-01],\n",
      "       [ 1.33987689e+00,  3.73350215e-02],\n",
      "       [-2.77535839e-01, -7.18694900e-01],\n",
      "       [-5.71033619e-02,  1.02224159e+00],\n",
      "       [ 7.53654219e-01,  1.60942892e-02],\n",
      "       [ 6.99635462e-01, -9.31503644e-02],\n",
      "       [ 1.56398174e-01, -1.02645151e+00],\n",
      "       [-5.78893863e-02, -7.55472792e-01],\n",
      "       [ 6.20771547e-02, -8.91120846e-01],\n",
      "       [ 1.05817367e+00,  3.34769684e-02],\n",
      "       [-9.39682147e-01, -6.25299362e-03],\n",
      "       [ 1.26956924e-02,  1.14243685e+00],\n",
      "       [ 9.55679973e-01, -7.95782812e-02],\n",
      "       [-2.93435906e-01,  9.65287675e-01],\n",
      "       [ 9.13075338e-01,  3.59116436e-02],\n",
      "       [ 7.80289232e-02,  9.93157338e-01],\n",
      "       [-7.41820904e-02,  1.20525869e+00],\n",
      "       [ 6.10620798e-02, -1.16368112e+00],\n",
      "       [-4.33124872e-02,  7.94081515e-01],\n",
      "       [-1.05147366e+00,  1.50688753e-02],\n",
      "       [ 1.30792817e+00, -3.21740701e-02],\n",
      "       [-8.13743680e-01, -4.70708053e-02],\n",
      "       [ 1.15989199e+00, -1.31408366e-01],\n",
      "       [ 8.71425725e-02,  8.55217524e-01],\n",
      "       [-1.08302596e+00,  1.03182779e-01],\n",
      "       [ 1.30024137e-01,  1.00717490e+00],\n",
      "       [ 1.09285521e+00,  2.11158905e-01],\n",
      "       [ 1.05435188e-01, -9.33062481e-01],\n",
      "       [ 5.21174550e-03,  8.27071460e-01],\n",
      "       [-2.11033459e-01,  1.14787456e+00],\n",
      "       [ 9.55521090e-02,  9.19721787e-01],\n",
      "       [-8.19093089e-01,  1.52342198e-01],\n",
      "       [-9.89941440e-01, -9.84329058e-03],\n",
      "       [-1.10900644e+00,  4.48012887e-03],\n",
      "       [-5.12053435e-02,  1.00186316e+00],\n",
      "       [ 9.00186874e-01, -3.06064859e-02],\n",
      "       [-1.16726646e+00, -2.34190027e-01],\n",
      "       [-9.08319393e-01, -1.98094646e-01],\n",
      "       [-1.63949033e-01, -9.16038210e-01],\n",
      "       [ 2.91539010e-01, -1.03046462e+00],\n",
      "       [ 3.03314377e-02, -7.48981987e-01],\n",
      "       [ 1.09174766e+00, -1.71680471e-01],\n",
      "       [-1.14935717e+00,  3.17907870e-02],\n",
      "       [-1.10130899e+00, -4.69943346e-02],\n",
      "       [-7.08751599e-01, -1.54434030e-01],\n",
      "       [ 2.01332286e-01,  7.36672222e-01],\n",
      "       [ 7.54486075e-01, -1.59521963e-01],\n",
      "       [ 9.86804667e-01,  1.46591145e-01],\n",
      "       [-7.53668711e-01, -7.08820543e-03],\n",
      "       [-4.33676618e-02,  9.74534786e-01],\n",
      "       [ 7.31085123e-01,  1.42254448e-01],\n",
      "       [ 1.57544165e-01, -1.08769832e+00],\n",
      "       [ 1.21033101e+00,  2.19160392e-03],\n",
      "       [-1.02460990e+00,  1.69008795e-01],\n",
      "       [ 9.31778090e-01,  1.20173155e-01],\n",
      "       [ 1.89828425e-01, -9.32910986e-01],\n",
      "       [ 1.15630990e+00,  9.65774445e-02],\n",
      "       [ 4.34968285e-02, -1.12674420e+00],\n",
      "       [ 2.33682927e-01, -7.77544806e-01],\n",
      "       [ 1.76168088e-01, -9.83025249e-01],\n",
      "       [ 7.51020979e-02, -9.66635603e-01],\n",
      "       [-2.26982092e-02, -9.15558500e-01],\n",
      "       [-1.05387073e+00, -5.71811324e-02],\n",
      "       [ 4.62623503e-02,  1.05941462e+00],\n",
      "       [ 9.87670506e-01,  4.10878082e-02],\n",
      "       [ 1.07256016e-03,  8.62400995e-01],\n",
      "       [-2.09496754e-02,  1.01967543e+00],\n",
      "       [ 2.28186263e-01, -1.10505748e+00],\n",
      "       [-9.42420521e-01, -1.54077046e-01],\n",
      "       [-1.05055078e+00,  1.06532291e-01],\n",
      "       [ 1.01180839e+00,  1.75518760e-01],\n",
      "       [-1.92405331e-01,  1.02735658e+00],\n",
      "       [-1.49499278e-01,  1.07667262e+00],\n",
      "       [ 8.49268953e-01,  2.63303358e-02],\n",
      "       [-9.04739970e-02,  1.09299533e+00],\n",
      "       [ 8.15985463e-02,  9.43634972e-01],\n",
      "       [ 6.97190824e-01,  1.84571303e-01],\n",
      "       [-1.53833415e-01,  1.01317345e+00],\n",
      "       [ 1.77899729e-01,  1.08886210e+00],\n",
      "       [-1.10630668e+00,  3.11032954e-01],\n",
      "       [-2.55467667e-01, -8.10485431e-01],\n",
      "       [ 1.67892104e-01, -9.76901720e-01],\n",
      "       [ 1.15661278e+00,  2.38738828e-02],\n",
      "       [-8.24209564e-02, -8.90975095e-01],\n",
      "       [-7.96036490e-01,  1.22633914e-01],\n",
      "       [-1.07956598e-01, -1.00897352e+00],\n",
      "       [-1.90616672e-01, -9.51186743e-01],\n",
      "       [ 1.45666862e-02, -8.19945646e-01],\n",
      "       [-3.18648376e-02, -7.67680775e-01],\n",
      "       [-1.01964285e+00, -1.77054030e-01],\n",
      "       [ 1.01238202e+00,  1.41321673e-01],\n",
      "       [-1.04221159e-01,  9.73383930e-01],\n",
      "       [ 1.25883663e+00,  1.27185352e-02],\n",
      "       [-1.83976666e-02, -1.05985862e+00],\n",
      "       [-9.27761407e-01, -1.29079482e-01],\n",
      "       [-1.39314379e-01,  1.15815978e+00],\n",
      "       [-9.54690308e-01, -1.74826936e-01],\n",
      "       [ 4.79326686e-02,  8.43838085e-01],\n",
      "       [-3.13881033e-02, -1.01607631e+00],\n",
      "       [-3.93299977e-02,  1.04495034e+00],\n",
      "       [ 8.69460506e-02, -1.04008489e+00],\n",
      "       [-4.97438725e-02, -1.23430943e+00],\n",
      "       [-2.68130812e-01,  8.77837598e-01],\n",
      "       [ 9.87077051e-01,  1.97849889e-01],\n",
      "       [-1.34787653e+00,  2.12124108e-01],\n",
      "       [-1.34753346e+00, -7.42635427e-02],\n",
      "       [ 7.89490486e-03, -1.10806609e+00],\n",
      "       [ 8.49802009e-01, -1.02265603e-01],\n",
      "       [ 1.07731327e+00, -7.14863825e-02],\n",
      "       [-1.76132042e-01, -1.04178565e+00],\n",
      "       [-9.19572001e-01, -5.36006967e-02],\n",
      "       [ 1.69897022e-01,  9.87835142e-01],\n",
      "       [-9.90578028e-02, -9.86849708e-01],\n",
      "       [ 1.12927393e+00,  2.23488810e-01],\n",
      "       [-8.52879128e-01, -1.09057413e-01],\n",
      "       [-1.67114812e-01, -1.18345382e+00],\n",
      "       [ 8.78385632e-01,  1.26712820e-01],\n",
      "       [-8.51937258e-01,  1.15559549e-01],\n",
      "       [-1.74880132e-02,  1.04222543e+00],\n",
      "       [ 1.07055528e+00,  1.21597906e-01],\n",
      "       [-1.17958721e-01, -1.02437369e+00],\n",
      "       [-1.34335460e-01, -8.05909059e-01],\n",
      "       [-3.07416197e-01,  9.28460023e-01],\n",
      "       [-1.24452911e+00,  4.44222926e-02],\n",
      "       [ 8.74585055e-01,  1.23309409e-01],\n",
      "       [-1.34204724e-01, -1.01251840e+00],\n",
      "       [ 7.62247958e-01,  5.73694551e-02],\n",
      "       [ 1.11486609e+00,  2.46285677e-01],\n",
      "       [ 7.29636625e-01,  1.65905412e-01],\n",
      "       [ 1.11667614e+00, -8.17308191e-02],\n",
      "       [ 1.10244430e+00, -4.32311760e-02],\n",
      "       [-2.69111919e-01,  1.32953185e+00],\n",
      "       [-8.94865266e-01, -2.68680629e-01],\n",
      "       [ 9.76389628e-01,  3.18748307e-01],\n",
      "       [ 8.66396902e-01,  1.52479289e-01],\n",
      "       [-4.90207789e-02,  7.08833607e-01],\n",
      "       [-3.63100039e-02,  1.05566086e+00],\n",
      "       [-9.43629229e-01, -1.92128638e-01],\n",
      "       [-1.71653370e-01,  1.07137538e+00],\n",
      "       [ 2.48391519e-01,  8.93851414e-01],\n",
      "       [-9.75369344e-01, -2.41545438e-01],\n",
      "       [-1.05656956e+00, -1.46017612e-02],\n",
      "       [-7.96009217e-02,  1.01565018e+00],\n",
      "       [ 1.05851949e+00,  1.37773900e-01],\n",
      "       [-1.74161664e-01,  1.03222392e+00],\n",
      "       [ 1.02718596e+00, -9.95495696e-02],\n",
      "       [-8.92534173e-01,  5.49420297e-02],\n",
      "       [ 9.90071750e-01, -8.36873546e-02],\n",
      "       [ 1.15716488e+00, -5.27644309e-02],\n",
      "       [ 2.78684769e-01, -8.20512050e-01],\n",
      "       [-1.23857825e+00, -4.09137999e-01],\n",
      "       [-1.22665035e+00,  4.32010022e-02],\n",
      "       [-1.44179168e-01,  1.02975187e+00],\n",
      "       [-1.21037443e-01, -1.10655486e+00],\n",
      "       [-1.02276512e+00, -5.89162591e-02],\n",
      "       [ 8.73630359e-01,  4.78411645e-02],\n",
      "       [-1.11609040e+00,  3.42790065e-02],\n",
      "       [-6.00885469e-02,  9.29210187e-01],\n",
      "       [ 1.50910661e-01,  1.15272497e+00],\n",
      "       [ 1.04892114e+00,  3.46332664e-02],\n",
      "       [ 7.95697598e-01, -7.57894564e-03],\n",
      "       [-9.05354677e-01, -2.02082017e-02],\n",
      "       [ 1.17443810e+00, -6.34868022e-03],\n",
      "       [-7.72667645e-02, -1.07956378e+00],\n",
      "       [-9.28018072e-01,  1.65213184e-02],\n",
      "       [ 1.11245179e+00,  2.08149652e-02],\n",
      "       [-2.55939789e-01,  8.61171084e-01],\n",
      "       [ 9.99215675e-01,  1.47922043e-01],\n",
      "       [ 5.29366869e-02,  7.38433967e-01],\n",
      "       [ 2.48903205e-02,  1.01798437e+00],\n",
      "       [ 9.83896674e-02,  1.23552765e+00],\n",
      "       [ 8.86401494e-02, -9.86694254e-01],\n",
      "       [-9.05127122e-02,  9.68770503e-01],\n",
      "       [ 6.41945642e-02, -1.02899686e+00],\n",
      "       [ 1.22047356e+00,  1.32473570e-03],\n",
      "       [-1.03159094e+00, -1.73703569e-01],\n",
      "       [ 7.47375707e-01, -1.49411160e-02],\n",
      "       [-8.15835345e-01, -8.37794745e-02],\n",
      "       [ 4.55595300e-02, -8.57050199e-01],\n",
      "       [-1.16918119e+00, -2.32892880e-02],\n",
      "       [ 1.77061203e-01, -1.14223569e+00],\n",
      "       [ 1.10704349e-01, -7.71736745e-01],\n",
      "       [ 9.73928879e-01,  1.92548590e-01],\n",
      "       [ 7.70901868e-01,  8.97635841e-02],\n",
      "       [ 9.94285330e-02,  9.53973047e-01],\n",
      "       [-7.64550990e-01,  1.54682233e-01],\n",
      "       [ 2.67576018e-01, -1.21797492e+00],\n",
      "       [ 9.38039598e-01, -1.13600642e-01],\n",
      "       [-1.41835200e-01,  1.11143691e+00],\n",
      "       [-1.81750815e-01, -1.11419812e+00],\n",
      "       [-9.75050682e-03, -1.08585800e+00],\n",
      "       [ 9.78850514e-01,  3.04338868e-02],\n",
      "       [ 1.27472209e+00,  8.09189177e-03],\n",
      "       [-9.47731899e-01, -6.77713493e-02],\n",
      "       [ 1.00713464e+00,  4.03022017e-02],\n",
      "       [ 4.21293690e-04,  9.62134947e-01],\n",
      "       [-3.67644933e-02, -1.10374190e+00],\n",
      "       [ 8.82677434e-01, -3.17293668e-01]])>]\n"
     ]
    },
    {
     "name": "stdout",
     "output_type": "stream",
     "text": [
      "ipdb> pp a\n",
      "*** NameError: name 'a' is not defined\n",
      "ipdb> pp _a\n",
      "[<tf.Tensor: id=457719, shape=(200, 2), dtype=float64, numpy=\n",
      "array([[-1.18493387e+00, -5.12083440e-02],\n",
      "       [-5.07364717e-02,  9.94068867e-01],\n",
      "       [-1.25786833e-01,  8.10973510e-01],\n",
      "       [ 1.33987689e+00,  3.73350215e-02],\n",
      "       [-2.77535839e-01, -7.18694900e-01],\n",
      "       [-5.71033619e-02,  1.02224159e+00],\n",
      "       [ 7.53654219e-01,  1.60942892e-02],\n",
      "       [ 6.99635462e-01, -9.31503644e-02],\n",
      "       [ 1.56398174e-01, -1.02645151e+00],\n",
      "       [-5.78893863e-02, -7.55472792e-01],\n",
      "       [ 6.20771547e-02, -8.91120846e-01],\n",
      "       [ 1.05817367e+00,  3.34769684e-02],\n",
      "       [-9.39682147e-01, -6.25299362e-03],\n",
      "       [ 1.26956924e-02,  1.14243685e+00],\n",
      "       [ 9.55679973e-01, -7.95782812e-02],\n",
      "       [-2.93435906e-01,  9.65287675e-01],\n",
      "       [ 9.13075338e-01,  3.59116436e-02],\n",
      "       [ 7.80289232e-02,  9.93157338e-01],\n",
      "       [-7.41820904e-02,  1.20525869e+00],\n",
      "       [ 6.10620798e-02, -1.16368112e+00],\n",
      "       [-4.33124872e-02,  7.94081515e-01],\n",
      "       [-1.05147366e+00,  1.50688753e-02],\n",
      "       [ 1.30792817e+00, -3.21740701e-02],\n",
      "       [-8.13743680e-01, -4.70708053e-02],\n",
      "       [ 1.15989199e+00, -1.31408366e-01],\n",
      "       [ 8.71425725e-02,  8.55217524e-01],\n",
      "       [-1.08302596e+00,  1.03182779e-01],\n",
      "       [ 1.30024137e-01,  1.00717490e+00],\n",
      "       [ 1.09285521e+00,  2.11158905e-01],\n",
      "       [ 1.05435188e-01, -9.33062481e-01],\n",
      "       [ 5.21174550e-03,  8.27071460e-01],\n",
      "       [-2.11033459e-01,  1.14787456e+00],\n",
      "       [ 9.55521090e-02,  9.19721787e-01],\n",
      "       [-8.19093089e-01,  1.52342198e-01],\n",
      "       [-9.89941440e-01, -9.84329058e-03],\n",
      "       [-1.10900644e+00,  4.48012887e-03],\n",
      "       [-5.12053435e-02,  1.00186316e+00],\n",
      "       [ 9.00186874e-01, -3.06064859e-02],\n",
      "       [-1.16726646e+00, -2.34190027e-01],\n",
      "       [-9.08319393e-01, -1.98094646e-01],\n",
      "       [-1.63949033e-01, -9.16038210e-01],\n",
      "       [ 2.91539010e-01, -1.03046462e+00],\n",
      "       [ 3.03314377e-02, -7.48981987e-01],\n",
      "       [ 1.09174766e+00, -1.71680471e-01],\n",
      "       [-1.14935717e+00,  3.17907870e-02],\n",
      "       [-1.10130899e+00, -4.69943346e-02],\n",
      "       [-7.08751599e-01, -1.54434030e-01],\n",
      "       [ 2.01332286e-01,  7.36672222e-01],\n",
      "       [ 7.54486075e-01, -1.59521963e-01],\n",
      "       [ 9.86804667e-01,  1.46591145e-01],\n",
      "       [-7.53668711e-01, -7.08820543e-03],\n",
      "       [-4.33676618e-02,  9.74534786e-01],\n",
      "       [ 7.31085123e-01,  1.42254448e-01],\n",
      "       [ 1.57544165e-01, -1.08769832e+00],\n",
      "       [ 1.21033101e+00,  2.19160392e-03],\n",
      "       [-1.02460990e+00,  1.69008795e-01],\n",
      "       [ 9.31778090e-01,  1.20173155e-01],\n",
      "       [ 1.89828425e-01, -9.32910986e-01],\n",
      "       [ 1.15630990e+00,  9.65774445e-02],\n",
      "       [ 4.34968285e-02, -1.12674420e+00],\n",
      "       [ 2.33682927e-01, -7.77544806e-01],\n",
      "       [ 1.76168088e-01, -9.83025249e-01],\n",
      "       [ 7.51020979e-02, -9.66635603e-01],\n",
      "       [-2.26982092e-02, -9.15558500e-01],\n",
      "       [-1.05387073e+00, -5.71811324e-02],\n",
      "       [ 4.62623503e-02,  1.05941462e+00],\n",
      "       [ 9.87670506e-01,  4.10878082e-02],\n",
      "       [ 1.07256016e-03,  8.62400995e-01],\n",
      "       [-2.09496754e-02,  1.01967543e+00],\n",
      "       [ 2.28186263e-01, -1.10505748e+00],\n",
      "       [-9.42420521e-01, -1.54077046e-01],\n",
      "       [-1.05055078e+00,  1.06532291e-01],\n",
      "       [ 1.01180839e+00,  1.75518760e-01],\n",
      "       [-1.92405331e-01,  1.02735658e+00],\n",
      "       [-1.49499278e-01,  1.07667262e+00],\n",
      "       [ 8.49268953e-01,  2.63303358e-02],\n",
      "       [-9.04739970e-02,  1.09299533e+00],\n",
      "       [ 8.15985463e-02,  9.43634972e-01],\n",
      "       [ 6.97190824e-01,  1.84571303e-01],\n",
      "       [-1.53833415e-01,  1.01317345e+00],\n",
      "       [ 1.77899729e-01,  1.08886210e+00],\n",
      "       [-1.10630668e+00,  3.11032954e-01],\n",
      "       [-2.55467667e-01, -8.10485431e-01],\n",
      "       [ 1.67892104e-01, -9.76901720e-01],\n",
      "       [ 1.15661278e+00,  2.38738828e-02],\n",
      "       [-8.24209564e-02, -8.90975095e-01],\n",
      "       [-7.96036490e-01,  1.22633914e-01],\n",
      "       [-1.07956598e-01, -1.00897352e+00],\n",
      "       [-1.90616672e-01, -9.51186743e-01],\n",
      "       [ 1.45666862e-02, -8.19945646e-01],\n",
      "       [-3.18648376e-02, -7.67680775e-01],\n",
      "       [-1.01964285e+00, -1.77054030e-01],\n",
      "       [ 1.01238202e+00,  1.41321673e-01],\n",
      "       [-1.04221159e-01,  9.73383930e-01],\n",
      "       [ 1.25883663e+00,  1.27185352e-02],\n",
      "       [-1.83976666e-02, -1.05985862e+00],\n",
      "       [-9.27761407e-01, -1.29079482e-01],\n",
      "       [-1.39314379e-01,  1.15815978e+00],\n",
      "       [-9.54690308e-01, -1.74826936e-01],\n",
      "       [ 4.79326686e-02,  8.43838085e-01],\n",
      "       [-3.13881033e-02, -1.01607631e+00],\n",
      "       [-3.93299977e-02,  1.04495034e+00],\n",
      "       [ 8.69460506e-02, -1.04008489e+00],\n",
      "       [-4.97438725e-02, -1.23430943e+00],\n",
      "       [-2.68130812e-01,  8.77837598e-01],\n",
      "       [ 9.87077051e-01,  1.97849889e-01],\n",
      "       [-1.34787653e+00,  2.12124108e-01],\n",
      "       [-1.34753346e+00, -7.42635427e-02],\n",
      "       [ 7.89490486e-03, -1.10806609e+00],\n",
      "       [ 8.49802009e-01, -1.02265603e-01],\n",
      "       [ 1.07731327e+00, -7.14863825e-02],\n",
      "       [-1.76132042e-01, -1.04178565e+00],\n",
      "       [-9.19572001e-01, -5.36006967e-02],\n",
      "       [ 1.69897022e-01,  9.87835142e-01],\n",
      "       [-9.90578028e-02, -9.86849708e-01],\n",
      "       [ 1.12927393e+00,  2.23488810e-01],\n",
      "       [-8.52879128e-01, -1.09057413e-01],\n",
      "       [-1.67114812e-01, -1.18345382e+00],\n",
      "       [ 8.78385632e-01,  1.26712820e-01],\n",
      "       [-8.51937258e-01,  1.15559549e-01],\n",
      "       [-1.74880132e-02,  1.04222543e+00],\n",
      "       [ 1.07055528e+00,  1.21597906e-01],\n",
      "       [-1.17958721e-01, -1.02437369e+00],\n",
      "       [-1.34335460e-01, -8.05909059e-01],\n",
      "       [-3.07416197e-01,  9.28460023e-01],\n",
      "       [-1.24452911e+00,  4.44222926e-02],\n",
      "       [ 8.74585055e-01,  1.23309409e-01],\n",
      "       [-1.34204724e-01, -1.01251840e+00],\n",
      "       [ 7.62247958e-01,  5.73694551e-02],\n",
      "       [ 1.11486609e+00,  2.46285677e-01],\n",
      "       [ 7.29636625e-01,  1.65905412e-01],\n",
      "       [ 1.11667614e+00, -8.17308191e-02],\n",
      "       [ 1.10244430e+00, -4.32311760e-02],\n",
      "       [-2.69111919e-01,  1.32953185e+00],\n",
      "       [-8.94865266e-01, -2.68680629e-01],\n",
      "       [ 9.76389628e-01,  3.18748307e-01],\n",
      "       [ 8.66396902e-01,  1.52479289e-01],\n",
      "       [-4.90207789e-02,  7.08833607e-01],\n",
      "       [-3.63100039e-02,  1.05566086e+00],\n",
      "       [-9.43629229e-01, -1.92128638e-01],\n",
      "       [-1.71653370e-01,  1.07137538e+00],\n",
      "       [ 2.48391519e-01,  8.93851414e-01],\n",
      "       [-9.75369344e-01, -2.41545438e-01],\n",
      "       [-1.05656956e+00, -1.46017612e-02],\n",
      "       [-7.96009217e-02,  1.01565018e+00],\n",
      "       [ 1.05851949e+00,  1.37773900e-01],\n",
      "       [-1.74161664e-01,  1.03222392e+00],\n",
      "       [ 1.02718596e+00, -9.95495696e-02],\n",
      "       [-8.92534173e-01,  5.49420297e-02],\n",
      "       [ 9.90071750e-01, -8.36873546e-02],\n",
      "       [ 1.15716488e+00, -5.27644309e-02],\n",
      "       [ 2.78684769e-01, -8.20512050e-01],\n",
      "       [-1.23857825e+00, -4.09137999e-01],\n",
      "       [-1.22665035e+00,  4.32010022e-02],\n",
      "       [-1.44179168e-01,  1.02975187e+00],\n",
      "       [-1.21037443e-01, -1.10655486e+00],\n",
      "       [-1.02276512e+00, -5.89162591e-02],\n",
      "       [ 8.73630359e-01,  4.78411645e-02],\n",
      "       [-1.11609040e+00,  3.42790065e-02],\n",
      "       [-6.00885469e-02,  9.29210187e-01],\n",
      "       [ 1.50910661e-01,  1.15272497e+00],\n",
      "       [ 1.04892114e+00,  3.46332664e-02],\n",
      "       [ 7.95697598e-01, -7.57894564e-03],\n",
      "       [-9.05354677e-01, -2.02082017e-02],\n",
      "       [ 1.17443810e+00, -6.34868022e-03],\n",
      "       [-7.72667645e-02, -1.07956378e+00],\n",
      "       [-9.28018072e-01,  1.65213184e-02],\n",
      "       [ 1.11245179e+00,  2.08149652e-02],\n",
      "       [-2.55939789e-01,  8.61171084e-01],\n",
      "       [ 9.99215675e-01,  1.47922043e-01],\n",
      "       [ 5.29366869e-02,  7.38433967e-01],\n",
      "       [ 2.48903205e-02,  1.01798437e+00],\n",
      "       [ 9.83896674e-02,  1.23552765e+00],\n",
      "       [ 8.86401494e-02, -9.86694254e-01],\n",
      "       [-9.05127122e-02,  9.68770503e-01],\n",
      "       [ 6.41945642e-02, -1.02899686e+00],\n",
      "       [ 1.22047356e+00,  1.32473570e-03],\n",
      "       [-1.03159094e+00, -1.73703569e-01],\n",
      "       [ 7.47375707e-01, -1.49411160e-02],\n",
      "       [-8.15835345e-01, -8.37794745e-02],\n",
      "       [ 4.55595300e-02, -8.57050199e-01],\n",
      "       [-1.16918119e+00, -2.32892880e-02],\n",
      "       [ 1.77061203e-01, -1.14223569e+00],\n",
      "       [ 1.10704349e-01, -7.71736745e-01],\n",
      "       [ 9.73928879e-01,  1.92548590e-01],\n",
      "       [ 7.70901868e-01,  8.97635841e-02],\n",
      "       [ 9.94285330e-02,  9.53973047e-01],\n",
      "       [-7.64550990e-01,  1.54682233e-01],\n",
      "       [ 2.67576018e-01, -1.21797492e+00],\n",
      "       [ 9.38039598e-01, -1.13600642e-01],\n",
      "       [-1.41835200e-01,  1.11143691e+00],\n",
      "       [-1.81750815e-01, -1.11419812e+00],\n",
      "       [-9.75050682e-03, -1.08585800e+00],\n",
      "       [ 9.78850514e-01,  3.04338868e-02],\n",
      "       [ 1.27472209e+00,  8.09189177e-03],\n",
      "       [-9.47731899e-01, -6.77713493e-02],\n",
      "       [ 1.00713464e+00,  4.03022017e-02],\n",
      "       [ 4.21293690e-04,  9.62134947e-01],\n",
      "       [-3.67644933e-02, -1.10374190e+00],\n",
      "       [ 8.82677434e-01, -3.17293668e-01]])>]\n"
     ]
    },
    {
     "name": "stdout",
     "output_type": "stream",
     "text": [
      "ipdb> _a.shape\n",
      "*** AttributeError: 'list' object has no attribute 'shape'\n",
      "ipdb> _a[0].shape\n",
      "TensorShape([Dimension(200), Dimension(2)])\n",
      "ipdb> _a\n",
      "[<tf.Tensor: id=457719, shape=(200, 2), dtype=float64, numpy=\n",
      "array([[-1.18493387e+00, -5.12083440e-02],\n",
      "       [-5.07364717e-02,  9.94068867e-01],\n",
      "       [-1.25786833e-01,  8.10973510e-01],\n",
      "       [ 1.33987689e+00,  3.73350215e-02],\n",
      "       [-2.77535839e-01, -7.18694900e-01],\n",
      "       [-5.71033619e-02,  1.02224159e+00],\n",
      "       [ 7.53654219e-01,  1.60942892e-02],\n",
      "       [ 6.99635462e-01, -9.31503644e-02],\n",
      "       [ 1.56398174e-01, -1.02645151e+00],\n",
      "       [-5.78893863e-02, -7.55472792e-01],\n",
      "       [ 6.20771547e-02, -8.91120846e-01],\n",
      "       [ 1.05817367e+00,  3.34769684e-02],\n",
      "       [-9.39682147e-01, -6.25299362e-03],\n",
      "       [ 1.26956924e-02,  1.14243685e+00],\n",
      "       [ 9.55679973e-01, -7.95782812e-02],\n",
      "       [-2.93435906e-01,  9.65287675e-01],\n",
      "       [ 9.13075338e-01,  3.59116436e-02],\n",
      "       [ 7.80289232e-02,  9.93157338e-01],\n",
      "       [-7.41820904e-02,  1.20525869e+00],\n",
      "       [ 6.10620798e-02, -1.16368112e+00],\n",
      "       [-4.33124872e-02,  7.94081515e-01],\n",
      "       [-1.05147366e+00,  1.50688753e-02],\n",
      "       [ 1.30792817e+00, -3.21740701e-02],\n",
      "       [-8.13743680e-01, -4.70708053e-02],\n",
      "       [ 1.15989199e+00, -1.31408366e-01],\n",
      "       [ 8.71425725e-02,  8.55217524e-01],\n",
      "       [-1.08302596e+00,  1.03182779e-01],\n",
      "       [ 1.30024137e-01,  1.00717490e+00],\n",
      "       [ 1.09285521e+00,  2.11158905e-01],\n",
      "       [ 1.05435188e-01, -9.33062481e-01],\n",
      "       [ 5.21174550e-03,  8.27071460e-01],\n",
      "       [-2.11033459e-01,  1.14787456e+00],\n",
      "       [ 9.55521090e-02,  9.19721787e-01],\n",
      "       [-8.19093089e-01,  1.52342198e-01],\n",
      "       [-9.89941440e-01, -9.84329058e-03],\n",
      "       [-1.10900644e+00,  4.48012887e-03],\n",
      "       [-5.12053435e-02,  1.00186316e+00],\n",
      "       [ 9.00186874e-01, -3.06064859e-02],\n",
      "       [-1.16726646e+00, -2.34190027e-01],\n",
      "       [-9.08319393e-01, -1.98094646e-01],\n",
      "       [-1.63949033e-01, -9.16038210e-01],\n",
      "       [ 2.91539010e-01, -1.03046462e+00],\n",
      "       [ 3.03314377e-02, -7.48981987e-01],\n",
      "       [ 1.09174766e+00, -1.71680471e-01],\n",
      "       [-1.14935717e+00,  3.17907870e-02],\n",
      "       [-1.10130899e+00, -4.69943346e-02],\n",
      "       [-7.08751599e-01, -1.54434030e-01],\n",
      "       [ 2.01332286e-01,  7.36672222e-01],\n",
      "       [ 7.54486075e-01, -1.59521963e-01],\n",
      "       [ 9.86804667e-01,  1.46591145e-01],\n",
      "       [-7.53668711e-01, -7.08820543e-03],\n",
      "       [-4.33676618e-02,  9.74534786e-01],\n",
      "       [ 7.31085123e-01,  1.42254448e-01],\n",
      "       [ 1.57544165e-01, -1.08769832e+00],\n",
      "       [ 1.21033101e+00,  2.19160392e-03],\n",
      "       [-1.02460990e+00,  1.69008795e-01],\n",
      "       [ 9.31778090e-01,  1.20173155e-01],\n",
      "       [ 1.89828425e-01, -9.32910986e-01],\n",
      "       [ 1.15630990e+00,  9.65774445e-02],\n",
      "       [ 4.34968285e-02, -1.12674420e+00],\n",
      "       [ 2.33682927e-01, -7.77544806e-01],\n",
      "       [ 1.76168088e-01, -9.83025249e-01],\n",
      "       [ 7.51020979e-02, -9.66635603e-01],\n",
      "       [-2.26982092e-02, -9.15558500e-01],\n",
      "       [-1.05387073e+00, -5.71811324e-02],\n",
      "       [ 4.62623503e-02,  1.05941462e+00],\n",
      "       [ 9.87670506e-01,  4.10878082e-02],\n",
      "       [ 1.07256016e-03,  8.62400995e-01],\n",
      "       [-2.09496754e-02,  1.01967543e+00],\n",
      "       [ 2.28186263e-01, -1.10505748e+00],\n",
      "       [-9.42420521e-01, -1.54077046e-01],\n",
      "       [-1.05055078e+00,  1.06532291e-01],\n",
      "       [ 1.01180839e+00,  1.75518760e-01],\n",
      "       [-1.92405331e-01,  1.02735658e+00],\n",
      "       [-1.49499278e-01,  1.07667262e+00],\n",
      "       [ 8.49268953e-01,  2.63303358e-02],\n",
      "       [-9.04739970e-02,  1.09299533e+00],\n",
      "       [ 8.15985463e-02,  9.43634972e-01],\n",
      "       [ 6.97190824e-01,  1.84571303e-01],\n",
      "       [-1.53833415e-01,  1.01317345e+00],\n",
      "       [ 1.77899729e-01,  1.08886210e+00],\n",
      "       [-1.10630668e+00,  3.11032954e-01],\n",
      "       [-2.55467667e-01, -8.10485431e-01],\n",
      "       [ 1.67892104e-01, -9.76901720e-01],\n",
      "       [ 1.15661278e+00,  2.38738828e-02],\n",
      "       [-8.24209564e-02, -8.90975095e-01],\n",
      "       [-7.96036490e-01,  1.22633914e-01],\n",
      "       [-1.07956598e-01, -1.00897352e+00],\n",
      "       [-1.90616672e-01, -9.51186743e-01],\n",
      "       [ 1.45666862e-02, -8.19945646e-01],\n",
      "       [-3.18648376e-02, -7.67680775e-01],\n",
      "       [-1.01964285e+00, -1.77054030e-01],\n",
      "       [ 1.01238202e+00,  1.41321673e-01],\n",
      "       [-1.04221159e-01,  9.73383930e-01],\n",
      "       [ 1.25883663e+00,  1.27185352e-02],\n",
      "       [-1.83976666e-02, -1.05985862e+00],\n",
      "       [-9.27761407e-01, -1.29079482e-01],\n",
      "       [-1.39314379e-01,  1.15815978e+00],\n",
      "       [-9.54690308e-01, -1.74826936e-01],\n",
      "       [ 4.79326686e-02,  8.43838085e-01],\n",
      "       [-3.13881033e-02, -1.01607631e+00],\n",
      "       [-3.93299977e-02,  1.04495034e+00],\n",
      "       [ 8.69460506e-02, -1.04008489e+00],\n",
      "       [-4.97438725e-02, -1.23430943e+00],\n",
      "       [-2.68130812e-01,  8.77837598e-01],\n",
      "       [ 9.87077051e-01,  1.97849889e-01],\n",
      "       [-1.34787653e+00,  2.12124108e-01],\n",
      "       [-1.34753346e+00, -7.42635427e-02],\n",
      "       [ 7.89490486e-03, -1.10806609e+00],\n",
      "       [ 8.49802009e-01, -1.02265603e-01],\n",
      "       [ 1.07731327e+00, -7.14863825e-02],\n",
      "       [-1.76132042e-01, -1.04178565e+00],\n",
      "       [-9.19572001e-01, -5.36006967e-02],\n",
      "       [ 1.69897022e-01,  9.87835142e-01],\n",
      "       [-9.90578028e-02, -9.86849708e-01],\n",
      "       [ 1.12927393e+00,  2.23488810e-01],\n",
      "       [-8.52879128e-01, -1.09057413e-01],\n",
      "       [-1.67114812e-01, -1.18345382e+00],\n",
      "       [ 8.78385632e-01,  1.26712820e-01],\n",
      "       [-8.51937258e-01,  1.15559549e-01],\n",
      "       [-1.74880132e-02,  1.04222543e+00],\n",
      "       [ 1.07055528e+00,  1.21597906e-01],\n",
      "       [-1.17958721e-01, -1.02437369e+00],\n",
      "       [-1.34335460e-01, -8.05909059e-01],\n",
      "       [-3.07416197e-01,  9.28460023e-01],\n",
      "       [-1.24452911e+00,  4.44222926e-02],\n",
      "       [ 8.74585055e-01,  1.23309409e-01],\n",
      "       [-1.34204724e-01, -1.01251840e+00],\n",
      "       [ 7.62247958e-01,  5.73694551e-02],\n",
      "       [ 1.11486609e+00,  2.46285677e-01],\n",
      "       [ 7.29636625e-01,  1.65905412e-01],\n",
      "       [ 1.11667614e+00, -8.17308191e-02],\n",
      "       [ 1.10244430e+00, -4.32311760e-02],\n",
      "       [-2.69111919e-01,  1.32953185e+00],\n",
      "       [-8.94865266e-01, -2.68680629e-01],\n",
      "       [ 9.76389628e-01,  3.18748307e-01],\n",
      "       [ 8.66396902e-01,  1.52479289e-01],\n",
      "       [-4.90207789e-02,  7.08833607e-01],\n",
      "       [-3.63100039e-02,  1.05566086e+00],\n",
      "       [-9.43629229e-01, -1.92128638e-01],\n",
      "       [-1.71653370e-01,  1.07137538e+00],\n",
      "       [ 2.48391519e-01,  8.93851414e-01],\n",
      "       [-9.75369344e-01, -2.41545438e-01],\n",
      "       [-1.05656956e+00, -1.46017612e-02],\n",
      "       [-7.96009217e-02,  1.01565018e+00],\n",
      "       [ 1.05851949e+00,  1.37773900e-01],\n",
      "       [-1.74161664e-01,  1.03222392e+00],\n",
      "       [ 1.02718596e+00, -9.95495696e-02],\n",
      "       [-8.92534173e-01,  5.49420297e-02],\n",
      "       [ 9.90071750e-01, -8.36873546e-02],\n",
      "       [ 1.15716488e+00, -5.27644309e-02],\n",
      "       [ 2.78684769e-01, -8.20512050e-01],\n",
      "       [-1.23857825e+00, -4.09137999e-01],\n",
      "       [-1.22665035e+00,  4.32010022e-02],\n",
      "       [-1.44179168e-01,  1.02975187e+00],\n",
      "       [-1.21037443e-01, -1.10655486e+00],\n",
      "       [-1.02276512e+00, -5.89162591e-02],\n",
      "       [ 8.73630359e-01,  4.78411645e-02],\n",
      "       [-1.11609040e+00,  3.42790065e-02],\n",
      "       [-6.00885469e-02,  9.29210187e-01],\n",
      "       [ 1.50910661e-01,  1.15272497e+00],\n",
      "       [ 1.04892114e+00,  3.46332664e-02],\n",
      "       [ 7.95697598e-01, -7.57894564e-03],\n",
      "       [-9.05354677e-01, -2.02082017e-02],\n",
      "       [ 1.17443810e+00, -6.34868022e-03],\n",
      "       [-7.72667645e-02, -1.07956378e+00],\n",
      "       [-9.28018072e-01,  1.65213184e-02],\n",
      "       [ 1.11245179e+00,  2.08149652e-02],\n",
      "       [-2.55939789e-01,  8.61171084e-01],\n",
      "       [ 9.99215675e-01,  1.47922043e-01],\n",
      "       [ 5.29366869e-02,  7.38433967e-01],\n",
      "       [ 2.48903205e-02,  1.01798437e+00],\n",
      "       [ 9.83896674e-02,  1.23552765e+00],\n",
      "       [ 8.86401494e-02, -9.86694254e-01],\n",
      "       [-9.05127122e-02,  9.68770503e-01],\n",
      "       [ 6.41945642e-02, -1.02899686e+00],\n",
      "       [ 1.22047356e+00,  1.32473570e-03],\n",
      "       [-1.03159094e+00, -1.73703569e-01],\n",
      "       [ 7.47375707e-01, -1.49411160e-02],\n",
      "       [-8.15835345e-01, -8.37794745e-02],\n",
      "       [ 4.55595300e-02, -8.57050199e-01],\n",
      "       [-1.16918119e+00, -2.32892880e-02],\n",
      "       [ 1.77061203e-01, -1.14223569e+00],\n",
      "       [ 1.10704349e-01, -7.71736745e-01],\n",
      "       [ 9.73928879e-01,  1.92548590e-01],\n",
      "       [ 7.70901868e-01,  8.97635841e-02],\n",
      "       [ 9.94285330e-02,  9.53973047e-01],\n",
      "       [-7.64550990e-01,  1.54682233e-01],\n",
      "       [ 2.67576018e-01, -1.21797492e+00],\n",
      "       [ 9.38039598e-01, -1.13600642e-01],\n",
      "       [-1.41835200e-01,  1.11143691e+00],\n",
      "       [-1.81750815e-01, -1.11419812e+00],\n",
      "       [-9.75050682e-03, -1.08585800e+00],\n",
      "       [ 9.78850514e-01,  3.04338868e-02],\n",
      "       [ 1.27472209e+00,  8.09189177e-03],\n",
      "       [-9.47731899e-01, -6.77713493e-02],\n",
      "       [ 1.00713464e+00,  4.03022017e-02],\n",
      "       [ 4.21293690e-04,  9.62134947e-01],\n",
      "       [-3.67644933e-02, -1.10374190e+00],\n",
      "       [ 8.82677434e-01, -3.17293668e-01]])>]\n"
     ]
    },
    {
     "name": "stdout",
     "output_type": "stream",
     "text": [
      "ipdb> _a[0].shape\n",
      "TensorShape([Dimension(200), Dimension(2)])\n",
      "ipdb> q\n"
     ]
    }
   ],
   "source": [
    "%debug"
   ]
  },
  {
   "cell_type": "code",
   "execution_count": 12,
   "metadata": {
    "ExecuteTime": {
     "end_time": "2018-09-26T05:56:58.246252Z",
     "start_time": "2018-09-26T05:56:58.161898Z"
    },
    "hidden": true
   },
   "outputs": [
    {
     "data": {
      "text/plain": [
       "[8, 40, -48, -40, 8, -32, 32, 16, -16, -8]"
      ]
     },
     "execution_count": 12,
     "metadata": {},
     "output_type": "execute_result"
    }
   ],
   "source": [
    "lattice.calc_energy(_position, batch_size)"
   ]
  },
  {
   "cell_type": "code",
   "execution_count": 13,
   "metadata": {
    "ExecuteTime": {
     "end_time": "2018-09-26T05:57:00.976505Z",
     "start_time": "2018-09-26T05:57:00.753293Z"
    },
    "hidden": true
   },
   "outputs": [
    {
     "ename": "InvalidArgumentError",
     "evalue": "Index out of range using input dim 1; input has only 1 dims [Op:StridedSlice] name: strided_slice/",
     "output_type": "error",
     "traceback": [
      "\u001b[0;31m---------------------------------------------------------------------------\u001b[0m",
      "\u001b[0;31mInvalidArgumentError\u001b[0m                      Traceback (most recent call last)",
      "\u001b[0;32m<ipython-input-13-f9d3937e6507>\u001b[0m in \u001b[0;36m<module>\u001b[0;34m()\u001b[0m\n\u001b[1;32m      2\u001b[0m \u001b[0;31m#dynamics._forward_lf(latt.sites.flatten()[:], momentum, 0)\u001b[0m\u001b[0;34m\u001b[0m\u001b[0;34m\u001b[0m\u001b[0m\n\u001b[1;32m      3\u001b[0m dynamics._forward_lf(np.array(_position).reshape(-1, lattice.num_sites),\n\u001b[0;32m----> 4\u001b[0;31m                      np.array(_momentum).reshape(-1, lattice.num_sites), 1)\n\u001b[0m",
      "\u001b[0;32m~/ANL/l2hmc/l2hmc/eager/lattice_dynamics_eager.py\u001b[0m in \u001b[0;36m_forward_lf\u001b[0;34m(self, position, momentum, i)\u001b[0m\n\u001b[1;32m    139\u001b[0m         \u001b[0msumlogdet\u001b[0m \u001b[0;34m=\u001b[0m \u001b[0;36m0.\u001b[0m\u001b[0;34m\u001b[0m\u001b[0m\n\u001b[1;32m    140\u001b[0m \u001b[0;34m\u001b[0m\u001b[0m\n\u001b[0;32m--> 141\u001b[0;31m         \u001b[0mmomentum\u001b[0m\u001b[0;34m,\u001b[0m \u001b[0mlogdet\u001b[0m \u001b[0;34m=\u001b[0m \u001b[0mself\u001b[0m\u001b[0;34m.\u001b[0m\u001b[0m_update_momentum_forward\u001b[0m\u001b[0;34m(\u001b[0m\u001b[0mposition\u001b[0m\u001b[0;34m,\u001b[0m \u001b[0mmomentum\u001b[0m\u001b[0;34m,\u001b[0m \u001b[0mt\u001b[0m\u001b[0;34m)\u001b[0m\u001b[0;34m\u001b[0m\u001b[0m\n\u001b[0m\u001b[1;32m    142\u001b[0m         \u001b[0msumlogdet\u001b[0m \u001b[0;34m+=\u001b[0m \u001b[0mlogdet\u001b[0m\u001b[0;34m\u001b[0m\u001b[0m\n\u001b[1;32m    143\u001b[0m \u001b[0;34m\u001b[0m\u001b[0m\n",
      "\u001b[0;32m~/ANL/l2hmc/l2hmc/eager/lattice_dynamics_eager.py\u001b[0m in \u001b[0;36m_update_momentum_forward\u001b[0;34m(self, position, momentum, t)\u001b[0m\n\u001b[1;32m    186\u001b[0m         \u001b[0;34m\"\"\"Update v in the forward leapfrog step.\"\"\"\u001b[0m\u001b[0;34m\u001b[0m\u001b[0m\n\u001b[1;32m    187\u001b[0m \u001b[0;34m\u001b[0m\u001b[0m\n\u001b[0;32m--> 188\u001b[0;31m         \u001b[0mgrad\u001b[0m \u001b[0;34m=\u001b[0m \u001b[0mself\u001b[0m\u001b[0;34m.\u001b[0m\u001b[0mgrad_potential\u001b[0m\u001b[0;34m(\u001b[0m\u001b[0mposition\u001b[0m\u001b[0;34m)\u001b[0m\u001b[0;34m\u001b[0m\u001b[0m\n\u001b[0m\u001b[1;32m    189\u001b[0m         \u001b[0mscale\u001b[0m\u001b[0;34m,\u001b[0m \u001b[0mtransition\u001b[0m\u001b[0;34m,\u001b[0m \u001b[0mtransformed\u001b[0m \u001b[0;34m=\u001b[0m \u001b[0mself\u001b[0m\u001b[0;34m.\u001b[0m\u001b[0mmomentum_fn\u001b[0m\u001b[0;34m(\u001b[0m\u001b[0;34m[\u001b[0m\u001b[0mposition\u001b[0m\u001b[0;34m,\u001b[0m \u001b[0mgrad\u001b[0m\u001b[0;34m,\u001b[0m \u001b[0mt\u001b[0m\u001b[0;34m]\u001b[0m\u001b[0;34m)\u001b[0m\u001b[0;34m\u001b[0m\u001b[0m\n\u001b[1;32m    190\u001b[0m         \u001b[0mscale\u001b[0m \u001b[0;34m*=\u001b[0m \u001b[0;36m0.5\u001b[0m \u001b[0;34m*\u001b[0m \u001b[0mself\u001b[0m\u001b[0;34m.\u001b[0m\u001b[0meps\u001b[0m\u001b[0;34m\u001b[0m\u001b[0m\n",
      "\u001b[0;32m~/ANL/l2hmc/l2hmc/eager/lattice_dynamics_eager.py\u001b[0m in \u001b[0;36mgrad_potential\u001b[0;34m(self, position, check_numerics)\u001b[0m\n\u001b[1;32m    322\u001b[0m         \u001b[0;32mif\u001b[0m \u001b[0mtf\u001b[0m\u001b[0;34m.\u001b[0m\u001b[0mexecuting_eagerly\u001b[0m\u001b[0;34m(\u001b[0m\u001b[0;34m)\u001b[0m\u001b[0;34m:\u001b[0m\u001b[0;34m\u001b[0m\u001b[0m\n\u001b[1;32m    323\u001b[0m             \u001b[0mgrad_fn\u001b[0m \u001b[0;34m=\u001b[0m \u001b[0mtfe\u001b[0m\u001b[0;34m.\u001b[0m\u001b[0mgradients_function\u001b[0m\u001b[0;34m(\u001b[0m\u001b[0mself\u001b[0m\u001b[0;34m.\u001b[0m\u001b[0mpotential\u001b[0m\u001b[0;34m)\u001b[0m\u001b[0;34m\u001b[0m\u001b[0m\n\u001b[0;32m--> 324\u001b[0;31m             \u001b[0mgrad\u001b[0m \u001b[0;34m=\u001b[0m \u001b[0mgrad_fn\u001b[0m\u001b[0;34m(\u001b[0m\u001b[0mposition\u001b[0m\u001b[0;34m,\u001b[0m \u001b[0mself\u001b[0m\u001b[0;34m.\u001b[0m\u001b[0mbatch_size\u001b[0m\u001b[0;34m)\u001b[0m\u001b[0;34m[\u001b[0m\u001b[0;36m0\u001b[0m\u001b[0;34m]\u001b[0m\u001b[0;34m\u001b[0m\u001b[0m\n\u001b[0m\u001b[1;32m    325\u001b[0m             \u001b[0;31m#  grad = (\u001b[0m\u001b[0;34m\u001b[0m\u001b[0;34m\u001b[0m\u001b[0m\n\u001b[1;32m    326\u001b[0m             \u001b[0;31m#      tfe.gradients_function(self.potential,\u001b[0m\u001b[0;34m\u001b[0m\u001b[0;34m\u001b[0m\u001b[0m\n",
      "\u001b[0;32m~/miniconda3/envs/tensorflow_cpu/lib/python3.6/site-packages/tensorflow/python/eager/backprop.py\u001b[0m in \u001b[0;36mdecorated\u001b[0;34m(*args, **kwds)\u001b[0m\n\u001b[1;32m    367\u001b[0m     \u001b[0;34m\"\"\"Computes the gradient of the decorated function.\"\"\"\u001b[0m\u001b[0;34m\u001b[0m\u001b[0m\n\u001b[1;32m    368\u001b[0m \u001b[0;34m\u001b[0m\u001b[0m\n\u001b[0;32m--> 369\u001b[0;31m     \u001b[0m_\u001b[0m\u001b[0;34m,\u001b[0m \u001b[0mgrad\u001b[0m \u001b[0;34m=\u001b[0m \u001b[0mval_and_grad_function\u001b[0m\u001b[0;34m(\u001b[0m\u001b[0mf\u001b[0m\u001b[0;34m,\u001b[0m \u001b[0mparams\u001b[0m\u001b[0;34m=\u001b[0m\u001b[0mparams\u001b[0m\u001b[0;34m)\u001b[0m\u001b[0;34m(\u001b[0m\u001b[0;34m*\u001b[0m\u001b[0margs\u001b[0m\u001b[0;34m,\u001b[0m \u001b[0;34m**\u001b[0m\u001b[0mkwds\u001b[0m\u001b[0;34m)\u001b[0m\u001b[0;34m\u001b[0m\u001b[0m\n\u001b[0m\u001b[1;32m    370\u001b[0m     \u001b[0;32mreturn\u001b[0m \u001b[0mgrad\u001b[0m\u001b[0;34m\u001b[0m\u001b[0m\n\u001b[1;32m    371\u001b[0m \u001b[0;34m\u001b[0m\u001b[0m\n",
      "\u001b[0;32m~/miniconda3/envs/tensorflow_cpu/lib/python3.6/site-packages/tensorflow/python/eager/backprop.py\u001b[0m in \u001b[0;36mdecorated\u001b[0;34m(*args, **kwds)\u001b[0m\n\u001b[1;32m    466\u001b[0m       raise ValueError(\"Functions to be differentiated cannot \"\n\u001b[1;32m    467\u001b[0m                        \"receive keyword arguments.\")\n\u001b[0;32m--> 468\u001b[0;31m     \u001b[0mval\u001b[0m\u001b[0;34m,\u001b[0m \u001b[0mvjp\u001b[0m \u001b[0;34m=\u001b[0m \u001b[0mmake_vjp\u001b[0m\u001b[0;34m(\u001b[0m\u001b[0mf\u001b[0m\u001b[0;34m,\u001b[0m \u001b[0mparams\u001b[0m\u001b[0;34m)\u001b[0m\u001b[0;34m(\u001b[0m\u001b[0;34m*\u001b[0m\u001b[0margs\u001b[0m\u001b[0;34m,\u001b[0m \u001b[0;34m**\u001b[0m\u001b[0mkwds\u001b[0m\u001b[0;34m)\u001b[0m\u001b[0;34m\u001b[0m\u001b[0m\n\u001b[0m\u001b[1;32m    469\u001b[0m     \u001b[0;32mreturn\u001b[0m \u001b[0mval\u001b[0m\u001b[0;34m,\u001b[0m \u001b[0mvjp\u001b[0m\u001b[0;34m(\u001b[0m\u001b[0mdy\u001b[0m\u001b[0;34m=\u001b[0m\u001b[0mdy\u001b[0m\u001b[0;34m)\u001b[0m\u001b[0;34m\u001b[0m\u001b[0m\n\u001b[1;32m    470\u001b[0m \u001b[0;34m\u001b[0m\u001b[0m\n",
      "\u001b[0;32m~/miniconda3/envs/tensorflow_cpu/lib/python3.6/site-packages/tensorflow/python/eager/backprop.py\u001b[0m in \u001b[0;36mdecorated\u001b[0;34m(*args, **kwds)\u001b[0m\n\u001b[1;32m    522\u001b[0m         \u001b[0msources\u001b[0m\u001b[0;34m.\u001b[0m\u001b[0mappend\u001b[0m\u001b[0;34m(\u001b[0m\u001b[0margs\u001b[0m\u001b[0;34m[\u001b[0m\u001b[0mi\u001b[0m\u001b[0;34m]\u001b[0m\u001b[0;34m)\u001b[0m\u001b[0;34m\u001b[0m\u001b[0m\n\u001b[1;32m    523\u001b[0m         \u001b[0mtape\u001b[0m\u001b[0;34m.\u001b[0m\u001b[0mwatch\u001b[0m\u001b[0;34m(\u001b[0m\u001b[0margs\u001b[0m\u001b[0;34m[\u001b[0m\u001b[0mi\u001b[0m\u001b[0;34m]\u001b[0m\u001b[0;34m)\u001b[0m\u001b[0;34m\u001b[0m\u001b[0m\n\u001b[0;32m--> 524\u001b[0;31m       \u001b[0mresult\u001b[0m \u001b[0;34m=\u001b[0m \u001b[0mf\u001b[0m\u001b[0;34m(\u001b[0m\u001b[0;34m*\u001b[0m\u001b[0margs\u001b[0m\u001b[0;34m)\u001b[0m\u001b[0;34m\u001b[0m\u001b[0m\n\u001b[0m\u001b[1;32m    525\u001b[0m       \u001b[0;32mif\u001b[0m \u001b[0mresult\u001b[0m \u001b[0;32mis\u001b[0m \u001b[0;32mNone\u001b[0m\u001b[0;34m:\u001b[0m\u001b[0;34m\u001b[0m\u001b[0m\n\u001b[1;32m    526\u001b[0m         raise ValueError(\"Cannot differentiate a function that returns None; \"\n",
      "\u001b[0;32m~/ANL/l2hmc/l2hmc/lattice/ising_lattice.py\u001b[0m in \u001b[0;36mfn\u001b[0;34m(batch, batch_size)\u001b[0m\n\u001b[1;32m     73\u001b[0m     \u001b[0;32mdef\u001b[0m \u001b[0mget_energy_function\u001b[0m\u001b[0;34m(\u001b[0m\u001b[0mself\u001b[0m\u001b[0;34m)\u001b[0m\u001b[0;34m:\u001b[0m\u001b[0;34m\u001b[0m\u001b[0m\n\u001b[1;32m     74\u001b[0m         \u001b[0;32mdef\u001b[0m \u001b[0mfn\u001b[0m\u001b[0;34m(\u001b[0m\u001b[0mbatch\u001b[0m\u001b[0;34m,\u001b[0m \u001b[0mbatch_size\u001b[0m\u001b[0;34m)\u001b[0m\u001b[0;34m:\u001b[0m\u001b[0;34m\u001b[0m\u001b[0m\n\u001b[0;32m---> 75\u001b[0;31m             \u001b[0;32mreturn\u001b[0m \u001b[0mself\u001b[0m\u001b[0;34m.\u001b[0m\u001b[0mcalc_energy\u001b[0m\u001b[0;34m(\u001b[0m\u001b[0mbatch\u001b[0m\u001b[0;34m,\u001b[0m \u001b[0mbatch_size\u001b[0m\u001b[0;34m)\u001b[0m\u001b[0;34m\u001b[0m\u001b[0m\n\u001b[0m\u001b[1;32m     76\u001b[0m         \u001b[0;32mreturn\u001b[0m \u001b[0mfn\u001b[0m\u001b[0;34m\u001b[0m\u001b[0m\n\u001b[1;32m     77\u001b[0m \u001b[0;34m\u001b[0m\u001b[0m\n",
      "\u001b[0;32m~/ANL/l2hmc/l2hmc/lattice/ising_lattice.py\u001b[0m in \u001b[0;36mcalc_energy\u001b[0;34m(self, batch, batch_size)\u001b[0m\n\u001b[1;32m    116\u001b[0m             \u001b[0menergy\u001b[0m \u001b[0;34m=\u001b[0m \u001b[0;36m0\u001b[0m\u001b[0;34m\u001b[0m\u001b[0m\n\u001b[1;32m    117\u001b[0m             \u001b[0;32mfor\u001b[0m \u001b[0msite\u001b[0m \u001b[0;32min\u001b[0m \u001b[0mself\u001b[0m\u001b[0;34m.\u001b[0m\u001b[0miter_sites\u001b[0m\u001b[0;34m(\u001b[0m\u001b[0;34m)\u001b[0m\u001b[0;34m:\u001b[0m\u001b[0;34m\u001b[0m\u001b[0m\n\u001b[0;32m--> 118\u001b[0;31m                 \u001b[0mS\u001b[0m \u001b[0;34m=\u001b[0m \u001b[0msites\u001b[0m\u001b[0;34m[\u001b[0m\u001b[0msite\u001b[0m\u001b[0;34m]\u001b[0m\u001b[0;34m\u001b[0m\u001b[0m\n\u001b[0m\u001b[1;32m    119\u001b[0m                 \u001b[0mS_nbrs\u001b[0m \u001b[0;34m=\u001b[0m \u001b[0;34m[\u001b[0m\u001b[0mS\u001b[0m \u001b[0;34m*\u001b[0m \u001b[0msites\u001b[0m\u001b[0;34m[\u001b[0m\u001b[0mnbr\u001b[0m\u001b[0;34m]\u001b[0m \u001b[0;32mfor\u001b[0m \u001b[0mnbr\u001b[0m \u001b[0;32min\u001b[0m \u001b[0mself\u001b[0m\u001b[0;34m.\u001b[0m\u001b[0mget_neighbors\u001b[0m\u001b[0;34m(\u001b[0m\u001b[0msite\u001b[0m\u001b[0;34m)\u001b[0m\u001b[0;34m]\u001b[0m\u001b[0;34m\u001b[0m\u001b[0m\n\u001b[1;32m    120\u001b[0m                 \u001b[0menergy\u001b[0m \u001b[0;34m+=\u001b[0m \u001b[0msum\u001b[0m\u001b[0;34m(\u001b[0m\u001b[0mS_nbrs\u001b[0m\u001b[0;34m)\u001b[0m\u001b[0;34m\u001b[0m\u001b[0m\n",
      "\u001b[0;32m~/miniconda3/envs/tensorflow_cpu/lib/python3.6/site-packages/tensorflow/python/ops/array_ops.py\u001b[0m in \u001b[0;36m_slice_helper\u001b[0;34m(tensor, slice_spec, var)\u001b[0m\n\u001b[1;32m    522\u001b[0m         \u001b[0mellipsis_mask\u001b[0m\u001b[0;34m=\u001b[0m\u001b[0mellipsis_mask\u001b[0m\u001b[0;34m,\u001b[0m\u001b[0;34m\u001b[0m\u001b[0m\n\u001b[1;32m    523\u001b[0m         \u001b[0mvar\u001b[0m\u001b[0;34m=\u001b[0m\u001b[0mvar\u001b[0m\u001b[0;34m,\u001b[0m\u001b[0;34m\u001b[0m\u001b[0m\n\u001b[0;32m--> 524\u001b[0;31m         name=name)\n\u001b[0m\u001b[1;32m    525\u001b[0m \u001b[0;34m\u001b[0m\u001b[0m\n\u001b[1;32m    526\u001b[0m \u001b[0;34m\u001b[0m\u001b[0m\n",
      "\u001b[0;32m~/miniconda3/envs/tensorflow_cpu/lib/python3.6/site-packages/tensorflow/python/ops/array_ops.py\u001b[0m in \u001b[0;36mstrided_slice\u001b[0;34m(input_, begin, end, strides, begin_mask, end_mask, ellipsis_mask, new_axis_mask, shrink_axis_mask, var, name)\u001b[0m\n\u001b[1;32m    688\u001b[0m       \u001b[0mellipsis_mask\u001b[0m\u001b[0;34m=\u001b[0m\u001b[0mellipsis_mask\u001b[0m\u001b[0;34m,\u001b[0m\u001b[0;34m\u001b[0m\u001b[0m\n\u001b[1;32m    689\u001b[0m       \u001b[0mnew_axis_mask\u001b[0m\u001b[0;34m=\u001b[0m\u001b[0mnew_axis_mask\u001b[0m\u001b[0;34m,\u001b[0m\u001b[0;34m\u001b[0m\u001b[0m\n\u001b[0;32m--> 690\u001b[0;31m       shrink_axis_mask=shrink_axis_mask)\n\u001b[0m\u001b[1;32m    691\u001b[0m \u001b[0;34m\u001b[0m\u001b[0m\n\u001b[1;32m    692\u001b[0m   \u001b[0mparent_name\u001b[0m \u001b[0;34m=\u001b[0m \u001b[0mname\u001b[0m\u001b[0;34m\u001b[0m\u001b[0m\n",
      "\u001b[0;32m~/miniconda3/envs/tensorflow_cpu/lib/python3.6/site-packages/tensorflow/python/ops/gen_array_ops.py\u001b[0m in \u001b[0;36mstrided_slice\u001b[0;34m(input, begin, end, strides, begin_mask, end_mask, ellipsis_mask, new_axis_mask, shrink_axis_mask, name)\u001b[0m\n\u001b[1;32m   8264\u001b[0m       \u001b[0;32melse\u001b[0m\u001b[0;34m:\u001b[0m\u001b[0;34m\u001b[0m\u001b[0m\n\u001b[1;32m   8265\u001b[0m         \u001b[0mmessage\u001b[0m \u001b[0;34m=\u001b[0m \u001b[0me\u001b[0m\u001b[0;34m.\u001b[0m\u001b[0mmessage\u001b[0m\u001b[0;34m\u001b[0m\u001b[0m\n\u001b[0;32m-> 8266\u001b[0;31m       \u001b[0m_six\u001b[0m\u001b[0;34m.\u001b[0m\u001b[0mraise_from\u001b[0m\u001b[0;34m(\u001b[0m\u001b[0m_core\u001b[0m\u001b[0;34m.\u001b[0m\u001b[0m_status_to_exception\u001b[0m\u001b[0;34m(\u001b[0m\u001b[0me\u001b[0m\u001b[0;34m.\u001b[0m\u001b[0mcode\u001b[0m\u001b[0;34m,\u001b[0m \u001b[0mmessage\u001b[0m\u001b[0;34m)\u001b[0m\u001b[0;34m,\u001b[0m \u001b[0;32mNone\u001b[0m\u001b[0;34m)\u001b[0m\u001b[0;34m\u001b[0m\u001b[0m\n\u001b[0m\u001b[1;32m   8267\u001b[0m \u001b[0;34m\u001b[0m\u001b[0m\n\u001b[1;32m   8268\u001b[0m \u001b[0;34m\u001b[0m\u001b[0m\n",
      "\u001b[0;32m~/.local/lib/python3.6/site-packages/six.py\u001b[0m in \u001b[0;36mraise_from\u001b[0;34m(value, from_value)\u001b[0m\n",
      "\u001b[0;31mInvalidArgumentError\u001b[0m: Index out of range using input dim 1; input has only 1 dims [Op:StridedSlice] name: strided_slice/"
     ]
    }
   ],
   "source": [
    "#dynamics.position_fn(momentum, latt.sites.flatten()[:], dynamics)\n",
    "#dynamics._forward_lf(latt.sites.flatten()[:], momentum, 0)\n",
    "dynamics._forward_lf(np.array(_position).reshape(-1, lattice.num_sites),\n",
    "                     np.array(_momentum).reshape(-1, lattice.num_sites), 1)"
   ]
  },
  {
   "cell_type": "markdown",
   "metadata": {},
   "source": [
    "### GMM Model"
   ]
  },
  {
   "cell_type": "code",
   "execution_count": 39,
   "metadata": {
    "ExecuteTime": {
     "end_time": "2018-09-26T06:10:50.447543Z",
     "start_time": "2018-09-26T06:10:50.313103Z"
    }
   },
   "outputs": [],
   "source": [
    "sigmas, distribution = gen_ring(1., var=0.02, nb_mixtures=4)\n",
    "\n",
    "gmm_potential = distribution.get_energy_function()\n",
    "gmm_dynamics = _l2hmc.Dynamics(x_dim=2, minus_loglikelihood_fn=gmm_potential,\n",
    "                               n_steps=25, eps=0.1)"
   ]
  },
  {
   "cell_type": "code",
   "execution_count": 37,
   "metadata": {
    "ExecuteTime": {
     "end_time": "2018-09-26T06:10:15.922579Z",
     "start_time": "2018-09-26T06:10:15.848574Z"
    }
   },
   "outputs": [],
   "source": [
    "samples = distribution.get_samples(200)"
   ]
  },
  {
   "cell_type": "code",
   "execution_count": 45,
   "metadata": {
    "ExecuteTime": {
     "end_time": "2018-09-26T06:15:33.266695Z",
     "start_time": "2018-09-26T06:15:33.179469Z"
    }
   },
   "outputs": [],
   "source": [
    "_position = samples\n",
    "_momentum = tf.random_normal(tf.shape(_position))\n",
    "_hamiltonian = gmm_dynamics.hamiltonian(_position, _momentum)"
   ]
  },
  {
   "cell_type": "code",
   "execution_count": 49,
   "metadata": {
    "ExecuteTime": {
     "end_time": "2018-09-26T06:16:02.640952Z",
     "start_time": "2018-09-26T06:16:02.549991Z"
    }
   },
   "outputs": [],
   "source": [
    "grad_pot = gmm_dynamics.grad_potential(_position, _momentum)"
   ]
  },
  {
   "cell_type": "code",
   "execution_count": 51,
   "metadata": {
    "ExecuteTime": {
     "end_time": "2018-09-26T06:16:23.336890Z",
     "start_time": "2018-09-26T06:16:23.257397Z"
    }
   },
   "outputs": [
    {
     "data": {
      "text/plain": [
       "TensorShape([Dimension(200), Dimension(2)])"
      ]
     },
     "execution_count": 51,
     "metadata": {},
     "output_type": "execute_result"
    }
   ],
   "source": [
    "grad_pot.shape"
   ]
  },
  {
   "cell_type": "code",
   "execution_count": null,
   "metadata": {},
   "outputs": [],
   "source": []
  }
 ],
 "metadata": {
  "hide_input": false,
  "kernelspec": {
   "display_name": "Python 3",
   "language": "python",
   "name": "python3"
  },
  "language_info": {
   "codemirror_mode": {
    "name": "ipython",
    "version": 3
   },
   "file_extension": ".py",
   "mimetype": "text/x-python",
   "name": "python",
   "nbconvert_exporter": "python",
   "pygments_lexer": "ipython3",
   "version": "3.6.5"
  },
  "latex_envs": {
   "LaTeX_envs_menu_present": true,
   "autoclose": false,
   "autocomplete": true,
   "bibliofile": "biblio.bib",
   "cite_by": "apalike",
   "current_citInitial": 1,
   "eqLabelWithNumbers": true,
   "eqNumInitial": 1,
   "hotkeys": {
    "equation": "Ctrl-E",
    "itemize": "Ctrl-I"
   },
   "labels_anchors": false,
   "latex_user_defs": false,
   "report_style_numbering": false,
   "user_envs_cfg": false
  },
  "varInspector": {
   "cols": {
    "lenName": 16,
    "lenType": 16,
    "lenVar": 40
   },
   "kernels_config": {
    "python": {
     "delete_cmd_postfix": "",
     "delete_cmd_prefix": "del ",
     "library": "var_list.py",
     "varRefreshCmd": "print(var_dic_list())"
    },
    "r": {
     "delete_cmd_postfix": ") ",
     "delete_cmd_prefix": "rm(",
     "library": "var_list.r",
     "varRefreshCmd": "cat(var_dic_list()) "
    }
   },
   "types_to_exclude": [
    "module",
    "function",
    "builtin_function_or_method",
    "instance",
    "_Feature"
   ],
   "window_display": false
  }
 },
 "nbformat": 4,
 "nbformat_minor": 2
}
