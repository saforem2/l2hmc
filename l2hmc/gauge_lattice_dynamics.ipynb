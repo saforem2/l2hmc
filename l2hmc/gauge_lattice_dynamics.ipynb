{
 "cells": [
  {
   "cell_type": "markdown",
   "metadata": {},
   "source": [
    "## Imports"
   ]
  },
  {
   "cell_type": "code",
   "execution_count": 1,
   "metadata": {
    "ExecuteTime": {
     "end_time": "2018-09-25T21:56:46.486104Z",
     "start_time": "2018-09-25T21:56:33.352609Z"
    }
   },
   "outputs": [],
   "source": [
    "import os\n",
    "import pickle\n",
    "import numpy as np\n",
    "import matplotlib.pyplot as plt\n",
    "from mog_model import *\n",
    "from utils.distributions import *\n",
    "from lattice.ising_lattice import IsingLattice\n",
    "from lattice.gauge_lattice import GaugeLattice\n",
    "from lattice.fields import SU2, SU3\n",
    "from utils.dynamics import *\n",
    "from utils.gauge_dynamics import GaugeDynamics\n",
    "from utils.func_utils import accept, jacobian, autocovariance, get_log_likelihood, binarize, normal_kl, acl_spectrum, ESS\n",
    "from utils.network import network, Linear, Sequential, Zip, Parallel, ScaleTanh\n",
    "from utils.sampler import propose\n",
    "from utils.notebook_utils import get_hmc_samples\n",
    "from utils.data_utils import calc_avg_vals_errors, block_resampling, jackknife_err\n",
    "from matplotlib import gridspec\n",
    "from utils.plot_helper import errorbar_plot\n",
    "plt.style.use('/Users/saforem2/.config/matplotlib/stylelib/dark_jupyter.mplstyle')\n",
    "\n",
    "plt.rc('text', usetex=False)\n",
    "plt.rcParams['errorbar.capsize'] = 0\n",
    "%matplotlib notebook\n",
    "%autoreload 2"
   ]
  },
  {
   "cell_type": "code",
   "execution_count": 2,
   "metadata": {
    "ExecuteTime": {
     "end_time": "2018-09-25T21:56:46.770768Z",
     "start_time": "2018-09-25T21:56:46.687163Z"
    }
   },
   "outputs": [],
   "source": [
    "sess = tf.InteractiveSession()"
   ]
  },
  {
   "cell_type": "code",
   "execution_count": 3,
   "metadata": {
    "ExecuteTime": {
     "end_time": "2018-09-25T21:56:47.022793Z",
     "start_time": "2018-09-25T21:56:46.943186Z"
    }
   },
   "outputs": [],
   "source": [
    "def restart_tf(sess):\n",
    "    tf.reset_default_graph()\n",
    "    sess.close()\n",
    "    return tf.InteractiveSession()"
   ]
  },
  {
   "cell_type": "markdown",
   "metadata": {},
   "source": [
    "## Create GaugeLattice"
   ]
  },
  {
   "cell_type": "code",
   "execution_count": 11,
   "metadata": {
    "ExecuteTime": {
     "end_time": "2018-09-25T17:51:40.244241Z",
     "start_time": "2018-09-25T17:51:40.158474Z"
    }
   },
   "outputs": [],
   "source": [
    "sess = restart_tf(sess)"
   ]
  },
  {
   "cell_type": "code",
   "execution_count": 4,
   "metadata": {
    "ExecuteTime": {
     "end_time": "2018-09-25T21:56:47.537219Z",
     "start_time": "2018-09-25T21:56:47.223516Z"
    }
   },
   "outputs": [],
   "source": [
    "time_size = 2\n",
    "space_size = 4\n",
    "dim = 4\n",
    "beta = 1.\n",
    "link_type = 'SU3' \n",
    "batch_size = 3\n",
    "lattice = GaugeLattice(time_size, space_size, dim, beta, link_type)\n",
    "# create `num_samples` random samples of GaugeLattice.links\n",
    "links_samples = lattice.get_links_samples(batch_size, link_type='SU3')"
   ]
  },
  {
   "cell_type": "code",
   "execution_count": 5,
   "metadata": {
    "ExecuteTime": {
     "end_time": "2018-09-25T21:56:50.396631Z",
     "start_time": "2018-09-25T21:56:48.622074Z"
    }
   },
   "outputs": [],
   "source": [
    "dynamics = GaugeDynamics(lattice, trajectory_length=2, eps=0.1,\n",
    "                         hmc=False, net_factory=network, eps_trainable=True,\n",
    "                         use_temperature=True)"
   ]
  },
  {
   "cell_type": "code",
   "execution_count": 6,
   "metadata": {
    "ExecuteTime": {
     "end_time": "2018-09-25T21:56:51.952151Z",
     "start_time": "2018-09-25T21:56:51.852895Z"
    }
   },
   "outputs": [],
   "source": [
    "link = tf.placeholder(dtype=tf.complex64, shape=lattice.link_shape, name='link')\n",
    "x_shape = tuple([batch_size] + list(lattice.links.shape))\n",
    "x = tf.placeholder(tf.complex64, shape=x_shape, name='x')\n",
    "z = tf.random_normal(tf.shape(x), name='z')"
   ]
  },
  {
   "cell_type": "code",
   "execution_count": 7,
   "metadata": {
    "ExecuteTime": {
     "end_time": "2018-09-25T21:59:41.428917Z",
     "start_time": "2018-09-25T21:56:53.035116Z"
    }
   },
   "outputs": [],
   "source": [
    "energy = dynamics.energy(x, batch_size)"
   ]
  },
  {
   "cell_type": "code",
   "execution_count": 8,
   "metadata": {
    "ExecuteTime": {
     "end_time": "2018-09-25T21:59:56.356757Z",
     "start_time": "2018-09-25T21:59:42.587064Z"
    }
   },
   "outputs": [],
   "source": [
    "energy_arr = sess.run(energy, feed_dict={x: links_samples, dynamics.temperature: 1.})"
   ]
  },
  {
   "cell_type": "code",
   "execution_count": 9,
   "metadata": {
    "ExecuteTime": {
     "end_time": "2018-09-25T22:03:41.520768Z",
     "start_time": "2018-09-25T22:03:41.436246Z"
    }
   },
   "outputs": [
    {
     "data": {
      "text/plain": [
       "array([1268.8816, 1267.9553, 1268.9641], dtype=float32)"
      ]
     },
     "execution_count": 9,
     "metadata": {},
     "output_type": "execute_result"
    }
   ],
   "source": [
    "energy_arr"
   ]
  },
  {
   "cell_type": "code",
   "execution_count": null,
   "metadata": {
    "ExecuteTime": {
     "end_time": "2018-09-25T16:37:58.270858Z",
     "start_time": "2018-09-25T16:37:43.432427Z"
    }
   },
   "outputs": [],
   "source": [
    "sess.run(dynamics.kinetic(z))"
   ]
  },
  {
   "cell_type": "code",
   "execution_count": null,
   "metadata": {
    "ExecuteTime": {
     "end_time": "2018-09-25T10:15:29.113116Z",
     "start_time": "2018-09-25T10:09:34.326606Z"
    }
   },
   "outputs": [],
   "source": [
    "H = dynamics.hamiltonian(x, z)\n",
    "print(sess.run(H), feed_dict={x: samples, dynamics.temperature: 1.})"
   ]
  },
  {
   "cell_type": "code",
   "execution_count": null,
   "metadata": {
    "ExecuteTime": {
     "end_time": "2018-09-25T10:38:23.052124Z",
     "start_time": "2018-09-25T10:24:35.599143Z"
    }
   },
   "outputs": [],
   "source": [
    "step1 = dynamics._forward_step(x, z, 1)"
   ]
  },
  {
   "cell_type": "code",
   "execution_count": null,
   "metadata": {
    "ExecuteTime": {
     "end_time": "2018-09-24T23:23:22.986957Z",
     "start_time": "2018-09-24T23:19:01.460519Z"
    }
   },
   "outputs": [],
   "source": [
    "%debug"
   ]
  },
  {
   "cell_type": "code",
   "execution_count": null,
   "metadata": {
    "ExecuteTime": {
     "end_time": "2018-09-21T05:29:41.185586Z",
     "start_time": "2018-09-21T05:29:14.825462Z"
    }
   },
   "outputs": [],
   "source": [
    "Lx, _, px, output = propose(x, dynamics, do_mh_step=True)"
   ]
  },
  {
   "cell_type": "code",
   "execution_count": null,
   "metadata": {
    "ExecuteTime": {
     "end_time": "2018-09-20T17:17:39.273140Z",
     "start_time": "2018-09-20T17:13:49.834528Z"
    }
   },
   "outputs": [],
   "source": [
    "Lz, _, pz, _ = propose(z, dynamics, do_mh_step=True)\n",
    "\n",
    "loss = tf.Variable(0., trainable=False, name='loss')\n",
    "v1 = ((tf.reduce_sum(tf.square(x - Lx), axis=1) * px) + 1e-4)\n",
    "v2 = ((tf.reduce_sum(tf.square(z - Lz), axis=1) * pz) + 1e-4)\n",
    "scale = 0.1\n",
    "loss = loss + scale * (tf.reduce_mean(1.0 / v1) + tf.reduce_mean(1.0 / v2))\n",
    "loss = loss + ((-tf.reduce_mean(v1, name='v1')\n",
    "                - tf.reduce_mean(v2, name='v2')) / scale)"
   ]
  },
  {
   "cell_type": "code",
   "execution_count": null,
   "metadata": {
    "ExecuteTime": {
     "end_time": "2018-09-20T17:37:05.766572Z",
     "start_time": "2018-09-20T17:31:48.351587Z"
    }
   },
   "outputs": [],
   "source": [
    "with tf.Session() as sess:\n",
    "    print(sess.run(lattice.total_action(lattice.links)))"
   ]
  },
  {
   "cell_type": "code",
   "execution_count": null,
   "metadata": {
    "ExecuteTime": {
     "end_time": "2018-09-20T17:28:52.367265Z",
     "start_time": "2018-09-20T17:24:50.211432Z"
    }
   },
   "outputs": [],
   "source": [
    "energy = dynamics.energy(x)\n",
    "with tf.Session() as sess:\n",
    "    print(sess.run(energy, feed_dict={x: links_samples, dynamics.temperature:1.}))"
   ]
  },
  {
   "cell_type": "markdown",
   "metadata": {},
   "source": [
    "### Visualize TF graph"
   ]
  },
  {
   "cell_type": "code",
   "execution_count": null,
   "metadata": {
    "ExecuteTime": {
     "end_time": "2018-09-25T16:44:14.032296Z",
     "start_time": "2018-09-25T16:44:13.930583Z"
    }
   },
   "outputs": [],
   "source": [
    "from IPython.display import clear_output, Image, display, HTML\n",
    "\n",
    "def strip_consts(graph_def, max_const_size=4096):\n",
    "    \"\"\"Strip large constant values from graph_def.\"\"\"\n",
    "    strip_def = tf.GraphDef()\n",
    "    for n0 in graph_def.node:\n",
    "        n = strip_def.node.add() \n",
    "        n.MergeFrom(n0)\n",
    "        if n.op == 'Const':\n",
    "            tensor = n.attr['value'].tensor\n",
    "            size = len(tensor.tensor_content)\n",
    "            if size > max_const_size:\n",
    "                tensor.tensor_content = \"<stripped %d bytes>\"%size\n",
    "    return strip_def\n",
    "\n",
    "def show_graph(graph_def, max_const_size=4096):\n",
    "    \"\"\"Visualize TensorFlow graph.\"\"\"\n",
    "    if hasattr(graph_def, 'as_graph_def'):\n",
    "        graph_def = graph_def.as_graph_def()\n",
    "    strip_def = strip_consts(graph_def, max_const_size=max_const_size)\n",
    "    code = \"\"\"\n",
    "        <script>\n",
    "          function load() {{\n",
    "            document.getElementById(\"{id}\").pbtxt = {data};\n",
    "          }}\n",
    "        </script>\n",
    "        <link rel=\"import\" href=\"https://tensorboard.appspot.com/tf-graph-basic.build.html\" onload=load()>\n",
    "        <div style=\"height:600px\">\n",
    "          <tf-graph-basic id=\"{id}\"></tf-graph-basic>\n",
    "        </div>\n",
    "    \"\"\".format(data=repr(str(strip_def)), id='graph'+str(np.random.rand()))\n",
    "\n",
    "    iframe = \"\"\"\n",
    "        <iframe seamless style=\"width:1200px;height:620px;border:0\" srcdoc=\"{}\"></iframe>\n",
    "    \"\"\".format(code.replace('\"', '&quot;'))\n",
    "    display(HTML(iframe))\n"
   ]
  },
  {
   "cell_type": "code",
   "execution_count": null,
   "metadata": {
    "ExecuteTime": {
     "end_time": "2018-09-25T16:44:43.361744Z",
     "start_time": "2018-09-25T16:44:17.340256Z"
    },
    "scrolled": false
   },
   "outputs": [],
   "source": [
    "show_graph(tf.get_default_graph().as_graph_def())"
   ]
  },
  {
   "cell_type": "code",
   "execution_count": null,
   "metadata": {
    "ExecuteTime": {
     "end_time": "2018-09-25T16:44:02.150993Z",
     "start_time": "2018-09-25T16:43:30.687350Z"
    }
   },
   "outputs": [],
   "source": [
    "%debug"
   ]
  },
  {
   "cell_type": "markdown",
   "metadata": {
    "heading_collapsed": true
   },
   "source": [
    "## LatticeDynamics testing"
   ]
  },
  {
   "cell_type": "markdown",
   "metadata": {
    "heading_collapsed": true,
    "hidden": true
   },
   "source": [
    "### Init tf.Session()"
   ]
  },
  {
   "cell_type": "code",
   "execution_count": null,
   "metadata": {
    "ExecuteTime": {
     "end_time": "2018-09-20T21:59:20.679830Z",
     "start_time": "2018-09-20T21:59:17.348414Z"
    },
    "hidden": true
   },
   "outputs": [],
   "source": [
    "sess = tf.Session()\n",
    "sess.run(tf.global_variables_initializer())\n",
    "sess.close()"
   ]
  },
  {
   "cell_type": "code",
   "execution_count": null,
   "metadata": {
    "ExecuteTime": {
     "end_time": "2018-09-21T00:19:59.845206Z",
     "start_time": "2018-09-21T00:19:59.385513Z"
    },
    "hidden": true
   },
   "outputs": [],
   "source": [
    "sess = tf.InteractiveSession()"
   ]
  },
  {
   "cell_type": "code",
   "execution_count": null,
   "metadata": {
    "ExecuteTime": {
     "end_time": "2018-09-21T00:26:12.771289Z",
     "start_time": "2018-09-21T00:26:12.665931Z"
    },
    "hidden": true
   },
   "outputs": [],
   "source": [
    "init = tf.global_variables_initializer()"
   ]
  },
  {
   "cell_type": "code",
   "execution_count": null,
   "metadata": {
    "ExecuteTime": {
     "end_time": "2018-09-21T00:26:16.471263Z",
     "start_time": "2018-09-21T00:26:16.315887Z"
    },
    "hidden": true
   },
   "outputs": [],
   "source": [
    "sess.run(tf.global_variables_initializer())"
   ]
  },
  {
   "cell_type": "markdown",
   "metadata": {
    "hidden": true
   },
   "source": [
    "### Create LatticeDynamics object"
   ]
  },
  {
   "cell_type": "code",
   "execution_count": null,
   "metadata": {
    "hidden": true
   },
   "outputs": [],
   "source": []
  },
  {
   "cell_type": "code",
   "execution_count": null,
   "metadata": {
    "ExecuteTime": {
     "end_time": "2018-09-21T01:34:43.226555Z",
     "start_time": "2018-09-21T01:34:43.148160Z"
    },
    "hidden": true
   },
   "outputs": [],
   "source": [
    "_x_shape = tuple([None] + list(lattice.links.shape) + list(lattice.link_shape))\n",
    "_x = tf.placeholder(dtype=tf.complex64, shape=_x_shape)\n",
    "\n",
    "_links_samples = []\n",
    "for _ in range(10):\n",
    "    _links_sample = np.zeros(_x_shape[1:], dtype=np.complex64)\n",
    "    for link in lattice.iter_links():\n",
    "        _links_sample[link] = lattice.link_type.get_random_element()\n",
    "    _links_samples.append(_links_sample)"
   ]
  },
  {
   "cell_type": "code",
   "execution_count": null,
   "metadata": {
    "ExecuteTime": {
     "end_time": "2018-09-21T01:10:07.553127Z",
     "start_time": "2018-09-21T01:10:07.490306Z"
    },
    "hidden": true
   },
   "outputs": [],
   "source": [
    "lattice.num_links"
   ]
  },
  {
   "cell_type": "code",
   "execution_count": null,
   "metadata": {
    "ExecuteTime": {
     "end_time": "2018-09-21T01:10:48.483301Z",
     "start_time": "2018-09-21T01:10:48.422689Z"
    },
    "hidden": true
   },
   "outputs": [],
   "source": [
    "_mask = sess.run(dynamics.mask)"
   ]
  },
  {
   "cell_type": "code",
   "execution_count": null,
   "metadata": {
    "ExecuteTime": {
     "end_time": "2018-09-21T01:11:52.476025Z",
     "start_time": "2018-09-21T01:11:52.399712Z"
    },
    "hidden": true
   },
   "outputs": [],
   "source": [
    "_mask.reshape(tuple([-1] + list(lattice.links.shape)))"
   ]
  },
  {
   "cell_type": "code",
   "execution_count": null,
   "metadata": {
    "ExecuteTime": {
     "end_time": "2018-09-21T01:13:06.334403Z",
     "start_time": "2018-09-21T01:13:06.251900Z"
    },
    "hidden": true
   },
   "outputs": [],
   "source": [
    "m, _m = dynamics._get_mask(0)"
   ]
  },
  {
   "cell_type": "code",
   "execution_count": null,
   "metadata": {
    "ExecuteTime": {
     "end_time": "2018-09-21T01:18:06.334456Z",
     "start_time": "2018-09-21T01:18:06.255444Z"
    },
    "hidden": true
   },
   "outputs": [],
   "source": [
    "np.array(links_samples).astype(np.complex64)"
   ]
  },
  {
   "cell_type": "code",
   "execution_count": null,
   "metadata": {
    "ExecuteTime": {
     "end_time": "2018-09-21T01:17:43.358520Z",
     "start_time": "2018-09-21T01:17:43.278829Z"
    },
    "hidden": true
   },
   "outputs": [],
   "source": [
    "links_samples = np.array(np.array(links_samples), dtype=np.complex64)"
   ]
  },
  {
   "cell_type": "code",
   "execution_count": null,
   "metadata": {
    "ExecuteTime": {
     "end_time": "2018-09-21T01:16:15.302376Z",
     "start_time": "2018-09-21T01:16:14.687020Z"
    },
    "hidden": true
   },
   "outputs": [],
   "source": [
    "kinetic = dynamics.kinetic(z)\n",
    "print(sess.run(kinetic), feed_dict={x: np.array(links_samples), dynamics.temperature: 1.})"
   ]
  },
  {
   "cell_type": "code",
   "execution_count": null,
   "metadata": {
    "hidden": true
   },
   "outputs": [],
   "source": [
    "hamiltonian = dynamics.hamiltonian(x, z)\n",
    "sess.run(hamiltonian, feed_dict{x:})"
   ]
  },
  {
   "cell_type": "code",
   "execution_count": null,
   "metadata": {
    "ExecuteTime": {
     "end_time": "2018-09-21T00:26:37.115110Z",
     "start_time": "2018-09-21T00:26:21.754356Z"
    },
    "hidden": true
   },
   "outputs": [],
   "source": [
    "temp = np.array([1.0], dtype=np.float32)[0]\n",
    "energy = dynamics.energy(x)\n",
    "print(sess.run(energy, feed_dict={x: links_samples, dynamics.temperature: temp}))"
   ]
  },
  {
   "cell_type": "code",
   "execution_count": null,
   "metadata": {
    "ExecuteTime": {
     "end_time": "2018-09-21T00:28:42.521753Z",
     "start_time": "2018-09-21T00:28:42.420918Z"
    },
    "hidden": true
   },
   "outputs": [],
   "source": [
    "print(sess.run(energy, feed_dict={x: links_samples, dynamics.temperature: temp}))"
   ]
  },
  {
   "cell_type": "code",
   "execution_count": null,
   "metadata": {
    "ExecuteTime": {
     "end_time": "2018-09-21T00:50:20.377079Z",
     "start_time": "2018-09-21T00:50:07.997843Z"
    },
    "hidden": true
   },
   "outputs": [],
   "source": [
    "print(sess.run(dynamics.lattice.total_action()))\n",
    "#dynamics.lattice.total_action()"
   ]
  },
  {
   "cell_type": "code",
   "execution_count": null,
   "metadata": {
    "ExecuteTime": {
     "end_time": "2018-09-20T21:17:12.329107Z",
     "start_time": "2018-09-20T21:17:05.272818Z"
    },
    "hidden": true
   },
   "outputs": [],
   "source": [
    "forward_step = dynamics._forward_step(x, z, 1, aux=None)"
   ]
  },
  {
   "cell_type": "code",
   "execution_count": null,
   "metadata": {
    "ExecuteTime": {
     "end_time": "2018-09-20T21:21:18.404497Z",
     "start_time": "2018-09-20T21:17:21.941294Z"
    },
    "hidden": true
   },
   "outputs": [],
   "source": [
    "%debug"
   ]
  },
  {
   "cell_type": "code",
   "execution_count": null,
   "metadata": {
    "hidden": true
   },
   "outputs": [],
   "source": [
    "step1 = sess.run(forward_step, feed_dict={x: samples, dynamics.temperature: 2.})"
   ]
  },
  {
   "cell_type": "code",
   "execution_count": null,
   "metadata": {
    "hidden": true
   },
   "outputs": [],
   "source": [
    "x1, v1, log_jac_contrib1 = step1"
   ]
  },
  {
   "cell_type": "code",
   "execution_count": null,
   "metadata": {
    "hidden": true
   },
   "outputs": [],
   "source": [
    "energy = dynamics.energy(x)\n",
    "print(sess.run(energy, feed_dict={x: samples, dynamics.temperature:2.}))\n",
    "print(sess.run(energy, feed_dict={x: x1, dynamics.temperature:2.}))"
   ]
  },
  {
   "cell_type": "code",
   "execution_count": null,
   "metadata": {
    "hidden": true
   },
   "outputs": [],
   "source": [
    "hamiltonian = dynamics.hamiltonian(x, z)\n",
    "print(sess.run(hamiltonian, feed_dict={x: samples, dynamics.temperature:2.}))\n",
    "print('\\n')\n",
    "print(sess.run(hamiltonian, feed_dict={x: x1, dynamics.temperature:2.}))"
   ]
  },
  {
   "cell_type": "code",
   "execution_count": null,
   "metadata": {
    "hidden": true
   },
   "outputs": [],
   "source": [
    "grad_energy = dynamics.grad_energy(x)\n",
    "print(sess.run(grad_energy, feed_dict={x: samples, dynamics.temperature:2.}))\n",
    "print('\\n')\n",
    "print(sess.run(grad_energy, feed_dict={x: x1, dynamics.temperature:2.}))"
   ]
  },
  {
   "cell_type": "code",
   "execution_count": null,
   "metadata": {
    "hidden": true
   },
   "outputs": [],
   "source": [
    "X, V, p_accept = dynamics.forward(x)"
   ]
  },
  {
   "cell_type": "code",
   "execution_count": null,
   "metadata": {
    "hidden": true
   },
   "outputs": [],
   "source": [
    "_X = sess.run(X, feed_dict={x: samples, dynamics.temperature:2.})\n",
    "print(_X.shape)"
   ]
  },
  {
   "cell_type": "code",
   "execution_count": null,
   "metadata": {
    "hidden": true
   },
   "outputs": [],
   "source": [
    "_V = sess.run(V, feed_dict={x: samples, dynamics.temperature:2.})\n",
    "print(_V.shape)"
   ]
  },
  {
   "cell_type": "code",
   "execution_count": null,
   "metadata": {
    "hidden": true
   },
   "outputs": [],
   "source": [
    "_p_accept = sess.run(p_accept, feed_dict={x: samples, dynamics.temperature:2.})\n",
    "print(_p_accept.shape)\n",
    "print(_p_accept)"
   ]
  }
 ],
 "metadata": {
  "hide_input": false,
  "kernelspec": {
   "display_name": "Python 3",
   "language": "python",
   "name": "python3"
  },
  "language_info": {
   "codemirror_mode": {
    "name": "ipython",
    "version": 3
   },
   "file_extension": ".py",
   "mimetype": "text/x-python",
   "name": "python",
   "nbconvert_exporter": "python",
   "pygments_lexer": "ipython3",
   "version": "3.6.5"
  },
  "latex_envs": {
   "LaTeX_envs_menu_present": true,
   "autoclose": false,
   "autocomplete": true,
   "bibliofile": "biblio.bib",
   "cite_by": "apalike",
   "current_citInitial": 1,
   "eqLabelWithNumbers": true,
   "eqNumInitial": 1,
   "hotkeys": {
    "equation": "Ctrl-E",
    "itemize": "Ctrl-I"
   },
   "labels_anchors": false,
   "latex_user_defs": false,
   "report_style_numbering": false,
   "user_envs_cfg": false
  },
  "varInspector": {
   "cols": {
    "lenName": 16,
    "lenType": 16,
    "lenVar": 40
   },
   "kernels_config": {
    "python": {
     "delete_cmd_postfix": "",
     "delete_cmd_prefix": "del ",
     "library": "var_list.py",
     "varRefreshCmd": "print(var_dic_list())"
    },
    "r": {
     "delete_cmd_postfix": ") ",
     "delete_cmd_prefix": "rm(",
     "library": "var_list.r",
     "varRefreshCmd": "cat(var_dic_list()) "
    }
   },
   "types_to_exclude": [
    "module",
    "function",
    "builtin_function_or_method",
    "instance",
    "_Feature"
   ],
   "window_display": false
  }
 },
 "nbformat": 4,
 "nbformat_minor": 2
}
