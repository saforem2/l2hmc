{
 "cells": [
  {
   "cell_type": "markdown",
   "metadata": {},
   "source": [
    "# Animate trajectory"
   ]
  },
  {
   "cell_type": "code",
   "execution_count": null,
   "metadata": {
    "ExecuteTime": {
     "end_time": "2018-07-01T21:39:20.886969Z",
     "start_time": "2018-07-01T21:39:20.410941Z"
    }
   },
   "outputs": [],
   "source": [
    "import numpy as np\n",
    "import matplotlib.pyplot as plt\n",
    "from matplotlib import animation\n",
    "import mpl_toolkits.mplot3d.axes3d as p3\n",
    "import os"
   ]
  },
  {
   "cell_type": "code",
   "execution_count": null,
   "metadata": {
    "ExecuteTime": {
     "end_time": "2018-07-01T21:39:22.839534Z",
     "start_time": "2018-07-01T21:39:20.890676Z"
    }
   },
   "outputs": [],
   "source": [
    "from utils.distributions import Gaussian, GMM, GaussianFunnel, gen_ring"
   ]
  },
  {
   "cell_type": "code",
   "execution_count": null,
   "metadata": {
    "ExecuteTime": {
     "end_time": "2018-07-01T21:39:22.902793Z",
     "start_time": "2018-07-01T21:39:22.843257Z"
    }
   },
   "outputs": [],
   "source": [
    "def gen(n):\n",
    "    phi = 0\n",
    "    while phi < 2 * np.pi:\n",
    "        yield np.array([np.cos(phi), np.sin(phi), phi])\n",
    "        phi += 2 * np.pi / n"
   ]
  },
  {
   "cell_type": "code",
   "execution_count": null,
   "metadata": {
    "ExecuteTime": {
     "end_time": "2018-07-01T21:39:22.953486Z",
     "start_time": "2018-07-01T21:39:22.906417Z"
    }
   },
   "outputs": [],
   "source": [
    "def update(num, data, line):\n",
    "    line.set_data(data[:2, :num])\n",
    "    line.set_3d_properties(data[2, :num])"
   ]
  },
  {
   "cell_type": "code",
   "execution_count": null,
   "metadata": {
    "ExecuteTime": {
     "end_time": "2018-07-01T22:52:41.670507Z",
     "start_time": "2018-07-01T22:52:40.994251Z"
    }
   },
   "outputs": [],
   "source": [
    "training_samples = np.load('./log_mog_tf/run91/run_info/training_samples.npy')"
   ]
  },
  {
   "cell_type": "code",
   "execution_count": null,
   "metadata": {
    "ExecuteTime": {
     "end_time": "2018-07-01T21:39:23.583896Z",
     "start_time": "2018-07-01T21:39:23.537197Z"
    }
   },
   "outputs": [],
   "source": [
    "training_sample = training_samples[-1, :, 0, :].T\n",
    "print(training_sample.shape)"
   ]
  },
  {
   "cell_type": "code",
   "execution_count": null,
   "metadata": {
    "ExecuteTime": {
     "end_time": "2018-07-01T22:52:48.031797Z",
     "start_time": "2018-07-01T22:52:47.986312Z"
    }
   },
   "outputs": [],
   "source": [
    "ts = training_samples[-1, :, -1, :].T"
   ]
  },
  {
   "cell_type": "code",
   "execution_count": null,
   "metadata": {
    "ExecuteTime": {
     "end_time": "2018-07-01T22:52:49.946761Z",
     "start_time": "2018-07-01T22:52:49.889593Z"
    }
   },
   "outputs": [],
   "source": [
    "#x_dim = 3\n",
    "sigma = 0.05\n",
    "means = np.array([[np.sqrt(2), 0.0, 0.0],\n",
    "                  [0.0, np.sqrt(2), 0.0],\n",
    "                  [np.sqrt(2), 0.0, 0.0]]).astype(np.float32)\n",
    "cov_mtx = np.array([[sigma, 0.0, 0.0],\n",
    "                    [0.0, sigma, 0.0],\n",
    "                    [0.0, 0.0, sigma]]).astype(np.float32)\n",
    "covs = np.array([cov_mtx, cov_mtx, cov_mtx]).astype(np.float32)\n",
    "                \n",
    "small_pi = 2E-16\n",
    "big_pi = (1 - small_pi) / 2\n",
    "distribution = GMM(means, covs, [big_pi, big_pi, small_pi])\n",
    "#distribution = GMM(means, covs, [0.5, 0.5])\n",
    "# Get some samples from the true distribution for debugging\n",
    "init_samples = distribution.get_samples(1000)"
   ]
  },
  {
   "cell_type": "code",
   "execution_count": null,
   "metadata": {
    "ExecuteTime": {
     "end_time": "2018-07-01T22:53:56.767655Z",
     "start_time": "2018-07-01T22:53:56.609751Z"
    },
    "scrolled": false
   },
   "outputs": [],
   "source": [
    "%matplotlib notebook\n",
    "fig = plt.figure()\n",
    "ax = p3.Axes3D(fig)\n",
    "\n",
    "N = 250\n",
    "#data = np.array(list(gen(N))).T\n",
    "#_data = training_sample[:, :N]\n",
    "data1 = ts[:, :N]\n",
    "ax.scatter(init_samples[:, 0], init_samples[:, 1], init_samples[:, 2],\n",
    "           alpha=0.4, marker='o', s=10, color='slategrey')\n",
    "line, = ax.plot(data1[0, 0:1], data1[1, 0:1], data1[2, 0:1], \n",
    "                alpha=0.7, color='C1', marker='o', markersize=3, ls='-', lw=1.)\n",
    "\n",
    "#ax.plot(init_samples.T[:10, 0], training_sample.T[:10, 1], training_sample.T[:10, 2],\n",
    "#           alpha=0.5, marker='o', color='C0')\n",
    "\n",
    "ax.set_xlim(-0.5, 2.0)\n",
    "ax.set_ylim(-0.5, 2.0)\n",
    "ax.set_zlim(-0.8, 0.8)\n",
    "ax.set_xlabel('x')\n",
    "ax.set_ylabel('y')\n",
    "ax.set_zlabel('z')\n",
    "\n",
    "ani = animation.FuncAnimation(fig, update, N, fargs=(data1, line), \n",
    "                              repeat=False, interval=10000/N, blit=False)\n",
    "plt.show()"
   ]
  },
  {
   "cell_type": "code",
   "execution_count": null,
   "metadata": {
    "ExecuteTime": {
     "end_time": "2018-07-01T22:56:38.975567Z",
     "start_time": "2018-07-01T22:55:13.728613Z"
    }
   },
   "outputs": [],
   "source": [
    "ani.save('./log_mog_tf/run91/MoG_trajectory_250t_32499train.gif', \n",
    "         writer='imagemagick')"
   ]
  },
  {
   "cell_type": "code",
   "execution_count": null,
   "metadata": {
    "ExecuteTime": {
     "end_time": "2018-07-01T21:25:21.744804Z",
     "start_time": "2018-07-01T21:25:21.672574Z"
    }
   },
   "outputs": [],
   "source": [
    "%matplotlib notebook\n",
    "fig = plt.figure()\n",
    "ax = fig.add_subplot(111, projection='3d')\n",
    "ax.plot(training_sample.T[:10, 0], training_sample.T[:10, 1], training_sample.T[:10, 2],\n",
    "           alpha=0.5, marker='o', color='C0')\n",
    "plt.show()"
   ]
  },
  {
   "cell_type": "code",
   "execution_count": null,
   "metadata": {},
   "outputs": [],
   "source": []
  }
 ],
 "metadata": {
  "hide_input": false,
  "kernelspec": {
   "display_name": "Python 3",
   "language": "python",
   "name": "python3"
  },
  "language_info": {
   "codemirror_mode": {
    "name": "ipython",
    "version": 3
   },
   "file_extension": ".py",
   "mimetype": "text/x-python",
   "name": "python",
   "nbconvert_exporter": "python",
   "pygments_lexer": "ipython3",
   "version": "3.6.5"
  },
  "latex_envs": {
   "LaTeX_envs_menu_present": true,
   "autoclose": false,
   "autocomplete": true,
   "bibliofile": "biblio.bib",
   "cite_by": "apalike",
   "current_citInitial": 1,
   "eqLabelWithNumbers": true,
   "eqNumInitial": 1,
   "hotkeys": {
    "equation": "Ctrl-E",
    "itemize": "Ctrl-I"
   },
   "labels_anchors": false,
   "latex_user_defs": false,
   "report_style_numbering": false,
   "user_envs_cfg": false
  },
  "varInspector": {
   "cols": {
    "lenName": 16,
    "lenType": 16,
    "lenVar": 40
   },
   "kernels_config": {
    "python": {
     "delete_cmd_postfix": "",
     "delete_cmd_prefix": "del ",
     "library": "var_list.py",
     "varRefreshCmd": "print(var_dic_list())"
    },
    "r": {
     "delete_cmd_postfix": ") ",
     "delete_cmd_prefix": "rm(",
     "library": "var_list.r",
     "varRefreshCmd": "cat(var_dic_list()) "
    }
   },
   "types_to_exclude": [
    "module",
    "function",
    "builtin_function_or_method",
    "instance",
    "_Feature"
   ],
   "window_display": false
  }
 },
 "nbformat": 4,
 "nbformat_minor": 2
}
