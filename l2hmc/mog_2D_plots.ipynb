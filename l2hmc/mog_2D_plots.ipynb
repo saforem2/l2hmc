{
 "cells": [
  {
   "cell_type": "markdown",
   "metadata": {},
   "source": [
    "## Imports"
   ]
  },
  {
   "cell_type": "code",
   "execution_count": null,
   "metadata": {
    "ExecuteTime": {
     "end_time": "2018-08-26T17:23:41.048598Z",
     "start_time": "2018-08-26T17:23:40.942486Z"
    }
   },
   "outputs": [],
   "source": [
    "import os\n",
    "import pickle\n",
    "import numpy as np\n",
    "import matplotlib.pyplot as plt\n",
    "from mog_experiment import *\n",
    "plt.style.use('/Users/saforem2/.config/matplotlib/stylelib/ggplot_sam.mplstyle')\n",
    "%matplotlib notebook\n",
    "#%matplotlib inline\n",
    "%autoreload 2"
   ]
  },
  {
   "cell_type": "markdown",
   "metadata": {},
   "source": [
    "## Define data_dir and load data"
   ]
  },
  {
   "cell_type": "code",
   "execution_count": null,
   "metadata": {
    "ExecuteTime": {
     "end_time": "2018-08-26T17:23:41.355064Z",
     "start_time": "2018-08-26T17:23:41.307211Z"
    }
   },
   "outputs": [],
   "source": [
    "run_dir = '../log_mog_tf/run112/'\n",
    "data_dir = run_dir + 'run_info/'\n",
    "figs_dir = run_dir + 'figures1/'\n",
    "if not os.path.exists(figs_dir):\n",
    "    os.makedirs(figs_dir)"
   ]
  },
  {
   "cell_type": "code",
   "execution_count": null,
   "metadata": {
    "ExecuteTime": {
     "end_time": "2018-08-26T17:23:41.951296Z",
     "start_time": "2018-08-26T17:23:41.898868Z"
    }
   },
   "outputs": [],
   "source": [
    "with open(data_dir + 'tunneling_rates.pkl', 'rb') as f:\n",
    "    tunneling_rates = pickle.load(f)\n",
    "with open(data_dir + 'acceptance_rates.pkl', 'rb') as f:\n",
    "    acceptance_rates = pickle.load(f)\n",
    "with open(data_dir + 'tunneling_rates_highT.pkl', 'rb') as f:\n",
    "    tunneling_rates_highT = pickle.load(f)\n",
    "with open(data_dir + 'acceptance_rates_highT.pkl', 'rb') as f:\n",
    "    acceptance_rates_highT = pickle.load(f)\n",
    "with open(data_dir + 'distances.pkl', 'rb') as f:\n",
    "    distances = pickle.load(f)\n",
    "with open(data_dir + 'distances_highT.pkl', 'rb') as f:\n",
    "    distances_highT = pickle.load(f)"
   ]
  },
  {
   "cell_type": "code",
   "execution_count": null,
   "metadata": {
    "ExecuteTime": {
     "end_time": "2018-08-26T17:23:42.001006Z",
     "start_time": "2018-08-26T17:23:41.953647Z"
    }
   },
   "outputs": [],
   "source": [
    "get_vals_as_arr = lambda _dict: np.array(list(_dict.values()))\n",
    "\n",
    "tr0 = get_vals_as_arr(tunneling_rates)\n",
    "tr1 = get_vals_as_arr(tunneling_rates_highT)\n",
    "\n",
    "ar0 = get_vals_as_arr(acceptance_rates)\n",
    "ar1 = get_vals_as_arr(acceptance_rates_highT)\n",
    "\n",
    "d0 = get_vals_as_arr(distances)\n",
    "d1 = get_vals_as_arr(distances_highT)\n",
    "\n",
    "tunneling_rates_avg = tr0[:, 0]\n",
    "tunneling_rates_err = tr0[:, 1]\n",
    "tunneling_rates_avg_highT = tr1[:, 0]\n",
    "tunneling_rates_err_highT = tr1[:, 1]\n",
    "\n",
    "acceptance_rates_avg = ar0[:, 0]\n",
    "acceptance_rates_err = ar0[:, 1]\n",
    "acceptance_rates_avg_highT = ar1[:, 0]\n",
    "acceptance_rates_err_highT = ar1[:, 1]\n",
    "\n",
    "distances_avg = d0[:, 0]\n",
    "distances_err = d0[:, 1]\n",
    "distances_avg_highT = d1[:, 0]\n",
    "distances_err_highT = d1[:, 1]"
   ]
  },
  {
   "cell_type": "code",
   "execution_count": null,
   "metadata": {
    "ExecuteTime": {
     "end_time": "2018-08-26T17:23:42.065471Z",
     "start_time": "2018-08-26T17:23:42.003206Z"
    }
   },
   "outputs": [],
   "source": [
    "steps_arr = []\n",
    "temp_arr = []\n",
    "for key in tunneling_rates_highT.keys():\n",
    "    steps_arr.append(key[0]+1)\n",
    "    temp_arr.append(key[1])"
   ]
  },
  {
   "cell_type": "code",
   "execution_count": null,
   "metadata": {
    "ExecuteTime": {
     "end_time": "2018-08-26T17:23:42.150906Z",
     "start_time": "2018-08-26T17:23:42.072230Z"
    }
   },
   "outputs": [],
   "source": [
    "%matplotlib notebook"
   ]
  },
  {
   "cell_type": "code",
   "execution_count": null,
   "metadata": {
    "ExecuteTime": {
     "end_time": "2018-08-26T17:23:43.139447Z",
     "start_time": "2018-08-26T17:23:42.153300Z"
    },
    "scrolled": false
   },
   "outputs": [],
   "source": [
    "fig, axes = plt.subplots(2)\n",
    "eb = axes[0].errorbar(temp_arr, tunneling_rates_avg_highT, yerr=tunneling_rates_err_highT,\n",
    "                 color='C0', marker='o', ls='-', fillstyle='full',\n",
    "                 label='Tunneling rate',#, $T_{trajectory} = 1$',\n",
    "                 capsize=1.5, capthick=1.5, alpha=0.75)\n",
    "eb = axes[0].errorbar(temp_arr, acceptance_rates_avg_highT, yerr=acceptance_rates_err_highT,\n",
    "                 color='C1', marker='s', ls='--', fillstyle='full',\n",
    "                 label='Acceptance rate',\n",
    "                 capsize=1.5, capthick=1.5, alpha=0.75)\n",
    "eb1 = axes[1].errorbar(temp_arr, distances_avg_highT, yerr=distances_err_highT,\n",
    "                 color='C2', marker='^', ls='-.', fillstyle='full',\n",
    "                 label='Avg. Distance / step',\n",
    "                 capsize=1.5, capthick=1.5, alpha=0.75)\n",
    "str0 = (f\"3 in 3 dims, \")\n",
    "str1 = (r'$\\mathcal{N}_{\\hat \\mu}(\\sqrt{2}\\hat \\mu;$'\n",
    "        + r'${{{0}}});$  '.format(0.05))\n",
    "title_str = str0 + str1 + r'$T_{trajectory} > 1$'\n",
    "title = axes[0].set_title(title_str)#, fontsize=0)\n",
    "xlabel = axes[1].set_xlabel('Temperature', fontsize=12)\n",
    "xlim = axes[0].set_xlim(axes[0].get_xlim()[::-1])\n",
    "xlim = axes[1].set_xlim(axes[1].get_xlim()[::-1])\n",
    "grid = axes[0].grid(True)\n",
    "grid = axes[1].grid(True)\n",
    "\n",
    "legend = axes[0].legend(loc='best', fontsize=9)\n",
    "legend = axes[1].legend(loc='best', fontsize=9)\n",
    "fig.tight_layout()\n",
    "out_file = figs_dir + 'tr_ar_dist_vs_temp_highT.pdf'\n",
    "out_fig = plt.savefig(out_file,  dpi=400, bbox_inches='tight')"
   ]
  },
  {
   "cell_type": "code",
   "execution_count": null,
   "metadata": {
    "ExecuteTime": {
     "end_time": "2018-08-26T17:23:44.215912Z",
     "start_time": "2018-08-26T17:23:43.142559Z"
    },
    "code_folding": [
     1,
     5,
     9,
     14
    ],
    "scrolled": false
   },
   "outputs": [],
   "source": [
    "fig, axes = plt.subplots(2)\n",
    "eb = axes[0].errorbar(temp_arr, tunneling_rates_avg, yerr=tunneling_rates_err,\n",
    "                      color='C0', marker='o', ls='-', fillstyle='full',\n",
    "                      label='Tunneling rate',#, $T_{trajectory} = 1$',\n",
    "                      capsize=1.5, capthick=1.5, alpha=0.75)\n",
    "eb = axes[0].errorbar(temp_arr, acceptance_rates_avg, yerr=acceptance_rates_err,\n",
    "                      color='C1', marker='s', ls='--', fillstyle='full',\n",
    "                      label='Acceptance rate',\n",
    "                      capsize=1.5, capthick=1.5, alpha=0.75)\n",
    "eb1 = axes[1].errorbar(temp_arr, distances_avg, yerr=distances_err,\n",
    "                       color='C2', marker='^', ls='-.', fillstyle='full',\n",
    "                       label='Avg. Distance / step',\n",
    "                       capsize=1.5, capthick=1.5, alpha=0.75)\n",
    "str0 = (f\"3 in 3 dims, \")\n",
    "str1 = (r'$\\mathcal{N}_{\\hat \\mu}(\\sqrt{2}\\hat \\mu;$'\n",
    "        + r'${{{0}}});$  '.format(0.05))\n",
    "title_str = str0 + str1 + r'$T_{trajectory} = 1$'\n",
    "title = axes[0].set_title(title_str)#, fontsize=0)\n",
    "xlabel = axes[1].set_xlabel('Temperature', fontsize=12)\n",
    "grid = axes[0].grid(True)\n",
    "grid = axes[1].grid(True)\n",
    "legend = axes[0].legend(loc='best', fontsize=10)\n",
    "legend = axes[1].legend(loc='best', fontsize=10)\n",
    "xlim = axes[0].set_xlim(axes[0].get_xlim()[::-1])\n",
    "xlim = axes[1].set_xlim(axes[1].get_xlim()[::-1])\n",
    "grid = axes[0].grid(True)\n",
    "grid = axes[1].grid(True)\n",
    "fig.tight_layout()\n",
    "out_file = figs_dir + 'tr_ar_dist_temp_lowT.pdf'\n",
    "out_fig = plt.savefig(out_file,  dpi=400, bbox_inches='tight')\n",
    "plt.show()"
   ]
  },
  {
   "cell_type": "code",
   "execution_count": null,
   "metadata": {
    "ExecuteTime": {
     "end_time": "2018-08-26T10:10:56.745265Z",
     "start_time": "2018-08-26T10:10:54.040022Z"
    },
    "code_folding": [
     1,
     5,
     9,
     14
    ],
    "scrolled": false
   },
   "outputs": [],
   "source": [
    "fig, axes = plt.subplots(2)\n",
    "eb = axes[0].errorbar(steps_arr, tunneling_rates_avg_highT, yerr=tunneling_rates_err_highT,\n",
    "                 color='C0', marker='o', ls='-', fillstyle='full',\n",
    "                 label='Tunneling rate',#, $T_{trajectory} = 1$',\n",
    "                 capsize=1.5, capthick=1.5, alpha=0.75)\n",
    "eb = axes[0].errorbar(steps_arr, acceptance_rates_avg_highT, yerr=acceptance_rates_err_highT,\n",
    "                 color='C1', marker='s', ls='--', fillstyle='full',\n",
    "                 label='Acceptance rate',\n",
    "                 capsize=1.5, capthick=1.5, alpha=0.75)\n",
    "eb1 = axes[1].errorbar(steps_arr, distances_avg_highT, yerr=distances_err_highT,\n",
    "                 color='C2', marker='^', ls='-.', fillstyle='full',\n",
    "                 label='Avg. Distance / step',\n",
    "                 capsize=1.5, capthick=1.5, alpha=0.75)\n",
    "str0 = (f\"3 in 3 dims, \")\n",
    "str1 = (r'$\\mathcal{N}_{\\hat \\mu}(\\sqrt{2}\\hat \\mu;$'\n",
    "        + r'${{{0}}});$  '.format(0.05))\n",
    "title_str = str0 + str1 + r'$T_{trajectory} > 1$'\n",
    "title = axes[0].set_title(title_str)#, fontsize=0)\n",
    "xlabel = axes[1].set_xlabel('Training step',fontsize=12)\n",
    "grid = axes[0].grid(True)\n",
    "grid = axes[1].grid(True)\n",
    "legend = axes[0].legend(loc='best', fontsize=10)\n",
    "legend = axes[1].legend(loc='best', fontsize=10)\n",
    "fig.tight_layout()\n",
    "out_file = figs_dir + 'tr_ar_dist_vs_step_highT.pdf'\n",
    "out_fig = plt.savefig(out_file,  dpi=400, bbox_inches='tight')"
   ]
  },
  {
   "cell_type": "code",
   "execution_count": null,
   "metadata": {
    "ExecuteTime": {
     "end_time": "2018-08-26T10:10:59.622913Z",
     "start_time": "2018-08-26T10:10:56.747853Z"
    },
    "code_folding": [
     1,
     5,
     9,
     14
    ],
    "scrolled": false
   },
   "outputs": [],
   "source": [
    "fig, axes = plt.subplots(2)\n",
    "eb = axes[0].errorbar(steps_arr, tunneling_rates_avg, yerr=tunneling_rates_err,\n",
    "                      color='C0', marker='o', ls='-', fillstyle='full',\n",
    "                      label='Tunneling rate',#, $T_{trajectory} = 1$',\n",
    "                      capsize=1.5, capthick=1.5, alpha=0.75)\n",
    "eb = axes[0].errorbar(steps_arr, acceptance_rates_avg, yerr=acceptance_rates_err,\n",
    "                      color='C1', marker='s', ls='--', fillstyle='full',\n",
    "                      label='Acceptance rate',\n",
    "                      capsize=1.5, capthick=1.5, alpha=0.75)\n",
    "eb1 = axes[1].errorbar(steps_arr, distances_avg, yerr=distances_err,\n",
    "                       color='C2', marker='^', ls='-.', fillstyle='full',\n",
    "                       label='Avg. Distance / step',\n",
    "                       capsize=1.5, capthick=1.5, alpha=0.75)\n",
    "str0 = (f\"3 in 3 dims, \")\n",
    "str1 = (r'$\\mathcal{N}_{\\hat \\mu}(\\sqrt{2}\\hat \\mu;$'\n",
    "        + r'${{{0}}});$  '.format(0.05))\n",
    "title_str = str0 + str1 + r'$T_{trajectory} = 1$'\n",
    "title = axes[0].set_title(title_str)#, fontsize=0)\n",
    "xlabel = axes[1].set_xlabel('Training step',fontsize=12)\n",
    "grid = axes[0].grid(True)\n",
    "grid = axes[1].grid(True)\n",
    "legend = axes[0].legend(loc='best', fontsize=10)\n",
    "legend = axes[1].legend(loc='best', fontsize=10)\n",
    "fig.tight_layout()\n",
    "out_file = figs_dir + 'tr_ar_dist_vs_step_lowT.pdf'\n",
    "out_fig = plt.savefig(out_file,  dpi=400, bbox_inches='tight')"
   ]
  },
  {
   "cell_type": "code",
   "execution_count": null,
   "metadata": {
    "ExecuteTime": {
     "end_time": "2018-08-26T17:23:46.968385Z",
     "start_time": "2018-08-26T17:23:46.333604Z"
    },
    "scrolled": false
   },
   "outputs": [],
   "source": [
    "fig, ax = plt.subplots()\n",
    "ax.plot(steps_arr, temp_arr, marker='.', ls='-', fillstyle='full', alpha=0.75)\n",
    "ax.set_xlabel('Training Step')\n",
    "ax.set_ylabel('Temperature')\n",
    "\n",
    "str0 = (f\"3 in 3 dims, \")\n",
    "str1 = (r'$\\mathcal{N}_{\\hat \\mu}(\\sqrt{2}\\hat \\mu;$'\n",
    "        + r'${{{0}}});$  '.format(0.05))\n",
    "title_str = str0 + str1# + r'$T_{trajectory} = 1$'\n",
    "title = ax.set_title(title_str)#, fontsize=0)\n",
    "grid = ax.grid(True)\n",
    "fig.tight_layout()\n",
    "out_file = figs_dir + 'temperature_vs_training_step.pdf'\n",
    "out_fig = plt.savefig(out_file,  dpi=400, bbox_inches='tight')"
   ]
  },
  {
   "cell_type": "code",
   "execution_count": null,
   "metadata": {},
   "outputs": [],
   "source": []
  },
  {
   "cell_type": "markdown",
   "metadata": {
    "heading_collapsed": true
   },
   "source": [
    "## LESS OLD"
   ]
  },
  {
   "cell_type": "code",
   "execution_count": null,
   "metadata": {
    "ExecuteTime": {
     "end_time": "2018-08-23T23:57:53.040743Z",
     "start_time": "2018-08-23T23:57:51.577098Z"
    },
    "hidden": true,
    "scrolled": false
   },
   "outputs": [],
   "source": [
    "#with plt.xkcd():\n",
    "len_trajectory = 2000\n",
    "fig, ax = plt.subplots()\n",
    "eb0 = ax.errorbar(steps_arr, tunneling_rates_avg, yerr=tunneling_rates_err,\n",
    "                 color='C0', marker='o', ls='-', fillstyle='full',\n",
    "                 label='Tunneling rate',#, $T_{trajectory} = 1$',\n",
    "                 capsize=1.5, capthick=1.5, alpha=0.75)\n",
    "eb1 = ax.errorbar(steps_arr, acceptance_rates_avg, yerr=acceptance_rates_err,\n",
    "                 color='C1', marker='s', ls='--', fillstyle='full',\n",
    "                 label='Acceptance rate',\n",
    "                 capsize=1.5, capthick=1.5, alpha=0.75)\n",
    "eb1 = ax.errorbar(steps_arr, distances_avg, yerr=distances_err,\n",
    "                 color='C2', marker='^', ls='-.', fillstyle='full',\n",
    "                 label='Avg. Distance / step',\n",
    "                 capsize=1.5, capthick=1.5, alpha=0.75)\n",
    "#ax.axhline(y=1., color='slategrey', ls='-')\n",
    "#ax.text(23500, 0.03, r'$T_{trajectory} = 1$', fontsize=20, color='C0')\n",
    "str0 = (f\"3 in 3 dims, \")\n",
    "str1 = (r'$\\mathcal{N}_{\\hat \\mu}(\\sqrt{2}\\hat \\mu;$'\n",
    "        + r'${{{0}}});$  '.format(0.05))\n",
    "#str1 = r' $(\\hat\\mu = 1, 2, 3)$;    '\n",
    "title_str = str0 + str1 + r'$T_{trajectory} = 1$'\n",
    "\n",
    "title = ax.set_title(title_str)#, fontsize=0)\n",
    "\n",
    "xlabel = ax.set_xlabel('Training step')#, fontsize=12)\n",
    "grid = ax.grid(True)\n",
    "\n",
    "legend = ax.legend(loc='best', fontsize=9)\n",
    "fig.tight_layout()\n",
    "plt.show()\n",
    "out_file = figs_dir + 'tunneling_rate_acceptance_rate_training_step_T1.pdf'\n",
    "print(f'Saving figure to: {out_file}')\n",
    "out_fig = plt.savefig(out_file, dpi=400, bbox_inches='tight')"
   ]
  },
  {
   "cell_type": "code",
   "execution_count": null,
   "metadata": {
    "ExecuteTime": {
     "end_time": "2018-08-23T23:55:41.745635Z",
     "start_time": "2018-08-23T23:55:40.664465Z"
    },
    "hidden": true,
    "scrolled": false
   },
   "outputs": [],
   "source": [
    "fig, ax = plt.subplots()\n",
    "eb = ax.errorbar(temp_arr, tunneling_rates_avg, yerr=tunneling_rates_err,\n",
    "                 color='C0', marker='o', ls='-', fillstyle='full',\n",
    "                 label='Tunneling rate',#, $T_{trajectory} = 1$',\n",
    "                 capsize=1.5, capthick=1.5, alpha=0.75)\n",
    "eb = ax.errorbar(temp_arr, acceptance_rates_avg, yerr=acceptance_rates_err,\n",
    "                 color='C1', marker='s', ls='--', fillstyle='full',\n",
    "                 label='Acceptance rate',\n",
    "                 capsize=1.5, capthick=1.5, alpha=0.75)\n",
    "eb1 = ax.errorbar(temp_arr, distances_avg, yerr=distances_err,\n",
    "                 color='C2', marker='^', ls='-.', fillstyle='full',\n",
    "                 label='Avg. Distance / step',\n",
    "                 capsize=1.5, capthick=1.5, alpha=0.75)\n",
    "str0 = (f\"3 in 3 dims, \")\n",
    "str1 = (r'$\\mathcal{N}_{\\hat \\mu}(\\sqrt{2}\\hat \\mu;$'\n",
    "        + r'${{{0}}});$  '.format(0.05))\n",
    "title_str = str0 + str1 + r'$T_{trajectory} = 1$'\n",
    "title = ax.set_title(title_str)#, fontsize=0)\n",
    "\n",
    "xlabel = ax.set_xlabel('Training temperature', fontsize=12)\n",
    "xlim = ax.set_xlim(ax.get_xlim()[::-1])\n",
    "grid = ax.grid(True)\n",
    "\n",
    "legend = ax.legend(loc='best', fontsize=9)\n",
    "fig.tight_layout()\n",
    "out_fig = plt.savefig(figs_dir + 'tunneling_rate_acceptance_rate_training_temp_T1.pdf', \n",
    "            dpi=400, bbox_inches='tight')\n",
    "#plt.show()"
   ]
  },
  {
   "cell_type": "code",
   "execution_count": null,
   "metadata": {
    "hidden": true
   },
   "outputs": [],
   "source": []
  },
  {
   "cell_type": "markdown",
   "metadata": {
    "heading_collapsed": true
   },
   "source": [
    "## OLD"
   ]
  },
  {
   "cell_type": "code",
   "execution_count": null,
   "metadata": {
    "ExecuteTime": {
     "end_time": "2018-08-23T15:40:10.733047Z",
     "start_time": "2018-08-23T15:40:06.447743Z"
    },
    "hidden": true,
    "scrolled": false
   },
   "outputs": [],
   "source": [
    "fig, axes = plt.subplots(2)\n",
    "eb = axes[1].errorbar(steps_arr, tunneling_rates_avg, yerr=tunneling_rates_err,\n",
    "                      color='C0', marker='o', ls='-', fillstyle='full',\n",
    "                      label='Tunneling rate',#, $T_{trajectory} = 1$',\n",
    "                      capsize=1.5, capthick=1.5, alpha=0.75)\n",
    "eb1 = axes[1].errorbar(steps_arr, acceptance_rates_avg, yerr=acceptance_rates_err,\n",
    "                       color='C1', marker='s', ls='--', fillstyle='full',\n",
    "                       label='Acceptance rate',\n",
    "                       capsize=1.5, capthick=1.5, alpha=0.75)\n",
    "title = axes[1].set_title(r'$T_{trajectory} = 1$', fontsize=20, color='C0')\n",
    "xlabel = axes[1].set_xlabel('Training step', fontsize=12)\n",
    "grid = axes[1].grid(True)\n",
    "leg = axes[1].legend(loc='best', fontsize=10)\n",
    "\n",
    "eb2 = axes[0].errorbar(temp_arr, tunneling_rates_avg_highT, yerr=tunneling_rates_err_highT,\n",
    "                       color='C0', marker='o', ls='-', fillstyle='full',\n",
    "                       label='Tunneling rate',\n",
    "                       capsize=1.5, capthick=1.5, alpha=0.75)\n",
    "eb3 = axes[0].errorbar(temp_arr, acceptance_rates_avg_highT, yerr=acceptance_rates_err_highT,\n",
    "                       color='C1', marker='s', ls='--', fillstyle='full',\n",
    "                       label='Acceptance rate',\n",
    "                       capsize=1.5, capthick=1.5, alpha=0.75)\n",
    "xlim = axes[0].set_xlim(axes[0].get_xlim()[::-1])\n",
    "title = axes[0].set_title('$T_{trajectory} > 1$', fontsize=20, color='C1')\n",
    "xlabel = axes[0].set_xlabel('Temperature', fontsize=12)\n",
    "legend = axes[0].legend(loc='best', fontsize=10)\n",
    "grid = axes[0].grid(True)\n",
    "fig.tight_layout()\n",
    "out_file = '/Users/saforem2/tunneling_rate_acceptance_rate_both1.png' \n",
    "print(f'Saving figure to: {out_file}')\n",
    "out_fig = plt.savefig(out_file, dpi=400, bbox_inches='tight')"
   ]
  },
  {
   "cell_type": "code",
   "execution_count": null,
   "metadata": {
    "ExecuteTime": {
     "end_time": "2018-08-23T00:15:56.457968Z",
     "start_time": "2018-08-23T00:15:54.222117Z"
    },
    "hidden": true
   },
   "outputs": [],
   "source": [
    "fig, axes = plt.subplots(2,2)\n",
    "fig.subplots_adjust(wspace=0.3, hspace=0.5)\n",
    "\n",
    "eb00 = axes[0][1].errorbar(steps_arr, tunneling_rates_avg, yerr=tunneling_rates_err,\n",
    "                           color='C0', marker='o', ls='-', fillstyle='full',\n",
    "                           label='Tunneling rate',#, $T_{trajectory} = 1$',\n",
    "                           capsize=1.5, capthick=1.5, alpha=0.75)\n",
    "eb01 = axes[0][1].errorbar(steps_arr, acceptance_rates_avg, yerr=acceptance_rates_err,\n",
    "                           color='C1', marker='s', ls='--', fillstyle='full',\n",
    "                           label='Acceptance rate',\n",
    "                           capsize=1.5, capthick=1.5, alpha=0.75)\n",
    "xlab = axes[0][1].set_xlabel('Training step')#, fontsize=12)\n",
    "tit = axes[0][1].set_title('$T_{trajectory} = 1$', color='C0')# fontsize=20, color='C0')#, y=1.15)\n",
    "grid = axes[0][1].grid(True)\n",
    "#leg0 = axes[0][1].legend(loc='best', fontsize=8)\n",
    "\n",
    "eb10 = axes[1][1].errorbar(temp_arr, tunneling_rates_avg, yerr=tunneling_rates_err,\n",
    "                           color='C0', marker='o', ls='-', fillstyle='full',\n",
    "                           label='Tunneling rate',\n",
    "                           capsize=1.5, capthick=1.5, alpha=0.75)\n",
    "eb11 = axes[1][1].errorbar(temp_arr, acceptance_rates_avg, yerr=acceptance_rates_err,\n",
    "                           color='C1', marker='s', ls='--', fillstyle='full',\n",
    "                           label='Acceptance rate',\n",
    "                           capsize=1.5, capthick=1.5, alpha=0.75)\n",
    "eb12 = axes[1][1].set_xlim(axes[1][1].get_xlim()[::-1])\n",
    "xlab = axes[1][1].set_xlabel('Temperature')#, fontsize=12)\n",
    "#leg = axes[1][1].legend(loc='best', fontsize=8)\n",
    "grid = axes[1][1].grid(True)\n",
    "\n",
    "eb12 = axes[0][0].errorbar(steps_arr, tunneling_rates_avg_highT, yerr=tunneling_rates_err_highT,\n",
    "                           color='C0', marker='o', ls='-', fillstyle='full',\n",
    "                           label='Tunneling rate',#, $T_{trajectory} = 1$',\n",
    "                           capsize=1.5, capthick=1.5, alpha=0.75)\n",
    "eb13 = axes[0][0].errorbar(steps_arr, acceptance_rates_avg_highT, yerr=acceptance_rates_err_highT,\n",
    "                           color='C1', marker='s', ls='--', fillstyle='full',\n",
    "                           label='Acceptance rate',\n",
    "                           capsize=1.5, capthick=1.5, alpha=0.75)\n",
    "xlab = axes[0][0].set_xlabel('Training step')#, fontsize=12)\n",
    "tit = axes[0][0].set_title('$T_{trajectory} > 1$', color='C1')#, fontsize=20, color='C1')#, y=1.15)\n",
    "grid = axes[0][0].grid(True)\n",
    "leg = axes[0][0].legend(loc='best', fontsize=8)\n",
    "\n",
    "eb22 = axes[1][0].errorbar(temp_arr, tunneling_rates_avg_highT, yerr=tunneling_rates_err_highT,\n",
    "                           color='C0', marker='o', ls='-', fillstyle='full',\n",
    "                           #label='Tunneling rate',\n",
    "                           capsize=1.5, capthick=1.5, alpha=0.75)\n",
    "eb23 = axes[1][0].errorbar(temp_arr, acceptance_rates_avg_highT, yerr=acceptance_rates_err_highT,\n",
    "                           color='C1', marker='s', ls='--', fillstyle='full',\n",
    "                           #label='Acceptance rate',\n",
    "                           capsize=1.5, capthick=1.5, alpha=0.75)\n",
    "eb33 = axes[1][0].set_xlim(axes[1][0].get_xlim()[::-1])\n",
    "_ = axes[1][0].set_xlabel('Temperature')#, fontsize=12)\n",
    "#_ = axes[1][0].legend(loc='best', fontsize=8)\n",
    "_ = axes[1][0].grid(True)\n",
    "#_ = fig.legend(loc='best', fontsize=8)\n",
    "#_ = fig.legend(bbox_to_anchor=(0.62, 0.52), borderaxespad=0., fontsize=9)\n",
    "\n",
    "out_fig = plt.savefig(figs_dir + 'tunneling_rate_acceptance_rate_all.pdf',\n",
    "            dpi=400, bbox_inches='tight')"
   ]
  },
  {
   "cell_type": "code",
   "execution_count": null,
   "metadata": {
    "ExecuteTime": {
     "end_time": "2018-08-23T00:15:21.922438Z",
     "start_time": "2018-08-23T00:15:19.923860Z"
    },
    "hidden": true,
    "scrolled": false
   },
   "outputs": [],
   "source": [
    "fig, ax = plt.subplots()\n",
    "eb = ax.errorbar(temp_arr, tunneling_rates_avg, yerr=tunneling_rates_err,\n",
    "                 color='C0', marker='o', ls='-', fillstyle='full',\n",
    "                 label='Tunneling rate, $T_{trajectory} = 1$',\n",
    "                 capsize=1.5, capthick=1.5, alpha=0.75)\n",
    "eb = ax.errorbar(temp_arr, acceptance_rates_avg, yerr=acceptance_rates_err,\n",
    "            color='C1', marker='s', ls='--', fillstyle='full',\n",
    "            label='Acceptance rate, $T_{trajectory} = 1$',\n",
    "            capsize=1.5, capthick=1.5, alpha=0.75)\n",
    "eb = ax.errorbar(temp_arr, tunneling_rates_avg_highT, yerr=tunneling_rates_err_highT,\n",
    "                 color='C2', marker='o', ls='-', fillstyle='full',\n",
    "                 label='Tunneling rate, $T_{trajectory} > 1$',\n",
    "                 capsize=1.5, capthick=1.5, alpha=0.75)\n",
    "eb = ax.errorbar(temp_arr, acceptance_rates_avg_highT, yerr=acceptance_rates_err_highT,\n",
    "                 color='C3', marker='s', ls='--', fillstyle='full',\n",
    "                 label='Acceptance rate, $T_{trajectory} > 1$',\n",
    "                 capsize=1.5, capthick=1.5, alpha=0.75)\n",
    "xlabel = ax.set_xlabel('Temperature', fontsize=12)\n",
    "xlim = ax.set_xlim(ax.get_xlim()[::-1])\n",
    "legend = ax.legend(loc='best')#, fontsize=9)#, alpha=0.6)\n",
    "plt.grid(True)\n",
    "fig.tight_layout()\n",
    "out_fig = plt.savefig(figs_dir + 'tunneling_rate_acceptance_rate_vs_temp_all1.pdf', \n",
    "            dpi=400, bbox_inches='tight')\n",
    "plt.show()"
   ]
  },
  {
   "cell_type": "code",
   "execution_count": null,
   "metadata": {
    "ExecuteTime": {
     "end_time": "2018-08-23T00:15:23.888004Z",
     "start_time": "2018-08-23T00:15:21.935852Z"
    },
    "hidden": true,
    "scrolled": false
   },
   "outputs": [],
   "source": [
    "fig, ax = plt.subplots()\n",
    "eb = ax.errorbar(steps_arr, tunneling_rates_avg, yerr=tunneling_rates_err,\n",
    "                 #color='C0', \n",
    "                 marker='o', ls='-', fillstyle='full',\n",
    "                 label='Tunneling rate, $T_{trajectory} = 1$',\n",
    "                 capsize=1.5, capthick=1.5, alpha=0.75)\n",
    "eb = ax.errorbar(steps_arr, acceptance_rates_avg, yerr=acceptance_rates_err,\n",
    "                 #color='C1', \n",
    "                 marker='s', ls='--', fillstyle='full',\n",
    "                 label='Acceptance rate, $T_{trajectory} = 1$',\n",
    "                 capsize=1.5, capthick=1.5, alpha=0.75)\n",
    "eb = ax.errorbar(steps_arr, tunneling_rates_avg_highT, yerr=tunneling_rates_err_highT,\n",
    "                 #color='C2', \n",
    "                 marker='o', ls='-', fillstyle='full',\n",
    "                 label='Tunneling rate, $T_{trajectory} > 1$',\n",
    "                 capsize=1.5, capthick=1.5, alpha=0.75)\n",
    "eb = ax.errorbar(steps_arr, acceptance_rates_avg_highT, yerr=acceptance_rates_err_highT,\n",
    "                 #color='C3', \n",
    "                 marker='s', ls='--', fillstyle='full',\n",
    "                 label='Acceptance rate, $T_{trajectory} > 1$',\n",
    "                 capsize=1.5, capthick=1.5, alpha=0.75)\n",
    "xlabel = ax.set_xlabel('Training step')#, fontsize=12)\n",
    "ax.grid(True)\n",
    "#xlim = ax.set_xlim(ax.get_xlim()[::-1])\n",
    "legend = ax.legend(loc='best')#, fontsize=9)#, fontsize=9)#, alpha=0.6)\n",
    "fig.tight_layout()\n",
    "out_fig = plt.savefig(figs_dir + 'tunneling_rate_acceptance_rate_vs_step_all1.pdf', \n",
    "            dpi=400, bbox_inches='tight')\n",
    "plt.show()"
   ]
  },
  {
   "cell_type": "code",
   "execution_count": null,
   "metadata": {
    "hidden": true
   },
   "outputs": [],
   "source": []
  },
  {
   "cell_type": "code",
   "execution_count": null,
   "metadata": {
    "hidden": true
   },
   "outputs": [],
   "source": []
  },
  {
   "cell_type": "code",
   "execution_count": null,
   "metadata": {
    "hidden": true
   },
   "outputs": [],
   "source": []
  },
  {
   "cell_type": "code",
   "execution_count": null,
   "metadata": {
    "hidden": true
   },
   "outputs": [],
   "source": []
  },
  {
   "cell_type": "code",
   "execution_count": null,
   "metadata": {
    "hidden": true
   },
   "outputs": [],
   "source": []
  }
 ],
 "metadata": {
  "hide_input": false,
  "kernelspec": {
   "display_name": "Python 3",
   "language": "python",
   "name": "python3"
  },
  "language_info": {
   "codemirror_mode": {
    "name": "ipython",
    "version": 3
   },
   "file_extension": ".py",
   "mimetype": "text/x-python",
   "name": "python",
   "nbconvert_exporter": "python",
   "pygments_lexer": "ipython3",
   "version": "3.6.5"
  },
  "latex_envs": {
   "LaTeX_envs_menu_present": true,
   "autoclose": false,
   "autocomplete": true,
   "bibliofile": "biblio.bib",
   "cite_by": "apalike",
   "current_citInitial": 1,
   "eqLabelWithNumbers": true,
   "eqNumInitial": 1,
   "hotkeys": {
    "equation": "Ctrl-E",
    "itemize": "Ctrl-I"
   },
   "labels_anchors": false,
   "latex_user_defs": false,
   "report_style_numbering": false,
   "user_envs_cfg": false
  },
  "varInspector": {
   "cols": {
    "lenName": 16,
    "lenType": 16,
    "lenVar": 40
   },
   "kernels_config": {
    "python": {
     "delete_cmd_postfix": "",
     "delete_cmd_prefix": "del ",
     "library": "var_list.py",
     "varRefreshCmd": "print(var_dic_list())"
    },
    "r": {
     "delete_cmd_postfix": ") ",
     "delete_cmd_prefix": "rm(",
     "library": "var_list.r",
     "varRefreshCmd": "cat(var_dic_list()) "
    }
   },
   "types_to_exclude": [
    "module",
    "function",
    "builtin_function_or_method",
    "instance",
    "_Feature"
   ],
   "window_display": false
  }
 },
 "nbformat": 4,
 "nbformat_minor": 2
}
