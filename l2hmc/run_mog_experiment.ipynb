{
 "cells": [
  {
   "cell_type": "code",
   "execution_count": 8,
   "metadata": {
    "ExecuteTime": {
     "end_time": "2018-08-22T11:19:38.580047Z",
     "start_time": "2018-08-22T11:19:38.532297Z"
    }
   },
   "outputs": [],
   "source": [
    "import matplotlib.pyplot as plt"
   ]
  },
  {
   "cell_type": "code",
   "execution_count": 9,
   "metadata": {
    "ExecuteTime": {
     "end_time": "2018-08-22T11:19:40.134718Z",
     "start_time": "2018-08-22T11:19:40.072758Z"
    }
   },
   "outputs": [],
   "source": [
    "from mog_experiment import *"
   ]
  },
  {
   "cell_type": "code",
   "execution_count": 10,
   "metadata": {
    "ExecuteTime": {
     "end_time": "2018-08-22T11:19:42.294039Z",
     "start_time": "2018-08-22T11:19:42.220970Z"
    },
    "code_folding": [
     8
    ]
   },
   "outputs": [],
   "source": [
    "X_DIM = 2\n",
    "NUM_DISTRIBUTIONS = 2\n",
    "\n",
    "MEANS = np.zeros((X_DIM, X_DIM), dtype=np.float32)\n",
    "CENTERS = np.sqrt(2)  # center of Gaussian\n",
    "for i in range(NUM_DISTRIBUTIONS):\n",
    "    MEANS[i::NUM_DISTRIBUTIONS, i] = CENTERS\n",
    "\n",
    "params = {                          # default parameter values\n",
    "    'x_dim': X_DIM,\n",
    "    'num_distributions': NUM_DISTRIBUTIONS,\n",
    "    'means': MEANS,\n",
    "    'sigma': 0.05,\n",
    "    'small_pi': 2E-16,\n",
    "    'scale': 0.1,\n",
    "    'num_samples': 200,\n",
    "    'lr_init': 1e-3,\n",
    "    'lr_decay_steps': 1000,\n",
    "    'eps': 0.3,\n",
    "    'temp_init': 20,\n",
    "    'annealing_steps': 200,\n",
    "    'annealing_rate': 0.98,\n",
    "    'train_trajectory_length': 10,\n",
    "    'test_trajectory_length': 2000,\n",
    "    'num_training_steps': 25000,\n",
    "    'tunneling_rate_steps': 1000,\n",
    "    'save_steps': 2500,\n",
    "    'logging_steps': 100\n",
    "}"
   ]
  },
  {
   "cell_type": "code",
   "execution_count": 11,
   "metadata": {
    "ExecuteTime": {
     "end_time": "2018-08-22T11:19:46.402788Z",
     "start_time": "2018-08-22T11:19:46.333641Z"
    }
   },
   "outputs": [],
   "source": [
    "tf.reset_default_graph()"
   ]
  },
  {
   "cell_type": "code",
   "execution_count": 12,
   "metadata": {
    "ExecuteTime": {
     "end_time": "2018-08-22T11:19:48.424380Z",
     "start_time": "2018-08-22T11:19:48.343046Z"
    }
   },
   "outputs": [
    {
     "name": "stdout",
     "output_type": "stream",
     "text": [
      "Creating directory for new run: ../log_mog_tf/run56/\n"
     ]
    }
   ],
   "source": [
    "model = GaussianMixtureModel(params)"
   ]
  },
  {
   "cell_type": "code",
   "execution_count": null,
   "metadata": {
    "ExecuteTime": {
     "start_time": "2018-08-22T11:20:17.527Z"
    }
   },
   "outputs": [
    {
     "name": "stdout",
     "output_type": "stream",
     "text": [
      "params file written to: ../log_mog_tf/run56/run_info/parameters.txt\n",
      "Step: 0/25000, Loss: -192.8, accept rate: 0.92, LR: 0.001, temp: 20, step size: 0.3\n",
      "\n",
      "Step: 100/25000, Loss: -201.4, accept rate: 0.96, LR: 0.001, temp: 19.6, step size: 0.308\n",
      "\n",
      "Step: 200/25000, Loss: -222.7, accept rate: 0.95, LR: 0.001, temp: 19.6, step size: 0.309\n",
      "\n",
      "Step: 300/25000, Loss: -218.7, accept rate: 0.94, LR: 0.001, temp: 19.208, step size: 0.308\n",
      "\n",
      "Step: 400/25000, Loss: -208.2, accept rate: 0.91, LR: 0.001, temp: 19.208, step size: 0.314\n",
      "\n",
      "Step: 500/25000, Loss: -214.1, accept rate: 0.91, LR: 0.001, temp: 18.824, step size: 0.312\n",
      "\n",
      "Step: 600/25000, Loss: -252, accept rate: 0.91, LR: 0.001, temp: 18.824, step size: 0.31\n",
      "\n",
      "Step: 700/25000, Loss: -219.4, accept rate: 0.95, LR: 0.001, temp: 18.447, step size: 0.309\n",
      "\n",
      "Step: 800/25000, Loss: -237, accept rate: 0.95, LR: 0.001, temp: 18.447, step size: 0.309\n",
      "\n",
      "Step: 900/25000, Loss: -241.8, accept rate: 0.96, LR: 0.001, temp: 18.078, step size: 0.308\n",
      "\n",
      "\n",
      "\tStep: 1001, Tunneling rate avg: 0.004247, Tunneling rate err: 7.312e-07, temp: 1\n",
      " \tAverage loss: 359.1, Average acceptance: 0.365\n",
      "\n",
      "\tStep: 1001, Tunneling rate avg: 0.9381, Tunneling rate err: 2.994e-06, temp: 18.1\n",
      " \tAverage loss: -239.7, Average acceptance: 0.9644\n",
      "\n",
      "\tTime to calculate tunneling_rate: 00:01:42\n",
      "\tTime for 100 training steps: 00:00:31\n",
      "\tTotal time elapsed: 00:05:11\n",
      "\n",
      "Step: 1000/25000, Loss: -227.8, accept rate: 0.96, LR: 0.00096, temp: 18.078, step size: 0.307\n",
      "\n",
      "Step: 1100/25000, Loss: -234.5, accept rate: 0.97, LR: 0.00096, temp: 17.717, step size: 0.305\n",
      "\n",
      "Step: 1200/25000, Loss: -236.5, accept rate: 0.95, LR: 0.00096, temp: 17.717, step size: 0.305\n",
      "\n",
      "Step: 1300/25000, Loss: -238.1, accept rate: 0.97, LR: 0.00096, temp: 17.363, step size: 0.304\n",
      "\n",
      "Step: 1400/25000, Loss: -268.5, accept rate: 0.96, LR: 0.00096, temp: 17.363, step size: 0.301\n",
      "\n",
      "Step: 1500/25000, Loss: -221.8, accept rate: 0.97, LR: 0.00096, temp: 17.015, step size: 0.301\n",
      "\n",
      "Step: 1600/25000, Loss: -231.6, accept rate: 0.97, LR: 0.00096, temp: 17.015, step size: 0.301\n",
      "\n",
      "Step: 1700/25000, Loss: -245.6, accept rate: 0.96, LR: 0.00096, temp: 16.675, step size: 0.301\n",
      "\n",
      "Step: 1800/25000, Loss: -244.8, accept rate: 0.97, LR: 0.00096, temp: 16.675, step size: 0.3\n",
      "\n",
      "Step: 1900/25000, Loss: -249.1, accept rate: 0.96, LR: 0.00096, temp: 16.341, step size: 0.298\n",
      "\n",
      "\n",
      "\tStep: 2001, Tunneling rate avg: 0.003892, Tunneling rate err: 3.721e-07, temp: 1\n",
      " \tAverage loss: 461.5, Average acceptance: 0.3672\n",
      "\n",
      "\tStep: 2001, Tunneling rate avg: 0.9535, Tunneling rate err: 3.309e-06, temp: 16.3\n",
      " \tAverage loss: -232.9, Average acceptance: 0.9705\n",
      "\n",
      "\tTime to calculate tunneling_rate: 00:02:11\n",
      "\tTime for 100 training steps: 00:00:31\n",
      "\tTotal time elapsed: 00:10:22\n",
      "\n",
      "Step: 2000/25000, Loss: -258.6, accept rate: 0.97, LR: 0.000922, temp: 16.341, step size: 0.297\n",
      "\n",
      "Step: 2100/25000, Loss: -211.1, accept rate: 0.96, LR: 0.000922, temp: 16.015, step size: 0.296\n",
      "\n",
      "Step: 2200/25000, Loss: -226.1, accept rate: 0.96, LR: 0.000922, temp: 16.015, step size: 0.295\n",
      "\n",
      "Step: 2300/25000, Loss: -237.3, accept rate: 0.97, LR: 0.000922, temp: 15.694, step size: 0.294\n",
      "\n",
      "Step: 2400/25000, Loss: -217.6, accept rate: 0.98, LR: 0.000922, temp: 15.694, step size: 0.294\n",
      "\n",
      "Saving parameter values to: ../log_mog_tf/run56/run_info/\n",
      "done!\n",
      "\n",
      "Saving checkpoint to: ../log_mog_tf/run56/model.ckpt\n",
      "\n",
      "Step: 2500/25000, Loss: -247.4, accept rate: 0.96, LR: 0.000922, temp: 15.38, step size: 0.293\n",
      "\n"
     ]
    }
   ],
   "source": [
    "#config = tf.ConfigProto(log_device_placement=True)\n",
    "config = tf.ConfigProto()\n",
    "config.gpu_options.allow_growth = True\n",
    "model.build_graph()\n",
    "model.train(params['num_training_steps'], config=config, plot=False)"
   ]
  },
  {
   "cell_type": "code",
   "execution_count": null,
   "metadata": {
    "ExecuteTime": {
     "start_time": "2018-08-22T10:19:24.652Z"
    }
   },
   "outputs": [
    {
     "name": "stdout",
     "output_type": "stream",
     "text": [
      "params file written to: ../log_mog_tf/run54/run_info/parameters.txt\n",
      "Step: 0/25000, Loss: -195.8, accept rate: 0.92, LR: 0.001, temp: 20, step size: 0.3\n",
      "\n",
      "Step: 100/25000, Loss: -212.2, accept rate: 0.96, LR: 0.001, temp: 19.6, step size: 0.311\n",
      "\n",
      "Step: 200/25000, Loss: -231.3, accept rate: 0.94, LR: 0.001, temp: 19.6, step size: 0.314\n",
      "\n",
      "Step: 300/25000, Loss: -212.2, accept rate: 0.92, LR: 0.001, temp: 19.208, step size: 0.311\n",
      "\n",
      "Step: 400/25000, Loss: -209.4, accept rate: 0.93, LR: 0.001, temp: 19.208, step size: 0.31\n",
      "\n",
      "Step: 500/25000, Loss: -220.7, accept rate: 0.91, LR: 0.001, temp: 18.824, step size: 0.306\n",
      "\n",
      "Step: 600/25000, Loss: -213.1, accept rate: 0.89, LR: 0.001, temp: 18.824, step size: 0.303\n",
      "\n",
      "Step: 700/25000, Loss: -233.6, accept rate: 0.93, LR: 0.001, temp: 18.447, step size: 0.302\n",
      "\n",
      "Step: 800/25000, Loss: -233.4, accept rate: 0.95, LR: 0.001, temp: 18.447, step size: 0.302\n",
      "\n",
      "Step: 900/25000, Loss: -261.6, accept rate: 0.96, LR: 0.001, temp: 18.078, step size: 0.3\n",
      "\n",
      "\n",
      "\tStep: 1001, Tunneling rate avg: 0.00468, Tunneling rate err: 5.788e-07, temp: 1\n",
      " \tAverage loss: 574.8, Average acceptance: 0.2228\n",
      "\n",
      "\tStep: 1001, Tunneling rate avg: 0.9455, Tunneling rate err: 3.284e-06, temp: 18.1\n",
      " \tAverage loss: -231.1, Average acceptance: 0.964\n",
      "\n",
      "\tTime to calculate tunneling_rate: 00:01:49\n",
      "\tTime for 100 training steps: 00:00:31\n",
      "\tTotal time elapsed: 00:05:15\n",
      "\n",
      "Step: 1000/25000, Loss: -229.6, accept rate: 0.97, LR: 0.00096, temp: 18.078, step size: 0.3\n",
      "\n",
      "Step: 1100/25000, Loss: -242.7, accept rate: 0.97, LR: 0.00096, temp: 17.717, step size: 0.299\n",
      "\n",
      "Step: 1200/25000, Loss: -257.8, accept rate: 0.97, LR: 0.00096, temp: 17.717, step size: 0.299\n",
      "\n",
      "Step: 1300/25000, Loss: -243.1, accept rate: 0.96, LR: 0.00096, temp: 17.363, step size: 0.298\n",
      "\n",
      "Step: 1400/25000, Loss: -246.4, accept rate: 0.97, LR: 0.00096, temp: 17.363, step size: 0.297\n",
      "\n",
      "Step: 1500/25000, Loss: -244.3, accept rate: 0.96, LR: 0.00096, temp: 17.015, step size: 0.297\n",
      "\n",
      "Step: 1600/25000, Loss: -250.8, accept rate: 0.97, LR: 0.00096, temp: 17.015, step size: 0.297\n",
      "\n",
      "Step: 1700/25000, Loss: -250.4, accept rate: 0.97, LR: 0.00096, temp: 16.675, step size: 0.295\n",
      "\n",
      "Step: 1800/25000, Loss: -253.1, accept rate: 0.97, LR: 0.00096, temp: 16.675, step size: 0.295\n",
      "\n",
      "Step: 1900/25000, Loss: -235.2, accept rate: 0.98, LR: 0.00096, temp: 16.341, step size: 0.294\n",
      "\n",
      "\n",
      "\tStep: 2001, Tunneling rate avg: 0.006001, Tunneling rate err: 7.336e-07, temp: 1\n",
      " \tAverage loss: 480.3, Average acceptance: 0.2625\n",
      "\n",
      "\tStep: 2001, Tunneling rate avg: 0.9471, Tunneling rate err: 3.075e-06, temp: 16.3\n",
      " \tAverage loss: -231.4, Average acceptance: 0.9649\n",
      "\n",
      "\tTime to calculate tunneling_rate: 00:01:51\n",
      "\tTime for 100 training steps: 00:00:32\n",
      "\tTotal time elapsed: 00:10:49\n",
      "\n",
      "Step: 2000/25000, Loss: -229.7, accept rate: 0.96, LR: 0.000922, temp: 16.341, step size: 0.295\n",
      "\n",
      "Step: 2100/25000, Loss: -241, accept rate: 0.97, LR: 0.000922, temp: 16.015, step size: 0.293\n",
      "\n",
      "Step: 2200/25000, Loss: -228.2, accept rate: 0.97, LR: 0.000922, temp: 16.015, step size: 0.292\n",
      "\n",
      "Step: 2300/25000, Loss: -252.9, accept rate: 0.96, LR: 0.000922, temp: 15.694, step size: 0.291\n",
      "\n",
      "Step: 2400/25000, Loss: -235.9, accept rate: 0.97, LR: 0.000922, temp: 15.694, step size: 0.291\n",
      "\n",
      "Saving parameter values to: ../log_mog_tf/run54/run_info/\n",
      "done!\n",
      "\n",
      "Saving checkpoint to: ../log_mog_tf/run54/model.ckpt\n",
      "\n",
      "Step: 2500/25000, Loss: -235.8, accept rate: 0.97, LR: 0.000922, temp: 15.38, step size: 0.29\n",
      "\n",
      "Step: 2600/25000, Loss: -251.7, accept rate: 0.97, LR: 0.000922, temp: 15.38, step size: 0.29\n",
      "\n",
      "Step: 2700/25000, Loss: -225.5, accept rate: 0.97, LR: 0.000922, temp: 15.073, step size: 0.289\n",
      "\n",
      "Step: 2800/25000, Loss: -224.5, accept rate: 0.97, LR: 0.000922, temp: 15.073, step size: 0.289\n",
      "\n",
      "Step: 2900/25000, Loss: -228.8, accept rate: 0.97, LR: 0.000922, temp: 14.771, step size: 0.288\n",
      "\n",
      "\n",
      "\tStep: 3001, Tunneling rate avg: 0.01245, Tunneling rate err: 1.006e-06, temp: 1\n",
      " \tAverage loss: 523.8, Average acceptance: 0.2221\n",
      "\n",
      "\tStep: 3001, Tunneling rate avg: 0.957, Tunneling rate err: 3.443e-06, temp: 14.8\n",
      " \tAverage loss: -225.4, Average acceptance: 0.9682\n",
      "\n",
      "\tTime to calculate tunneling_rate: 00:01:52\n",
      "\tTime for 100 training steps: 00:00:32\n",
      "\tTotal time elapsed: 00:16:01\n",
      "\n",
      "Step: 3000/25000, Loss: -220.8, accept rate: 0.96, LR: 0.000885, temp: 14.771, step size: 0.287\n",
      "\n",
      "Step: 3100/25000, Loss: -214.8, accept rate: 0.97, LR: 0.000885, temp: 14.476, step size: 0.286\n",
      "\n"
     ]
    }
   ],
   "source": [
    "config = tf.ConfigProto(log_device_placement=True)\n",
    "config.gpu_options.allow_growth = True\n",
    "model.build_graph()\n",
    "model.train(params['num_training_steps'], config=config, plot=False)"
   ]
  },
  {
   "cell_type": "code",
   "execution_count": null,
   "metadata": {},
   "outputs": [],
   "source": []
  }
 ],
 "metadata": {
  "hide_input": false,
  "kernelspec": {
   "display_name": "Python 3",
   "language": "python",
   "name": "python3"
  },
  "language_info": {
   "codemirror_mode": {
    "name": "ipython",
    "version": 3
   },
   "file_extension": ".py",
   "mimetype": "text/x-python",
   "name": "python",
   "nbconvert_exporter": "python",
   "pygments_lexer": "ipython3",
   "version": "3.6.5"
  },
  "latex_envs": {
   "LaTeX_envs_menu_present": true,
   "autoclose": false,
   "autocomplete": true,
   "bibliofile": "biblio.bib",
   "cite_by": "apalike",
   "current_citInitial": 1,
   "eqLabelWithNumbers": true,
   "eqNumInitial": 1,
   "hotkeys": {
    "equation": "Ctrl-E",
    "itemize": "Ctrl-I"
   },
   "labels_anchors": false,
   "latex_user_defs": false,
   "report_style_numbering": false,
   "user_envs_cfg": false
  },
  "varInspector": {
   "cols": {
    "lenName": 16,
    "lenType": 16,
    "lenVar": 40
   },
   "kernels_config": {
    "python": {
     "delete_cmd_postfix": "",
     "delete_cmd_prefix": "del ",
     "library": "var_list.py",
     "varRefreshCmd": "print(var_dic_list())"
    },
    "r": {
     "delete_cmd_postfix": ") ",
     "delete_cmd_prefix": "rm(",
     "library": "var_list.r",
     "varRefreshCmd": "cat(var_dic_list()) "
    }
   },
   "types_to_exclude": [
    "module",
    "function",
    "builtin_function_or_method",
    "instance",
    "_Feature"
   ],
   "window_display": false
  }
 },
 "nbformat": 4,
 "nbformat_minor": 2
}
