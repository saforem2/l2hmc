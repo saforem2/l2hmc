{
 "cells": [
  {
   "cell_type": "markdown",
   "metadata": {},
   "source": [
    "## Initialization"
   ]
  },
  {
   "cell_type": "code",
   "execution_count": 3,
   "metadata": {
    "ExecuteTime": {
     "end_time": "2018-09-01T00:01:01.822433Z",
     "start_time": "2018-09-01T00:01:01.773567Z"
    }
   },
   "outputs": [],
   "source": [
    "import matplotlib.pyplot as plt\n",
    "from mog_model import *\n",
    "import pickle\n",
    "%autoreload 2"
   ]
  },
  {
   "cell_type": "code",
   "execution_count": 2,
   "metadata": {
    "ExecuteTime": {
     "end_time": "2018-09-01T00:00:57.286213Z",
     "start_time": "2018-09-01T00:00:57.213969Z"
    },
    "code_folding": []
   },
   "outputs": [],
   "source": [
    "X_DIM = 2\n",
    "NUM_DISTRIBUTIONS = 2\n",
    "\n",
    "MEANS = np.zeros((X_DIM, X_DIM), dtype=np.float32)\n",
    "CENTERS = np.sqrt(2)  # center of Gaussian\n",
    "for i in range(NUM_DISTRIBUTIONS):\n",
    "    MEANS[i::NUM_DISTRIBUTIONS, i] = CENTERS\n",
    "\n",
    "params = {                          # default parameter values\n",
    "    'x_dim': X_DIM,\n",
    "    'num_distributions': NUM_DISTRIBUTIONS,\n",
    "    'means': MEANS,\n",
    "    'sigma': 0.05,\n",
    "    'small_pi': 2E-16,\n",
    "    'scale': 0.1,\n",
    "    'num_samples': 200,\n",
    "    'lr_init': 1e-3,\n",
    "    'lr_decay_steps': 1000,\n",
    "    'lr_decay_rate': 0.96,\n",
    "    'eps': 0.5,\n",
    "    'temp_init': 20,\n",
    "    'annealing_steps': 200,\n",
    "    'annealing_rate': 0.98,\n",
    "    #'train_trajectory_length': 15,\n",
    "    #'test_trajectory_length': 2000,\n",
    "    'num_training_steps': 30000,\n",
    "    'tunneling_rate_steps': 500,\n",
    "    'save_steps': 1000,\n",
    "    'logging_steps': 100\n",
    "}"
   ]
  },
  {
   "cell_type": "markdown",
   "metadata": {},
   "source": [
    "## Build / Train model"
   ]
  },
  {
   "cell_type": "code",
   "execution_count": 4,
   "metadata": {
    "ExecuteTime": {
     "end_time": "2018-09-01T00:01:04.558157Z",
     "start_time": "2018-09-01T00:01:04.505074Z"
    }
   },
   "outputs": [],
   "source": [
    "tf.reset_default_graph()"
   ]
  },
  {
   "cell_type": "code",
   "execution_count": 5,
   "metadata": {
    "ExecuteTime": {
     "end_time": "2018-09-01T00:01:39.987502Z",
     "start_time": "2018-09-01T00:01:12.323099Z"
    }
   },
   "outputs": [
    {
     "name": "stdout",
     "output_type": "stream",
     "text": [
      "Creating directory for new run: ../log_mog_tf/run_236/\n",
      "Initial parameters written to ../log_mog_tf/run_236/run_info/_init_params.pkl.\n",
      "Saving parameter values to: ../log_mog_tf/run_236/run_info/\n",
      "params file written to: ../log_mog_tf/run_236/run_info/parameters.txt\n",
      "################################################################################\n",
      "Model parameters:\n",
      "x_dim: 2\n",
      "\n",
      "num_distributions: 2\n",
      "\n",
      "eps: 0.5\n",
      "\n",
      "scale: 0.1\n",
      "\n",
      "num_samples: 200\n",
      "\n",
      "sigma: 0.05\n",
      "\n",
      "small_pi: 2e-16\n",
      "\n",
      "lr_init: 0.001\n",
      "\n",
      "temp_init: 20\n",
      "\n",
      "annealing_steps: 200\n",
      "\n",
      "annealing_factor: 0.98\n",
      "\n",
      "num_training_steps: 30000\n",
      "\n",
      "tunneling_rate_steps: 500\n",
      "\n",
      "lr_decay_steps: 1000\n",
      "\n",
      "lr_decay_rate: 0.96\n",
      "\n",
      "logging_steps: 100\n",
      "\n",
      "save_steps: 1000\n",
      "\n",
      "annealing_rate: 0.98\n",
      "\n",
      "temp: 20\n",
      "\n",
      "step_init: 0\n",
      "\n",
      "log_dir: ../log_mog_tf/run_236/\n",
      "\n",
      "info_dir: ../log_mog_tf/run_236/run_info/\n",
      "\n",
      "figs_dir: ../log_mog_tf/run_236/figures/\n",
      "\n",
      "trajectory_length: 3.0\n",
      "\n",
      "################################################################################\n",
      "\n",
      "\n"
     ]
    }
   ],
   "source": [
    "#%pdb\n",
    "config = tf.ConfigProto()\n",
    "config.gpu_options.allow_growth = True\n",
    "model = GaussianMixtureModel(params, \n",
    "                             config=config)\n",
    "                             #log_dir='../log_mog_tf/run192/')\n",
    "                             #log_dir='../log_mog_tf/run64/')"
   ]
  },
  {
   "cell_type": "code",
   "execution_count": 6,
   "metadata": {
    "ExecuteTime": {
     "end_time": "2018-09-01T00:08:31.801609Z",
     "start_time": "2018-09-01T00:02:42.964757Z"
    },
    "scrolled": false
   },
   "outputs": [
    {
     "name": "stdout",
     "output_type": "stream",
     "text": [
      "---------------------------------------------------------------------------------------\n",
      "    STEP       TEMP      LOSS      ACCEPT RATE      LR        STEP SIZE    TRAJ LEN   \n",
      "---------------------------------------------------------------------------------------\n",
      "    0/30000    19.6     -80.88       0.9205        0.001       0.5005          2      \n",
      "  100/30000    19.6     -190.8        0.921        0.001        0.546          2      \n",
      "  200/30000   19.21     -187.9       0.9626        0.001       0.5434          2      \n",
      "  300/30000   19.21     -193.6       0.9426        0.001       0.5427          2      \n",
      "  400/30000   18.82     -204.3       0.9458        0.001       0.5411          2      \n",
      "============================================================================================\n",
      "  STEP   TEMP  LOSS  ACCEPT %   ERR     TUNN %    ERR      DIST     ERR    STEP SIZE LENGTH\n",
      "============================================================================================\n",
      "  500     1    2000     0        0        0        0    1.399e-08 5.774e-10  0.5385     2   \n",
      "---------------------------------------------------------------------------------------------\n",
      "  500    18.8 -127.9  0.8952  0.008759  0.105   0.02067   0.4012  0.02874   0.5385     2   \n",
      "--------------------------------------------------------------------------------------------\n",
      "\n",
      "Time to calculate tunneling_rate: 00:00:02\n",
      "Time for 100 training steps: 00:00:13\n",
      "Total time elapsed: 00:01:07\n",
      "\n",
      "Saving figure to: ../log_mog_tf/run_236/figures/tr_ar_dist_steps_lowT.pdf\n",
      "Saving figure to: ../log_mog_tf/run_236/figures/tr_ar_dist_steps_highT.pdf\n",
      "Saving figure to: ../log_mog_tf/run_236/figures/tr_ar_dist_temps_lowT.pdf\n",
      "Saving figure to: ../log_mog_tf/run_236/figures/tr_ar_dist_temps_highT.pdf\n",
      "Nothing to compare to!\n",
      "---------------------------------------------------------------------------------------\n",
      "    STEP       TEMP      LOSS      ACCEPT RATE      LR        STEP SIZE    TRAJ LEN   \n",
      "---------------------------------------------------------------------------------------\n",
      "  500/30000   18.82     -203.2       0.9334        0.001       0.5384          2      \n",
      "  600/30000   18.45     -217.5       0.9595        0.001       0.5392          2      \n",
      "  700/30000   18.45     -216.2       0.9483        0.001       0.5392          2      \n",
      "  800/30000   18.08     -211.6       0.9439        0.001       0.5382          2      \n",
      "  900/30000   18.08     -215.7        0.958        0.001       0.5375          2      \n",
      "---------------------------------------------------------------------------------------\n",
      "    STEP       TEMP      LOSS      ACCEPT RATE      LR        STEP SIZE    TRAJ LEN   \n",
      "---------------------------------------------------------------------------------------\n",
      "Saving parameter values to: ../log_mog_tf/run_236/run_info/\n",
      "params file written to: ../log_mog_tf/run_236/run_info/parameters.txt\n",
      "Saving checkpoint to: ../log_mog_tf/run_236/model.ckpt\n",
      "\n",
      "============================================================================================\n",
      "  STEP   TEMP  LOSS  ACCEPT %   ERR     TUNN %    ERR      DIST     ERR    STEP SIZE LENGTH\n",
      "============================================================================================\n",
      "  1000    1    2000     0        0        0        0    1.555e-08 5.702e-10  0.5389     2   \n",
      "---------------------------------------------------------------------------------------------\n",
      "  1000   18.1 -145.3  0.8296  0.008354   0.34   0.03722   0.5912  0.04449   0.5389     2   \n",
      "--------------------------------------------------------------------------------------------\n",
      "\n",
      "Time to calculate tunneling_rate: 00:00:00\n",
      "Time for 100 training steps: 00:00:11\n",
      "Total time elapsed: 00:01:57\n",
      "\n",
      "Saving figure to: ../log_mog_tf/run_236/figures/tr_ar_dist_steps_lowT.pdf\n",
      "Saving figure to: ../log_mog_tf/run_236/figures/tr_ar_dist_steps_highT.pdf\n",
      "Saving figure to: ../log_mog_tf/run_236/figures/tr_ar_dist_temps_lowT.pdf\n",
      "Saving figure to: ../log_mog_tf/run_236/figures/tr_ar_dist_temps_highT.pdf\n",
      "\n",
      "Tunneling rate increased. Speeding up annealing schedule.\n",
      "Change in tunneling rate (temp = 1): 0.0\n",
      "Change in tunneling rate (temp = 18.1): 0.17710777378306702\n",
      "Annealing steps: 200 --> 150\n",
      "Temperature: 18.1 --> 18.1\n",
      "\n",
      "---------------------------------------------------------------------------------------\n",
      "    STEP       TEMP      LOSS      ACCEPT RATE      LR        STEP SIZE    TRAJ LEN   \n",
      "---------------------------------------------------------------------------------------\n",
      " 1000/30000   18.08     -206.8       0.9411       0.00096      0.5388          2      \n",
      " 1100/30000   17.72     -239.5       0.9204       0.00096      0.5391          2      \n",
      " 1200/30000   17.36     -219.3       0.9289       0.00096      0.5372          2      \n",
      " 1300/30000   17.36     -232.8       0.9238       0.00096      0.5371          2      \n",
      " 1400/30000   17.02      -211         0.924       0.00096      0.5378          2      \n",
      "============================================================================================\n",
      "  STEP   TEMP  LOSS  ACCEPT %   ERR     TUNN %    ERR      DIST     ERR    STEP SIZE LENGTH\n",
      "============================================================================================\n",
      "  1500    1    2000     0        0        0        0     1.55e-08 6.231e-10  0.5384     2   \n",
      "---------------------------------------------------------------------------------------------\n",
      "  1500    17  -144.4  0.8314  0.008885  0.645   0.03538   0.7354  0.03668   0.5384     2   \n",
      "--------------------------------------------------------------------------------------------\n",
      "\n",
      "Time to calculate tunneling_rate: 00:00:00\n",
      "Time for 100 training steps: 00:00:10\n",
      "Total time elapsed: 00:02:34\n",
      "\n",
      "Saving figure to: ../log_mog_tf/run_236/figures/tr_ar_dist_steps_lowT.pdf\n",
      "Saving figure to: ../log_mog_tf/run_236/figures/tr_ar_dist_steps_highT.pdf\n",
      "Saving figure to: ../log_mog_tf/run_236/figures/tr_ar_dist_temps_lowT.pdf\n",
      "Saving figure to: ../log_mog_tf/run_236/figures/tr_ar_dist_temps_highT.pdf\n",
      "\n",
      "Tunneling rate increased. Speeding up annealing schedule.\n",
      "Change in tunneling rate (temp = 1): 0.0\n",
      "Change in tunneling rate (temp = 17): 0.23239985549715292\n",
      "Annealing steps: 150 --> 100\n",
      "Temperature: 17 --> 17\n",
      "\n",
      "---------------------------------------------------------------------------------------\n",
      "    STEP       TEMP      LOSS      ACCEPT RATE      LR        STEP SIZE    TRAJ LEN   \n",
      "---------------------------------------------------------------------------------------\n",
      " 1500/30000   16.67     -232.6       0.9223       0.00096      0.5383          2      \n",
      " 1600/30000   16.34      -232         0.93        0.00096      0.5384          2      \n",
      " 1700/30000   16.01     -238.8       0.9471       0.00096      0.5378          2      \n",
      " 1800/30000   15.69     -239.3       0.9627       0.00096       0.534          2      \n",
      " 1900/30000   15.38     -250.2       0.9371       0.00096      0.5315          2      \n",
      "---------------------------------------------------------------------------------------\n",
      "    STEP       TEMP      LOSS      ACCEPT RATE      LR        STEP SIZE    TRAJ LEN   \n",
      "---------------------------------------------------------------------------------------\n",
      "Saving parameter values to: ../log_mog_tf/run_236/run_info/\n",
      "params file written to: ../log_mog_tf/run_236/run_info/parameters.txt\n",
      "Saving checkpoint to: ../log_mog_tf/run_236/model.ckpt\n",
      "\n",
      "============================================================================================\n",
      "  STEP   TEMP  LOSS  ACCEPT %   ERR     TUNN %    ERR      DIST     ERR    STEP SIZE LENGTH\n",
      "============================================================================================\n",
      "  2000    1    2000     0        0        0        0    1.517e-08 5.374e-10  0.5278     2   \n",
      "---------------------------------------------------------------------------------------------\n",
      "  2000   15.4 -158.2  0.8825  0.03008   0.825   0.02722   0.8834  0.03123   0.5278     2   \n",
      "--------------------------------------------------------------------------------------------\n",
      "\n",
      "Time to calculate tunneling_rate: 00:00:00\n",
      "Time for 100 training steps: 00:00:09\n",
      "Total time elapsed: 00:03:11\n",
      "\n",
      "Saving figure to: ../log_mog_tf/run_236/figures/tr_ar_dist_steps_lowT.pdf\n",
      "Saving figure to: ../log_mog_tf/run_236/figures/tr_ar_dist_steps_highT.pdf\n"
     ]
    },
    {
     "name": "stdout",
     "output_type": "stream",
     "text": [
      "Saving figure to: ../log_mog_tf/run_236/figures/tr_ar_dist_temps_lowT.pdf\n",
      "Saving figure to: ../log_mog_tf/run_236/figures/tr_ar_dist_temps_highT.pdf\n",
      "\n",
      "Tunneling rate increased. Speeding up annealing schedule.\n",
      "Change in tunneling rate (temp = 1): 0.0\n",
      "Change in tunneling rate (temp = 15.4): 0.11740058307893153\n",
      "Annealing steps: 100 --> 50\n",
      "Temperature: 15.4 --> 15.4\n",
      "\n",
      "---------------------------------------------------------------------------------------\n",
      "    STEP       TEMP      LOSS      ACCEPT RATE      LR        STEP SIZE    TRAJ LEN   \n",
      "---------------------------------------------------------------------------------------\n",
      " 2000/30000   15.07     -245.4        0.948      0.0009216     0.5279          2      \n",
      " 2100/30000   14.48     -243.4       0.9327      0.0009216     0.5289          2      \n",
      " 2200/30000    13.9     -238.6       0.9398      0.0009216     0.5244          2      \n",
      " 2300/30000   13.35     -254.1        0.939      0.0009216     0.5199          2      \n",
      " 2400/30000   12.82     -255.6       0.9767      0.0009216     0.5177          2      \n",
      "============================================================================================\n",
      "  STEP   TEMP  LOSS  ACCEPT %   ERR     TUNN %    ERR      DIST     ERR    STEP SIZE LENGTH\n",
      "============================================================================================\n",
      "  2500    1    2000     0        0        0        0    1.558e-08 6.122e-10  0.5149     2   \n",
      "---------------------------------------------------------------------------------------------\n",
      "  2500   12.6 -169.6  0.8884  0.01162    0.86   0.02389   0.9214  0.02888   0.5149     2   \n",
      "--------------------------------------------------------------------------------------------\n",
      "\n",
      "Time to calculate tunneling_rate: 00:00:00\n",
      "Time for 100 training steps: 00:00:08\n",
      "Total time elapsed: 00:03:44\n",
      "\n",
      "Saving figure to: ../log_mog_tf/run_236/figures/tr_ar_dist_steps_lowT.pdf\n",
      "Saving figure to: ../log_mog_tf/run_236/figures/tr_ar_dist_steps_highT.pdf\n",
      "Saving figure to: ../log_mog_tf/run_236/figures/tr_ar_dist_temps_lowT.pdf\n",
      "Saving figure to: ../log_mog_tf/run_236/figures/tr_ar_dist_temps_highT.pdf\n",
      "---------------------------------------------------------------------------------------\n",
      "    STEP       TEMP      LOSS      ACCEPT RATE      LR        STEP SIZE    TRAJ LEN   \n",
      "---------------------------------------------------------------------------------------\n",
      " 2500/30000   12.32     -252.9        0.95       0.0009216     0.5149          2      \n",
      " 2600/30000   11.83     -254.5       0.9488      0.0009216     0.5124          2      \n",
      " 2700/30000   11.36     -240.2       0.9436      0.0009216     0.5104          2      \n",
      " 2800/30000   10.91     -243.2       0.9326      0.0009216     0.5047          2      \n",
      " 2900/30000   10.48     -249.1       0.9391      0.0009216     0.5023          2      \n",
      "---------------------------------------------------------------------------------------\n",
      "    STEP       TEMP      LOSS      ACCEPT RATE      LR        STEP SIZE    TRAJ LEN   \n",
      "---------------------------------------------------------------------------------------\n",
      "Saving parameter values to: ../log_mog_tf/run_236/run_info/\n",
      "params file written to: ../log_mog_tf/run_236/run_info/parameters.txt\n",
      "Saving checkpoint to: ../log_mog_tf/run_236/model.ckpt\n",
      "\n",
      "============================================================================================\n",
      "  STEP   TEMP  LOSS  ACCEPT %   ERR     TUNN %    ERR      DIST     ERR    STEP SIZE LENGTH\n",
      "============================================================================================\n",
      "  3000    1    1995 0.0001751 0.0002489    0        0    1.557e-08 6.769e-10  0.4975     2   \n",
      "----------------------------------------------------------------------------------------------\n",
      "  3000   10.3 -162.3  0.8801  0.005369  0.865   0.02472   0.9011  0.03094   0.4975     2   \n",
      "--------------------------------------------------------------------------------------------\n",
      "\n",
      "Time to calculate tunneling_rate: 00:00:00\n",
      "Time for 100 training steps: 00:00:08\n",
      "Total time elapsed: 00:04:22\n",
      "\n",
      "Saving figure to: ../log_mog_tf/run_236/figures/tr_ar_dist_steps_lowT.pdf\n",
      "Saving figure to: ../log_mog_tf/run_236/figures/tr_ar_dist_steps_highT.pdf\n",
      "Saving figure to: ../log_mog_tf/run_236/figures/tr_ar_dist_temps_lowT.pdf\n",
      "Saving figure to: ../log_mog_tf/run_236/figures/tr_ar_dist_temps_highT.pdf\n",
      "---------------------------------------------------------------------------------------\n",
      "    STEP       TEMP      LOSS      ACCEPT RATE      LR        STEP SIZE    TRAJ LEN   \n",
      "---------------------------------------------------------------------------------------\n",
      " 3000/30000   10.06     -250.8       0.9413      0.0008847     0.4975          2      \n",
      " 3100/30000   9.664     -242.6       0.9265      0.0008847     0.4943          2      \n",
      " 3200/30000   9.282     -230.4       0.9452      0.0008847     0.4916          2      \n",
      " 3300/30000   8.914     -257.9       0.9324      0.0008847     0.4884          2      \n",
      " 3400/30000   8.561     -240.8       0.9415      0.0008847     0.4836          2      \n",
      "============================================================================================\n",
      "  STEP   TEMP  LOSS  ACCEPT %   ERR     TUNN %    ERR      DIST     ERR    STEP SIZE LENGTH\n",
      "============================================================================================\n",
      "  3500    1    1998 1.665e-05 2.366e-05    0        0    1.522e-08 6.639e-10  0.4805     2   \n",
      "----------------------------------------------------------------------------------------------\n",
      "  3500   8.39 -168.5  0.8742  0.00949    0.86   0.02596   0.9056   0.0301   0.4805     2   \n",
      "--------------------------------------------------------------------------------------------\n",
      "\n",
      "Time to calculate tunneling_rate: 00:00:00\n",
      "Time for 100 training steps: 00:00:08\n",
      "Total time elapsed: 00:05:01\n",
      "\n",
      "Saving figure to: ../log_mog_tf/run_236/figures/tr_ar_dist_steps_lowT.pdf\n",
      "Saving figure to: ../log_mog_tf/run_236/figures/tr_ar_dist_steps_highT.pdf\n",
      "Saving figure to: ../log_mog_tf/run_236/figures/tr_ar_dist_temps_lowT.pdf\n",
      "Saving figure to: ../log_mog_tf/run_236/figures/tr_ar_dist_temps_highT.pdf\n",
      "---------------------------------------------------------------------------------------\n",
      "    STEP       TEMP      LOSS      ACCEPT RATE      LR        STEP SIZE    TRAJ LEN   \n",
      "---------------------------------------------------------------------------------------\n",
      " 3500/30000   8.222     -253.6       0.9397      0.0008847      0.48           2      \n",
      " 3600/30000   7.896     -251.3       0.9367      0.0008847     0.4769          2      \n",
      " 3700/30000   7.584      -237        0.9336      0.0008847     0.4721          2      \n",
      " 3800/30000   7.283      -259        0.9575      0.0008847     0.4697          2      \n",
      " 3900/30000   6.995     -236.2       0.9132      0.0008847     0.4658          2      \n",
      "---------------------------------------------------------------------------------------\n",
      "    STEP       TEMP      LOSS      ACCEPT RATE      LR        STEP SIZE    TRAJ LEN   \n",
      "---------------------------------------------------------------------------------------\n",
      "Saving parameter values to: ../log_mog_tf/run_236/run_info/\n",
      "params file written to: ../log_mog_tf/run_236/run_info/parameters.txt\n",
      "Saving checkpoint to: ../log_mog_tf/run_236/model.ckpt\n",
      "\n",
      "============================================================================================\n",
      "  STEP   TEMP  LOSS  ACCEPT %   ERR     TUNN %    ERR      DIST     ERR    STEP SIZE LENGTH\n",
      "============================================================================================\n",
      "  4000    1    1985  0.007066 0.005225   0.01   0.007106 0.01016  0.007236  0.4621     2   \n",
      "--------------------------------------------------------------------------------------------\n",
      "  4000   6.86 -154.8  0.8758  0.01665   0.905   0.01991   0.9249  0.02705   0.4621     2   \n",
      "--------------------------------------------------------------------------------------------\n",
      "\n",
      "Time to calculate tunneling_rate: 00:00:00\n",
      "Time for 100 training steps: 00:00:08\n",
      "Total time elapsed: 00:05:39\n",
      "\n",
      "Saving figure to: ../log_mog_tf/run_236/figures/tr_ar_dist_steps_lowT.pdf\n",
      "Saving figure to: ../log_mog_tf/run_236/figures/tr_ar_dist_steps_highT.pdf\n",
      "Saving figure to: ../log_mog_tf/run_236/figures/tr_ar_dist_temps_lowT.pdf\n"
     ]
    },
    {
     "name": "stdout",
     "output_type": "stream",
     "text": [
      "Saving figure to: ../log_mog_tf/run_236/figures/tr_ar_dist_temps_highT.pdf\n",
      "\n",
      "Tunneling rate increased. Speeding up annealing schedule.\n",
      "Change in tunneling rate (temp = 1): 0.002893672013318703\n",
      "Change in tunneling rate (temp = 6.86): -0.0008748687974177161\n",
      "Annealing steps: 50 --> 0\n",
      "Temperature: 6.86 --> 6.86\n",
      "\n",
      "---------------------------------------------------------------------------------------\n",
      "    STEP       TEMP      LOSS      ACCEPT RATE      LR        STEP SIZE    TRAJ LEN   \n",
      "---------------------------------------------------------------------------------------\n"
     ]
    },
    {
     "ename": "ZeroDivisionError",
     "evalue": "integer division or modulo by zero",
     "output_type": "error",
     "traceback": [
      "\u001b[0;31m---------------------------------------------------------------------------\u001b[0m",
      "\u001b[0;31mZeroDivisionError\u001b[0m                         Traceback (most recent call last)",
      "\u001b[0;32m<ipython-input-6-4f2f9bb07664>\u001b[0m in \u001b[0;36m<module>\u001b[0;34m()\u001b[0m\n\u001b[0;32m----> 1\u001b[0;31m \u001b[0mmodel\u001b[0m\u001b[0;34m.\u001b[0m\u001b[0mtrain\u001b[0m\u001b[0;34m(\u001b[0m\u001b[0mparams\u001b[0m\u001b[0;34m[\u001b[0m\u001b[0;34m'num_training_steps'\u001b[0m\u001b[0;34m]\u001b[0m\u001b[0;34m)\u001b[0m\u001b[0;34m\u001b[0m\u001b[0m\n\u001b[0m",
      "\u001b[0;32m~/ANL/l2hmc/l2hmc/mog_model.py\u001b[0m in \u001b[0;36mtrain\u001b[0;34m(self, num_train_steps)\u001b[0m\n\u001b[1;32m    874\u001b[0m                     \u001b[0mself\u001b[0m\u001b[0;34m.\u001b[0m\u001b[0m_save_model\u001b[0m\u001b[0;34m(\u001b[0m\u001b[0msaver\u001b[0m\u001b[0;34m,\u001b[0m \u001b[0mwriter\u001b[0m\u001b[0;34m,\u001b[0m \u001b[0mstep\u001b[0m\u001b[0;34m)\u001b[0m\u001b[0;34m\u001b[0m\u001b[0m\n\u001b[1;32m    875\u001b[0m \u001b[0;34m\u001b[0m\u001b[0m\n\u001b[0;32m--> 876\u001b[0;31m                 \u001b[0;32mif\u001b[0m \u001b[0mstep\u001b[0m \u001b[0;34m%\u001b[0m \u001b[0mself\u001b[0m\u001b[0;34m.\u001b[0m\u001b[0mannealing_steps\u001b[0m \u001b[0;34m==\u001b[0m \u001b[0;36m0\u001b[0m\u001b[0;34m:\u001b[0m\u001b[0;34m\u001b[0m\u001b[0m\n\u001b[0m\u001b[1;32m    877\u001b[0m                     \u001b[0mtemp_\u001b[0m \u001b[0;34m=\u001b[0m \u001b[0mself\u001b[0m\u001b[0;34m.\u001b[0m\u001b[0mtemp\u001b[0m \u001b[0;34m*\u001b[0m \u001b[0mself\u001b[0m\u001b[0;34m.\u001b[0m\u001b[0mannealing_factor\u001b[0m\u001b[0;34m\u001b[0m\u001b[0m\n\u001b[1;32m    878\u001b[0m                     \u001b[0;32mif\u001b[0m \u001b[0mtemp_\u001b[0m \u001b[0;34m>\u001b[0m \u001b[0;36m1.\u001b[0m\u001b[0;34m:\u001b[0m\u001b[0;34m\u001b[0m\u001b[0m\n",
      "\u001b[0;31mZeroDivisionError\u001b[0m: integer division or modulo by zero"
     ]
    }
   ],
   "source": [
    "model.train(params['num_training_steps'])"
   ]
  },
  {
   "cell_type": "code",
   "execution_count": null,
   "metadata": {},
   "outputs": [],
   "source": []
  },
  {
   "cell_type": "markdown",
   "metadata": {
    "heading_collapsed": true
   },
   "source": [
    "### Less old"
   ]
  },
  {
   "cell_type": "code",
   "execution_count": null,
   "metadata": {
    "ExecuteTime": {
     "end_time": "2018-08-23T19:23:27.888456Z",
     "start_time": "2018-08-23T19:23:27.846444Z"
    },
    "hidden": true
   },
   "outputs": [],
   "source": [
    "for key in model.tunneling_rates_highT.keys():\n",
    "    #print(f'Step num: {key[0]}')\n",
    "    #print(f'Temp: {key[1]}')\n",
    "    model.steps_arr.append(key[0])\n",
    "    model.temp_arr.append(key[1])\n",
    "    #model.temp_arr.append(key[1])"
   ]
  },
  {
   "cell_type": "code",
   "execution_count": null,
   "metadata": {
    "ExecuteTime": {
     "end_time": "2018-08-23T19:28:03.523020Z",
     "start_time": "2018-08-23T19:28:03.416812Z"
    },
    "hidden": true
   },
   "outputs": [],
   "source": [
    "for idx in range(len(model.steps_arr)):\n",
    "    model.steps_arr[idx] += 1"
   ]
  },
  {
   "cell_type": "code",
   "execution_count": null,
   "metadata": {
    "ExecuteTime": {
     "end_time": "2018-08-23T19:28:07.306904Z",
     "start_time": "2018-08-23T19:28:07.225387Z"
    },
    "hidden": true
   },
   "outputs": [],
   "source": [
    "model.steps_arr"
   ]
  },
  {
   "cell_type": "code",
   "execution_count": null,
   "metadata": {
    "ExecuteTime": {
     "end_time": "2018-08-23T19:27:00.712375Z",
     "start_time": "2018-08-23T19:27:00.616409Z"
    },
    "hidden": true
   },
   "outputs": [],
   "source": [
    "for key, val in model.tunneling_rates.items():\n",
    "    model.tunneling_rates_avg.append(val[0])\n",
    "    model.tunneling_rates_err.append(val[1])\n",
    "for key, val in model.tunneling_rates_highT.items():\n",
    "    model.tunneling_rates_avg_highT.append(val[0])\n",
    "    model.tunneling_rates_err_highT.append(val[1])\n",
    "    \n",
    "for key, val in model.acceptance_rates.items():\n",
    "    model.acceptance_rates_avg.append(val[0])\n",
    "    model.acceptance_rates_err.append(val[1])\n",
    "for key, val in model.acceptance_rates_highT.items():\n",
    "    model.acceptance_rates_avg_highT.append(val[0])\n",
    "    model.acceptance_rates_err_highT.append(val[1])\n",
    "    \n",
    "for key, val in model.distances.items():\n",
    "    model.distances_avg.append(val[0])\n",
    "    model.distances_err.append(val[1])\n",
    "for key, val in model.distances_highT.items():\n",
    "    model.distances_avg_highT.append(val[0])\n",
    "    model.distances_err_highT.append(val[1])"
   ]
  },
  {
   "cell_type": "code",
   "execution_count": null,
   "metadata": {
    "ExecuteTime": {
     "end_time": "2018-08-23T19:30:04.842141Z",
     "start_time": "2018-08-23T19:30:04.691551Z"
    },
    "hidden": true
   },
   "outputs": [],
   "source": [
    "model._save_variables()"
   ]
  },
  {
   "cell_type": "code",
   "execution_count": null,
   "metadata": {
    "ExecuteTime": {
     "end_time": "2018-08-23T19:33:00.029883Z",
     "start_time": "2018-08-23T19:32:59.960970Z"
    },
    "hidden": true
   },
   "outputs": [],
   "source": [
    "model._init_params(params)"
   ]
  },
  {
   "cell_type": "code",
   "execution_count": null,
   "metadata": {
    "ExecuteTime": {
     "end_time": "2018-08-23T19:33:27.096296Z",
     "start_time": "2018-08-23T19:33:27.020280Z"
    },
    "hidden": true
   },
   "outputs": [],
   "source": [
    "model._load_variables()"
   ]
  },
  {
   "cell_type": "code",
   "execution_count": null,
   "metadata": {
    "ExecuteTime": {
     "end_time": "2018-08-23T19:33:31.987060Z",
     "start_time": "2018-08-23T19:33:31.882622Z"
    },
    "hidden": true
   },
   "outputs": [],
   "source": [
    "model.steps_arr"
   ]
  },
  {
   "cell_type": "code",
   "execution_count": null,
   "metadata": {
    "ExecuteTime": {
     "end_time": "2018-08-23T19:35:19.681799Z",
     "start_time": "2018-08-23T19:35:19.559542Z"
    },
    "hidden": true
   },
   "outputs": [],
   "source": [
    "model.tunneling_rates"
   ]
  },
  {
   "cell_type": "code",
   "execution_count": null,
   "metadata": {
    "ExecuteTime": {
     "end_time": "2018-08-23T19:36:57.794634Z",
     "start_time": "2018-08-23T19:36:57.750938Z"
    },
    "hidden": true
   },
   "outputs": [],
   "source": [
    "import os"
   ]
  },
  {
   "cell_type": "code",
   "execution_count": null,
   "metadata": {
    "ExecuteTime": {
     "end_time": "2018-08-23T19:48:26.866990Z",
     "start_time": "2018-08-23T19:48:26.754670Z"
    },
    "hidden": true
   },
   "outputs": [],
   "source": [
    "model.__dict__.keys()"
   ]
  },
  {
   "cell_type": "code",
   "execution_count": null,
   "metadata": {
    "ExecuteTime": {
     "end_time": "2018-08-23T20:23:21.198691Z",
     "start_time": "2018-08-23T20:23:21.122688Z"
    },
    "hidden": true
   },
   "outputs": [],
   "source": [
    "get_vals_as_arr = lambda _dict: np.array(list(_dict.values()))\n",
    "tr = get_vals_as_arr(model.tunneling_rates)\n",
    "ar = get_vals_as_arr(model.acceptance_rates)\n",
    "dr = get_vals_as_arr(model.distances)\n",
    "#np.array(list(model.tunneling_rates.values()))"
   ]
  },
  {
   "cell_type": "code",
   "execution_count": null,
   "metadata": {
    "ExecuteTime": {
     "end_time": "2018-08-23T19:39:33.110389Z",
     "start_time": "2018-08-23T19:39:33.027299Z"
    },
    "hidden": true
   },
   "outputs": [],
   "source": [
    "for key in model.attrs_dict.keys():\n",
    "    in_file = model.info_dir + key + '.npy'\n",
    "    if os.path.isfile(in_file):\n",
    "        setattr(model, key, np.load(in_file))\n",
    "        print(f'Set model.{key} to values read in from: {in_file}')\n",
    "        #print(model.key == np.load(in_file))"
   ]
  },
  {
   "cell_type": "code",
   "execution_count": null,
   "metadata": {
    "ExecuteTime": {
     "end_time": "2018-08-23T19:33:16.809532Z",
     "start_time": "2018-08-23T19:33:15.602881Z"
    },
    "hidden": true
   },
   "outputs": [],
   "source": [
    "model.sess.run(tf.global_variables_initializer())"
   ]
  },
  {
   "cell_type": "code",
   "execution_count": null,
   "metadata": {
    "ExecuteTime": {
     "end_time": "2018-08-23T19:31:33.953572Z",
     "start_time": "2018-08-23T19:31:33.821989Z"
    },
    "hidden": true
   },
   "outputs": [],
   "source": [
    "attrs_dict = model.attrs_dict"
   ]
  },
  {
   "cell_type": "code",
   "execution_count": null,
   "metadata": {
    "ExecuteTime": {
     "end_time": "2018-08-23T19:31:58.224731Z",
     "start_time": "2018-08-23T19:31:58.154395Z"
    },
    "hidden": true
   },
   "outputs": [],
   "source": [
    "attrs_dict['steps_arr']"
   ]
  },
  {
   "cell_type": "code",
   "execution_count": null,
   "metadata": {
    "ExecuteTime": {
     "end_time": "2018-08-23T11:27:13.271117Z",
     "start_time": "2018-08-23T11:18:53.290551Z"
    },
    "hidden": true,
    "scrolled": true
   },
   "outputs": [],
   "source": [
    "model.train(params['num_training_steps'], plot=True)"
   ]
  },
  {
   "cell_type": "markdown",
   "metadata": {
    "heading_collapsed": true
   },
   "source": [
    "## OLD"
   ]
  },
  {
   "cell_type": "code",
   "execution_count": null,
   "metadata": {
    "ExecuteTime": {
     "end_time": "2018-08-23T08:15:24.000366Z",
     "start_time": "2018-08-23T08:15:17.169863Z"
    },
    "hidden": true
   },
   "outputs": [],
   "source": [
    "#trajectories, loss_arr, px_arr = model.generate_trajectories(num_samples=100, num_steps=100, temperature=1.)\n",
    "\n",
    "#config = tf.ConfigProto(log_device_placement=True)\n",
    "#config = tf.ConfigProto()\n",
    "#config.gpu_options.allow_growth = True\n",
    "#model.build_graph()"
   ]
  },
  {
   "cell_type": "code",
   "execution_count": null,
   "metadata": {
    "ExecuteTime": {
     "end_time": "2018-08-23T09:07:55.724709Z",
     "start_time": "2018-08-23T09:07:55.650082Z"
    },
    "hidden": true
   },
   "outputs": [],
   "source": [
    "def calc_avg_distance1(trajectories):\n",
    "    distances_arr = []\n",
    "    for trajectory in trajectories:\n",
    "        distance_arr = []\n",
    "        for idx in range(1, len(trajectory)):\n",
    "            diff = trajectory[idx] - trajectory[idx-1]\n",
    "            dist = np.sqrt(np.dot(diff, diff.T))\n",
    "            distance_arr.append(dist)\n",
    "        distances_arr.append(sum(distance_arr))\n",
    "    return np.mean(distances_arr)\n",
    "\n",
    "def calc_avg_distance2(trajectories):\n",
    "    dist = lambda d: np.sqrt(np.dot(d, d.T))\n",
    "    #distances_arr = np.mean([[dist(d) for d in [t[:-1, :] - t[1:, :] for t in trajectories]]\n",
    "    #for trajectory in trajectories:\n",
    "        diff = trajectory[:-1, :] - trajectory[1:, :]\n",
    "        distance = sum([np.sqrt(np.dot(d, d.T)) for d in diff])\n",
    "        distances_arr.append(distance)\n",
    "    return np.mean(distances_arr)"
   ]
  },
  {
   "cell_type": "code",
   "execution_count": null,
   "metadata": {
    "ExecuteTime": {
     "end_time": "2018-08-23T09:08:01.000577Z",
     "start_time": "2018-08-23T09:07:58.231599Z"
    },
    "hidden": true
   },
   "outputs": [],
   "source": [
    "%timeit avg_dist = avg_distance_traveled(trajectories.transpose([1,0,2]))\n",
    "#print(avg_dist)\n",
    "\n",
    "%timeit avg_dist1 = calc_avg_distance1(trajectories.transpose([1,0,2]))\n",
    "#print(avg_dist1)\n",
    "\n",
    "%timeit avg_dist2 = calc_avg_distance2(trajectories.transpose([1,0,2]))\n",
    "#print(avg_dist2)\n",
    "\n",
    "distances = np.array([np.sqrt(np.dot(disp, disp.T)) for disp in displacements])"
   ]
  },
  {
   "cell_type": "code",
   "execution_count": null,
   "metadata": {
    "ExecuteTime": {
     "end_time": "2018-08-23T05:03:23.757609Z",
     "start_time": "2018-08-23T04:52:39.043000Z"
    },
    "hidden": true
   },
   "outputs": [],
   "source": [
    "model.train(params['num_training_steps'], config=config, plot=True)\n",
    "\n",
    "config = tf.ConfigProto(log_device_placement=True)\n",
    "config.gpu_options.allow_growth = True\n",
    "model.build_graph()\n",
    "model.train(params['num_training_steps'], config=config, plot=False)"
   ]
  },
  {
   "cell_type": "code",
   "execution_count": null,
   "metadata": {
    "hidden": true
   },
   "outputs": [],
   "source": []
  }
 ],
 "metadata": {
  "hide_input": false,
  "kernelspec": {
   "display_name": "Python 3",
   "language": "python",
   "name": "python3"
  },
  "language_info": {
   "codemirror_mode": {
    "name": "ipython",
    "version": 3
   },
   "file_extension": ".py",
   "mimetype": "text/x-python",
   "name": "python",
   "nbconvert_exporter": "python",
   "pygments_lexer": "ipython3",
   "version": "3.6.5"
  },
  "latex_envs": {
   "LaTeX_envs_menu_present": true,
   "autoclose": false,
   "autocomplete": true,
   "bibliofile": "biblio.bib",
   "cite_by": "apalike",
   "current_citInitial": 1,
   "eqLabelWithNumbers": true,
   "eqNumInitial": 1,
   "hotkeys": {
    "equation": "Ctrl-E",
    "itemize": "Ctrl-I"
   },
   "labels_anchors": false,
   "latex_user_defs": false,
   "report_style_numbering": false,
   "user_envs_cfg": false
  },
  "varInspector": {
   "cols": {
    "lenName": 16,
    "lenType": 16,
    "lenVar": 40
   },
   "kernels_config": {
    "python": {
     "delete_cmd_postfix": "",
     "delete_cmd_prefix": "del ",
     "library": "var_list.py",
     "varRefreshCmd": "print(var_dic_list())"
    },
    "r": {
     "delete_cmd_postfix": ") ",
     "delete_cmd_prefix": "rm(",
     "library": "var_list.r",
     "varRefreshCmd": "cat(var_dic_list()) "
    }
   },
   "types_to_exclude": [
    "module",
    "function",
    "builtin_function_or_method",
    "instance",
    "_Feature"
   ],
   "window_display": false
  }
 },
 "nbformat": 4,
 "nbformat_minor": 2
}
