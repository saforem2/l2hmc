{
 "cells": [
  {
   "cell_type": "markdown",
   "metadata": {},
   "source": [
    "## Initialization"
   ]
  },
  {
   "cell_type": "code",
   "execution_count": 19,
   "metadata": {
    "ExecuteTime": {
     "end_time": "2018-09-05T17:59:38.030526Z",
     "start_time": "2018-09-05T17:59:37.974693Z"
    }
   },
   "outputs": [],
   "source": [
    "import matplotlib.pyplot as plt\n",
    "from mog_model import *\n",
    "from utils.distributions import *\n",
    "import pickle\n",
    "%autoreload 2"
   ]
  },
  {
   "cell_type": "code",
   "execution_count": 2,
   "metadata": {
    "ExecuteTime": {
     "end_time": "2018-09-05T17:53:26.004166Z",
     "start_time": "2018-09-05T17:53:25.952721Z"
    },
    "code_folding": []
   },
   "outputs": [],
   "source": [
    "X_DIM = 2\n",
    "NUM_DISTRIBUTIONS = 2\n",
    "\n",
    "MEANS = np.zeros((X_DIM, X_DIM), dtype=np.float32)\n",
    "CENTERS = np.sqrt(2)  # center of Gaussian\n",
    "for i in range(NUM_DISTRIBUTIONS):\n",
    "    MEANS[i::NUM_DISTRIBUTIONS, i] = CENTERS\n",
    "\n",
    "params = {                          # default parameter values\n",
    "    'x_dim': X_DIM,\n",
    "    'num_distributions': NUM_DISTRIBUTIONS,\n",
    "    'means': MEANS,\n",
    "    'sigma': 0.05,\n",
    "    'small_pi': 2E-16,\n",
    "    'scale': 0.1,\n",
    "    'num_samples': 200,\n",
    "    'lr_init': 1e-3,\n",
    "    'lr_decay_steps': 1000,\n",
    "    'lr_decay_rate': 0.96,\n",
    "    'eps': 0.5,\n",
    "    'temp_init': 20,\n",
    "    'annealing_steps': 200,\n",
    "    'annealing_rate': 0.98,\n",
    "    #'train_trajectory_length': 15,\n",
    "    #'test_trajectory_length': 2000,\n",
    "    'num_training_steps': 30000,\n",
    "    'tunneling_rate_steps': 500,\n",
    "    'save_steps': 1000,\n",
    "    'logging_steps': 100\n",
    "}"
   ]
  },
  {
   "cell_type": "markdown",
   "metadata": {},
   "source": [
    "## Build / Train model"
   ]
  },
  {
   "cell_type": "code",
   "execution_count": 20,
   "metadata": {
    "ExecuteTime": {
     "end_time": "2018-09-05T17:59:41.017687Z",
     "start_time": "2018-09-05T17:59:40.961361Z"
    }
   },
   "outputs": [],
   "source": [
    "tf.reset_default_graph()"
   ]
  },
  {
   "cell_type": "code",
   "execution_count": 21,
   "metadata": {
    "ExecuteTime": {
     "end_time": "2018-09-05T18:00:07.657121Z",
     "start_time": "2018-09-05T17:59:42.840775Z"
    }
   },
   "outputs": [
    {
     "name": "stdout",
     "output_type": "stream",
     "text": [
      "Initial parameters written to ../log_mog_tf/run_22_diag_271/run_info/_init_params.pkl.\n",
      "Loading from previous parameters in from: ../log_mog_tf/run_22_diag_271/run_info/\n",
      "################################################################################\n",
      "Model parameters:\n",
      "x_dim: 2\n",
      "\n",
      "num_distributions: 2\n",
      "\n",
      "eps: 1.0\n",
      "\n",
      "scale: 0.1\n",
      "\n",
      "num_samples: 200\n",
      "\n",
      "sigma: 0.05\n",
      "\n",
      "small_pi: 2e-16\n",
      "\n",
      "lr_init: 0.001\n",
      "\n",
      "temp_init: 20\n",
      "\n",
      "annealing_steps: 250\n",
      "\n",
      "annealing_factor: 0.98\n",
      "\n",
      "num_training_steps: 25000\n",
      "\n",
      "tunneling_rate_steps: 500\n",
      "\n",
      "lr_decay_steps: 1000\n",
      "\n",
      "lr_decay_rate: 0.96\n",
      "\n",
      "logging_steps: 100\n",
      "\n",
      "save_steps: 1000\n",
      "\n",
      "arrangement: axes\n",
      "\n",
      "annealing_rate: 0.98\n",
      "\n",
      "temp: 1.0057480475528473\n",
      "\n",
      "_annealing_steps_init: 250\n",
      "\n",
      "_tunneling_rate_steps_init: 500\n",
      "\n",
      "log_dir: ../log_mog_tf/run_22_diag_271/\n",
      "\n",
      "info_dir: ../log_mog_tf/run_22_diag_271/run_info/\n",
      "\n",
      "figs_dir: ../log_mog_tf/run_22_diag_271/figures/\n",
      "\n",
      "trajectory_length: 3.0\n",
      "\n",
      "################################################################################\n",
      "\n",
      "\n"
     ]
    }
   ],
   "source": [
    "#%pdb\n",
    "config = tf.ConfigProto()\n",
    "config.gpu_options.allow_growth = True\n",
    "model = GaussianMixtureModel(params, \n",
    "                             config=config,\n",
    "                             log_dir='../log_mog_tf/run_22_diag_271/')\n",
    "                             #log_dir='../log_mog_tf/run64/')"
   ]
  },
  {
   "cell_type": "code",
   "execution_count": 22,
   "metadata": {
    "ExecuteTime": {
     "end_time": "2018-09-05T18:00:11.385830Z",
     "start_time": "2018-09-05T18:00:10.132057Z"
    }
   },
   "outputs": [
    {
     "name": "stdout",
     "output_type": "stream",
     "text": [
      "Restoring previous model from: ../log_mog_tf/run_22_diag_271/model.ckpt-39999\n",
      "INFO:tensorflow:Restoring parameters from ../log_mog_tf/run_22_diag_271/model.ckpt-39999\n",
      "Model restored.\n",
      "\n"
     ]
    }
   ],
   "source": [
    "model._restore_model()"
   ]
  },
  {
   "cell_type": "code",
   "execution_count": 12,
   "metadata": {
    "ExecuteTime": {
     "end_time": "2018-09-05T17:57:46.182518Z",
     "start_time": "2018-09-05T17:57:16.600357Z"
    },
    "collapsed": true
   },
   "outputs": [
    {
     "name": "stdout",
     "output_type": "stream",
     "text": [
      "Restoring previous model from: ../log_mog_tf/run_22_diag_271/model.ckpt-39999\n",
      "INFO:tensorflow:Restoring parameters from ../log_mog_tf/run_22_diag_271/model.ckpt-39999\n",
      "Model restored.\n",
      "\n",
      "---------------------------------------------------------------------------------------\n",
      "    STEP       TEMP      LOSS      ACCEPT RATE      LR        STEP SIZE    TRAJ LEN   \n",
      "---------------------------------------------------------------------------------------\n",
      "40000/40010   1.006      1311       1.71e-06     0.0001954     0.5804          3      \n"
     ]
    }
   ],
   "source": [
    "model.train(10)"
   ]
  },
  {
   "cell_type": "code",
   "execution_count": 23,
   "metadata": {
    "ExecuteTime": {
     "end_time": "2018-09-05T18:00:22.858827Z",
     "start_time": "2018-09-05T18:00:18.088498Z"
    }
   },
   "outputs": [],
   "source": [
    "trajectories, loss_arr, accept_arr = model.generate_trajectories()"
   ]
  },
  {
   "cell_type": "code",
   "execution_count": 26,
   "metadata": {
    "ExecuteTime": {
     "end_time": "2018-09-05T18:00:53.277297Z",
     "start_time": "2018-09-05T18:00:53.219572Z"
    },
    "collapsed": true
   },
   "outputs": [
    {
     "data": {
      "text/plain": [
       "array([[ 1.6270784 , -0.20419887],\n",
       "       [ 1.62707841, -0.20419887],\n",
       "       [ 1.62707841, -0.20419887],\n",
       "       [ 1.62707841, -0.20419887],\n",
       "       [ 1.62707841, -0.20419887],\n",
       "       [ 1.62707841, -0.20419887],\n",
       "       [ 1.62707841, -0.20419887],\n",
       "       [ 1.62707841, -0.20419887],\n",
       "       [ 1.62707841, -0.20419887],\n",
       "       [ 1.62707841, -0.20419887],\n",
       "       [ 1.62707841, -0.20419887],\n",
       "       [ 1.62707841, -0.20419887],\n",
       "       [ 1.62707841, -0.20419887],\n",
       "       [ 1.62707841, -0.20419887],\n",
       "       [ 1.62707841, -0.20419887],\n",
       "       [ 1.62707841, -0.20419887],\n",
       "       [ 1.62707841, -0.20419887],\n",
       "       [ 1.62707841, -0.20419887],\n",
       "       [ 1.62707841, -0.20419887],\n",
       "       [ 1.62707841, -0.20419887]])"
      ]
     },
     "execution_count": 26,
     "metadata": {},
     "output_type": "execute_result"
    }
   ],
   "source": [
    "#trajectories[:, 0, :]\n",
    "trajectories[:20,0, :]"
   ]
  },
  {
   "cell_type": "code",
   "execution_count": 38,
   "metadata": {
    "ExecuteTime": {
     "end_time": "2018-09-05T18:06:37.849742Z",
     "start_time": "2018-09-05T18:06:36.963829Z"
    }
   },
   "outputs": [],
   "source": [
    "_samples = model.distribution.get_samples(200)\n",
    "trajectories = []\n",
    "for step in range(100):\n",
    "    _samples = model.distribution.get_samples(200)\n",
    "    trajectories.append(np.copy(_samples))\n",
    "    feed_dict = {model.x: _samples,\n",
    "                 model.dynamics.temperature: 1.}\n",
    "    loss, _samples, px = model.sess.run([\n",
    "        model.loss,\n",
    "        model.output[0],\n",
    "        model.px,\n",
    "    ], feed_dict=feed_dict)\n",
    "\n",
    "#  _, loss_, model.samples, px_, lr_, = model.sess.run([\n",
    "#_, loss_, _samples, px_, lr_, = model.sess.run([\n",
    "#    model.train_op,\n",
    "#    model.loss,\n",
    "#    model.output[0],\n",
    "#    model.px,\n",
    "#    model.learning_rate\n",
    "#], feed_dict=feed_dict)"
   ]
  },
  {
   "cell_type": "code",
   "execution_count": 39,
   "metadata": {
    "ExecuteTime": {
     "end_time": "2018-09-05T18:06:39.028658Z",
     "start_time": "2018-09-05T18:06:38.964502Z"
    }
   },
   "outputs": [
    {
     "data": {
      "text/plain": [
       "(100, 200, 2)"
      ]
     },
     "execution_count": 39,
     "metadata": {},
     "output_type": "execute_result"
    }
   ],
   "source": [
    "trajectories = np.array(trajectories)\n",
    "np.array(trajectories).shape"
   ]
  },
  {
   "cell_type": "code",
   "execution_count": 40,
   "metadata": {
    "ExecuteTime": {
     "end_time": "2018-09-05T18:06:39.609041Z",
     "start_time": "2018-09-05T18:06:39.533498Z"
    },
    "collapsed": true
   },
   "outputs": [
    {
     "data": {
      "text/plain": [
       "array([[ 0.22690701,  1.0176681 ],\n",
       "       [ 1.48269341,  0.25152916],\n",
       "       [ 0.7373572 ,  0.0962187 ],\n",
       "       [-0.30741802,  1.37695288],\n",
       "       [-0.05400104,  1.7095782 ],\n",
       "       [ 0.18060045,  1.61676309],\n",
       "       [ 1.45003324, -0.02905049],\n",
       "       [ 1.44096197, -0.04440846],\n",
       "       [ 1.19382557,  0.46499048],\n",
       "       [-0.16094446,  1.17674708],\n",
       "       [ 0.93810046,  0.04642486],\n",
       "       [ 0.16703731,  1.32915737],\n",
       "       [ 1.47148989, -0.09602996],\n",
       "       [ 0.07907255,  1.59149825],\n",
       "       [-0.0442573 ,  1.23372342],\n",
       "       [-0.08131032,  1.22208512],\n",
       "       [ 1.93999446,  0.01150151],\n",
       "       [-0.16744005,  1.46965841],\n",
       "       [ 1.47258882, -0.05190585],\n",
       "       [-0.21334952,  1.34552779]])"
      ]
     },
     "execution_count": 40,
     "metadata": {},
     "output_type": "execute_result"
    }
   ],
   "source": [
    "trajectories[:20, 0, :]"
   ]
  },
  {
   "cell_type": "code",
   "execution_count": 57,
   "metadata": {
    "ExecuteTime": {
     "end_time": "2018-09-05T18:16:41.504485Z",
     "start_time": "2018-09-05T18:16:40.990577Z"
    },
    "scrolled": false
   },
   "outputs": [
    {
     "data": {
      "text/plain": [
       "[<matplotlib.lines.Line2D at 0x1368867f0>]"
      ]
     },
     "execution_count": 57,
     "metadata": {},
     "output_type": "execute_result"
    },
    {
     "data": {
      "image/png": "[encoded data removed]",
      "text/plain": [
       "<Figure size 432x288 with 1 Axes>"
      ]
     },
     "metadata": {},
     "output_type": "display_data"
    }
   ],
   "source": [
    "#for i in range(10):\n",
    "fig, ax = plt.subplots()\n",
    "ax.plot(_samples[:,0], _samples[:,1], ls='', marker='o', alpha=0.75)\n",
    "#ax.plot(trajectories[:50, 9, 0], trajectories[:50, 9, 1], ls='-', marker='', alpha=0.6)\n",
    "plt.savefig('../log_mog_tf/run_22_diag_271/figures/distribution.pdf', dpi=400, bbox_inches='tight')\n",
    "plt.show()"
   ]
  },
  {
   "cell_type": "code",
   "execution_count": 46,
   "metadata": {
    "ExecuteTime": {
     "end_time": "2018-09-05T18:10:01.959719Z",
     "start_time": "2018-09-05T18:10:01.644910Z"
    }
   },
   "outputs": [
    {
     "data": {
      "text/plain": [
       "40001"
      ]
     },
     "execution_count": 46,
     "metadata": {},
     "output_type": "execute_result"
    }
   ],
   "source": [
    "model.global_step.eval(model.sess)"
   ]
  },
  {
   "cell_type": "code",
   "execution_count": 61,
   "metadata": {
    "ExecuteTime": {
     "end_time": "2018-09-05T18:19:34.689816Z",
     "start_time": "2018-09-05T18:19:34.620536Z"
    }
   },
   "outputs": [],
   "source": [
    "model.arrangement = 'axes'"
   ]
  },
  {
   "cell_type": "code",
   "execution_count": null,
   "metadata": {},
   "outputs": [],
   "source": []
  },
  {
   "cell_type": "code",
   "execution_count": 62,
   "metadata": {
    "ExecuteTime": {
     "end_time": "2018-09-05T18:19:43.404223Z",
     "start_time": "2018-09-05T18:19:36.197740Z"
    }
   },
   "outputs": [
    {
     "name": "stdout",
     "output_type": "stream",
     "text": [
      "Saving figure to: ../log_mog_tf/run_22_diag_271/figures/tr_ar_dist_steps_lowT.pdf\n",
      "Saving figure to: ../log_mog_tf/run_22_diag_271/figures/tr_ar_dist_steps_highT.pdf\n",
      "Saving figure to: ../log_mog_tf/run_22_diag_271/figures/tr_ar_dist_temps_lowT.pdf\n",
      "Saving figure to: ../log_mog_tf/run_22_diag_271/figures/tr_ar_dist_temps_highT.pdf\n",
      "Saving figure to: ../log_mog_tf/run_22_diag_271/figures/annealing_schedule.pdf\n"
     ]
    }
   ],
   "source": [
    "model._generate_plots(model.global_step.eval(model.sess))"
   ]
  },
  {
   "cell_type": "code",
   "execution_count": 32,
   "metadata": {
    "ExecuteTime": {
     "end_time": "2018-09-01T07:50:43.858996Z",
     "start_time": "2018-09-01T07:50:43.797681Z"
    }
   },
   "outputs": [],
   "source": [
    "\n",
    "_samples1 = model.sess.run([\n",
    "    model.output[0]\n",
    "], feed_dict={model.x: _samples, model.dynamics.temperature: 1.})\n",
    "#_samples"
   ]
  },
  {
   "cell_type": "code",
   "execution_count": 33,
   "metadata": {
    "ExecuteTime": {
     "end_time": "2018-09-01T07:50:46.064258Z",
     "start_time": "2018-09-01T07:50:46.004404Z"
    },
    "collapsed": true
   },
   "outputs": [
    {
     "data": {
      "text/plain": [
       "array([[-0.04825972,  1.6681467 ],\n",
       "       [-1.1017684 ,  1.4772418 ],\n",
       "       [ 1.9032845 ,  1.8739713 ],\n",
       "       [ 0.952036  , -1.4666694 ],\n",
       "       [-1.3941865 ,  2.493881  ],\n",
       "       [-0.18121843, -1.3036962 ],\n",
       "       [-1.361677  ,  2.0898554 ],\n",
       "       [-1.7863096 ,  2.6423538 ],\n",
       "       [ 2.5584097 , -1.5798473 ],\n",
       "       [ 2.1330292 , -1.0426351 ],\n",
       "       [ 0.4785167 ,  1.3442143 ],\n",
       "       [-0.8349031 ,  1.2927455 ],\n",
       "       [-1.2139485 ,  0.7711269 ],\n",
       "       [-1.4965838 ,  1.2853804 ],\n",
       "       [ 2.4092393 ,  2.7996662 ],\n",
       "       [ 0.8232765 ,  0.2041724 ],\n",
       "       [ 1.2944108 , -1.527963  ],\n",
       "       [-2.1198728 ,  0.2927999 ],\n",
       "       [ 2.013573  , -0.8611102 ],\n",
       "       [ 0.12205063,  0.802365  ],\n",
       "       [ 0.29903266,  2.6345344 ],\n",
       "       [ 0.80823004, -1.1293293 ],\n",
       "       [-1.5458711 ,  0.2832795 ],\n",
       "       [-1.0067353 ,  2.0859966 ],\n",
       "       [-0.32478535,  0.9064286 ],\n",
       "       [ 2.2341614 , -0.47455287],\n",
       "       [-0.14755844, -0.44172037],\n",
       "       [ 0.9511992 , -0.14620894],\n",
       "       [-0.30935544, -1.145798  ],\n",
       "       [-1.1514264 ,  0.05747353],\n",
       "       [ 2.5238307 , -0.4298    ],\n",
       "       [-0.55417573,  1.9364429 ],\n",
       "       [ 3.4210217 , -1.3371463 ],\n",
       "       [-1.8751786 ,  2.5387046 ],\n",
       "       [ 0.465293  , -0.78879774],\n",
       "       [ 0.57610124, -2.5744257 ],\n",
       "       [ 2.6161888 ,  0.7284671 ],\n",
       "       [ 0.46130216,  0.29799625],\n",
       "       [ 2.1240659 ,  0.46184134],\n",
       "       [ 1.6061637 , -1.5279366 ],\n",
       "       [-0.13351256,  1.2195356 ],\n",
       "       [ 1.2762419 ,  2.414808  ],\n",
       "       [ 0.2285434 , -1.5913504 ],\n",
       "       [ 1.8987665 , -0.54020584],\n",
       "       [ 0.15154481,  2.268891  ],\n",
       "       [ 1.342516  , -1.0551559 ],\n",
       "       [ 0.95834863,  0.6596227 ],\n",
       "       [ 1.3665336 ,  0.10838783],\n",
       "       [ 3.461842  ,  1.2625046 ],\n",
       "       [-1.6492426 ,  2.5772579 ],\n",
       "       [ 1.2622799 ,  1.6241968 ],\n",
       "       [ 2.7774086 , -0.7418337 ],\n",
       "       [ 0.5390655 , -0.45770735],\n",
       "       [ 0.33202553,  2.7931368 ],\n",
       "       [-1.387819  ,  3.604676  ],\n",
       "       [ 0.5297293 ,  1.5448322 ],\n",
       "       [ 2.3716047 , -0.3295542 ],\n",
       "       [ 0.711081  , -0.40447488],\n",
       "       [ 1.8605547 ,  0.15640055],\n",
       "       [-0.24703005,  0.30188826],\n",
       "       [ 1.999719  , -0.21968444],\n",
       "       [-1.2535975 ,  0.5296722 ],\n",
       "       [ 1.6873119 ,  0.68208194],\n",
       "       [ 1.8469195 , -0.6973455 ],\n",
       "       [-0.88091826,  2.5700512 ],\n",
       "       [ 0.45480192, -1.3606218 ],\n",
       "       [ 0.23973814, -0.44496337],\n",
       "       [ 0.6213231 ,  1.491404  ],\n",
       "       [ 2.3846989 , -1.1816261 ],\n",
       "       [ 0.21271557,  1.9094156 ],\n",
       "       [ 0.46580002, -0.04868223],\n",
       "       [-0.9071102 ,  1.5708282 ],\n",
       "       [ 0.48928428, -1.1324126 ],\n",
       "       [ 0.2197737 ,  0.42621967],\n",
       "       [ 2.0985754 , -1.0021194 ],\n",
       "       [ 3.3549886 , -2.041097  ],\n",
       "       [ 1.2609311 , -1.4968306 ],\n",
       "       [-0.11203939,  2.9452553 ],\n",
       "       [ 2.1005483 ,  1.4271195 ],\n",
       "       [ 2.1119132 ,  0.11208439],\n",
       "       [ 3.917854  ,  0.38728446],\n",
       "       [ 1.6190428 ,  0.5807972 ],\n",
       "       [-0.70282507,  0.3896091 ],\n",
       "       [ 2.22845   , -0.11480679],\n",
       "       [ 0.89552206,  3.05497   ],\n",
       "       [-0.6338409 ,  2.0187113 ],\n",
       "       [ 1.7700063 , -0.14357412],\n",
       "       [ 0.896255  ,  0.8239563 ],\n",
       "       [ 1.5442336 , -0.7362232 ],\n",
       "       [ 1.6569895 , -0.7710218 ],\n",
       "       [ 0.69675314, -1.5825562 ],\n",
       "       [ 2.329885  , -0.16294935],\n",
       "       [ 0.7562516 ,  1.7365376 ],\n",
       "       [-1.1149561 ,  2.4583347 ],\n",
       "       [ 1.6340362 ,  1.0806262 ],\n",
       "       [-0.09268446, -0.21662295],\n",
       "       [ 0.70012146,  1.6221955 ],\n",
       "       [-1.4995652 ,  2.0993056 ],\n",
       "       [-0.9497403 ,  3.5920963 ],\n",
       "       [-0.14005618,  0.7553202 ],\n",
       "       [ 1.1750244 ,  0.0611045 ],\n",
       "       [-1.6826622 ,  1.7922112 ],\n",
       "       [-0.34467512,  1.9938616 ],\n",
       "       [-1.1204336 ,  3.931383  ],\n",
       "       [-2.128816  ,  2.0028777 ],\n",
       "       [ 1.203994  , -1.3806257 ],\n",
       "       [-1.1914185 ,  0.10060936],\n",
       "       [-0.928981  ,  1.2979211 ],\n",
       "       [ 0.4470733 , -0.6071366 ],\n",
       "       [ 2.6765234 ,  1.581674  ],\n",
       "       [ 0.02489989, -0.8152055 ],\n",
       "       [ 0.4366926 ,  3.355762  ],\n",
       "       [ 0.46932647,  2.7724023 ],\n",
       "       [-0.3264265 ,  4.018973  ],\n",
       "       [-1.3513491 , -0.5674073 ],\n",
       "       [-0.10710679,  0.26370245],\n",
       "       [ 1.1110867 ,  1.884944  ],\n",
       "       [-0.65708417,  0.51878566],\n",
       "       [ 3.3770566 ,  0.5410984 ],\n",
       "       [-1.4738173 ,  2.2054904 ],\n",
       "       [ 0.95344883, -0.46638197],\n",
       "       [ 0.7730255 ,  0.6861063 ],\n",
       "       [-0.8333621 ,  0.6053062 ],\n",
       "       [-2.1438403 ,  0.2853425 ],\n",
       "       [-1.2725133 ,  2.377437  ],\n",
       "       [ 0.4447492 ,  1.3546717 ],\n",
       "       [ 0.4116273 ,  2.3429034 ],\n",
       "       [-1.3678926 ,  2.7975748 ],\n",
       "       [ 2.3058155 , -2.0316436 ],\n",
       "       [ 2.2134824 ,  1.2201276 ],\n",
       "       [-1.0968752 ,  0.45818442],\n",
       "       [ 1.4401729 ,  0.5256956 ],\n",
       "       [ 1.2888472 , -1.57143   ],\n",
       "       [ 0.96872383, -0.9174266 ],\n",
       "       [ 0.5090743 ,  1.8780696 ],\n",
       "       [-0.9551677 ,  0.00902846],\n",
       "       [ 1.3819963 ,  0.3747379 ],\n",
       "       [ 2.1075652 ,  0.9859905 ],\n",
       "       [-1.1347455 ,  1.2961309 ],\n",
       "       [ 2.6584108 , -0.3653919 ],\n",
       "       [ 0.9200905 , -1.0695057 ],\n",
       "       [-0.72406733,  0.09594256],\n",
       "       [-1.8656881 ,  0.9353848 ],\n",
       "       [-1.6406779 ,  0.34465486],\n",
       "       [-1.6909304 ,  2.39464   ],\n",
       "       [ 0.93214595, -1.9280672 ],\n",
       "       [ 2.415087  , -0.8942835 ],\n",
       "       [-0.18265787,  0.48206323],\n",
       "       [ 1.936799  , -0.83300316],\n",
       "       [ 2.8296888 ,  0.87180936],\n",
       "       [ 2.4859967 ,  1.3420982 ],\n",
       "       [-1.3989639 ,  0.6037284 ],\n",
       "       [ 0.8410902 , -0.42666566],\n",
       "       [ 0.08548348,  2.571227  ],\n",
       "       [ 0.6389885 ,  1.3362207 ],\n",
       "       [ 1.8472147 ,  1.1490359 ],\n",
       "       [ 0.54185283,  0.9058365 ],\n",
       "       [-0.36701027,  3.2904427 ],\n",
       "       [-1.0603071 ,  0.55723476],\n",
       "       [ 0.5174739 ,  0.7567279 ],\n",
       "       [-2.0740008 ,  2.2299745 ],\n",
       "       [ 2.4688733 , -2.0859215 ],\n",
       "       [ 0.6146702 ,  0.6776202 ],\n",
       "       [ 0.01061802,  0.6236068 ],\n",
       "       [ 2.7555223 ,  0.922177  ],\n",
       "       [-0.51571137,  0.71675944],\n",
       "       [ 1.0735593 , -0.15041691],\n",
       "       [-0.13508558,  2.5101109 ],\n",
       "       [-1.5989403 ,  0.84356207],\n",
       "       [ 1.7001007 ,  1.4912623 ],\n",
       "       [-1.091568  ,  1.9423261 ],\n",
       "       [ 0.59969366, -0.1284188 ],\n",
       "       [ 2.5942738 , -0.5392086 ],\n",
       "       [-0.23010664, -1.5850981 ],\n",
       "       [-0.83390903,  1.2030092 ],\n",
       "       [-2.37964   ,  3.7738872 ],\n",
       "       [-0.6401473 , -0.03067888],\n",
       "       [-0.92653596,  1.9653118 ],\n",
       "       [ 1.7362596 ,  0.21572942],\n",
       "       [ 0.9014129 , -2.3432357 ],\n",
       "       [-0.05646539, -1.5187243 ],\n",
       "       [-0.8310536 ,  1.7958065 ],\n",
       "       [ 1.1957954 , -0.33229044],\n",
       "       [-1.0566244 ,  0.7263276 ],\n",
       "       [ 0.12435686,  1.4191597 ],\n",
       "       [ 3.447986  ,  1.4011595 ],\n",
       "       [ 0.18415692,  0.9883845 ],\n",
       "       [ 1.6571816 ,  1.084578  ],\n",
       "       [-0.17602736,  1.9261786 ],\n",
       "       [-0.24695982,  0.8011705 ],\n",
       "       [ 0.7011657 ,  1.4695868 ],\n",
       "       [-1.2547679 , -1.4530683 ],\n",
       "       [ 0.03266785,  1.3717206 ],\n",
       "       [ 1.6961011 ,  1.5289712 ],\n",
       "       [ 0.59386694, -1.1055722 ],\n",
       "       [ 0.27055585, -0.33309206],\n",
       "       [ 0.6848189 , -0.8877595 ],\n",
       "       [ 0.10999333,  1.4424479 ],\n",
       "       [-1.1325316 ,  1.3708744 ],\n",
       "       [-0.21716881,  0.3412281 ]], dtype=float32)"
      ]
     },
     "execution_count": 33,
     "metadata": {},
     "output_type": "execute_result"
    }
   ],
   "source": [
    "_samples"
   ]
  },
  {
   "cell_type": "code",
   "execution_count": 34,
   "metadata": {
    "ExecuteTime": {
     "end_time": "2018-09-01T07:50:50.780847Z",
     "start_time": "2018-09-01T07:50:50.715911Z"
    },
    "collapsed": true
   },
   "outputs": [
    {
     "data": {
      "text/plain": [
       "[array([[-0.04825972,  1.6681467 ],\n",
       "        [-1.1017684 ,  1.4772418 ],\n",
       "        [ 1.9032845 ,  1.8739713 ],\n",
       "        [ 0.952036  , -1.4666694 ],\n",
       "        [-1.3941865 ,  2.493881  ],\n",
       "        [-0.18121843, -1.3036962 ],\n",
       "        [-1.361677  ,  2.0898554 ],\n",
       "        [-1.7863096 ,  2.6423538 ],\n",
       "        [ 2.5584097 , -1.5798473 ],\n",
       "        [ 2.1330292 , -1.0426351 ],\n",
       "        [ 0.4785167 ,  1.3442143 ],\n",
       "        [-0.8349031 ,  1.2927455 ],\n",
       "        [-1.2139485 ,  0.7711269 ],\n",
       "        [-1.4965838 ,  1.2853804 ],\n",
       "        [ 2.4092393 ,  2.7996662 ],\n",
       "        [ 0.8232765 ,  0.2041724 ],\n",
       "        [ 1.2944108 , -1.527963  ],\n",
       "        [-2.1198728 ,  0.2927999 ],\n",
       "        [ 2.013573  , -0.8611102 ],\n",
       "        [ 0.12205063,  0.802365  ],\n",
       "        [ 0.29903266,  2.6345344 ],\n",
       "        [ 0.80823004, -1.1293293 ],\n",
       "        [-1.5458711 ,  0.2832795 ],\n",
       "        [-1.0067353 ,  2.0859966 ],\n",
       "        [-0.32478535,  0.9064286 ],\n",
       "        [ 2.2341614 , -0.47455287],\n",
       "        [-0.14755844, -0.44172037],\n",
       "        [ 0.9511992 , -0.14620894],\n",
       "        [-0.30935544, -1.145798  ],\n",
       "        [-1.1514264 ,  0.05747353],\n",
       "        [ 2.5238307 , -0.4298    ],\n",
       "        [-0.55417573,  1.9364429 ],\n",
       "        [ 3.4210217 , -1.3371463 ],\n",
       "        [-1.8751786 ,  2.5387046 ],\n",
       "        [ 0.465293  , -0.78879774],\n",
       "        [ 0.57610124, -2.5744257 ],\n",
       "        [ 2.6161888 ,  0.7284671 ],\n",
       "        [ 0.46130216,  0.29799625],\n",
       "        [ 2.1240659 ,  0.46184134],\n",
       "        [ 1.6061637 , -1.5279366 ],\n",
       "        [-0.13351256,  1.2195356 ],\n",
       "        [ 1.2762419 ,  2.414808  ],\n",
       "        [ 0.2285434 , -1.5913504 ],\n",
       "        [ 1.8987665 , -0.54020584],\n",
       "        [ 0.15154481,  2.268891  ],\n",
       "        [ 1.342516  , -1.0551559 ],\n",
       "        [ 0.95834863,  0.6596227 ],\n",
       "        [ 1.3665336 ,  0.10838783],\n",
       "        [ 3.461842  ,  1.2625046 ],\n",
       "        [-1.6492426 ,  2.5772579 ],\n",
       "        [ 1.2622799 ,  1.6241968 ],\n",
       "        [ 2.7774086 , -0.7418337 ],\n",
       "        [ 0.5390655 , -0.45770735],\n",
       "        [ 0.33202553,  2.7931368 ],\n",
       "        [-1.387819  ,  3.604676  ],\n",
       "        [ 0.5297293 ,  1.5448322 ],\n",
       "        [ 2.3716047 , -0.3295542 ],\n",
       "        [ 0.711081  , -0.40447488],\n",
       "        [ 1.8605547 ,  0.15640055],\n",
       "        [-0.24703005,  0.30188826],\n",
       "        [ 1.999719  , -0.21968444],\n",
       "        [-1.2535975 ,  0.5296722 ],\n",
       "        [ 1.6873119 ,  0.68208194],\n",
       "        [ 1.8469195 , -0.6973455 ],\n",
       "        [-0.88091826,  2.5700512 ],\n",
       "        [ 0.45480192, -1.3606218 ],\n",
       "        [ 0.23973814, -0.44496337],\n",
       "        [ 0.6213231 ,  1.491404  ],\n",
       "        [ 2.3846989 , -1.1816261 ],\n",
       "        [ 0.21271557,  1.9094156 ],\n",
       "        [ 0.46580002, -0.04868223],\n",
       "        [-0.9071102 ,  1.5708282 ],\n",
       "        [ 0.48928428, -1.1324126 ],\n",
       "        [ 0.2197737 ,  0.42621967],\n",
       "        [ 2.0985754 , -1.0021194 ],\n",
       "        [ 3.3549886 , -2.041097  ],\n",
       "        [ 1.2609311 , -1.4968306 ],\n",
       "        [-0.11203939,  2.9452553 ],\n",
       "        [ 2.1005483 ,  1.4271195 ],\n",
       "        [ 2.1119132 ,  0.11208439],\n",
       "        [ 3.917854  ,  0.38728446],\n",
       "        [ 1.6190428 ,  0.5807972 ],\n",
       "        [-0.70282507,  0.3896091 ],\n",
       "        [ 2.22845   , -0.11480679],\n",
       "        [ 0.89552206,  3.05497   ],\n",
       "        [-0.6338409 ,  2.0187113 ],\n",
       "        [ 1.7700063 , -0.14357412],\n",
       "        [ 0.896255  ,  0.8239563 ],\n",
       "        [ 1.5442336 , -0.7362232 ],\n",
       "        [ 1.6569895 , -0.7710218 ],\n",
       "        [ 0.69675314, -1.5825562 ],\n",
       "        [ 2.329885  , -0.16294935],\n",
       "        [ 0.7562516 ,  1.7365376 ],\n",
       "        [-1.1149561 ,  2.4583347 ],\n",
       "        [ 1.6340362 ,  1.0806262 ],\n",
       "        [-0.09268446, -0.21662295],\n",
       "        [ 0.70012146,  1.6221955 ],\n",
       "        [-1.4995652 ,  2.0993056 ],\n",
       "        [-0.9497403 ,  3.5920963 ],\n",
       "        [-0.14005618,  0.7553202 ],\n",
       "        [ 1.1750244 ,  0.0611045 ],\n",
       "        [-1.6826622 ,  1.7922112 ],\n",
       "        [-0.34467512,  1.9938616 ],\n",
       "        [-1.1204336 ,  3.931383  ],\n",
       "        [ 0.97970986,  3.0925374 ],\n",
       "        [ 1.203994  , -1.3806257 ],\n",
       "        [-1.1914185 ,  0.10060936],\n",
       "        [-0.928981  ,  1.2979211 ],\n",
       "        [ 0.4470733 , -0.6071366 ],\n",
       "        [ 2.6765234 ,  1.581674  ],\n",
       "        [ 0.02489989, -0.8152055 ],\n",
       "        [ 0.4366926 ,  3.355762  ],\n",
       "        [ 0.46932647,  2.7724023 ],\n",
       "        [-0.3264265 ,  4.018973  ],\n",
       "        [-1.3513491 , -0.5674073 ],\n",
       "        [-0.10710679,  0.26370245],\n",
       "        [ 1.1110867 ,  1.884944  ],\n",
       "        [-0.65708417,  0.51878566],\n",
       "        [ 3.3770566 ,  0.5410984 ],\n",
       "        [-1.4738173 ,  2.2054904 ],\n",
       "        [ 0.95344883, -0.46638197],\n",
       "        [ 0.7730255 ,  0.6861063 ],\n",
       "        [-0.8333621 ,  0.6053062 ],\n",
       "        [-2.1438403 ,  0.2853425 ],\n",
       "        [-1.2725133 ,  2.377437  ],\n",
       "        [ 0.4447492 ,  1.3546717 ],\n",
       "        [ 0.4116273 ,  2.3429034 ],\n",
       "        [-1.3678926 ,  2.7975748 ],\n",
       "        [ 2.3058155 , -2.0316436 ],\n",
       "        [ 2.2134824 ,  1.2201276 ],\n",
       "        [-1.0968752 ,  0.45818442],\n",
       "        [ 1.4401729 ,  0.5256956 ],\n",
       "        [ 1.2888472 , -1.57143   ],\n",
       "        [ 0.96872383, -0.9174266 ],\n",
       "        [ 0.5090743 ,  1.8780696 ],\n",
       "        [-0.9551677 ,  0.00902846],\n",
       "        [ 1.3819963 ,  0.3747379 ],\n",
       "        [ 2.1075652 ,  0.9859905 ],\n",
       "        [-1.1347455 ,  1.2961309 ],\n",
       "        [ 2.6584108 , -0.3653919 ],\n",
       "        [ 0.9200905 , -1.0695057 ],\n",
       "        [-0.72406733,  0.09594256],\n",
       "        [-1.8656881 ,  0.9353848 ],\n",
       "        [-1.6406779 ,  0.34465486],\n",
       "        [-1.6909304 ,  2.39464   ],\n",
       "        [ 0.93214595, -1.9280672 ],\n",
       "        [ 2.415087  , -0.8942835 ],\n",
       "        [-0.18265787,  0.48206323],\n",
       "        [ 1.936799  , -0.83300316],\n",
       "        [ 2.8296888 ,  0.87180936],\n",
       "        [ 2.4859967 ,  1.3420982 ],\n",
       "        [-1.3989639 ,  0.6037284 ],\n",
       "        [ 0.8410902 , -0.42666566],\n",
       "        [ 0.08548348,  2.571227  ],\n",
       "        [ 0.6389885 ,  1.3362207 ],\n",
       "        [ 1.8472147 ,  1.1490359 ],\n",
       "        [ 0.54185283,  0.9058365 ],\n",
       "        [-0.36701027,  3.2904427 ],\n",
       "        [-1.0603071 ,  0.55723476],\n",
       "        [ 0.5174739 ,  0.7567279 ],\n",
       "        [-2.0740008 ,  2.2299745 ],\n",
       "        [ 2.4688733 , -2.0859215 ],\n",
       "        [ 0.6146702 ,  0.6776202 ],\n",
       "        [ 0.01061802,  0.6236068 ],\n",
       "        [ 2.7555223 ,  0.922177  ],\n",
       "        [-0.51571137,  0.71675944],\n",
       "        [ 1.0735593 , -0.15041691],\n",
       "        [-0.13508558,  2.5101109 ],\n",
       "        [ 1.0576442 ,  2.0823784 ],\n",
       "        [ 1.7001007 ,  1.4912623 ],\n",
       "        [-1.091568  ,  1.9423261 ],\n",
       "        [ 0.59969366, -0.1284188 ],\n",
       "        [ 2.5942738 , -0.5392086 ],\n",
       "        [-0.23010664, -1.5850981 ],\n",
       "        [-0.83390903,  1.2030092 ],\n",
       "        [-2.37964   ,  3.7738872 ],\n",
       "        [-0.6401473 , -0.03067888],\n",
       "        [-0.92653596,  1.9653118 ],\n",
       "        [ 1.7362596 ,  0.21572942],\n",
       "        [ 0.9014129 , -2.3432357 ],\n",
       "        [-0.05646539, -1.5187243 ],\n",
       "        [-0.8310536 ,  1.7958065 ],\n",
       "        [ 1.1957954 , -0.33229044],\n",
       "        [-1.0566244 ,  0.7263276 ],\n",
       "        [ 0.12435686,  1.4191597 ],\n",
       "        [ 3.447986  ,  1.4011595 ],\n",
       "        [ 0.18415692,  0.9883845 ],\n",
       "        [ 1.6571816 ,  1.084578  ],\n",
       "        [-0.17602736,  1.9261786 ],\n",
       "        [-0.24695982,  0.8011705 ],\n",
       "        [ 0.7011657 ,  1.4695868 ],\n",
       "        [-1.2547679 , -1.4530683 ],\n",
       "        [ 0.03266785,  1.3717206 ],\n",
       "        [ 1.6961011 ,  1.5289712 ],\n",
       "        [ 0.59386694, -1.1055722 ],\n",
       "        [ 0.27055585, -0.33309206],\n",
       "        [ 0.6848189 , -0.8877595 ],\n",
       "        [ 0.10999333,  1.4424479 ],\n",
       "        [-1.1325316 ,  1.3708744 ],\n",
       "        [-0.21716881,  0.3412281 ]], dtype=float32)]"
      ]
     },
     "execution_count": 34,
     "metadata": {},
     "output_type": "execute_result"
    }
   ],
   "source": [
    "_samples1"
   ]
  },
  {
   "cell_type": "code",
   "execution_count": 8,
   "metadata": {
    "ExecuteTime": {
     "end_time": "2018-09-05T17:56:00.133456Z",
     "start_time": "2018-09-05T17:55:58.425614Z"
    }
   },
   "outputs": [
    {
     "name": "stdout",
     "output_type": "stream",
     "text": [
      "Restoring previous model from: ../log_mog_tf/run_22_diag_271/model.ckpt-39999\n",
      "INFO:tensorflow:Restoring parameters from ../log_mog_tf/run_22_diag_271/model.ckpt-39999\n"
     ]
    },
    {
     "ename": "InvalidArgumentError",
     "evalue": "Assign requires shapes of both tensors to match. lhs shape= [50,2] rhs shape= [20,2]\n\t [[Node: save/Assign_86 = Assign[T=DT_FLOAT, _class=[\"loc:@XNet/linear_t/W\"], use_locking=true, validate_shape=true, _device=\"/job:localhost/replica:0/task:0/device:CPU:0\"](XNet/linear_t/W/Adam_1, save/RestoreV2:86)]]\n\nCaused by op 'save/Assign_86', defined at:\n  File \"/Users/saforem2/miniconda3/envs/tensorflow_cpu/lib/python3.6/runpy.py\", line 193, in _run_module_as_main\n    \"__main__\", mod_spec)\n  File \"/Users/saforem2/miniconda3/envs/tensorflow_cpu/lib/python3.6/runpy.py\", line 85, in _run_code\n    exec(code, run_globals)\n  File \"/Users/saforem2/miniconda3/envs/tensorflow_cpu/lib/python3.6/site-packages/ipykernel_launcher.py\", line 16, in <module>\n    app.launch_new_instance()\n  File \"/Users/saforem2/miniconda3/envs/tensorflow_cpu/lib/python3.6/site-packages/traitlets/config/application.py\", line 658, in launch_instance\n    app.start()\n  File \"/Users/saforem2/miniconda3/envs/tensorflow_cpu/lib/python3.6/site-packages/ipykernel/kernelapp.py\", line 486, in start\n    self.io_loop.start()\n  File \"/Users/saforem2/miniconda3/envs/tensorflow_cpu/lib/python3.6/site-packages/tornado/platform/asyncio.py\", line 132, in start\n    self.asyncio_loop.run_forever()\n  File \"/Users/saforem2/miniconda3/envs/tensorflow_cpu/lib/python3.6/asyncio/base_events.py\", line 422, in run_forever\n    self._run_once()\n  File \"/Users/saforem2/miniconda3/envs/tensorflow_cpu/lib/python3.6/asyncio/base_events.py\", line 1432, in _run_once\n    handle._run()\n  File \"/Users/saforem2/miniconda3/envs/tensorflow_cpu/lib/python3.6/asyncio/events.py\", line 145, in _run\n    self._callback(*self._args)\n  File \"/Users/saforem2/miniconda3/envs/tensorflow_cpu/lib/python3.6/site-packages/tornado/platform/asyncio.py\", line 122, in _handle_events\n    handler_func(fileobj, events)\n  File \"/Users/saforem2/miniconda3/envs/tensorflow_cpu/lib/python3.6/site-packages/tornado/stack_context.py\", line 300, in null_wrapper\n    return fn(*args, **kwargs)\n  File \"/Users/saforem2/miniconda3/envs/tensorflow_cpu/lib/python3.6/site-packages/zmq/eventloop/zmqstream.py\", line 450, in _handle_events\n    self._handle_recv()\n  File \"/Users/saforem2/miniconda3/envs/tensorflow_cpu/lib/python3.6/site-packages/zmq/eventloop/zmqstream.py\", line 480, in _handle_recv\n    self._run_callback(callback, msg)\n  File \"/Users/saforem2/miniconda3/envs/tensorflow_cpu/lib/python3.6/site-packages/zmq/eventloop/zmqstream.py\", line 432, in _run_callback\n    callback(*args, **kwargs)\n  File \"/Users/saforem2/miniconda3/envs/tensorflow_cpu/lib/python3.6/site-packages/tornado/stack_context.py\", line 300, in null_wrapper\n    return fn(*args, **kwargs)\n  File \"/Users/saforem2/miniconda3/envs/tensorflow_cpu/lib/python3.6/site-packages/ipykernel/kernelbase.py\", line 283, in dispatcher\n    return self.dispatch_shell(stream, msg)\n  File \"/Users/saforem2/miniconda3/envs/tensorflow_cpu/lib/python3.6/site-packages/ipykernel/kernelbase.py\", line 233, in dispatch_shell\n    handler(stream, idents, msg)\n  File \"/Users/saforem2/miniconda3/envs/tensorflow_cpu/lib/python3.6/site-packages/ipykernel/kernelbase.py\", line 399, in execute_request\n    user_expressions, allow_stdin)\n  File \"/Users/saforem2/miniconda3/envs/tensorflow_cpu/lib/python3.6/site-packages/ipykernel/ipkernel.py\", line 208, in do_execute\n    res = shell.run_cell(code, store_history=store_history, silent=silent)\n  File \"/Users/saforem2/miniconda3/envs/tensorflow_cpu/lib/python3.6/site-packages/ipykernel/zmqshell.py\", line 537, in run_cell\n    return super(ZMQInteractiveShell, self).run_cell(*args, **kwargs)\n  File \"/Users/saforem2/miniconda3/envs/tensorflow_cpu/lib/python3.6/site-packages/IPython/core/interactiveshell.py\", line 2662, in run_cell\n    raw_cell, store_history, silent, shell_futures)\n  File \"/Users/saforem2/miniconda3/envs/tensorflow_cpu/lib/python3.6/site-packages/IPython/core/interactiveshell.py\", line 2785, in _run_cell\n    interactivity=interactivity, compiler=compiler, result=result)\n  File \"/Users/saforem2/miniconda3/envs/tensorflow_cpu/lib/python3.6/site-packages/IPython/core/interactiveshell.py\", line 2909, in run_ast_nodes\n    if self.run_code(code, result):\n  File \"/Users/saforem2/miniconda3/envs/tensorflow_cpu/lib/python3.6/site-packages/IPython/core/interactiveshell.py\", line 2963, in run_code\n    exec(code_obj, self.user_global_ns, self.user_ns)\n  File \"<ipython-input-8-73ba78d2c186>\", line 1, in <module>\n    model.train(10)\n  File \"/Users/saforem2/ANL/l2hmc/l2hmc/mog_model.py\", line 881, in train\n    saver = tf.train.Saver(max_to_keep=3)\n  File \"/Users/saforem2/miniconda3/envs/tensorflow_cpu/lib/python3.6/site-packages/tensorflow/python/training/saver.py\", line 1284, in __init__\n    self.build()\n  File \"/Users/saforem2/miniconda3/envs/tensorflow_cpu/lib/python3.6/site-packages/tensorflow/python/training/saver.py\", line 1296, in build\n    self._build(self._filename, build_save=True, build_restore=True)\n  File \"/Users/saforem2/miniconda3/envs/tensorflow_cpu/lib/python3.6/site-packages/tensorflow/python/training/saver.py\", line 1333, in _build\n    build_save=build_save, build_restore=build_restore)\n  File \"/Users/saforem2/miniconda3/envs/tensorflow_cpu/lib/python3.6/site-packages/tensorflow/python/training/saver.py\", line 781, in _build_internal\n    restore_sequentially, reshape)\n  File \"/Users/saforem2/miniconda3/envs/tensorflow_cpu/lib/python3.6/site-packages/tensorflow/python/training/saver.py\", line 422, in _AddRestoreOps\n    assign_ops.append(saveable.restore(saveable_tensors, shapes))\n  File \"/Users/saforem2/miniconda3/envs/tensorflow_cpu/lib/python3.6/site-packages/tensorflow/python/training/saver.py\", line 113, in restore\n    self.op.get_shape().is_fully_defined())\n  File \"/Users/saforem2/miniconda3/envs/tensorflow_cpu/lib/python3.6/site-packages/tensorflow/python/ops/state_ops.py\", line 219, in assign\n    validate_shape=validate_shape)\n  File \"/Users/saforem2/miniconda3/envs/tensorflow_cpu/lib/python3.6/site-packages/tensorflow/python/ops/gen_state_ops.py\", line 60, in assign\n    use_locking=use_locking, name=name)\n  File \"/Users/saforem2/miniconda3/envs/tensorflow_cpu/lib/python3.6/site-packages/tensorflow/python/framework/op_def_library.py\", line 787, in _apply_op_helper\n    op_def=op_def)\n  File \"/Users/saforem2/miniconda3/envs/tensorflow_cpu/lib/python3.6/site-packages/tensorflow/python/framework/ops.py\", line 3414, in create_op\n    op_def=op_def)\n  File \"/Users/saforem2/miniconda3/envs/tensorflow_cpu/lib/python3.6/site-packages/tensorflow/python/framework/ops.py\", line 1740, in __init__\n    self._traceback = self._graph._extract_stack()  # pylint: disable=protected-access\n\nInvalidArgumentError (see above for traceback): Assign requires shapes of both tensors to match. lhs shape= [50,2] rhs shape= [20,2]\n\t [[Node: save/Assign_86 = Assign[T=DT_FLOAT, _class=[\"loc:@XNet/linear_t/W\"], use_locking=true, validate_shape=true, _device=\"/job:localhost/replica:0/task:0/device:CPU:0\"](XNet/linear_t/W/Adam_1, save/RestoreV2:86)]]\n",
     "output_type": "error",
     "traceback": [
      "\u001b[0;31m---------------------------------------------------------------------------\u001b[0m",
      "\u001b[0;31mInvalidArgumentError\u001b[0m                      Traceback (most recent call last)",
      "\u001b[0;32m~/miniconda3/envs/tensorflow_cpu/lib/python3.6/site-packages/tensorflow/python/client/session.py\u001b[0m in \u001b[0;36m_do_call\u001b[0;34m(self, fn, *args)\u001b[0m\n\u001b[1;32m   1321\u001b[0m     \u001b[0;32mtry\u001b[0m\u001b[0;34m:\u001b[0m\u001b[0;34m\u001b[0m\u001b[0m\n\u001b[0;32m-> 1322\u001b[0;31m       \u001b[0;32mreturn\u001b[0m \u001b[0mfn\u001b[0m\u001b[0;34m(\u001b[0m\u001b[0;34m*\u001b[0m\u001b[0margs\u001b[0m\u001b[0;34m)\u001b[0m\u001b[0;34m\u001b[0m\u001b[0m\n\u001b[0m\u001b[1;32m   1323\u001b[0m     \u001b[0;32mexcept\u001b[0m \u001b[0merrors\u001b[0m\u001b[0;34m.\u001b[0m\u001b[0mOpError\u001b[0m \u001b[0;32mas\u001b[0m \u001b[0me\u001b[0m\u001b[0;34m:\u001b[0m\u001b[0;34m\u001b[0m\u001b[0m\n",
      "\u001b[0;32m~/miniconda3/envs/tensorflow_cpu/lib/python3.6/site-packages/tensorflow/python/client/session.py\u001b[0m in \u001b[0;36m_run_fn\u001b[0;34m(feed_dict, fetch_list, target_list, options, run_metadata)\u001b[0m\n\u001b[1;32m   1306\u001b[0m       return self._call_tf_sessionrun(\n\u001b[0;32m-> 1307\u001b[0;31m           options, feed_dict, fetch_list, target_list, run_metadata)\n\u001b[0m\u001b[1;32m   1308\u001b[0m \u001b[0;34m\u001b[0m\u001b[0m\n",
      "\u001b[0;32m~/miniconda3/envs/tensorflow_cpu/lib/python3.6/site-packages/tensorflow/python/client/session.py\u001b[0m in \u001b[0;36m_call_tf_sessionrun\u001b[0;34m(self, options, feed_dict, fetch_list, target_list, run_metadata)\u001b[0m\n\u001b[1;32m   1408\u001b[0m           \u001b[0mself\u001b[0m\u001b[0;34m.\u001b[0m\u001b[0m_session\u001b[0m\u001b[0;34m,\u001b[0m \u001b[0moptions\u001b[0m\u001b[0;34m,\u001b[0m \u001b[0mfeed_dict\u001b[0m\u001b[0;34m,\u001b[0m \u001b[0mfetch_list\u001b[0m\u001b[0;34m,\u001b[0m \u001b[0mtarget_list\u001b[0m\u001b[0;34m,\u001b[0m\u001b[0;34m\u001b[0m\u001b[0m\n\u001b[0;32m-> 1409\u001b[0;31m           run_metadata)\n\u001b[0m\u001b[1;32m   1410\u001b[0m     \u001b[0;32melse\u001b[0m\u001b[0;34m:\u001b[0m\u001b[0;34m\u001b[0m\u001b[0m\n",
      "\u001b[0;31mInvalidArgumentError\u001b[0m: Assign requires shapes of both tensors to match. lhs shape= [50,2] rhs shape= [20,2]\n\t [[Node: save/Assign_86 = Assign[T=DT_FLOAT, _class=[\"loc:@XNet/linear_t/W\"], use_locking=true, validate_shape=true, _device=\"/job:localhost/replica:0/task:0/device:CPU:0\"](XNet/linear_t/W/Adam_1, save/RestoreV2:86)]]",
      "\nDuring handling of the above exception, another exception occurred:\n",
      "\u001b[0;31mInvalidArgumentError\u001b[0m                      Traceback (most recent call last)",
      "\u001b[0;32m<ipython-input-8-73ba78d2c186>\u001b[0m in \u001b[0;36m<module>\u001b[0;34m()\u001b[0m\n\u001b[0;32m----> 1\u001b[0;31m \u001b[0mmodel\u001b[0m\u001b[0;34m.\u001b[0m\u001b[0mtrain\u001b[0m\u001b[0;34m(\u001b[0m\u001b[0;36m10\u001b[0m\u001b[0;34m)\u001b[0m\u001b[0;34m\u001b[0m\u001b[0m\n\u001b[0m",
      "\u001b[0;32m~/ANL/l2hmc/l2hmc/mog_model.py\u001b[0m in \u001b[0;36mtrain\u001b[0;34m(self, num_train_steps)\u001b[0m\n\u001b[1;32m    886\u001b[0m             print('Restoring previous model from: '\n\u001b[1;32m    887\u001b[0m                   f'{ckpt.model_checkpoint_path}')\n\u001b[0;32m--> 888\u001b[0;31m             \u001b[0msaver\u001b[0m\u001b[0;34m.\u001b[0m\u001b[0mrestore\u001b[0m\u001b[0;34m(\u001b[0m\u001b[0mself\u001b[0m\u001b[0;34m.\u001b[0m\u001b[0msess\u001b[0m\u001b[0;34m,\u001b[0m \u001b[0mckpt\u001b[0m\u001b[0;34m.\u001b[0m\u001b[0mmodel_checkpoint_path\u001b[0m\u001b[0;34m)\u001b[0m\u001b[0;34m\u001b[0m\u001b[0m\n\u001b[0m\u001b[1;32m    889\u001b[0m             \u001b[0mprint\u001b[0m\u001b[0;34m(\u001b[0m\u001b[0;34m'Model restored.\\n'\u001b[0m\u001b[0;34m)\u001b[0m\u001b[0;34m\u001b[0m\u001b[0m\n\u001b[1;32m    890\u001b[0m             \u001b[0mself\u001b[0m\u001b[0;34m.\u001b[0m\u001b[0mglobal_step\u001b[0m \u001b[0;34m=\u001b[0m \u001b[0mtf\u001b[0m\u001b[0;34m.\u001b[0m\u001b[0mtrain\u001b[0m\u001b[0;34m.\u001b[0m\u001b[0mget_global_step\u001b[0m\u001b[0;34m(\u001b[0m\u001b[0;34m)\u001b[0m\u001b[0;34m\u001b[0m\u001b[0m\n",
      "\u001b[0;32m~/miniconda3/envs/tensorflow_cpu/lib/python3.6/site-packages/tensorflow/python/training/saver.py\u001b[0m in \u001b[0;36mrestore\u001b[0;34m(self, sess, save_path)\u001b[0m\n\u001b[1;32m   1750\u001b[0m       \u001b[0;32melse\u001b[0m\u001b[0;34m:\u001b[0m\u001b[0;34m\u001b[0m\u001b[0m\n\u001b[1;32m   1751\u001b[0m         sess.run(self.saver_def.restore_op_name,\n\u001b[0;32m-> 1752\u001b[0;31m                  {self.saver_def.filename_tensor_name: save_path})\n\u001b[0m\u001b[1;32m   1753\u001b[0m     \u001b[0;32mexcept\u001b[0m \u001b[0merrors\u001b[0m\u001b[0;34m.\u001b[0m\u001b[0mNotFoundError\u001b[0m\u001b[0;34m:\u001b[0m\u001b[0;34m\u001b[0m\u001b[0m\n\u001b[1;32m   1754\u001b[0m       \u001b[0mexception_type\u001b[0m\u001b[0;34m,\u001b[0m \u001b[0mexception_value\u001b[0m\u001b[0;34m,\u001b[0m \u001b[0mexception_traceback\u001b[0m \u001b[0;34m=\u001b[0m \u001b[0msys\u001b[0m\u001b[0;34m.\u001b[0m\u001b[0mexc_info\u001b[0m\u001b[0;34m(\u001b[0m\u001b[0;34m)\u001b[0m\u001b[0;34m\u001b[0m\u001b[0m\n",
      "\u001b[0;32m~/miniconda3/envs/tensorflow_cpu/lib/python3.6/site-packages/tensorflow/python/client/session.py\u001b[0m in \u001b[0;36mrun\u001b[0;34m(self, fetches, feed_dict, options, run_metadata)\u001b[0m\n\u001b[1;32m    898\u001b[0m     \u001b[0;32mtry\u001b[0m\u001b[0;34m:\u001b[0m\u001b[0;34m\u001b[0m\u001b[0m\n\u001b[1;32m    899\u001b[0m       result = self._run(None, fetches, feed_dict, options_ptr,\n\u001b[0;32m--> 900\u001b[0;31m                          run_metadata_ptr)\n\u001b[0m\u001b[1;32m    901\u001b[0m       \u001b[0;32mif\u001b[0m \u001b[0mrun_metadata\u001b[0m\u001b[0;34m:\u001b[0m\u001b[0;34m\u001b[0m\u001b[0m\n\u001b[1;32m    902\u001b[0m         \u001b[0mproto_data\u001b[0m \u001b[0;34m=\u001b[0m \u001b[0mtf_session\u001b[0m\u001b[0;34m.\u001b[0m\u001b[0mTF_GetBuffer\u001b[0m\u001b[0;34m(\u001b[0m\u001b[0mrun_metadata_ptr\u001b[0m\u001b[0;34m)\u001b[0m\u001b[0;34m\u001b[0m\u001b[0m\n",
      "\u001b[0;32m~/miniconda3/envs/tensorflow_cpu/lib/python3.6/site-packages/tensorflow/python/client/session.py\u001b[0m in \u001b[0;36m_run\u001b[0;34m(self, handle, fetches, feed_dict, options, run_metadata)\u001b[0m\n\u001b[1;32m   1133\u001b[0m     \u001b[0;32mif\u001b[0m \u001b[0mfinal_fetches\u001b[0m \u001b[0;32mor\u001b[0m \u001b[0mfinal_targets\u001b[0m \u001b[0;32mor\u001b[0m \u001b[0;34m(\u001b[0m\u001b[0mhandle\u001b[0m \u001b[0;32mand\u001b[0m \u001b[0mfeed_dict_tensor\u001b[0m\u001b[0;34m)\u001b[0m\u001b[0;34m:\u001b[0m\u001b[0;34m\u001b[0m\u001b[0m\n\u001b[1;32m   1134\u001b[0m       results = self._do_run(handle, final_targets, final_fetches,\n\u001b[0;32m-> 1135\u001b[0;31m                              feed_dict_tensor, options, run_metadata)\n\u001b[0m\u001b[1;32m   1136\u001b[0m     \u001b[0;32melse\u001b[0m\u001b[0;34m:\u001b[0m\u001b[0;34m\u001b[0m\u001b[0m\n\u001b[1;32m   1137\u001b[0m       \u001b[0mresults\u001b[0m \u001b[0;34m=\u001b[0m \u001b[0;34m[\u001b[0m\u001b[0;34m]\u001b[0m\u001b[0;34m\u001b[0m\u001b[0m\n",
      "\u001b[0;32m~/miniconda3/envs/tensorflow_cpu/lib/python3.6/site-packages/tensorflow/python/client/session.py\u001b[0m in \u001b[0;36m_do_run\u001b[0;34m(self, handle, target_list, fetch_list, feed_dict, options, run_metadata)\u001b[0m\n\u001b[1;32m   1314\u001b[0m     \u001b[0;32mif\u001b[0m \u001b[0mhandle\u001b[0m \u001b[0;32mis\u001b[0m \u001b[0;32mNone\u001b[0m\u001b[0;34m:\u001b[0m\u001b[0;34m\u001b[0m\u001b[0m\n\u001b[1;32m   1315\u001b[0m       return self._do_call(_run_fn, feeds, fetches, targets, options,\n\u001b[0;32m-> 1316\u001b[0;31m                            run_metadata)\n\u001b[0m\u001b[1;32m   1317\u001b[0m     \u001b[0;32melse\u001b[0m\u001b[0;34m:\u001b[0m\u001b[0;34m\u001b[0m\u001b[0m\n\u001b[1;32m   1318\u001b[0m       \u001b[0;32mreturn\u001b[0m \u001b[0mself\u001b[0m\u001b[0;34m.\u001b[0m\u001b[0m_do_call\u001b[0m\u001b[0;34m(\u001b[0m\u001b[0m_prun_fn\u001b[0m\u001b[0;34m,\u001b[0m \u001b[0mhandle\u001b[0m\u001b[0;34m,\u001b[0m \u001b[0mfeeds\u001b[0m\u001b[0;34m,\u001b[0m \u001b[0mfetches\u001b[0m\u001b[0;34m)\u001b[0m\u001b[0;34m\u001b[0m\u001b[0m\n",
      "\u001b[0;32m~/miniconda3/envs/tensorflow_cpu/lib/python3.6/site-packages/tensorflow/python/client/session.py\u001b[0m in \u001b[0;36m_do_call\u001b[0;34m(self, fn, *args)\u001b[0m\n\u001b[1;32m   1333\u001b[0m         \u001b[0;32mexcept\u001b[0m \u001b[0mKeyError\u001b[0m\u001b[0;34m:\u001b[0m\u001b[0;34m\u001b[0m\u001b[0m\n\u001b[1;32m   1334\u001b[0m           \u001b[0;32mpass\u001b[0m\u001b[0;34m\u001b[0m\u001b[0m\n\u001b[0;32m-> 1335\u001b[0;31m       \u001b[0;32mraise\u001b[0m \u001b[0mtype\u001b[0m\u001b[0;34m(\u001b[0m\u001b[0me\u001b[0m\u001b[0;34m)\u001b[0m\u001b[0;34m(\u001b[0m\u001b[0mnode_def\u001b[0m\u001b[0;34m,\u001b[0m \u001b[0mop\u001b[0m\u001b[0;34m,\u001b[0m \u001b[0mmessage\u001b[0m\u001b[0;34m)\u001b[0m\u001b[0;34m\u001b[0m\u001b[0m\n\u001b[0m\u001b[1;32m   1336\u001b[0m \u001b[0;34m\u001b[0m\u001b[0m\n\u001b[1;32m   1337\u001b[0m   \u001b[0;32mdef\u001b[0m \u001b[0m_extend_graph\u001b[0m\u001b[0;34m(\u001b[0m\u001b[0mself\u001b[0m\u001b[0;34m)\u001b[0m\u001b[0;34m:\u001b[0m\u001b[0;34m\u001b[0m\u001b[0m\n",
      "\u001b[0;31mInvalidArgumentError\u001b[0m: Assign requires shapes of both tensors to match. lhs shape= [50,2] rhs shape= [20,2]\n\t [[Node: save/Assign_86 = Assign[T=DT_FLOAT, _class=[\"loc:@XNet/linear_t/W\"], use_locking=true, validate_shape=true, _device=\"/job:localhost/replica:0/task:0/device:CPU:0\"](XNet/linear_t/W/Adam_1, save/RestoreV2:86)]]\n\nCaused by op 'save/Assign_86', defined at:\n  File \"/Users/saforem2/miniconda3/envs/tensorflow_cpu/lib/python3.6/runpy.py\", line 193, in _run_module_as_main\n    \"__main__\", mod_spec)\n  File \"/Users/saforem2/miniconda3/envs/tensorflow_cpu/lib/python3.6/runpy.py\", line 85, in _run_code\n    exec(code, run_globals)\n  File \"/Users/saforem2/miniconda3/envs/tensorflow_cpu/lib/python3.6/site-packages/ipykernel_launcher.py\", line 16, in <module>\n    app.launch_new_instance()\n  File \"/Users/saforem2/miniconda3/envs/tensorflow_cpu/lib/python3.6/site-packages/traitlets/config/application.py\", line 658, in launch_instance\n    app.start()\n  File \"/Users/saforem2/miniconda3/envs/tensorflow_cpu/lib/python3.6/site-packages/ipykernel/kernelapp.py\", line 486, in start\n    self.io_loop.start()\n  File \"/Users/saforem2/miniconda3/envs/tensorflow_cpu/lib/python3.6/site-packages/tornado/platform/asyncio.py\", line 132, in start\n    self.asyncio_loop.run_forever()\n  File \"/Users/saforem2/miniconda3/envs/tensorflow_cpu/lib/python3.6/asyncio/base_events.py\", line 422, in run_forever\n    self._run_once()\n  File \"/Users/saforem2/miniconda3/envs/tensorflow_cpu/lib/python3.6/asyncio/base_events.py\", line 1432, in _run_once\n    handle._run()\n  File \"/Users/saforem2/miniconda3/envs/tensorflow_cpu/lib/python3.6/asyncio/events.py\", line 145, in _run\n    self._callback(*self._args)\n  File \"/Users/saforem2/miniconda3/envs/tensorflow_cpu/lib/python3.6/site-packages/tornado/platform/asyncio.py\", line 122, in _handle_events\n    handler_func(fileobj, events)\n  File \"/Users/saforem2/miniconda3/envs/tensorflow_cpu/lib/python3.6/site-packages/tornado/stack_context.py\", line 300, in null_wrapper\n    return fn(*args, **kwargs)\n  File \"/Users/saforem2/miniconda3/envs/tensorflow_cpu/lib/python3.6/site-packages/zmq/eventloop/zmqstream.py\", line 450, in _handle_events\n    self._handle_recv()\n  File \"/Users/saforem2/miniconda3/envs/tensorflow_cpu/lib/python3.6/site-packages/zmq/eventloop/zmqstream.py\", line 480, in _handle_recv\n    self._run_callback(callback, msg)\n  File \"/Users/saforem2/miniconda3/envs/tensorflow_cpu/lib/python3.6/site-packages/zmq/eventloop/zmqstream.py\", line 432, in _run_callback\n    callback(*args, **kwargs)\n  File \"/Users/saforem2/miniconda3/envs/tensorflow_cpu/lib/python3.6/site-packages/tornado/stack_context.py\", line 300, in null_wrapper\n    return fn(*args, **kwargs)\n  File \"/Users/saforem2/miniconda3/envs/tensorflow_cpu/lib/python3.6/site-packages/ipykernel/kernelbase.py\", line 283, in dispatcher\n    return self.dispatch_shell(stream, msg)\n  File \"/Users/saforem2/miniconda3/envs/tensorflow_cpu/lib/python3.6/site-packages/ipykernel/kernelbase.py\", line 233, in dispatch_shell\n    handler(stream, idents, msg)\n  File \"/Users/saforem2/miniconda3/envs/tensorflow_cpu/lib/python3.6/site-packages/ipykernel/kernelbase.py\", line 399, in execute_request\n    user_expressions, allow_stdin)\n  File \"/Users/saforem2/miniconda3/envs/tensorflow_cpu/lib/python3.6/site-packages/ipykernel/ipkernel.py\", line 208, in do_execute\n    res = shell.run_cell(code, store_history=store_history, silent=silent)\n  File \"/Users/saforem2/miniconda3/envs/tensorflow_cpu/lib/python3.6/site-packages/ipykernel/zmqshell.py\", line 537, in run_cell\n    return super(ZMQInteractiveShell, self).run_cell(*args, **kwargs)\n  File \"/Users/saforem2/miniconda3/envs/tensorflow_cpu/lib/python3.6/site-packages/IPython/core/interactiveshell.py\", line 2662, in run_cell\n    raw_cell, store_history, silent, shell_futures)\n  File \"/Users/saforem2/miniconda3/envs/tensorflow_cpu/lib/python3.6/site-packages/IPython/core/interactiveshell.py\", line 2785, in _run_cell\n    interactivity=interactivity, compiler=compiler, result=result)\n  File \"/Users/saforem2/miniconda3/envs/tensorflow_cpu/lib/python3.6/site-packages/IPython/core/interactiveshell.py\", line 2909, in run_ast_nodes\n    if self.run_code(code, result):\n  File \"/Users/saforem2/miniconda3/envs/tensorflow_cpu/lib/python3.6/site-packages/IPython/core/interactiveshell.py\", line 2963, in run_code\n    exec(code_obj, self.user_global_ns, self.user_ns)\n  File \"<ipython-input-8-73ba78d2c186>\", line 1, in <module>\n    model.train(10)\n  File \"/Users/saforem2/ANL/l2hmc/l2hmc/mog_model.py\", line 881, in train\n    saver = tf.train.Saver(max_to_keep=3)\n  File \"/Users/saforem2/miniconda3/envs/tensorflow_cpu/lib/python3.6/site-packages/tensorflow/python/training/saver.py\", line 1284, in __init__\n    self.build()\n  File \"/Users/saforem2/miniconda3/envs/tensorflow_cpu/lib/python3.6/site-packages/tensorflow/python/training/saver.py\", line 1296, in build\n    self._build(self._filename, build_save=True, build_restore=True)\n  File \"/Users/saforem2/miniconda3/envs/tensorflow_cpu/lib/python3.6/site-packages/tensorflow/python/training/saver.py\", line 1333, in _build\n    build_save=build_save, build_restore=build_restore)\n  File \"/Users/saforem2/miniconda3/envs/tensorflow_cpu/lib/python3.6/site-packages/tensorflow/python/training/saver.py\", line 781, in _build_internal\n    restore_sequentially, reshape)\n  File \"/Users/saforem2/miniconda3/envs/tensorflow_cpu/lib/python3.6/site-packages/tensorflow/python/training/saver.py\", line 422, in _AddRestoreOps\n    assign_ops.append(saveable.restore(saveable_tensors, shapes))\n  File \"/Users/saforem2/miniconda3/envs/tensorflow_cpu/lib/python3.6/site-packages/tensorflow/python/training/saver.py\", line 113, in restore\n    self.op.get_shape().is_fully_defined())\n  File \"/Users/saforem2/miniconda3/envs/tensorflow_cpu/lib/python3.6/site-packages/tensorflow/python/ops/state_ops.py\", line 219, in assign\n    validate_shape=validate_shape)\n  File \"/Users/saforem2/miniconda3/envs/tensorflow_cpu/lib/python3.6/site-packages/tensorflow/python/ops/gen_state_ops.py\", line 60, in assign\n    use_locking=use_locking, name=name)\n  File \"/Users/saforem2/miniconda3/envs/tensorflow_cpu/lib/python3.6/site-packages/tensorflow/python/framework/op_def_library.py\", line 787, in _apply_op_helper\n    op_def=op_def)\n  File \"/Users/saforem2/miniconda3/envs/tensorflow_cpu/lib/python3.6/site-packages/tensorflow/python/framework/ops.py\", line 3414, in create_op\n    op_def=op_def)\n  File \"/Users/saforem2/miniconda3/envs/tensorflow_cpu/lib/python3.6/site-packages/tensorflow/python/framework/ops.py\", line 1740, in __init__\n    self._traceback = self._graph._extract_stack()  # pylint: disable=protected-access\n\nInvalidArgumentError (see above for traceback): Assign requires shapes of both tensors to match. lhs shape= [50,2] rhs shape= [20,2]\n\t [[Node: save/Assign_86 = Assign[T=DT_FLOAT, _class=[\"loc:@XNet/linear_t/W\"], use_locking=true, validate_shape=true, _device=\"/job:localhost/replica:0/task:0/device:CPU:0\"](XNet/linear_t/W/Adam_1, save/RestoreV2:86)]]\n"
     ]
    }
   ],
   "source": [
    "model.train(10)"
   ]
  },
  {
   "cell_type": "code",
   "execution_count": null,
   "metadata": {},
   "outputs": [],
   "source": []
  },
  {
   "cell_type": "markdown",
   "metadata": {
    "heading_collapsed": true
   },
   "source": [
    "### Less old"
   ]
  },
  {
   "cell_type": "code",
   "execution_count": null,
   "metadata": {
    "ExecuteTime": {
     "end_time": "2018-08-23T19:23:27.888456Z",
     "start_time": "2018-08-23T19:23:27.846444Z"
    },
    "hidden": true
   },
   "outputs": [],
   "source": [
    "for key in model.tunneling_rates_highT.keys():\n",
    "    #print(f'Step num: {key[0]}')\n",
    "    #print(f'Temp: {key[1]}')\n",
    "    model.steps_arr.append(key[0])\n",
    "    model.temp_arr.append(key[1])\n",
    "    #model.temp_arr.append(key[1])"
   ]
  },
  {
   "cell_type": "code",
   "execution_count": null,
   "metadata": {
    "ExecuteTime": {
     "end_time": "2018-08-23T19:28:03.523020Z",
     "start_time": "2018-08-23T19:28:03.416812Z"
    },
    "hidden": true
   },
   "outputs": [],
   "source": [
    "for idx in range(len(model.steps_arr)):\n",
    "    model.steps_arr[idx] += 1"
   ]
  },
  {
   "cell_type": "code",
   "execution_count": null,
   "metadata": {
    "ExecuteTime": {
     "end_time": "2018-08-23T19:28:07.306904Z",
     "start_time": "2018-08-23T19:28:07.225387Z"
    },
    "hidden": true
   },
   "outputs": [],
   "source": [
    "model.steps_arr"
   ]
  },
  {
   "cell_type": "code",
   "execution_count": null,
   "metadata": {
    "ExecuteTime": {
     "end_time": "2018-08-23T19:27:00.712375Z",
     "start_time": "2018-08-23T19:27:00.616409Z"
    },
    "hidden": true
   },
   "outputs": [],
   "source": [
    "for key, val in model.tunneling_rates.items():\n",
    "    model.tunneling_rates_avg.append(val[0])\n",
    "    model.tunneling_rates_err.append(val[1])\n",
    "for key, val in model.tunneling_rates_highT.items():\n",
    "    model.tunneling_rates_avg_highT.append(val[0])\n",
    "    model.tunneling_rates_err_highT.append(val[1])\n",
    "    \n",
    "for key, val in model.acceptance_rates.items():\n",
    "    model.acceptance_rates_avg.append(val[0])\n",
    "    model.acceptance_rates_err.append(val[1])\n",
    "for key, val in model.acceptance_rates_highT.items():\n",
    "    model.acceptance_rates_avg_highT.append(val[0])\n",
    "    model.acceptance_rates_err_highT.append(val[1])\n",
    "    \n",
    "for key, val in model.distances.items():\n",
    "    model.distances_avg.append(val[0])\n",
    "    model.distances_err.append(val[1])\n",
    "for key, val in model.distances_highT.items():\n",
    "    model.distances_avg_highT.append(val[0])\n",
    "    model.distances_err_highT.append(val[1])"
   ]
  },
  {
   "cell_type": "code",
   "execution_count": null,
   "metadata": {
    "ExecuteTime": {
     "end_time": "2018-08-23T19:30:04.842141Z",
     "start_time": "2018-08-23T19:30:04.691551Z"
    },
    "hidden": true
   },
   "outputs": [],
   "source": [
    "model._save_variables()"
   ]
  },
  {
   "cell_type": "code",
   "execution_count": null,
   "metadata": {
    "ExecuteTime": {
     "end_time": "2018-08-23T19:33:00.029883Z",
     "start_time": "2018-08-23T19:32:59.960970Z"
    },
    "hidden": true
   },
   "outputs": [],
   "source": [
    "model._init_params(params)"
   ]
  },
  {
   "cell_type": "code",
   "execution_count": null,
   "metadata": {
    "ExecuteTime": {
     "end_time": "2018-08-23T19:33:27.096296Z",
     "start_time": "2018-08-23T19:33:27.020280Z"
    },
    "hidden": true
   },
   "outputs": [],
   "source": [
    "model._load_variables()"
   ]
  },
  {
   "cell_type": "code",
   "execution_count": null,
   "metadata": {
    "ExecuteTime": {
     "end_time": "2018-08-23T19:33:31.987060Z",
     "start_time": "2018-08-23T19:33:31.882622Z"
    },
    "hidden": true
   },
   "outputs": [],
   "source": [
    "model.steps_arr"
   ]
  },
  {
   "cell_type": "code",
   "execution_count": null,
   "metadata": {
    "ExecuteTime": {
     "end_time": "2018-08-23T19:35:19.681799Z",
     "start_time": "2018-08-23T19:35:19.559542Z"
    },
    "hidden": true
   },
   "outputs": [],
   "source": [
    "model.tunneling_rates"
   ]
  },
  {
   "cell_type": "code",
   "execution_count": null,
   "metadata": {
    "ExecuteTime": {
     "end_time": "2018-08-23T19:36:57.794634Z",
     "start_time": "2018-08-23T19:36:57.750938Z"
    },
    "hidden": true
   },
   "outputs": [],
   "source": [
    "import os"
   ]
  },
  {
   "cell_type": "code",
   "execution_count": null,
   "metadata": {
    "ExecuteTime": {
     "end_time": "2018-08-23T19:48:26.866990Z",
     "start_time": "2018-08-23T19:48:26.754670Z"
    },
    "hidden": true
   },
   "outputs": [],
   "source": [
    "model.__dict__.keys()"
   ]
  },
  {
   "cell_type": "code",
   "execution_count": null,
   "metadata": {
    "ExecuteTime": {
     "end_time": "2018-08-23T20:23:21.198691Z",
     "start_time": "2018-08-23T20:23:21.122688Z"
    },
    "hidden": true
   },
   "outputs": [],
   "source": [
    "get_vals_as_arr = lambda _dict: np.array(list(_dict.values()))\n",
    "tr = get_vals_as_arr(model.tunneling_rates)\n",
    "ar = get_vals_as_arr(model.acceptance_rates)\n",
    "dr = get_vals_as_arr(model.distances)\n",
    "#np.array(list(model.tunneling_rates.values()))"
   ]
  },
  {
   "cell_type": "code",
   "execution_count": null,
   "metadata": {
    "ExecuteTime": {
     "end_time": "2018-08-23T19:39:33.110389Z",
     "start_time": "2018-08-23T19:39:33.027299Z"
    },
    "hidden": true
   },
   "outputs": [],
   "source": [
    "for key in model.attrs_dict.keys():\n",
    "    in_file = model.info_dir + key + '.npy'\n",
    "    if os.path.isfile(in_file):\n",
    "        setattr(model, key, np.load(in_file))\n",
    "        print(f'Set model.{key} to values read in from: {in_file}')\n",
    "        #print(model.key == np.load(in_file))"
   ]
  },
  {
   "cell_type": "code",
   "execution_count": null,
   "metadata": {
    "ExecuteTime": {
     "end_time": "2018-08-23T19:33:16.809532Z",
     "start_time": "2018-08-23T19:33:15.602881Z"
    },
    "hidden": true
   },
   "outputs": [],
   "source": [
    "model.sess.run(tf.global_variables_initializer())"
   ]
  },
  {
   "cell_type": "code",
   "execution_count": null,
   "metadata": {
    "ExecuteTime": {
     "end_time": "2018-08-23T19:31:33.953572Z",
     "start_time": "2018-08-23T19:31:33.821989Z"
    },
    "hidden": true
   },
   "outputs": [],
   "source": [
    "attrs_dict = model.attrs_dict"
   ]
  },
  {
   "cell_type": "code",
   "execution_count": null,
   "metadata": {
    "ExecuteTime": {
     "end_time": "2018-08-23T19:31:58.224731Z",
     "start_time": "2018-08-23T19:31:58.154395Z"
    },
    "hidden": true
   },
   "outputs": [],
   "source": [
    "attrs_dict['steps_arr']"
   ]
  },
  {
   "cell_type": "code",
   "execution_count": null,
   "metadata": {
    "ExecuteTime": {
     "end_time": "2018-08-23T11:27:13.271117Z",
     "start_time": "2018-08-23T11:18:53.290551Z"
    },
    "hidden": true,
    "scrolled": true
   },
   "outputs": [],
   "source": [
    "model.train(params['num_training_steps'], plot=True)"
   ]
  },
  {
   "cell_type": "markdown",
   "metadata": {},
   "source": [
    "## OLD"
   ]
  },
  {
   "cell_type": "code",
   "execution_count": null,
   "metadata": {
    "ExecuteTime": {
     "end_time": "2018-08-23T08:15:24.000366Z",
     "start_time": "2018-08-23T08:15:17.169863Z"
    }
   },
   "outputs": [],
   "source": [
    "#trajectories, loss_arr, px_arr = model.generate_trajectories(num_samples=100, num_steps=100, temperature=1.)\n",
    "\n",
    "#config = tf.ConfigProto(log_device_placement=True)\n",
    "#config = tf.ConfigProto()\n",
    "#config.gpu_options.allow_growth = True\n",
    "#model.build_graph()"
   ]
  },
  {
   "cell_type": "code",
   "execution_count": null,
   "metadata": {
    "ExecuteTime": {
     "end_time": "2018-08-23T09:07:55.724709Z",
     "start_time": "2018-08-23T09:07:55.650082Z"
    }
   },
   "outputs": [],
   "source": [
    "def calc_avg_distance1(trajectories):\n",
    "    distances_arr = []\n",
    "    for trajectory in trajectories:\n",
    "        distance_arr = []\n",
    "        for idx in range(1, len(trajectory)):\n",
    "            diff = trajectory[idx] - trajectory[idx-1]\n",
    "            dist = np.sqrt(np.dot(diff, diff.T))\n",
    "            distance_arr.append(dist)\n",
    "        distances_arr.append(sum(distance_arr))\n",
    "    return np.mean(distances_arr)\n",
    "\n",
    "def calc_avg_distance2(trajectories):\n",
    "    dist = lambda d: np.sqrt(np.dot(d, d.T))\n",
    "    #distances_arr = np.mean([[dist(d) for d in [t[:-1, :] - t[1:, :] for t in trajectories]]\n",
    "    #for trajectory in trajectories:\n",
    "        diff = trajectory[:-1, :] - trajectory[1:, :]\n",
    "        distance = sum([np.sqrt(np.dot(d, d.T)) for d in diff])\n",
    "        distances_arr.append(distance)\n",
    "    return np.mean(distances_arr)"
   ]
  },
  {
   "cell_type": "code",
   "execution_count": null,
   "metadata": {
    "ExecuteTime": {
     "end_time": "2018-08-23T09:08:01.000577Z",
     "start_time": "2018-08-23T09:07:58.231599Z"
    }
   },
   "outputs": [],
   "source": [
    "%timeit avg_dist = avg_distance_traveled(trajectories.transpose([1,0,2]))\n",
    "#print(avg_dist)\n",
    "\n",
    "%timeit avg_dist1 = calc_avg_distance1(trajectories.transpose([1,0,2]))\n",
    "#print(avg_dist1)\n",
    "\n",
    "%timeit avg_dist2 = calc_avg_distance2(trajectories.transpose([1,0,2]))\n",
    "#print(avg_dist2)\n",
    "\n",
    "distances = np.array([np.sqrt(np.dot(disp, disp.T)) for disp in displacements])"
   ]
  },
  {
   "cell_type": "code",
   "execution_count": null,
   "metadata": {
    "ExecuteTime": {
     "end_time": "2018-08-23T05:03:23.757609Z",
     "start_time": "2018-08-23T04:52:39.043000Z"
    }
   },
   "outputs": [],
   "source": [
    "model.train(params['num_training_steps'], config=config, plot=True)\n",
    "\n",
    "config = tf.ConfigProto(log_device_placement=True)\n",
    "config.gpu_options.allow_growth = True\n",
    "model.build_graph()\n",
    "model.train(params['num_training_steps'], config=config, plot=False)"
   ]
  },
  {
   "cell_type": "code",
   "execution_count": null,
   "metadata": {},
   "outputs": [],
   "source": []
  }
 ],
 "metadata": {
  "hide_input": false,
  "kernelspec": {
   "display_name": "Python 3",
   "language": "python",
   "name": "python3"
  },
  "language_info": {
   "codemirror_mode": {
    "name": "ipython",
    "version": 3
   },
   "file_extension": ".py",
   "mimetype": "text/x-python",
   "name": "python",
   "nbconvert_exporter": "python",
   "pygments_lexer": "ipython3",
   "version": "3.6.5"
  },
  "latex_envs": {
   "LaTeX_envs_menu_present": true,
   "autoclose": false,
   "autocomplete": true,
   "bibliofile": "biblio.bib",
   "cite_by": "apalike",
   "current_citInitial": 1,
   "eqLabelWithNumbers": true,
   "eqNumInitial": 1,
   "hotkeys": {
    "equation": "Ctrl-E",
    "itemize": "Ctrl-I"
   },
   "labels_anchors": false,
   "latex_user_defs": false,
   "report_style_numbering": false,
   "user_envs_cfg": false
  },
  "varInspector": {
   "cols": {
    "lenName": 16,
    "lenType": 16,
    "lenVar": 40
   },
   "kernels_config": {
    "python": {
     "delete_cmd_postfix": "",
     "delete_cmd_prefix": "del ",
     "library": "var_list.py",
     "varRefreshCmd": "print(var_dic_list())"
    },
    "r": {
     "delete_cmd_postfix": ") ",
     "delete_cmd_prefix": "rm(",
     "library": "var_list.r",
     "varRefreshCmd": "cat(var_dic_list()) "
    }
   },
   "types_to_exclude": [
    "module",
    "function",
    "builtin_function_or_method",
    "instance",
    "_Feature"
   ],
   "window_display": false
  }
 },
 "nbformat": 4,
 "nbformat_minor": 2
}
