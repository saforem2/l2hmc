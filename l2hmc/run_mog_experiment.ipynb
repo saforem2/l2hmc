{
 "cells": [
  {
   "cell_type": "markdown",
   "metadata": {},
   "source": [
    "## Initialization"
   ]
  },
  {
   "cell_type": "code",
   "execution_count": 1,
   "metadata": {
    "ExecuteTime": {
     "end_time": "2018-08-23T19:05:14.922286Z",
     "start_time": "2018-08-23T19:05:06.867922Z"
    }
   },
   "outputs": [],
   "source": [
    "import matplotlib.pyplot as plt\n",
    "from mog_experiment import *\n",
    "%autoreload 2"
   ]
  },
  {
   "cell_type": "code",
   "execution_count": 2,
   "metadata": {
    "ExecuteTime": {
     "end_time": "2018-08-23T19:05:44.203855Z",
     "start_time": "2018-08-23T19:05:44.113985Z"
    },
    "code_folding": []
   },
   "outputs": [],
   "source": [
    "X_DIM = 3\n",
    "NUM_DISTRIBUTIONS = 3\n",
    "\n",
    "MEANS = np.zeros((X_DIM, X_DIM), dtype=np.float32)\n",
    "CENTERS = np.sqrt(2)  # center of Gaussian\n",
    "for i in range(NUM_DISTRIBUTIONS):\n",
    "    MEANS[i::NUM_DISTRIBUTIONS, i] = CENTERS\n",
    "\n",
    "params = {                          # default parameter values\n",
    "    'x_dim': X_DIM,\n",
    "    'num_distributions': NUM_DISTRIBUTIONS,\n",
    "    'means': MEANS,\n",
    "    'sigma': 0.05,\n",
    "    'small_pi': 2E-16,\n",
    "    'scale': 0.1,\n",
    "    'num_samples': 200,\n",
    "    'lr_init': 1e-3,\n",
    "    'lr_decay_steps': 1000,\n",
    "    'eps': 0.3,\n",
    "    'temp_init': 15,\n",
    "    'annealing_steps': 150,\n",
    "    'annealing_rate': 0.98,\n",
    "    'train_trajectory_length': 15,\n",
    "    'test_trajectory_length': 2000,\n",
    "    'num_training_steps': 30000,\n",
    "    'tunneling_rate_steps': 200,\n",
    "    'save_steps': 2500,\n",
    "    'logging_steps': 100\n",
    "}"
   ]
  },
  {
   "cell_type": "markdown",
   "metadata": {},
   "source": [
    "## Build / Train model"
   ]
  },
  {
   "cell_type": "code",
   "execution_count": 11,
   "metadata": {
    "ExecuteTime": {
     "end_time": "2018-08-23T19:17:11.936912Z",
     "start_time": "2018-08-23T19:17:11.852214Z"
    }
   },
   "outputs": [],
   "source": [
    "tf.reset_default_graph()"
   ]
  },
  {
   "cell_type": "code",
   "execution_count": 12,
   "metadata": {
    "ExecuteTime": {
     "end_time": "2018-08-23T19:17:50.052769Z",
     "start_time": "2018-08-23T19:17:13.507261Z"
    }
   },
   "outputs": [
    {
     "name": "stdout",
     "output_type": "stream",
     "text": [
      "Loading from previous parameters in from: ../log_mog_tf/run87/run_info/\n",
      "params file written to: ../log_mog_tf/run87/run_info/parameters.txt\n"
     ]
    }
   ],
   "source": [
    "#%pdb\n",
    "config = tf.ConfigProto()\n",
    "config.gpu_options.allow_growth = True\n",
    "model = GaussianMixtureModel(params, \n",
    "                             config=config,\n",
    "                             log_dir='../log_mog_tf/run87/')\n",
    "                             #log_dir='../log_mog_tf/run64/')"
   ]
  },
  {
   "cell_type": "code",
   "execution_count": 14,
   "metadata": {
    "ExecuteTime": {
     "end_time": "2018-08-23T19:18:48.173528Z",
     "start_time": "2018-08-23T19:18:46.859817Z"
    }
   },
   "outputs": [],
   "source": [
    "model.sess.run(tf.global_variables_initializer())"
   ]
  },
  {
   "cell_type": "code",
   "execution_count": 16,
   "metadata": {
    "ExecuteTime": {
     "end_time": "2018-08-23T19:19:14.812350Z",
     "start_time": "2018-08-23T19:19:14.677118Z"
    }
   },
   "outputs": [
    {
     "data": {
      "text/plain": [
       "dict_keys([(999, 13.022), (1999, 11.305), (2999, 10.014), (3999, 8.694), (4999, 7.547), (5999, 6.686), (6999, 5.804), (7999, 5.353), (8999, 4.742), (9999, 4.117), (10999, 3.574), (11999, 3.166), (12999, 2.748), (13999, 2.386)])"
      ]
     },
     "execution_count": 16,
     "metadata": {},
     "output_type": "execute_result"
    }
   ],
   "source": [
    "model.tunneling_rates_highT.keys()"
   ]
  },
  {
   "cell_type": "code",
   "execution_count": 19,
   "metadata": {
    "ExecuteTime": {
     "end_time": "2018-08-23T19:23:27.888456Z",
     "start_time": "2018-08-23T19:23:27.846444Z"
    }
   },
   "outputs": [],
   "source": [
    "for key in model.tunneling_rates_highT.keys():\n",
    "    #print(f'Step num: {key[0]}')\n",
    "    #print(f'Temp: {key[1]}')\n",
    "    model.steps_arr.append(key[0])\n",
    "    model.temp_arr.append(key[1])\n",
    "    #model.temp_arr.append(key[1])"
   ]
  },
  {
   "cell_type": "code",
   "execution_count": 24,
   "metadata": {
    "ExecuteTime": {
     "end_time": "2018-08-23T19:28:03.523020Z",
     "start_time": "2018-08-23T19:28:03.416812Z"
    }
   },
   "outputs": [],
   "source": [
    "for idx in range(len(model.steps_arr)):\n",
    "    model.steps_arr[idx] += 1"
   ]
  },
  {
   "cell_type": "code",
   "execution_count": 25,
   "metadata": {
    "ExecuteTime": {
     "end_time": "2018-08-23T19:28:07.306904Z",
     "start_time": "2018-08-23T19:28:07.225387Z"
    }
   },
   "outputs": [
    {
     "data": {
      "text/plain": [
       "[1000,\n",
       " 2000,\n",
       " 3000,\n",
       " 4000,\n",
       " 5000,\n",
       " 6000,\n",
       " 7000,\n",
       " 8000,\n",
       " 9000,\n",
       " 10000,\n",
       " 11000,\n",
       " 12000,\n",
       " 13000,\n",
       " 14000]"
      ]
     },
     "execution_count": 25,
     "metadata": {},
     "output_type": "execute_result"
    }
   ],
   "source": [
    "model.steps_arr"
   ]
  },
  {
   "cell_type": "code",
   "execution_count": 22,
   "metadata": {
    "ExecuteTime": {
     "end_time": "2018-08-23T19:27:00.712375Z",
     "start_time": "2018-08-23T19:27:00.616409Z"
    }
   },
   "outputs": [],
   "source": [
    "for key, val in model.tunneling_rates.items():\n",
    "    model.tunneling_rates_avg.append(val[0])\n",
    "    model.tunneling_rates_err.append(val[1])\n",
    "for key, val in model.tunneling_rates_highT.items():\n",
    "    model.tunneling_rates_avg_highT.append(val[0])\n",
    "    model.tunneling_rates_err_highT.append(val[1])\n",
    "    \n",
    "for key, val in model.acceptance_rates.items():\n",
    "    model.acceptance_rates_avg.append(val[0])\n",
    "    model.acceptance_rates_err.append(val[1])\n",
    "for key, val in model.acceptance_rates_highT.items():\n",
    "    model.acceptance_rates_avg_highT.append(val[0])\n",
    "    model.acceptance_rates_err_highT.append(val[1])\n",
    "    \n",
    "for key, val in model.distances.items():\n",
    "    model.distances_avg.append(val[0])\n",
    "    model.distances_err.append(val[1])\n",
    "for key, val in model.distances_highT.items():\n",
    "    model.distances_avg_highT.append(val[0])\n",
    "    model.distances_err_highT.append(val[1])"
   ]
  },
  {
   "cell_type": "code",
   "execution_count": 27,
   "metadata": {
    "ExecuteTime": {
     "end_time": "2018-08-23T19:30:04.842141Z",
     "start_time": "2018-08-23T19:30:04.691551Z"
    }
   },
   "outputs": [
    {
     "name": "stdout",
     "output_type": "stream",
     "text": [
      "Saving parameter values to: ../log_mog_tf/run87/run_info/\n"
     ]
    }
   ],
   "source": [
    "model._save_variables()"
   ]
  },
  {
   "cell_type": "code",
   "execution_count": 32,
   "metadata": {
    "ExecuteTime": {
     "end_time": "2018-08-23T19:33:00.029883Z",
     "start_time": "2018-08-23T19:32:59.960970Z"
    }
   },
   "outputs": [],
   "source": [
    "model._init_params(params)"
   ]
  },
  {
   "cell_type": "code",
   "execution_count": 37,
   "metadata": {
    "ExecuteTime": {
     "end_time": "2018-08-23T19:33:27.096296Z",
     "start_time": "2018-08-23T19:33:27.020280Z"
    }
   },
   "outputs": [
    {
     "name": "stdout",
     "output_type": "stream",
     "text": [
      "Loading from previous parameters in from: ../log_mog_tf/run87/run_info/\n"
     ]
    }
   ],
   "source": [
    "model._load_variables()"
   ]
  },
  {
   "cell_type": "code",
   "execution_count": 38,
   "metadata": {
    "ExecuteTime": {
     "end_time": "2018-08-23T19:33:31.987060Z",
     "start_time": "2018-08-23T19:33:31.882622Z"
    }
   },
   "outputs": [
    {
     "data": {
      "text/plain": [
       "[]"
      ]
     },
     "execution_count": 38,
     "metadata": {},
     "output_type": "execute_result"
    }
   ],
   "source": [
    "model.steps_arr"
   ]
  },
  {
   "cell_type": "code",
   "execution_count": 41,
   "metadata": {
    "ExecuteTime": {
     "end_time": "2018-08-23T19:35:19.681799Z",
     "start_time": "2018-08-23T19:35:19.559542Z"
    }
   },
   "outputs": [
    {
     "data": {
      "text/plain": [
       "{(999, 1.0): (0.0012481240620310155, 5.8331027772798283e-05),\n",
       " (1999, 1.0): (0.0034267133566783393, 8.140345708493158e-05),\n",
       " (2999, 1.0): (0.005477738869434717, 0.00013949275563455405),\n",
       " (3999, 1.0): (0.008394197098549274, 0.00017168694712826115),\n",
       " (4999, 1.0): (0.011680840420210106, 0.0002233188021439273),\n",
       " (5999, 1.0): (0.020572786393196596, 0.0003098669870569123),\n",
       " (6999, 1.0): (0.02786393196598299, 0.00037911459430773286),\n",
       " (7999, 1.0): (0.0313031515757879, 0.00034142907767175935),\n",
       " (8999, 1.0): (0.03554777388694347, 0.00044896933285469245),\n",
       " (9999, 1.0): (0.059582291145572785, 0.0007551928360087015),\n",
       " (10999, 1.0): (0.07291395697848925, 0.0006813746588816416),\n",
       " (11999, 1.0): (0.11760130065032516, 0.0008851670448373469),\n",
       " (12999, 1.0): (0.1176438219109555, 0.0007716030344731442),\n",
       " (13999, 1.0): (0.18985492746373187, 0.0008756115494580632)}"
      ]
     },
     "execution_count": 41,
     "metadata": {},
     "output_type": "execute_result"
    }
   ],
   "source": [
    "model.tunneling_rates"
   ]
  },
  {
   "cell_type": "code",
   "execution_count": 42,
   "metadata": {
    "ExecuteTime": {
     "end_time": "2018-08-23T19:36:57.794634Z",
     "start_time": "2018-08-23T19:36:57.750938Z"
    }
   },
   "outputs": [],
   "source": [
    "import os"
   ]
  },
  {
   "cell_type": "code",
   "execution_count": 47,
   "metadata": {
    "ExecuteTime": {
     "end_time": "2018-08-23T19:48:26.866990Z",
     "start_time": "2018-08-23T19:48:26.754670Z"
    }
   },
   "outputs": [
    {
     "data": {
      "text/plain": [
       "dict_keys(['params', 'means', 'covs', 'distribution', 'samples', 'tunneling_rates', 'tunneling_rates_highT', 'tunneling_rates_avg', 'tunneling_rates_avg_highT', 'tunneling_rates_err', 'tunneling_rates_err_highT', 'acceptance_rates', 'acceptance_rates_highT', 'acceptance_rates_avg', 'acceptance_rates_avg_highT', 'acceptance_rates_err', 'acceptance_rates_err_highT', 'distances', 'distances_highT', 'distances_avg', 'distances_avg_highT', 'distances_err', 'distances_err_highT', 'losses_arr', 'temp_arr', 'steps_arr', 'temp', 'attrs_dict', 'log_dir', 'info_dir', 'figs_dir', 'params_file', 'distances_file', 'tunneling_rates_file', 'acceptance_rates_file', 'distances_highT_file', 'tunneling_rates_highT_file', 'acceptance_rates_highT_file', 'global_step', 'learning_rate', 'dynamics', 'x', 'z', 'Lx', 'px', 'output', 'Lz', 'pz', 'loss', 'train_op', 'summary_op', 'sess'])"
      ]
     },
     "execution_count": 47,
     "metadata": {},
     "output_type": "execute_result"
    }
   ],
   "source": [
    "model.__dict__.keys()"
   ]
  },
  {
   "cell_type": "code",
   "execution_count": 53,
   "metadata": {
    "ExecuteTime": {
     "end_time": "2018-08-23T20:23:21.198691Z",
     "start_time": "2018-08-23T20:23:21.122688Z"
    }
   },
   "outputs": [],
   "source": [
    "get_vals_as_arr = lambda _dict: np.array(list(_dict.values()))\n",
    "tr = get_vals_as_arr(model.tunneling_rates)\n",
    "ar = get_vals_as_arr(model.acceptance_rates)\n",
    "dr = get_vals_as_arr(model.distances)\n",
    "#np.array(list(model.tunneling_rates.values()))"
   ]
  },
  {
   "cell_type": "code",
   "execution_count": 45,
   "metadata": {
    "ExecuteTime": {
     "end_time": "2018-08-23T19:39:33.110389Z",
     "start_time": "2018-08-23T19:39:33.027299Z"
    }
   },
   "outputs": [
    {
     "name": "stdout",
     "output_type": "stream",
     "text": [
      "Set model.losses_arr to values read in from: ../log_mog_tf/run87/run_info/losses_arr.npy\n",
      "Set model.steps_arr to values read in from: ../log_mog_tf/run87/run_info/steps_arr.npy\n",
      "Set model.temp_arr to values read in from: ../log_mog_tf/run87/run_info/temp_arr.npy\n",
      "Set model.means to values read in from: ../log_mog_tf/run87/run_info/means.npy\n",
      "Set model.covs to values read in from: ../log_mog_tf/run87/run_info/covs.npy\n",
      "Set model.tunneling_rates_avg to values read in from: ../log_mog_tf/run87/run_info/tunneling_rates_avg.npy\n",
      "Set model.tunneling_rates_err to values read in from: ../log_mog_tf/run87/run_info/tunneling_rates_err.npy\n",
      "Set model.tunneling_rates_avg_highT to values read in from: ../log_mog_tf/run87/run_info/tunneling_rates_avg_highT.npy\n",
      "Set model.tunneling_rates_err_highT to values read in from: ../log_mog_tf/run87/run_info/tunneling_rates_err_highT.npy\n",
      "Set model.acceptance_rates_avg to values read in from: ../log_mog_tf/run87/run_info/acceptance_rates_avg.npy\n",
      "Set model.acceptance_rates_err to values read in from: ../log_mog_tf/run87/run_info/acceptance_rates_err.npy\n",
      "Set model.acceptance_rates_avg_highT to values read in from: ../log_mog_tf/run87/run_info/acceptance_rates_avg_highT.npy\n",
      "Set model.acceptance_rates_err_highT to values read in from: ../log_mog_tf/run87/run_info/acceptance_rates_err_highT.npy\n",
      "Set model.distances_avg to values read in from: ../log_mog_tf/run87/run_info/distances_avg.npy\n",
      "Set model.distances_avg_highT to values read in from: ../log_mog_tf/run87/run_info/distances_avg_highT.npy\n",
      "Set model.distances_err to values read in from: ../log_mog_tf/run87/run_info/distances_err.npy\n",
      "Set model.distances_err_highT to values read in from: ../log_mog_tf/run87/run_info/distances_err_highT.npy\n"
     ]
    }
   ],
   "source": [
    "for key in model.attrs_dict.keys():\n",
    "    in_file = model.info_dir + key + '.npy'\n",
    "    if os.path.isfile(in_file):\n",
    "        setattr(model, key, np.load(in_file))\n",
    "        print(f'Set model.{key} to values read in from: {in_file}')\n",
    "        #print(model.key == np.load(in_file))"
   ]
  },
  {
   "cell_type": "code",
   "execution_count": 35,
   "metadata": {
    "ExecuteTime": {
     "end_time": "2018-08-23T19:33:16.809532Z",
     "start_time": "2018-08-23T19:33:15.602881Z"
    }
   },
   "outputs": [],
   "source": [
    "model.sess.run(tf.global_variables_initializer())"
   ]
  },
  {
   "cell_type": "code",
   "execution_count": 28,
   "metadata": {
    "ExecuteTime": {
     "end_time": "2018-08-23T19:31:33.953572Z",
     "start_time": "2018-08-23T19:31:33.821989Z"
    }
   },
   "outputs": [],
   "source": [
    "attrs_dict = model.attrs_dict"
   ]
  },
  {
   "cell_type": "code",
   "execution_count": 31,
   "metadata": {
    "ExecuteTime": {
     "end_time": "2018-08-23T19:31:58.224731Z",
     "start_time": "2018-08-23T19:31:58.154395Z"
    }
   },
   "outputs": [
    {
     "data": {
      "text/plain": [
       "[1000,\n",
       " 2000,\n",
       " 3000,\n",
       " 4000,\n",
       " 5000,\n",
       " 6000,\n",
       " 7000,\n",
       " 8000,\n",
       " 9000,\n",
       " 10000,\n",
       " 11000,\n",
       " 12000,\n",
       " 13000,\n",
       " 14000]"
      ]
     },
     "execution_count": 31,
     "metadata": {},
     "output_type": "execute_result"
    }
   ],
   "source": [
    "attrs_dict['steps_arr']"
   ]
  },
  {
   "cell_type": "code",
   "execution_count": 19,
   "metadata": {
    "ExecuteTime": {
     "end_time": "2018-08-23T11:27:13.271117Z",
     "start_time": "2018-08-23T11:18:53.290551Z"
    },
    "scrolled": true
   },
   "outputs": [
    {
     "name": "stdout",
     "output_type": "stream",
     "text": [
      "Step: 0/30000, Loss: -149.3, accept rate: 0.97, LR: 0.001, temp: 25, step size: 0.3\n",
      "\n",
      "Step: 100/30000, Loss: -218.9, accept rate: 0.96, LR: 0.001, temp: 24.5, step size: 0.278\n",
      "\n",
      "\n",
      "\tTEMP: 1, Step: 200, Loss (avg): 23.51, \n",
      "\tAccept rate (avg): 0.7757, Accept rate (err): 1.959e-07, \n",
      "\tTunneling rate (avg): 0.0003627, Tunneling rate (err): 1.508e-07\n",
      "\n",
      "\n",
      "\tTEMP: 24, Step: 200, Loss (avg): -231.8, \n",
      "\tAccept rate (avg): 0.9475, Accept rate (err): 6.368e-08, \n",
      "\tTunneling rate (avg): 0.5256, Tunneling rate (err): 6.875e-06\n",
      "\n",
      "\n",
      "\tTime to calculate tunneling_rate: 00:02:17\n",
      "\tTime for 100 training steps: 00:01:48\n",
      "\tTotal time elapsed: 00:03:35\n",
      "\n",
      "Saving parameter values to: ../log_mog_tf/run78/run_info/\n",
      "done!\n",
      "\n",
      "Saving figure to: ../log_mog_tf/run78/figures/tr_ar_steps_lowT_200.pdf\n",
      "Saving figure to: ../log_mog_tf/run78/figures/tr_ar_steps_highT_200.pdf\n",
      "Saving figure to: ../log_mog_tf/run78/figures/tr_ar_temps_lowT_200.pdf\n",
      "Saving figure to: ../log_mog_tf/run78/figures/tr_ar_temps_highT_200.pdf\n",
      "Step: 200/30000, Loss: -247.8, accept rate: 0.95, LR: 0.001, temp: 24.01, step size: 0.272\n",
      "\n",
      "Step: 300/30000, Loss: -277.8, accept rate: 0.93, LR: 0.001, temp: 24.01, step size: 0.271\n",
      "\n",
      "\n",
      "\tTEMP: 1, Step: 400, Loss (avg): 38.43, \n",
      "\tAccept rate (avg): 0.7543, Accept rate (err): 2.388e-07, \n",
      "\tTunneling rate (avg): 0.0004577, Tunneling rate (err): 1.783e-07\n",
      "\n",
      "\n",
      "\tTEMP: 23.5, Step: 400, Loss (avg): -239.3, \n",
      "\tAccept rate (avg): 0.9309, Accept rate (err): 9.18e-08, \n",
      "\tTunneling rate (avg): 0.718, Tunneling rate (err): 1.132e-05\n",
      "\n",
      "\n",
      "\tTime to calculate tunneling_rate: 00:02:44\n",
      "\tTime for 100 training steps: 00:01:48\n",
      "\tTotal time elapsed: 00:07:14\n",
      "\n",
      "Saving parameter values to: ../log_mog_tf/run78/run_info/\n",
      "done!\n",
      "\n",
      "Saving figure to: ../log_mog_tf/run78/figures/tr_ar_steps_lowT_400.pdf\n",
      "Saving figure to: ../log_mog_tf/run78/figures/tr_ar_steps_highT_400.pdf\n",
      "Saving figure to: ../log_mog_tf/run78/figures/tr_ar_temps_lowT_400.pdf\n",
      "Saving figure to: ../log_mog_tf/run78/figures/tr_ar_temps_highT_400.pdf\n",
      "Step: 400/30000, Loss: -239.1, accept rate: 0.93, LR: 0.001, temp: 23.53, step size: 0.273\n",
      "\n",
      "Step: 500/30000, Loss: -259, accept rate: 0.93, LR: 0.001, temp: 23.059, step size: 0.273\n",
      "\n",
      "KeyboardInterrupt detected, saving current state and exiting. \n",
      "Saving parameter values to: ../log_mog_tf/run78/run_info/\n",
      "done!\n",
      "\n",
      "Saving checkpoint to: ../log_mog_tf/run78/model.ckpt\n",
      "\n"
     ]
    }
   ],
   "source": [
    "model.train(params['num_training_steps'], plot=True)"
   ]
  },
  {
   "cell_type": "markdown",
   "metadata": {
    "heading_collapsed": true
   },
   "source": [
    "## OLD"
   ]
  },
  {
   "cell_type": "code",
   "execution_count": null,
   "metadata": {
    "ExecuteTime": {
     "end_time": "2018-08-23T08:15:24.000366Z",
     "start_time": "2018-08-23T08:15:17.169863Z"
    },
    "hidden": true
   },
   "outputs": [],
   "source": [
    "#trajectories, loss_arr, px_arr = model.generate_trajectories(num_samples=100, num_steps=100, temperature=1.)\n",
    "\n",
    "#config = tf.ConfigProto(log_device_placement=True)\n",
    "#config = tf.ConfigProto()\n",
    "#config.gpu_options.allow_growth = True\n",
    "#model.build_graph()"
   ]
  },
  {
   "cell_type": "code",
   "execution_count": null,
   "metadata": {
    "ExecuteTime": {
     "end_time": "2018-08-23T09:07:55.724709Z",
     "start_time": "2018-08-23T09:07:55.650082Z"
    },
    "hidden": true
   },
   "outputs": [],
   "source": [
    "def calc_avg_distance1(trajectories):\n",
    "    distances_arr = []\n",
    "    for trajectory in trajectories:\n",
    "        distance_arr = []\n",
    "        for idx in range(1, len(trajectory)):\n",
    "            diff = trajectory[idx] - trajectory[idx-1]\n",
    "            dist = np.sqrt(np.dot(diff, diff.T))\n",
    "            distance_arr.append(dist)\n",
    "        distances_arr.append(sum(distance_arr))\n",
    "    return np.mean(distances_arr)\n",
    "\n",
    "def calc_avg_distance2(trajectories):\n",
    "    dist = lambda d: np.sqrt(np.dot(d, d.T))\n",
    "    #distances_arr = np.mean([[dist(d) for d in [t[:-1, :] - t[1:, :] for t in trajectories]]\n",
    "    #for trajectory in trajectories:\n",
    "        diff = trajectory[:-1, :] - trajectory[1:, :]\n",
    "        distance = sum([np.sqrt(np.dot(d, d.T)) for d in diff])\n",
    "        distances_arr.append(distance)\n",
    "    return np.mean(distances_arr)"
   ]
  },
  {
   "cell_type": "code",
   "execution_count": null,
   "metadata": {
    "ExecuteTime": {
     "end_time": "2018-08-23T09:08:01.000577Z",
     "start_time": "2018-08-23T09:07:58.231599Z"
    },
    "hidden": true
   },
   "outputs": [],
   "source": [
    "%timeit avg_dist = avg_distance_traveled(trajectories.transpose([1,0,2]))\n",
    "#print(avg_dist)\n",
    "\n",
    "%timeit avg_dist1 = calc_avg_distance1(trajectories.transpose([1,0,2]))\n",
    "#print(avg_dist1)\n",
    "\n",
    "%timeit avg_dist2 = calc_avg_distance2(trajectories.transpose([1,0,2]))\n",
    "#print(avg_dist2)\n",
    "\n",
    "distances = np.array([np.sqrt(np.dot(disp, disp.T)) for disp in displacements])"
   ]
  },
  {
   "cell_type": "code",
   "execution_count": null,
   "metadata": {
    "ExecuteTime": {
     "end_time": "2018-08-23T05:03:23.757609Z",
     "start_time": "2018-08-23T04:52:39.043000Z"
    },
    "hidden": true
   },
   "outputs": [],
   "source": [
    "model.train(params['num_training_steps'], config=config, plot=True)\n",
    "\n",
    "config = tf.ConfigProto(log_device_placement=True)\n",
    "config.gpu_options.allow_growth = True\n",
    "model.build_graph()\n",
    "model.train(params['num_training_steps'], config=config, plot=False)"
   ]
  },
  {
   "cell_type": "code",
   "execution_count": null,
   "metadata": {
    "hidden": true
   },
   "outputs": [],
   "source": []
  }
 ],
 "metadata": {
  "hide_input": false,
  "kernelspec": {
   "display_name": "Python 3",
   "language": "python",
   "name": "python3"
  },
  "language_info": {
   "codemirror_mode": {
    "name": "ipython",
    "version": 3
   },
   "file_extension": ".py",
   "mimetype": "text/x-python",
   "name": "python",
   "nbconvert_exporter": "python",
   "pygments_lexer": "ipython3",
   "version": "3.6.5"
  },
  "latex_envs": {
   "LaTeX_envs_menu_present": true,
   "autoclose": false,
   "autocomplete": true,
   "bibliofile": "biblio.bib",
   "cite_by": "apalike",
   "current_citInitial": 1,
   "eqLabelWithNumbers": true,
   "eqNumInitial": 1,
   "hotkeys": {
    "equation": "Ctrl-E",
    "itemize": "Ctrl-I"
   },
   "labels_anchors": false,
   "latex_user_defs": false,
   "report_style_numbering": false,
   "user_envs_cfg": false
  },
  "varInspector": {
   "cols": {
    "lenName": 16,
    "lenType": 16,
    "lenVar": 40
   },
   "kernels_config": {
    "python": {
     "delete_cmd_postfix": "",
     "delete_cmd_prefix": "del ",
     "library": "var_list.py",
     "varRefreshCmd": "print(var_dic_list())"
    },
    "r": {
     "delete_cmd_postfix": ") ",
     "delete_cmd_prefix": "rm(",
     "library": "var_list.r",
     "varRefreshCmd": "cat(var_dic_list()) "
    }
   },
   "types_to_exclude": [
    "module",
    "function",
    "builtin_function_or_method",
    "instance",
    "_Feature"
   ],
   "window_display": false
  }
 },
 "nbformat": 4,
 "nbformat_minor": 2
}
