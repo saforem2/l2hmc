{
 "cells": [
  {
   "cell_type": "markdown",
   "metadata": {},
   "source": [
    "## Initialization"
   ]
  },
  {
   "cell_type": "code",
   "execution_count": 3,
   "metadata": {
    "ExecuteTime": {
     "end_time": "2018-09-01T07:38:45.502500Z",
     "start_time": "2018-09-01T07:38:45.377029Z"
    }
   },
   "outputs": [],
   "source": [
    "import matplotlib.pyplot as plt\n",
    "from mog_model import *\n",
    "import pickle\n",
    "%autoreload 2"
   ]
  },
  {
   "cell_type": "code",
   "execution_count": 4,
   "metadata": {
    "ExecuteTime": {
     "end_time": "2018-09-01T07:38:48.791838Z",
     "start_time": "2018-09-01T07:38:48.720206Z"
    },
    "code_folding": []
   },
   "outputs": [],
   "source": [
    "X_DIM = 2\n",
    "NUM_DISTRIBUTIONS = 2\n",
    "\n",
    "MEANS = np.zeros((X_DIM, X_DIM), dtype=np.float32)\n",
    "CENTERS = np.sqrt(2)  # center of Gaussian\n",
    "for i in range(NUM_DISTRIBUTIONS):\n",
    "    MEANS[i::NUM_DISTRIBUTIONS, i] = CENTERS\n",
    "\n",
    "params = {                          # default parameter values\n",
    "    'x_dim': X_DIM,\n",
    "    'num_distributions': NUM_DISTRIBUTIONS,\n",
    "    'means': MEANS,\n",
    "    'sigma': 0.05,\n",
    "    'small_pi': 2E-16,\n",
    "    'scale': 0.1,\n",
    "    'num_samples': 200,\n",
    "    'lr_init': 1e-3,\n",
    "    'lr_decay_steps': 1000,\n",
    "    'lr_decay_rate': 0.96,\n",
    "    'eps': 0.5,\n",
    "    'temp_init': 20,\n",
    "    'annealing_steps': 200,\n",
    "    'annealing_rate': 0.98,\n",
    "    #'train_trajectory_length': 15,\n",
    "    #'test_trajectory_length': 2000,\n",
    "    'num_training_steps': 30000,\n",
    "    'tunneling_rate_steps': 500,\n",
    "    'save_steps': 1000,\n",
    "    'logging_steps': 100\n",
    "}"
   ]
  },
  {
   "cell_type": "markdown",
   "metadata": {},
   "source": [
    "## Build / Train model"
   ]
  },
  {
   "cell_type": "code",
   "execution_count": 8,
   "metadata": {
    "ExecuteTime": {
     "end_time": "2018-09-01T07:42:18.453255Z",
     "start_time": "2018-09-01T07:42:18.367999Z"
    }
   },
   "outputs": [],
   "source": [
    "tf.reset_default_graph()"
   ]
  },
  {
   "cell_type": "code",
   "execution_count": 9,
   "metadata": {
    "ExecuteTime": {
     "end_time": "2018-09-01T07:42:49.378553Z",
     "start_time": "2018-09-01T07:42:19.367605Z"
    }
   },
   "outputs": [
    {
     "name": "stdout",
     "output_type": "stream",
     "text": [
      "Creating directory for new run: ../log_mog_tf/run_250/\n",
      "Initial parameters written to ../log_mog_tf/run_250/run_info/_init_params.pkl.\n",
      "Saving parameter values to: ../log_mog_tf/run_250/run_info/\n",
      "params file written to: ../log_mog_tf/run_250/run_info/parameters.txt\n",
      "################################################################################\n",
      "Model parameters:\n",
      "x_dim: 2\n",
      "\n",
      "num_distributions: 2\n",
      "\n",
      "eps: 0.5\n",
      "\n",
      "scale: 0.1\n",
      "\n",
      "num_samples: 200\n",
      "\n",
      "sigma: 0.05\n",
      "\n",
      "small_pi: 2e-16\n",
      "\n",
      "lr_init: 0.001\n",
      "\n",
      "temp_init: 20\n",
      "\n",
      "annealing_steps: 200\n",
      "\n",
      "annealing_factor: 0.98\n",
      "\n",
      "num_training_steps: 30000\n",
      "\n",
      "tunneling_rate_steps: 500\n",
      "\n",
      "lr_decay_steps: 1000\n",
      "\n",
      "lr_decay_rate: 0.96\n",
      "\n",
      "logging_steps: 100\n",
      "\n",
      "save_steps: 1000\n",
      "\n",
      "annealing_rate: 0.98\n",
      "\n",
      "temp: 20\n",
      "\n",
      "step_init: 0\n",
      "\n",
      "log_dir: ../log_mog_tf/run_250/\n",
      "\n",
      "info_dir: ../log_mog_tf/run_250/run_info/\n",
      "\n",
      "figs_dir: ../log_mog_tf/run_250/figures/\n",
      "\n",
      "trajectory_length: 3.0\n",
      "\n",
      "################################################################################\n",
      "\n",
      "\n"
     ]
    }
   ],
   "source": [
    "#%pdb\n",
    "config = tf.ConfigProto()\n",
    "config.gpu_options.allow_growth = True\n",
    "model = GaussianMixtureModel(params, \n",
    "                             config=config)\n",
    "                             #log_dir='../log_mog_tf/run192/')\n",
    "                             #log_dir='../log_mog_tf/run64/')"
   ]
  },
  {
   "cell_type": "code",
   "execution_count": 14,
   "metadata": {
    "ExecuteTime": {
     "end_time": "2018-09-01T07:44:50.752383Z",
     "start_time": "2018-09-01T07:44:50.573458Z"
    }
   },
   "outputs": [],
   "source": [
    "trajectories, loss_arr, accept_arr = model.generate_trajectories()"
   ]
  },
  {
   "cell_type": "code",
   "execution_count": 20,
   "metadata": {
    "ExecuteTime": {
     "end_time": "2018-09-01T07:45:57.072532Z",
     "start_time": "2018-09-01T07:45:57.011833Z"
    }
   },
   "outputs": [
    {
     "data": {
      "text/plain": [
       "array([[-0.18733209,  1.85915368],\n",
       "       [-0.18733209,  1.85915363],\n",
       "       [-0.18733209,  1.85915363]])"
      ]
     },
     "execution_count": 20,
     "metadata": {},
     "output_type": "execute_result"
    }
   ],
   "source": [
    "trajectories[:, 0, :]"
   ]
  },
  {
   "cell_type": "code",
   "execution_count": 21,
   "metadata": {
    "ExecuteTime": {
     "end_time": "2018-09-01T07:47:34.907226Z",
     "start_time": "2018-09-01T07:47:34.752137Z"
    }
   },
   "outputs": [],
   "source": [
    "feed_dict = {model.x: model.samples,\n",
    "             model.dynamics.temperature: model.temp}\n",
    "\n",
    "#  _, loss_, model.samples, px_, lr_, = model.sess.run([\n",
    "_, loss_, _samples, px_, lr_, = model.sess.run([\n",
    "    model.train_op,\n",
    "    model.loss,\n",
    "    model.output[0],\n",
    "    model.px,\n",
    "    model.learning_rate\n",
    "], feed_dict=feed_dict)\n"
   ]
  },
  {
   "cell_type": "code",
   "execution_count": 26,
   "metadata": {
    "ExecuteTime": {
     "end_time": "2018-09-01T07:48:18.056642Z",
     "start_time": "2018-09-01T07:48:17.992511Z"
    }
   },
   "outputs": [
    {
     "data": {
      "text/plain": [
       "(array([-0.04825972,  1.6681467 ], dtype=float32),\n",
       " array([-1.1017684,  1.4772418], dtype=float32))"
      ]
     },
     "execution_count": 26,
     "metadata": {},
     "output_type": "execute_result"
    }
   ],
   "source": [
    "_samples[0], _samples[1]"
   ]
  },
  {
   "cell_type": "code",
   "execution_count": 32,
   "metadata": {
    "ExecuteTime": {
     "end_time": "2018-09-01T07:50:43.858996Z",
     "start_time": "2018-09-01T07:50:43.797681Z"
    }
   },
   "outputs": [],
   "source": [
    "_samples1 = model.sess.run([\n",
    "    model.output[0]\n",
    "], feed_dict={model.x: _samples, model.dynamics.temperature: 1.})\n",
    "#_samples"
   ]
  },
  {
   "cell_type": "code",
   "execution_count": 33,
   "metadata": {
    "ExecuteTime": {
     "end_time": "2018-09-01T07:50:46.064258Z",
     "start_time": "2018-09-01T07:50:46.004404Z"
    }
   },
   "outputs": [
    {
     "data": {
      "text/plain": [
       "array([[-0.04825972,  1.6681467 ],\n",
       "       [-1.1017684 ,  1.4772418 ],\n",
       "       [ 1.9032845 ,  1.8739713 ],\n",
       "       [ 0.952036  , -1.4666694 ],\n",
       "       [-1.3941865 ,  2.493881  ],\n",
       "       [-0.18121843, -1.3036962 ],\n",
       "       [-1.361677  ,  2.0898554 ],\n",
       "       [-1.7863096 ,  2.6423538 ],\n",
       "       [ 2.5584097 , -1.5798473 ],\n",
       "       [ 2.1330292 , -1.0426351 ],\n",
       "       [ 0.4785167 ,  1.3442143 ],\n",
       "       [-0.8349031 ,  1.2927455 ],\n",
       "       [-1.2139485 ,  0.7711269 ],\n",
       "       [-1.4965838 ,  1.2853804 ],\n",
       "       [ 2.4092393 ,  2.7996662 ],\n",
       "       [ 0.8232765 ,  0.2041724 ],\n",
       "       [ 1.2944108 , -1.527963  ],\n",
       "       [-2.1198728 ,  0.2927999 ],\n",
       "       [ 2.013573  , -0.8611102 ],\n",
       "       [ 0.12205063,  0.802365  ],\n",
       "       [ 0.29903266,  2.6345344 ],\n",
       "       [ 0.80823004, -1.1293293 ],\n",
       "       [-1.5458711 ,  0.2832795 ],\n",
       "       [-1.0067353 ,  2.0859966 ],\n",
       "       [-0.32478535,  0.9064286 ],\n",
       "       [ 2.2341614 , -0.47455287],\n",
       "       [-0.14755844, -0.44172037],\n",
       "       [ 0.9511992 , -0.14620894],\n",
       "       [-0.30935544, -1.145798  ],\n",
       "       [-1.1514264 ,  0.05747353],\n",
       "       [ 2.5238307 , -0.4298    ],\n",
       "       [-0.55417573,  1.9364429 ],\n",
       "       [ 3.4210217 , -1.3371463 ],\n",
       "       [-1.8751786 ,  2.5387046 ],\n",
       "       [ 0.465293  , -0.78879774],\n",
       "       [ 0.57610124, -2.5744257 ],\n",
       "       [ 2.6161888 ,  0.7284671 ],\n",
       "       [ 0.46130216,  0.29799625],\n",
       "       [ 2.1240659 ,  0.46184134],\n",
       "       [ 1.6061637 , -1.5279366 ],\n",
       "       [-0.13351256,  1.2195356 ],\n",
       "       [ 1.2762419 ,  2.414808  ],\n",
       "       [ 0.2285434 , -1.5913504 ],\n",
       "       [ 1.8987665 , -0.54020584],\n",
       "       [ 0.15154481,  2.268891  ],\n",
       "       [ 1.342516  , -1.0551559 ],\n",
       "       [ 0.95834863,  0.6596227 ],\n",
       "       [ 1.3665336 ,  0.10838783],\n",
       "       [ 3.461842  ,  1.2625046 ],\n",
       "       [-1.6492426 ,  2.5772579 ],\n",
       "       [ 1.2622799 ,  1.6241968 ],\n",
       "       [ 2.7774086 , -0.7418337 ],\n",
       "       [ 0.5390655 , -0.45770735],\n",
       "       [ 0.33202553,  2.7931368 ],\n",
       "       [-1.387819  ,  3.604676  ],\n",
       "       [ 0.5297293 ,  1.5448322 ],\n",
       "       [ 2.3716047 , -0.3295542 ],\n",
       "       [ 0.711081  , -0.40447488],\n",
       "       [ 1.8605547 ,  0.15640055],\n",
       "       [-0.24703005,  0.30188826],\n",
       "       [ 1.999719  , -0.21968444],\n",
       "       [-1.2535975 ,  0.5296722 ],\n",
       "       [ 1.6873119 ,  0.68208194],\n",
       "       [ 1.8469195 , -0.6973455 ],\n",
       "       [-0.88091826,  2.5700512 ],\n",
       "       [ 0.45480192, -1.3606218 ],\n",
       "       [ 0.23973814, -0.44496337],\n",
       "       [ 0.6213231 ,  1.491404  ],\n",
       "       [ 2.3846989 , -1.1816261 ],\n",
       "       [ 0.21271557,  1.9094156 ],\n",
       "       [ 0.46580002, -0.04868223],\n",
       "       [-0.9071102 ,  1.5708282 ],\n",
       "       [ 0.48928428, -1.1324126 ],\n",
       "       [ 0.2197737 ,  0.42621967],\n",
       "       [ 2.0985754 , -1.0021194 ],\n",
       "       [ 3.3549886 , -2.041097  ],\n",
       "       [ 1.2609311 , -1.4968306 ],\n",
       "       [-0.11203939,  2.9452553 ],\n",
       "       [ 2.1005483 ,  1.4271195 ],\n",
       "       [ 2.1119132 ,  0.11208439],\n",
       "       [ 3.917854  ,  0.38728446],\n",
       "       [ 1.6190428 ,  0.5807972 ],\n",
       "       [-0.70282507,  0.3896091 ],\n",
       "       [ 2.22845   , -0.11480679],\n",
       "       [ 0.89552206,  3.05497   ],\n",
       "       [-0.6338409 ,  2.0187113 ],\n",
       "       [ 1.7700063 , -0.14357412],\n",
       "       [ 0.896255  ,  0.8239563 ],\n",
       "       [ 1.5442336 , -0.7362232 ],\n",
       "       [ 1.6569895 , -0.7710218 ],\n",
       "       [ 0.69675314, -1.5825562 ],\n",
       "       [ 2.329885  , -0.16294935],\n",
       "       [ 0.7562516 ,  1.7365376 ],\n",
       "       [-1.1149561 ,  2.4583347 ],\n",
       "       [ 1.6340362 ,  1.0806262 ],\n",
       "       [-0.09268446, -0.21662295],\n",
       "       [ 0.70012146,  1.6221955 ],\n",
       "       [-1.4995652 ,  2.0993056 ],\n",
       "       [-0.9497403 ,  3.5920963 ],\n",
       "       [-0.14005618,  0.7553202 ],\n",
       "       [ 1.1750244 ,  0.0611045 ],\n",
       "       [-1.6826622 ,  1.7922112 ],\n",
       "       [-0.34467512,  1.9938616 ],\n",
       "       [-1.1204336 ,  3.931383  ],\n",
       "       [-2.128816  ,  2.0028777 ],\n",
       "       [ 1.203994  , -1.3806257 ],\n",
       "       [-1.1914185 ,  0.10060936],\n",
       "       [-0.928981  ,  1.2979211 ],\n",
       "       [ 0.4470733 , -0.6071366 ],\n",
       "       [ 2.6765234 ,  1.581674  ],\n",
       "       [ 0.02489989, -0.8152055 ],\n",
       "       [ 0.4366926 ,  3.355762  ],\n",
       "       [ 0.46932647,  2.7724023 ],\n",
       "       [-0.3264265 ,  4.018973  ],\n",
       "       [-1.3513491 , -0.5674073 ],\n",
       "       [-0.10710679,  0.26370245],\n",
       "       [ 1.1110867 ,  1.884944  ],\n",
       "       [-0.65708417,  0.51878566],\n",
       "       [ 3.3770566 ,  0.5410984 ],\n",
       "       [-1.4738173 ,  2.2054904 ],\n",
       "       [ 0.95344883, -0.46638197],\n",
       "       [ 0.7730255 ,  0.6861063 ],\n",
       "       [-0.8333621 ,  0.6053062 ],\n",
       "       [-2.1438403 ,  0.2853425 ],\n",
       "       [-1.2725133 ,  2.377437  ],\n",
       "       [ 0.4447492 ,  1.3546717 ],\n",
       "       [ 0.4116273 ,  2.3429034 ],\n",
       "       [-1.3678926 ,  2.7975748 ],\n",
       "       [ 2.3058155 , -2.0316436 ],\n",
       "       [ 2.2134824 ,  1.2201276 ],\n",
       "       [-1.0968752 ,  0.45818442],\n",
       "       [ 1.4401729 ,  0.5256956 ],\n",
       "       [ 1.2888472 , -1.57143   ],\n",
       "       [ 0.96872383, -0.9174266 ],\n",
       "       [ 0.5090743 ,  1.8780696 ],\n",
       "       [-0.9551677 ,  0.00902846],\n",
       "       [ 1.3819963 ,  0.3747379 ],\n",
       "       [ 2.1075652 ,  0.9859905 ],\n",
       "       [-1.1347455 ,  1.2961309 ],\n",
       "       [ 2.6584108 , -0.3653919 ],\n",
       "       [ 0.9200905 , -1.0695057 ],\n",
       "       [-0.72406733,  0.09594256],\n",
       "       [-1.8656881 ,  0.9353848 ],\n",
       "       [-1.6406779 ,  0.34465486],\n",
       "       [-1.6909304 ,  2.39464   ],\n",
       "       [ 0.93214595, -1.9280672 ],\n",
       "       [ 2.415087  , -0.8942835 ],\n",
       "       [-0.18265787,  0.48206323],\n",
       "       [ 1.936799  , -0.83300316],\n",
       "       [ 2.8296888 ,  0.87180936],\n",
       "       [ 2.4859967 ,  1.3420982 ],\n",
       "       [-1.3989639 ,  0.6037284 ],\n",
       "       [ 0.8410902 , -0.42666566],\n",
       "       [ 0.08548348,  2.571227  ],\n",
       "       [ 0.6389885 ,  1.3362207 ],\n",
       "       [ 1.8472147 ,  1.1490359 ],\n",
       "       [ 0.54185283,  0.9058365 ],\n",
       "       [-0.36701027,  3.2904427 ],\n",
       "       [-1.0603071 ,  0.55723476],\n",
       "       [ 0.5174739 ,  0.7567279 ],\n",
       "       [-2.0740008 ,  2.2299745 ],\n",
       "       [ 2.4688733 , -2.0859215 ],\n",
       "       [ 0.6146702 ,  0.6776202 ],\n",
       "       [ 0.01061802,  0.6236068 ],\n",
       "       [ 2.7555223 ,  0.922177  ],\n",
       "       [-0.51571137,  0.71675944],\n",
       "       [ 1.0735593 , -0.15041691],\n",
       "       [-0.13508558,  2.5101109 ],\n",
       "       [-1.5989403 ,  0.84356207],\n",
       "       [ 1.7001007 ,  1.4912623 ],\n",
       "       [-1.091568  ,  1.9423261 ],\n",
       "       [ 0.59969366, -0.1284188 ],\n",
       "       [ 2.5942738 , -0.5392086 ],\n",
       "       [-0.23010664, -1.5850981 ],\n",
       "       [-0.83390903,  1.2030092 ],\n",
       "       [-2.37964   ,  3.7738872 ],\n",
       "       [-0.6401473 , -0.03067888],\n",
       "       [-0.92653596,  1.9653118 ],\n",
       "       [ 1.7362596 ,  0.21572942],\n",
       "       [ 0.9014129 , -2.3432357 ],\n",
       "       [-0.05646539, -1.5187243 ],\n",
       "       [-0.8310536 ,  1.7958065 ],\n",
       "       [ 1.1957954 , -0.33229044],\n",
       "       [-1.0566244 ,  0.7263276 ],\n",
       "       [ 0.12435686,  1.4191597 ],\n",
       "       [ 3.447986  ,  1.4011595 ],\n",
       "       [ 0.18415692,  0.9883845 ],\n",
       "       [ 1.6571816 ,  1.084578  ],\n",
       "       [-0.17602736,  1.9261786 ],\n",
       "       [-0.24695982,  0.8011705 ],\n",
       "       [ 0.7011657 ,  1.4695868 ],\n",
       "       [-1.2547679 , -1.4530683 ],\n",
       "       [ 0.03266785,  1.3717206 ],\n",
       "       [ 1.6961011 ,  1.5289712 ],\n",
       "       [ 0.59386694, -1.1055722 ],\n",
       "       [ 0.27055585, -0.33309206],\n",
       "       [ 0.6848189 , -0.8877595 ],\n",
       "       [ 0.10999333,  1.4424479 ],\n",
       "       [-1.1325316 ,  1.3708744 ],\n",
       "       [-0.21716881,  0.3412281 ]], dtype=float32)"
      ]
     },
     "execution_count": 33,
     "metadata": {},
     "output_type": "execute_result"
    }
   ],
   "source": [
    "_samples"
   ]
  },
  {
   "cell_type": "code",
   "execution_count": 34,
   "metadata": {
    "ExecuteTime": {
     "end_time": "2018-09-01T07:50:50.780847Z",
     "start_time": "2018-09-01T07:50:50.715911Z"
    }
   },
   "outputs": [
    {
     "data": {
      "text/plain": [
       "[array([[-0.04825972,  1.6681467 ],\n",
       "        [-1.1017684 ,  1.4772418 ],\n",
       "        [ 1.9032845 ,  1.8739713 ],\n",
       "        [ 0.952036  , -1.4666694 ],\n",
       "        [-1.3941865 ,  2.493881  ],\n",
       "        [-0.18121843, -1.3036962 ],\n",
       "        [-1.361677  ,  2.0898554 ],\n",
       "        [-1.7863096 ,  2.6423538 ],\n",
       "        [ 2.5584097 , -1.5798473 ],\n",
       "        [ 2.1330292 , -1.0426351 ],\n",
       "        [ 0.4785167 ,  1.3442143 ],\n",
       "        [-0.8349031 ,  1.2927455 ],\n",
       "        [-1.2139485 ,  0.7711269 ],\n",
       "        [-1.4965838 ,  1.2853804 ],\n",
       "        [ 2.4092393 ,  2.7996662 ],\n",
       "        [ 0.8232765 ,  0.2041724 ],\n",
       "        [ 1.2944108 , -1.527963  ],\n",
       "        [-2.1198728 ,  0.2927999 ],\n",
       "        [ 2.013573  , -0.8611102 ],\n",
       "        [ 0.12205063,  0.802365  ],\n",
       "        [ 0.29903266,  2.6345344 ],\n",
       "        [ 0.80823004, -1.1293293 ],\n",
       "        [-1.5458711 ,  0.2832795 ],\n",
       "        [-1.0067353 ,  2.0859966 ],\n",
       "        [-0.32478535,  0.9064286 ],\n",
       "        [ 2.2341614 , -0.47455287],\n",
       "        [-0.14755844, -0.44172037],\n",
       "        [ 0.9511992 , -0.14620894],\n",
       "        [-0.30935544, -1.145798  ],\n",
       "        [-1.1514264 ,  0.05747353],\n",
       "        [ 2.5238307 , -0.4298    ],\n",
       "        [-0.55417573,  1.9364429 ],\n",
       "        [ 3.4210217 , -1.3371463 ],\n",
       "        [-1.8751786 ,  2.5387046 ],\n",
       "        [ 0.465293  , -0.78879774],\n",
       "        [ 0.57610124, -2.5744257 ],\n",
       "        [ 2.6161888 ,  0.7284671 ],\n",
       "        [ 0.46130216,  0.29799625],\n",
       "        [ 2.1240659 ,  0.46184134],\n",
       "        [ 1.6061637 , -1.5279366 ],\n",
       "        [-0.13351256,  1.2195356 ],\n",
       "        [ 1.2762419 ,  2.414808  ],\n",
       "        [ 0.2285434 , -1.5913504 ],\n",
       "        [ 1.8987665 , -0.54020584],\n",
       "        [ 0.15154481,  2.268891  ],\n",
       "        [ 1.342516  , -1.0551559 ],\n",
       "        [ 0.95834863,  0.6596227 ],\n",
       "        [ 1.3665336 ,  0.10838783],\n",
       "        [ 3.461842  ,  1.2625046 ],\n",
       "        [-1.6492426 ,  2.5772579 ],\n",
       "        [ 1.2622799 ,  1.6241968 ],\n",
       "        [ 2.7774086 , -0.7418337 ],\n",
       "        [ 0.5390655 , -0.45770735],\n",
       "        [ 0.33202553,  2.7931368 ],\n",
       "        [-1.387819  ,  3.604676  ],\n",
       "        [ 0.5297293 ,  1.5448322 ],\n",
       "        [ 2.3716047 , -0.3295542 ],\n",
       "        [ 0.711081  , -0.40447488],\n",
       "        [ 1.8605547 ,  0.15640055],\n",
       "        [-0.24703005,  0.30188826],\n",
       "        [ 1.999719  , -0.21968444],\n",
       "        [-1.2535975 ,  0.5296722 ],\n",
       "        [ 1.6873119 ,  0.68208194],\n",
       "        [ 1.8469195 , -0.6973455 ],\n",
       "        [-0.88091826,  2.5700512 ],\n",
       "        [ 0.45480192, -1.3606218 ],\n",
       "        [ 0.23973814, -0.44496337],\n",
       "        [ 0.6213231 ,  1.491404  ],\n",
       "        [ 2.3846989 , -1.1816261 ],\n",
       "        [ 0.21271557,  1.9094156 ],\n",
       "        [ 0.46580002, -0.04868223],\n",
       "        [-0.9071102 ,  1.5708282 ],\n",
       "        [ 0.48928428, -1.1324126 ],\n",
       "        [ 0.2197737 ,  0.42621967],\n",
       "        [ 2.0985754 , -1.0021194 ],\n",
       "        [ 3.3549886 , -2.041097  ],\n",
       "        [ 1.2609311 , -1.4968306 ],\n",
       "        [-0.11203939,  2.9452553 ],\n",
       "        [ 2.1005483 ,  1.4271195 ],\n",
       "        [ 2.1119132 ,  0.11208439],\n",
       "        [ 3.917854  ,  0.38728446],\n",
       "        [ 1.6190428 ,  0.5807972 ],\n",
       "        [-0.70282507,  0.3896091 ],\n",
       "        [ 2.22845   , -0.11480679],\n",
       "        [ 0.89552206,  3.05497   ],\n",
       "        [-0.6338409 ,  2.0187113 ],\n",
       "        [ 1.7700063 , -0.14357412],\n",
       "        [ 0.896255  ,  0.8239563 ],\n",
       "        [ 1.5442336 , -0.7362232 ],\n",
       "        [ 1.6569895 , -0.7710218 ],\n",
       "        [ 0.69675314, -1.5825562 ],\n",
       "        [ 2.329885  , -0.16294935],\n",
       "        [ 0.7562516 ,  1.7365376 ],\n",
       "        [-1.1149561 ,  2.4583347 ],\n",
       "        [ 1.6340362 ,  1.0806262 ],\n",
       "        [-0.09268446, -0.21662295],\n",
       "        [ 0.70012146,  1.6221955 ],\n",
       "        [-1.4995652 ,  2.0993056 ],\n",
       "        [-0.9497403 ,  3.5920963 ],\n",
       "        [-0.14005618,  0.7553202 ],\n",
       "        [ 1.1750244 ,  0.0611045 ],\n",
       "        [-1.6826622 ,  1.7922112 ],\n",
       "        [-0.34467512,  1.9938616 ],\n",
       "        [-1.1204336 ,  3.931383  ],\n",
       "        [ 0.97970986,  3.0925374 ],\n",
       "        [ 1.203994  , -1.3806257 ],\n",
       "        [-1.1914185 ,  0.10060936],\n",
       "        [-0.928981  ,  1.2979211 ],\n",
       "        [ 0.4470733 , -0.6071366 ],\n",
       "        [ 2.6765234 ,  1.581674  ],\n",
       "        [ 0.02489989, -0.8152055 ],\n",
       "        [ 0.4366926 ,  3.355762  ],\n",
       "        [ 0.46932647,  2.7724023 ],\n",
       "        [-0.3264265 ,  4.018973  ],\n",
       "        [-1.3513491 , -0.5674073 ],\n",
       "        [-0.10710679,  0.26370245],\n",
       "        [ 1.1110867 ,  1.884944  ],\n",
       "        [-0.65708417,  0.51878566],\n",
       "        [ 3.3770566 ,  0.5410984 ],\n",
       "        [-1.4738173 ,  2.2054904 ],\n",
       "        [ 0.95344883, -0.46638197],\n",
       "        [ 0.7730255 ,  0.6861063 ],\n",
       "        [-0.8333621 ,  0.6053062 ],\n",
       "        [-2.1438403 ,  0.2853425 ],\n",
       "        [-1.2725133 ,  2.377437  ],\n",
       "        [ 0.4447492 ,  1.3546717 ],\n",
       "        [ 0.4116273 ,  2.3429034 ],\n",
       "        [-1.3678926 ,  2.7975748 ],\n",
       "        [ 2.3058155 , -2.0316436 ],\n",
       "        [ 2.2134824 ,  1.2201276 ],\n",
       "        [-1.0968752 ,  0.45818442],\n",
       "        [ 1.4401729 ,  0.5256956 ],\n",
       "        [ 1.2888472 , -1.57143   ],\n",
       "        [ 0.96872383, -0.9174266 ],\n",
       "        [ 0.5090743 ,  1.8780696 ],\n",
       "        [-0.9551677 ,  0.00902846],\n",
       "        [ 1.3819963 ,  0.3747379 ],\n",
       "        [ 2.1075652 ,  0.9859905 ],\n",
       "        [-1.1347455 ,  1.2961309 ],\n",
       "        [ 2.6584108 , -0.3653919 ],\n",
       "        [ 0.9200905 , -1.0695057 ],\n",
       "        [-0.72406733,  0.09594256],\n",
       "        [-1.8656881 ,  0.9353848 ],\n",
       "        [-1.6406779 ,  0.34465486],\n",
       "        [-1.6909304 ,  2.39464   ],\n",
       "        [ 0.93214595, -1.9280672 ],\n",
       "        [ 2.415087  , -0.8942835 ],\n",
       "        [-0.18265787,  0.48206323],\n",
       "        [ 1.936799  , -0.83300316],\n",
       "        [ 2.8296888 ,  0.87180936],\n",
       "        [ 2.4859967 ,  1.3420982 ],\n",
       "        [-1.3989639 ,  0.6037284 ],\n",
       "        [ 0.8410902 , -0.42666566],\n",
       "        [ 0.08548348,  2.571227  ],\n",
       "        [ 0.6389885 ,  1.3362207 ],\n",
       "        [ 1.8472147 ,  1.1490359 ],\n",
       "        [ 0.54185283,  0.9058365 ],\n",
       "        [-0.36701027,  3.2904427 ],\n",
       "        [-1.0603071 ,  0.55723476],\n",
       "        [ 0.5174739 ,  0.7567279 ],\n",
       "        [-2.0740008 ,  2.2299745 ],\n",
       "        [ 2.4688733 , -2.0859215 ],\n",
       "        [ 0.6146702 ,  0.6776202 ],\n",
       "        [ 0.01061802,  0.6236068 ],\n",
       "        [ 2.7555223 ,  0.922177  ],\n",
       "        [-0.51571137,  0.71675944],\n",
       "        [ 1.0735593 , -0.15041691],\n",
       "        [-0.13508558,  2.5101109 ],\n",
       "        [ 1.0576442 ,  2.0823784 ],\n",
       "        [ 1.7001007 ,  1.4912623 ],\n",
       "        [-1.091568  ,  1.9423261 ],\n",
       "        [ 0.59969366, -0.1284188 ],\n",
       "        [ 2.5942738 , -0.5392086 ],\n",
       "        [-0.23010664, -1.5850981 ],\n",
       "        [-0.83390903,  1.2030092 ],\n",
       "        [-2.37964   ,  3.7738872 ],\n",
       "        [-0.6401473 , -0.03067888],\n",
       "        [-0.92653596,  1.9653118 ],\n",
       "        [ 1.7362596 ,  0.21572942],\n",
       "        [ 0.9014129 , -2.3432357 ],\n",
       "        [-0.05646539, -1.5187243 ],\n",
       "        [-0.8310536 ,  1.7958065 ],\n",
       "        [ 1.1957954 , -0.33229044],\n",
       "        [-1.0566244 ,  0.7263276 ],\n",
       "        [ 0.12435686,  1.4191597 ],\n",
       "        [ 3.447986  ,  1.4011595 ],\n",
       "        [ 0.18415692,  0.9883845 ],\n",
       "        [ 1.6571816 ,  1.084578  ],\n",
       "        [-0.17602736,  1.9261786 ],\n",
       "        [-0.24695982,  0.8011705 ],\n",
       "        [ 0.7011657 ,  1.4695868 ],\n",
       "        [-1.2547679 , -1.4530683 ],\n",
       "        [ 0.03266785,  1.3717206 ],\n",
       "        [ 1.6961011 ,  1.5289712 ],\n",
       "        [ 0.59386694, -1.1055722 ],\n",
       "        [ 0.27055585, -0.33309206],\n",
       "        [ 0.6848189 , -0.8877595 ],\n",
       "        [ 0.10999333,  1.4424479 ],\n",
       "        [-1.1325316 ,  1.3708744 ],\n",
       "        [-0.21716881,  0.3412281 ]], dtype=float32)]"
      ]
     },
     "execution_count": 34,
     "metadata": {},
     "output_type": "execute_result"
    }
   ],
   "source": [
    "_samples1"
   ]
  },
  {
   "cell_type": "code",
   "execution_count": 10,
   "metadata": {
    "ExecuteTime": {
     "end_time": "2018-09-01T07:43:20.372229Z",
     "start_time": "2018-09-01T07:42:49.563320Z"
    }
   },
   "outputs": [
    {
     "name": "stdout",
     "output_type": "stream",
     "text": [
      "---------------------------------------------------------------------------\n",
      "    STEP     TEMP  LOSS   TUNN %   ACCEPT %     LR    STEP SIZE   LENGTH  \n",
      "---------------------------------------------------------------------------\n"
     ]
    },
    {
     "ename": "IndexError",
     "evalue": "too many indices for array",
     "output_type": "error",
     "traceback": [
      "\u001b[0;31m---------------------------------------------------------------------------\u001b[0m",
      "\u001b[0;31mIndexError\u001b[0m                                Traceback (most recent call last)",
      "\u001b[0;32m<ipython-input-10-4f2f9bb07664>\u001b[0m in \u001b[0;36m<module>\u001b[0;34m()\u001b[0m\n\u001b[0;32m----> 1\u001b[0;31m \u001b[0mmodel\u001b[0m\u001b[0;34m.\u001b[0m\u001b[0mtrain\u001b[0m\u001b[0;34m(\u001b[0m\u001b[0mparams\u001b[0m\u001b[0;34m[\u001b[0m\u001b[0;34m'num_training_steps'\u001b[0m\u001b[0;34m]\u001b[0m\u001b[0;34m)\u001b[0m\u001b[0;34m\u001b[0m\u001b[0m\n\u001b[0m",
      "\u001b[0;32m~/ANL/l2hmc/l2hmc/mog_model.py\u001b[0m in \u001b[0;36mtrain\u001b[0;34m(self, num_train_steps)\u001b[0m\n\u001b[1;32m    886\u001b[0m                 \u001b[0m_tdata\u001b[0m \u001b[0;34m=\u001b[0m \u001b[0;34m[\u001b[0m\u001b[0m_samples\u001b[0m\u001b[0;34m,\u001b[0m \u001b[0mloss_\u001b[0m\u001b[0;34m,\u001b[0m \u001b[0mpx_\u001b[0m\u001b[0;34m]\u001b[0m\u001b[0;34m\u001b[0m\u001b[0m\n\u001b[1;32m    887\u001b[0m                 _ret_vals = self.get_tunneling_rates(step, self.temp, ns, ttl,\n\u001b[0;32m--> 888\u001b[0;31m                                                      trajectory_data=_tdata)\n\u001b[0m\u001b[1;32m    889\u001b[0m                 \u001b[0m_td\u001b[0m\u001b[0;34m,\u001b[0m \u001b[0m_tr\u001b[0m\u001b[0;34m,\u001b[0m \u001b[0m_ar\u001b[0m\u001b[0;34m,\u001b[0m \u001b[0m_ad\u001b[0m \u001b[0;34m=\u001b[0m \u001b[0m_ret_vals\u001b[0m\u001b[0;34m\u001b[0m\u001b[0m\n\u001b[1;32m    890\u001b[0m \u001b[0;34m\u001b[0m\u001b[0m\n",
      "\u001b[0;32m~/ANL/l2hmc/l2hmc/mog_model.py\u001b[0m in \u001b[0;36mget_tunneling_rates\u001b[0;34m(self, step, temp, num_samples, num_steps, trajectory_data)\u001b[0m\n\u001b[1;32m    525\u001b[0m         \u001b[0;31m# accept_rates[0] = average acceptance rate from ar\u001b[0m\u001b[0;34m\u001b[0m\u001b[0;34m\u001b[0m\u001b[0m\n\u001b[1;32m    526\u001b[0m         \u001b[0;31m# accept_rates[1] = average acceptance rate error from ar\u001b[0m\u001b[0;34m\u001b[0m\u001b[0;34m\u001b[0m\u001b[0m\n\u001b[0;32m--> 527\u001b[0;31m         \u001b[0mtunn_rates\u001b[0m\u001b[0;34m,\u001b[0m \u001b[0maccept_rates\u001b[0m \u001b[0;34m=\u001b[0m \u001b[0mself\u001b[0m\u001b[0;34m.\u001b[0m\u001b[0m_calc_tunneling_info\u001b[0m\u001b[0;34m(\u001b[0m\u001b[0mtrajectory_data\u001b[0m\u001b[0;34m)\u001b[0m\u001b[0;34m\u001b[0m\u001b[0m\n\u001b[0m\u001b[1;32m    528\u001b[0m \u001b[0;34m\u001b[0m\u001b[0m\n\u001b[1;32m    529\u001b[0m         \u001b[0;31m# avg_distances[0] = average distance traveled over all trajectories\u001b[0m\u001b[0;34m\u001b[0m\u001b[0;34m\u001b[0m\u001b[0m\n",
      "\u001b[0;32m~/ANL/l2hmc/l2hmc/mog_model.py\u001b[0m in \u001b[0;36m_calc_tunneling_info\u001b[0;34m(self, trajectory_data)\u001b[0m\n\u001b[1;32m    499\u001b[0m         \"\"\"\n\u001b[1;32m    500\u001b[0m         \u001b[0;31m# trajectories are contained in trajectory_data[0]\u001b[0m\u001b[0;34m\u001b[0m\u001b[0;34m\u001b[0m\u001b[0m\n\u001b[0;32m--> 501\u001b[0;31m         \u001b[0mtunneling_rates\u001b[0m \u001b[0;34m=\u001b[0m \u001b[0mself\u001b[0m\u001b[0;34m.\u001b[0m\u001b[0m_calc_tunneling_rates\u001b[0m\u001b[0;34m(\u001b[0m\u001b[0mtrajectory_data\u001b[0m\u001b[0;34m[\u001b[0m\u001b[0;36m0\u001b[0m\u001b[0;34m]\u001b[0m\u001b[0;34m)\u001b[0m\u001b[0;34m\u001b[0m\u001b[0m\n\u001b[0m\u001b[1;32m    502\u001b[0m         \u001b[0;31m#  Calculate the average value and error of tunneling rates\u001b[0m\u001b[0;34m\u001b[0m\u001b[0;34m\u001b[0m\u001b[0m\n\u001b[1;32m    503\u001b[0m         \u001b[0mtunn_avg_err\u001b[0m \u001b[0;34m=\u001b[0m \u001b[0mcalc_avg_vals_errors\u001b[0m\u001b[0;34m(\u001b[0m\u001b[0mtunneling_rates\u001b[0m\u001b[0;34m,\u001b[0m \u001b[0mnum_blocks\u001b[0m\u001b[0;34m=\u001b[0m\u001b[0;36m100\u001b[0m\u001b[0;34m)\u001b[0m\u001b[0;34m\u001b[0m\u001b[0m\n",
      "\u001b[0;32m~/ANL/l2hmc/l2hmc/mog_model.py\u001b[0m in \u001b[0;36m_calc_tunneling_rates\u001b[0;34m(self, trajectories)\u001b[0m\n\u001b[1;32m    472\u001b[0m         \u001b[0mtunneling_rates\u001b[0m \u001b[0;34m=\u001b[0m \u001b[0;34m[\u001b[0m\u001b[0;34m]\u001b[0m\u001b[0;34m\u001b[0m\u001b[0m\n\u001b[1;32m    473\u001b[0m         \u001b[0;32mfor\u001b[0m \u001b[0mi\u001b[0m \u001b[0;32min\u001b[0m \u001b[0mrange\u001b[0m\u001b[0;34m(\u001b[0m\u001b[0mtrajectories\u001b[0m\u001b[0;34m.\u001b[0m\u001b[0mshape\u001b[0m\u001b[0;34m[\u001b[0m\u001b[0;36m1\u001b[0m\u001b[0;34m]\u001b[0m\u001b[0;34m)\u001b[0m\u001b[0;34m:\u001b[0m\u001b[0;34m\u001b[0m\u001b[0m\n\u001b[0;32m--> 474\u001b[0;31m             rate = calc_tunneling_rate(trajectories[:, i, :], self.means,\n\u001b[0m\u001b[1;32m    475\u001b[0m                                          self.num_distributions)\n\u001b[1;32m    476\u001b[0m             \u001b[0mtunneling_rates\u001b[0m\u001b[0;34m.\u001b[0m\u001b[0mappend\u001b[0m\u001b[0;34m(\u001b[0m\u001b[0mrate\u001b[0m\u001b[0;34m)\u001b[0m\u001b[0;34m\u001b[0m\u001b[0m\n",
      "\u001b[0;31mIndexError\u001b[0m: too many indices for array"
     ]
    }
   ],
   "source": [
    "model.train(params['num_training_steps'])"
   ]
  },
  {
   "cell_type": "code",
   "execution_count": null,
   "metadata": {},
   "outputs": [],
   "source": []
  },
  {
   "cell_type": "markdown",
   "metadata": {
    "heading_collapsed": true
   },
   "source": [
    "### Less old"
   ]
  },
  {
   "cell_type": "code",
   "execution_count": null,
   "metadata": {
    "ExecuteTime": {
     "end_time": "2018-08-23T19:23:27.888456Z",
     "start_time": "2018-08-23T19:23:27.846444Z"
    },
    "hidden": true
   },
   "outputs": [],
   "source": [
    "for key in model.tunneling_rates_highT.keys():\n",
    "    #print(f'Step num: {key[0]}')\n",
    "    #print(f'Temp: {key[1]}')\n",
    "    model.steps_arr.append(key[0])\n",
    "    model.temp_arr.append(key[1])\n",
    "    #model.temp_arr.append(key[1])"
   ]
  },
  {
   "cell_type": "code",
   "execution_count": null,
   "metadata": {
    "ExecuteTime": {
     "end_time": "2018-08-23T19:28:03.523020Z",
     "start_time": "2018-08-23T19:28:03.416812Z"
    },
    "hidden": true
   },
   "outputs": [],
   "source": [
    "for idx in range(len(model.steps_arr)):\n",
    "    model.steps_arr[idx] += 1"
   ]
  },
  {
   "cell_type": "code",
   "execution_count": null,
   "metadata": {
    "ExecuteTime": {
     "end_time": "2018-08-23T19:28:07.306904Z",
     "start_time": "2018-08-23T19:28:07.225387Z"
    },
    "hidden": true
   },
   "outputs": [],
   "source": [
    "model.steps_arr"
   ]
  },
  {
   "cell_type": "code",
   "execution_count": null,
   "metadata": {
    "ExecuteTime": {
     "end_time": "2018-08-23T19:27:00.712375Z",
     "start_time": "2018-08-23T19:27:00.616409Z"
    },
    "hidden": true
   },
   "outputs": [],
   "source": [
    "for key, val in model.tunneling_rates.items():\n",
    "    model.tunneling_rates_avg.append(val[0])\n",
    "    model.tunneling_rates_err.append(val[1])\n",
    "for key, val in model.tunneling_rates_highT.items():\n",
    "    model.tunneling_rates_avg_highT.append(val[0])\n",
    "    model.tunneling_rates_err_highT.append(val[1])\n",
    "    \n",
    "for key, val in model.acceptance_rates.items():\n",
    "    model.acceptance_rates_avg.append(val[0])\n",
    "    model.acceptance_rates_err.append(val[1])\n",
    "for key, val in model.acceptance_rates_highT.items():\n",
    "    model.acceptance_rates_avg_highT.append(val[0])\n",
    "    model.acceptance_rates_err_highT.append(val[1])\n",
    "    \n",
    "for key, val in model.distances.items():\n",
    "    model.distances_avg.append(val[0])\n",
    "    model.distances_err.append(val[1])\n",
    "for key, val in model.distances_highT.items():\n",
    "    model.distances_avg_highT.append(val[0])\n",
    "    model.distances_err_highT.append(val[1])"
   ]
  },
  {
   "cell_type": "code",
   "execution_count": null,
   "metadata": {
    "ExecuteTime": {
     "end_time": "2018-08-23T19:30:04.842141Z",
     "start_time": "2018-08-23T19:30:04.691551Z"
    },
    "hidden": true
   },
   "outputs": [],
   "source": [
    "model._save_variables()"
   ]
  },
  {
   "cell_type": "code",
   "execution_count": null,
   "metadata": {
    "ExecuteTime": {
     "end_time": "2018-08-23T19:33:00.029883Z",
     "start_time": "2018-08-23T19:32:59.960970Z"
    },
    "hidden": true
   },
   "outputs": [],
   "source": [
    "model._init_params(params)"
   ]
  },
  {
   "cell_type": "code",
   "execution_count": null,
   "metadata": {
    "ExecuteTime": {
     "end_time": "2018-08-23T19:33:27.096296Z",
     "start_time": "2018-08-23T19:33:27.020280Z"
    },
    "hidden": true
   },
   "outputs": [],
   "source": [
    "model._load_variables()"
   ]
  },
  {
   "cell_type": "code",
   "execution_count": null,
   "metadata": {
    "ExecuteTime": {
     "end_time": "2018-08-23T19:33:31.987060Z",
     "start_time": "2018-08-23T19:33:31.882622Z"
    },
    "hidden": true
   },
   "outputs": [],
   "source": [
    "model.steps_arr"
   ]
  },
  {
   "cell_type": "code",
   "execution_count": null,
   "metadata": {
    "ExecuteTime": {
     "end_time": "2018-08-23T19:35:19.681799Z",
     "start_time": "2018-08-23T19:35:19.559542Z"
    },
    "hidden": true
   },
   "outputs": [],
   "source": [
    "model.tunneling_rates"
   ]
  },
  {
   "cell_type": "code",
   "execution_count": null,
   "metadata": {
    "ExecuteTime": {
     "end_time": "2018-08-23T19:36:57.794634Z",
     "start_time": "2018-08-23T19:36:57.750938Z"
    },
    "hidden": true
   },
   "outputs": [],
   "source": [
    "import os"
   ]
  },
  {
   "cell_type": "code",
   "execution_count": null,
   "metadata": {
    "ExecuteTime": {
     "end_time": "2018-08-23T19:48:26.866990Z",
     "start_time": "2018-08-23T19:48:26.754670Z"
    },
    "hidden": true
   },
   "outputs": [],
   "source": [
    "model.__dict__.keys()"
   ]
  },
  {
   "cell_type": "code",
   "execution_count": null,
   "metadata": {
    "ExecuteTime": {
     "end_time": "2018-08-23T20:23:21.198691Z",
     "start_time": "2018-08-23T20:23:21.122688Z"
    },
    "hidden": true
   },
   "outputs": [],
   "source": [
    "get_vals_as_arr = lambda _dict: np.array(list(_dict.values()))\n",
    "tr = get_vals_as_arr(model.tunneling_rates)\n",
    "ar = get_vals_as_arr(model.acceptance_rates)\n",
    "dr = get_vals_as_arr(model.distances)\n",
    "#np.array(list(model.tunneling_rates.values()))"
   ]
  },
  {
   "cell_type": "code",
   "execution_count": null,
   "metadata": {
    "ExecuteTime": {
     "end_time": "2018-08-23T19:39:33.110389Z",
     "start_time": "2018-08-23T19:39:33.027299Z"
    },
    "hidden": true
   },
   "outputs": [],
   "source": [
    "for key in model.attrs_dict.keys():\n",
    "    in_file = model.info_dir + key + '.npy'\n",
    "    if os.path.isfile(in_file):\n",
    "        setattr(model, key, np.load(in_file))\n",
    "        print(f'Set model.{key} to values read in from: {in_file}')\n",
    "        #print(model.key == np.load(in_file))"
   ]
  },
  {
   "cell_type": "code",
   "execution_count": null,
   "metadata": {
    "ExecuteTime": {
     "end_time": "2018-08-23T19:33:16.809532Z",
     "start_time": "2018-08-23T19:33:15.602881Z"
    },
    "hidden": true
   },
   "outputs": [],
   "source": [
    "model.sess.run(tf.global_variables_initializer())"
   ]
  },
  {
   "cell_type": "code",
   "execution_count": null,
   "metadata": {
    "ExecuteTime": {
     "end_time": "2018-08-23T19:31:33.953572Z",
     "start_time": "2018-08-23T19:31:33.821989Z"
    },
    "hidden": true
   },
   "outputs": [],
   "source": [
    "attrs_dict = model.attrs_dict"
   ]
  },
  {
   "cell_type": "code",
   "execution_count": null,
   "metadata": {
    "ExecuteTime": {
     "end_time": "2018-08-23T19:31:58.224731Z",
     "start_time": "2018-08-23T19:31:58.154395Z"
    },
    "hidden": true
   },
   "outputs": [],
   "source": [
    "attrs_dict['steps_arr']"
   ]
  },
  {
   "cell_type": "code",
   "execution_count": null,
   "metadata": {
    "ExecuteTime": {
     "end_time": "2018-08-23T11:27:13.271117Z",
     "start_time": "2018-08-23T11:18:53.290551Z"
    },
    "hidden": true,
    "scrolled": true
   },
   "outputs": [],
   "source": [
    "model.train(params['num_training_steps'], plot=True)"
   ]
  },
  {
   "cell_type": "markdown",
   "metadata": {
    "heading_collapsed": true
   },
   "source": [
    "## OLD"
   ]
  },
  {
   "cell_type": "code",
   "execution_count": null,
   "metadata": {
    "ExecuteTime": {
     "end_time": "2018-08-23T08:15:24.000366Z",
     "start_time": "2018-08-23T08:15:17.169863Z"
    },
    "hidden": true
   },
   "outputs": [],
   "source": [
    "#trajectories, loss_arr, px_arr = model.generate_trajectories(num_samples=100, num_steps=100, temperature=1.)\n",
    "\n",
    "#config = tf.ConfigProto(log_device_placement=True)\n",
    "#config = tf.ConfigProto()\n",
    "#config.gpu_options.allow_growth = True\n",
    "#model.build_graph()"
   ]
  },
  {
   "cell_type": "code",
   "execution_count": null,
   "metadata": {
    "ExecuteTime": {
     "end_time": "2018-08-23T09:07:55.724709Z",
     "start_time": "2018-08-23T09:07:55.650082Z"
    },
    "hidden": true
   },
   "outputs": [],
   "source": [
    "def calc_avg_distance1(trajectories):\n",
    "    distances_arr = []\n",
    "    for trajectory in trajectories:\n",
    "        distance_arr = []\n",
    "        for idx in range(1, len(trajectory)):\n",
    "            diff = trajectory[idx] - trajectory[idx-1]\n",
    "            dist = np.sqrt(np.dot(diff, diff.T))\n",
    "            distance_arr.append(dist)\n",
    "        distances_arr.append(sum(distance_arr))\n",
    "    return np.mean(distances_arr)\n",
    "\n",
    "def calc_avg_distance2(trajectories):\n",
    "    dist = lambda d: np.sqrt(np.dot(d, d.T))\n",
    "    #distances_arr = np.mean([[dist(d) for d in [t[:-1, :] - t[1:, :] for t in trajectories]]\n",
    "    #for trajectory in trajectories:\n",
    "        diff = trajectory[:-1, :] - trajectory[1:, :]\n",
    "        distance = sum([np.sqrt(np.dot(d, d.T)) for d in diff])\n",
    "        distances_arr.append(distance)\n",
    "    return np.mean(distances_arr)"
   ]
  },
  {
   "cell_type": "code",
   "execution_count": null,
   "metadata": {
    "ExecuteTime": {
     "end_time": "2018-08-23T09:08:01.000577Z",
     "start_time": "2018-08-23T09:07:58.231599Z"
    },
    "hidden": true
   },
   "outputs": [],
   "source": [
    "%timeit avg_dist = avg_distance_traveled(trajectories.transpose([1,0,2]))\n",
    "#print(avg_dist)\n",
    "\n",
    "%timeit avg_dist1 = calc_avg_distance1(trajectories.transpose([1,0,2]))\n",
    "#print(avg_dist1)\n",
    "\n",
    "%timeit avg_dist2 = calc_avg_distance2(trajectories.transpose([1,0,2]))\n",
    "#print(avg_dist2)\n",
    "\n",
    "distances = np.array([np.sqrt(np.dot(disp, disp.T)) for disp in displacements])"
   ]
  },
  {
   "cell_type": "code",
   "execution_count": null,
   "metadata": {
    "ExecuteTime": {
     "end_time": "2018-08-23T05:03:23.757609Z",
     "start_time": "2018-08-23T04:52:39.043000Z"
    },
    "hidden": true
   },
   "outputs": [],
   "source": [
    "model.train(params['num_training_steps'], config=config, plot=True)\n",
    "\n",
    "config = tf.ConfigProto(log_device_placement=True)\n",
    "config.gpu_options.allow_growth = True\n",
    "model.build_graph()\n",
    "model.train(params['num_training_steps'], config=config, plot=False)"
   ]
  },
  {
   "cell_type": "code",
   "execution_count": null,
   "metadata": {
    "hidden": true
   },
   "outputs": [],
   "source": []
  }
 ],
 "metadata": {
  "hide_input": false,
  "kernelspec": {
   "display_name": "Python 3",
   "language": "python",
   "name": "python3"
  },
  "language_info": {
   "codemirror_mode": {
    "name": "ipython",
    "version": 3
   },
   "file_extension": ".py",
   "mimetype": "text/x-python",
   "name": "python",
   "nbconvert_exporter": "python",
   "pygments_lexer": "ipython3",
   "version": "3.6.5"
  },
  "latex_envs": {
   "LaTeX_envs_menu_present": true,
   "autoclose": false,
   "autocomplete": true,
   "bibliofile": "biblio.bib",
   "cite_by": "apalike",
   "current_citInitial": 1,
   "eqLabelWithNumbers": true,
   "eqNumInitial": 1,
   "hotkeys": {
    "equation": "Ctrl-E",
    "itemize": "Ctrl-I"
   },
   "labels_anchors": false,
   "latex_user_defs": false,
   "report_style_numbering": false,
   "user_envs_cfg": false
  },
  "varInspector": {
   "cols": {
    "lenName": 16,
    "lenType": 16,
    "lenVar": 40
   },
   "kernels_config": {
    "python": {
     "delete_cmd_postfix": "",
     "delete_cmd_prefix": "del ",
     "library": "var_list.py",
     "varRefreshCmd": "print(var_dic_list())"
    },
    "r": {
     "delete_cmd_postfix": ") ",
     "delete_cmd_prefix": "rm(",
     "library": "var_list.r",
     "varRefreshCmd": "cat(var_dic_list()) "
    }
   },
   "types_to_exclude": [
    "module",
    "function",
    "builtin_function_or_method",
    "instance",
    "_Feature"
   ],
   "window_display": false
  }
 },
 "nbformat": 4,
 "nbformat_minor": 2
}
